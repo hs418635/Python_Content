{
 "cells": [
  {
   "cell_type": "markdown",
   "id": "13157286",
   "metadata": {},
   "source": [
    "**Question:**\n",
    "Reading a File:\n",
    "Write a Python program to read the content of a text file named `example.txt` and display it."
   ]
  },
  {
   "cell_type": "code",
   "execution_count": null,
   "id": "703fab51",
   "metadata": {},
   "outputs": [],
   "source": [
    "# Answer\n",
    "with open('example.txt', 'r') as file:\n",
    "    content = file.read()\n",
    "    print(content)\n",
    "    "
   ]
  },
  {
   "cell_type": "markdown",
   "id": "a54a81b6",
   "metadata": {},
   "source": [
    "**Question:**\n",
    "Writing to a File:\n",
    "Write a Python program to write \"Hello, World!\" to a new file named `hello.txt`."
   ]
  },
  {
   "cell_type": "code",
   "execution_count": null,
   "id": "aea9af45",
   "metadata": {},
   "outputs": [],
   "source": [
    "# Answer\n",
    "with open('hello.txt', 'w') as file:\n",
    "    file.write(\"Hello, World!\")\n",
    "    "
   ]
  },
  {
   "cell_type": "markdown",
   "id": "ee0f97c5",
   "metadata": {},
   "source": [
    "**Question:**\n",
    "Appending to a File:\n",
    "Write a Python program to append the line \"This is an appended line.\" to the file `hello.txt`."
   ]
  },
  {
   "cell_type": "code",
   "execution_count": null,
   "id": "4b224662",
   "metadata": {},
   "outputs": [],
   "source": [
    "# Answer\n",
    "with open('hello.txt', 'a') as file:\n",
    "    file.write(\"\\nThis is an appended line.\")\n",
    "    "
   ]
  },
  {
   "cell_type": "markdown",
   "id": "a62767f3",
   "metadata": {},
   "source": [
    "**Question:**\n",
    "Copying a File:\n",
    "Write a Python program to copy the content of `example.txt` to a new file named `example_copy.txt`."
   ]
  },
  {
   "cell_type": "code",
   "execution_count": null,
   "id": "48fe3bd0",
   "metadata": {},
   "outputs": [],
   "source": [
    "# Answer\n",
    "with open('example.txt', 'r') as source_file:\n",
    "    content = source_file.read()\n",
    "\n",
    "with open('example_copy.txt', 'w') as dest_file:\n",
    "    dest_file.write(content)\n",
    "    "
   ]
  },
  {
   "cell_type": "markdown",
   "id": "576de15b",
   "metadata": {},
   "source": [
    "**Question:**\n",
    "Reading Specific Lines:\n",
    "Write a Python program to read the first 5 lines of a file named `example.txt`."
   ]
  },
  {
   "cell_type": "code",
   "execution_count": null,
   "id": "0ee14ae5",
   "metadata": {},
   "outputs": [],
   "source": [
    "# Answer\n",
    "with open('example.txt', 'r') as file:\n",
    "    for _ in range(5):\n",
    "        line = file.readline()\n",
    "        if not line:\n",
    "            break\n",
    "        print(line.strip())\n",
    "    "
   ]
  },
  {
   "cell_type": "markdown",
   "id": "0a17aab9",
   "metadata": {},
   "source": [
    "**Question:**\n",
    "Counting Lines:\n",
    "Write a Python program to count the number of lines in a file named `example.txt`."
   ]
  },
  {
   "cell_type": "code",
   "execution_count": null,
   "id": "8b60faa9",
   "metadata": {},
   "outputs": [],
   "source": [
    "# Answer\n",
    "with open('example.txt', 'r') as file:\n",
    "    line_count = sum(1 for line in file)\n",
    "print(f\"Number of lines: {line_count}\")\n",
    "    "
   ]
  },
  {
   "cell_type": "markdown",
   "id": "3e001b23",
   "metadata": {},
   "source": [
    "**Question:**\n",
    "Counting Words:\n",
    "Write a Python program to count the number of words in a file named `example.txt`."
   ]
  },
  {
   "cell_type": "code",
   "execution_count": null,
   "id": "c0736f63",
   "metadata": {},
   "outputs": [],
   "source": [
    "# Answer\n",
    "with open('example.txt', 'r') as file:\n",
    "    words = file.read().split()\n",
    "    word_count = len(words)\n",
    "print(f\"Number of words: {word_count}\")\n",
    "    "
   ]
  },
  {
   "cell_type": "markdown",
   "id": "6506027a",
   "metadata": {},
   "source": [
    "**Question:**\n",
    "Counting Characters:\n",
    "Write a Python program to count the number of characters in a file named `example.txt`."
   ]
  },
  {
   "cell_type": "code",
   "execution_count": null,
   "id": "39303d81",
   "metadata": {},
   "outputs": [],
   "source": [
    "# Answer\n",
    "with open('example.txt', 'r') as file:\n",
    "    content = file.read()\n",
    "    char_count = len(content)\n",
    "print(f\"Number of characters: {char_count}\")\n",
    "    "
   ]
  },
  {
   "cell_type": "markdown",
   "id": "164139d4",
   "metadata": {},
   "source": [
    "**Question:**\n",
    "Removing Blank Lines:\n",
    "Write a Python program to remove all blank lines from a file named `example.txt`."
   ]
  },
  {
   "cell_type": "code",
   "execution_count": null,
   "id": "2f654da7",
   "metadata": {},
   "outputs": [],
   "source": [
    "# Answer\n",
    "with open('example.txt', 'r') as file:\n",
    "    lines = file.readlines()\n",
    "\n",
    "with open('example.txt', 'w') as file:\n",
    "    for line in lines:\n",
    "        if line.strip():\n",
    "            file.write(line)\n",
    "    "
   ]
  },
  {
   "cell_type": "markdown",
   "id": "bbbe1f2e",
   "metadata": {},
   "source": [
    "**Question:**\n",
    "Reading a File in Reverse:\n",
    "Write a Python program to read a file named `example.txt` in reverse order (line by line)."
   ]
  },
  {
   "cell_type": "code",
   "execution_count": null,
   "id": "cdeb5880",
   "metadata": {},
   "outputs": [],
   "source": [
    "# Answer\n",
    "with open('example.txt', 'r') as file:\n",
    "    lines = file.readlines()\n",
    "for line in reversed(lines):\n",
    "    print(line.strip())\n",
    "    "
   ]
  },
  {
   "cell_type": "markdown",
   "id": "d179e62a",
   "metadata": {},
   "source": [
    "**Question:**\n",
    "Finding the Longest Word:\n",
    "Write a Python program to find the longest word in a file named `example.txt`."
   ]
  },
  {
   "cell_type": "code",
   "execution_count": null,
   "id": "648220c3",
   "metadata": {},
   "outputs": [],
   "source": [
    "# Answer\n",
    "with open('example.txt', 'r') as file:\n",
    "    words = file.read().split()\n",
    "    longest_word = max(words, key=len)\n",
    "print(f\"Longest word: {longest_word}\")\n",
    "    "
   ]
  },
  {
   "cell_type": "markdown",
   "id": "9f030548",
   "metadata": {},
   "source": [
    "**Question:**\n",
    "Replacing a Word:\n",
    "Write a Python program to replace the word \"old\" with \"new\" in a file named `example.txt`."
   ]
  },
  {
   "cell_type": "code",
   "execution_count": null,
   "id": "45b1e182",
   "metadata": {},
   "outputs": [],
   "source": [
    "# Answer\n",
    "with open('example.txt', 'r') as file:\n",
    "    content = file.read()\n",
    "content = content.replace('old', 'new')\n",
    "with open('example.txt', 'w') as file:\n",
    "    file.write(content)\n",
    "    "
   ]
  },
  {
   "cell_type": "markdown",
   "id": "09ae4ffa",
   "metadata": {},
   "source": [
    "**Question:**\n",
    "Merging Two Files:\n",
    "Write a Python program to merge the content of `file1.txt` and `file2.txt` into a new file named `merged.txt`."
   ]
  },
  {
   "cell_type": "code",
   "execution_count": null,
   "id": "efcc9465",
   "metadata": {},
   "outputs": [],
   "source": [
    "# Answer\n",
    "with open('file1.txt', 'r') as file1, open('file2.txt', 'r') as file2:\n",
    "    content1 = file1.read()\n",
    "    content2 = file2.read()\n",
    "\n",
    "with open('merged.txt', 'w') as merged_file:\n",
    "    merged_file.write(content1 + '\\n' + content2)\n",
    "    "
   ]
  },
  {
   "cell_type": "markdown",
   "id": "683869d7",
   "metadata": {},
   "source": [
    "**Question:**\n",
    "Reading a File Line by Line:\n",
    "Write a Python program to read a file line by line and store each line in a list."
   ]
  },
  {
   "cell_type": "code",
   "execution_count": null,
   "id": "79fff088",
   "metadata": {},
   "outputs": [],
   "source": [
    "# Answer\n",
    "lines = []\n",
    "with open('example.txt', 'r') as file:\n",
    "    for line in file:\n",
    "        lines.append(line.strip())\n",
    "print(lines)\n",
    "    "
   ]
  },
  {
   "cell_type": "markdown",
   "id": "59db94e2",
   "metadata": {},
   "source": [
    "**Question:**\n",
    "Writing a List to a File:\n",
    "Write a Python program to write a list of strings to a file named `list_output.txt`."
   ]
  },
  {
   "cell_type": "code",
   "execution_count": null,
   "id": "0a33d926",
   "metadata": {},
   "outputs": [],
   "source": [
    "# Answer\n",
    "lines = [\"Line 1\", \"Line 2\", \"Line 3\"]\n",
    "with open('list_output.txt', 'w') as file:\n",
    "    for line in lines:\n",
    "        file.write(line + '\\n')\n",
    "    "
   ]
  }
 ],
 "metadata": {},
 "nbformat": 4,
 "nbformat_minor": 5
}
