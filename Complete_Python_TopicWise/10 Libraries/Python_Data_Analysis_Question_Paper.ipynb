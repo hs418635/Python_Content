{
 "cells": [
  {
   "cell_type": "markdown",
   "id": "57fdbe71",
   "metadata": {},
   "source": [
    "### **Section A: Theory Questions**"
   ]
  },
  {
   "cell_type": "markdown",
   "id": "b06c4099",
   "metadata": {},
   "source": [
    "#### **NumPy**"
   ]
  },
  {
   "cell_type": "markdown",
   "id": "989820de",
   "metadata": {},
   "source": [
    "**1. Explain the differences between a Python list and a NumPy array.**"
   ]
  },
  {
   "cell_type": "markdown",
   "id": "c7179326",
   "metadata": {},
   "source": [
    "\n",
    "**Answer:**\n",
    "\n",
    "- **Python List:**\n",
    "  - A Python list can hold elements of different data types (integers, strings, floats, etc.).\n",
    "  - Lists are not optimized for numerical operations.\n",
    "  - Lists are part of the standard Python library.\n",
    "\n",
    "- **NumPy Array:**\n",
    "  - A NumPy array can only hold elements of the same data type, which makes them more efficient for numerical operations.\n",
    "  - Arrays are optimized for mathematical operations, which can be done element-wise, making them faster than lists.\n",
    "  - NumPy provides a wide range of functions for operations on arrays, including mathematical, logical, shape manipulation, and more.\n"
   ]
  },
  {
   "cell_type": "markdown",
   "id": "53058a73",
   "metadata": {},
   "source": [
    "**2. Describe how broadcasting works in NumPy. Provide an example.**"
   ]
  },
  {
   "cell_type": "markdown",
   "id": "85d11985",
   "metadata": {},
   "source": [
    "\n",
    "**Answer:**\n",
    "\n",
    "- **Broadcasting** is a method that allows NumPy to perform operations on arrays of different shapes. It does this by automatically expanding the smaller array to match the shape of the larger array without copying data.\n",
    "\n",
    "- **Example:**\n"
   ]
  },
  {
   "cell_type": "code",
   "execution_count": null,
   "id": "53c557d0",
   "metadata": {},
   "outputs": [],
   "source": [
    "\n",
    "import numpy as np\n",
    "\n",
    "# Array of shape (3,)\n",
    "a = np.array([1, 2, 3])\n",
    "\n",
    "# Array of shape (3, 1)\n",
    "b = np.array([[10], [20], [30]])\n",
    "\n",
    "# Broadcasting a to match the shape of b\n",
    "result = a + b\n",
    "print(result)\n"
   ]
  },
  {
   "cell_type": "markdown",
   "id": "b3b49e51",
   "metadata": {},
   "source": [
    "#### **Pandas**"
   ]
  },
  {
   "cell_type": "markdown",
   "id": "3273f864",
   "metadata": {},
   "source": [
    "**3. What is a DataFrame in Pandas? How does it differ from a NumPy array?**"
   ]
  },
  {
   "cell_type": "markdown",
   "id": "8f71d25f",
   "metadata": {},
   "source": [
    "\n",
    "**Answer:**\n",
    "\n",
    "- **DataFrame:**\n",
    "  - A DataFrame is a 2-dimensional labeled data structure with columns of potentially different types. It�s similar to a SQL table or a spreadsheet.\n",
    "\n",
    "- **Differences from NumPy Array:**\n",
    "  - DataFrames can hold different data types across columns, while a NumPy array must have elements of the same data type.\n",
    "  - DataFrames have labeled axes (rows and columns), making it easier to manipulate and access data.\n",
    "  - DataFrames come with a wide array of functions for handling missing data, grouping, and joining datasets, among others.\n"
   ]
  },
  {
   "cell_type": "markdown",
   "id": "b966f353",
   "metadata": {},
   "source": [
    "**4. Explain the role of indexing in Pandas. Discuss different types of indexing supported by Pandas.**"
   ]
  },
  {
   "cell_type": "markdown",
   "id": "20933808",
   "metadata": {},
   "source": [
    "\n",
    "**Answer:**\n",
    "\n",
    "- **Role of Indexing:**\n",
    "  - Indexing in Pandas allows for fast and flexible data selection and manipulation.\n",
    "\n",
    "- **Types of Indexing:**\n",
    "  - **Label-based Indexing:** Using `loc[]`, you can access rows and columns by labels.\n",
    "  - **Position-based Indexing:** Using `iloc[]`, you can access rows and columns by integer positions.\n",
    "  - **Boolean Indexing:** Allows for selection of data based on conditions.\n",
    "  - **Mixed Indexing:** Combines label-based and position-based indexing for more complex queries.\n"
   ]
  },
  {
   "cell_type": "markdown",
   "id": "51e058bf",
   "metadata": {},
   "source": [
    "#### **Matplotlib**"
   ]
  },
  {
   "cell_type": "markdown",
   "id": "9ec97d60",
   "metadata": {},
   "source": [
    "**5. What is the role of `plt.show()` in Matplotlib? Why is it necessary?**"
   ]
  },
  {
   "cell_type": "markdown",
   "id": "288c613e",
   "metadata": {},
   "source": [
    "\n",
    "**Answer:**\n",
    "\n",
    "- **Role of `plt.show()`:**\n",
    "  - `plt.show()` is used to display the figure that has been created by plotting commands. It opens a window that shows the plot.\n",
    "\n",
    "- **Necessity:**\n",
    "  - Without `plt.show()`, plots might not be displayed, especially in non-interactive environments like scripts. It is crucial to explicitly display the plot.\n"
   ]
  },
  {
   "cell_type": "markdown",
   "id": "45035798",
   "metadata": {},
   "source": [
    "**6. Explain the concept of subplots in Matplotlib. How can you create multiple plots in a single figure?**"
   ]
  },
  {
   "cell_type": "markdown",
   "id": "6ce361bb",
   "metadata": {},
   "source": [
    "\n",
    "**Answer:**\n",
    "\n",
    "- **Concept of Subplots:**\n",
    "  - Subplots allow multiple plots to be displayed in a single figure. This is useful for comparing datasets or visualizing multiple aspects of the same data.\n",
    "\n",
    "- **Creating Multiple Plots:**\n"
   ]
  },
  {
   "cell_type": "code",
   "execution_count": null,
   "id": "4a342873",
   "metadata": {},
   "outputs": [],
   "source": [
    "\n",
    "import matplotlib.pyplot as plt\n",
    "\n",
    "# Create a figure with 2 rows and 1 column of subplots\n",
    "fig, axs = plt.subplots(2, 1)\n",
    "\n",
    "# First subplot\n",
    "axs[0].plot([1, 2, 3], [4, 5, 6])\n",
    "\n",
    "# Second subplot\n",
    "axs[1].plot([1, 2, 3], [10, 20, 30])\n",
    "\n",
    "plt.show()\n"
   ]
  },
  {
   "cell_type": "markdown",
   "id": "acec3f42",
   "metadata": {},
   "source": [
    "#### **Seaborn**"
   ]
  },
  {
   "cell_type": "markdown",
   "id": "a174f9d8",
   "metadata": {},
   "source": [
    "**7. What are the advantages of using Seaborn over Matplotlib?**"
   ]
  },
  {
   "cell_type": "markdown",
   "id": "c55835bc",
   "metadata": {},
   "source": [
    "\n",
    "**Answer:**\n",
    "\n",
    "- **Advantages of Seaborn:**\n",
    "  - **Aesthetic Defaults:** Seaborn has more visually appealing default styles.\n",
    "  - **Complex Plots:** It simplifies the creation of complex plots like violin plots, box plots, and heatmaps.\n",
    "  - **Integration with Pandas:** Seaborn works well with Pandas DataFrames, making it easier to visualize data directly from DataFrames.\n"
   ]
  },
  {
   "cell_type": "markdown",
   "id": "e4be4fe1",
   "metadata": {},
   "source": [
    "**8. Explain the importance of color palettes in Seaborn and how they can be customized.**"
   ]
  },
  {
   "cell_type": "markdown",
   "id": "e49b3dc5",
   "metadata": {},
   "source": [
    "\n",
    "**Answer:**\n",
    "- **Importance of Color Palettes:**\n",
    "  - Color palettes in Seaborn enhance the readability and visual appeal of plots. They help in distinguishing different data groups.\n",
    "\n",
    "- **Customization:**\n"
   ]
  },
  {
   "cell_type": "code",
   "execution_count": null,
   "id": "8fbc353f",
   "metadata": {},
   "outputs": [],
   "source": [
    "\n",
    "import seaborn as sns\n",
    "import matplotlib.pyplot as plt\n",
    "\n",
    "# Create a custom color palette\n",
    "custom_palette = sns.color_palette(\"coolwarm\", as_cmap=True)\n",
    "\n",
    "# Use it in a heatmap\n",
    "sns.heatmap([[1, 2], [3, 4]], cmap=custom_palette)\n",
    "plt.show()\n"
   ]
  },
  {
   "cell_type": "markdown",
   "id": "847b3f8d",
   "metadata": {},
   "source": [
    "### **Section B: Practical Questions**"
   ]
  },
  {
   "cell_type": "markdown",
   "id": "6ca6be61",
   "metadata": {},
   "source": [
    "#### **NumPy**"
   ]
  },
  {
   "cell_type": "markdown",
   "id": "33d34cf6",
   "metadata": {},
   "source": [
    "**9. Create a 3x3 matrix with values ranging from 1 to 9 using NumPy.**"
   ]
  },
  {
   "cell_type": "code",
   "execution_count": null,
   "id": "f5db7a18",
   "metadata": {},
   "outputs": [],
   "source": [
    "\n",
    "import numpy as np\n",
    "\n",
    "# Create the matrix\n",
    "matrix = np.arange(1, 10).reshape(3, 3)\n",
    "print(matrix)\n"
   ]
  },
  {
   "cell_type": "markdown",
   "id": "7a85841d",
   "metadata": {},
   "source": [
    "**10. Given a NumPy array `[1, 2, 3, 4, 5]`, calculate the mean, standard deviation, and variance.**"
   ]
  },
  {
   "cell_type": "code",
   "execution_count": null,
   "id": "f05376c6",
   "metadata": {},
   "outputs": [],
   "source": [
    "\n",
    "import numpy as np\n",
    "\n",
    "arr = np.array([1, 2, 3, 4, 5])\n",
    "\n",
    "mean = np.mean(arr)\n",
    "std_dev = np.std(arr)\n",
    "variance = np.var(arr)\n",
    "\n",
    "print(\"Mean:\", mean)\n",
    "print(\"Standard Deviation:\", std_dev)\n",
    "print(\"Variance:\", variance)\n"
   ]
  },
  {
   "cell_type": "markdown",
   "id": "a620a40a",
   "metadata": {},
   "source": [
    "**11. Generate a random 5x5 matrix and replace all values greater than 0.5 with 1, and the rest with 0.**"
   ]
  },
  {
   "cell_type": "code",
   "execution_count": null,
   "id": "e4a2b633",
   "metadata": {},
   "outputs": [],
   "source": [
    "\n",
    "import numpy as np\n",
    "\n",
    "# Generate random matrix\n",
    "matrix = np.random.rand(5, 5)\n",
    "\n",
    "# Replace values\n",
    "matrix = np.where(matrix > 0.5, 1, 0)\n",
    "\n",
    "print(matrix)\n"
   ]
  },
  {
   "cell_type": "markdown",
   "id": "9517cfc3",
   "metadata": {},
   "source": [
    "**12. Create a function that computes the inverse of a matrix using NumPy without using the built-in `numpy.linalg.inv()` function.**"
   ]
  },
  {
   "cell_type": "code",
   "execution_count": null,
   "id": "61e216b0",
   "metadata": {},
   "outputs": [],
   "source": [
    "\n",
    "import numpy as np\n",
    "\n",
    "def inverse_matrix(matrix):\n",
    "    return np.linalg.solve(matrix, np.identity(matrix.shape[0]))\n",
    "\n",
    "# Example\n",
    "matrix = np.array([[1, 2], [3, 4]])\n",
    "inverse = inverse_matrix(matrix)\n",
    "print(inverse)\n"
   ]
  },
  {
   "cell_type": "markdown",
   "id": "36c8036d",
   "metadata": {},
   "source": [
    "#### **Pandas**"
   ]
  },
  {
   "cell_type": "markdown",
   "id": "f70863a2",
   "metadata": {},
   "source": [
    "**13. Create a DataFrame from a dictionary containing lists and display the first 5 rows.**"
   ]
  },
  {
   "cell_type": "code",
   "execution_count": null,
   "id": "e0b45850",
   "metadata": {},
   "outputs": [],
   "source": [
    "\n",
    "import pandas as pd\n",
    "\n",
    "# Create DataFrame\n",
    "data = {'Name': ['Alice', 'Bob', 'Charlie', 'David', 'Eve'],\n",
    "        'Age': [25, 30, 35, 40, 45]}\n",
    "\n",
    "df = pd.DataFrame(data)\n",
    "\n",
    "# Display first 5 rows\n",
    "print(df.head())\n"
   ]
  },
  {
   "cell_type": "markdown",
   "id": "15d4653c",
   "metadata": {},
   "source": [
    "**14. Filter a DataFrame to select rows where a specific column value is greater than a threshold.**"
   ]
  },
  {
   "cell_type": "code",
   "execution_count": null,
   "id": "9b5bee5c",
   "metadata": {},
   "outputs": [],
   "source": [
    "\n",
    "import pandas as pd\n",
    "\n",
    "# Sample DataFrame\n",
    "data = {'Name': ['Alice', 'Bob', 'Charlie', 'David', 'Eve'],\n",
    "        'Age': [25, 30, 35, 40, 45]}\n",
    "\n",
    "df = pd.DataFrame(data)\n",
    "\n",
    "# Filter rows where Age is greater than 30\n",
    "filtered_df = df[df['Age'] > 30]\n",
    "\n",
    "print(filtered_df)\n"
   ]
  },
  {
   "cell_type": "markdown",
   "id": "219be0c3",
   "metadata": {},
   "source": [
    "**15. Group the data by a column and calculate the mean for each group. Provide the code and output.**"
   ]
  },
  {
   "cell_type": "code",
   "execution_count": null,
   "id": "8eb59a22",
   "metadata": {},
   "outputs": [],
   "source": [
    "\n",
    "import pandas as pd\n",
    "\n",
    "# Sample DataFrame\n",
    "data = {'Department': ['Sales', 'Sales', 'HR', 'HR', 'IT', 'IT'],\n",
    "        'Salary': [50000, 55000, 60000, 62000, 70000, 72000]}\n",
    "\n",
    "df = pd.DataFrame(data)\n",
    "\n",
    "# Group by Department and calculate mean Salary\n",
    "grouped_df = df.groupby('Department')['Salary'].mean()\n",
    "\n",
    "print(grouped_df)\n"
   ]
  },
  {
   "cell_type": "markdown",
   "id": "013fe4df",
   "metadata": {},
   "source": [
    "#### **Matplotlib**"
   ]
  },
  {
   "cell_type": "markdown",
   "id": "f73f8e62",
   "metadata": {},
   "source": [
    "**16. Plot a line graph for x = `[1, 2, 3, 4]` and y = `[10, 20, 25, 30]`. Label the axes and add a title.**"
   ]
  },
  {
   "cell_type": "code",
   "execution_count": null,
   "id": "10b9a657",
   "metadata": {},
   "outputs": [],
   "source": [
    "\n",
    "import matplotlib.pyplot as plt\n",
    "\n",
    "# Data\n",
    "x = [1, 2, 3, 4]\n",
    "y = [10, 20, 25, 30]\n",
    "\n",
    "# Plotting\n",
    "plt.plot(x, y)\n",
    "\n",
    "# Labeling\n",
    "plt.xlabel('X-axis')\n",
    "plt.ylabel('Y-axis')\n",
    "plt.title('Line Graph Example')\n",
    "\n",
    "# Show plot\n",
    "plt.show()\n"
   ]
  },
  {
   "cell_type": "markdown",
   "id": "c05676b4",
   "metadata": {},
   "source": [
    "**17. Create a bar chart using Matplotlib to compare the sales of three products across four quarters. Label the bars and add a legend.**"
   ]
  },
  {
   "cell_type": "code",
   "execution_count": null,
   "id": "f38238f2",
   "metadata": {},
   "outputs": [],
   "source": [
    "\n",
    "import matplotlib.pyplot as plt\n",
    "\n",
    "# Data\n",
    "products = ['Product A', 'Product B', 'Product C']\n",
    "quarters = ['Q1', 'Q2', 'Q3', 'Q4']\n",
    "sales = [[5000, 7000, 8000, 9000], [6000, 8000, 9000, 10000], [5500, 7500, 8500, 9500]]\n",
    "\n",
    "# Plotting\n",
    "x = range(len(quarters))\n",
    "width = 0.2\n",
    "\n",
    "plt.bar([p - width for p in x], sales[0], width, label=products[0])\n",
    "plt.bar(x, sales[1], width, label=products[1])\n",
    "plt.bar([p + width for p in x], sales[2], width, label=products[2])\n",
    "\n",
    "# Labeling\n",
    "plt.xlabel('Quarters')\n",
    "plt.ylabel('Sales')\n",
    "plt.title('Product Sales per Quarter')\n",
    "plt.xticks(x, quarters)\n",
    "plt.legend()\n",
    "\n",
    "# Show plot\n",
    "plt.show()\n"
   ]
  },
  {
   "cell_type": "markdown",
   "id": "20da82ee",
   "metadata": {},
   "source": [
    "#### **Seaborn**"
   ]
  },
  {
   "cell_type": "markdown",
   "id": "44fe3861",
   "metadata": {},
   "source": [
    "**18. Create a scatter plot using Seaborn with the `tips` dataset where `total_bill` is on the x-axis and `tip` is on the y-axis. Color the points based on the time of day (Lunch/Dinner).**"
   ]
  },
  {
   "cell_type": "code",
   "execution_count": null,
   "id": "256bff16",
   "metadata": {},
   "outputs": [],
   "source": [
    "\n",
    "import seaborn as sns\n",
    "import matplotlib.pyplot as plt\n",
    "\n",
    "# Load tips dataset\n",
    "tips = sns.load_dataset('tips')\n",
    "\n",
    "# Scatter plot\n",
    "sns.scatterplot(data=tips, x='total_bill', y='tip', hue='time')\n",
    "\n",
    "plt.title('Scatter Plot of Total Bill vs Tip by Time of Day')\n",
    "plt.show()\n"
   ]
  },
  {
   "cell_type": "markdown",
   "id": "24ba2715",
   "metadata": {},
   "source": [
    "**19. Create a heatmap using Seaborn to display the correlation matrix of the `iris` dataset.**"
   ]
  },
  {
   "cell_type": "code",
   "execution_count": null,
   "id": "360d2275",
   "metadata": {},
   "outputs": [],
   "source": [
    "\n",
    "import seaborn as sns\n",
    "import matplotlib.pyplot as plt\n",
    "from sklearn.datasets import load_iris\n",
    "import pandas as pd\n",
    "\n",
    "# Load iris dataset\n",
    "iris = load_iris()\n",
    "iris_df = pd.DataFrame(iris.data, columns=iris.feature_names)\n",
    "\n",
    "# Compute correlation matrix\n",
    "correlation_matrix = iris_df.corr()\n",
    "\n",
    "# Heatmap\n",
    "sns.heatmap(correlation_matrix, annot=True, cmap='coolwarm')\n",
    "\n",
    "plt.title('Correlation Matrix of Iris Dataset')\n",
    "plt.show()\n"
   ]
  }
 ],
 "metadata": {},
 "nbformat": 4,
 "nbformat_minor": 5
}
