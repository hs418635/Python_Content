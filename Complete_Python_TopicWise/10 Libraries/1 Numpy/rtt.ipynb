{
 "cells": [
  {
   "cell_type": "code",
   "execution_count": 15,
   "id": "75370abc-58dd-4841-b129-9da8a46f5ae8",
   "metadata": {},
   "outputs": [],
   "source": [
    "# array searching \n",
    "# where , boolean indexing , argmin or armax , using multiple condition , np.searchsorted"
   ]
  },
  {
   "cell_type": "code",
   "execution_count": 16,
   "id": "3613429a-58f1-4f21-92bd-cf0db2e4f6dd",
   "metadata": {},
   "outputs": [
    {
     "data": {
      "text/plain": [
       "array([10, 20, 30, 40, 50])"
      ]
     },
     "execution_count": 16,
     "metadata": {},
     "output_type": "execute_result"
    }
   ],
   "source": [
    "import numpy as np\n",
    "arr = np.array([10,20,30,40,50])\n",
    "arr"
   ]
  },
  {
   "cell_type": "code",
   "execution_count": 17,
   "id": "dea8bcbb-40a0-448b-a15d-9eab7694edbb",
   "metadata": {},
   "outputs": [
    {
     "data": {
      "text/plain": [
       "(array([1], dtype=int64),)"
      ]
     },
     "execution_count": 17,
     "metadata": {},
     "output_type": "execute_result"
    }
   ],
   "source": [
    "np.where(arr==20)"
   ]
  },
  {
   "cell_type": "code",
   "execution_count": 20,
   "id": "4cc4ec79-3d81-44d4-8ba8-6c51ff23ed28",
   "metadata": {},
   "outputs": [
    {
     "data": {
      "text/plain": [
       "array([30, 40, 50])"
      ]
     },
     "execution_count": 20,
     "metadata": {},
     "output_type": "execute_result"
    }
   ],
   "source": [
    "# bolean indexing\n",
    "arr[arr>20]"
   ]
  },
  {
   "cell_type": "code",
   "execution_count": 21,
   "id": "4f404163-2776-4600-a6e4-cb44569ad694",
   "metadata": {},
   "outputs": [
    {
     "data": {
      "text/plain": [
       "4"
      ]
     },
     "execution_count": 21,
     "metadata": {},
     "output_type": "execute_result"
    }
   ],
   "source": [
    "np.argmax(arr)"
   ]
  },
  {
   "cell_type": "code",
   "execution_count": 22,
   "id": "d4fa1a7f-3124-4501-9926-8cffaddda34a",
   "metadata": {},
   "outputs": [
    {
     "data": {
      "text/plain": [
       "0"
      ]
     },
     "execution_count": 22,
     "metadata": {},
     "output_type": "execute_result"
    }
   ],
   "source": [
    "np.argmin(arr)"
   ]
  },
  {
   "cell_type": "code",
   "execution_count": 23,
   "id": "067b7cca-600e-4d83-92e0-64779572ba1b",
   "metadata": {},
   "outputs": [
    {
     "data": {
      "text/plain": [
       "array([30, 40])"
      ]
     },
     "execution_count": 23,
     "metadata": {},
     "output_type": "execute_result"
    }
   ],
   "source": [
    "arr[(arr>20) & (arr<50)]"
   ]
  },
  {
   "cell_type": "code",
   "execution_count": 24,
   "id": "fb93f92c-4774-4a37-b1aa-7ed91784cd76",
   "metadata": {},
   "outputs": [],
   "source": [
    "arr = [10,1,2,8,3,5,7,9]"
   ]
  },
  {
   "cell_type": "code",
   "execution_count": 25,
   "id": "8b375fb1-0009-45df-bf99-fe458f25ef2b",
   "metadata": {},
   "outputs": [
    {
     "data": {
      "text/plain": [
       "[10, 1, 2, 8, 3, 5, 7, 9]"
      ]
     },
     "execution_count": 25,
     "metadata": {},
     "output_type": "execute_result"
    }
   ],
   "source": [
    "arr"
   ]
  },
  {
   "cell_type": "code",
   "execution_count": 27,
   "id": "70367420-e23b-42e1-839e-a652ca0b3f5d",
   "metadata": {},
   "outputs": [
    {
     "data": {
      "text/plain": [
       "6"
      ]
     },
     "execution_count": 27,
     "metadata": {},
     "output_type": "execute_result"
    }
   ],
   "source": [
    "np.searchsorted(arr,6)"
   ]
  },
  {
   "cell_type": "code",
   "execution_count": 30,
   "id": "e3f5e9d6-0f35-4b53-ab73-8c028c093f6e",
   "metadata": {},
   "outputs": [
    {
     "data": {
      "text/plain": [
       "array([26,  2,  5,  3, 65, 11,  2,  4,  9])"
      ]
     },
     "execution_count": 30,
     "metadata": {},
     "output_type": "execute_result"
    }
   ],
   "source": [
    "arr = np.array([26,2,5,3,65,11,2,4,9])\n",
    "arr"
   ]
  },
  {
   "cell_type": "code",
   "execution_count": 31,
   "id": "c75480e7-fe00-4aa4-98f6-20eb3e46d6ab",
   "metadata": {},
   "outputs": [
    {
     "data": {
      "text/plain": [
       "array([ 2,  2,  3,  4,  5,  9, 11, 26, 65])"
      ]
     },
     "execution_count": 31,
     "metadata": {},
     "output_type": "execute_result"
    }
   ],
   "source": [
    "np.sort(arr)"
   ]
  },
  {
   "cell_type": "code",
   "execution_count": 32,
   "id": "320f9f49-d1c4-4a35-b481-d11aa5a7d022",
   "metadata": {},
   "outputs": [
    {
     "data": {
      "text/plain": [
       "array([65, 26, 11,  9,  5,  4,  3,  2,  2])"
      ]
     },
     "execution_count": 32,
     "metadata": {},
     "output_type": "execute_result"
    }
   ],
   "source": [
    "-np.sort(-arr)"
   ]
  },
  {
   "cell_type": "code",
   "execution_count": 41,
   "id": "17217eb3-18b0-4188-993f-7411dca2dbb3",
   "metadata": {},
   "outputs": [
    {
     "data": {
      "text/plain": [
       "array([[ 8,  1, 14],\n",
       "       [ 4, 12, 12],\n",
       "       [18, 26,  6],\n",
       "       [ 4, 20, 12]])"
      ]
     },
     "execution_count": 41,
     "metadata": {},
     "output_type": "execute_result"
    }
   ],
   "source": [
    "np.random.seed()\n",
    "arr = np.random.randint(1,30,12).reshape(4,3)\n",
    "arr"
   ]
  },
  {
   "cell_type": "code",
   "execution_count": 42,
   "id": "bab836a2-4c78-4ef4-bd85-7e9043f90900",
   "metadata": {},
   "outputs": [
    {
     "data": {
      "text/plain": [
       "array([[ 4,  1,  6],\n",
       "       [ 4, 12, 12],\n",
       "       [ 8, 20, 12],\n",
       "       [18, 26, 14]])"
      ]
     },
     "execution_count": 42,
     "metadata": {},
     "output_type": "execute_result"
    }
   ],
   "source": [
    "np.sort(arr,axis=0)"
   ]
  },
  {
   "cell_type": "code",
   "execution_count": 43,
   "id": "6217cdfb-19d3-4a27-905a-4b4d466233ef",
   "metadata": {},
   "outputs": [
    {
     "data": {
      "text/plain": [
       "array([[ 1,  8, 14],\n",
       "       [ 4, 12, 12],\n",
       "       [ 6, 18, 26],\n",
       "       [ 4, 12, 20]])"
      ]
     },
     "execution_count": 43,
     "metadata": {},
     "output_type": "execute_result"
    }
   ],
   "source": [
    "np.sort(arr,axis=1)"
   ]
  },
  {
   "cell_type": "code",
   "execution_count": 44,
   "id": "c96dfe8c-606f-4f31-9e8f-4ce963348c49",
   "metadata": {},
   "outputs": [
    {
     "data": {
      "text/plain": [
       "array(['Bhopal', 'Indore', 'Ahmadabad', 'Delhi'], dtype='<U9')"
      ]
     },
     "execution_count": 44,
     "metadata": {},
     "output_type": "execute_result"
    }
   ],
   "source": [
    "ar = np.array(['Bhopal', 'Indore', 'Ahmadabad', \"Delhi\"])\n",
    "ar"
   ]
  },
  {
   "cell_type": "code",
   "execution_count": 45,
   "id": "8b51d776-b5e2-42a1-a412-41af4b61c70f",
   "metadata": {},
   "outputs": [],
   "source": [
    "arr.sort()"
   ]
  },
  {
   "cell_type": "code",
   "execution_count": null,
   "id": "260856c8-1013-4c30-a46f-cd7f38324b2d",
   "metadata": {},
   "outputs": [],
   "source": []
  }
 ],
 "metadata": {
  "kernelspec": {
   "display_name": "Python 3 (ipykernel)",
   "language": "python",
   "name": "python3"
  },
  "language_info": {
   "codemirror_mode": {
    "name": "ipython",
    "version": 3
   },
   "file_extension": ".py",
   "mimetype": "text/x-python",
   "name": "python",
   "nbconvert_exporter": "python",
   "pygments_lexer": "ipython3",
   "version": "3.11.7"
  },
  "widgets": {
   "application/vnd.jupyter.widget-state+json": {
    "state": {},
    "version_major": 2,
    "version_minor": 0
   }
  }
 },
 "nbformat": 4,
 "nbformat_minor": 5
}
