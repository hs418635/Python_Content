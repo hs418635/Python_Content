{
 "cells": [
  {
   "cell_type": "markdown",
   "id": "fcbfd7fc",
   "metadata": {},
   "source": [
    "### Question 1\n",
    "Create a 1D NumPy array containing the numbers 1 to 10."
   ]
  },
  {
   "cell_type": "code",
   "execution_count": 1,
   "id": "964d67c5",
   "metadata": {},
   "outputs": [
    {
     "name": "stdout",
     "output_type": "stream",
     "text": [
      "[ 1  2  3  4  5  6  7  8  9 10]\n"
     ]
    }
   ],
   "source": [
    "import numpy as np\n",
    "arr = np.arange(1, 11)\n",
    "print(arr)"
   ]
  },
  {
   "cell_type": "markdown",
   "id": "492b4c69",
   "metadata": {},
   "source": [
    "### Question 2\n",
    "Create a 2D array with shape (3, 4) filled with zeros."
   ]
  },
  {
   "cell_type": "code",
   "execution_count": 2,
   "id": "0c993565",
   "metadata": {},
   "outputs": [
    {
     "name": "stdout",
     "output_type": "stream",
     "text": [
      "[[0. 0. 0. 0.]\n",
      " [0. 0. 0. 0.]\n",
      " [0. 0. 0. 0.]]\n"
     ]
    }
   ],
   "source": [
    "arr = np.zeros((3, 4))\n",
    "print(arr)"
   ]
  },
  {
   "cell_type": "markdown",
   "id": "6afff6a3",
   "metadata": {},
   "source": [
    "### Question 3\n",
    "Create a 3x3 identity matrix."
   ]
  },
  {
   "cell_type": "code",
   "execution_count": 3,
   "id": "6223bb42",
   "metadata": {},
   "outputs": [
    {
     "name": "stdout",
     "output_type": "stream",
     "text": [
      "[[1. 0. 0.]\n",
      " [0. 1. 0.]\n",
      " [0. 0. 1.]]\n"
     ]
    }
   ],
   "source": [
    "arr = np.eye(3)\n",
    "print(arr)"
   ]
  },
  {
   "cell_type": "markdown",
   "id": "3199b237",
   "metadata": {},
   "source": [
    "### Question 4\n",
    "Create a 1D array of 10 random numbers and find the maximum and minimum values."
   ]
  },
  {
   "cell_type": "code",
   "execution_count": 4,
   "id": "96f6cb6f",
   "metadata": {},
   "outputs": [
    {
     "name": "stdout",
     "output_type": "stream",
     "text": [
      "Array: [0.81262491 0.76184555 0.11040452 0.15574757 0.34940301 0.74131633\n",
      " 0.0909659  0.16056593 0.69041407 0.31143749]\n",
      "Max: 0.8126249091515062\n",
      "Min: 0.09096590214072098\n"
     ]
    }
   ],
   "source": [
    "arr = np.random.rand(10)\n",
    "max_val = arr.max()\n",
    "min_val = arr.min()\n",
    "print(f\"Array: {arr}\\nMax: {max_val}\\nMin: {min_val}\")"
   ]
  },
  {
   "cell_type": "markdown",
   "id": "1af5b203",
   "metadata": {},
   "source": [
    "### Question 5\n",
    "Create a 2D array and find the sum of all elements along the rows and columns."
   ]
  },
  {
   "cell_type": "code",
   "execution_count": 5,
   "id": "61d6be44",
   "metadata": {},
   "outputs": [
    {
     "name": "stdout",
     "output_type": "stream",
     "text": [
      "Row sums: [ 6 15 24]\n",
      "Column sums: [12 15 18]\n"
     ]
    }
   ],
   "source": [
    "arr = np.array([[1, 2, 3], [4, 5, 6], [7, 8, 9]])\n",
    "row_sum = arr.sum(axis=1)\n",
    "col_sum = arr.sum(axis=0)\n",
    "print(f\"Row sums: {row_sum}\\nColumn sums: {col_sum}\")"
   ]
  },
  {
   "cell_type": "markdown",
   "id": "cf0a6b4c",
   "metadata": {},
   "source": [
    "### Question 6\n",
    "Generate a 5x5 array of random integers between 10 and 50."
   ]
  },
  {
   "cell_type": "code",
   "execution_count": 6,
   "id": "e3778124",
   "metadata": {},
   "outputs": [
    {
     "name": "stdout",
     "output_type": "stream",
     "text": [
      "[[28 31 25 19 36]\n",
      " [21 12 18 21 13]\n",
      " [27 32 49 15 23]\n",
      " [26 41 13 41 20]\n",
      " [28 15 41 42 43]]\n"
     ]
    }
   ],
   "source": [
    "arr = np.random.randint(10, 50, size=(5, 5))\n",
    "print(arr)"
   ]
  },
  {
   "cell_type": "markdown",
   "id": "a6fd203c",
   "metadata": {},
   "source": [
    "### Question 7\n",
    "Create a random array of shape (3, 4) and normalize it (i.e., scale the values so that the mean is 0 and the standard deviation is 1)."
   ]
  },
  {
   "cell_type": "code",
   "execution_count": 7,
   "id": "e3d41058",
   "metadata": {},
   "outputs": [
    {
     "name": "stdout",
     "output_type": "stream",
     "text": [
      "[[ 0.37007345 -1.23817261 -1.79126379  1.1704956 ]\n",
      " [-0.38162471  0.54903765  1.34788111  0.68879366]\n",
      " [-1.36627996  0.78960338  0.43728352 -0.5758273 ]]\n"
     ]
    }
   ],
   "source": [
    "arr = np.random.rand(3, 4)\n",
    "normalized_arr = (arr - arr.mean()) / arr.std()\n",
    "print(normalized_arr)"
   ]
  },
  {
   "cell_type": "markdown",
   "id": "599ce61a",
   "metadata": {},
   "source": [
    "### Question 8\n",
    "Create a 1D array of 12 elements and reshape it into a 3x4 matrix."
   ]
  },
  {
   "cell_type": "code",
   "execution_count": 8,
   "id": "942f8bda",
   "metadata": {},
   "outputs": [
    {
     "name": "stdout",
     "output_type": "stream",
     "text": [
      "[[ 0  1  2  3]\n",
      " [ 4  5  6  7]\n",
      " [ 8  9 10 11]]\n"
     ]
    }
   ],
   "source": [
    "arr = np.arange(12)\n",
    "reshaped_arr = arr.reshape((3, 4))\n",
    "print(reshaped_arr)"
   ]
  },
  {
   "cell_type": "markdown",
   "id": "975814fb",
   "metadata": {},
   "source": [
    "### Question 9\n",
    "Flatten a 2D array into a 1D array."
   ]
  },
  {
   "cell_type": "code",
   "execution_count": 9,
   "id": "74b4bc43",
   "metadata": {},
   "outputs": [
    {
     "name": "stdout",
     "output_type": "stream",
     "text": [
      "[1 2 3 4 5 6 7 8 9]\n"
     ]
    }
   ],
   "source": [
    "arr = np.array([[1, 2, 3], [4, 5, 6], [7, 8, 9]])\n",
    "flattened_arr = arr.flatten()\n",
    "print(flattened_arr)"
   ]
  },
  {
   "cell_type": "markdown",
   "id": "c5577ade",
   "metadata": {},
   "source": [
    "### Question 10\n",
    "Create a 3x3 matrix and print the element at row 2, column 3."
   ]
  },
  {
   "cell_type": "code",
   "execution_count": 10,
   "id": "2384ecfc",
   "metadata": {},
   "outputs": [
    {
     "name": "stdout",
     "output_type": "stream",
     "text": [
      "6\n"
     ]
    }
   ],
   "source": [
    "arr = np.array([[1, 2, 3], [4, 5, 6], [7, 8, 9]])\n",
    "print(arr[1, 2])"
   ]
  },
  {
   "cell_type": "markdown",
   "id": "44fa7927",
   "metadata": {},
   "source": [
    "### Question 11\n",
    "Create a 3D array of shape (2, 3, 4) and access the element at position (1, 2, 3)."
   ]
  },
  {
   "cell_type": "code",
   "execution_count": 11,
   "id": "358fd80d",
   "metadata": {},
   "outputs": [
    {
     "name": "stdout",
     "output_type": "stream",
     "text": [
      "23\n"
     ]
    }
   ],
   "source": [
    "arr = np.arange(24).reshape((2, 3, 4))\n",
    "print(arr[1, 2, 3])"
   ]
  },
  {
   "cell_type": "markdown",
   "id": "5b3c7b79",
   "metadata": {},
   "source": [
    "### Question 12\n",
    "Slice the 2D array to get the first two rows and the last two columns."
   ]
  },
  {
   "cell_type": "code",
   "execution_count": 12,
   "id": "94488911",
   "metadata": {},
   "outputs": [
    {
     "name": "stdout",
     "output_type": "stream",
     "text": [
      "[[3 4]\n",
      " [7 8]]\n"
     ]
    }
   ],
   "source": [
    "arr = np.array([[1, 2, 3, 4], [5, 6, 7, 8], [9, 10, 11, 12]])\n",
    "sliced_arr = arr[:2, -2:]\n",
    "print(sliced_arr)"
   ]
  },
  {
   "cell_type": "markdown",
   "id": "f680cac5",
   "metadata": {},
   "source": [
    "### Question 13\n",
    "Create two arrays, one with shape (3, 1) and the other with shape (1, 4). Use broadcasting to add them."
   ]
  },
  {
   "cell_type": "code",
   "execution_count": 13,
   "id": "cfcd184a",
   "metadata": {},
   "outputs": [
    {
     "name": "stdout",
     "output_type": "stream",
     "text": [
      "[[11 21 31 41]\n",
      " [12 22 32 42]\n",
      " [13 23 33 43]]\n"
     ]
    }
   ],
   "source": [
    "arr1 = np.array([[1], [2], [3]])\n",
    "arr2 = np.array([[10, 20, 30, 40]])\n",
    "result = arr1 + arr2\n",
    "print(result)"
   ]
  },
  {
   "cell_type": "markdown",
   "id": "525df0d8",
   "metadata": {},
   "source": [
    "### Question 14\n",
    "Multiply a 2D array by a 1D array using broadcasting."
   ]
  },
  {
   "cell_type": "code",
   "execution_count": 14,
   "id": "1bb40f53",
   "metadata": {},
   "outputs": [
    {
     "name": "stdout",
     "output_type": "stream",
     "text": [
      "[[ 1  0 -3]\n",
      " [ 4  0 -6]\n",
      " [ 7  0 -9]]\n"
     ]
    }
   ],
   "source": [
    "arr1 = np.array([[1, 2, 3], [4, 5, 6], [7, 8, 9]])\n",
    "arr2 = np.array([1, 0, -1])\n",
    "result = arr1 * arr2\n",
    "print(result)"
   ]
  },
  {
   "cell_type": "markdown",
   "id": "bc59af30",
   "metadata": {},
   "source": [
    "### Question 15\n",
    "Create a 4x4 array of random numbers and replace all values greater than 0.5 with 1."
   ]
  },
  {
   "cell_type": "code",
   "execution_count": 15,
   "id": "f2d86193",
   "metadata": {},
   "outputs": [
    {
     "name": "stdout",
     "output_type": "stream",
     "text": [
      "[[1.         1.         0.32348463 1.        ]\n",
      " [0.06412609 1.         0.38893295 1.        ]\n",
      " [1.         0.26121951 0.36878591 0.33252172]\n",
      " [0.31092945 1.         0.15452745 1.        ]]\n"
     ]
    }
   ],
   "source": [
    "arr = np.random.rand(4, 4)\n",
    "arr[arr > 0.5] = 1\n",
    "print(arr)"
   ]
  },
  {
   "cell_type": "markdown",
   "id": "0dd4f3b9",
   "metadata": {},
   "source": [
    "### Question 16\n",
    "Create a 5x5 identity matrix and add a 5x5 matrix of ones to it."
   ]
  },
  {
   "cell_type": "code",
   "execution_count": 16,
   "id": "0158ea47",
   "metadata": {},
   "outputs": [
    {
     "name": "stdout",
     "output_type": "stream",
     "text": [
      "[[2. 1. 1. 1. 1.]\n",
      " [1. 2. 1. 1. 1.]\n",
      " [1. 1. 2. 1. 1.]\n",
      " [1. 1. 1. 2. 1.]\n",
      " [1. 1. 1. 1. 2.]]\n"
     ]
    }
   ],
   "source": [
    "identity_matrix = np.eye(5)\n",
    "ones_matrix = np.ones((5, 5))\n",
    "result = identity_matrix + ones_matrix\n",
    "print(result)"
   ]
  },
  {
   "cell_type": "markdown",
   "id": "5cc4f309",
   "metadata": {},
   "source": [
    "### Question 17\n",
    "Create a 3D array of shape (2, 3, 4) and reverse the order of elements along the third axis."
   ]
  },
  {
   "cell_type": "code",
   "execution_count": 17,
   "id": "376692cf",
   "metadata": {},
   "outputs": [
    {
     "name": "stdout",
     "output_type": "stream",
     "text": [
      "[[[ 3  2  1  0]\n",
      "  [ 7  6  5  4]\n",
      "  [11 10  9  8]]\n",
      "\n",
      " [[15 14 13 12]\n",
      "  [19 18 17 16]\n",
      "  [23 22 21 20]]]\n"
     ]
    }
   ],
   "source": [
    "arr = np.arange(24).reshape((2, 3, 4))\n",
    "reversed_arr = arr[:, :, ::-1]\n",
    "print(reversed_arr)"
   ]
  },
  {
   "cell_type": "markdown",
   "id": "8887d111",
   "metadata": {},
   "source": [
    "### Question 18\n",
    "Create a 2D array of shape (4, 5) and calculate the mean of each row."
   ]
  },
  {
   "cell_type": "code",
   "execution_count": 18,
   "id": "8ad1195d",
   "metadata": {},
   "outputs": [
    {
     "name": "stdout",
     "output_type": "stream",
     "text": [
      "[0.34827399 0.49503731 0.47485443 0.59179378]\n"
     ]
    }
   ],
   "source": [
    "arr = np.random.rand(4, 5)\n",
    "row_means = arr.mean(axis=1)\n",
    "print(row_means)"
   ]
  },
  {
   "cell_type": "markdown",
   "id": "e7d3c8b6",
   "metadata": {},
   "source": [
    "### Question 19\n",
    "Create an array of 20 random integers between 1 and 100. Sort the array and find the median value."
   ]
  },
  {
   "cell_type": "code",
   "execution_count": 19,
   "id": "22fd8222",
   "metadata": {},
   "outputs": [
    {
     "name": "stdout",
     "output_type": "stream",
     "text": [
      "Sorted Array: [ 1  1  4 11 12 17 22 30 31 42 62 65 72 72 73 79 83 84 85 99]\n",
      "Median: 52.0\n"
     ]
    }
   ],
   "source": [
    "arr = np.random.randint(1, 101, 20)\n",
    "sorted_arr = np.sort(arr)\n",
    "median_val = np.median(sorted_arr)\n",
    "print(f\"Sorted Array: {sorted_arr}\\nMedian: {median_val}\")"
   ]
  },
  {
   "cell_type": "markdown",
   "id": "1b32fed5",
   "metadata": {},
   "source": [
    "### Question 20\n",
    "Create two 1D arrays and use broadcasting to compute the outer product."
   ]
  },
  {
   "cell_type": "code",
   "execution_count": 20,
   "id": "40ec95f2",
   "metadata": {},
   "outputs": [
    {
     "name": "stdout",
     "output_type": "stream",
     "text": [
      "[[ 4  5  6]\n",
      " [ 8 10 12]\n",
      " [12 15 18]]\n"
     ]
    }
   ],
   "source": [
    "arr1 = np.array([1, 2, 3])\n",
    "arr2 = np.array([4, 5, 6])\n",
    "outer_product = np.outer(arr1, arr2)\n",
    "print(outer_product)"
   ]
  },
  {
   "cell_type": "code",
   "execution_count": null,
   "id": "2c8f64b1-f33d-4fe7-a01a-8d9dd3f0f994",
   "metadata": {},
   "outputs": [],
   "source": []
  }
 ],
 "metadata": {
  "kernelspec": {
   "display_name": "Python 3 (ipykernel)",
   "language": "python",
   "name": "python3"
  },
  "language_info": {
   "codemirror_mode": {
    "name": "ipython",
    "version": 3
   },
   "file_extension": ".py",
   "mimetype": "text/x-python",
   "name": "python",
   "nbconvert_exporter": "python",
   "pygments_lexer": "ipython3",
   "version": "3.11.7"
  },
  "widgets": {
   "application/vnd.jupyter.widget-state+json": {
    "state": {},
    "version_major": 2,
    "version_minor": 0
   }
  }
 },
 "nbformat": 4,
 "nbformat_minor": 5
}
