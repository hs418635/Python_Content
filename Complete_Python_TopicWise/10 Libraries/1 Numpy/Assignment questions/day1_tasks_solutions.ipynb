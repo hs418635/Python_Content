{
 "cells": [
  {
   "cell_type": "markdown",
   "id": "cfade0a2",
   "metadata": {},
   "source": [
    "# Daily Tasks\n"
   ]
  },
  {
   "cell_type": "markdown",
   "id": "96473eb6",
   "metadata": {},
   "source": [
    "### 1. Popular Python Modules, Libraries, & Frameworks for Different Domains\n"
   ]
  },
  {
   "cell_type": "markdown",
   "id": "e6deef76",
   "metadata": {},
   "source": [
    "- **Web Development:**\n"
   ]
  },
  {
   "cell_type": "markdown",
   "id": "25512998",
   "metadata": {},
   "source": [
    "  - **Django:** High-level web framework for building web applications.\n"
   ]
  },
  {
   "cell_type": "markdown",
   "id": "df127b9b",
   "metadata": {},
   "source": [
    "  - **Flask:** Lightweight web framework for creating web applications.\n"
   ]
  },
  {
   "cell_type": "markdown",
   "id": "f5070e7a",
   "metadata": {},
   "source": [
    "  - **FastAPI:** Modern, fast web framework for building APIs with Python 3.7+.\n"
   ]
  },
  {
   "cell_type": "markdown",
   "id": "1aa47514",
   "metadata": {},
   "source": [
    "- **Data Science & Machine Learning:**\n"
   ]
  },
  {
   "cell_type": "markdown",
   "id": "0b4721b4",
   "metadata": {},
   "source": [
    "  - **NumPy:** Fundamental package for numerical computations.\n"
   ]
  },
  {
   "cell_type": "markdown",
   "id": "d7d709c8",
   "metadata": {},
   "source": [
    "  - **Pandas:** Data manipulation and analysis library.\n"
   ]
  },
  {
   "cell_type": "markdown",
   "id": "d107bafb",
   "metadata": {},
   "source": [
    "  - **Matplotlib:** Plotting library for creating static, animated, and interactive visualizations.\n"
   ]
  },
  {
   "cell_type": "markdown",
   "id": "a04ec9e4",
   "metadata": {},
   "source": [
    "  - **SciPy:** Library for scientific and technical computing.\n"
   ]
  },
  {
   "cell_type": "markdown",
   "id": "4ab7e1db",
   "metadata": {},
   "source": [
    "  - **scikit-learn:** Machine learning library for data analysis and modeling.\n"
   ]
  },
  {
   "cell_type": "markdown",
   "id": "17562827",
   "metadata": {},
   "source": [
    "  - **TensorFlow:** Open-source machine learning framework for numerical computation.\n"
   ]
  },
  {
   "cell_type": "markdown",
   "id": "fed6a939",
   "metadata": {},
   "source": [
    "  - **PyTorch:** Deep learning framework for building neural networks.\n"
   ]
  },
  {
   "cell_type": "markdown",
   "id": "b6fa9350",
   "metadata": {},
   "source": [
    "- **Web Scraping:**\n"
   ]
  },
  {
   "cell_type": "markdown",
   "id": "11e0d5be",
   "metadata": {},
   "source": [
    "  - **Beautiful Soup:** Library for parsing HTML and XML documents.\n"
   ]
  },
  {
   "cell_type": "markdown",
   "id": "62532bf2",
   "metadata": {},
   "source": [
    "  - **Scrapy:** Framework for web scraping and crawling.\n"
   ]
  },
  {
   "cell_type": "markdown",
   "id": "8140d7a8",
   "metadata": {},
   "source": [
    "- **Automation:**\n"
   ]
  },
  {
   "cell_type": "markdown",
   "id": "3a6cd3be",
   "metadata": {},
   "source": [
    "  - **Selenium:** Library for automating web browsers.\n"
   ]
  },
  {
   "cell_type": "markdown",
   "id": "07c7f704",
   "metadata": {},
   "source": [
    "  - **PyAutoGUI:** Cross-platform GUI automation Python module.\n"
   ]
  },
  {
   "cell_type": "markdown",
   "id": "b0f55a14",
   "metadata": {},
   "source": [
    "- **Networking:**\n"
   ]
  },
  {
   "cell_type": "markdown",
   "id": "0ac27e7e",
   "metadata": {},
   "source": [
    "  - **Requests:** Simple HTTP library for making network requests.\n"
   ]
  },
  {
   "cell_type": "markdown",
   "id": "339d9acd",
   "metadata": {},
   "source": [
    "  - **Paramiko:** Library for SSH2 protocol to connect to remote machines.\n"
   ]
  },
  {
   "cell_type": "markdown",
   "id": "26d15041",
   "metadata": {},
   "source": [
    "- **Game Development:**\n"
   ]
  },
  {
   "cell_type": "markdown",
   "id": "a94a0bfb",
   "metadata": {},
   "source": [
    "  - **Pygame:** Set of Python modules for writing video games.\n"
   ]
  },
  {
   "cell_type": "markdown",
   "id": "285385f8",
   "metadata": {},
   "source": [
    "- **Natural Language Processing:**\n"
   ]
  },
  {
   "cell_type": "markdown",
   "id": "39bdf6fb",
   "metadata": {},
   "source": [
    "  - **NLTK:** Natural Language Toolkit for working with human language data.\n"
   ]
  },
  {
   "cell_type": "markdown",
   "id": "e1a84791",
   "metadata": {},
   "source": [
    "  - **spaCy:** Library for advanced NLP with Python.\n"
   ]
  },
  {
   "cell_type": "markdown",
   "id": "eb908c6b",
   "metadata": {},
   "source": [
    "  - **Gensim:** Topic modeling and document similarity library.\n"
   ]
  },
  {
   "cell_type": "markdown",
   "id": "356e83bd",
   "metadata": {},
   "source": [
    "- **Computer Vision:**\n"
   ]
  },
  {
   "cell_type": "markdown",
   "id": "14f0c9ab",
   "metadata": {},
   "source": [
    "  - **OpenCV:** Library for real-time computer vision.\n"
   ]
  },
  {
   "cell_type": "markdown",
   "id": "7b6b2930",
   "metadata": {},
   "source": [
    "\n"
   ]
  },
  {
   "cell_type": "markdown",
   "id": "2cc484c2",
   "metadata": {},
   "source": [
    "### 2. Research on Statistical Measures\n"
   ]
  },
  {
   "cell_type": "markdown",
   "id": "bd8ec3fc",
   "metadata": {},
   "source": [
    "- **Min:** The smallest value in a dataset.\n"
   ]
  },
  {
   "cell_type": "markdown",
   "id": "81e30bd4",
   "metadata": {},
   "source": [
    "- **Max:** The largest value in a dataset.\n"
   ]
  },
  {
   "cell_type": "markdown",
   "id": "e3416d62",
   "metadata": {},
   "source": [
    "- **Mean:** The average of all values in a dataset.\n"
   ]
  },
  {
   "cell_type": "markdown",
   "id": "bd311cb7",
   "metadata": {},
   "source": [
    "- **Median:** The middle value in a dataset when it is ordered.\n"
   ]
  },
  {
   "cell_type": "markdown",
   "id": "0000ebc2",
   "metadata": {},
   "source": [
    "- **Mode:** The most frequently occurring value(s) in a dataset.\n"
   ]
  },
  {
   "cell_type": "markdown",
   "id": "36936087",
   "metadata": {},
   "source": [
    "- **Deviation (Standard Deviation):** A measure of the amount of variation or dispersion in a dataset.\n"
   ]
  },
  {
   "cell_type": "markdown",
   "id": "30115466",
   "metadata": {},
   "source": [
    "- **Variance:** The average of the squared differences from the mean, indicating the spread of a dataset.\n"
   ]
  },
  {
   "cell_type": "markdown",
   "id": "33b0b652",
   "metadata": {},
   "source": [
    "- **Correlation:** A statistical measure that expresses the extent to which two variables are linearly related.\n"
   ]
  },
  {
   "cell_type": "markdown",
   "id": "f3e44115",
   "metadata": {},
   "source": [
    "\n"
   ]
  },
  {
   "cell_type": "markdown",
   "id": "b81de73e",
   "metadata": {},
   "source": [
    "### 3. Use Cases of NumPy, Pandas, & Matplotlib\n"
   ]
  },
  {
   "cell_type": "markdown",
   "id": "2d2dc68f",
   "metadata": {},
   "source": [
    "- **NumPy:**\n"
   ]
  },
  {
   "cell_type": "markdown",
   "id": "2481a81d",
   "metadata": {},
   "source": [
    "  - Efficiently handle large datasets.\n"
   ]
  },
  {
   "cell_type": "markdown",
   "id": "03d07767",
   "metadata": {},
   "source": [
    "  - Perform mathematical operations on arrays and matrices.\n"
   ]
  },
  {
   "cell_type": "markdown",
   "id": "439b7c80",
   "metadata": {},
   "source": [
    "  - Support for linear algebra, Fourier transform, and random number capabilities.\n"
   ]
  },
  {
   "cell_type": "markdown",
   "id": "fb40af5f",
   "metadata": {},
   "source": [
    "- **Pandas:**\n"
   ]
  },
  {
   "cell_type": "markdown",
   "id": "f1bb339f",
   "metadata": {},
   "source": [
    "  - Data cleaning and preparation.\n"
   ]
  },
  {
   "cell_type": "markdown",
   "id": "508a1c30",
   "metadata": {},
   "source": [
    "  - Data analysis and manipulation with DataFrame and Series.\n"
   ]
  },
  {
   "cell_type": "markdown",
   "id": "2a34ad58",
   "metadata": {},
   "source": [
    "  - Handling time series data.\n"
   ]
  },
  {
   "cell_type": "markdown",
   "id": "8028f648",
   "metadata": {},
   "source": [
    "- **Matplotlib:**\n"
   ]
  },
  {
   "cell_type": "markdown",
   "id": "79cca535",
   "metadata": {},
   "source": [
    "  - Creating static, interactive, and animated plots.\n"
   ]
  },
  {
   "cell_type": "markdown",
   "id": "f17f0368",
   "metadata": {},
   "source": [
    "  - Visualizing data distributions, trends, and relationships.\n"
   ]
  },
  {
   "cell_type": "markdown",
   "id": "46f83aba",
   "metadata": {},
   "source": [
    "  - Customizing plots with labels, colors, and annotations.\n"
   ]
  },
  {
   "cell_type": "markdown",
   "id": "fdfd4795",
   "metadata": {},
   "source": [
    "\n"
   ]
  },
  {
   "cell_type": "markdown",
   "id": "16997d35",
   "metadata": {},
   "source": [
    "# Practice Questions\n"
   ]
  },
  {
   "cell_type": "markdown",
   "id": "f5252908",
   "metadata": {},
   "source": [
    "1. **Create a 4x4 zero array:**\n"
   ]
  },
  {
   "cell_type": "code",
   "execution_count": 30,
   "id": "eed817d0-42b9-4987-b784-ea9ba999d83f",
   "metadata": {},
   "outputs": [],
   "source": [
    "import numpy as np\n"
   ]
  },
  {
   "cell_type": "code",
   "execution_count": 31,
   "id": "d5b27a56-41d9-47fd-ba35-7958fb9f9622",
   "metadata": {},
   "outputs": [],
   "source": [
    "zero_array = np.zeros((4, 4))\n"
   ]
  },
  {
   "cell_type": "code",
   "execution_count": 32,
   "id": "b48486ab-4d08-42f0-8d1f-74951e427bbc",
   "metadata": {},
   "outputs": [
    {
     "data": {
      "text/plain": [
       "array([[0., 0., 0., 0.],\n",
       "       [0., 0., 0., 0.],\n",
       "       [0., 0., 0., 0.],\n",
       "       [0., 0., 0., 0.]])"
      ]
     },
     "execution_count": 32,
     "metadata": {},
     "output_type": "execute_result"
    }
   ],
   "source": [
    "zero_array\n"
   ]
  },
  {
   "cell_type": "markdown",
   "id": "7b70023b",
   "metadata": {},
   "source": [
    "```\n"
   ]
  },
  {
   "cell_type": "markdown",
   "id": "e437ce84",
   "metadata": {},
   "source": [
    "2. **Create a 2x3 ones array:**\n"
   ]
  },
  {
   "cell_type": "code",
   "execution_count": 33,
   "id": "c3a21d7f-a730-4f52-a644-14c3467f5fc9",
   "metadata": {},
   "outputs": [],
   "source": [
    "ones_array = np.ones((2, 3))\n"
   ]
  },
  {
   "cell_type": "code",
   "execution_count": 34,
   "id": "944ad7cd-f6d0-450c-b2e4-c81528d7cb05",
   "metadata": {},
   "outputs": [
    {
     "data": {
      "text/plain": [
       "array([[1., 1., 1.],\n",
       "       [1., 1., 1.]])"
      ]
     },
     "execution_count": 34,
     "metadata": {},
     "output_type": "execute_result"
    }
   ],
   "source": [
    "ones_array\n"
   ]
  },
  {
   "cell_type": "markdown",
   "id": "e48d585b",
   "metadata": {},
   "source": [
    "```\n"
   ]
  },
  {
   "cell_type": "markdown",
   "id": "e87134d4",
   "metadata": {},
   "source": [
    "3. **Create a 3x3 full array filled with the value 2:**\n"
   ]
  },
  {
   "cell_type": "code",
   "execution_count": 35,
   "id": "6ba74a66-59c8-4b2a-b5f2-23cb7cb1b518",
   "metadata": {},
   "outputs": [],
   "source": [
    "full_array = np.full((3, 3), 2)\n"
   ]
  },
  {
   "cell_type": "code",
   "execution_count": 36,
   "id": "0ef292e0-030a-4c32-ad1d-ea922a4d40d3",
   "metadata": {},
   "outputs": [
    {
     "data": {
      "text/plain": [
       "array([[2, 2, 2],\n",
       "       [2, 2, 2],\n",
       "       [2, 2, 2]])"
      ]
     },
     "execution_count": 36,
     "metadata": {},
     "output_type": "execute_result"
    }
   ],
   "source": [
    "full_array\n"
   ]
  },
  {
   "cell_type": "markdown",
   "id": "1c5a8aa3",
   "metadata": {},
   "source": [
    "```\n"
   ]
  },
  {
   "cell_type": "markdown",
   "id": "f418cc7c",
   "metadata": {},
   "source": [
    "4. **Create a 4x4 identity matrix:**\n"
   ]
  },
  {
   "cell_type": "code",
   "execution_count": 37,
   "id": "7568a6c1-5ccf-47ad-a669-af9bb2e674ed",
   "metadata": {},
   "outputs": [],
   "source": [
    "identity_matrix = np.eye(4)\n"
   ]
  },
  {
   "cell_type": "code",
   "execution_count": 38,
   "id": "dff3f350-c3af-4b3c-ae71-d350fdbf275d",
   "metadata": {},
   "outputs": [
    {
     "data": {
      "text/plain": [
       "array([[1., 0., 0., 0.],\n",
       "       [0., 1., 0., 0.],\n",
       "       [0., 0., 1., 0.],\n",
       "       [0., 0., 0., 1.]])"
      ]
     },
     "execution_count": 38,
     "metadata": {},
     "output_type": "execute_result"
    }
   ],
   "source": [
    "identity_matrix\n"
   ]
  },
  {
   "cell_type": "markdown",
   "id": "0c4e6aee",
   "metadata": {},
   "source": [
    "```\n"
   ]
  },
  {
   "cell_type": "markdown",
   "id": "0fb0c11b",
   "metadata": {},
   "source": [
    "5. **Create a linear series from 0 to 20 with a step of 4:**\n"
   ]
  },
  {
   "cell_type": "code",
   "execution_count": 39,
   "id": "a38beb8a-7100-4f5b-8055-8e40a78b12ef",
   "metadata": {},
   "outputs": [],
   "source": [
    "linear_series = np.arange(0, 21, 4)\n"
   ]
  },
  {
   "cell_type": "code",
   "execution_count": 40,
   "id": "c1e8d63d-c0f6-41cf-b945-b6a163a47d53",
   "metadata": {},
   "outputs": [
    {
     "data": {
      "text/plain": [
       "array([ 0,  4,  8, 12, 16, 20])"
      ]
     },
     "execution_count": 40,
     "metadata": {},
     "output_type": "execute_result"
    }
   ],
   "source": [
    "linear_series\n"
   ]
  },
  {
   "cell_type": "markdown",
   "id": "cecae43f",
   "metadata": {},
   "source": [
    "```\n"
   ]
  },
  {
   "cell_type": "markdown",
   "id": "e032e1e5",
   "metadata": {},
   "source": [
    "\n"
   ]
  },
  {
   "cell_type": "markdown",
   "id": "4eeb7c54",
   "metadata": {},
   "source": [
    "# Interview Questions\n"
   ]
  },
  {
   "cell_type": "markdown",
   "id": "fbe7ae5c",
   "metadata": {},
   "source": [
    "1. **What is the difference between `np.zeros()` and `np.ones()`?**\n"
   ]
  },
  {
   "cell_type": "markdown",
   "id": "ccb44370",
   "metadata": {},
   "source": [
    "  - `np.zeros()` creates an array filled with zeros, while `np.ones()` creates an array filled with ones.\n"
   ]
  },
  {
   "cell_type": "markdown",
   "id": "09a81c20",
   "metadata": {},
   "source": [
    "\n"
   ]
  },
  {
   "cell_type": "markdown",
   "id": "1d03b730",
   "metadata": {},
   "source": [
    "2. **How do you create a 3x3 identity matrix using NumPy?**\n"
   ]
  },
  {
   "cell_type": "code",
   "execution_count": 41,
   "id": "6ee11f74-6f6b-4262-8610-18afb662b44a",
   "metadata": {},
   "outputs": [],
   "source": [
    "identity_matrix = np.eye(3)\n"
   ]
  },
  {
   "cell_type": "code",
   "execution_count": 42,
   "id": "88dc93b7-d104-415c-a550-6cdaef13fbd0",
   "metadata": {},
   "outputs": [
    {
     "data": {
      "text/plain": [
       "array([[1., 0., 0.],\n",
       "       [0., 1., 0.],\n",
       "       [0., 0., 1.]])"
      ]
     },
     "execution_count": 42,
     "metadata": {},
     "output_type": "execute_result"
    }
   ],
   "source": [
    "identity_matrix\n"
   ]
  },
  {
   "cell_type": "markdown",
   "id": "9e257d49",
   "metadata": {},
   "source": [
    "```\n"
   ]
  },
  {
   "cell_type": "markdown",
   "id": "699e53a7",
   "metadata": {},
   "source": [
    "\n"
   ]
  },
  {
   "cell_type": "markdown",
   "id": "653d7f7b",
   "metadata": {},
   "source": [
    "3. **What is the purpose of the `np.full()` function?**\n"
   ]
  },
  {
   "cell_type": "markdown",
   "id": "4b0993e3",
   "metadata": {},
   "source": [
    "  - `np.full()` creates an array of a specified shape and fills it with a specified value.\n"
   ]
  },
  {
   "cell_type": "markdown",
   "id": "0eb54b9b",
   "metadata": {},
   "source": [
    "\n"
   ]
  },
  {
   "cell_type": "markdown",
   "id": "31835029",
   "metadata": {},
   "source": [
    "4. **How do you create a linear series with a specified start, stop, and step values?**\n"
   ]
  },
  {
   "cell_type": "code",
   "execution_count": 43,
   "id": "231028b9-0f27-47b0-ac15-216ec8fdea73",
   "metadata": {},
   "outputs": [],
   "source": [
    "linear_series = np.arange(1,50,2)"
   ]
  },
  {
   "cell_type": "code",
   "execution_count": 44,
   "id": "2420e557-5c75-4c12-9e1f-08f9923e0399",
   "metadata": {},
   "outputs": [
    {
     "data": {
      "text/plain": [
       "array([ 1,  3,  5,  7,  9, 11, 13, 15, 17, 19, 21, 23, 25, 27, 29, 31, 33,\n",
       "       35, 37, 39, 41, 43, 45, 47, 49])"
      ]
     },
     "execution_count": 44,
     "metadata": {},
     "output_type": "execute_result"
    }
   ],
   "source": [
    "linear_series\n"
   ]
  },
  {
   "cell_type": "markdown",
   "id": "bbba2170",
   "metadata": {},
   "source": [
    "```\n"
   ]
  },
  {
   "cell_type": "markdown",
   "id": "b98f0afc",
   "metadata": {},
   "source": [
    "\n"
   ]
  },
  {
   "cell_type": "markdown",
   "id": "5b42d129",
   "metadata": {},
   "source": [
    "5. **What is the difference between a zero array and a full array?**\n"
   ]
  },
  {
   "cell_type": "markdown",
   "id": "27255eb4",
   "metadata": {},
   "source": [
    "  - A zero array is filled with zeros, while a full array is filled with a specified value.\n"
   ]
  },
  {
   "cell_type": "markdown",
   "id": "04f07e4b",
   "metadata": {},
   "source": [
    "\n"
   ]
  },
  {
   "cell_type": "markdown",
   "id": "bf9b34f9",
   "metadata": {},
   "source": [
    "6. **Can you create a NumPy array with random values from a normal distribution?**\n"
   ]
  },
  {
   "cell_type": "code",
   "execution_count": 45,
   "id": "46443b08-8bba-4f26-9559-15435af0663d",
   "metadata": {},
   "outputs": [],
   "source": [
    "random_normal_array = np.random.normal(loc=0.0, scale=1.0, size=(3, 3))\n"
   ]
  },
  {
   "cell_type": "code",
   "execution_count": 46,
   "id": "2757d5c6-f707-4676-816f-df9cabb07bcc",
   "metadata": {},
   "outputs": [
    {
     "data": {
      "text/plain": [
       "array([[ 1.27364278, -0.4435695 , -0.36206417],\n",
       "       [-0.83243491,  0.1569086 ,  0.37702052],\n",
       "       [-0.9448307 ,  0.57420011, -0.34993543]])"
      ]
     },
     "execution_count": 46,
     "metadata": {},
     "output_type": "execute_result"
    }
   ],
   "source": [
    "random_normal_array\n"
   ]
  },
  {
   "cell_type": "markdown",
   "id": "4e803a1b",
   "metadata": {},
   "source": [
    "```\n"
   ]
  },
  {
   "cell_type": "markdown",
   "id": "e1194c2f",
   "metadata": {},
   "source": [
    "\n"
   ]
  },
  {
   "cell_type": "markdown",
   "id": "915d751f",
   "metadata": {},
   "source": [
    "7. **How do you create a 2x2 ones array using NumPy?**\n"
   ]
  },
  {
   "cell_type": "code",
   "execution_count": 47,
   "id": "a1d115f2-177e-4fc6-b5d4-a8978e4f375c",
   "metadata": {},
   "outputs": [],
   "source": [
    "ones_array = np.ones((2, 2))\n"
   ]
  },
  {
   "cell_type": "code",
   "execution_count": 48,
   "id": "0ac65f98-2f73-47d7-8ecf-a90f8d6521a4",
   "metadata": {},
   "outputs": [
    {
     "data": {
      "text/plain": [
       "array([[1., 1.],\n",
       "       [1., 1.]])"
      ]
     },
     "execution_count": 48,
     "metadata": {},
     "output_type": "execute_result"
    }
   ],
   "source": [
    "ones_array\n"
   ]
  },
  {
   "cell_type": "markdown",
   "id": "1e47d225",
   "metadata": {},
   "source": [
    "```\n"
   ]
  },
  {
   "cell_type": "markdown",
   "id": "37533fbc",
   "metadata": {},
   "source": [
    "\n"
   ]
  },
  {
   "cell_type": "markdown",
   "id": "7f1eda5c",
   "metadata": {},
   "source": [
    "8. **What is the purpose of the `np.eye()` function?**\n"
   ]
  },
  {
   "cell_type": "markdown",
   "id": "667a4b2f",
   "metadata": {},
   "source": [
    "  - `np.eye()` creates an identity matrix with ones on the diagonal and zeros elsewhere.\n"
   ]
  },
  {
   "cell_type": "markdown",
   "id": "a258e2de",
   "metadata": {},
   "source": [
    "\n"
   ]
  },
  {
   "cell_type": "markdown",
   "id": "64183a6f",
   "metadata": {},
   "source": [
    "9. **Can you create a NumPy array with a specified shape and fill value?**\n"
   ]
  },
  {
   "cell_type": "code",
   "execution_count": 49,
   "id": "1892d5b7-e188-4193-b07f-612e2ae95d52",
   "metadata": {},
   "outputs": [],
   "source": [
    "full_array = np.full((4,4), 5)\n"
   ]
  },
  {
   "cell_type": "code",
   "execution_count": 50,
   "id": "6b226109-4fcb-4b37-8e86-93383edf0330",
   "metadata": {},
   "outputs": [
    {
     "data": {
      "text/plain": [
       "array([[5, 5, 5, 5],\n",
       "       [5, 5, 5, 5],\n",
       "       [5, 5, 5, 5],\n",
       "       [5, 5, 5, 5]])"
      ]
     },
     "execution_count": 50,
     "metadata": {},
     "output_type": "execute_result"
    }
   ],
   "source": [
    "full_array\n"
   ]
  },
  {
   "cell_type": "markdown",
   "id": "8a7abb86",
   "metadata": {},
   "source": [
    "```\n"
   ]
  },
  {
   "cell_type": "markdown",
   "id": "07f1d0a6",
   "metadata": {},
   "source": [
    "\n"
   ]
  },
  {
   "cell_type": "markdown",
   "id": "c0615d45",
   "metadata": {},
   "source": [
    "10. **How do you create a distribution array with random values from a uniform distribution?**\n"
   ]
  },
  {
   "cell_type": "code",
   "execution_count": 51,
   "id": "e589c22f-39d6-472b-9ab5-433e94f79dff",
   "metadata": {},
   "outputs": [],
   "source": [
    "random_uniform_array = np.random.uniform(low=0.0, high=1.0, size=(3, 3))\n"
   ]
  },
  {
   "cell_type": "code",
   "execution_count": 52,
   "id": "4dd319fa-9a5a-47a2-a34c-7b9b68a8f7d3",
   "metadata": {},
   "outputs": [
    {
     "data": {
      "text/plain": [
       "array([[0.38944268, 0.34763722, 0.4284262 ],\n",
       "       [0.64673591, 0.30016568, 0.97340024],\n",
       "       [0.61788196, 0.01866363, 0.25677849]])"
      ]
     },
     "execution_count": 52,
     "metadata": {},
     "output_type": "execute_result"
    }
   ],
   "source": [
    "random_uniform_array\n"
   ]
  },
  {
   "cell_type": "markdown",
   "id": "ff23acc4",
   "metadata": {},
   "source": [
    "```\n"
   ]
  }
 ],
 "metadata": {
  "kernelspec": {
   "display_name": "Python 3 (ipykernel)",
   "language": "python",
   "name": "python3"
  },
  "language_info": {
   "codemirror_mode": {
    "name": "ipython",
    "version": 3
   },
   "file_extension": ".py",
   "mimetype": "text/x-python",
   "name": "python",
   "nbconvert_exporter": "python",
   "pygments_lexer": "ipython3",
   "version": "3.11.7"
  },
  "widgets": {
   "application/vnd.jupyter.widget-state+json": {
    "state": {},
    "version_major": 2,
    "version_minor": 0
   }
  }
 },
 "nbformat": 4,
 "nbformat_minor": 5
}
