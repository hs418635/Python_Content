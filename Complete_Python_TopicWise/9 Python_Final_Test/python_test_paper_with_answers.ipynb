{
 "cells": [
  {
   "cell_type": "markdown",
   "id": "c266480e",
   "metadata": {},
   "source": [
    "## Python Test Paper with Answers\n",
    "\n",
    "**Time Limit:** 1 hour 30 minutes\n",
    "\n",
    "**Instructions:**\n",
    "- Answer all questions.\n",
    "- Write your code neatly and clearly.\n",
    "- Ensure you read each question carefully before attempting to answer.\n",
    "---"
   ]
  },
  {
   "cell_type": "markdown",
   "id": "7ea58893",
   "metadata": {},
   "source": [
    "### Section A: Theory Questions\n"
   ]
  },
  {
   "cell_type": "markdown",
   "id": "599c306e",
   "metadata": {},
   "source": [
    "#### 1. Operators\n",
    "- **What are operators in Python? List and explain different types of operators with examples.**\n",
    "  - **Answer:**\n",
    "    Operators are special symbols in Python that perform operations on variables and values.\n",
    "    - **Arithmetic Operators:** `+`, `-`, `*`, `/`, `%`, `**`, `//`\n",
    "      - Example: `3 + 2 = 5`\n",
    "    - **Comparison Operators:** `==`, `!=`, `>`, `<`, `>=`, `<=`\n",
    "      - Example: `3 > 2` is `True`\n",
    "    - **Logical Operators:** `and`, `or`, `not`\n",
    "      - Example: `True and False` is `False`\n",
    "    - **Assignment Operators:** `=`, `+=`, `-=`, `*=`, `/=`\n",
    "      - Example: `x += 1` is equivalent to `x = x + 1`\n",
    "    - **Bitwise Operators:** `&`, `|`, `^`, `~`, `<<`, `>>`\n",
    "      - Example: `5 & 3` is `1`\n",
    "    - **Membership Operators:** `in`, `not in`\n",
    "      - Example: `'a' in 'apple'` is `True`\n",
    "    - **Identity Operators:** `is`, `is not`\n",
    "      - Example: `a is b` checks if `a` and `b` are the same object"
   ]
  },
  {
   "cell_type": "markdown",
   "id": "dc19a9b6",
   "metadata": {},
   "source": [
    "#### 2. Conditional Statements\n",
    "- **Explain the use of if, elif, and else statements in Python with an example.**\n",
    "  - **Answer:**\n",
    "    if, elif, and else statements are used for decision making in Python.\n",
    "    ```python\n",
    "    x = 10\n",
    "    if x > 0:\n",
    "        print(\"x is positive\")\n",
    "    elif x < 0:\n",
    "        print(\"x is negative\")\n",
    "    else:\n",
    "        print(\"x is zero\")\n",
    "    ```"
   ]
  },
  {
   "cell_type": "markdown",
   "id": "c83fbd53",
   "metadata": {},
   "source": [
    "#### 3. Loops\n",
    "- **Differentiate between for loop and while loop in Python. Provide an example for each.**\n",
    "  - **Answer:**\n",
    "    A for loop iterates over a sequence (like a list, tuple, or string).\n",
    "    ```python\n",
    "    for i in range(5):\n",
    "        print(i)\n",
    "    ```\n",
    "    A while loop repeats as long as a condition is true.\n",
    "    ```python\n",
    "    i = 0\n",
    "    while i < 5:\n",
    "        print(i)\n",
    "        i += 1\n",
    "    ```"
   ]
  },
  {
   "cell_type": "markdown",
   "id": "57ccace6",
   "metadata": {},
   "source": [
    "#### 4. Functions\n",
    "- **What are functions in Python? Explain the difference between built-in functions and user-defined functions with examples.**\n",
    "  - **Answer:**\n",
    "    Functions are blocks of reusable code that perform a specific task.\n",
    "    - **Built-in Functions:** Provided by Python. Example: `print()`, `len()`\n",
    "    - **User-defined Functions:** Defined by the user. Example:\n",
    "      ```python\n",
    "      def greet(name):\n",
    "          return f\"Hello, {name}\"\n",
    "      ```"
   ]
  },
  {
   "cell_type": "markdown",
   "id": "f071b452",
   "metadata": {},
   "source": [
    "#### 5. Error and Exception Handling\n",
    "- **What is the purpose of error and exception handling in Python? Explain the use of try, except, finally, and raise with examples.**\n",
    "  - **Answer:**\n",
    "    Error and exception handling manage runtime errors, allowing the program to continue or fail gracefully.\n",
    "    ```python\n",
    "    try:\n",
    "        x = 1 / 0\n",
    "    except ZeroDivisionError:\n",
    "        print(\"Cannot divide by zero\")\n",
    "    finally:\n",
    "        print(\"This runs no matter what\")\n",
    "    ```"
   ]
  },
  {
   "cell_type": "markdown",
   "id": "ce386f75",
   "metadata": {},
   "source": [
    "#### 6. Object-Oriented Programming\n",
    "- **What are the basic principles of Object-Oriented Programming (OOP)? Explain each principle briefly.**\n",
    "  - **Answer:**\n",
    "    - **Encapsulation:** Bundling data and methods that operate on the data within one unit (class).\n",
    "    - **Abstraction:** Hiding complex implementation details and showing only the necessary features.\n",
    "    - **Inheritance:** Creating a new class using the properties and methods of an existing class.\n",
    "    - **Polymorphism:** Allowing methods to do different things based on the object it is acting upon."
   ]
  },
  {
   "cell_type": "markdown",
   "id": "36522636",
   "metadata": {},
   "source": [
    "### Section B: Coding Questions\n"
   ]
  },
  {
   "cell_type": "markdown",
   "id": "493d1462",
   "metadata": {},
   "source": [
    "#### 1. Operators\n",
    "- **Write a Python program to swap two numbers without using a temporary variable.**"
   ]
  },
  {
   "cell_type": "code",
   "execution_count": 2,
   "id": "912a76b2",
   "metadata": {},
   "outputs": [
    {
     "name": "stdout",
     "output_type": "stream",
     "text": [
      "3 5\n"
     ]
    }
   ],
   "source": [
    "# Answer:\n",
    "a = 5\n",
    "b = 3\n",
    "a, b = b, a\n",
    "print(a, b)  # Output: 3 5"
   ]
  },
  {
   "cell_type": "markdown",
   "id": "29823b34",
   "metadata": {},
   "source": [
    "#### 2. Conditional Statements\n",
    "- **Write a Python program that takes an integer input from the user and prints whether it is even or odd.**"
   ]
  },
  {
   "cell_type": "code",
   "execution_count": 3,
   "id": "f6c52d09",
   "metadata": {},
   "outputs": [
    {
     "name": "stdin",
     "output_type": "stream",
     "text": [
      "Enter a number:  4\n"
     ]
    },
    {
     "name": "stdout",
     "output_type": "stream",
     "text": [
      "Even\n"
     ]
    }
   ],
   "source": [
    "# Answer:\n",
    "num = int(input(\"Enter a number: \"))\n",
    "if num % 2 == 0:\n",
    "    print(\"Even\")\n",
    "else:\n",
    "    print(\"Odd\")"
   ]
  },
  {
   "cell_type": "markdown",
   "id": "f58d64a5",
   "metadata": {},
   "source": [
    "#### 3. While Loop\n",
    "- **Write a Python program to print the first 10 natural numbers using a while loop.**"
   ]
  },
  {
   "cell_type": "code",
   "execution_count": 4,
   "id": "6055f4ef",
   "metadata": {},
   "outputs": [
    {
     "name": "stdout",
     "output_type": "stream",
     "text": [
      "1\n",
      "2\n",
      "3\n",
      "4\n",
      "5\n",
      "6\n",
      "7\n",
      "8\n",
      "9\n",
      "10\n"
     ]
    }
   ],
   "source": [
    "# Answer:\n",
    "i = 1\n",
    "while i <= 10:\n",
    "    print(i)\n",
    "    i += 1"
   ]
  },
  {
   "cell_type": "markdown",
   "id": "ac1b16f1",
   "metadata": {},
   "source": [
    "#### 4. For Loop\n",
    "- **Write a Python program to print the multiplication table of a given number using a for loop.**"
   ]
  },
  {
   "cell_type": "code",
   "execution_count": 5,
   "id": "f1bd3326",
   "metadata": {},
   "outputs": [
    {
     "name": "stdin",
     "output_type": "stream",
     "text": [
      "Enter a number:  5\n"
     ]
    },
    {
     "name": "stdout",
     "output_type": "stream",
     "text": [
      "5 x 1 = 5\n",
      "5 x 2 = 10\n",
      "5 x 3 = 15\n",
      "5 x 4 = 20\n",
      "5 x 5 = 25\n",
      "5 x 6 = 30\n",
      "5 x 7 = 35\n",
      "5 x 8 = 40\n",
      "5 x 9 = 45\n",
      "5 x 10 = 50\n"
     ]
    }
   ],
   "source": [
    "# Answer:\n",
    "num = int(input(\"Enter a number: \"))\n",
    "for i in range(1, 11):\n",
    "    print(f\"{num} x {i} = {num * i}\")"
   ]
  },
  {
   "cell_type": "markdown",
   "id": "6dcf45eb",
   "metadata": {},
   "source": [
    "#### 5. Functions\n",
    "- **Write a Python function that takes two numbers as arguments and returns their sum.**"
   ]
  },
  {
   "cell_type": "code",
   "execution_count": 6,
   "id": "509d6933",
   "metadata": {},
   "outputs": [],
   "source": [
    "# Answer:\n",
    "def add(a, b):\n",
    "    return a + b"
   ]
  },
  {
   "cell_type": "markdown",
   "id": "81868d72",
   "metadata": {},
   "source": [
    "#### 6. args and kwargs\n",
    "- **Write a Python function that accepts any number of positional and keyword arguments and prints them.**"
   ]
  },
  {
   "cell_type": "code",
   "execution_count": 7,
   "id": "823cafd1",
   "metadata": {},
   "outputs": [],
   "source": [
    "# Answer:\n",
    "def print_args_kwargs(*args, **kwargs):\n",
    "    print(\"Positional arguments:\", args)\n",
    "    print(\"Keyword arguments:\", kwargs)"
   ]
  },
  {
   "cell_type": "markdown",
   "id": "ec2d5785",
   "metadata": {},
   "source": [
    "#### 7. Global and Local Scope\n",
    "- **Write a Python program that demonstrates the difference between global and local variables.**"
   ]
  },
  {
   "cell_type": "code",
   "execution_count": 8,
   "id": "08cc1c72",
   "metadata": {},
   "outputs": [
    {
     "name": "stdout",
     "output_type": "stream",
     "text": [
      "Inside function: local\n",
      "Outside function: global\n"
     ]
    }
   ],
   "source": [
    "# Answer:\n",
    "x = \"global\"\n",
    "\n",
    "def my_func():\n",
    "    x = \"local\"\n",
    "    print(\"Inside function:\", x)\n",
    "\n",
    "my_func()\n",
    "print(\"Outside function:\", x)"
   ]
  },
  {
   "cell_type": "markdown",
   "id": "be6996f5",
   "metadata": {},
   "source": [
    "#### 8. Error and Exception Handling\n",
    "- **Write a Python program that handles the ZeroDivisionError exception.**"
   ]
  },
  {
   "cell_type": "code",
   "execution_count": 9,
   "id": "ab1b5163",
   "metadata": {},
   "outputs": [
    {
     "name": "stdout",
     "output_type": "stream",
     "text": [
      "Cannot divide by zero\n"
     ]
    }
   ],
   "source": [
    "# Answer:\n",
    "try:\n",
    "    result = 10 / 0\n",
    "except ZeroDivisionError:\n",
    "    print(\"Cannot divide by zero\")"
   ]
  },
  {
   "cell_type": "markdown",
   "id": "56463bf0",
   "metadata": {},
   "source": [
    "#### 9. Object-Oriented Programming (OOP)\n",
    "- **Define a class Person with attributes name and age. Create an instance of the class and print the attributes.**"
   ]
  },
  {
   "cell_type": "code",
   "execution_count": 10,
   "id": "c53441ab",
   "metadata": {},
   "outputs": [
    {
     "name": "stdout",
     "output_type": "stream",
     "text": [
      "John\n",
      "30\n"
     ]
    }
   ],
   "source": [
    "# Answer:\n",
    "class Person:\n",
    "    def __init__(self, name, age):\n",
    "        self.name = name\n",
    "        self.age = age\n",
    "\n",
    "person = Person(\"John\", 30)\n",
    "print(person.name)\n",
    "print(person.age)"
   ]
  },
  {
   "cell_type": "markdown",
   "id": "20b2eb5a",
   "metadata": {},
   "source": [
    "### Section C: Practical Implementation\n"
   ]
  },
  {
   "cell_type": "markdown",
   "id": "5aa6d126",
   "metadata": {},
   "source": [
    "#### 1. Conditional Statements and Loops\n",
    "- **Write a Python program that prints all the prime numbers between 1 and 50.**"
   ]
  },
  {
   "cell_type": "code",
   "execution_count": 11,
   "id": "3c455d01",
   "metadata": {},
   "outputs": [
    {
     "name": "stdout",
     "output_type": "stream",
     "text": [
      "2\n",
      "3\n",
      "5\n",
      "7\n",
      "11\n",
      "13\n",
      "17\n",
      "19\n",
      "23\n",
      "29\n",
      "31\n",
      "37\n",
      "41\n",
      "43\n",
      "47\n"
     ]
    }
   ],
   "source": [
    "# Answer:\n",
    "def is_prime(num):\n",
    "    if num < 2:\n",
    "        return False\n",
    "    for i in range(2, num):\n",
    "        if num % i == 0:\n",
    "            return False\n",
    "    return True\n",
    "\n",
    "for num in range(1, 51):\n",
    "    if is_prime(num):\n",
    "        print(num)"
   ]
  },
  {
   "cell_type": "markdown",
   "id": "dee484d5",
   "metadata": {},
   "source": [
    "#### 2. Functions and Scope\n",
    "- **Write a Python function to calculate the factorial of a number. Demonstrate the use of both global and local variables within the function.**"
   ]
  },
  {
   "cell_type": "code",
   "execution_count": 12,
   "id": "847a9474",
   "metadata": {},
   "outputs": [
    {
     "name": "stdout",
     "output_type": "stream",
     "text": [
      "Factorial of 5 is 120\n"
     ]
    }
   ],
   "source": [
    "# Answer:\n",
    "result = 1\n",
    "\n",
    "def factorial(n):\n",
    "    global result\n",
    "    if n == 0:\n",
    "        return 1\n",
    "    else:\n",
    "        result *= n\n",
    "        return factorial(n-1)\n",
    "\n",
    "num = 5\n",
    "factorial(num)\n",
    "print(f\"Factorial of {num} is {result}\")"
   ]
  },
  {
   "cell_type": "markdown",
   "id": "775490a3",
   "metadata": {},
   "source": [
    "#### 3. Error and Exception Handling with Custom Exceptions\n",
    "- **Write a Python program that defines a custom exception `NegativeNumberError`. The program should raise this exception if the user inputs a negative number when asked to enter a positive integer.**"
   ]
  },
  {
   "cell_type": "code",
   "execution_count": 13,
   "id": "9c2269db",
   "metadata": {},
   "outputs": [
    {
     "name": "stdin",
     "output_type": "stream",
     "text": [
      "Enter a positive integer:  5\n"
     ]
    },
    {
     "name": "stdout",
     "output_type": "stream",
     "text": [
      "Positive number entered: 5\n"
     ]
    }
   ],
   "source": [
    "# Answer:\n",
    "class NegativeNumberError(Exception):\n",
    "    pass\n",
    "\n",
    "num = int(input(\"Enter a positive integer: \"))\n",
    "\n",
    "if num < 0:\n",
    "    raise NegativeNumberError(\"Negative number entered!\")\n",
    "else:\n",
    "    print(\"Positive number entered:\", num)"
   ]
  },
  {
   "cell_type": "markdown",
   "id": "30e90cda",
   "metadata": {},
   "source": [
    "#### 4. Object-Oriented Programming (OOP)\n",
    "- **Define a class Rectangle with attributes length and width. Include methods to calculate the area and perimeter of the rectangle. Create an instance of the class and display the area and perimeter.**"
   ]
  },
  {
   "cell_type": "code",
   "execution_count": 14,
   "id": "09193238",
   "metadata": {},
   "outputs": [
    {
     "name": "stdout",
     "output_type": "stream",
     "text": [
      "Area: 20\n",
      "Perimeter: 18\n"
     ]
    }
   ],
   "source": [
    "# Answer:\n",
    "class Rectangle:\n",
    "    def __init__(self, length, width):\n",
    "        self.length = length\n",
    "        self.width = width\n",
    "\n",
    "    def area(self):\n",
    "        return self.length * self.width\n",
    "\n",
    "    def perimeter(self):\n",
    "        return 2 * (self.length + self.width)\n",
    "\n",
    "rect = Rectangle(4, 5)\n",
    "print(\"Area:\", rect.area())\n",
    "print(\"Perimeter:\", rect.perimeter())"
   ]
  },
  {
   "cell_type": "markdown",
   "id": "5714fc4f",
   "metadata": {},
   "source": [
    "---\n",
    "End of Paper"
   ]
  },
  {
   "cell_type": "code",
   "execution_count": null,
   "id": "9cd57a72-c8f0-4587-bc0f-3daf0d1010ee",
   "metadata": {},
   "outputs": [],
   "source": []
  }
 ],
 "metadata": {
  "kernelspec": {
   "display_name": "Python 3 (ipykernel)",
   "language": "python",
   "name": "python3"
  },
  "language_info": {
   "codemirror_mode": {
    "name": "ipython",
    "version": 3
   },
   "file_extension": ".py",
   "mimetype": "text/x-python",
   "name": "python",
   "nbconvert_exporter": "python",
   "pygments_lexer": "ipython3",
   "version": "3.11.7"
  },
  "widgets": {
   "application/vnd.jupyter.widget-state+json": {
    "state": {},
    "version_major": 2,
    "version_minor": 0
   }
  }
 },
 "nbformat": 4,
 "nbformat_minor": 5
}
