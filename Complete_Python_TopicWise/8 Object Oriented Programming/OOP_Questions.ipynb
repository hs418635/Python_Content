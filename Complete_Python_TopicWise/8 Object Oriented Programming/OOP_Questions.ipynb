{
 "cells": [
  {
   "cell_type": "markdown",
   "id": "50c14fd3",
   "metadata": {},
   "source": [
    "## Classes"
   ]
  },
  {
   "cell_type": "markdown",
   "id": "0bb8976e",
   "metadata": {},
   "source": [
    "### Question 1"
   ]
  },
  {
   "cell_type": "markdown",
   "id": "f0254e7c",
   "metadata": {},
   "source": [
    "Define a class `Person` with attributes `name` and `age`. How would you create an instance of this class and print the attributes?"
   ]
  },
  {
   "cell_type": "code",
   "execution_count": 4,
   "id": "8800a498",
   "metadata": {},
   "outputs": [
    {
     "name": "stdout",
     "output_type": "stream",
     "text": [
      "Alice\n",
      "30\n"
     ]
    }
   ],
   "source": [
    "\n",
    "class Person:\n",
    "    def __init__(self, name, age):\n",
    "        self.name = name\n",
    "        self.age = age\n",
    "\n",
    "person1 = Person(\"Alice\", 30)\n",
    "print(person1.name)\n",
    "print(person1.age)\n"
   ]
  },
  {
   "cell_type": "markdown",
   "id": "c918dab0",
   "metadata": {},
   "source": [
    "### Question 2"
   ]
  },
  {
   "cell_type": "markdown",
   "id": "e09d9da0",
   "metadata": {},
   "source": [
    "Create a class `Rectangle` with attributes `length` and `width`. Add a method `area` to calculate the area of the rectangle."
   ]
  },
  {
   "cell_type": "code",
   "execution_count": 5,
   "id": "dc5c7df1",
   "metadata": {},
   "outputs": [
    {
     "name": "stdout",
     "output_type": "stream",
     "text": [
      "50\n"
     ]
    }
   ],
   "source": [
    "\n",
    "class Rectangle:\n",
    "    def __init__(self, length, width):\n",
    "        self.length = length\n",
    "        self.width = width\n",
    "\n",
    "    def area(self):\n",
    "        return self.length * self.width\n",
    "\n",
    "rect1 = Rectangle(10, 5)\n",
    "print(rect1.area())"
   ]
  },
  {
   "cell_type": "markdown",
   "id": "1a12443d",
   "metadata": {},
   "source": [
    "## Methods"
   ]
  },
  {
   "cell_type": "markdown",
   "id": "129146ba",
   "metadata": {},
   "source": [
    "### Question 1"
   ]
  },
  {
   "cell_type": "markdown",
   "id": "3eea5ce6",
   "metadata": {},
   "source": [
    "Write a class `Circle` with a method `circumference` that returns the circumference of the circle. Use the value of π as 3.14."
   ]
  },
  {
   "cell_type": "code",
   "execution_count": 6,
   "id": "5d2cec81",
   "metadata": {},
   "outputs": [
    {
     "name": "stdout",
     "output_type": "stream",
     "text": [
      "43.96\n"
     ]
    }
   ],
   "source": [
    "\n",
    "class Circle:\n",
    "    def __init__(self, radius):\n",
    "        self.radius = radius\n",
    "\n",
    "    def circumference(self):\n",
    "        return 2 * 3.14 * self.radius\n",
    "\n",
    "circle1 = Circle(7)\n",
    "print(circle1.circumference())\n"
   ]
  },
  {
   "cell_type": "markdown",
   "id": "c03b123c",
   "metadata": {},
   "source": [
    "### Question 2"
   ]
  },
  {
   "cell_type": "markdown",
   "id": "d6752653",
   "metadata": {},
   "source": [
    "Define a class `BankAccount` with a method `deposit` that adds money to the account balance and a method `withdraw` that subtracts money from the account balance. Ensure the balance does not go negative."
   ]
  },
  {
   "cell_type": "code",
   "execution_count": 7,
   "id": "8eac2d7f",
   "metadata": {},
   "outputs": [
    {
     "name": "stdout",
     "output_type": "stream",
     "text": [
      "150\n",
      "120\n",
      "Insufficient funds\n"
     ]
    }
   ],
   "source": [
    "\n",
    "class BankAccount:\n",
    "    def __init__(self, initial_balance=0):\n",
    "        self.balance = initial_balance\n",
    "\n",
    "    def deposit(self, amount):\n",
    "        self.balance += amount\n",
    "\n",
    "    def withdraw(self, amount):\n",
    "        if amount <= self.balance:\n",
    "            self.balance -= amount\n",
    "        else:\n",
    "            print(\"Insufficient funds\")\n",
    "\n",
    "account = BankAccount(100)\n",
    "account.deposit(50)\n",
    "print(account.balance)\n",
    "account.withdraw(30)\n",
    "print(account.balance)\n",
    "account.withdraw(150)\n"
   ]
  },
  {
   "cell_type": "markdown",
   "id": "5d13c06e",
   "metadata": {},
   "source": [
    "## Attributes"
   ]
  },
  {
   "cell_type": "markdown",
   "id": "1667a9c2",
   "metadata": {},
   "source": [
    "### Question 1"
   ]
  },
  {
   "cell_type": "markdown",
   "id": "c24870c8",
   "metadata": {},
   "source": [
    "Create a class `Car` with attributes `make`, `model`, and `year`. Instantiate an object of the class and print its attributes."
   ]
  },
  {
   "cell_type": "code",
   "execution_count": 8,
   "id": "8c86e8cb",
   "metadata": {},
   "outputs": [
    {
     "name": "stdout",
     "output_type": "stream",
     "text": [
      "Toyota\n",
      "Corolla\n",
      "2020\n"
     ]
    }
   ],
   "source": [
    "\n",
    "class Car:\n",
    "    def __init__(self, make, model, year):\n",
    "        self.make = make\n",
    "        self.model = model\n",
    "        self.year = year\n",
    "\n",
    "car1 = Car(\"Toyota\", \"Corolla\", 2020)\n",
    "print(car1.make)\n",
    "print(car1.model)\n",
    "print(car1.year)\n"
   ]
  },
  {
   "cell_type": "markdown",
   "id": "b2b74ad4",
   "metadata": {},
   "source": [
    "### Question 2"
   ]
  },
  {
   "cell_type": "markdown",
   "id": "f3d1f23d",
   "metadata": {},
   "source": [
    "Write a class `Student` with attributes `name` and `grade`. Add a method to change the grade of the student and print the updated grade."
   ]
  },
  {
   "cell_type": "code",
   "execution_count": 9,
   "id": "68b6ffab",
   "metadata": {},
   "outputs": [
    {
     "name": "stdout",
     "output_type": "stream",
     "text": [
      "A\n",
      "B\n"
     ]
    }
   ],
   "source": [
    "\n",
    "class Student:\n",
    "    def __init__(self, name, grade):\n",
    "        self.name = name\n",
    "        self.grade = grade\n",
    "\n",
    "    def update_grade(self, new_grade):\n",
    "        self.grade = new_grade\n",
    "\n",
    "student1 = Student(\"John\", \"A\")\n",
    "print(student1.grade)\n",
    "student1.update_grade(\"B\")\n",
    "print(student1.grade)\n"
   ]
  },
  {
   "cell_type": "markdown",
   "id": "81098126",
   "metadata": {},
   "source": [
    "## Objects"
   ]
  },
  {
   "cell_type": "markdown",
   "id": "f3cb41a4",
   "metadata": {},
   "source": [
    "### Question 1"
   ]
  },
  {
   "cell_type": "markdown",
   "id": "191349c3",
   "metadata": {},
   "source": [
    "Define a class `Book` with attributes `title`, `author`, and `pages`. Create an object of this class and print its attributes."
   ]
  },
  {
   "cell_type": "code",
   "execution_count": 10,
   "id": "8089f192",
   "metadata": {},
   "outputs": [
    {
     "name": "stdout",
     "output_type": "stream",
     "text": [
      "The Great Gatsby\n",
      "F. Scott Fitzgerald\n",
      "180\n"
     ]
    }
   ],
   "source": [
    "\n",
    "class Book:\n",
    "    def __init__(self, title, author, pages):\n",
    "        self.title = title\n",
    "        self.author = author\n",
    "        self.pages = pages\n",
    "\n",
    "book1 = Book(\"The Great Gatsby\", \"F. Scott Fitzgerald\", 180)\n",
    "print(book1.title)\n",
    "print(book1.author)\n",
    "print(book1.pages)\n"
   ]
  },
  {
   "cell_type": "markdown",
   "id": "e56c8c0d",
   "metadata": {},
   "source": [
    "### Question 2"
   ]
  },
  {
   "cell_type": "markdown",
   "id": "9785ba69",
   "metadata": {},
   "source": [
    "Create a class `Employee` with attributes `name` and `salary`. Write a method to give a raise to the employee's salary and print the updated salary."
   ]
  },
  {
   "cell_type": "code",
   "execution_count": 11,
   "id": "d1f8b322",
   "metadata": {},
   "outputs": [
    {
     "name": "stdout",
     "output_type": "stream",
     "text": [
      "50000\n",
      "55000\n"
     ]
    }
   ],
   "source": [
    "\n",
    "class Employee:\n",
    "    def __init__(self, name, salary):\n",
    "        self.name = name\n",
    "        self.salary = salary\n",
    "\n",
    "    def give_raise(self, amount):\n",
    "        self.salary += amount\n",
    "\n",
    "employee1 = Employee(\"Jane\", 50000)\n",
    "print(employee1.salary)\n",
    "employee1.give_raise(5000)\n",
    "print(employee1.salary)\n"
   ]
  },
  {
   "cell_type": "markdown",
   "id": "2b8f337a",
   "metadata": {},
   "source": [
    "## Constructor"
   ]
  },
  {
   "cell_type": "markdown",
   "id": "28bfd533",
   "metadata": {},
   "source": [
    "### Question 1"
   ]
  },
  {
   "cell_type": "markdown",
   "id": "c024c313",
   "metadata": {},
   "source": [
    "Write a class `Laptop` with attributes `brand`, `model`, and `price`. Use a constructor to initialize these attributes and print them."
   ]
  },
  {
   "cell_type": "code",
   "execution_count": 12,
   "id": "84a0e677",
   "metadata": {},
   "outputs": [
    {
     "name": "stdout",
     "output_type": "stream",
     "text": [
      "Dell\n",
      "XPS 13\n",
      "1200\n"
     ]
    }
   ],
   "source": [
    "\n",
    "class Laptop:\n",
    "    def __init__(self, brand, model, price):\n",
    "        self.brand = brand\n",
    "        self.model = model\n",
    "        self.price = price\n",
    "\n",
    "laptop1 = Laptop(\"Dell\", \"XPS 13\", 1200)\n",
    "print(laptop1.brand)\n",
    "print(laptop1.model)\n",
    "print(laptop1.price)\n"
   ]
  },
  {
   "cell_type": "markdown",
   "id": "1980e670",
   "metadata": {},
   "source": [
    "### Question 2"
   ]
  },
  {
   "cell_type": "markdown",
   "id": "9b180509",
   "metadata": {},
   "source": [
    "Create a class `Animal` with a constructor that initializes the attributes `name` and `species`. Instantiate an object of the class and print its attributes."
   ]
  },
  {
   "cell_type": "code",
   "execution_count": 13,
   "id": "5ee941f1",
   "metadata": {},
   "outputs": [
    {
     "name": "stdout",
     "output_type": "stream",
     "text": [
      "Leo\n",
      "Lion\n"
     ]
    }
   ],
   "source": [
    "\n",
    "class Animal:\n",
    "    def __init__(self, name, species):\n",
    "        self.name = name\n",
    "        self.species = species\n",
    "\n",
    "animal1 = Animal(\"Leo\", \"Lion\")\n",
    "print(animal1.name)\n",
    "print(animal1.species)\n"
   ]
  }
 ],
 "metadata": {
  "kernelspec": {
   "display_name": "Python 3 (ipykernel)",
   "language": "python",
   "name": "python3"
  },
  "language_info": {
   "codemirror_mode": {
    "name": "ipython",
    "version": 3
   },
   "file_extension": ".py",
   "mimetype": "text/x-python",
   "name": "python",
   "nbconvert_exporter": "python",
   "pygments_lexer": "ipython3",
   "version": "3.11.7"
  },
  "widgets": {
   "application/vnd.jupyter.widget-state+json": {
    "state": {},
    "version_major": 2,
    "version_minor": 0
   }
  }
 },
 "nbformat": 4,
 "nbformat_minor": 5
}
