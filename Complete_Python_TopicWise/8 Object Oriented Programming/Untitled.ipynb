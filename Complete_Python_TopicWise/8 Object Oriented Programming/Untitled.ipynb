{
 "cells": [
  {
   "cell_type": "code",
   "execution_count": 24,
   "id": "a556c535-ec9d-4f18-a768-778a5356e8ec",
   "metadata": {},
   "outputs": [],
   "source": [
    "# polymorphism means many form , an entity can work as many form\n",
    "\n",
    "# method overloading\n",
    "# method overriding\n",
    "# operator overloading"
   ]
  },
  {
   "cell_type": "code",
   "execution_count": 28,
   "id": "e57444b7-c328-45f6-9702-1443af418714",
   "metadata": {},
   "outputs": [
    {
     "name": "stdout",
     "output_type": "stream",
     "text": [
      "sum is : 5\n",
      "sum is : ab\n",
      "sum is : (10+6j)\n",
      "sum is : 2\n"
     ]
    }
   ],
   "source": [
    "# method overloading\n",
    "class Overloading:\n",
    "    def show(self,a,b):\n",
    "        self.a = a\n",
    "        self.b = b\n",
    "        print(\"sum is :\",self.a + self.b)\n",
    "\n",
    "obj = Overloading()\n",
    "obj.show(2,3)\n",
    "obj.show('a','b')\n",
    "obj.show(5,5+6j)\n",
    "obj.show(True,True)"
   ]
  },
  {
   "cell_type": "code",
   "execution_count": 31,
   "id": "9f1cd3a6-305b-4f00-ab48-17c4b7e04ae6",
   "metadata": {},
   "outputs": [
    {
     "name": "stdout",
     "output_type": "stream",
     "text": [
      "i am child class\n",
      "i am parent class\n"
     ]
    }
   ],
   "source": [
    "# method overriding\n",
    "class Parent:\n",
    "    def show1(self):\n",
    "        print(\"i am parent class\")\n",
    "\n",
    "class Child(Parent):\n",
    "    def show2(self):\n",
    "        print(\"i am child class\")\n",
    "\n",
    "obj = Child()\n",
    "obj.show2()\n",
    "obj.show1()"
   ]
  },
  {
   "cell_type": "code",
   "execution_count": 36,
   "id": "2d25f5b3-3e19-43ff-a149-303a6654c141",
   "metadata": {},
   "outputs": [
    {
     "name": "stdout",
     "output_type": "stream",
     "text": [
      "i am child class\n",
      "i am parent class\n"
     ]
    }
   ],
   "source": [
    "class Parent:\n",
    "    def show(self):\n",
    "        print(\"i am parent class\")\n",
    "\n",
    "class Child(Parent):\n",
    "    def show(self):\n",
    "        print(\"i am child class\")\n",
    "        super().show()\n",
    "\n",
    "obj = Child()\n",
    "obj.show()"
   ]
  },
  {
   "cell_type": "code",
   "execution_count": 39,
   "id": "b0c596a4-b568-4e8e-b78c-a5dd78cf4970",
   "metadata": {},
   "outputs": [
    {
     "name": "stdin",
     "output_type": "stream",
     "text": [
      "enter number 'a'\n",
      "enter number 'b'\n"
     ]
    },
    {
     "name": "stdout",
     "output_type": "stream",
     "text": [
      "ab\n"
     ]
    }
   ],
   "source": [
    "# operator overloading\n",
    "n = eval(input(\"enter number\"))\n",
    "p = eval(input(\"enter number\"))\n",
    "print(n+p)"
   ]
  },
  {
   "cell_type": "code",
   "execution_count": 8,
   "id": "0cfb2754-7ec5-46de-9198-d64ddb183881",
   "metadata": {},
   "outputs": [],
   "source": [
    "# abstraction \n",
    "\n",
    "from abc import ABC , abstractmethod\n",
    "\n",
    "class BankApp(ABC):\n",
    "    def database(self):\n",
    "        print(\"conneted to database...\")\n",
    "    @abstractmethod\n",
    "    def security(self):\n",
    "        pass"
   ]
  },
  {
   "cell_type": "code",
   "execution_count": 9,
   "id": "be0f64be-43e4-4ac9-ab5b-011cd7903fa4",
   "metadata": {},
   "outputs": [],
   "source": [
    "class MobileApp(BankApp):\n",
    "    def mobile_login(self):\n",
    "        print(\"login into mobile\")\n",
    "\n",
    "    def security(self):\n",
    "        print(\"mobile security\")"
   ]
  },
  {
   "cell_type": "code",
   "execution_count": 10,
   "id": "e80cd1be-7b5e-465d-8f2b-620a66868e42",
   "metadata": {},
   "outputs": [],
   "source": [
    "obj = MobileApp()"
   ]
  },
  {
   "cell_type": "code",
   "execution_count": 11,
   "id": "57825146-34d4-41d0-8b3f-96772ff85d99",
   "metadata": {},
   "outputs": [
    {
     "name": "stdout",
     "output_type": "stream",
     "text": [
      "conneted to database...\n"
     ]
    }
   ],
   "source": [
    "obj.database()"
   ]
  },
  {
   "cell_type": "code",
   "execution_count": 12,
   "id": "8f65943b-bd72-4ed7-800c-43b6a225b05e",
   "metadata": {},
   "outputs": [
    {
     "name": "stdout",
     "output_type": "stream",
     "text": [
      "login into mobile\n"
     ]
    }
   ],
   "source": [
    "obj.mobile_login()"
   ]
  },
  {
   "cell_type": "code",
   "execution_count": 13,
   "id": "eb492721-1005-4907-8703-9ba63734689e",
   "metadata": {},
   "outputs": [
    {
     "name": "stdout",
     "output_type": "stream",
     "text": [
      "mobile security\n"
     ]
    }
   ],
   "source": [
    "obj.security()"
   ]
  },
  {
   "cell_type": "code",
   "execution_count": null,
   "id": "b4d16d0f-1c95-42c5-be2a-12f8c823e332",
   "metadata": {},
   "outputs": [],
   "source": []
  }
 ],
 "metadata": {
  "kernelspec": {
   "display_name": "Python 3 (ipykernel)",
   "language": "python",
   "name": "python3"
  },
  "language_info": {
   "codemirror_mode": {
    "name": "ipython",
    "version": 3
   },
   "file_extension": ".py",
   "mimetype": "text/x-python",
   "name": "python",
   "nbconvert_exporter": "python",
   "pygments_lexer": "ipython3",
   "version": "3.11.7"
  },
  "widgets": {
   "application/vnd.jupyter.widget-state+json": {
    "state": {},
    "version_major": 2,
    "version_minor": 0
   }
  }
 },
 "nbformat": 4,
 "nbformat_minor": 5
}
