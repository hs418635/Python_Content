{
 "cells": [
  {
   "attachments": {},
   "cell_type": "markdown",
   "id": "7e281447",
   "metadata": {},
   "source": [
    "### Object Oriented Programming\n",
    "\n",
    "It is a concept which was introduced in c++ and now followed by java and python.Object Oriented Programming allows programmers to create their own objects that have methods and attributes\n",
    "\n",
    "In oop everything is in the form of objects and classes,we use it for security purpose.\n",
    "\n",
    "***Pillers of oop concept :-***\n",
    "\n",
    "**structure :-** way of the writing the code\n",
    "\n",
    "functions.....statements\n",
    "\n",
    "eg:- a bird---> eyes(blue), wings, small(shape)\n",
    "\n",
    "**Behaviour:-** working of the code\n",
    "\n",
    "eg:- a bird can ---> sing,smile,dance"
   ]
  },
  {
   "cell_type": "markdown",
   "id": "1c0b60f0-3b06-4d4b-8351-a5bac67fbec3",
   "metadata": {
    "jp-MarkdownHeadingCollapsed": true
   },
   "source": [
    "### Method vs Functions\n",
    "1) We always define a method inside a class.\n",
    "2) A method definition always includes 'self' or other word as its parameter but in funcion there is no need to pass the parameter.\n",
    "3) And lastly, we call a method on an object using the dot operator."
   ]
  },
  {
   "cell_type": "code",
   "execution_count": 2,
   "id": "cffe2feb-5df9-4231-9c72-39268e552430",
   "metadata": {},
   "outputs": [
    {
     "name": "stdout",
     "output_type": "stream",
     "text": [
      "India is a great country\n"
     ]
    }
   ],
   "source": [
    "# function\n",
    "def message():\n",
    "    print(\"India is a great country\")\n",
    "message()"
   ]
  },
  {
   "cell_type": "code",
   "execution_count": 5,
   "id": "4f6f44ce-d6eb-432b-9ca7-39bc49f59d68",
   "metadata": {},
   "outputs": [
    {
     "data": {
      "text/plain": [
       "11"
      ]
     },
     "execution_count": 5,
     "metadata": {},
     "output_type": "execute_result"
    }
   ],
   "source": [
    "# function\n",
    "def add(a,b):\n",
    "    return a + b\n",
    "add(5,6)"
   ]
  },
  {
   "cell_type": "code",
   "execution_count": 9,
   "id": "359d0235-a843-4c37-9485-9c8c2a3cb636",
   "metadata": {},
   "outputs": [
    {
     "ename": "NameError",
     "evalue": "name 'multi' is not defined",
     "output_type": "error",
     "traceback": [
      "\u001b[1;31m---------------------------------------------------------------------------\u001b[0m",
      "\u001b[1;31mNameError\u001b[0m                                 Traceback (most recent call last)",
      "Cell \u001b[1;32mIn[9], line 5\u001b[0m\n\u001b[0;32m      3\u001b[0m     \u001b[38;5;28;01mdef\u001b[39;00m \u001b[38;5;21mmulti\u001b[39m(x,y):\n\u001b[0;32m      4\u001b[0m         \u001b[38;5;28mprint\u001b[39m(x\u001b[38;5;241m*\u001b[39my)\n\u001b[1;32m----> 5\u001b[0m multi(\u001b[38;5;241m2\u001b[39m,\u001b[38;5;241m3\u001b[39m)\n",
      "\u001b[1;31mNameError\u001b[0m: name 'multi' is not defined"
     ]
    }
   ],
   "source": [
    "# method\n",
    "class number:\n",
    "    def multi(x,y):\n",
    "        print(x*y)\n",
    "multi(2,3) # we can not call the method without calling the class"
   ]
  },
  {
   "cell_type": "code",
   "execution_count": 8,
   "id": "56b7bace-ba44-4c10-a992-e72925662a92",
   "metadata": {},
   "outputs": [
    {
     "name": "stdout",
     "output_type": "stream",
     "text": [
      "12\n"
     ]
    }
   ],
   "source": [
    "# method\n",
    "class number:\n",
    "    def multi(x,y):\n",
    "        print(x*y)\n",
    "number.multi(3,4)"
   ]
  },
  {
   "cell_type": "markdown",
   "id": "9acbedc2",
   "metadata": {
    "jp-MarkdownHeadingCollapsed": true
   },
   "source": [
    "###  Classes, Objects and Attributes\n",
    "\n",
    "**classes** are blueprints for creating objects. They encapsulate data for the object and methods to manipulate that data.\n",
    "\n",
    "**objects** are the real world entity that has a state and behaviour associated with it.\n",
    "\n",
    "**Attributes** are the variables that belong to an object or class"
   ]
  },
  {
   "cell_type": "code",
   "execution_count": 19,
   "id": "c2a5e6b3",
   "metadata": {},
   "outputs": [
    {
     "name": "stdout",
     "output_type": "stream",
     "text": [
      "hello himanshu\n"
     ]
    }
   ],
   "source": [
    "# Call by Class\n",
    "class sample():#class\n",
    "    def show():#method\n",
    "        print(\"hello himanshu\")\n",
    "sample.show()# here sabse phle class ko call karege then function ko ..here sample is class and show is function"
   ]
  },
  {
   "cell_type": "code",
   "execution_count": 32,
   "id": "3f0e7806-6ce0-4115-bc2a-6035b5c7ff28",
   "metadata": {},
   "outputs": [
    {
     "name": "stdout",
     "output_type": "stream",
     "text": [
      "hello himanshu\n"
     ]
    }
   ],
   "source": [
    "# Calling class by object\n",
    "class sample:#class\n",
    "    def show(self):#method\n",
    "        print(\"hello himanshu\")\n",
    "obj = sample()\n",
    "obj.show()"
   ]
  },
  {
   "cell_type": "code",
   "execution_count": 30,
   "id": "9fbc89a3",
   "metadata": {},
   "outputs": [
    {
     "name": "stdout",
     "output_type": "stream",
     "text": [
      "hello himanshu\n"
     ]
    }
   ],
   "source": [
    "class sample():\n",
    "    def show(self):\n",
    "        print(\"hello himanshu\")\n",
    "s=sample() # this object or instance or intances of class\n",
    "s.show()"
   ]
  },
  {
   "cell_type": "markdown",
   "id": "8eacc50a",
   "metadata": {
    "jp-MarkdownHeadingCollapsed": true
   },
   "source": [
    "#### Class Variable\n",
    "\n",
    "1) class variable is defined inside the class but outside any method and can be shared across all instances of a class.\n",
    "2) They can be accessed using the class name or any instance of the class."
   ]
  },
  {
   "cell_type": "code",
   "execution_count": 31,
   "id": "7442a72c",
   "metadata": {
    "scrolled": true
   },
   "outputs": [
    {
     "ename": "NameError",
     "evalue": "name 'a' is not defined",
     "output_type": "error",
     "traceback": [
      "\u001b[1;31m---------------------------------------------------------------------------\u001b[0m",
      "\u001b[1;31mNameError\u001b[0m                                 Traceback (most recent call last)",
      "Cell \u001b[1;32mIn[31], line 5\u001b[0m\n\u001b[0;32m      3\u001b[0m     \u001b[38;5;28;01mdef\u001b[39;00m \u001b[38;5;21mdemo\u001b[39m():\n\u001b[0;32m      4\u001b[0m         \u001b[38;5;28mprint\u001b[39m(\u001b[38;5;124m'\u001b[39m\u001b[38;5;124mclass variable is\u001b[39m\u001b[38;5;124m'\u001b[39m,a)\n\u001b[1;32m----> 5\u001b[0m test\u001b[38;5;241m.\u001b[39mdemo()\n",
      "Cell \u001b[1;32mIn[31], line 4\u001b[0m, in \u001b[0;36mtest.demo\u001b[1;34m()\u001b[0m\n\u001b[0;32m      3\u001b[0m \u001b[38;5;28;01mdef\u001b[39;00m \u001b[38;5;21mdemo\u001b[39m():\n\u001b[1;32m----> 4\u001b[0m     \u001b[38;5;28mprint\u001b[39m(\u001b[38;5;124m'\u001b[39m\u001b[38;5;124mclass variable is\u001b[39m\u001b[38;5;124m'\u001b[39m,a)\n",
      "\u001b[1;31mNameError\u001b[0m: name 'a' is not defined"
     ]
    }
   ],
   "source": [
    "class test():\n",
    "    a=100\n",
    "    def demo():\n",
    "        print('class variable is',a)\n",
    "test.demo()"
   ]
  },
  {
   "cell_type": "code",
   "execution_count": 35,
   "id": "21f64e4f-aaa5-487f-86be-69a430758dba",
   "metadata": {},
   "outputs": [
    {
     "name": "stdout",
     "output_type": "stream",
     "text": [
      "class variable inside the method is 100\n",
      "class variable outside the method is 100\n"
     ]
    }
   ],
   "source": [
    "class test():\n",
    "    a=100\n",
    "    def demo():\n",
    "        print('class variable inside the method is',test.a)\n",
    "test.demo()\n",
    "print('class variable outside the method is',test.a)"
   ]
  },
  {
   "cell_type": "code",
   "execution_count": 37,
   "id": "29896e28-b70e-4cd7-ab6f-9c1fafd8d959",
   "metadata": {},
   "outputs": [
    {
     "name": "stdout",
     "output_type": "stream",
     "text": [
      "class variable inside method is 100\n",
      "class variable outside method is : 100\n"
     ]
    }
   ],
   "source": [
    "class test():\n",
    "    a=100\n",
    "    def demo(self):\n",
    "        print('class variable inside method is',test.a)\n",
    "obj = test()\n",
    "obj.demo()\n",
    "print(\"class variable outside method is :\",obj.a)"
   ]
  },
  {
   "cell_type": "markdown",
   "id": "4ee01e4a",
   "metadata": {
    "jp-MarkdownHeadingCollapsed": true
   },
   "source": [
    "#### Instance variable\n",
    "\n",
    "Instance variable is the variable which is defined inside the method and call be called inside function only"
   ]
  },
  {
   "cell_type": "code",
   "execution_count": 44,
   "id": "1e19b25c",
   "metadata": {
    "scrolled": true
   },
   "outputs": [
    {
     "name": "stdout",
     "output_type": "stream",
     "text": [
      "instance variable inside the method is  100\n"
     ]
    },
    {
     "ename": "NameError",
     "evalue": "name 'a' is not defined",
     "output_type": "error",
     "traceback": [
      "\u001b[1;31m---------------------------------------------------------------------------\u001b[0m",
      "\u001b[1;31mNameError\u001b[0m                                 Traceback (most recent call last)",
      "Cell \u001b[1;32mIn[44], line 7\u001b[0m\n\u001b[0;32m      5\u001b[0m obj \u001b[38;5;241m=\u001b[39m test()\n\u001b[0;32m      6\u001b[0m obj\u001b[38;5;241m.\u001b[39mdemo()\n\u001b[1;32m----> 7\u001b[0m \u001b[38;5;28mprint\u001b[39m(\u001b[38;5;124m\"\u001b[39m\u001b[38;5;124minstance variable outside the method is \u001b[39m\u001b[38;5;124m\"\u001b[39m,a)\n",
      "\u001b[1;31mNameError\u001b[0m: name 'a' is not defined"
     ]
    }
   ],
   "source": [
    "class test():\n",
    "    def demo(self):\n",
    "        a=100 #esme function ke andr variable defined hai esliye sirf function me hi call kiya ja skta hai\n",
    "        print(\"instance variable inside the method is \",a)\n",
    "obj = test()\n",
    "obj.demo()\n",
    "print(\"instance variable outside the method is \",a) #is wale line me error dega bcz instance variable ko bahar call ni kr skte\n",
    "# esme variable function ke andr defined hai esliye last wali print call me error dega name a is not defined "
   ]
  },
  {
   "cell_type": "code",
   "execution_count": 46,
   "id": "61076605",
   "metadata": {},
   "outputs": [
    {
     "name": "stdout",
     "output_type": "stream",
     "text": [
      "instance variable is  50\n",
      "class variable is  100\n"
     ]
    }
   ],
   "source": [
    "class test():\n",
    "    a=100\n",
    "    def demo(self):\n",
    "        a=50\n",
    "        print('instance variable is ',a)\n",
    "obj =test()\n",
    "obj.demo()\n",
    "print('class variable is ',test.a)"
   ]
  },
  {
   "cell_type": "code",
   "execution_count": 6,
   "id": "61c51626",
   "metadata": {},
   "outputs": [
    {
     "name": "stdout",
     "output_type": "stream",
     "text": [
      " c : 10 and d : 20\n"
     ]
    }
   ],
   "source": [
    "class Example:\n",
    "    def set_values(self,c,d):\n",
    "        self.c=c #local variable/instance variable based on instance value differes\n",
    "        self.d=d\n",
    "    def display_values(self):\n",
    "        print(f\" c : {self.c} and d : {self.d}\")\n",
    "obj1=Example() # creating instance of the Example class\n",
    "\n",
    "obj1.set_values(10,20) # setting the values\n",
    "\n",
    "obj1.display_values()"
   ]
  },
  {
   "cell_type": "code",
   "execution_count": 2,
   "id": "8ef3304d-c429-4479-aa28-c6c6e9f5b445",
   "metadata": {},
   "outputs": [
    {
     "name": "stdout",
     "output_type": "stream",
     "text": [
      "Name : Arijit\n",
      "Age : 32\n",
      "City : Kolkata\n"
     ]
    }
   ],
   "source": [
    "class Person:\n",
    "    def set_name(self,name):\n",
    "        self.name = name\n",
    "\n",
    "    def set_age(self,age):\n",
    "        self.age = age\n",
    "\n",
    "    def set_city(self,city):\n",
    "        self.city = city\n",
    "\n",
    "    def display_info(self):\n",
    "        print(f\"Name : {self.name}\")\n",
    "        print(f\"Age : {self.age}\")\n",
    "        print(f\"City : {self.city}\")\n",
    "\n",
    "# Create the instance(object) of the person class\n",
    "person1 = Person()\n",
    "\n",
    "# setting values using different methods\n",
    "person1.set_name(\"Arijit\")\n",
    "person1.set_age(32)\n",
    "person1.set_city(\"Kolkata\")\n",
    "\n",
    "# displaying the info\n",
    "person1.display_info()"
   ]
  },
  {
   "cell_type": "markdown",
   "id": "1be1b1d3",
   "metadata": {
    "jp-MarkdownHeadingCollapsed": true
   },
   "source": [
    "#### Calling a class with different object"
   ]
  },
  {
   "cell_type": "code",
   "execution_count": 2,
   "id": "86d8cf13-2690-41fb-a5ea-e7f136c024b3",
   "metadata": {},
   "outputs": [
    {
     "name": "stdout",
     "output_type": "stream",
     "text": [
      "Name : Arijit\n",
      "Age : 32\n",
      "City : Kolkata\n",
      "Name : Hritik\n",
      "Age : 35\n",
      "City : Mumbai\n"
     ]
    }
   ],
   "source": [
    "class Person:\n",
    "    def set_name(self,name):\n",
    "        self.name = name\n",
    "\n",
    "    def set_age(self,age):\n",
    "        self.age = age\n",
    "\n",
    "    def set_city(self,city):\n",
    "        self.city = city\n",
    "\n",
    "    def display_info(self):\n",
    "        print(f\"Name : {self.name}\")\n",
    "        print(f\"Age : {self.age}\")\n",
    "        print(f\"City : {self.city}\")\n",
    "\n",
    "# Create the instance(object) of the person class\n",
    "person1 = Person()\n",
    "\n",
    "# setting values using different methods\n",
    "person1.set_name(\"Arijit\")\n",
    "person1.set_age(32)\n",
    "person1.set_city(\"Kolkata\")\n",
    "\n",
    "# displaying the info\n",
    "person1.display_info()\n",
    "\n",
    "###########################################################################\n",
    "\n",
    "# Create the instance(object) of the 2nd person class\n",
    "person2 = Person()\n",
    "\n",
    "# setting values using different methods\n",
    "person2.set_name(\"Hritik\")\n",
    "person2.set_age(35)\n",
    "person2.set_city(\"Mumbai\")\n",
    "\n",
    "# displaying the info\n",
    "person2.display_info()"
   ]
  },
  {
   "cell_type": "markdown",
   "id": "8e0df16e",
   "metadata": {
    "jp-MarkdownHeadingCollapsed": true
   },
   "source": [
    "#### Constructor\n",
    "\n",
    "__init__  they are inbuilt and special function, there is no need to call them, it initializes the variable"
   ]
  },
  {
   "cell_type": "code",
   "execution_count": 4,
   "id": "7b89ae2e-a094-4230-947f-4a55c8e7c62c",
   "metadata": {},
   "outputs": [
    {
     "name": "stdout",
     "output_type": "stream",
     "text": [
      "adding new student in Database..\n",
      "Arjun 25\n",
      "adding new student in Database..\n",
      "karan 26\n",
      "SDSF\n"
     ]
    }
   ],
   "source": [
    "class Student:\n",
    "    college_name = \"SDSF\" # class attribute--> stored single time in the memory , it is common to all the objects\n",
    "    def __init__(self,name,age):\n",
    "        self.name = name # instance attribute --> it is unique for every object , so stored in multiple memory\n",
    "        self.age = age # instance attribute\n",
    "        print(\"adding new student in Database..\")\n",
    "\n",
    "s1 = Student('Arjun',25)\n",
    "print(s1.name,s1.age)\n",
    "s2 = Student(\"karan\",26)\n",
    "print(s2.name,s2.age)\n",
    "print(Student.college_name)"
   ]
  },
  {
   "cell_type": "code",
   "execution_count": 1,
   "id": "57d6228a",
   "metadata": {},
   "outputs": [
    {
     "name": "stdout",
     "output_type": "stream",
     "text": [
      "wlcome: himanshu\n",
      "your marks are : 100\n"
     ]
    }
   ],
   "source": [
    "class value:\n",
    "    \n",
    "    def __init__(self,name,marks):\n",
    "        self.name=name\n",
    "        self.marks=marks\n",
    "        \n",
    "    def getname(self): # method 1\n",
    "        print(\"wlcome:\",self.name)\n",
    "\n",
    "    def getmarks(self): # method 2\n",
    "        print(\"your marks are :\",self.marks)\n",
    "        \n",
    "v=value(\"himanshu\",100)\n",
    "v.getname()\n",
    "v.getmarks()"
   ]
  },
  {
   "cell_type": "code",
   "execution_count": 2,
   "id": "4bf0dc1e-7328-487c-bc43-1c662bc1f676",
   "metadata": {},
   "outputs": [
    {
     "name": "stdout",
     "output_type": "stream",
     "text": [
      "Hi Joe your avg score is : 40.0\n",
      "Hi micheal your avg score is : 40.0\n",
      "Hi micheal your avg score is : 30.0\n"
     ]
    }
   ],
   "source": [
    "# constructor\n",
    "class Student:\n",
    "    def __init__(self,name,marks):\n",
    "        self.name = name\n",
    "        self.marks = marks\n",
    "        \n",
    "    def get_avg(self):\n",
    "        sum = 0\n",
    "        for val in self.marks:\n",
    "            sum += val\n",
    "        print(f\"Hi {self.name} your avg score is : {sum/len(self.marks)}\")\n",
    "\n",
    "s1 = Student(\"Joe\",[25,25,25,85])\n",
    "s1.get_avg()\n",
    "\n",
    "s1.name = \"micheal\"\n",
    "s1.get_avg()\n",
    "\n",
    "s1.marks = [30,30,30]\n",
    "s1.get_avg()"
   ]
  },
  {
   "cell_type": "markdown",
   "id": "6795e3b2",
   "metadata": {
    "jp-MarkdownHeadingCollapsed": true
   },
   "source": [
    "#### Destructor\n",
    "\n",
    "Deleting in python automatically"
   ]
  },
  {
   "cell_type": "code",
   "execution_count": 9,
   "id": "a8aa7ebc",
   "metadata": {},
   "outputs": [
    {
     "name": "stdout",
     "output_type": "stream",
     "text": [
      "Hi Joe your avg score is : 40.0\n",
      "Hi Tyrion Lannister your avg score is : 75.0\n"
     ]
    }
   ],
   "source": [
    "# destructor\n",
    "class Student:\n",
    "    def __init__(self,name,marks): # constructer\n",
    "        self.name = name\n",
    "        self.marks = marks\n",
    "        \n",
    "    def get_avg(self):\n",
    "        sum = 0\n",
    "        for val in self.marks:\n",
    "            sum += val\n",
    "        print(f\"Hi {self.name} your avg score is : {sum/len(self.marks)}\")\n",
    "\n",
    "    def __del__(self): # destructer\n",
    "        print(\"distructor is activated\")\n",
    "\n",
    "s1 = Student(\"Joe\",[25,25,25,85])\n",
    "s1.get_avg()\n",
    "\n",
    "s2 = Student(\"Tyrion Lannister\",[100,50])\n",
    "s2.get_avg()"
   ]
  },
  {
   "cell_type": "code",
   "execution_count": 10,
   "id": "e6f2045a-880e-449e-91c7-c23c65426e0f",
   "metadata": {},
   "outputs": [
    {
     "name": "stdout",
     "output_type": "stream",
     "text": [
      "Hi Joe your avg score is : 40.0\n"
     ]
    }
   ],
   "source": [
    "s1.get_avg()"
   ]
  },
  {
   "cell_type": "code",
   "execution_count": 11,
   "id": "37538186-06b1-4928-bb82-5e8d173832f1",
   "metadata": {},
   "outputs": [
    {
     "name": "stdout",
     "output_type": "stream",
     "text": [
      "Hi Tyrion Lannister your avg score is : 75.0\n"
     ]
    }
   ],
   "source": [
    "s2.get_avg()"
   ]
  },
  {
   "cell_type": "markdown",
   "id": "3565da51",
   "metadata": {},
   "source": [
    "###### Now we will delete the values by using destructor"
   ]
  },
  {
   "cell_type": "code",
   "execution_count": 12,
   "id": "e2653398",
   "metadata": {},
   "outputs": [
    {
     "name": "stdout",
     "output_type": "stream",
     "text": [
      "distructor is activated\n",
      "distructor is activated\n"
     ]
    }
   ],
   "source": [
    "del s1\n",
    "del s2"
   ]
  },
  {
   "cell_type": "code",
   "execution_count": 15,
   "id": "218e7801-89cd-4f6c-a475-a10aa9600010",
   "metadata": {},
   "outputs": [
    {
     "ename": "NameError",
     "evalue": "name 's1' is not defined",
     "output_type": "error",
     "traceback": [
      "\u001b[1;31m---------------------------------------------------------------------------\u001b[0m",
      "\u001b[1;31mNameError\u001b[0m                                 Traceback (most recent call last)",
      "Cell \u001b[1;32mIn[15], line 1\u001b[0m\n\u001b[1;32m----> 1\u001b[0m s1\u001b[38;5;241m.\u001b[39mget_avg()\n",
      "\u001b[1;31mNameError\u001b[0m: name 's1' is not defined"
     ]
    }
   ],
   "source": [
    "s1.get_avg() # we have deleted the object using destructer"
   ]
  },
  {
   "cell_type": "code",
   "execution_count": 16,
   "id": "46b7964c-07a0-46f6-b72e-9d791e864579",
   "metadata": {},
   "outputs": [
    {
     "ename": "NameError",
     "evalue": "name 's2' is not defined",
     "output_type": "error",
     "traceback": [
      "\u001b[1;31m---------------------------------------------------------------------------\u001b[0m",
      "\u001b[1;31mNameError\u001b[0m                                 Traceback (most recent call last)",
      "Cell \u001b[1;32mIn[16], line 1\u001b[0m\n\u001b[1;32m----> 1\u001b[0m s2\u001b[38;5;241m.\u001b[39mget_avg()\n",
      "\u001b[1;31mNameError\u001b[0m: name 's2' is not defined"
     ]
    }
   ],
   "source": [
    "s2.get_avg() # we have deleted the object using destructer"
   ]
  },
  {
   "cell_type": "markdown",
   "id": "1fc60ea6",
   "metadata": {},
   "source": [
    "### Encapsulation --> wrapping up of your data in a protective wrapper"
   ]
  },
  {
   "cell_type": "code",
   "execution_count": 17,
   "id": "7a373705",
   "metadata": {},
   "outputs": [
    {
     "name": "stdout",
     "output_type": "stream",
     "text": [
      "Name Rohit salary:- 30000\n",
      "Name Rahul salary:- 50000\n",
      "Name shubham salary:- 40000\n",
      "Total employee 3\n"
     ]
    }
   ],
   "source": [
    "class Employee:\n",
    "    #Common base class for all employee\n",
    "    empCount=0 #how many employee\n",
    "    def __init__(self,name,salary):\n",
    "        self.name=name\n",
    "        self.salary=salary\n",
    "        Employee.empCount +=1\n",
    "        # print('Constructor  called')\n",
    "    \n",
    "    def displayEmployee(self):\n",
    "        print('Name',self.name,'salary:-',self.salary)\n",
    "        \n",
    "    def __del__(self):\n",
    "        pass\n",
    "        # print('Destructor  called')\n",
    "        \n",
    "emp1=Employee('Rohit',30000) # object/instance1\n",
    "emp1.displayEmployee()\n",
    "\n",
    "emp2=Employee('Rahul',50000) # object/instance2\n",
    "emp2.displayEmployee()\n",
    "\n",
    "emp3=Employee('shubham',40000) # object/instance2\n",
    "emp3.displayEmployee()\n",
    "\n",
    "print(f\"Total employee {Employee.empCount}\" )"
   ]
  },
  {
   "cell_type": "code",
   "execution_count": 23,
   "id": "2da57bfd-dcad-48a4-8ba7-627821ef948a",
   "metadata": {},
   "outputs": [
    {
     "name": "stdout",
     "output_type": "stream",
     "text": [
      "Rohit\n",
      "30000\n"
     ]
    }
   ],
   "source": [
    "# accessing the employee name and employee salary outside the class/wrapper\n",
    "print(emp1.name)\n",
    "print(emp1.salary)"
   ]
  },
  {
   "cell_type": "code",
   "execution_count": 24,
   "id": "1afba3e7-7185-438e-b8c3-a8fd2bbce032",
   "metadata": {},
   "outputs": [
    {
     "name": "stdout",
     "output_type": "stream",
     "text": [
      "Rahul\n",
      "50000\n"
     ]
    }
   ],
   "source": [
    "print(emp2.name)\n",
    "print(emp2.salary)"
   ]
  },
  {
   "cell_type": "markdown",
   "id": "93613358-2d96-4f0f-b170-4aa8eafbad5a",
   "metadata": {},
   "source": [
    "##### now making public and private variable"
   ]
  },
  {
   "cell_type": "code",
   "execution_count": 26,
   "id": "ad0a2717-67f3-4fad-929e-c0496d18cf16",
   "metadata": {},
   "outputs": [
    {
     "name": "stdout",
     "output_type": "stream",
     "text": [
      "Name Rohit salary:- 30000\n",
      "Name Rahul salary:- 50000\n",
      "Name shubham salary:- 40000\n",
      "Total employee 3\n"
     ]
    }
   ],
   "source": [
    "class Employee:\n",
    "    #Common base class for all employee\n",
    "    empCount=0 #how many employee\n",
    "    def __init__(self,name,salary):\n",
    "        self.name=name  # public variable\n",
    "        self.__salary=salary  # private variable\n",
    "        Employee.empCount +=1\n",
    "        # print('Constructor  called')\n",
    "    \n",
    "    def displayEmployee(self):\n",
    "        print('Name',self.name,'salary:-',self.__salary)\n",
    "        \n",
    "    def __del__(self):\n",
    "        pass\n",
    "        # print('Destructor  called')\n",
    "        \n",
    "emp1=Employee('Rohit',30000) # object/instance1\n",
    "emp1.displayEmployee()\n",
    "\n",
    "emp2=Employee('Rahul',50000) # object/instance2\n",
    "emp2.displayEmployee()\n",
    "\n",
    "emp3=Employee('shubham',40000) # object/instance2\n",
    "emp3.displayEmployee()\n",
    "\n",
    "print(f\"Total employee {Employee.empCount}\" )"
   ]
  },
  {
   "cell_type": "code",
   "execution_count": 27,
   "id": "d8afa4ae-46e5-4ed6-b911-9f09abbafff5",
   "metadata": {},
   "outputs": [],
   "source": [
    "# now we have make name as public variable so name is accessible to anyone but salary is now private variable\n",
    "# anyone can not access salaries of all employees ---> it is also an example of encapsulation"
   ]
  },
  {
   "cell_type": "code",
   "execution_count": 28,
   "id": "fbf4b179-45fb-4a4f-bf77-72a5aeedc889",
   "metadata": {},
   "outputs": [
    {
     "name": "stdout",
     "output_type": "stream",
     "text": [
      "Rohit\n",
      "Rahul\n"
     ]
    }
   ],
   "source": [
    "print(emp1.name)\n",
    "print(emp2.name)"
   ]
  },
  {
   "cell_type": "code",
   "execution_count": 30,
   "id": "c29649c6-432d-4944-bd09-9afa845a4e34",
   "metadata": {},
   "outputs": [
    {
     "ename": "AttributeError",
     "evalue": "'Employee' object has no attribute 'salary'",
     "output_type": "error",
     "traceback": [
      "\u001b[1;31m---------------------------------------------------------------------------\u001b[0m",
      "\u001b[1;31mAttributeError\u001b[0m                            Traceback (most recent call last)",
      "Cell \u001b[1;32mIn[30], line 1\u001b[0m\n\u001b[1;32m----> 1\u001b[0m \u001b[38;5;28mprint\u001b[39m(emp1\u001b[38;5;241m.\u001b[39msalary) \u001b[38;5;66;03m# now we can not access the salaries because its encapulated by making it as private variable\u001b[39;00m\n\u001b[0;32m      2\u001b[0m \u001b[38;5;28mprint\u001b[39m(emp2\u001b[38;5;241m.\u001b[39msalary)\n",
      "\u001b[1;31mAttributeError\u001b[0m: 'Employee' object has no attribute 'salary'"
     ]
    }
   ],
   "source": [
    "print(emp1.salary) # now we can not access the salaries because its encapulated by making it as private variable\n",
    "print(emp2.salary)"
   ]
  },
  {
   "cell_type": "markdown",
   "id": "8b3291a7",
   "metadata": {
    "jp-MarkdownHeadingCollapsed": true
   },
   "source": [
    "### Inheritance\n",
    "\n",
    "allows a class to inherit attributes and methods from another class. This promotes code reuse\n",
    "\n",
    "Hierarchy --> parent class(super class), child class(derived class)\n",
    "\n",
    "single level inheritance\n",
    "\n",
    "multiple inheritance\n",
    "\n",
    "hierrachical inheritance\n",
    "\n",
    "hybrid/multilevel\n",
    "\n"
   ]
  },
  {
   "cell_type": "markdown",
   "id": "eb69005d",
   "metadata": {
    "jp-MarkdownHeadingCollapsed": true
   },
   "source": [
    "#### SIngle level inheritance"
   ]
  },
  {
   "cell_type": "code",
   "execution_count": 26,
   "id": "e4da5cae",
   "metadata": {},
   "outputs": [
    {
     "name": "stdout",
     "output_type": "stream",
     "text": [
      "welcome to dalal street A\n",
      "welcome to dalal street B\n"
     ]
    }
   ],
   "source": [
    "# single inheritance: ek object se aap dono method ko call kr rhe ho \n",
    "class Parent:#making class A\n",
    "    def displayA(self):#creating funtion\n",
    "        print(\"welcome to dalal street A\")\n",
    "        \n",
    "class Child(Parent):#b me a ko inherit krwa diya\n",
    "    def displayB(self):\n",
    "        print(\"welcome to dalal street B\")\n",
    "        \n",
    "obj=Child()#making object of B class\n",
    "obj.displayA()#calling class A\n",
    "obj.displayB()#calling Class B, dono methods call ho rhe hai ek object se"
   ]
  },
  {
   "cell_type": "markdown",
   "id": "5883aae5",
   "metadata": {
    "jp-MarkdownHeadingCollapsed": true
   },
   "source": [
    "#### Multiple Inheritance"
   ]
  },
  {
   "cell_type": "code",
   "execution_count": 23,
   "id": "f3e581ba",
   "metadata": {},
   "outputs": [
    {
     "name": "stdout",
     "output_type": "stream",
     "text": [
      "this is class C\n",
      "this is class A\n",
      "this is class B\n",
      "this is class D\n"
     ]
    }
   ],
   "source": [
    "# Multiple inheritance\n",
    "class A:\n",
    "    def show(self):\n",
    "        print('this is class A')\n",
    "class B(A):\n",
    "    def show1(self):\n",
    "        print('this is class B')\n",
    "class C(B,A):\n",
    "    def show2(self):\n",
    "        print('this is class C')\n",
    "class D(C,B,A):\n",
    "    def show3(self):\n",
    "        print('this is class D')\n",
    "        \n",
    "k=D()\n",
    "k.show2()\n",
    "k.show()\n",
    "k.show1()\n",
    "k.show3()"
   ]
  },
  {
   "cell_type": "markdown",
   "id": "172e8e5c",
   "metadata": {
    "jp-MarkdownHeadingCollapsed": true
   },
   "source": [
    "#### Hierrachical inheritance"
   ]
  },
  {
   "cell_type": "code",
   "execution_count": 24,
   "id": "4cca0893",
   "metadata": {},
   "outputs": [
    {
     "name": "stdout",
     "output_type": "stream",
     "text": [
      "this is class B of son\n",
      "this is class A of father \n"
     ]
    }
   ],
   "source": [
    "# Hierrachical inheritance\n",
    "\n",
    "class A: #father\n",
    "    def show(self):\n",
    "        print('this is class A of father ')\n",
    "class B(A):#son\n",
    "    def show1(self):\n",
    "        print('this is class B of son')\n",
    "class C(A):#daughter\n",
    "    def show2(self):\n",
    "        print('this is class C of daughter')\n",
    "        \n",
    "s=B() #son class se object bna rhe\n",
    "s.show1()\n",
    "s.show()\n",
    "# s.show2() B object has no attribute show2 error ayegi"
   ]
  },
  {
   "cell_type": "code",
   "execution_count": 25,
   "id": "1088ba53",
   "metadata": {},
   "outputs": [
    {
     "name": "stdout",
     "output_type": "stream",
     "text": [
      "this is class A of father \n",
      "this is class C of daughter\n"
     ]
    }
   ],
   "source": [
    "# Hierrachical inheritance\n",
    "\n",
    "class A: #father\n",
    "    def show(self):\n",
    "        print('this is class A of father ')\n",
    "class B(A):#son\n",
    "    def show1(self):\n",
    "        print('this is class B of son')\n",
    "class C(A):#daughter\n",
    "    def show2(self):\n",
    "        print('this is class C of daughter')\n",
    "        \n",
    "s=C()\n",
    "# s.show1() ye show1 attribute ni hai C class ke andr error dega ye\n",
    "s.show()\n",
    "s.show2()"
   ]
  },
  {
   "cell_type": "markdown",
   "id": "75a05691",
   "metadata": {
    "jp-MarkdownHeadingCollapsed": true
   },
   "source": [
    "#### Multi level inheritance"
   ]
  },
  {
   "cell_type": "code",
   "execution_count": 26,
   "id": "ce2506e2",
   "metadata": {},
   "outputs": [
    {
     "name": "stdout",
     "output_type": "stream",
     "text": [
      "this is class A\n",
      "this is class C\n",
      "this is class B\n",
      "this is class D\n"
     ]
    }
   ],
   "source": [
    "# multi level inheritance\n",
    "\n",
    "class A:\n",
    "    def show(self):\n",
    "        print('this is class A')\n",
    "class B(A):\n",
    "    def show1(self):\n",
    "        print('this is class B')\n",
    "class C(B):\n",
    "    def show2(self):\n",
    "        print('this is class C')\n",
    "class D(C):\n",
    "    def show3(self):\n",
    "        print('this is class D')\n",
    "        \n",
    "j=D()\n",
    "j.show()\n",
    "j.show2()\n",
    "j.show1()\n",
    "j.show3()"
   ]
  },
  {
   "cell_type": "markdown",
   "id": "97c0486b",
   "metadata": {
    "jp-MarkdownHeadingCollapsed": true
   },
   "source": [
    "### Polymorphism\n",
    "\n",
    "Polymorphism means many form, An entity can work in many form.\n",
    "\n",
    "Eg. Laptop can be used for ---> playing vedio , audio , game etc\n",
    "\n",
    "1) Method Overloading\n",
    "2) Method Overriding\n",
    "3) operator Overloading"
   ]
  },
  {
   "cell_type": "code",
   "execution_count": 3,
   "id": "de97ba29",
   "metadata": {},
   "outputs": [
    {
     "name": "stdout",
     "output_type": "stream",
     "text": [
      "Hello world\n",
      "5\n",
      "integer is  5\n"
     ]
    }
   ],
   "source": [
    "# here print function is working as many form\n",
    "print(\"Hello world\")\n",
    "print(2+3)\n",
    "print(\"integer is \",5)"
   ]
  },
  {
   "cell_type": "markdown",
   "id": "47438d7c",
   "metadata": {},
   "source": [
    "#### Method Overloading"
   ]
  },
  {
   "cell_type": "code",
   "execution_count": 13,
   "id": "f046fa6e",
   "metadata": {},
   "outputs": [
    {
     "name": "stdout",
     "output_type": "stream",
     "text": [
      "addition : 5\n",
      "addition : ab\n",
      "addition : 12.0\n",
      "addition : (5+13j)\n",
      "addition : 2\n",
      "addition : 1\n"
     ]
    }
   ],
   "source": [
    "class Overloading:\n",
    "    def demo(self,a,b):\n",
    "        self.a = a\n",
    "        self.b = b\n",
    "        print(\"addition :\",self.a+self.b)\n",
    "\n",
    "obj = Overloading()\n",
    "obj.demo(2,3)\n",
    "obj.demo('a','b')\n",
    "obj.demo(5.5,6.5)\n",
    "obj.demo(3+4j,2+9j)\n",
    "obj.demo(True,True)\n",
    "obj.demo(True,False)"
   ]
  },
  {
   "cell_type": "markdown",
   "id": "3ae1d1c2",
   "metadata": {},
   "source": [
    "#### Method Overriding"
   ]
  },
  {
   "cell_type": "code",
   "execution_count": 1,
   "id": "7d58a3a2-6b66-45e3-8cce-bf6c4b5a6d10",
   "metadata": {},
   "outputs": [
    {
     "name": "stdout",
     "output_type": "stream",
     "text": [
      "i am child class\n",
      "i am parent class\n"
     ]
    }
   ],
   "source": [
    "class Parent:\n",
    "    def property1(self):\n",
    "        print(\"i am parent class\")\n",
    "\n",
    "class Child(Parent):\n",
    "    def property(self):\n",
    "        print(\"i am child class\")\n",
    "\n",
    "c = Child()\n",
    "c.property()\n",
    "c.property1()\n",
    "# here function name is different so child class can easily inherit the properties from parent class"
   ]
  },
  {
   "cell_type": "code",
   "execution_count": 8,
   "id": "2ee0fd65",
   "metadata": {},
   "outputs": [
    {
     "name": "stdout",
     "output_type": "stream",
     "text": [
      "i am child class\n"
     ]
    }
   ],
   "source": [
    "class Parent:\n",
    "    def property1(self): # same method property1\n",
    "        print(\"i am parent class\")\n",
    "\n",
    "class Child(Parent): \n",
    "    def property1(self): # same method property1\n",
    "        print(\"i am child class\")\n",
    "\n",
    "c = Child()\n",
    "c.property1()\n",
    "\n",
    "# d = Parent()\n",
    "# d.property1()\n",
    "\n",
    "# here method name is same in both the classes , so ham jiska object banayege ye sirf usi ke method ko access karega\n",
    "# like here i have created object of Child class so ye child class ke method ko hi access karega, agr mai parent class ka object\n",
    "# banauga to parent ke method ko access karega"
   ]
  },
  {
   "cell_type": "markdown",
   "id": "38bfac92",
   "metadata": {},
   "source": [
    "#### Super() \n",
    "super function ki help se parent ke function ko call kr skte hai jo same name ka hai"
   ]
  },
  {
   "cell_type": "code",
   "execution_count": 9,
   "id": "ba809189-c56c-4cdf-941f-9cdfe501f03f",
   "metadata": {},
   "outputs": [
    {
     "name": "stdout",
     "output_type": "stream",
     "text": [
      "i am child class\n",
      "i am parent class\n"
     ]
    }
   ],
   "source": [
    "class Parent:\n",
    "    def property1(self):\n",
    "        print(\"i am parent class\")\n",
    "\n",
    "class Child(Parent):\n",
    "    def property1(self):\n",
    "        print(\"i am child class\")\n",
    "        super().property1() # so to solve above problem , we use super() function\n",
    "\n",
    "c = Child()\n",
    "c.property1()"
   ]
  },
  {
   "cell_type": "markdown",
   "id": "5b451eca-4ea4-4bbf-b3d2-be9430b9fe51",
   "metadata": {},
   "source": [
    "#### Operator overloading"
   ]
  },
  {
   "cell_type": "code",
   "execution_count": 10,
   "id": "fbe9c5b1-a9bf-4d9f-8955-43dfe03fee84",
   "metadata": {},
   "outputs": [
    {
     "name": "stdin",
     "output_type": "stream",
     "text": [
      "enter num 5\n",
      "enter num 5\n"
     ]
    },
    {
     "name": "stdout",
     "output_type": "stream",
     "text": [
      "25\n"
     ]
    }
   ],
   "source": [
    "n1 = eval(input(\"enter num\"))\n",
    "n2 = eval(input(\"enter num\"))\n",
    "print(n1*n2)"
   ]
  },
  {
   "cell_type": "markdown",
   "id": "5ffe253a",
   "metadata": {},
   "source": [
    "### Abstraction --> Hiding unneccessary statement\n",
    "\n",
    "How to drive a car (you should know only gear , steering ) ---> how enginer is working you need not to know\n",
    "\n",
    "https://www.youtube.com/watch?v=O-NrQvtorp0"
   ]
  },
  {
   "cell_type": "markdown",
   "id": "fad17bb5-2366-4fb8-80ab-48d6178447b1",
   "metadata": {
    "jp-MarkdownHeadingCollapsed": true
   },
   "source": [
    "#### eg.1"
   ]
  },
  {
   "cell_type": "code",
   "execution_count": 51,
   "id": "01563c6f",
   "metadata": {},
   "outputs": [],
   "source": [
    "#data abstraction #OOPs\n",
    "from abc import ABC, abstractmethod\n",
    "\n",
    "class parent(ABC):\n",
    "    \n",
    "    @abstractmethod\n",
    "    def fun1(self):\n",
    "        pass\n",
    "    def fun2(self):\n",
    "        print(\"this is an parent class\")"
   ]
  },
  {
   "cell_type": "code",
   "execution_count": 54,
   "id": "70d3e31f-8d9a-4351-be87-78ee1e365c1e",
   "metadata": {},
   "outputs": [],
   "source": [
    "class child(parent):\n",
    "    def fun1(self):\n",
    "        print(\"this is an child class\")"
   ]
  },
  {
   "cell_type": "code",
   "execution_count": 55,
   "id": "a2842c9f-7869-42a1-807b-924801edcc8c",
   "metadata": {},
   "outputs": [
    {
     "name": "stdout",
     "output_type": "stream",
     "text": [
      "this is an child class\n",
      "this is an parent class\n"
     ]
    }
   ],
   "source": [
    "obj=child()\n",
    "obj.fun1()\n",
    "obj.fun2()"
   ]
  },
  {
   "cell_type": "markdown",
   "id": "d6dd77d1-9dc4-41d0-9290-b845c7e6ee3c",
   "metadata": {},
   "source": [
    "#### eg.2"
   ]
  },
  {
   "cell_type": "code",
   "execution_count": 56,
   "id": "34327114-a8a4-4813-8146-6f43b993e95e",
   "metadata": {},
   "outputs": [
    {
     "data": {
      "text/plain": [
       "'           BankAPP(Database)\\n   webapplication             mobileapp   '"
      ]
     },
     "execution_count": 56,
     "metadata": {},
     "output_type": "execute_result"
    }
   ],
   "source": [
    " '''           BankAPP(Database)\n",
    "    webapplication             mobileapp   '''"
   ]
  },
  {
   "cell_type": "code",
   "execution_count": 57,
   "id": "87514261-f286-4f76-bf6c-68904574a59f",
   "metadata": {},
   "outputs": [],
   "source": [
    "from abc import ABC , abstractmethod\n",
    "# abc--> module , ABC --> abstract base class \n",
    "\n",
    "class BankApp(ABC): # it becomes abstract class when it inherits from ABC class\n",
    "\n",
    "    def database(self):\n",
    "        print(\"connected to database\")\n",
    "\n",
    "    @abstractmethod # its a decorator\n",
    "    def security(self): # this is abstract method , this method is always empty\n",
    "        pass"
   ]
  },
  {
   "cell_type": "code",
   "execution_count": 58,
   "id": "b06e0894-9347-48d8-bde8-229dc8aaf355",
   "metadata": {},
   "outputs": [],
   "source": [
    "class MobileApp(BankApp): # here inherited BankApp bcz we need database method that is defined inside BankAPP class\n",
    "    def mobile_login(self):\n",
    "        print(\"login into mobile\")"
   ]
  },
  {
   "cell_type": "code",
   "execution_count": 59,
   "id": "f20a9bc3-25f8-4032-8890-1192588ca530",
   "metadata": {},
   "outputs": [
    {
     "ename": "TypeError",
     "evalue": "Can't instantiate abstract class MobileApp with abstract method security",
     "output_type": "error",
     "traceback": [
      "\u001b[1;31m---------------------------------------------------------------------------\u001b[0m",
      "\u001b[1;31mTypeError\u001b[0m                                 Traceback (most recent call last)",
      "Cell \u001b[1;32mIn[59], line 1\u001b[0m\n\u001b[1;32m----> 1\u001b[0m obj \u001b[38;5;241m=\u001b[39m MobileApp()\n",
      "\u001b[1;31mTypeError\u001b[0m: Can't instantiate abstract class MobileApp with abstract method security"
     ]
    }
   ],
   "source": [
    "obj = MobileApp()"
   ]
  },
  {
   "cell_type": "markdown",
   "id": "edbe8ee5-02b2-424c-958d-4cd88d1ce8fd",
   "metadata": {},
   "source": [
    "##### now we will write security method inside mobileApp class to access database"
   ]
  },
  {
   "cell_type": "code",
   "execution_count": 60,
   "id": "5fae3335-00c8-4f43-8904-925059c105eb",
   "metadata": {},
   "outputs": [],
   "source": [
    "from abc import ABC , abstractmethod\n",
    "\n",
    "class BankApp(ABC):\n",
    "\n",
    "    def database(self):\n",
    "        print(\"connected to database..\")\n",
    "\n",
    "    @abstractmethod\n",
    "    def security(self):\n",
    "        pass"
   ]
  },
  {
   "cell_type": "code",
   "execution_count": 61,
   "id": "0092defd-24b3-408d-98b8-d886abb8e081",
   "metadata": {},
   "outputs": [],
   "source": [
    "class MobileApp(BankApp):\n",
    "    def mobile_login(self):\n",
    "        print(\"login into mobile\")\n",
    "\n",
    "    def security(self): # added secuirity in our mobile application\n",
    "        print(\"mobile security\")"
   ]
  },
  {
   "cell_type": "code",
   "execution_count": 62,
   "id": "9b89df9f-535e-4cd3-ba3a-82eda31f2e85",
   "metadata": {},
   "outputs": [],
   "source": [
    "obj = MobileApp()"
   ]
  },
  {
   "cell_type": "code",
   "execution_count": 63,
   "id": "45aabf4b-22d0-4988-b6b1-5ad2cb3d6c2c",
   "metadata": {},
   "outputs": [
    {
     "name": "stdout",
     "output_type": "stream",
     "text": [
      "connected to database..\n"
     ]
    }
   ],
   "source": [
    "obj.database()"
   ]
  },
  {
   "cell_type": "code",
   "execution_count": 64,
   "id": "ae213239-f311-4228-8da6-c2e67072c025",
   "metadata": {},
   "outputs": [
    {
     "name": "stdout",
     "output_type": "stream",
     "text": [
      "login into mobile\n"
     ]
    }
   ],
   "source": [
    "obj.mobile_login()"
   ]
  },
  {
   "cell_type": "code",
   "execution_count": 65,
   "id": "d0df58c5-95c3-439a-bd73-5a1b74d576fd",
   "metadata": {},
   "outputs": [
    {
     "name": "stdout",
     "output_type": "stream",
     "text": [
      "mobile security\n"
     ]
    }
   ],
   "source": [
    "obj.security()"
   ]
  },
  {
   "cell_type": "markdown",
   "id": "06937228-54e8-4ea4-b757-f29f89900848",
   "metadata": {
    "jp-MarkdownHeadingCollapsed": true
   },
   "source": [
    "### Oops Project on Banking System\n",
    "\n",
    "youtube vedio (time-->49:30sec)\n",
    "\n",
    "https://www.youtube.com/watch?v=HeW-D6KpDwY"
   ]
  },
  {
   "cell_type": "code",
   "execution_count": 13,
   "id": "f325c328-51fe-4532-96d0-bc78219d914e",
   "metadata": {},
   "outputs": [
    {
     "name": "stdout",
     "output_type": "stream",
     "text": [
      "balance : 10000\n",
      "accout no. : 121212\n"
     ]
    }
   ],
   "source": [
    "class Account:\n",
    "    def __init__(self,bal,acc):\n",
    "        self.balance = bal\n",
    "        self.account = acc\n",
    "\n",
    "acc1 = Account(10000,121212)\n",
    "print(\"balance :\",acc1.balance)\n",
    "print(\"accout no. :\",acc1.account)"
   ]
  },
  {
   "cell_type": "code",
   "execution_count": 1,
   "id": "e2cca5be-96e5-4170-a67a-87e64fdddc68",
   "metadata": {},
   "outputs": [
    {
     "name": "stdout",
     "output_type": "stream",
     "text": [
      "Rs.1000 was debited\n",
      "Total Balance : 9000\n",
      "Rs.500 was credited\n",
      "Total Balance : 9500\n",
      "Rs.50000 was credited\n",
      "Total Balance : 59500\n"
     ]
    }
   ],
   "source": [
    "# implementing more features in the Account class\n",
    "class Account:\n",
    "    def __init__(self,bal,acc):\n",
    "        self.balance = bal\n",
    "        self.account = acc\n",
    "\n",
    "    # creating debit method\n",
    "    def debit(self,amount):\n",
    "        self.balance -= amount\n",
    "        print(f\"Rs.{amount} was debited\")\n",
    "        print(\"Total Balance :\",self.get_balance())\n",
    "\n",
    "    # implementing credit method\n",
    "    def credit(self,amount):\n",
    "        self.balance += amount\n",
    "        print(f\"Rs.{amount} was credited\")\n",
    "        print(\"Total Balance :\",self.get_balance())\n",
    "\n",
    "\n",
    "    # implementing getter method ( or the function which returns the final values)\n",
    "    def get_balance(self):\n",
    "        return self.balance\n",
    "\n",
    "acc1 = Account(10000,121212)\n",
    "\n",
    "# first debiting some amount\n",
    "acc1.debit(1000)\n",
    "\n",
    "# crediting some amount\n",
    "acc1.credit(500)\n",
    "\n",
    "# adding new salary\n",
    "acc1.credit(50000)"
   ]
  },
  {
   "cell_type": "code",
   "execution_count": null,
   "id": "0484c035-b8b9-40df-b5a5-879ce68528e2",
   "metadata": {},
   "outputs": [],
   "source": []
  }
 ],
 "metadata": {
  "kernelspec": {
   "display_name": "Python 3 (ipykernel)",
   "language": "python",
   "name": "python3"
  },
  "language_info": {
   "codemirror_mode": {
    "name": "ipython",
    "version": 3
   },
   "file_extension": ".py",
   "mimetype": "text/x-python",
   "name": "python",
   "nbconvert_exporter": "python",
   "pygments_lexer": "ipython3",
   "version": "3.11.7"
  },
  "widgets": {
   "application/vnd.jupyter.widget-state+json": {
    "state": {},
    "version_major": 2,
    "version_minor": 0
   }
  }
 },
 "nbformat": 4,
 "nbformat_minor": 5
}
