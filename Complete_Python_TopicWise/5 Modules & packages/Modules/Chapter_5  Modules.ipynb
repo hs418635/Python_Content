{
 "cells": [
  {
   "cell_type": "markdown",
   "id": "268db10c-ea8a-4766-9793-1dddaaa4ec84",
   "metadata": {},
   "source": [
    "## Modules in python --> A module is a python file (.py) containing python definitions and statements.\n",
    "\n",
    "after execution it becomes .pyc (compiled python code)\r\n",
    "\r\n",
    "Adavntages :\r\n",
    "1) provide proper organization --> We can store the relativey same functions into one file. eg. math module\r\n",
    "2) code reusability --> We dont define functions again and again for same usage, instead we put them in module and can use that module multiple time just by importing them.\r\n",
    "3) Namespace management --> It is a container containg all the name of variables , functions , classes . eg pi=3.14 is constant in  math module , out of math module we can give any value to pi\r\n",
    "4) Encapsulation --> It is encapsulated means we dont actually know that how execution is happening.\r\n",
    "\r\n",
    "Types of modules :\r\n",
    "1) Built-in modules --> eg. os , sys , math , datetime etc\r\n",
    "\r\n",
    "2) Third party modules --> The modules which developed by python community and can be \r\n",
    "\t\t\t   installed using package managers like pip.\r\n",
    "\t\t\t   eg. numpy , pandas , request , flask etc\r\n",
    "\r\n",
    "3) User defined modules --> These are custom modules created by user to organize their code\r\n",
    "                           into resuable component. It is a python file with (.py) that contains\r\n",
    "\t\t\t   functions , classes , varibales. We can import them as module."
   ]
  },
  {
   "cell_type": "markdown",
   "id": "fc3fbf4a-7607-42ed-90f0-b52cc5d53016",
   "metadata": {},
   "source": [
    "### Built in modules \n",
    "random ,  fractions , decimal , shuttil , time "
   ]
  },
  {
   "cell_type": "markdown",
   "id": "b2c6af2d-6203-4da0-a836-135ab6b57db7",
   "metadata": {},
   "source": [
    "##### Math module "
   ]
  },
  {
   "cell_type": "code",
   "execution_count": 26,
   "id": "44731137-117b-4176-ac4d-76ec8763a3d5",
   "metadata": {},
   "outputs": [],
   "source": [
    "import math"
   ]
  },
  {
   "cell_type": "code",
   "execution_count": 27,
   "id": "44acc282-723a-4415-a06a-e081d3cb15a3",
   "metadata": {},
   "outputs": [
    {
     "name": "stdout",
     "output_type": "stream",
     "text": [
      "Pi value : 3.141592653589793\n"
     ]
    }
   ],
   "source": [
    "print(\"Pi value :\",math.pi)"
   ]
  },
  {
   "cell_type": "code",
   "execution_count": 28,
   "id": "03703454-3599-4e1c-be6a-760a58904414",
   "metadata": {},
   "outputs": [
    {
     "name": "stdout",
     "output_type": "stream",
     "text": [
      "Area of Cirlce is : 50.26548245743669\n"
     ]
    }
   ],
   "source": [
    "# area of a circle\n",
    "r = 4\n",
    "pie = math.pi\n",
    "print(\"Area of Cirlce is :\",pie * r * r)"
   ]
  },
  {
   "cell_type": "code",
   "execution_count": 29,
   "id": "496dbf1d-1a01-4d30-bcc1-4775fc172595",
   "metadata": {},
   "outputs": [
    {
     "name": "stdout",
     "output_type": "stream",
     "text": [
      "Cos value : 1.0\n"
     ]
    }
   ],
   "source": [
    "print(\"Cos value :\",math.cos(0))"
   ]
  },
  {
   "cell_type": "code",
   "execution_count": 30,
   "id": "030f3fe8-236f-4626-8cda-a57ead2df06f",
   "metadata": {},
   "outputs": [
    {
     "name": "stdout",
     "output_type": "stream",
     "text": [
      "Square root : 4.0\n"
     ]
    }
   ],
   "source": [
    "print(\"Square root :\",math.sqrt(16))"
   ]
  },
  {
   "cell_type": "code",
   "execution_count": 7,
   "id": "3b1a15f2-a89e-4dfb-b536-a4cafdd78f67",
   "metadata": {},
   "outputs": [],
   "source": [
    "from math import * # importing all functions"
   ]
  },
  {
   "cell_type": "code",
   "execution_count": 48,
   "id": "bb68eab5-6b71-497c-8ece-694938251974",
   "metadata": {},
   "outputs": [
    {
     "data": {
      "text/plain": [
       "3.141592653589793"
      ]
     },
     "execution_count": 48,
     "metadata": {},
     "output_type": "execute_result"
    }
   ],
   "source": [
    "pi"
   ]
  },
  {
   "cell_type": "code",
   "execution_count": 50,
   "id": "5b29c7fd-094c-45b7-8221-d60aee6eba8c",
   "metadata": {},
   "outputs": [
    {
     "data": {
      "text/plain": [
       "9.0"
      ]
     },
     "execution_count": 50,
     "metadata": {},
     "output_type": "execute_result"
    }
   ],
   "source": [
    "sqrt(81)"
   ]
  },
  {
   "cell_type": "markdown",
   "id": "4ce3cf91-8206-44f6-bb94-e65fe680cd96",
   "metadata": {},
   "source": [
    "##### Os module"
   ]
  },
  {
   "cell_type": "code",
   "execution_count": 9,
   "id": "4f0cf3ac-6606-4e8c-aae2-e29ffee826bd",
   "metadata": {},
   "outputs": [],
   "source": [
    "import os"
   ]
  },
  {
   "cell_type": "code",
   "execution_count": 10,
   "id": "4c0df7f9-c0b4-454e-bc41-929c777e3bc6",
   "metadata": {},
   "outputs": [
    {
     "data": {
      "text/plain": [
       "'D:\\\\M.TECH DATA SCIENCE\\\\1st semester\\\\PYTHON\\\\Udemy Python\\\\5 Modules & packages\\\\Modules'"
      ]
     },
     "execution_count": 10,
     "metadata": {},
     "output_type": "execute_result"
    }
   ],
   "source": [
    "# creating folder into system\n",
    "os.getcwd()"
   ]
  },
  {
   "cell_type": "code",
   "execution_count": 11,
   "id": "3cf90b8b-e956-4568-b7d6-e84e25409d59",
   "metadata": {},
   "outputs": [],
   "source": [
    "# creating folder into system\n",
    "os.mkdir(\"os_folder_creation\")"
   ]
  },
  {
   "cell_type": "code",
   "execution_count": 12,
   "id": "f8be84e8-5f08-445d-964d-d4756c6d4523",
   "metadata": {},
   "outputs": [],
   "source": [
    "# renaming folder \n",
    "os.rename(\"os_folder_creation\",\"modified\")"
   ]
  },
  {
   "cell_type": "code",
   "execution_count": 13,
   "id": "e77f16fb-ff84-4dfe-8640-0276fe6bed1f",
   "metadata": {},
   "outputs": [],
   "source": [
    "os.rmdir(\"modified\")"
   ]
  },
  {
   "cell_type": "markdown",
   "id": "fb7e022f-5416-49b9-859a-80a1b6a2e7f0",
   "metadata": {},
   "source": [
    "##### random , fraction module"
   ]
  },
  {
   "cell_type": "code",
   "execution_count": 49,
   "id": "a9c61543-5f95-4a1b-8f74-17b906a8b8fd",
   "metadata": {},
   "outputs": [
    {
     "name": "stdout",
     "output_type": "stream",
     "text": [
      "random_numbers : 0.9232749241826007\n",
      "random_numbers : 2\n"
     ]
    }
   ],
   "source": [
    "import random\n",
    "\n",
    "print(\"random_numbers :\",random.random())\n",
    "print(\"random_numbers :\",random.choice([2,3,4,5,6,\"&%$#\",\"ABCD\"]))\n",
    "# print(\"random_numbers\",random.Random(10))"
   ]
  },
  {
   "cell_type": "code",
   "execution_count": 94,
   "id": "98d87509-0a69-467f-8dbb-0a62d9bcf3c1",
   "metadata": {},
   "outputs": [
    {
     "name": "stdout",
     "output_type": "stream",
     "text": [
      "decimal to fraction_number : 9/2\n",
      "frac_number to decimal : 4.5\n"
     ]
    }
   ],
   "source": [
    "# fractions \n",
    "import fractions\n",
    "print(\"decimal to fraction_number :\",fractions.Fraction(4.5))\n",
    "print(\"frac_number to decimal :\",fractions.Decimal(9/2))"
   ]
  },
  {
   "cell_type": "code",
   "execution_count": 95,
   "id": "c9e749c4-1835-484f-93f1-bd2b73e247f2",
   "metadata": {},
   "outputs": [
    {
     "data": {
      "text/plain": [
       "Decimal('3.140000000000000124344978758017532527446746826171875')"
      ]
     },
     "execution_count": 95,
     "metadata": {},
     "output_type": "execute_result"
    }
   ],
   "source": [
    "# decimal\n",
    "import decimal\n",
    "\n",
    "decimal.Decimal(3.14)"
   ]
  },
  {
   "cell_type": "code",
   "execution_count": 50,
   "id": "353c1793-af97-4df0-9bc7-de93c9671cdc",
   "metadata": {},
   "outputs": [
    {
     "name": "stdout",
     "output_type": "stream",
     "text": [
      "current time  Sat Jul 27 11:54:25 2024\n",
      "current time  time.struct_time(tm_year=2024, tm_mon=7, tm_mday=27, tm_hour=11, tm_min=54, tm_sec=25, tm_wday=5, tm_yday=209, tm_isdst=0)\n",
      "current time  time.struct_time(tm_year=2024, tm_mon=7, tm_mday=27, tm_hour=6, tm_min=24, tm_sec=25, tm_wday=5, tm_yday=209, tm_isdst=0)\n",
      "seconds : 1722061465.7718248\n"
     ]
    }
   ],
   "source": [
    "# time module\n",
    "import time\n",
    "print(\"current time \",time.ctime())\n",
    "print(\"current time \",time.localtime())\n",
    "print(\"current time \",time.gmtime())\n",
    "print(\"seconds :\",time.time())"
   ]
  },
  {
   "cell_type": "markdown",
   "id": "1d3d339c-1927-4294-9f6b-6e2084fbcbf4",
   "metadata": {},
   "source": [
    "### User Defined Module"
   ]
  },
  {
   "cell_type": "markdown",
   "id": "9042c260-2dd2-4bbc-8ef2-f9572643e704",
   "metadata": {},
   "source": [
    "##### with same location"
   ]
  },
  {
   "cell_type": "code",
   "execution_count": 1,
   "id": "120531ad-d3de-4298-8a45-be3f9c976623",
   "metadata": {},
   "outputs": [
    {
     "name": "stdout",
     "output_type": "stream",
     "text": [
      "Addition : 9\n",
      "Substraction : 6\n",
      "Multiplication : 8\n",
      "Divide : 20.0\n"
     ]
    }
   ],
   "source": [
    "import mycalci\n",
    "\n",
    "print(\"Addition :\",mycalci.add(4,5))\n",
    "print(\"Substraction :\",mycalci.subtract(10,4))\n",
    "print(\"Multiplication :\",mycalci.multiply(2,4))\n",
    "print(\"Divide :\",mycalci.divide(100,5))"
   ]
  },
  {
   "cell_type": "code",
   "execution_count": 2,
   "id": "1571e115-ac9a-4745-8c07-d1c2da934fe2",
   "metadata": {},
   "outputs": [],
   "source": [
    "from mycalci import *"
   ]
  },
  {
   "cell_type": "code",
   "execution_count": 3,
   "id": "78bb9f86-13f6-455e-945d-fe13ddf5df69",
   "metadata": {},
   "outputs": [
    {
     "name": "stdout",
     "output_type": "stream",
     "text": [
      "Addition : 18\n",
      "Substraction : 6\n",
      "Multiplication : 8\n",
      "Divide : 20.0\n"
     ]
    }
   ],
   "source": [
    "print(\"Addition :\",add(8,10))\n",
    "print(\"Substraction :\",subtract(10,4))\n",
    "print(\"Multiplication :\",multiply(2,4))\n",
    "print(\"Divide :\",divide(100,5))"
   ]
  },
  {
   "cell_type": "markdown",
   "id": "65fd52ce-8bc9-499f-86ae-2b48e8727fb8",
   "metadata": {},
   "source": [
    "##### with defferent location"
   ]
  },
  {
   "cell_type": "code",
   "execution_count": 53,
   "id": "8a8211ef-5c08-4ea6-a7ba-96bdd22bd218",
   "metadata": {},
   "outputs": [
    {
     "ename": "ModuleNotFoundError",
     "evalue": "No module named 'welcome'",
     "output_type": "error",
     "traceback": [
      "\u001b[1;31m---------------------------------------------------------------------------\u001b[0m",
      "\u001b[1;31mModuleNotFoundError\u001b[0m                       Traceback (most recent call last)",
      "Cell \u001b[1;32mIn[53], line 1\u001b[0m\n\u001b[1;32m----> 1\u001b[0m \u001b[38;5;28;01mimport\u001b[39;00m \u001b[38;5;21;01mwelcome\u001b[39;00m\n",
      "\u001b[1;31mModuleNotFoundError\u001b[0m: No module named 'welcome'"
     ]
    }
   ],
   "source": [
    "import welcome # the module file is placed in different location that why it is not able to find the module"
   ]
  },
  {
   "cell_type": "code",
   "execution_count": 56,
   "id": "243a8383-e93f-4897-bc28-15f3d2cd9a37",
   "metadata": {},
   "outputs": [],
   "source": [
    "# now to import module that is placed in different location we can use the sys module\n",
    "import sys\n",
    "sys.path.append(\"D:\\\\M.TECH DATA SCIENCE\\\\1st semester\\\\PYTHON\\\\Udemy Python\\\\5 Modules and packeges\\\\different_location\") "
   ]
  },
  {
   "cell_type": "code",
   "execution_count": 58,
   "id": "8e382420-c914-4580-a4a2-8697cb063193",
   "metadata": {},
   "outputs": [
    {
     "name": "stdout",
     "output_type": "stream",
     "text": [
      "hi welcome\n"
     ]
    }
   ],
   "source": [
    "# now importing from different location will work\n",
    "import welcome\n",
    "welcome.greet()"
   ]
  },
  {
   "cell_type": "code",
   "execution_count": null,
   "id": "60348e50-07bd-46b0-aff2-6a8298e1d8ef",
   "metadata": {},
   "outputs": [],
   "source": []
  }
 ],
 "metadata": {
  "kernelspec": {
   "display_name": "Python 3 (ipykernel)",
   "language": "python",
   "name": "python3"
  },
  "language_info": {
   "codemirror_mode": {
    "name": "ipython",
    "version": 3
   },
   "file_extension": ".py",
   "mimetype": "text/x-python",
   "name": "python",
   "nbconvert_exporter": "python",
   "pygments_lexer": "ipython3",
   "version": "3.11.7"
  },
  "widgets": {
   "application/vnd.jupyter.widget-state+json": {
    "state": {},
    "version_major": 2,
    "version_minor": 0
   }
  }
 },
 "nbformat": 4,
 "nbformat_minor": 5
}
