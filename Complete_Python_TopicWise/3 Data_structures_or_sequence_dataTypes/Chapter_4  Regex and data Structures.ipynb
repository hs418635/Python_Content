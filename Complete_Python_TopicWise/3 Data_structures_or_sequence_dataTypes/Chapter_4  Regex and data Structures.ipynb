{
 "cells": [
  {
   "cell_type": "code",
   "execution_count": 1,
   "id": "76b8a196",
   "metadata": {},
   "outputs": [
    {
     "data": {
      "text/plain": [
       "'D:\\\\M.TECH DATA SCIENCE\\\\1st semester\\\\PYTHON\\\\udemy lectures\\\\3 Data_structures_or_sequence_dataTypes'"
      ]
     },
     "execution_count": 1,
     "metadata": {},
     "output_type": "execute_result"
    }
   ],
   "source": [
    "pwd#to know current directory of jupyter notebook "
   ]
  },
  {
   "cell_type": "markdown",
   "id": "15aa0aa7-f6b2-4b5d-aa36-51750d87d9e5",
   "metadata": {
    "jp-MarkdownHeadingCollapsed": true
   },
   "source": [
    "### Regular Expression (Regex)\n",
    "\n",
    "A regular Expression is a special text string for describing a search pattern\n",
    "\n",
    "Regular Expression Operations :\n",
    "1) Find a word in a string\n",
    "2) Match one of any of several letters\n",
    "3) Match a single character\n",
    "4) Match series of range of characters\n",
    "5) Replace string\n",
    "6) Generate an iterator\n",
    "\n",
    "Applications :\n",
    "1) E-mail and Phone_Number_verification\n",
    "2) Web Scrapping\n",
    "\n",
    "Character Classes:\n",
    "1) Ranges: [a-z] for lowercase letters\n",
    "2) [A-Z] for uppercase letters,\n",
    "3) [0-9] for digits.\n",
    "4) Negation: [^a-z] for any character not in the range a-z.\n",
    "\n",
    "Predefined Character Classes:\n",
    "1) '\\d' : Any digit.\n",
    "2) '\\D' : Any non-digit.\n",
    "3) '\\w' : Any word character (alphanumeric + underscore).\n",
    "4) '\\W' : Any non-word character.\n",
    "5) '\\s' : Any whitespace character.\n",
    "6) '\\S' : Any non-whitespace character.\n",
    "7) '^' : Start of a string\n",
    "8) '$' : End of a string.\n",
    "\n",
    "Common Functions in Python's re Module:\n",
    "\n",
    "1) re.findall() : Find all substrings where the RE matches and returns them as a list.\n",
    "2) re.search()  : Scan through a string, looking for any location where this RE matches.\n",
    "3) re.finditer() : Find all substrings where the RE matches and returns them as an iterator.\n",
    "4) re.compile(): Compile a regular expression pattern for later use.\n",
    "5) re.sub()     : Replace occurrences of the RE pattern with a replacement string."
   ]
  },
  {
   "cell_type": "markdown",
   "id": "8d49dcec-12eb-4ed7-aac0-6c45d20ac329",
   "metadata": {
    "jp-MarkdownHeadingCollapsed": true
   },
   "source": [
    "##### findall"
   ]
  },
  {
   "cell_type": "code",
   "execution_count": 17,
   "id": "9a8d077a-06b1-437d-bbdc-2c7f2a1d4bf7",
   "metadata": {},
   "outputs": [],
   "source": [
    "import re # re is a package name\n",
    "\n",
    "string='''Virat is 32 and Rohit is 33 \n",
    "        1000902831293!@#$%^&()(&^%$#@#$%^&()'''"
   ]
  },
  {
   "cell_type": "code",
   "execution_count": 29,
   "id": "e7fa6142-1cfc-4213-b4c2-d1075dac4ff5",
   "metadata": {},
   "outputs": [
    {
     "name": "stdout",
     "output_type": "stream",
     "text": [
      "['i', 'r', 'a', 't', 'i', 's', 'a', 'n', 'd', 'o', 'h', 'i', 't', 'i', 's']\n"
     ]
    }
   ],
   "source": [
    "# character class\n",
    "print(re.findall(r'[a-z]', string)) # for lowercase letters"
   ]
  },
  {
   "cell_type": "code",
   "execution_count": 30,
   "id": "f76b5657-36d2-4a0d-914f-f5f5645a8eae",
   "metadata": {},
   "outputs": [
    {
     "name": "stdout",
     "output_type": "stream",
     "text": [
      "['V', 'R']\n"
     ]
    }
   ],
   "source": [
    "# character class\n",
    "print(re.findall(r'[A-Z]', string)) # for uppercase letters"
   ]
  },
  {
   "cell_type": "code",
   "execution_count": 31,
   "id": "6ee78ae4-cf06-4df8-8a71-0ca971d9c8e0",
   "metadata": {},
   "outputs": [
    {
     "name": "stdout",
     "output_type": "stream",
     "text": [
      "['3', '2', '3', '3', '1', '0', '0', '0', '9', '0', '2', '8', '3', '1', '2', '9', '3'] "
     ]
    }
   ],
   "source": [
    "# character class\n",
    "print(re.findall(r'[0-9]', string),end= \" \")"
   ]
  },
  {
   "cell_type": "code",
   "execution_count": 43,
   "id": "7468af16-45bc-4b9a-b431-c59b5e847813",
   "metadata": {},
   "outputs": [
    {
     "name": "stdout",
     "output_type": "stream",
     "text": [
      "['Virat']\n"
     ]
    }
   ],
   "source": [
    "# Predefined character classes\n",
    "print(re.findall(r'Virat', string)) # virat is present in the string"
   ]
  },
  {
   "cell_type": "code",
   "execution_count": 44,
   "id": "9fafbc9e-db65-42eb-8af5-7446c3b86e04",
   "metadata": {},
   "outputs": [
    {
     "name": "stdout",
     "output_type": "stream",
     "text": [
      "[]\n"
     ]
    }
   ],
   "source": [
    "print(re.findall(r'thisw', string)) # thisw is not present in the string"
   ]
  },
  {
   "cell_type": "code",
   "execution_count": 45,
   "id": "d9601050-a357-4f37-a8c2-24ce69272ebf",
   "metadata": {},
   "outputs": [
    {
     "name": "stdout",
     "output_type": "stream",
     "text": [
      "['3', '2', '3', '3', '1', '0', '0', '0', '9', '0', '2', '8', '3', '1', '2', '9', '3']\n"
     ]
    }
   ],
   "source": [
    "print(re.findall(r'\\d', string)) # Any digits"
   ]
  },
  {
   "cell_type": "code",
   "execution_count": 46,
   "id": "c6c2d0d5-8af4-42a6-a073-141f897dec7b",
   "metadata": {},
   "outputs": [
    {
     "name": "stdout",
     "output_type": "stream",
     "text": [
      "['32', '33', '10', '00', '90', '28', '31', '29']\n"
     ]
    }
   ],
   "source": [
    "print(re.findall(r'\\d\\d', string))"
   ]
  },
  {
   "cell_type": "code",
   "execution_count": 47,
   "id": "6a6cdf89-f96d-4f7f-9956-7be052e1375e",
   "metadata": {},
   "outputs": [
    {
     "name": "stdout",
     "output_type": "stream",
     "text": [
      "['100', '090', '283', '129']\n"
     ]
    }
   ],
   "source": [
    "print(re.findall(r'\\d\\d\\d', string))"
   ]
  },
  {
   "cell_type": "code",
   "execution_count": 48,
   "id": "4ff00ff1-c8a3-47ce-a8cb-8296ceeeda07",
   "metadata": {},
   "outputs": [
    {
     "name": "stdout",
     "output_type": "stream",
     "text": [
      "['32', '33', '100', '090', '283', '129', '3']\n"
     ]
    }
   ],
   "source": [
    "print(re.findall(r'\\d{1,3}', string))"
   ]
  },
  {
   "cell_type": "code",
   "execution_count": 49,
   "id": "919aa8dc-2678-482a-9960-794f3029a658",
   "metadata": {},
   "outputs": [
    {
     "name": "stdout",
     "output_type": "stream",
     "text": [
      "['V', 'i', 'r', 'a', 't', ' ', 'i', 's', ' ', ' ', 'a', 'n', 'd', ' ', 'R', 'o', 'h', 'i', 't', ' ', 'i', 's', ' ', ' ', '\\n', ' ', ' ', ' ', ' ', ' ', ' ', ' ', ' ', '!', '@', '#', '$', '%', '^', '&', '(', ')', '(', '&', '^', '%', '$', '#', '@', '#', '$', '%', '^', '&', '(', ')']\n"
     ]
    }
   ],
   "source": [
    "print(re.findall(r'\\D', string)) # Any Non - digit"
   ]
  },
  {
   "cell_type": "code",
   "execution_count": 50,
   "id": "170dfdfb-d025-4dcf-a9e6-d7a4c352c784",
   "metadata": {},
   "outputs": [
    {
     "name": "stdout",
     "output_type": "stream",
     "text": [
      "['V', 'i', 'r', 'a', 't', 'i', 's', '3', '2', 'a', 'n', 'd', 'R', 'o', 'h', 'i', 't', 'i', 's', '3', '3', '1', '0', '0', '0', '9', '0', '2', '8', '3', '1', '2', '9', '3']\n"
     ]
    }
   ],
   "source": [
    "print(re.findall(r'\\w', string)) # Any word character"
   ]
  },
  {
   "cell_type": "code",
   "execution_count": 51,
   "id": "9a3f259e-ef8b-42da-8930-70b27fd924cd",
   "metadata": {},
   "outputs": [
    {
     "name": "stdout",
     "output_type": "stream",
     "text": [
      "[' ', ' ', ' ', ' ', ' ', ' ', ' ', '\\n', ' ', ' ', ' ', ' ', ' ', ' ', ' ', ' ', '!', '@', '#', '$', '%', '^', '&', '(', ')', '(', '&', '^', '%', '$', '#', '@', '#', '$', '%', '^', '&', '(', ')']\n"
     ]
    }
   ],
   "source": [
    "print(re.findall(r'\\W', string)) # Any Non word character"
   ]
  },
  {
   "cell_type": "code",
   "execution_count": 52,
   "id": "ae498b06-89b6-41d6-8638-9e829c07dc28",
   "metadata": {},
   "outputs": [
    {
     "name": "stdout",
     "output_type": "stream",
     "text": [
      "[' ', ' ', ' ', ' ', ' ', ' ', ' ', '\\n', ' ', ' ', ' ', ' ', ' ', ' ', ' ', ' ']\n"
     ]
    }
   ],
   "source": [
    "print(re.findall(r'\\s', string)) # Any white space"
   ]
  },
  {
   "cell_type": "code",
   "execution_count": 53,
   "id": "48aa03ef-bc9f-4e11-b957-4f059e3cd047",
   "metadata": {
    "scrolled": true
   },
   "outputs": [
    {
     "name": "stdout",
     "output_type": "stream",
     "text": [
      "['V', 'i', 'r', 'a', 't', 'i', 's', '3', '2', 'a', 'n', 'd', 'R', 'o', 'h', 'i', 't', 'i', 's', '3', '3', '1', '0', '0', '0', '9', '0', '2', '8', '3', '1', '2', '9', '3', '!', '@', '#', '$', '%', '^', '&', '(', ')', '(', '&', '^', '%', '$', '#', '@', '#', '$', '%', '^', '&', '(', ')']\n"
     ]
    }
   ],
   "source": [
    "print(re.findall(r'\\S', string)) # Any white space"
   ]
  },
  {
   "cell_type": "code",
   "execution_count": 82,
   "id": "f7df6c5a-bcf6-43b7-ad2f-c21b8eb50308",
   "metadata": {},
   "outputs": [],
   "source": [
    "# Q1. Find the names and Ages of players given in a string\n",
    "import re\n",
    "name_age = '''Virat is 32 and Rohit is 35\n",
    "                Sikhar is 30 and Risabh is 22'''"
   ]
  },
  {
   "cell_type": "code",
   "execution_count": 83,
   "id": "fd0d9bc5-b502-435f-a322-bfe2148327bc",
   "metadata": {},
   "outputs": [
    {
     "name": "stdout",
     "output_type": "stream",
     "text": [
      "['32', '35', '30', '22']\n"
     ]
    }
   ],
   "source": [
    "ages=re.findall(r'\\d{1,3}',name_age)\n",
    "print(ages)"
   ]
  },
  {
   "cell_type": "code",
   "execution_count": 84,
   "id": "2635d642-1d2e-44e2-8f1e-3fe7ff4e54f1",
   "metadata": {},
   "outputs": [
    {
     "name": "stdout",
     "output_type": "stream",
     "text": [
      "['Virat', 'Rohit', 'Sikhar', 'Risabh']\n"
     ]
    }
   ],
   "source": [
    "names=re.findall(r'[A-Z][a-z]*',name_age)\n",
    "print(names)"
   ]
  },
  {
   "cell_type": "code",
   "execution_count": 85,
   "id": "80181c72-c73d-4508-9a1c-d98874b8e754",
   "metadata": {},
   "outputs": [
    {
     "name": "stdout",
     "output_type": "stream",
     "text": [
      "{'Virat': '32', 'Rohit': '35', 'Sikhar': '30', 'Risabh': '22'}\n"
     ]
    }
   ],
   "source": [
    "players = {}\n",
    "x = 0\n",
    "for i in names:\n",
    "    players[i]=ages[x]\n",
    "    x += 1\n",
    "print(players)"
   ]
  },
  {
   "cell_type": "code",
   "execution_count": 86,
   "id": "798b7940-a760-41b8-b8a2-d75ec174716d",
   "metadata": {},
   "outputs": [
    {
     "name": "stdout",
     "output_type": "stream",
     "text": [
      "sat\n",
      "hat\n",
      "mat\n",
      "pat\n"
     ]
    }
   ],
   "source": [
    "# Q2.Find all the character which is having 'at'\n",
    "string = 'sat,hat,mat,pat'\n",
    "for i in re.findall(r'[shmp]at',string):\n",
    "    print(i)"
   ]
  },
  {
   "cell_type": "code",
   "execution_count": 87,
   "id": "e506aedc-a2d9-4979-8300-ec50a8fcb8b6",
   "metadata": {},
   "outputs": [
    {
     "name": "stdout",
     "output_type": "stream",
     "text": [
      "hat\n",
      "mat\n",
      "pat\n"
     ]
    }
   ],
   "source": [
    "string = 'sat,hat,mat,pat'\n",
    "for i in re.findall(r'[Shmp]at',string): # will not take Capital S\n",
    "    print(i)"
   ]
  },
  {
   "cell_type": "code",
   "execution_count": 88,
   "id": "d030fb8a-0d75-40cb-b9d3-abd6710acd15",
   "metadata": {},
   "outputs": [
    {
     "name": "stdout",
     "output_type": "stream",
     "text": [
      "sat\n",
      "hat\n",
      "mat\n",
      "pat\n"
     ]
    }
   ],
   "source": [
    "string = 'sat,hat,mat,pat,rat'\n",
    "for i in re.findall(r'[shmp]at',string): # will not take rat because r in not present in the list\n",
    "    print(i)"
   ]
  },
  {
   "cell_type": "code",
   "execution_count": 90,
   "id": "98a9c39e-6449-4e89-807e-f9cc069e9cef",
   "metadata": {},
   "outputs": [
    {
     "name": "stdout",
     "output_type": "stream",
     "text": [
      "sat\n",
      "hat\n",
      "mat\n",
      "pat\n",
      "rat\n"
     ]
    }
   ],
   "source": [
    "string = 'sat,hat,mat,pat,rat'\n",
    "for i in re.findall(r'[shmpr]at',string): # will take rat now because r is present in the list\n",
    "    print(i)"
   ]
  },
  {
   "cell_type": "code",
   "execution_count": 91,
   "id": "bcce2e3b-d2a8-4c8e-b2b7-d05722540406",
   "metadata": {},
   "outputs": [
    {
     "name": "stdout",
     "output_type": "stream",
     "text": [
      "sat\n",
      "pat\n",
      "rat\n"
     ]
    }
   ],
   "source": [
    "# find the words not including hat and mat\n",
    "string = 'sat,hat,mat,pat,rat'\n",
    "for i in re.findall(r'[^h-m]at',string):\n",
    "    print(i)"
   ]
  },
  {
   "cell_type": "markdown",
   "id": "bdd70aaa-0c52-4194-8873-9b57d52fe8ab",
   "metadata": {},
   "source": [
    "##### Search"
   ]
  },
  {
   "cell_type": "code",
   "execution_count": 80,
   "id": "869c9944-7cc9-4f9b-b324-d01ed10d7d42",
   "metadata": {},
   "outputs": [
    {
     "name": "stdout",
     "output_type": "stream",
     "text": [
      "ML is present in the string\n"
     ]
    }
   ],
   "source": [
    "# search a word in a string\n",
    "import re\n",
    "if re.search('ML','ML is a subset of artificial intelligence'):\n",
    "    print(\"ML is present in the string\")"
   ]
  },
  {
   "cell_type": "markdown",
   "id": "bdc3cbff-6a66-47e9-b7bb-7051da87691c",
   "metadata": {},
   "source": [
    "##### finditer"
   ]
  },
  {
   "cell_type": "code",
   "execution_count": 81,
   "id": "48152ecf-0d47-4774-893e-3c07a4dbfc36",
   "metadata": {},
   "outputs": [
    {
     "name": "stdout",
     "output_type": "stream",
     "text": [
      "<re.Match object; span=(11, 17), match='inform'>\n",
      "<re.Match object; span=(34, 40), match='inform'>\n"
     ]
    }
   ],
   "source": [
    "str = 'we need to inform him with latest information'\n",
    "for i in re.finditer('inform',str):\n",
    "    print(i)"
   ]
  },
  {
   "cell_type": "markdown",
   "id": "fef21021-55f2-4946-bdea-ac4f050d1366",
   "metadata": {},
   "source": [
    "##### complile and sub"
   ]
  },
  {
   "cell_type": "code",
   "execution_count": 96,
   "id": "242acfaf-d6d8-4585-9ffe-df7fe3f63d19",
   "metadata": {},
   "outputs": [
    {
     "data": {
      "text/plain": [
       "'sat,hat,mat,pat,food'"
      ]
     },
     "execution_count": 96,
     "metadata": {},
     "output_type": "execute_result"
    }
   ],
   "source": [
    "# substitude food in place of rat\n",
    "string = 'sat,hat,mat,pat,rat'\n",
    "re.compile('[r]at').sub('food',string)"
   ]
  },
  {
   "cell_type": "markdown",
   "id": "5437c470-e56d-472c-aadd-1dafdb97ba31",
   "metadata": {},
   "source": [
    "# What is Data Structures in python ?\n",
    "Data Structures is a way or collecting and organizing data in such a way that it can be stored , accessed and managed in an efficient way\n",
    "There are 2 types of data structure :\n",
    "1) Inbuilt data structures ---> int , float , complex ,string, list , tuple , set , dictionary\n",
    "   1) Numeric Data Types --> int , float , complex\n",
    "   2) Sequence Data Types --> string , list , tuple\n",
    "   3) Set Data Types --> set\n",
    "   4) Mapping Data Types --> Dictionary\n",
    "3) User defined data structures --> Linked list , stack , queue , Tree , graph etc\n",
    "\n",
    "Sequence Data Types:\n",
    "1) String: strings are ordered sequence of characters , They are indexed and immutable.\n",
    "2) List : List are also ordered collection of items , They are indexed and Mutable.\n",
    "3) Tuple : Tuple are also ordered collection of items ,Tery are indexed and immutable.\n",
    "\n",
    "set:sets are unordered collection of unique elements, they are unindexed and mutable\n",
    "\n",
    "Dictionary:Unorderd collection of key:value pairs , Keys are indexed and values are mutable"
   ]
  },
  {
   "cell_type": "markdown",
   "id": "59ffe2e9-1904-4af4-9ff4-3b08c08cc2f6",
   "metadata": {
    "jp-MarkdownHeadingCollapsed": true
   },
   "source": [
    "## String"
   ]
  },
  {
   "cell_type": "markdown",
   "id": "2c7516bc",
   "metadata": {},
   "source": [
    "### 1.String Basics\n",
    "\n",
    "Strings are Ordered sequence of characters\n"
   ]
  },
  {
   "cell_type": "code",
   "execution_count": 8,
   "id": "8ecd89a0-dfa3-43ac-bb06-bbf5a6ea3760",
   "metadata": {},
   "outputs": [
    {
     "name": "stdout",
     "output_type": "stream",
     "text": [
      "hello world\n",
      "<class 'str'>\n"
     ]
    }
   ],
   "source": [
    "s = 'hello world' # string with single quote\n",
    "s1 = \"Hello wolrd\" # string with double quote\n",
    "s2 = '''hello\n",
    "            world''' # string with triple quote\n",
    "\n",
    "print(s)\n",
    "print(type(s))"
   ]
  },
  {
   "cell_type": "code",
   "execution_count": 13,
   "id": "9cbeb8b3",
   "metadata": {},
   "outputs": [
    {
     "name": "stdout",
     "output_type": "stream",
     "text": [
      "hello world\n"
     ]
    }
   ],
   "source": [
    "print('hello world')"
   ]
  },
  {
   "cell_type": "code",
   "execution_count": 14,
   "id": "5b2c1989",
   "metadata": {},
   "outputs": [
    {
     "name": "stdout",
     "output_type": "stream",
     "text": [
      "hello\n",
      "world\n"
     ]
    }
   ],
   "source": [
    "print('hello\\nworld')"
   ]
  },
  {
   "cell_type": "code",
   "execution_count": 15,
   "id": "8a365213",
   "metadata": {},
   "outputs": [
    {
     "data": {
      "text/plain": [
       "4"
      ]
     },
     "execution_count": 15,
     "metadata": {},
     "output_type": "execute_result"
    }
   ],
   "source": [
    "len('hllo')"
   ]
  },
  {
   "cell_type": "code",
   "execution_count": 16,
   "id": "90fab6ea",
   "metadata": {},
   "outputs": [
    {
     "data": {
      "text/plain": [
       "4"
      ]
     },
     "execution_count": 16,
     "metadata": {},
     "output_type": "execute_result"
    }
   ],
   "source": [
    "len('I am')"
   ]
  },
  {
   "cell_type": "markdown",
   "id": "9a7773b8",
   "metadata": {
    "jp-MarkdownHeadingCollapsed": true
   },
   "source": [
    "#### String indexing and Slicing\n",
    "strings are immutable"
   ]
  },
  {
   "cell_type": "code",
   "execution_count": 23,
   "id": "165061c0",
   "metadata": {},
   "outputs": [
    {
     "data": {
      "text/plain": [
       "'a'"
      ]
     },
     "execution_count": 23,
     "metadata": {},
     "output_type": "execute_result"
    }
   ],
   "source": [
    "mystring = \"Data Science\"\n",
    "mystring[1] # +ve indexing"
   ]
  },
  {
   "cell_type": "code",
   "execution_count": 24,
   "id": "788292fe",
   "metadata": {},
   "outputs": [
    {
     "data": {
      "text/plain": [
       "'n'"
      ]
     },
     "execution_count": 24,
     "metadata": {},
     "output_type": "execute_result"
    }
   ],
   "source": [
    "mystring[-3] # -ve indexing"
   ]
  },
  {
   "cell_type": "code",
   "execution_count": 27,
   "id": "b2f8e997-77e4-4c06-aa7a-3a63af25e427",
   "metadata": {},
   "outputs": [
    {
     "ename": "TypeError",
     "evalue": "'str' object does not support item assignment",
     "output_type": "error",
     "traceback": [
      "\u001b[1;31m---------------------------------------------------------------------------\u001b[0m",
      "\u001b[1;31mTypeError\u001b[0m                                 Traceback (most recent call last)",
      "Cell \u001b[1;32mIn[27], line 1\u001b[0m\n\u001b[1;32m----> 1\u001b[0m mystring[\u001b[38;5;241m-\u001b[39m\u001b[38;5;241m3\u001b[39m] \u001b[38;5;241m=\u001b[39m \u001b[38;5;124m'\u001b[39m\u001b[38;5;124mp\u001b[39m\u001b[38;5;124m'\u001b[39m\n",
      "\u001b[1;31mTypeError\u001b[0m: 'str' object does not support item assignment"
     ]
    }
   ],
   "source": [
    "mystring[-3] = 'p' # strings are immutable"
   ]
  },
  {
   "cell_type": "markdown",
   "id": "30cbbdb0",
   "metadata": {
    "jp-MarkdownHeadingCollapsed": true
   },
   "source": [
    "#### slicing\n",
    "slicing means grabing sub sections of the string"
   ]
  },
  {
   "cell_type": "code",
   "execution_count": 62,
   "id": "64c32bc1",
   "metadata": {},
   "outputs": [
    {
     "data": {
      "text/plain": [
       "'Artificial Intelligence'"
      ]
     },
     "execution_count": 62,
     "metadata": {},
     "output_type": "execute_result"
    }
   ],
   "source": [
    "m=\"Artificial Intelligence\"\n",
    "m"
   ]
  },
  {
   "cell_type": "code",
   "execution_count": 63,
   "id": "437d34d9",
   "metadata": {},
   "outputs": [
    {
     "data": {
      "text/plain": [
       "'Artificial Intelligence'"
      ]
     },
     "execution_count": 63,
     "metadata": {},
     "output_type": "execute_result"
    }
   ],
   "source": [
    "m[:] # m[start:end]"
   ]
  },
  {
   "cell_type": "code",
   "execution_count": 64,
   "id": "33f83eae",
   "metadata": {},
   "outputs": [
    {
     "data": {
      "text/plain": [
       "'Artificial Intelligence'"
      ]
     },
     "execution_count": 64,
     "metadata": {},
     "output_type": "execute_result"
    }
   ],
   "source": [
    "m[0:]"
   ]
  },
  {
   "cell_type": "code",
   "execution_count": 65,
   "id": "fb702be0",
   "metadata": {},
   "outputs": [
    {
     "data": {
      "text/plain": [
       "'Artificial'"
      ]
     },
     "execution_count": 65,
     "metadata": {},
     "output_type": "execute_result"
    }
   ],
   "source": [
    "m[:10]"
   ]
  },
  {
   "cell_type": "code",
   "execution_count": 66,
   "id": "d5e51f94-a8ef-458e-aec6-5d949b52454b",
   "metadata": {},
   "outputs": [
    {
     "data": {
      "text/plain": [
       "'Intelligence'"
      ]
     },
     "execution_count": 66,
     "metadata": {},
     "output_type": "execute_result"
    }
   ],
   "source": [
    "m[11:]"
   ]
  },
  {
   "cell_type": "code",
   "execution_count": 67,
   "id": "39f48ca7-f481-4f46-92e5-2239927cd241",
   "metadata": {},
   "outputs": [
    {
     "data": {
      "text/plain": [
       "'rtificial'"
      ]
     },
     "execution_count": 67,
     "metadata": {},
     "output_type": "execute_result"
    }
   ],
   "source": [
    "m[1:10]"
   ]
  },
  {
   "cell_type": "markdown",
   "id": "add23484",
   "metadata": {
    "jp-MarkdownHeadingCollapsed": true
   },
   "source": [
    "#### step size"
   ]
  },
  {
   "cell_type": "code",
   "execution_count": 68,
   "id": "9a958a58",
   "metadata": {},
   "outputs": [
    {
     "data": {
      "text/plain": [
       "'Atfca nelgne'"
      ]
     },
     "execution_count": 68,
     "metadata": {},
     "output_type": "execute_result"
    }
   ],
   "source": [
    "m[::2]"
   ]
  },
  {
   "cell_type": "code",
   "execution_count": 69,
   "id": "7a79b11b",
   "metadata": {},
   "outputs": [
    {
     "data": {
      "text/plain": [
       "'rfi'"
      ]
     },
     "execution_count": 69,
     "metadata": {},
     "output_type": "execute_result"
    }
   ],
   "source": [
    "m[1:10:3]"
   ]
  },
  {
   "cell_type": "code",
   "execution_count": 70,
   "id": "0bc8fb23-ca6a-49ca-938c-9a22f279e193",
   "metadata": {},
   "outputs": [
    {
     "data": {
      "text/plain": [
       "'ecnegilletnI laicifitrA'"
      ]
     },
     "execution_count": 70,
     "metadata": {},
     "output_type": "execute_result"
    }
   ],
   "source": [
    "m[::-1] # reversing the string"
   ]
  },
  {
   "cell_type": "markdown",
   "id": "ac23883f",
   "metadata": {},
   "source": [
    "#### String Concatenation"
   ]
  },
  {
   "cell_type": "code",
   "execution_count": 97,
   "id": "81ac5fbf",
   "metadata": {},
   "outputs": [],
   "source": [
    "# eg.1\n",
    "name = \"sam\""
   ]
  },
  {
   "cell_type": "code",
   "execution_count": 98,
   "id": "8defe51c-fcec-4beb-8011-62e9a787b495",
   "metadata": {},
   "outputs": [
    {
     "data": {
      "text/plain": [
       "'s'"
      ]
     },
     "execution_count": 98,
     "metadata": {},
     "output_type": "execute_result"
    }
   ],
   "source": [
    "name[0]"
   ]
  },
  {
   "cell_type": "code",
   "execution_count": 99,
   "id": "bae8a4a2",
   "metadata": {},
   "outputs": [
    {
     "ename": "TypeError",
     "evalue": "'str' object does not support item assignment",
     "output_type": "error",
     "traceback": [
      "\u001b[1;31m---------------------------------------------------------------------------\u001b[0m",
      "\u001b[1;31mTypeError\u001b[0m                                 Traceback (most recent call last)",
      "Cell \u001b[1;32mIn[99], line 1\u001b[0m\n\u001b[1;32m----> 1\u001b[0m name[\u001b[38;5;241m0\u001b[39m] \u001b[38;5;241m=\u001b[39m \u001b[38;5;124m'\u001b[39m\u001b[38;5;124mP\u001b[39m\u001b[38;5;124m'\u001b[39m\n",
      "\u001b[1;31mTypeError\u001b[0m: 'str' object does not support item assignment"
     ]
    }
   ],
   "source": [
    "name[0] = 'P' # string are immutable means we can not update the elements"
   ]
  },
  {
   "cell_type": "code",
   "execution_count": 100,
   "id": "1adceef9",
   "metadata": {},
   "outputs": [],
   "source": [
    "last_letters = name[1:]"
   ]
  },
  {
   "cell_type": "code",
   "execution_count": 101,
   "id": "e8fd0c8a",
   "metadata": {},
   "outputs": [
    {
     "data": {
      "text/plain": [
       "'am'"
      ]
     },
     "execution_count": 101,
     "metadata": {},
     "output_type": "execute_result"
    }
   ],
   "source": [
    "last_letters"
   ]
  },
  {
   "cell_type": "code",
   "execution_count": 102,
   "id": "359810ac",
   "metadata": {},
   "outputs": [
    {
     "data": {
      "text/plain": [
       "'pam'"
      ]
     },
     "execution_count": 102,
     "metadata": {},
     "output_type": "execute_result"
    }
   ],
   "source": [
    "'p' + last_letters # this is called string concatenation"
   ]
  },
  {
   "cell_type": "code",
   "execution_count": 110,
   "id": "091034c6",
   "metadata": {},
   "outputs": [
    {
     "data": {
      "text/plain": [
       "'Hello! The Sky is so beautifull'"
      ]
     },
     "execution_count": 110,
     "metadata": {},
     "output_type": "execute_result"
    }
   ],
   "source": [
    "# eg.2\n",
    "x = 'Hello!'\n",
    "x + \" The Sky is so beautifull\""
   ]
  },
  {
   "cell_type": "code",
   "execution_count": 111,
   "id": "1d48c9c2",
   "metadata": {},
   "outputs": [
    {
     "data": {
      "text/plain": [
       "'Hello!Hello!Hello!'"
      ]
     },
     "execution_count": 111,
     "metadata": {},
     "output_type": "execute_result"
    }
   ],
   "source": [
    "x * 3 # string repetition"
   ]
  },
  {
   "cell_type": "code",
   "execution_count": 112,
   "id": "c053dbb8-2f1d-4e04-9e5f-562ff5983942",
   "metadata": {},
   "outputs": [
    {
     "data": {
      "text/plain": [
       "'sam'"
      ]
     },
     "execution_count": 112,
     "metadata": {},
     "output_type": "execute_result"
    }
   ],
   "source": [
    "name"
   ]
  },
  {
   "cell_type": "code",
   "execution_count": 113,
   "id": "12d7304d-6282-4c63-a654-b8131b4e1aa6",
   "metadata": {},
   "outputs": [
    {
     "data": {
      "text/plain": [
       "'pam'"
      ]
     },
     "execution_count": 113,
     "metadata": {},
     "output_type": "execute_result"
    }
   ],
   "source": [
    "var = name.replace('s','p')\n",
    "var"
   ]
  },
  {
   "cell_type": "markdown",
   "id": "00138e3d",
   "metadata": {},
   "source": [
    "### 2.String Methods"
   ]
  },
  {
   "cell_type": "code",
   "execution_count": 266,
   "id": "1b894c01-ab96-47b7-8502-3672dbf3b298",
   "metadata": {},
   "outputs": [
    {
     "name": "stdout",
     "output_type": "stream",
     "text": [
      "3\n",
      "*******************************thank you for purchasing from flipkart*******************************\n",
      "Thank you for purchasing from flipkart\n",
      "THANK YOU FOR PURCHASING FROM FLIPKART\n",
      "Thank You For Purchasing From Flipkart\n",
      "THANK YOU FOR PURCHASING FROM FLIPKART\n",
      "['thank', 'you', 'for', 'purchasing', 'from', 'flipkart']\n",
      "ends with: True\n",
      "0\n",
      "thank you for purchasing from amazone\n"
     ]
    }
   ],
   "source": [
    "s = \"thank you for purchasing from flipkart\" # utf-8\n",
    "\n",
    "print(s.count('a'))\n",
    "print(s.center(100,\"*\")) # width,char\n",
    "print(s.capitalize()) # Capitalize first letter of the sentence\n",
    "print(s.upper()) # capitalize every letter\n",
    "print(s.title()) # caiptalize firt letter of each word\n",
    "print(s.swapcase()) # capitalize the recent whole sentence\n",
    "print(s.split()) # split each word from a sentence and put in a list\n",
    "print(\"ends with:\",s.endswith('flipkart')) # checks ending letter\n",
    "print(s.index('t')) # gives indexing of letter\n",
    "print(s.replace('flipkart','amazone')) # replaces letters or words"
   ]
  },
  {
   "cell_type": "code",
   "execution_count": 5,
   "id": "484b310c-f31a-44ae-b60a-a200d421c3ac",
   "metadata": {},
   "outputs": [
    {
     "name": "stdout",
     "output_type": "stream",
     "text": [
      "True\n",
      "True\n",
      "False\n",
      "False\n",
      "True\n",
      "False\n"
     ]
    }
   ],
   "source": [
    "n='salman'\n",
    "n2 = 'salman340'\n",
    "# isalpha() method returns True only if all characters in the string are alphabetic \n",
    "# and there are no spaces, digits, or punctuation marks.\n",
    "print(n.isalpha())\n",
    "print(n.isalnum())\n",
    "print(n.isdigit())\n",
    "print(n2.isalpha())\n",
    "print(n2.isalnum())\n",
    "print(n2.isdigit())"
   ]
  },
  {
   "cell_type": "markdown",
   "id": "3e670407-3501-4bc8-b062-c247032c44f5",
   "metadata": {},
   "source": [
    "#### Find vs Index"
   ]
  },
  {
   "cell_type": "code",
   "execution_count": 5,
   "id": "02fe38df-ff67-4a29-9f81-7d45a02bb785",
   "metadata": {},
   "outputs": [
    {
     "name": "stdout",
     "output_type": "stream",
     "text": [
      "7\n",
      "-1\n"
     ]
    }
   ],
   "source": [
    "# Find\n",
    "string = \"Hello! Python developers\"\n",
    "print(string.find(\"Python\")) # if character found , will return index position\n",
    "print(string.find(\"Pythonnn\")) # if char not found , will return -1"
   ]
  },
  {
   "cell_type": "code",
   "execution_count": 12,
   "id": "04ec788f-9c48-4c22-98d0-06c72f61dcfe",
   "metadata": {},
   "outputs": [
    {
     "name": "stdout",
     "output_type": "stream",
     "text": [
      "14\n"
     ]
    }
   ],
   "source": [
    "# Index\n",
    "print(string.index(\"developers\"))"
   ]
  },
  {
   "cell_type": "code",
   "execution_count": 13,
   "id": "05bd0f57-04a0-4ebc-b04d-dfb2a781baf7",
   "metadata": {},
   "outputs": [
    {
     "name": "stdout",
     "output_type": "stream",
     "text": [
      "substring not found\n"
     ]
    }
   ],
   "source": [
    "try:\n",
    "    char_index = string.index(\"developerss\")\n",
    "    print(f\"char_index:{char_index}\")\n",
    "except ValueError as e:\n",
    "    print(e)"
   ]
  },
  {
   "cell_type": "markdown",
   "id": "fdc4a8ad-bb22-40bf-822d-71335fda6dd3",
   "metadata": {},
   "source": [
    "#### Strip method and Split method"
   ]
  },
  {
   "cell_type": "code",
   "execution_count": 312,
   "id": "de6cf822-1f9a-4b36-8a07-51808c5ff687",
   "metadata": {},
   "outputs": [
    {
     "name": "stdout",
     "output_type": "stream",
     "text": [
      "of all fruits Mango is my favorite\n"
     ]
    }
   ],
   "source": [
    "# strip --> method removes any leading, and trailing whitespaces and other symbols also.\n",
    "txt = \"     Mango     \"\n",
    "x = txt.strip()\n",
    "print(\"of all fruits\", x, \"is my favorite\")"
   ]
  },
  {
   "cell_type": "code",
   "execution_count": 313,
   "id": "6fb2defe-9d3c-49fb-b185-012832166773",
   "metadata": {},
   "outputs": [
    {
     "name": "stdout",
     "output_type": "stream",
     "text": [
      "$$$$$$$aaaaaaaaHimanshu/////yyyyyyy\n",
      "cleaned string is: Himanshu\n"
     ]
    }
   ],
   "source": [
    "string =\"$$$$$$$aaaaaaaaHimanshu/////yyyyyyy\"\n",
    "print(string)\n",
    "print(\"cleaned string is:\",string.strip(\"$a/y\"))"
   ]
  },
  {
   "cell_type": "code",
   "execution_count": 314,
   "id": "01c45b78-69dd-4a5e-810b-4293c808bda7",
   "metadata": {},
   "outputs": [
    {
     "name": "stdout",
     "output_type": "stream",
     "text": [
      "****Hello, World!\n"
     ]
    }
   ],
   "source": [
    "# rstrip--->Removes trailing (right) characters/spaces from the string.\n",
    "# lstrip--->Removes trailing (left) characters/spaces from the string.\n",
    "s = \"****Hello, World!  \"\n",
    "rstripped = s.rstrip()  # \"  Hello, World!\"\n",
    "print(rstripped)"
   ]
  },
  {
   "cell_type": "code",
   "execution_count": 315,
   "id": "5037b007-19c3-4998-a882-161e84af2e91",
   "metadata": {},
   "outputs": [
    {
     "name": "stdout",
     "output_type": "stream",
     "text": [
      "****Hello, World\n"
     ]
    }
   ],
   "source": [
    "custom_rstripped = s.rstrip(' !')  # \"  Hello, World\"\n",
    "print(custom_rstripped)"
   ]
  },
  {
   "cell_type": "code",
   "execution_count": 316,
   "id": "668d6bfd-5502-44ad-8c43-b02660e5922f",
   "metadata": {},
   "outputs": [
    {
     "name": "stdout",
     "output_type": "stream",
     "text": [
      "Hello, World!  \n"
     ]
    }
   ],
   "source": [
    "custom_lstripped = s.lstrip(' *')  # \" Hello, World!\"\n",
    "print(custom_lstripped)"
   ]
  },
  {
   "cell_type": "code",
   "execution_count": 317,
   "id": "07bd4d1c-88b9-4625-b79e-829d13e8aee8",
   "metadata": {},
   "outputs": [
    {
     "name": "stdout",
     "output_type": "stream",
     "text": [
      "John-Peter-Vicky\n"
     ]
    }
   ],
   "source": [
    "# The join()---> method takes all items in an iterable and joins them into one string.\n",
    "myTuple = [\"John\", \"Peter\", \"Vicky\"]\n",
    "x = \"-\".join(myTuple)\n",
    "print(x)"
   ]
  },
  {
   "cell_type": "code",
   "execution_count": 16,
   "id": "a76c792f-cfe7-4c7b-ada3-46600ff47f8a",
   "metadata": {},
   "outputs": [
    {
     "name": "stdout",
     "output_type": "stream",
     "text": [
      "virat kohli\n"
     ]
    }
   ],
   "source": [
    "# Example 1\n",
    "name = \" &&&    virat      kohli    //// \"\n",
    "cleaned_name = ' '.join(name.strip(\" /&\").split()) # removing extra spaces\n",
    "print(cleaned_name)"
   ]
  },
  {
   "cell_type": "code",
   "execution_count": 22,
   "id": "26e40712-4cb2-4aaa-9d14-acc7925c3eb8",
   "metadata": {},
   "outputs": [
    {
     "data": {
      "text/plain": [
       "'virat      kohli'"
      ]
     },
     "execution_count": 22,
     "metadata": {},
     "output_type": "execute_result"
    }
   ],
   "source": [
    "name.strip(\" &/\") #step1"
   ]
  },
  {
   "cell_type": "code",
   "execution_count": 23,
   "id": "8bde93ee-5c31-4569-a4c7-f8513ffa6c1c",
   "metadata": {},
   "outputs": [
    {
     "data": {
      "text/plain": [
       "['virat', 'kohli']"
      ]
     },
     "execution_count": 23,
     "metadata": {},
     "output_type": "execute_result"
    }
   ],
   "source": [
    "name.strip(\" &/\").split() #step2"
   ]
  },
  {
   "cell_type": "code",
   "execution_count": 24,
   "id": "56c8a882-505b-499f-971b-65e2d3ab7b21",
   "metadata": {},
   "outputs": [
    {
     "data": {
      "text/plain": [
       "'virat kohli'"
      ]
     },
     "execution_count": 24,
     "metadata": {},
     "output_type": "execute_result"
    }
   ],
   "source": [
    "' '.join(name.strip(\" &/\").split()) #step3"
   ]
  },
  {
   "cell_type": "markdown",
   "id": "aec19dc3-b25f-4f43-9bd6-5ec3249b6908",
   "metadata": {},
   "source": [
    "##### Palindrome string programm"
   ]
  },
  {
   "cell_type": "code",
   "execution_count": 41,
   "id": "d89d508f-f106-4dff-bbd3-240228c3e97c",
   "metadata": {},
   "outputs": [
    {
     "name": "stdout",
     "output_type": "stream",
     "text": [
      "malaya lam\n",
      "malayalam\n",
      "string is palindrome\n"
     ]
    }
   ],
   "source": [
    "# make a programm for palindrome string\n",
    "name = \" &&&    Malaya      Lam    //// \"\n",
    "\n",
    "cleaned = ' '.join(name.strip(\" &/\").split()).lower()\n",
    "print(cleaned) # malaya lam is coming with space in between\n",
    "cleaned_string = ''.join(cleaned.split()) # to remove space from in between malayalam\n",
    "print(cleaned_string)\n",
    "if cleaned_string == cleaned_string[::-1]:\n",
    "    print(\"string is palindrome\")\n",
    "else:\n",
    "    print(\"string is not palindrome\")"
   ]
  },
  {
   "cell_type": "code",
   "execution_count": 74,
   "id": "75858f34-6bfd-4779-8502-332cf795bccf",
   "metadata": {},
   "outputs": [],
   "source": [
    "# Making above programm little bit more complex\n",
    "name = \" &&&    Malaya   &&&&   lam    //// \""
   ]
  },
  {
   "cell_type": "code",
   "execution_count": 75,
   "id": "e3678454-4aa9-45d0-b154-3c6c51b67d6b",
   "metadata": {},
   "outputs": [
    {
     "data": {
      "text/plain": [
       "'himanshu suryavanshi'"
      ]
     },
     "execution_count": 75,
     "metadata": {},
     "output_type": "execute_result"
    }
   ],
   "source": [
    "name1 = \"   himanshu //// suryavanshi \"\n",
    "cleaned = ' '.join(name1.strip().split(\"/\")) # use this approach in above question\n",
    "' '.join(cleaned.split())"
   ]
  },
  {
   "cell_type": "code",
   "execution_count": 76,
   "id": "6d1a9673-412f-4a78-b4fa-28bd2d3b25ca",
   "metadata": {},
   "outputs": [
    {
     "data": {
      "text/plain": [
       "'malaya   &&&&   lam'"
      ]
     },
     "execution_count": 76,
     "metadata": {},
     "output_type": "execute_result"
    }
   ],
   "source": [
    "name.strip(\" &/\").lower()# step1"
   ]
  },
  {
   "cell_type": "code",
   "execution_count": 93,
   "id": "faeb2336-5669-4f5c-a4b7-94b37e381cae",
   "metadata": {},
   "outputs": [
    {
     "name": "stdout",
     "output_type": "stream",
     "text": [
      "malaya          lam\n"
     ]
    }
   ],
   "source": [
    "cleaned1 = ' '.join(name.strip(\" &/\").lower().split(\"&\")) # step2\n",
    "print(cleaned1)"
   ]
  },
  {
   "cell_type": "code",
   "execution_count": 94,
   "id": "1dcfed27-5958-4f72-b5fc-0972ddf9f58f",
   "metadata": {},
   "outputs": [],
   "source": [
    "cleaned2 = ''.join(cleaned1.split()) #step3"
   ]
  },
  {
   "cell_type": "code",
   "execution_count": 95,
   "id": "29f916de-c3b2-44f6-8b9f-3f95354fbb6f",
   "metadata": {},
   "outputs": [
    {
     "name": "stdout",
     "output_type": "stream",
     "text": [
      "string is palindrome\n"
     ]
    }
   ],
   "source": [
    "if cleaned2 == cleaned2[::-1]:\n",
    "    print(\"string is palindrome\")\n",
    "else:\n",
    "    print(\"Not Palindrome\")"
   ]
  },
  {
   "cell_type": "code",
   "execution_count": 98,
   "id": "f3575b12-7167-4e56-90fd-eb67a21085ce",
   "metadata": {},
   "outputs": [
    {
     "name": "stdout",
     "output_type": "stream",
     "text": [
      "string is palindrome\n"
     ]
    }
   ],
   "source": [
    "# Q in one line\n",
    "name = \" &&&    Malaya   &&&&   lam    //// \"\n",
    "cleaned = ' '.join(name.strip(\" &/\").lower().split(\"&\"))\n",
    "cleaned1 = ''.join(cleaned1.split())\n",
    "if cleaned1 == cleaned1[::-1]:\n",
    "    print(\"string is palindrome\")\n",
    "else:\n",
    "    print(\"not palindrome\")"
   ]
  },
  {
   "cell_type": "markdown",
   "id": "68d832f3-4f45-4eaf-b380-76d5fc7f275f",
   "metadata": {},
   "source": [
    "###  3.String Encoding and Decoding"
   ]
  },
  {
   "cell_type": "code",
   "execution_count": 319,
   "id": "1d7e1754-0b30-4663-a086-d25d078d5a12",
   "metadata": {},
   "outputs": [],
   "source": [
    "ec = \"this is python\""
   ]
  },
  {
   "cell_type": "code",
   "execution_count": 320,
   "id": "89b6d4e2-68fa-4450-925a-8553cac4125c",
   "metadata": {},
   "outputs": [
    {
     "data": {
      "text/plain": [
       "b'\\xff\\xfet\\x00h\\x00i\\x00s\\x00 \\x00i\\x00s\\x00 \\x00p\\x00y\\x00t\\x00h\\x00o\\x00n\\x00'"
      ]
     },
     "execution_count": 320,
     "metadata": {},
     "output_type": "execute_result"
    }
   ],
   "source": [
    "ec = ec.encode('utf-16')\n",
    "ec"
   ]
  },
  {
   "cell_type": "code",
   "execution_count": 321,
   "id": "59475697-50b6-4dcc-8c9d-6aea58754e6c",
   "metadata": {},
   "outputs": [
    {
     "data": {
      "text/plain": [
       "'this is python'"
      ]
     },
     "execution_count": 321,
     "metadata": {},
     "output_type": "execute_result"
    }
   ],
   "source": [
    "ec.decode('utf-16')"
   ]
  },
  {
   "cell_type": "markdown",
   "id": "70c10e02-60e7-4223-aed5-f5067d072389",
   "metadata": {},
   "source": [
    "### 4.String Iteration"
   ]
  },
  {
   "cell_type": "code",
   "execution_count": 125,
   "id": "99c6a0a7-38b8-4e0d-9558-961e91ac2e22",
   "metadata": {},
   "outputs": [
    {
     "name": "stdout",
     "output_type": "stream",
     "text": [
      "P\n",
      "y\n",
      "t\n",
      "h\n",
      "o\n",
      "n\n"
     ]
    }
   ],
   "source": [
    "s = \"Python\"\n",
    "\n",
    "# Iterating over strings with loops\n",
    "for char in s:\n",
    "    print(char)"
   ]
  },
  {
   "cell_type": "code",
   "execution_count": 126,
   "id": "63c98885-7fc1-4197-8fe3-c42793600194",
   "metadata": {},
   "outputs": [
    {
     "name": "stdout",
     "output_type": "stream",
     "text": [
      "['P', 'Y', 'T', 'H', 'O', 'N']\n"
     ]
    }
   ],
   "source": [
    "# Using list comprehensions with strings\n",
    "uppercase_chars = [char.upper() for char in s]  # ['P', 'Y', 'T', 'H', 'O', 'N']\n",
    "print(uppercase_chars)"
   ]
  },
  {
   "cell_type": "markdown",
   "id": "d232905b-7540-41e7-86b2-2a7a7cb3dd39",
   "metadata": {},
   "source": [
    "### Practice String"
   ]
  },
  {
   "cell_type": "code",
   "execution_count": 325,
   "id": "5469aee7-5206-4672-9333-9d695f5f80bc",
   "metadata": {},
   "outputs": [
    {
     "data": {
      "text/plain": [
       "'Programming'"
      ]
     },
     "execution_count": 325,
     "metadata": {},
     "output_type": "execute_result"
    }
   ],
   "source": [
    "# Q1.Given the string s = \"Python Programming\", extract the substring \"Programming\".\n",
    "s = \"Python Programming\"\n",
    "s[7:]"
   ]
  },
  {
   "cell_type": "code",
   "execution_count": 118,
   "id": "21c151dd-a33f-4d7f-8409-1dd47881d58f",
   "metadata": {},
   "outputs": [
    {
     "name": "stdout",
     "output_type": "stream",
     "text": [
      "uppercase of the string is: DATA SCIENCE\n",
      "len of the string is: 12\n"
     ]
    }
   ],
   "source": [
    "# Q2.Convert the string s = \"Data Science\" to uppercase and count the number of characters in the resulting string.\n",
    "s = \"Data Science\"\n",
    "print(\"uppercase of the string is:\",s.upper())\n",
    "print(\"len of the string is:\",len(s.upper()))"
   ]
  },
  {
   "cell_type": "code",
   "execution_count": 119,
   "id": "40a2013a-eadc-437c-8cc3-7b86f1df4bf6",
   "metadata": {},
   "outputs": [
    {
     "name": "stdout",
     "output_type": "stream",
     "text": [
      "Hello, World!\n",
      "True\n"
     ]
    }
   ],
   "source": [
    "# Q3.Given the string s = \" Hello, World! \", remove the leading and trailing whitespace, and then check if the resulting string starts with \"Hello\".\n",
    "s = \" Hello, World! \"\n",
    "stripped = s.strip()\n",
    "starts_with = stripped.startswith(\"Hello\")\n",
    "print(stripped)\n",
    "print(starts_with)"
   ]
  },
  {
   "cell_type": "code",
   "execution_count": 120,
   "id": "065fd3b5-34e9-493a-993c-e7ed002c7115",
   "metadata": {},
   "outputs": [
    {
     "data": {
      "text/plain": [
       "'Thwas was a test.Thwas was only a test.'"
      ]
     },
     "execution_count": 120,
     "metadata": {},
     "output_type": "execute_result"
    }
   ],
   "source": [
    "# Q4.Replace all occurrences of the substring \"is\" with \"was\" in the string s = \"This is a test. This is only a test.\".\n",
    "\n",
    "s = \"This is a test.This is only a test.\"\n",
    "s.replace(\"is\",\"was\") # wrong answer"
   ]
  },
  {
   "cell_type": "code",
   "execution_count": 121,
   "id": "3a0d08ea-7d6c-421d-9c3b-8838ee799e61",
   "metadata": {},
   "outputs": [
    {
     "data": {
      "text/plain": [
       "'This was a test.This was only a test.'"
      ]
     },
     "execution_count": 121,
     "metadata": {},
     "output_type": "execute_result"
    }
   ],
   "source": [
    "import re\n",
    "re.sub(r'\\bis\\b','was',s) # regular expression"
   ]
  },
  {
   "cell_type": "code",
   "execution_count": 122,
   "id": "b034b7b3-8dc6-437d-8cf7-0411a9957ae1",
   "metadata": {},
   "outputs": [
    {
     "name": "stdout",
     "output_type": "stream",
     "text": [
      "cleaned_string : AMANAPLANACANALPANAMA\n",
      "string is palindrome\n"
     ]
    }
   ],
   "source": [
    "# # Q Write a Python script that processes an input string to transform it into a palindrome with the following conditions:\n",
    "\n",
    "# The output string must contain no spaces.\n",
    "# The output string must be entirely in uppercase.\n",
    "# The output string must have no punctuation marks.\n",
    "\n",
    "# string = \"A man, a plan, a canal, Panama!\"\n",
    "# output_as = \"AMANAPLANACANALPANAMA\"\n",
    "\n",
    "import re\n",
    "\n",
    "# Input string\n",
    "input_string = \"A man, a plan, a canal, Panama!\"\n",
    "\n",
    "# Remove spaces and punctuation, and capitalize the string\n",
    "cleaned_string = re.sub(r'[^A-Za-z0-9]', '', input_string).upper()\n",
    "print(f\"cleaned_string : {cleaned_string}\")\n",
    "\n",
    "if cleaned_string == cleaned_string[::-1]:\n",
    "    print(\"string is palindrome\")\n",
    "else:\n",
    "    print(\"not palindrome\")"
   ]
  },
  {
   "cell_type": "markdown",
   "id": "91282915",
   "metadata": {
    "jp-MarkdownHeadingCollapsed": true
   },
   "source": [
    "## List in python\n",
    "1) Lists are ordered sequences that can hold a variety of object of different data types.\n",
    "2) they use [] brackets and commas to separate objects in the list\n",
    "3) lists support indexing and slicing, Lists can be nested and also have a variety of useful methods that can be called off of them"
   ]
  },
  {
   "cell_type": "markdown",
   "id": "05a092dd-0260-44ce-a44a-c124896d46c8",
   "metadata": {
    "jp-MarkdownHeadingCollapsed": true
   },
   "source": [
    "#### 1.Introduction to Lists"
   ]
  },
  {
   "cell_type": "code",
   "execution_count": 88,
   "id": "c8558f0e-60dd-4bf4-b693-52d8d3223a97",
   "metadata": {},
   "outputs": [
    {
     "name": "stdout",
     "output_type": "stream",
     "text": [
      "<class 'list'>\n"
     ]
    }
   ],
   "source": [
    "# creating list\n",
    "empty_list = []\n",
    "print(type(empty_list))"
   ]
  },
  {
   "cell_type": "code",
   "execution_count": 89,
   "id": "cf6ce8c1-fc72-4b33-a1d4-526d38b31b7c",
   "metadata": {},
   "outputs": [
    {
     "name": "stdout",
     "output_type": "stream",
     "text": [
      "1\n",
      "10\n",
      "[2, 3, 4]\n",
      "[1, 3, 5, 7, 9]\n"
     ]
    }
   ],
   "source": [
    "num_list = [1,2,3,4,5,6,7,8,9,10]\n",
    "mixed_items = [1,\"hello\",3.14,True]\n",
    "\n",
    "print(num_list[0]) # +ve indexing\n",
    "print(num_list[-1]) # -ve indexing\n",
    "print(num_list[1:4]) # slicing\n",
    "print(num_list[0:10:2]) # slicing with steps"
   ]
  },
  {
   "cell_type": "markdown",
   "id": "c414d8dd-bfb5-407d-a5ce-23ed65ab161d",
   "metadata": {
    "jp-MarkdownHeadingCollapsed": true
   },
   "source": [
    "#### 2.Basic List Operations and methods"
   ]
  },
  {
   "cell_type": "code",
   "execution_count": 168,
   "id": "c8d4e054-5408-4811-8043-1a061705574a",
   "metadata": {},
   "outputs": [
    {
     "name": "stdout",
     "output_type": "stream",
     "text": [
      "3\n"
     ]
    }
   ],
   "source": [
    "num_list = [1,2,3,4,5]\n",
    "# accessing elements\n",
    "print(num_list[2])"
   ]
  },
  {
   "cell_type": "code",
   "execution_count": 169,
   "id": "28e6f609-75cc-4cbd-a168-e419892d6216",
   "metadata": {},
   "outputs": [
    {
     "name": "stdout",
     "output_type": "stream",
     "text": [
      "[1, 2, 2024, 4, 5]\n"
     ]
    }
   ],
   "source": [
    "# modifying or updating elements\n",
    "num_list[2] = 2024 # mutability in list\n",
    "print(num_list)"
   ]
  },
  {
   "cell_type": "code",
   "execution_count": 170,
   "id": "ae99dfb7-184b-4674-a06f-aa3eb4da71a8",
   "metadata": {},
   "outputs": [
    {
     "name": "stdout",
     "output_type": "stream",
     "text": [
      "[1, 2, 2024, 4, 5, 21]\n"
     ]
    }
   ],
   "source": [
    "# Adding elements ( append , insert , extend)\n",
    "num_list.append(21) # adds the elements into last\n",
    "print(num_list)"
   ]
  },
  {
   "cell_type": "code",
   "execution_count": 171,
   "id": "61a2aa7a-cd54-43cc-ada4-c195db37883c",
   "metadata": {},
   "outputs": [
    {
     "name": "stdout",
     "output_type": "stream",
     "text": [
      "[1, 2, 2023, 2024, 4, 5, 21]\n"
     ]
    }
   ],
   "source": [
    "num_list.insert(2,2023) # insert(index_number,value)\n",
    "print(num_list)"
   ]
  },
  {
   "cell_type": "code",
   "execution_count": 172,
   "id": "028b1c7a-7893-47d8-927b-7dffb8fa0d95",
   "metadata": {},
   "outputs": [
    {
     "name": "stdout",
     "output_type": "stream",
     "text": [
      "[1, 2, 2023, 2024, 4, 5, 21, 41, 45]\n"
     ]
    }
   ],
   "source": [
    "num_list.extend([41,45]) # to add multiple elements into the list\n",
    "print(num_list)"
   ]
  },
  {
   "cell_type": "code",
   "execution_count": 173,
   "id": "7fc5f523-2d3d-4feb-873e-2d4330c8cd8b",
   "metadata": {},
   "outputs": [
    {
     "name": "stdout",
     "output_type": "stream",
     "text": [
      "[1, 2, 2023, 2024, 4, 5, 21, 41]\n",
      "45\n"
     ]
    }
   ],
   "source": [
    "# removing elements ( pop ,remove, clear)\n",
    "poped_element = num_list.pop() # removes value from last\n",
    "print(num_list)\n",
    "print(poped_element)"
   ]
  },
  {
   "cell_type": "code",
   "execution_count": 174,
   "id": "9395e9d2-092f-4d85-9d5e-10dda9d77727",
   "metadata": {},
   "outputs": [
    {
     "name": "stdout",
     "output_type": "stream",
     "text": [
      "21\n"
     ]
    }
   ],
   "source": [
    "poped_index = num_list.pop(-2)\n",
    "print(poped_index)"
   ]
  },
  {
   "cell_type": "code",
   "execution_count": 175,
   "id": "ea270d58-d0e3-477e-ab9e-e1748b91f469",
   "metadata": {},
   "outputs": [
    {
     "name": "stdout",
     "output_type": "stream",
     "text": [
      "[1, 2, 2023, 4, 5, 41]\n"
     ]
    }
   ],
   "source": [
    "num_list.remove(2024) #remove specific elements\n",
    "print(num_list)"
   ]
  },
  {
   "cell_type": "code",
   "execution_count": 176,
   "id": "18314ddb-aff1-47c4-858f-89ff5de24805",
   "metadata": {},
   "outputs": [
    {
     "name": "stdout",
     "output_type": "stream",
     "text": [
      "[]\n"
     ]
    }
   ],
   "source": [
    "num_list.clear() # cleares all the elements from the list\n",
    "print(num_list)"
   ]
  },
  {
   "cell_type": "code",
   "execution_count": 177,
   "id": "5a8969ad-4b48-4022-8bf2-74435d1dcd8b",
   "metadata": {},
   "outputs": [
    {
     "name": "stdout",
     "output_type": "stream",
     "text": [
      "2\n",
      "2\n"
     ]
    }
   ],
   "source": [
    "# index , count ,sort\n",
    "nums = [1,10,2,3,3,4,5]\n",
    "print(nums.index(2)) # gives indexing position of elemtnts\n",
    "print(nums.count(3))\n",
    "# nums.sort() # this sortes list in ascening order by default\n",
    "nums.sort(reverse=True) # this sortes the list in descending order"
   ]
  },
  {
   "cell_type": "code",
   "execution_count": 178,
   "id": "53f33170-bd0b-431b-a9e9-48b1c50f5b2c",
   "metadata": {},
   "outputs": [
    {
     "name": "stdout",
     "output_type": "stream",
     "text": [
      "[10, 5, 4, 3, 3, 2, 1]\n"
     ]
    }
   ],
   "source": [
    "print(nums) # sorted in ascending order by default"
   ]
  },
  {
   "cell_type": "code",
   "execution_count": 179,
   "id": "74763f5a-7912-4ac0-a224-4f6f33b8acf3",
   "metadata": {},
   "outputs": [],
   "source": [
    "nums.reverse()"
   ]
  },
  {
   "cell_type": "code",
   "execution_count": 180,
   "id": "5c9a1b28-debd-4def-993b-8511def55a8a",
   "metadata": {},
   "outputs": [
    {
     "name": "stdout",
     "output_type": "stream",
     "text": [
      "[1, 2, 3, 3, 4, 5, 10]\n"
     ]
    }
   ],
   "source": [
    "print(nums)"
   ]
  },
  {
   "cell_type": "markdown",
   "id": "b31c5033-4bf7-410e-a162-73ec7a085de2",
   "metadata": {
    "jp-MarkdownHeadingCollapsed": true
   },
   "source": [
    "#### 3.list concatenation"
   ]
  },
  {
   "cell_type": "code",
   "execution_count": 181,
   "id": "c8c9d1f3",
   "metadata": {},
   "outputs": [],
   "source": [
    "mylist = ['one','two','three']"
   ]
  },
  {
   "cell_type": "code",
   "execution_count": 182,
   "id": "4c8c34eb",
   "metadata": {},
   "outputs": [],
   "source": [
    "another_list = [4,5]"
   ]
  },
  {
   "cell_type": "code",
   "execution_count": 183,
   "id": "57beed6b",
   "metadata": {},
   "outputs": [
    {
     "data": {
      "text/plain": [
       "['one', 'two', 'three', 4, 5]"
      ]
     },
     "execution_count": 183,
     "metadata": {},
     "output_type": "execute_result"
    }
   ],
   "source": [
    "new_list = mylist + another_list # concatenation\n",
    "new_list"
   ]
  },
  {
   "cell_type": "code",
   "execution_count": 184,
   "id": "9db6d82e-6ca7-40fe-9ff5-bcbb3b84d092",
   "metadata": {},
   "outputs": [
    {
     "name": "stdout",
     "output_type": "stream",
     "text": [
      "['one', 'two', 'three', 4, 5, 'one', 'two', 'three', 4, 5]\n"
     ]
    }
   ],
   "source": [
    "# list reptition\n",
    "new_list1 = new_list * 2\n",
    "print(new_list1)"
   ]
  },
  {
   "cell_type": "markdown",
   "id": "257dfd33-3468-41a4-a54e-337dc163013c",
   "metadata": {
    "jp-MarkdownHeadingCollapsed": true
   },
   "source": [
    "#### 4.Nested_list"
   ]
  },
  {
   "cell_type": "code",
   "execution_count": 191,
   "id": "13dcc227-7a06-4bd6-87ab-fb36eb4a2b06",
   "metadata": {
    "scrolled": true
   },
   "outputs": [
    {
     "name": "stdout",
     "output_type": "stream",
     "text": [
      "['apple', 'mango', 'graps']\n",
      "mango\n",
      " reversed list:\n",
      " [[10, 20, 30], ['apple', 'mango', 'graps']]\n"
     ]
    }
   ],
   "source": [
    "listt = [['apple','mango','graps',],[10,20,30]]\n",
    "print(listt[0])\n",
    "print(listt[0][1])\n",
    "print(\" reversed list:\\n\",listt[::-1]) # reversing a list"
   ]
  },
  {
   "cell_type": "markdown",
   "id": "16104846-f743-418b-8e8a-e7ea37ae01d3",
   "metadata": {},
   "source": [
    "#### 5.List comprehension"
   ]
  },
  {
   "cell_type": "code",
   "execution_count": 1,
   "id": "1b0cde6b-9acb-44f4-baac-f3d977db9a72",
   "metadata": {},
   "outputs": [
    {
     "name": "stdout",
     "output_type": "stream",
     "text": [
      "[2, 3, 4, 5, 6, 7, 8, 9, 10]\n"
     ]
    }
   ],
   "source": [
    "lst = []\n",
    "for i in range(2,11):\n",
    "    lst.append(i)\n",
    "print(lst)"
   ]
  },
  {
   "cell_type": "code",
   "execution_count": 50,
   "id": "56a12096-25bb-489f-bd77-b980f736df19",
   "metadata": {},
   "outputs": [
    {
     "name": "stdout",
     "output_type": "stream",
     "text": [
      "number_list : [1, 2, 3, 4, 5, 6, 7, 8, 9]\n",
      "squares_list : [1, 4, 9, 16, 25, 36, 49, 64, 81]\n",
      "even_square_list : [4, 16, 36, 64]\n",
      "matrix : [[0, 1, 2, 3, 4], [0, 1, 2, 3, 4]]\n"
     ]
    }
   ],
   "source": [
    "nums = [i for i in range(1,10)]\n",
    "print(\"number_list :\",nums)\n",
    "\n",
    "squares = [i**2 for i in range(1,10)]\n",
    "print(\"squares_list :\",squares)\n",
    "\n",
    "#conditionals\n",
    "even_square = [i**2 for i in range(1,10) if i%2==0]\n",
    "print(\"even_square_list :\",even_square)\n",
    "\n",
    "# nested list\n",
    "matrix = [[j for j in range(5)] for i in range(2)]\n",
    "print(\"matrix :\",matrix)"
   ]
  },
  {
   "cell_type": "markdown",
   "id": "4933580d-c226-49b7-b9cc-6dee3b5a3ad3",
   "metadata": {},
   "source": [
    "#### 6.Shallow copy vs deep copy"
   ]
  },
  {
   "cell_type": "markdown",
   "id": "371d1dcd-7172-4ad7-be3a-dc2c52bfc15d",
   "metadata": {
    "jp-MarkdownHeadingCollapsed": true
   },
   "source": [
    "##### indexing/assigning copy method"
   ]
  },
  {
   "cell_type": "markdown",
   "id": "be66ae50-f9f5-4edd-8267-6304fe0d168d",
   "metadata": {
    "jp-MarkdownHeadingCollapsed": true
   },
   "source": [
    "###### eg1.1d list"
   ]
  },
  {
   "cell_type": "code",
   "execution_count": 1,
   "id": "68c5f1df-04e4-43e7-923f-cecb496a3ef5",
   "metadata": {},
   "outputs": [],
   "source": [
    "# 1d list\n",
    "lst1 = [1,2,3,4]\n",
    "lst2 = lst1"
   ]
  },
  {
   "cell_type": "code",
   "execution_count": 202,
   "id": "94d05dd4-ad84-489f-a72c-1ca48792f324",
   "metadata": {},
   "outputs": [
    {
     "data": {
      "text/plain": [
       "[1, 2, 3, 4]"
      ]
     },
     "execution_count": 202,
     "metadata": {},
     "output_type": "execute_result"
    }
   ],
   "source": [
    "lst2"
   ]
  },
  {
   "cell_type": "code",
   "execution_count": 203,
   "id": "eda26b02-fc21-4418-8ab3-26dd4ca70b39",
   "metadata": {},
   "outputs": [
    {
     "data": {
      "text/plain": [
       "2"
      ]
     },
     "execution_count": 203,
     "metadata": {},
     "output_type": "execute_result"
    }
   ],
   "source": [
    "lst2[1]"
   ]
  },
  {
   "cell_type": "code",
   "execution_count": 204,
   "id": "269f1b45-0bd2-422f-bfad-d2a22742a6e3",
   "metadata": {},
   "outputs": [],
   "source": [
    "lst2[1]=1000"
   ]
  },
  {
   "cell_type": "code",
   "execution_count": 205,
   "id": "0cbf2f54-3378-4219-a34e-de61125bf8ad",
   "metadata": {},
   "outputs": [
    {
     "data": {
      "text/plain": [
       "[1, 1000, 3, 4]"
      ]
     },
     "execution_count": 205,
     "metadata": {},
     "output_type": "execute_result"
    }
   ],
   "source": [
    "lst2 # i have updated list 2"
   ]
  },
  {
   "cell_type": "code",
   "execution_count": 209,
   "id": "d5dfa499-f28a-4d76-b790-355990bba4b0",
   "metadata": {},
   "outputs": [
    {
     "data": {
      "text/plain": [
       "[1, 1000, 3, 4]"
      ]
     },
     "execution_count": 209,
     "metadata": {},
     "output_type": "execute_result"
    }
   ],
   "source": [
    "lst1 # updates are also seen in list1\n",
    "\n",
    "# Why This happened ?\n",
    "# In list 1 when it is creating the collection of items, it is creating in some memory location\n",
    "\n",
    "# and both the variables (lst1 and lst2) are referring the same memory location\n",
    "\n",
    "# that's why if one the variable changes the elements it also get refelected in the memory\n",
    "\n",
    "# itself so both the variables are refereeing the same address that's why changes are also \n",
    "\n",
    "# seen in another list"
   ]
  },
  {
   "cell_type": "markdown",
   "id": "c6c8238f-d87b-47a9-b61d-c5e76af88daf",
   "metadata": {
    "jp-MarkdownHeadingCollapsed": true
   },
   "source": [
    "###### eg2.Multidim list"
   ]
  },
  {
   "cell_type": "code",
   "execution_count": 2,
   "id": "9e5efbf2-c7ec-449f-9010-c71fbc420a7e",
   "metadata": {},
   "outputs": [],
   "source": [
    "lst1 = [[2,3,1,4],[5,3,2,1]]\n",
    "lst2 = lst1"
   ]
  },
  {
   "cell_type": "code",
   "execution_count": 3,
   "id": "ba4ef5ba-6f82-4134-aedd-939eab7bff11",
   "metadata": {},
   "outputs": [],
   "source": [
    "lst2[1][1] = 300"
   ]
  },
  {
   "cell_type": "code",
   "execution_count": 4,
   "id": "d7b108e9-cda3-4c74-8c8a-cb8da4a21f06",
   "metadata": {},
   "outputs": [
    {
     "name": "stdout",
     "output_type": "stream",
     "text": [
      "[[2, 3, 1, 4], [5, 300, 2, 1]]\n",
      "[[2, 3, 1, 4], [5, 300, 2, 1]]\n"
     ]
    }
   ],
   "source": [
    "print(lst2)\n",
    "print(lst1)"
   ]
  },
  {
   "cell_type": "markdown",
   "id": "b8a6dd56-e88f-4884-9645-a00b0ccdea2a",
   "metadata": {
    "jp-MarkdownHeadingCollapsed": true
   },
   "source": [
    "##### .copy() method ---> it is a kind of shallow copy operation\n",
    "\n",
    "shallow copy means -> changes are not reflected in both lst1 ,lst2 in 1d list but changes  are reflecting in both lst1 and lst2 when the list is multidim"
   ]
  },
  {
   "cell_type": "markdown",
   "id": "d9d594d0-bbad-4f57-926e-87be4c0e2391",
   "metadata": {
    "jp-MarkdownHeadingCollapsed": true
   },
   "source": [
    "###### eg1. 1d list"
   ]
  },
  {
   "cell_type": "code",
   "execution_count": 7,
   "id": "1ce3a460-575a-44aa-a9a3-e67d458d9f57",
   "metadata": {},
   "outputs": [],
   "source": [
    "lst1 = [1,2,3,4]\n",
    "lst2 = lst1.copy() # instead of assigning we are just using copy method"
   ]
  },
  {
   "cell_type": "code",
   "execution_count": 8,
   "id": "89784fc2-55be-4e86-9397-4bdc3abe2d2d",
   "metadata": {},
   "outputs": [],
   "source": [
    "lst2[1] = 11000"
   ]
  },
  {
   "cell_type": "code",
   "execution_count": 9,
   "id": "b841937b-3323-4135-aecd-e1b01b4ee745",
   "metadata": {},
   "outputs": [
    {
     "name": "stdout",
     "output_type": "stream",
     "text": [
      "[1, 11000, 3, 4]\n",
      "[1, 2, 3, 4]\n"
     ]
    }
   ],
   "source": [
    "print(lst2)\n",
    "print(lst1)\n",
    "# in this method both the list(variables) are refererring different memory location"
   ]
  },
  {
   "cell_type": "markdown",
   "id": "029fbc90-5b02-4a53-bcb5-c724b1b56865",
   "metadata": {
    "jp-MarkdownHeadingCollapsed": true
   },
   "source": [
    "###### eg2. .copy() method in nested list"
   ]
  },
  {
   "cell_type": "code",
   "execution_count": 11,
   "id": "bba3cfdf-2d9f-459e-ad6a-6815992be2c7",
   "metadata": {},
   "outputs": [],
   "source": [
    "lst1 = [[1,2,3,4],[5,6,7,8]]\n",
    "lst2 = lst1.copy()\n",
    "\n",
    "# [1,2,3,4] --> this list consisting of 4 items\n",
    "# [[1,2,3,4],[5,6,7,8]] --> this list is consisting 2 items and both items have 4 4 objects"
   ]
  },
  {
   "cell_type": "code",
   "execution_count": 12,
   "id": "a28ad6b9-2e1b-4867-84f8-2040aa6b371d",
   "metadata": {},
   "outputs": [
    {
     "data": {
      "text/plain": [
       "[[1, 2, 3, 4], [5, 6, 7, 8]]"
      ]
     },
     "execution_count": 12,
     "metadata": {},
     "output_type": "execute_result"
    }
   ],
   "source": [
    "lst2"
   ]
  },
  {
   "cell_type": "code",
   "execution_count": 13,
   "id": "d34e1565-bb59-4aef-a3bc-a781d8738df3",
   "metadata": {},
   "outputs": [],
   "source": [
    "lst2[1][0] = 5000"
   ]
  },
  {
   "cell_type": "code",
   "execution_count": 14,
   "id": "245dc54a-90fd-4b46-9b0d-89fdde7ebd07",
   "metadata": {},
   "outputs": [
    {
     "name": "stdout",
     "output_type": "stream",
     "text": [
      "[[1, 2, 3, 4], [5000, 6, 7, 8]]\n",
      "[[1, 2, 3, 4], [5000, 6, 7, 8]]\n"
     ]
    }
   ],
   "source": [
    "print(lst2)\n",
    "print(lst1)"
   ]
  },
  {
   "cell_type": "markdown",
   "id": "e0cc0823-bf32-4a1a-b24e-63347e3ff7d2",
   "metadata": {},
   "source": [
    "##### deep copy --> in deep copy changes are not seen in both 1d and multidim list"
   ]
  },
  {
   "cell_type": "markdown",
   "id": "d27cb4d1-4b5d-4750-96ea-27303139919b",
   "metadata": {},
   "source": [
    "###### eg.1 , deep copy in 1d list"
   ]
  },
  {
   "cell_type": "code",
   "execution_count": 27,
   "id": "94795686-e943-4781-b0cc-b2ef8a3e2ec2",
   "metadata": {},
   "outputs": [],
   "source": [
    "import copy\n",
    "lst1 = [1,2,3,4]\n",
    "lst2 = copy.deepcopy(lst1)"
   ]
  },
  {
   "cell_type": "code",
   "execution_count": 28,
   "id": "61d544da-f3db-4672-80fe-17929176330b",
   "metadata": {},
   "outputs": [
    {
     "data": {
      "text/plain": [
       "[1, 2, 3, 4]"
      ]
     },
     "execution_count": 28,
     "metadata": {},
     "output_type": "execute_result"
    }
   ],
   "source": [
    "lst2"
   ]
  },
  {
   "cell_type": "code",
   "execution_count": 29,
   "id": "69d01311-0ed5-40fc-9b70-6eee7059f5c5",
   "metadata": {},
   "outputs": [],
   "source": [
    "lst2[1] = 100"
   ]
  },
  {
   "cell_type": "code",
   "execution_count": 30,
   "id": "4186577e-3afa-4911-8a93-950145c14360",
   "metadata": {},
   "outputs": [
    {
     "name": "stdout",
     "output_type": "stream",
     "text": [
      "[1, 100, 3, 4]\n",
      "[1, 2, 3, 4]\n"
     ]
    }
   ],
   "source": [
    "print(lst2)\n",
    "print(lst1)"
   ]
  },
  {
   "cell_type": "markdown",
   "id": "7295fa25-b47d-42e5-bd32-24c070a76c0f",
   "metadata": {},
   "source": [
    "###### eg2. deep copy in nested list"
   ]
  },
  {
   "cell_type": "code",
   "execution_count": 31,
   "id": "615ba44f-f9ff-4df2-a5f2-efb8096111d9",
   "metadata": {},
   "outputs": [],
   "source": [
    "import copy\n",
    "lst1 = [[1,2,3,4],[5,6,7,8],[5,6,7]]\n",
    "lst2 = copy.deepcopy(lst1)\n",
    "# lst2 = lst1.copy() # it is shallow copy , in this case changes will reflect in both list"
   ]
  },
  {
   "cell_type": "code",
   "execution_count": 32,
   "id": "c17b1870-bcc2-46da-adc0-70440f96401d",
   "metadata": {},
   "outputs": [
    {
     "data": {
      "text/plain": [
       "[[1, 2, 3, 4], [5, 6, 7, 8], [5, 6, 7]]"
      ]
     },
     "execution_count": 32,
     "metadata": {},
     "output_type": "execute_result"
    }
   ],
   "source": [
    "lst2"
   ]
  },
  {
   "cell_type": "code",
   "execution_count": 33,
   "id": "c02a61eb-74d1-4d50-bced-a426db283d8f",
   "metadata": {},
   "outputs": [],
   "source": [
    "lst2[2][0] = 100"
   ]
  },
  {
   "cell_type": "code",
   "execution_count": 34,
   "id": "3466c796-3561-43fd-8e4e-d41e25f3388e",
   "metadata": {},
   "outputs": [
    {
     "name": "stdout",
     "output_type": "stream",
     "text": [
      "[[1, 2, 3, 4], [5, 6, 7, 8], [100, 6, 7]]\n",
      "[[1, 2, 3, 4], [5, 6, 7, 8], [5, 6, 7]]\n"
     ]
    }
   ],
   "source": [
    "print(lst2)\n",
    "print(lst1)"
   ]
  },
  {
   "cell_type": "markdown",
   "id": "6fe9c967-0d1d-4403-93f5-53bca0a4ab07",
   "metadata": {},
   "source": [
    "#### 7.Iterating over list"
   ]
  },
  {
   "cell_type": "code",
   "execution_count": 53,
   "id": "85b373d9-629b-438f-a960-e0769cbda539",
   "metadata": {},
   "outputs": [
    {
     "name": "stdout",
     "output_type": "stream",
     "text": [
      "1 2 3 4 5 6 7 8 9 "
     ]
    }
   ],
   "source": [
    "nested_list = [[1,2,3],[4,5,6],[7,8,9]]\n",
    "for subslist in nested_list:\n",
    "    for items in subslist:\n",
    "        print(items,end=\" \")"
   ]
  },
  {
   "cell_type": "code",
   "execution_count": 54,
   "id": "0c2d48b7-ed63-46a0-b91e-e63fd7717727",
   "metadata": {},
   "outputs": [
    {
     "name": "stdout",
     "output_type": "stream",
     "text": [
      "2 4 6 8 "
     ]
    }
   ],
   "source": [
    "nested_list = [[1,2,3],[4,5,6],[7,8,9]]\n",
    "for subslist in nested_list:\n",
    "    for items in subslist:\n",
    "        if items % 2 == 0:\n",
    "            print(items,end=\" \")"
   ]
  },
  {
   "cell_type": "markdown",
   "id": "c99ce4bc-f905-42b1-aeda-6b6214f55954",
   "metadata": {},
   "source": [
    "#### 8.some built in functions in list"
   ]
  },
  {
   "cell_type": "code",
   "execution_count": 70,
   "id": "d23e6a69-9504-4918-abb8-134235b5bfb0",
   "metadata": {},
   "outputs": [
    {
     "name": "stdout",
     "output_type": "stream",
     "text": [
      "length: 7\n",
      "max: 100\n",
      "min: 10\n",
      "sum: 255\n",
      "index :0 , value :10\n",
      "index :1 , value :20\n",
      "index :2 , value :15\n",
      "index :3 , value :25\n",
      "index :4 , value :30\n",
      "index :5 , value :55\n",
      "index :6 , value :100\n"
     ]
    }
   ],
   "source": [
    "mylist = [10,20,15,25,30,55,100]\n",
    "print(\"length:\",len(mylist))\n",
    "print(\"max:\",max(mylist))\n",
    "print(\"min:\",min(mylist))\n",
    "print(\"sum:\",sum(mylist))\n",
    "\n",
    "for index,values in enumerate(mylist):\n",
    "    print(f\"index :{index} , value :{values}\")"
   ]
  },
  {
   "cell_type": "code",
   "execution_count": 2,
   "id": "63135e6a-c972-4ed2-823e-cd0dabd98fb9",
   "metadata": {},
   "outputs": [
    {
     "name": "stdout",
     "output_type": "stream",
     "text": [
      "zipped: [(1, 4), (2, 5), (3, 6), (4, 5)]\n",
      "mapped: [1, 4, 9, 16]\n",
      "filtered x>1: [2, 3, 4]\n"
     ]
    }
   ],
   "source": [
    "# zip() , map() , filter()\n",
    "lst1 = [1,2,3,4]\n",
    "lst2 = [4,5,6,5]\n",
    "\n",
    "zipped_lst = list(zip(lst1,lst2))\n",
    "print(\"zipped:\",zipped_lst)\n",
    "\n",
    "mapped_lst = list(map(lambda x:x**2, lst1))\n",
    "print(\"mapped:\",mapped_lst)\n",
    "\n",
    "filtered_lst = list(filter(lambda x: x>1,lst1))\n",
    "print(\"filtered x>1:\",filtered_lst)"
   ]
  },
  {
   "cell_type": "markdown",
   "id": "6442356c-4d26-4478-a4ac-308d1c2a67f0",
   "metadata": {},
   "source": [
    "#### 8.Generator expression over list"
   ]
  },
  {
   "cell_type": "code",
   "execution_count": 11,
   "id": "4766277e-3ed2-4923-8d28-5ae0deb70870",
   "metadata": {},
   "outputs": [],
   "source": [
    "# a = [i for i in range(1,999999)]\n",
    "# # print(a)\n",
    "\n",
    "# b = (i for i in range(1,999999))\n",
    "# for items in b:\n",
    "#     # print(items)"
   ]
  },
  {
   "cell_type": "markdown",
   "id": "e0cbb713",
   "metadata": {},
   "source": [
    "## Tuples in python\n",
    "\n",
    "Tupes are very similar to lists. However they have one key difference - **immutability**.\n",
    "\n",
    "once an element is inside a tuple, it can not be reassigned.\n",
    "\n",
    "Tuples use parenthesis :(1,2,3)"
   ]
  },
  {
   "cell_type": "markdown",
   "id": "e1e6aa6b",
   "metadata": {
    "jp-MarkdownHeadingCollapsed": true
   },
   "source": [
    "#### When to use Tuples\n",
    "You may be wondering, \"Why bother using tuples when they have fewer available methods?\" To be honest, tuples are not used as often as lists in programming, but are used when immutability is necessary. If in your program you are passing around an object and need to make sure it does not get changed, then a tuple becomes your solution. It provides a convenient source of data integrity.\n",
    "\n",
    "You should now be able to create and use tuples in your programming as well as have an understanding of their immutability."
   ]
  },
  {
   "cell_type": "code",
   "execution_count": 18,
   "id": "35dbca67",
   "metadata": {},
   "outputs": [
    {
     "name": "stdout",
     "output_type": "stream",
     "text": [
      "<class 'tuple'>\n",
      "element at index 1 is : 2\n",
      "slicing : (1, 2, 3, 'four')\n",
      "length of tuple is : 8\n"
     ]
    }
   ],
   "source": [
    "t = (1,2,3,\"four\",5.5,True,5,6)\n",
    "print(type(t))\n",
    "print(\"element at index 1 is :\",t[1])\n",
    "print(\"slicing :\",t[0:4])\n",
    "print(\"length of tuple is :\",len(t))"
   ]
  },
  {
   "cell_type": "markdown",
   "id": "5ac7ae4d",
   "metadata": {
    "jp-MarkdownHeadingCollapsed": true
   },
   "source": [
    "### Methods in tuple"
   ]
  },
  {
   "cell_type": "code",
   "execution_count": 6,
   "id": "38754f4b",
   "metadata": {},
   "outputs": [],
   "source": [
    "t=('a','b','b')"
   ]
  },
  {
   "cell_type": "code",
   "execution_count": 7,
   "id": "55692870",
   "metadata": {},
   "outputs": [
    {
     "data": {
      "text/plain": [
       "1"
      ]
     },
     "execution_count": 7,
     "metadata": {},
     "output_type": "execute_result"
    }
   ],
   "source": [
    "t.count('a')"
   ]
  },
  {
   "cell_type": "code",
   "execution_count": 8,
   "id": "b1ea0fc2",
   "metadata": {},
   "outputs": [
    {
     "data": {
      "text/plain": [
       "2"
      ]
     },
     "execution_count": 8,
     "metadata": {},
     "output_type": "execute_result"
    }
   ],
   "source": [
    "t.count('b')"
   ]
  },
  {
   "cell_type": "code",
   "execution_count": 9,
   "id": "db323ae3",
   "metadata": {},
   "outputs": [
    {
     "data": {
      "text/plain": [
       "0"
      ]
     },
     "execution_count": 9,
     "metadata": {},
     "output_type": "execute_result"
    }
   ],
   "source": [
    "t.index('a')"
   ]
  },
  {
   "cell_type": "markdown",
   "id": "99d0784d",
   "metadata": {},
   "source": [
    "*Immutability in tuple*"
   ]
  },
  {
   "cell_type": "code",
   "execution_count": 215,
   "id": "242c5955",
   "metadata": {},
   "outputs": [
    {
     "ename": "TypeError",
     "evalue": "'tuple' object does not support item assignment",
     "output_type": "error",
     "traceback": [
      "\u001b[1;31m---------------------------------------------------------------------------\u001b[0m",
      "\u001b[1;31mTypeError\u001b[0m                                 Traceback (most recent call last)",
      "\u001b[1;32m~\\AppData\\Local\\Temp\\ipykernel_9124\\4025140897.py\u001b[0m in \u001b[0;36m<module>\u001b[1;34m\u001b[0m\n\u001b[1;32m----> 1\u001b[1;33m \u001b[0mt\u001b[0m\u001b[1;33m[\u001b[0m\u001b[1;36m0\u001b[0m\u001b[1;33m]\u001b[0m\u001b[1;33m=\u001b[0m\u001b[1;34m'new'\u001b[0m \u001b[1;31m#will throw error\u001b[0m\u001b[1;33m\u001b[0m\u001b[1;33m\u001b[0m\u001b[0m\n\u001b[0m",
      "\u001b[1;31mTypeError\u001b[0m: 'tuple' object does not support item assignment"
     ]
    }
   ],
   "source": [
    "t[0]='new' #will throw error"
   ]
  },
  {
   "cell_type": "markdown",
   "id": "4a9e1b8f-cc14-4248-bb4d-b047e615094e",
   "metadata": {
    "jp-MarkdownHeadingCollapsed": true
   },
   "source": [
    "### Unpacking Tuples"
   ]
  },
  {
   "cell_type": "code",
   "execution_count": 1,
   "id": "beda0936-f0c6-40e9-8d41-761777644b00",
   "metadata": {},
   "outputs": [
    {
     "name": "stdout",
     "output_type": "stream",
     "text": [
      "1 2 3\n",
      "1 [2, 3, 4] 5\n"
     ]
    }
   ],
   "source": [
    "# unpacking multiple values \n",
    "a,b,c = (1,2,3)\n",
    "print(a,b,c)\n",
    "\n",
    "# using * for extended unpacking\n",
    "a,*b,c = (1,2,3,4,5)\n",
    "print(a,b,c)"
   ]
  },
  {
   "cell_type": "markdown",
   "id": "0bec8a1a",
   "metadata": {
    "jp-MarkdownHeadingCollapsed": true
   },
   "source": [
    "## Sets in python"
   ]
  },
  {
   "cell_type": "markdown",
   "id": "fc8b1ec2",
   "metadata": {},
   "source": [
    "***Sets*** are unordered collection of unique elements, meaning there can only be one representative of the same objects.\n",
    "\n",
    "they dont allow for duplicate items!\n",
    "\n",
    "\n",
    "mathematical operations can be performed:\n",
    "intersection,\n",
    "union,\n",
    "difference,\n",
    "symmetric difference,\n",
    "updation,\n",
    "deletion."
   ]
  },
  {
   "cell_type": "code",
   "execution_count": 33,
   "id": "5518211e",
   "metadata": {},
   "outputs": [],
   "source": [
    "myset =set()"
   ]
  },
  {
   "cell_type": "code",
   "execution_count": 34,
   "id": "b792647f",
   "metadata": {},
   "outputs": [
    {
     "data": {
      "text/plain": [
       "set()"
      ]
     },
     "execution_count": 34,
     "metadata": {},
     "output_type": "execute_result"
    }
   ],
   "source": [
    "myset #when we call this , it will return an empty set"
   ]
  },
  {
   "cell_type": "code",
   "execution_count": 35,
   "id": "b60a29f1",
   "metadata": {},
   "outputs": [],
   "source": [
    "myset.add(1)"
   ]
  },
  {
   "cell_type": "code",
   "execution_count": 36,
   "id": "028e41a4",
   "metadata": {},
   "outputs": [
    {
     "data": {
      "text/plain": [
       "{1}"
      ]
     },
     "execution_count": 36,
     "metadata": {},
     "output_type": "execute_result"
    }
   ],
   "source": [
    "myset"
   ]
  },
  {
   "cell_type": "code",
   "execution_count": 37,
   "id": "de1f2338",
   "metadata": {},
   "outputs": [],
   "source": [
    "myset.add(2)"
   ]
  },
  {
   "cell_type": "code",
   "execution_count": 38,
   "id": "b6b65d1e",
   "metadata": {},
   "outputs": [
    {
     "data": {
      "text/plain": [
       "{1, 2}"
      ]
     },
     "execution_count": 38,
     "metadata": {},
     "output_type": "execute_result"
    }
   ],
   "source": [
    "myset"
   ]
  },
  {
   "cell_type": "code",
   "execution_count": 39,
   "id": "c50cf120",
   "metadata": {},
   "outputs": [],
   "source": [
    "myset.add(2)"
   ]
  },
  {
   "cell_type": "code",
   "execution_count": 40,
   "id": "7b279bd3",
   "metadata": {},
   "outputs": [
    {
     "data": {
      "text/plain": [
       "{1, 2}"
      ]
     },
     "execution_count": 40,
     "metadata": {},
     "output_type": "execute_result"
    }
   ],
   "source": [
    "myset # it is taking two only single time ..becaus it deals with the single elements"
   ]
  },
  {
   "cell_type": "code",
   "execution_count": 41,
   "id": "dfa9be64",
   "metadata": {},
   "outputs": [],
   "source": [
    "#give attention from here\n",
    "#let's create and list and when we make a list as a set.. it will only\n",
    "#return unique elements"
   ]
  },
  {
   "cell_type": "code",
   "execution_count": 42,
   "id": "e1036def",
   "metadata": {},
   "outputs": [],
   "source": [
    "mylist = [1,1,1,2,3,4,5,5,5,5,7]"
   ]
  },
  {
   "cell_type": "code",
   "execution_count": 43,
   "id": "f5b92b09",
   "metadata": {},
   "outputs": [
    {
     "data": {
      "text/plain": [
       "{1, 2, 3, 4, 5, 7}"
      ]
     },
     "execution_count": 43,
     "metadata": {},
     "output_type": "execute_result"
    }
   ],
   "source": [
    "set(mylist) #returned only unique elements"
   ]
  },
  {
   "cell_type": "code",
   "execution_count": 44,
   "id": "2a6c5ba3-634c-44c6-907f-c0a0f9fc0b70",
   "metadata": {},
   "outputs": [],
   "source": [
    "set1 = {1,2,3}\n",
    "set2 = {2,3,4}"
   ]
  },
  {
   "cell_type": "code",
   "execution_count": 45,
   "id": "d04487c9-5492-4495-9e39-d39c300c489e",
   "metadata": {},
   "outputs": [
    {
     "data": {
      "text/plain": [
       "{1, 2, 3, 4}"
      ]
     },
     "execution_count": 45,
     "metadata": {},
     "output_type": "execute_result"
    }
   ],
   "source": [
    "set1.union(set2)"
   ]
  },
  {
   "cell_type": "code",
   "execution_count": 46,
   "id": "a58269ac-272b-4f91-ae5d-e47efd587c84",
   "metadata": {},
   "outputs": [
    {
     "data": {
      "text/plain": [
       "{2, 3}"
      ]
     },
     "execution_count": 46,
     "metadata": {},
     "output_type": "execute_result"
    }
   ],
   "source": [
    "set1.intersection(set2)"
   ]
  },
  {
   "cell_type": "code",
   "execution_count": 47,
   "id": "b5ced598-b1f4-4e51-a611-7d8ae37a3d60",
   "metadata": {},
   "outputs": [
    {
     "data": {
      "text/plain": [
       "{1}"
      ]
     },
     "execution_count": 47,
     "metadata": {},
     "output_type": "execute_result"
    }
   ],
   "source": [
    "set1.difference(set2)"
   ]
  },
  {
   "cell_type": "code",
   "execution_count": 48,
   "id": "02708e92-d009-4487-84cd-05a8c79babf4",
   "metadata": {},
   "outputs": [
    {
     "data": {
      "text/plain": [
       "{4}"
      ]
     },
     "execution_count": 48,
     "metadata": {},
     "output_type": "execute_result"
    }
   ],
   "source": [
    "set2.difference(set1)"
   ]
  },
  {
   "cell_type": "code",
   "execution_count": 49,
   "id": "b8bd2289-2732-4bfb-98f8-f1551859b806",
   "metadata": {},
   "outputs": [
    {
     "data": {
      "text/plain": [
       "{1, 4}"
      ]
     },
     "execution_count": 49,
     "metadata": {},
     "output_type": "execute_result"
    }
   ],
   "source": [
    "set1.symmetric_difference(set2)"
   ]
  },
  {
   "cell_type": "code",
   "execution_count": 50,
   "id": "0c660083-5a4a-4702-9965-ab7f33faee9d",
   "metadata": {},
   "outputs": [],
   "source": [
    "set1.discard(3)"
   ]
  },
  {
   "cell_type": "code",
   "execution_count": 51,
   "id": "cf6ee3d2-9ca4-49de-814b-ae5ded441f9c",
   "metadata": {},
   "outputs": [
    {
     "data": {
      "text/plain": [
       "{1, 2}"
      ]
     },
     "execution_count": 51,
     "metadata": {},
     "output_type": "execute_result"
    }
   ],
   "source": [
    "set1"
   ]
  },
  {
   "cell_type": "code",
   "execution_count": 52,
   "id": "ba9c801e-495f-4d3b-b40d-a935c97602c1",
   "metadata": {},
   "outputs": [],
   "source": [
    "set2.remove(4)"
   ]
  },
  {
   "cell_type": "code",
   "execution_count": 53,
   "id": "a57df58a-3fd6-4ffc-add6-9cc819b22ecc",
   "metadata": {},
   "outputs": [
    {
     "data": {
      "text/plain": [
       "{2, 3}"
      ]
     },
     "execution_count": 53,
     "metadata": {},
     "output_type": "execute_result"
    }
   ],
   "source": [
    "set2"
   ]
  },
  {
   "cell_type": "markdown",
   "id": "d932c21f",
   "metadata": {},
   "source": [
    "## Dictionaries\n",
    "\n",
    "Dictionaries are unordered mapping for storing objects. Previously we saw how lists store objects in an ordered sequence,dictionaries use a key-value pairing insted.\n",
    "\n",
    "This key-value pair allows users to quickly grab objects without needing to know an index location\n",
    "\n",
    "Dictinaries use curly braces and colons to signify the keys and their associated values.\n",
    "\n",
    "***Dictionaries are mutable***\n",
    "\n",
    " ----------when to use a list and when to use a dictionaries------------\n",
    "\n",
    "**Dictinaries**: objects retrieved by key name. unordered and can not be sorted\n",
    "\n",
    "**Lists**: objects retrieved by location. ordered sequene can be indexed or sliced"
   ]
  },
  {
   "cell_type": "code",
   "execution_count": 9,
   "id": "33a27b04",
   "metadata": {},
   "outputs": [
    {
     "data": {
      "text/plain": [
       "25"
      ]
     },
     "execution_count": 9,
     "metadata": {},
     "output_type": "execute_result"
    }
   ],
   "source": [
    "prices_lookup = {'apple':25,'orange':30,'banana':40,'milk':30}\n",
    "prices_lookup['apple']"
   ]
  },
  {
   "cell_type": "code",
   "execution_count": 10,
   "id": "2e095fb4",
   "metadata": {},
   "outputs": [
    {
     "data": {
      "text/plain": [
       "100"
      ]
     },
     "execution_count": 10,
     "metadata": {},
     "output_type": "execute_result"
    }
   ],
   "source": [
    "# nested dictionary\n",
    "d = {'k1':123,'k2':[0,1,2],'k3':{'inside':100}}#using nested objects inside a dictionaries\n",
    "d['k3']['inside']"
   ]
  },
  {
   "cell_type": "markdown",
   "id": "3a1220e2",
   "metadata": {},
   "source": [
    "#### Modifying dictionary element"
   ]
  },
  {
   "cell_type": "code",
   "execution_count": 25,
   "id": "aba701ce",
   "metadata": {},
   "outputs": [
    {
     "data": {
      "text/plain": [
       "{'key': ['a', 'b', 'c', 'D']}"
      ]
     },
     "execution_count": 25,
     "metadata": {},
     "output_type": "execute_result"
    }
   ],
   "source": [
    "# capitalize any element\n",
    "d = {'key':['a','b','c','d']}\n",
    "d['key'][-1] = 'D'\n",
    "d"
   ]
  },
  {
   "cell_type": "code",
   "execution_count": 26,
   "id": "55ea7478",
   "metadata": {},
   "outputs": [
    {
     "data": {
      "text/plain": [
       "{'k1': 300, 'k2': 200}"
      ]
     },
     "execution_count": 26,
     "metadata": {},
     "output_type": "execute_result"
    }
   ],
   "source": [
    "d = {'k1':100,'k2':200}\n",
    "d['k1'] = 300 # updating value in the dictinary\n",
    "d"
   ]
  },
  {
   "cell_type": "code",
   "execution_count": 27,
   "id": "f1d0d2d4-068b-4f7d-b8f4-8e97b3b6d080",
   "metadata": {},
   "outputs": [
    {
     "data": {
      "text/plain": [
       "{'k1': 300, 'k2': 200, 'k3': 400}"
      ]
     },
     "execution_count": 27,
     "metadata": {},
     "output_type": "execute_result"
    }
   ],
   "source": [
    "d['k3'] = 400 # adding new element in the dictionary\n",
    "d"
   ]
  },
  {
   "cell_type": "markdown",
   "id": "0d647314-459d-476b-83ec-b888607b7952",
   "metadata": {},
   "source": [
    "#### Methods in dictionary"
   ]
  },
  {
   "cell_type": "code",
   "execution_count": 1,
   "id": "df86d83c",
   "metadata": {},
   "outputs": [
    {
     "name": "stdout",
     "output_type": "stream",
     "text": [
      "keys : dict_keys(['k1', 'k2', 'name'])\n",
      "values : dict_values([100, 200, 'Alice'])\n",
      "Items : dict_items([('k1', 100), ('k2', 200), ('name', 'Alice')])\n",
      "name : Alice\n",
      "name : Not found\n"
     ]
    }
   ],
   "source": [
    "# Checking key values\n",
    "d = {'k1':100,'k2':200,\"name\":\"Alice\"}\n",
    "print(\"keys :\",d.keys())\n",
    "print(\"values :\",d.values())\n",
    "print(\"Items :\",d.items())\n",
    "print(\"name :\",d.get(\"name\"))\n",
    "print(\"name :\",d.get(\"job\",\"Not found\"))"
   ]
  },
  {
   "cell_type": "code",
   "execution_count": 3,
   "id": "6eb49d14-dd3f-421f-b4c5-dc54b2c9877d",
   "metadata": {},
   "outputs": [
    {
     "name": "stdout",
     "output_type": "stream",
     "text": [
      "100\n",
      "100\n"
     ]
    }
   ],
   "source": [
    "print(d.get('k1'))\n",
    "print(d['k1'])"
   ]
  },
  {
   "cell_type": "code",
   "execution_count": 4,
   "id": "c96ae187-5a26-4264-8cd7-613266b63733",
   "metadata": {},
   "outputs": [
    {
     "name": "stdout",
     "output_type": "stream",
     "text": [
      "None\n"
     ]
    }
   ],
   "source": [
    "print(d.get('k100')) # returns none when not found"
   ]
  },
  {
   "cell_type": "code",
   "execution_count": 6,
   "id": "934dd184-061e-4db1-9627-51b4b9a94d8e",
   "metadata": {},
   "outputs": [
    {
     "ename": "KeyError",
     "evalue": "'k50'",
     "output_type": "error",
     "traceback": [
      "\u001b[1;31m---------------------------------------------------------------------------\u001b[0m",
      "\u001b[1;31mKeyError\u001b[0m                                  Traceback (most recent call last)",
      "Cell \u001b[1;32mIn[6], line 1\u001b[0m\n\u001b[1;32m----> 1\u001b[0m \u001b[38;5;28mprint\u001b[39m(d[\u001b[38;5;124m'\u001b[39m\u001b[38;5;124mk50\u001b[39m\u001b[38;5;124m'\u001b[39m])\n",
      "\u001b[1;31mKeyError\u001b[0m: 'k50'"
     ]
    }
   ],
   "source": [
    "print(d['k50'])  # raises an key error"
   ]
  },
  {
   "cell_type": "code",
   "execution_count": 81,
   "id": "da5a0d72-1e66-420f-826f-af589b5250e9",
   "metadata": {},
   "outputs": [
    {
     "name": "stdout",
     "output_type": "stream",
     "text": [
      "updated_dictt : {'k1': 100, 'k2': 205, 'name': 'Alex'}\n"
     ]
    }
   ],
   "source": [
    "d.update({\"k2\":205,\"name\":\"Alex\"}) # mutability in dictionaries\n",
    "print(\"updated_dictt :\",d)"
   ]
  },
  {
   "cell_type": "code",
   "execution_count": 82,
   "id": "30b0d14a-74c4-43e9-96bf-87eee3e38479",
   "metadata": {},
   "outputs": [
    {
     "name": "stdout",
     "output_type": "stream",
     "text": [
      "{'k1': 100, 'k2': 205, 'name': 'Alex', 'country': 'india'}\n"
     ]
    }
   ],
   "source": [
    "d.setdefault('country',\"india\")\n",
    "print(d)"
   ]
  },
  {
   "cell_type": "code",
   "execution_count": 83,
   "id": "94921da2-69a6-4b8f-921e-bcfebd8ef756",
   "metadata": {},
   "outputs": [
    {
     "name": "stdout",
     "output_type": "stream",
     "text": [
      "k1 : 100\n",
      "k2 : 205\n",
      "name : Alex\n",
      "country : india\n"
     ]
    }
   ],
   "source": [
    "## iteration in dictionary\n",
    "for key,value in d.items():\n",
    "    print(f\"{key} : {value}\")"
   ]
  },
  {
   "cell_type": "code",
   "execution_count": 61,
   "id": "eacc153c",
   "metadata": {},
   "outputs": [],
   "source": [
    "# little tricky # find hello\n",
    "d = {'k1':[{'nest_key':['this is deep',['hello']]}]}"
   ]
  },
  {
   "cell_type": "code",
   "execution_count": 62,
   "id": "59f5e72c",
   "metadata": {},
   "outputs": [
    {
     "data": {
      "text/plain": [
       "'hello'"
      ]
     },
     "execution_count": 62,
     "metadata": {},
     "output_type": "execute_result"
    }
   ],
   "source": [
    "d['k1'][0]['nest_key'][1][0]"
   ]
  },
  {
   "cell_type": "code",
   "execution_count": 10,
   "id": "d1b959f6-fc1d-4319-9df7-1d06ff411ed6",
   "metadata": {},
   "outputs": [
    {
     "name": "stdout",
     "output_type": "stream",
     "text": [
      "{'Ten': 10, 'Twenty': 20, 'Thirty': 30}\n"
     ]
    }
   ],
   "source": [
    "# Convert two lists into a dictionary:\n",
    "keys = ['Ten', 'Twenty', 'Thirty']\n",
    "values = [10, 20, 30]\n",
    "\n",
    "res_dict = dict(zip(keys, values))\n",
    "print(res_dict)\n"
   ]
  },
  {
   "cell_type": "code",
   "execution_count": 11,
   "id": "15d2f72c-1620-435d-8908-1acf3da76f08",
   "metadata": {},
   "outputs": [
    {
     "name": "stdout",
     "output_type": "stream",
     "text": [
      "{'Ten': 10, 'Twenty': 20, 'Thirty': 30, 'Fourty': 40, 'Fifty': 50}\n"
     ]
    }
   ],
   "source": [
    "# Merge two Python dictionaries into one:\n",
    "dict1 = {'Ten': 10, 'Twenty': 20, 'Thirty': 30}\n",
    "dict2 = {'Thirty': 30, 'Fourty': 40, 'Fifty': 50}\n",
    "\n",
    "dict3 = dict1.copy()\n",
    "dict3.update(dict2)\n",
    "print(dict3)"
   ]
  },
  {
   "cell_type": "markdown",
   "id": "1bd7884d",
   "metadata": {},
   "source": [
    "# Python - File I/O Operations\n",
    "\n",
    "Read and write to the physical file in python."
   ]
  },
  {
   "attachments": {
    "image.png": {
     "image/png": "[encoded data removed]"
    }
   },
   "cell_type": "markdown",
   "id": "1b19c81e",
   "metadata": {},
   "source": [
    "![image.png](attachment:image.png)"
   ]
  },
  {
   "cell_type": "markdown",
   "id": "d0711b98",
   "metadata": {
    "jp-MarkdownHeadingCollapsed": true
   },
   "source": [
    "### Steps to Write File\n",
    "\n",
    "1)open file by using open function\n",
    "    \n",
    "   ***file=open(filename,\"r or w\")***\n",
    "\n",
    "2)read and write opened file according to your need\n",
    "    \n",
    "   ***file.write(lines)*** ---> for single line\n",
    "   \n",
    "   ***file.writelines(lines)***---> for multiple line\n",
    "\n",
    "3)and then close the file\n",
    "    \n",
    "   ***file.close()***"
   ]
  },
  {
   "attachments": {
    "image.png": {
     "image/png": "[encoded data removed]"
    }
   },
   "cell_type": "markdown",
   "id": "bd547143",
   "metadata": {},
   "source": [
    "![image.png](attachment:image.png)"
   ]
  },
  {
   "cell_type": "code",
   "execution_count": 234,
   "id": "4a590bc2",
   "metadata": {},
   "outputs": [],
   "source": [
    "# writing\n",
    "\n",
    "text = \"Hello , Python is o object oriented programming language.\""
   ]
  },
  {
   "cell_type": "code",
   "execution_count": 235,
   "id": "fa88a73a",
   "metadata": {},
   "outputs": [],
   "source": [
    "filename = \"abc.txt\""
   ]
  },
  {
   "cell_type": "code",
   "execution_count": 236,
   "id": "a1b6904b",
   "metadata": {},
   "outputs": [
    {
     "name": "stdout",
     "output_type": "stream",
     "text": [
      "<class '_io.TextIOWrapper'>\n"
     ]
    }
   ],
   "source": [
    "#write\n",
    "# **step1**___opening file with the open function\n",
    "file=open(filename,\"w\")#w(here w is called mode) also creates file, \n",
    "print(type(file))"
   ]
  },
  {
   "cell_type": "code",
   "execution_count": 237,
   "id": "65820a24",
   "metadata": {},
   "outputs": [
    {
     "name": "stdout",
     "output_type": "stream",
     "text": [
      "Writing done\n"
     ]
    }
   ],
   "source": [
    "file.write(text)#step2___ we writen the data\n",
    "#we used only write method because hame ek hi line likhni thi...if hame multiple lines likhni hoti text me to\n",
    "# ham writelines wala method use krte\n",
    "file.close()#step3___we closed the data\n",
    "print(\"Writing done\")"
   ]
  },
  {
   "cell_type": "markdown",
   "id": "a8c84d74",
   "metadata": {
    "jp-MarkdownHeadingCollapsed": true
   },
   "source": [
    "### Creating a text file to write multiple lines\n",
    "### Writing"
   ]
  },
  {
   "cell_type": "code",
   "execution_count": 239,
   "id": "09733acc",
   "metadata": {},
   "outputs": [
    {
     "name": "stdout",
     "output_type": "stream",
     "text": [
      "Enter file name :print('this is just a testing)\n",
      "Enter content and Press any time \" exit \" to write \n",
      "x=y\n",
      "exit\n",
      "['x=y\\n']\n",
      "file created with your content\n"
     ]
    }
   ],
   "source": [
    "filename = input(\"Enter file name :\") #taking filename from user\n",
    "lines=[]#creating empty list..which will store the lines we will write\n",
    "print(\"Enter content and Press any time \\\" exit \\\" to write \")#giving msg to the user to write lines multiple times as per his/her need and press exit to close the clope\n",
    "while True:#user se content lekr lines[] wali empty list me add krne ke liye infinite loop run karege\n",
    "    line=input()#taking single line\n",
    "    if line=='exit':#cheking that ye single line kahin exit to nahi hai?\n",
    "        break #if that single line is exit so loop will be broken\n",
    "    else:\n",
    "        lines.append(line + '\\n')#if line exit nahi hai to lines wali list me add krta rahuga jo bhi lines user write karega\n",
    "print(lines) \n",
    "print(\"file created with your content\")"
   ]
  },
  {
   "cell_type": "markdown",
   "id": "9d8ffd0a",
   "metadata": {
    "jp-MarkdownHeadingCollapsed": true
   },
   "source": [
    "## Reading\n",
    "\n",
    "### Steps to Read File\n",
    "\n",
    "1) open\n",
    "\n",
    "***file=open(\"filename\",\"r\")\n",
    "\n",
    "2) read\n",
    "\n",
    "***file.read()*** ---> paranthesis ke andr 1 or 2 or 3 etc character pass karoge to utne characters se starting karega read krna\n",
    "\n",
    "or to read whole lines use\n",
    "\n",
    "***file.readline()***\n",
    "\n",
    "or we can store it in variable\n",
    "\n",
    "***result=file.read***\n",
    "\n",
    "***print(result)***\n",
    "\n",
    "3)close\n",
    "\n",
    "***file.close()***"
   ]
  },
  {
   "cell_type": "code",
   "execution_count": 240,
   "id": "5e950f82",
   "metadata": {},
   "outputs": [
    {
     "data": {
      "text/plain": [
       "'Hello , Python is o object oriented programming language.'"
      ]
     },
     "execution_count": 240,
     "metadata": {},
     "output_type": "execute_result"
    }
   ],
   "source": [
    "file =open(\"abc.txt\",\"r\")\n",
    "file.read()\n"
   ]
  },
  {
   "cell_type": "code",
   "execution_count": 268,
   "id": "ba200096",
   "metadata": {},
   "outputs": [
    {
     "data": {
      "text/plain": [
       "''"
      ]
     },
     "execution_count": 268,
     "metadata": {},
     "output_type": "execute_result"
    }
   ],
   "source": [
    "#using read() method\n",
    "file.read() #while reading again this is giving a empty string\n",
    "#the reason this is happeining is because you can imagine that there's a cursor at the beginning of the file\n",
    "#and when you read it, the cursor goes all the way to the end of the file and you need to reset the cursor or\n",
    "#seek it back to zero in order to read it again."
   ]
  },
  {
   "cell_type": "code",
   "execution_count": 269,
   "id": "b7fbf146",
   "metadata": {},
   "outputs": [
    {
     "data": {
      "text/plain": [
       "0"
      ]
     },
     "execution_count": 269,
     "metadata": {},
     "output_type": "execute_result"
    }
   ],
   "source": [
    "#to reset we will use seek() method \n",
    "file.seek(0)"
   ]
  },
  {
   "cell_type": "code",
   "execution_count": 270,
   "id": "a545f64d",
   "metadata": {},
   "outputs": [
    {
     "data": {
      "text/plain": [
       "'Hello , Python is o object oriented programming language.'"
      ]
     },
     "execution_count": 270,
     "metadata": {},
     "output_type": "execute_result"
    }
   ],
   "source": [
    "#now again reading\n",
    "file.read() # yeah now it is reading"
   ]
  },
  {
   "cell_type": "code",
   "execution_count": 271,
   "id": "698d31fb",
   "metadata": {},
   "outputs": [
    {
     "data": {
      "text/plain": [
       "0"
      ]
     },
     "execution_count": 271,
     "metadata": {},
     "output_type": "execute_result"
    }
   ],
   "source": [
    "file.seek(0)"
   ]
  },
  {
   "cell_type": "code",
   "execution_count": 272,
   "id": "e3bcfb31",
   "metadata": {},
   "outputs": [
    {
     "data": {
      "text/plain": [
       "'Hello , Python is o object oriented programming language.'"
      ]
     },
     "execution_count": 272,
     "metadata": {},
     "output_type": "execute_result"
    }
   ],
   "source": [
    "#using readline() method\n",
    "file.readline()"
   ]
  },
  {
   "cell_type": "code",
   "execution_count": 273,
   "id": "abf6c00c",
   "metadata": {},
   "outputs": [
    {
     "data": {
      "text/plain": [
       "0"
      ]
     },
     "execution_count": 273,
     "metadata": {},
     "output_type": "execute_result"
    }
   ],
   "source": [
    "file.seek(0)"
   ]
  },
  {
   "cell_type": "code",
   "execution_count": 274,
   "id": "2a99a13e",
   "metadata": {},
   "outputs": [
    {
     "data": {
      "text/plain": [
       "['Hello , Python is o object oriented programming language.']"
      ]
     },
     "execution_count": 274,
     "metadata": {},
     "output_type": "execute_result"
    }
   ],
   "source": [
    "#using readlines() method\n",
    "file.readlines()"
   ]
  },
  {
   "cell_type": "markdown",
   "id": "1381e530",
   "metadata": {
    "jp-MarkdownHeadingCollapsed": true
   },
   "source": [
    "### **File Locations**\n",
    "\n",
    "If you want to open files at another location on your computer, simply pass the entire file path\n",
    "\n",
    "For windows you need to use double \\ so python doesn't treat the second \\ as an escape character, a file path is in the form:\n",
    "\n",
    " myfile = open(\"c:\\\\users\\\\username\\\\folder\\\\test.txt\")\n",
    "For MacOS and Linux you use slashes in the opposite direction:\n",
    "\n",
    " myfile = open(\"/users/youUserName/Folder/myfile.txt\")"
   ]
  },
  {
   "cell_type": "code",
   "execution_count": 275,
   "id": "bd7e7362",
   "metadata": {},
   "outputs": [],
   "source": [
    "myfile=open(\"C:\\\\Users\\\\Acer\\\\OneDrive\\\\Pictures\\\\Screenshots\\\\screenshot\\\\M.TECH DATA SCIENCE\\\\data science 1st sem subjects\\\\PYTHON\\\\syllabus Python.txt\")"
   ]
  },
  {
   "cell_type": "code",
   "execution_count": 276,
   "id": "07affb09",
   "metadata": {},
   "outputs": [
    {
     "data": {
      "text/plain": [
       "'1.Introduction to Python: Environment setup, Basic I/O.\\n2 Conditional Branching control statements: If-Else, elif.\\n3 Conditional looping control statements: while, do-while, for.\\n4 Functions-Function Arguments-Default, Keyword, Arbitrary\\n5 Functions-Recursion , Lambda function\\n6 Data Structures-List, Tuple, Stack , Queue\\n7 Data Structures -Dictionary, Set in details\\n8 Modules and Package-User program as modules and Packages.\\n9 Files-Different types of files-File operation.\\n10 Errors and Exceptions Handling-Errors. Assert, Try, except, Finally\\n11 Exceptions Try, Finally, User defined exception.\\n12 Object Oriented Programming-Class, Object, Inheritance, and Polymorphism.\\n13 Thread-Multithread.\\n14 Graphical User Interface-Textbox, Listbox, Option Button, Menu, Canvas.\\n15 Database Connectivity-Mysql, Create table, Insert table, View the table.\\n16 Networking-Client and server program.\\n'"
      ]
     },
     "execution_count": 276,
     "metadata": {},
     "output_type": "execute_result"
    }
   ],
   "source": [
    "myfile.read()# reading whole text as paragraph"
   ]
  },
  {
   "cell_type": "code",
   "execution_count": 277,
   "id": "00c342dd",
   "metadata": {},
   "outputs": [
    {
     "data": {
      "text/plain": [
       "0"
      ]
     },
     "execution_count": 277,
     "metadata": {},
     "output_type": "execute_result"
    }
   ],
   "source": [
    "myfile.seek(0)"
   ]
  },
  {
   "cell_type": "code",
   "execution_count": 278,
   "id": "40367c21",
   "metadata": {},
   "outputs": [
    {
     "data": {
      "text/plain": [
       "'1.Introduction to Python: Environment setup, Basic I/O.\\n'"
      ]
     },
     "execution_count": 278,
     "metadata": {},
     "output_type": "execute_result"
    }
   ],
   "source": [
    "myfile.readline() #reads only single line"
   ]
  },
  {
   "cell_type": "code",
   "execution_count": 279,
   "id": "8f568fa8",
   "metadata": {},
   "outputs": [
    {
     "data": {
      "text/plain": [
       "0"
      ]
     },
     "execution_count": 279,
     "metadata": {},
     "output_type": "execute_result"
    }
   ],
   "source": [
    "myfile.seek(0)"
   ]
  },
  {
   "cell_type": "code",
   "execution_count": 280,
   "id": "70e85207",
   "metadata": {},
   "outputs": [
    {
     "data": {
      "text/plain": [
       "['1.Introduction to Python: Environment setup, Basic I/O.\\n',\n",
       " '2 Conditional Branching control statements: If-Else, elif.\\n',\n",
       " '3 Conditional looping control statements: while, do-while, for.\\n',\n",
       " '4 Functions-Function Arguments-Default, Keyword, Arbitrary\\n',\n",
       " '5 Functions-Recursion , Lambda function\\n',\n",
       " '6 Data Structures-List, Tuple, Stack , Queue\\n',\n",
       " '7 Data Structures -Dictionary, Set in details\\n',\n",
       " '8 Modules and Package-User program as modules and Packages.\\n',\n",
       " '9 Files-Different types of files-File operation.\\n',\n",
       " '10 Errors and Exceptions Handling-Errors. Assert, Try, except, Finally\\n',\n",
       " '11 Exceptions Try, Finally, User defined exception.\\n',\n",
       " '12 Object Oriented Programming-Class, Object, Inheritance, and Polymorphism.\\n',\n",
       " '13 Thread-Multithread.\\n',\n",
       " '14 Graphical User Interface-Textbox, Listbox, Option Button, Menu, Canvas.\\n',\n",
       " '15 Database Connectivity-Mysql, Create table, Insert table, View the table.\\n',\n",
       " '16 Networking-Client and server program.\\n']"
      ]
     },
     "execution_count": 280,
     "metadata": {},
     "output_type": "execute_result"
    }
   ],
   "source": [
    "myfile.readlines()"
   ]
  },
  {
   "cell_type": "code",
   "execution_count": 281,
   "id": "62647ea9",
   "metadata": {},
   "outputs": [],
   "source": [
    "myfile.close()"
   ]
  },
  {
   "cell_type": "code",
   "execution_count": 286,
   "id": "61c979ee",
   "metadata": {},
   "outputs": [],
   "source": [
    "#if you dont want to close the code again and again use this with function\n",
    "\n",
    "with open(\"C:\\\\Users\\\\Acer\\\\OneDrive\\\\Pictures\\\\Screenshots\\\\screenshot\\\\M.TECH DATA SCIENCE\\\\data science 1st sem subjects\\\\PYTHON\\\\syllabus Python.txt\") as my_new_file:\n",
    "     contents = my_new_file.readline()"
   ]
  },
  {
   "cell_type": "code",
   "execution_count": 287,
   "id": "2a5cc149",
   "metadata": {},
   "outputs": [
    {
     "data": {
      "text/plain": [
       "'1.Introduction to Python: Environment setup, Basic I/O.\\n'"
      ]
     },
     "execution_count": 287,
     "metadata": {},
     "output_type": "execute_result"
    }
   ],
   "source": [
    "contents"
   ]
  },
  {
   "cell_type": "markdown",
   "id": "fe59cd9e",
   "metadata": {
    "jp-MarkdownHeadingCollapsed": true
   },
   "source": [
    "### practice"
   ]
  },
  {
   "cell_type": "code",
   "execution_count": 301,
   "id": "2b7b01c4",
   "metadata": {},
   "outputs": [
    {
     "name": "stdout",
     "output_type": "stream",
     "text": [
      "Overwriting my_new_file.txt\n"
     ]
    }
   ],
   "source": [
    "%%writefile my_new_file.txt\n",
    "one on first\n",
    "two on second\n",
    "three on third"
   ]
  },
  {
   "cell_type": "code",
   "execution_count": 302,
   "id": "87746da2",
   "metadata": {},
   "outputs": [
    {
     "name": "stdout",
     "output_type": "stream",
     "text": [
      "one on first\n",
      "two on second\n",
      "three on third\n",
      "\n"
     ]
    }
   ],
   "source": [
    "with open ('my_new_file.txt',mode='r') as f:\n",
    "    print(f.read())"
   ]
  },
  {
   "cell_type": "code",
   "execution_count": 303,
   "id": "6c598748",
   "metadata": {},
   "outputs": [],
   "source": [
    "#to add new line..we use\n",
    "with open('my_new_file.txt',mode='a') as f:\n",
    "    f.write('\\n four on fourth')"
   ]
  },
  {
   "cell_type": "code",
   "execution_count": 304,
   "id": "dd99a97d",
   "metadata": {},
   "outputs": [
    {
     "name": "stdout",
     "output_type": "stream",
     "text": [
      "one on first\n",
      "two on second\n",
      "three on third\n",
      "\n",
      " four on fourth\n"
     ]
    }
   ],
   "source": [
    "with open('my_new_file.txt',mode='r') as f:\n",
    "    print(f.read())"
   ]
  },
  {
   "cell_type": "code",
   "execution_count": 306,
   "id": "aca7d3ca",
   "metadata": {},
   "outputs": [],
   "source": [
    "#writing\n",
    "with open('rkshskddhdk.txt',mode='w') as f:\n",
    "    f.write('i created this file')"
   ]
  },
  {
   "cell_type": "code",
   "execution_count": 307,
   "id": "cc7614a4",
   "metadata": {},
   "outputs": [
    {
     "name": "stdout",
     "output_type": "stream",
     "text": [
      "i created this file\n"
     ]
    }
   ],
   "source": [
    "with open('rkshskddhdk.txt',mode='r') as f:\n",
    "    print(f.read())"
   ]
  },
  {
   "cell_type": "code",
   "execution_count": 310,
   "id": "c28218d4",
   "metadata": {},
   "outputs": [
    {
     "name": "stdout",
     "output_type": "stream",
     "text": [
      "Hello World\n"
     ]
    }
   ],
   "source": [
    "with open('test.txt',mode='w') as f:\n",
    "    f.write('Hello World')\n",
    "with open('test.txt',mode='r') as f:\n",
    "    print(f.read())"
   ]
  },
  {
   "cell_type": "markdown",
   "id": "77a4fb66",
   "metadata": {
    "jp-MarkdownHeadingCollapsed": true
   },
   "source": [
    "## # Resources for More Basic Practice\n",
    "Before you begin your assessment, I wanted to point out some helpful links for practice (don't worry about being able to do these exercises, I just want you to be aware of the links so you can visit them later, since we still haven't discussed functions, you won't be able to utilize a lot of these resources yet!):\n",
    "\n",
    "Basic Practice:\n",
    "\n",
    "http://codingbat.com/python\n",
    "\n",
    "More Mathematical (and Harder) Practice:\n",
    "\n",
    "https://projecteuler.net/archives\n",
    "\n",
    "List of Practice Problems:\n",
    "\n",
    "http://www.codeabbey.com/index/task_list\n",
    "\n",
    "A SubReddit Devoted to Daily Practice Problems:\n",
    "\n",
    "https://www.reddit.com/r/dailyprogrammer\n",
    "\n",
    "A very tricky website with very few hints and touch problems (Not for beginners but still interesting)\n",
    "\n",
    "http://www.pythonchallenge.com/"
   ]
  }
 ],
 "metadata": {
  "kernelspec": {
   "display_name": "Python 3 (ipykernel)",
   "language": "python",
   "name": "python3"
  },
  "language_info": {
   "codemirror_mode": {
    "name": "ipython",
    "version": 3
   },
   "file_extension": ".py",
   "mimetype": "text/x-python",
   "name": "python",
   "nbconvert_exporter": "python",
   "pygments_lexer": "ipython3",
   "version": "3.11.7"
  },
  "widgets": {
   "application/vnd.jupyter.widget-state+json": {
    "state": {},
    "version_major": 2,
    "version_minor": 0
   }
  }
 },
 "nbformat": 4,
 "nbformat_minor": 5
}
