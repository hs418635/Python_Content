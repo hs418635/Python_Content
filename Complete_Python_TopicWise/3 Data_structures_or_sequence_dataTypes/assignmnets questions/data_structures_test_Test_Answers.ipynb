{
 "cells": [
  {
   "cell_type": "markdown",
   "id": "47c76231",
   "metadata": {},
   "source": [
    "### Write a Python program to count the number of vowels in a given string:"
   ]
  },
  {
   "cell_type": "code",
   "execution_count": 1,
   "id": "eb15745d",
   "metadata": {},
   "outputs": [
    {
     "name": "stdout",
     "output_type": "stream",
     "text": [
      "3\n"
     ]
    }
   ],
   "source": [
    "string = \"hello world\"\n",
    "vowels = \"aeiou\"\n",
    "count = 0\n",
    "for char in string:\n",
    "    if char.lower() in vowels:\n",
    "        count += 1\n",
    "print(count)"
   ]
  },
  {
   "cell_type": "markdown",
   "id": "1031c15f",
   "metadata": {},
   "source": [
    "### Write a Python function to reverse a string:"
   ]
  },
  {
   "cell_type": "code",
   "execution_count": 2,
   "id": "73cd7e76",
   "metadata": {},
   "outputs": [
    {
     "name": "stdout",
     "output_type": "stream",
     "text": [
      "olleh\n"
     ]
    }
   ],
   "source": [
    "string = \"hello\"\n",
    "reversed_string = string[::-1]\n",
    "print(reversed_string)"
   ]
  },
  {
   "cell_type": "markdown",
   "id": "a22d68d4",
   "metadata": {},
   "source": [
    "### Write a Python function to check if a given string is a palindrome:"
   ]
  },
  {
   "cell_type": "code",
   "execution_count": 3,
   "id": "b835de23",
   "metadata": {},
   "outputs": [
    {
     "name": "stdout",
     "output_type": "stream",
     "text": [
      "True\n"
     ]
    }
   ],
   "source": [
    "string = \"madam\"\n",
    "is_palindrome = string == string[::-1]\n",
    "print(is_palindrome)"
   ]
  },
  {
   "cell_type": "markdown",
   "id": "31bebd86",
   "metadata": {},
   "source": [
    "### Write a Python program to find the first non-repeating character in a string:"
   ]
  },
  {
   "cell_type": "code",
   "execution_count": 4,
   "id": "420345b0",
   "metadata": {},
   "outputs": [
    {
     "name": "stdout",
     "output_type": "stream",
     "text": [
      "w\n"
     ]
    }
   ],
   "source": [
    "string = \"swiss\"\n",
    "for char in string:\n",
    "    if string.count(char) == 1:\n",
    "        print(char)\n",
    "        break"
   ]
  },
  {
   "cell_type": "markdown",
   "id": "deecfadd",
   "metadata": {},
   "source": [
    "### Write a Python program to find the largest number in a list:"
   ]
  },
  {
   "cell_type": "code",
   "execution_count": 5,
   "id": "32ee28d9",
   "metadata": {},
   "outputs": [
    {
     "name": "stdout",
     "output_type": "stream",
     "text": [
      "9\n"
     ]
    }
   ],
   "source": [
    "numbers = [3, 1, 4, 1, 5, 9, 2, 6, 5, 3, 5]\n",
    "largest_number = max(numbers)\n",
    "print(largest_number)"
   ]
  },
  {
   "cell_type": "markdown",
   "id": "df21df9b",
   "metadata": {},
   "source": [
    "### Write a Python function to remove duplicates from a list:"
   ]
  },
  {
   "cell_type": "code",
   "execution_count": 6,
   "id": "39382618",
   "metadata": {},
   "outputs": [
    {
     "name": "stdout",
     "output_type": "stream",
     "text": [
      "[1, 2, 3, 4, 5]\n"
     ]
    }
   ],
   "source": [
    "numbers = [1, 2, 2, 3, 4, 4, 5]\n",
    "unique_numbers = list(set(numbers))\n",
    "print(unique_numbers)"
   ]
  },
  {
   "cell_type": "markdown",
   "id": "2e43b7cc",
   "metadata": {},
   "source": [
    "### Write a Python program to find the common elements in two lists:"
   ]
  },
  {
   "cell_type": "code",
   "execution_count": 7,
   "id": "805809ae",
   "metadata": {},
   "outputs": [
    {
     "name": "stdout",
     "output_type": "stream",
     "text": [
      "[4, 5]\n"
     ]
    }
   ],
   "source": [
    "list1 = [1, 2, 3, 4, 5]\n",
    "list2 = [4, 5, 6, 7, 8]\n",
    "common_elements = list(set(list1) & set(list2))\n",
    "print(common_elements)"
   ]
  },
  {
   "cell_type": "markdown",
   "id": "d83319c3",
   "metadata": {},
   "source": [
    "### Write a Python function to rotate a list by a given number of steps:"
   ]
  },
  {
   "cell_type": "code",
   "execution_count": 8,
   "id": "b578651e",
   "metadata": {},
   "outputs": [
    {
     "name": "stdout",
     "output_type": "stream",
     "text": [
      "[4, 5, 1, 2, 3]\n"
     ]
    }
   ],
   "source": [
    "numbers = [1, 2, 3, 4, 5]\n",
    "steps = 2\n",
    "rotated_list = numbers[-steps:] + numbers[:-steps]\n",
    "print(rotated_list)"
   ]
  },
  {
   "cell_type": "markdown",
   "id": "0571cf74",
   "metadata": {},
   "source": [
    "### Write a Python program to find the index of an item in a tuple:"
   ]
  },
  {
   "cell_type": "code",
   "execution_count": 9,
   "id": "632b0c44",
   "metadata": {},
   "outputs": [
    {
     "name": "stdout",
     "output_type": "stream",
     "text": [
      "2\n"
     ]
    }
   ],
   "source": [
    "my_tuple = (1, 2, 3, 4, 5)\n",
    "item = 3\n",
    "index = my_tuple.index(item)\n",
    "print(index)"
   ]
  },
  {
   "cell_type": "markdown",
   "id": "b6379dc1",
   "metadata": {},
   "source": [
    "### Write a Python function to convert a tuple to a string:"
   ]
  },
  {
   "cell_type": "code",
   "execution_count": 10,
   "id": "92360d11",
   "metadata": {},
   "outputs": [
    {
     "name": "stdout",
     "output_type": "stream",
     "text": [
      "abc\n"
     ]
    }
   ],
   "source": [
    "my_tuple = ('a', 'b', 'c')\n",
    "tuple_string = ''.join(my_tuple)\n",
    "print(tuple_string)"
   ]
  },
  {
   "cell_type": "markdown",
   "id": "1266da18",
   "metadata": {},
   "source": [
    "### Write a Python program to find the length of a tuple without using the `len()` function:"
   ]
  },
  {
   "cell_type": "code",
   "execution_count": 25,
   "id": "92f17320",
   "metadata": {},
   "outputs": [
    {
     "name": "stdout",
     "output_type": "stream",
     "text": [
      "5\n"
     ]
    }
   ],
   "source": [
    "my_tuple = (1, 2, 3, 4, 5)\n",
    "length = 0\n",
    "for i in my_tuple:\n",
    "    length += 1\n",
    "print(length)"
   ]
  },
  {
   "cell_type": "markdown",
   "id": "a18b5022",
   "metadata": {},
   "source": [
    "### Write a Python function to merge two tuples into a dictionary:"
   ]
  },
  {
   "cell_type": "code",
   "execution_count": 12,
   "id": "b846ab54",
   "metadata": {},
   "outputs": [
    {
     "name": "stdout",
     "output_type": "stream",
     "text": [
      "{'a': 1, 'b': 2, 'c': 3}\n"
     ]
    }
   ],
   "source": [
    "tuple1 = ('a', 'b', 'c')\n",
    "tuple2 = (1, 2, 3)\n",
    "merged_dict = dict(zip(tuple1, tuple2))\n",
    "print(merged_dict)"
   ]
  },
  {
   "cell_type": "markdown",
   "id": "6f64bb79",
   "metadata": {},
   "source": [
    "### Write a Python program to add a list of elements to a set:"
   ]
  },
  {
   "cell_type": "code",
   "execution_count": 13,
   "id": "5436a4d4",
   "metadata": {},
   "outputs": [
    {
     "name": "stdout",
     "output_type": "stream",
     "text": [
      "{1, 2, 3, 4, 5, 6}\n"
     ]
    }
   ],
   "source": [
    "my_set = {1, 2, 3}\n",
    "elements_to_add = [4, 5, 6]\n",
    "my_set.update(elements_to_add)\n",
    "print(my_set)"
   ]
  },
  {
   "cell_type": "markdown",
   "id": "4befba17",
   "metadata": {},
   "source": [
    "### Write a Python function to check if a set is a subset of another set:"
   ]
  },
  {
   "cell_type": "code",
   "execution_count": 14,
   "id": "3076a9bf",
   "metadata": {},
   "outputs": [
    {
     "name": "stdout",
     "output_type": "stream",
     "text": [
      "True\n"
     ]
    }
   ],
   "source": [
    "set1 = {1, 2, 3}\n",
    "set2 = {1, 2, 3, 4, 5}\n",
    "is_subset = set1.issubset(set2)\n",
    "print(is_subset)"
   ]
  },
  {
   "cell_type": "markdown",
   "id": "83e5f3df",
   "metadata": {},
   "source": [
    "### Write a Python program to find the symmetric difference between two sets:"
   ]
  },
  {
   "cell_type": "code",
   "execution_count": 15,
   "id": "ae13854c",
   "metadata": {},
   "outputs": [
    {
     "name": "stdout",
     "output_type": "stream",
     "text": [
      "{1, 2, 4, 5}\n"
     ]
    }
   ],
   "source": [
    "set1 = {1, 2, 3}\n",
    "set2 = {3, 4, 5}\n",
    "symmetric_difference = set1.symmetric_difference(set2)\n",
    "print(symmetric_difference)"
   ]
  },
  {
   "cell_type": "markdown",
   "id": "6b82388e",
   "metadata": {},
   "source": [
    "### Write a Python function to find the intersection of multiple sets:"
   ]
  },
  {
   "cell_type": "code",
   "execution_count": 16,
   "id": "e98b09b2",
   "metadata": {},
   "outputs": [
    {
     "name": "stdout",
     "output_type": "stream",
     "text": [
      "{3}\n"
     ]
    }
   ],
   "source": [
    "set1 = {1, 2, 3}\n",
    "set2 = {2, 3, 4}\n",
    "set3 = {3, 4, 5}\n",
    "intersection = set1 & set2 & set3\n",
    "print(intersection)"
   ]
  },
  {
   "cell_type": "markdown",
   "id": "b77e0377",
   "metadata": {},
   "source": [
    "### Write a Python program to add a key-value pair to a dictionary:"
   ]
  },
  {
   "cell_type": "code",
   "execution_count": 17,
   "id": "32d931de",
   "metadata": {},
   "outputs": [
    {
     "name": "stdout",
     "output_type": "stream",
     "text": [
      "{'a': 1, 'b': 2, 'c': 3}\n"
     ]
    }
   ],
   "source": [
    "my_dict = {'a': 1, 'b': 2}\n",
    "my_dict['c'] = 3\n",
    "print(my_dict)"
   ]
  },
  {
   "cell_type": "markdown",
   "id": "86ebb155",
   "metadata": {},
   "source": [
    "### Write a Python function to check if a key exists in a dictionary:"
   ]
  },
  {
   "cell_type": "code",
   "execution_count": 18,
   "id": "b69b528f",
   "metadata": {},
   "outputs": [
    {
     "name": "stdout",
     "output_type": "stream",
     "text": [
      "True\n"
     ]
    }
   ],
   "source": [
    "my_dict = {'a': 1, 'b': 2}\n",
    "key = 'b'\n",
    "exists = key in my_dict\n",
    "print(exists)"
   ]
  },
  {
   "cell_type": "markdown",
   "id": "45b32d56",
   "metadata": {},
   "source": [
    "### Write a Python program to merge two dictionaries:"
   ]
  },
  {
   "cell_type": "code",
   "execution_count": 24,
   "id": "965c1876",
   "metadata": {},
   "outputs": [
    {
     "data": {
      "text/plain": [
       "{'a': 1, 'b': 2, 'c': 3, 'd': 4}"
      ]
     },
     "execution_count": 24,
     "metadata": {},
     "output_type": "execute_result"
    }
   ],
   "source": [
    "dict1 = {'a': 1, 'b': 2}\n",
    "dict2 = {'c': 3, 'd': 4}\n",
    "dict1.update(dict2)\n",
    "dict1"
   ]
  },
  {
   "cell_type": "markdown",
   "id": "1a2d8b80",
   "metadata": {},
   "source": [
    "### Write a Python function to invert a dictionary (swap keys and values):"
   ]
  },
  {
   "cell_type": "code",
   "execution_count": 22,
   "id": "a8d2e84e",
   "metadata": {},
   "outputs": [
    {
     "data": {
      "text/plain": [
       "{1: 'a', 2: 'b', 3: 'c'}"
      ]
     },
     "execution_count": 22,
     "metadata": {},
     "output_type": "execute_result"
    }
   ],
   "source": [
    "my_dict = {'a': 1, 'b': 2, 'c': 3}\n",
    "invert = {}\n",
    "for key, value in my_dict.items():\n",
    "    invert[value] = key\n",
    "invert"
   ]
  },
  {
   "cell_type": "code",
   "execution_count": null,
   "id": "07dc58bc-0528-487e-a386-350788316c63",
   "metadata": {},
   "outputs": [],
   "source": []
  }
 ],
 "metadata": {
  "kernelspec": {
   "display_name": "Python 3 (ipykernel)",
   "language": "python",
   "name": "python3"
  },
  "language_info": {
   "codemirror_mode": {
    "name": "ipython",
    "version": 3
   },
   "file_extension": ".py",
   "mimetype": "text/x-python",
   "name": "python",
   "nbconvert_exporter": "python",
   "pygments_lexer": "ipython3",
   "version": "3.11.7"
  },
  "widgets": {
   "application/vnd.jupyter.widget-state+json": {
    "state": {},
    "version_major": 2,
    "version_minor": 0
   }
  }
 },
 "nbformat": 4,
 "nbformat_minor": 5
}
