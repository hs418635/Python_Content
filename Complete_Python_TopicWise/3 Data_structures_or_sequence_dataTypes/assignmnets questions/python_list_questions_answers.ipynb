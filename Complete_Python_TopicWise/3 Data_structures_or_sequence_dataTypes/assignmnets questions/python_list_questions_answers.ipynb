{
 "cells": [
  {
   "cell_type": "code",
   "execution_count": 2,
   "id": "168eb964-d3a0-4b2c-835b-a34dbe03c42c",
   "metadata": {},
   "outputs": [
    {
     "data": {
      "text/plain": [
       "30"
      ]
     },
     "execution_count": 2,
     "metadata": {},
     "output_type": "execute_result"
    }
   ],
   "source": [
    "#Indexing\n",
    "#1. How do you access the third element in the list my_list = [10, 20, 30, 40, 50]?\n",
    "\n",
    "my_list = [10, 20, 30, 40, 50]\n",
    "my_list[2]"
   ]
  },
  {
   "cell_type": "code",
   "execution_count": 3,
   "id": "e84fe2e1-12c8-4abc-a088-03f5cd5fa3d1",
   "metadata": {},
   "outputs": [
    {
     "data": {
      "text/plain": [
       "45"
      ]
     },
     "execution_count": 3,
     "metadata": {},
     "output_type": "execute_result"
    }
   ],
   "source": [
    "#2. How do you access the last element of the list my_list = [5, 15, 25, 35, 45]?\n",
    "\n",
    "my_list = [5, 15, 25, 35, 45]\n",
    "my_list[-1]"
   ]
  },
  {
   "cell_type": "code",
   "execution_count": 5,
   "id": "f11356c6-285d-4ce4-857a-ad142a030a97",
   "metadata": {},
   "outputs": [
    {
     "data": {
      "text/plain": [
       "[1, 2, 3]"
      ]
     },
     "execution_count": 5,
     "metadata": {},
     "output_type": "execute_result"
    }
   ],
   "source": [
    "#Slicing\n",
    "#1. How do you get the first three elements of the list my_list = [1, 2, 3, 4, 5]?\n",
    "\n",
    "my_list = [1, 2, 3, 4, 5]\n",
    "my_list[:3]"
   ]
  },
  {
   "cell_type": "code",
   "execution_count": 6,
   "id": "fc8218d7-b556-443e-9112-5882383af2df",
   "metadata": {},
   "outputs": [
    {
     "data": {
      "text/plain": [
       "[3, 4, 5, 6, 7]"
      ]
     },
     "execution_count": 6,
     "metadata": {},
     "output_type": "execute_result"
    }
   ],
   "source": [
    "#2. How do you get all the elements except the first two in the list my_list = [1, 2, 3, 4, 5, 6, 7]?\n",
    "\n",
    "my_list = [1, 2, 3, 4, 5, 6, 7]\n",
    "my_list[2:]\n"
   ]
  },
  {
   "cell_type": "code",
   "execution_count": 8,
   "id": "a0c77188-3ab8-47a1-999d-dccce7f6cf7b",
   "metadata": {},
   "outputs": [
    {
     "data": {
      "text/plain": [
       "[1, 2, 3, 10]"
      ]
     },
     "execution_count": 8,
     "metadata": {},
     "output_type": "execute_result"
    }
   ],
   "source": [
    "#Adding Elements\n",
    "#1. How do you add the element 10 to the end of the list my_list = [1, 2, 3]?\n",
    "\n",
    "my_list = [1, 2, 3]\n",
    "my_list.append(10)\n",
    "my_list"
   ]
  },
  {
   "cell_type": "code",
   "execution_count": 10,
   "id": "670dbfd6-12c3-4b77-a1fa-1a22c70810f2",
   "metadata": {},
   "outputs": [
    {
     "data": {
      "text/plain": [
       "[1, 2, 3, 4, 5, 6]"
      ]
     },
     "execution_count": 10,
     "metadata": {},
     "output_type": "execute_result"
    }
   ],
   "source": [
    "#2. How do you add the elements 4, 5, 6 to the end of the list my_list = [1, 2, 3]?\n",
    "\n",
    "my_list = [1, 2, 3]\n",
    "my_list.extend([4,5,6])\n",
    "my_list\n"
   ]
  },
  {
   "cell_type": "code",
   "execution_count": 11,
   "id": "970db519-1688-4d5e-9a77-fe12ca00803f",
   "metadata": {},
   "outputs": [
    {
     "data": {
      "text/plain": [
       "[0, 1, 2, 3]"
      ]
     },
     "execution_count": 11,
     "metadata": {},
     "output_type": "execute_result"
    }
   ],
   "source": [
    "#3. How do you add the element 0 at the beginning of the list my_list = [1, 2, 3]?\n",
    "\n",
    "my_list = [1, 2, 3]\n",
    "my_list.insert(0,0)\n",
    "my_list"
   ]
  },
  {
   "cell_type": "code",
   "execution_count": 12,
   "id": "4fdbb680-f2da-40c6-b057-c46747d703ec",
   "metadata": {},
   "outputs": [
    {
     "data": {
      "text/plain": [
       "[10, 20, 15, 30]"
      ]
     },
     "execution_count": 12,
     "metadata": {},
     "output_type": "execute_result"
    }
   ],
   "source": [
    "#4. How do you add the element 15 at index 2 in the list my_list = [10, 20, 30]?\n",
    "\n",
    "my_list = [10, 20, 30]\n",
    "my_list.insert(2,15)\n",
    "my_list"
   ]
  },
  {
   "cell_type": "code",
   "execution_count": 17,
   "id": "145556f9-d20e-4928-a05c-b21f3411b0a3",
   "metadata": {},
   "outputs": [
    {
     "data": {
      "text/plain": [
       "[1, 2, 4, 3, 5]"
      ]
     },
     "execution_count": 17,
     "metadata": {},
     "output_type": "execute_result"
    }
   ],
   "source": [
    "#Removing Elements\n",
    "#1. How do you remove the first occurrence of the element 3 from the list my_list = [1, 2, 3, 4, 3, 5]?\n",
    "\n",
    "my_list = [1, 2, 3, 4, 3, 5]\n",
    "my_list.remove(3)\n",
    "my_list"
   ]
  },
  {
   "cell_type": "code",
   "execution_count": 18,
   "id": "1f4b0f7e-a5a4-4db0-a0c3-2f367d746f13",
   "metadata": {},
   "outputs": [
    {
     "data": {
      "text/plain": [
       "[1, 2, 4, 5]"
      ]
     },
     "execution_count": 18,
     "metadata": {},
     "output_type": "execute_result"
    }
   ],
   "source": [
    "#2. How do you remove the element at index 2 from the list my_list = [1, 2, 3, 4, 5]?\n",
    "\n",
    "my_list = [1, 2, 3, 4, 5]\n",
    "my_list.pop(2)\n",
    "my_list"
   ]
  },
  {
   "cell_type": "code",
   "execution_count": 19,
   "id": "128e89e2-298e-49c6-b9ed-43e6b5fe509c",
   "metadata": {},
   "outputs": [
    {
     "data": {
      "text/plain": [
       "[1, 2, 3, 4]"
      ]
     },
     "execution_count": 19,
     "metadata": {},
     "output_type": "execute_result"
    }
   ],
   "source": [
    "#3. How do you remove the last element of the list my_list = [1, 2, 3, 4, 5]?\n",
    "\n",
    "my_list = [1, 2, 3, 4, 5]\n",
    "my_list.pop()\n",
    "my_list"
   ]
  },
  {
   "cell_type": "code",
   "execution_count": 20,
   "id": "b3826b7c-15b4-4a57-9fe4-daeac7e26e01",
   "metadata": {},
   "outputs": [
    {
     "data": {
      "text/plain": [
       "[]"
      ]
     },
     "execution_count": 20,
     "metadata": {},
     "output_type": "execute_result"
    }
   ],
   "source": [
    "#4. How do you clear all elements from the list my_list = [1, 2, 3, 4, 5]?\n",
    "\n",
    "my_list = [1, 2, 3, 4, 5]\n",
    "my_list.clear()\n",
    "my_list"
   ]
  },
  {
   "cell_type": "code",
   "execution_count": 21,
   "id": "5c6ed685-7ee3-454b-9c6e-6e0e2e3ff286",
   "metadata": {},
   "outputs": [
    {
     "data": {
      "text/plain": [
       "[1, 2, 3, 4, 5]"
      ]
     },
     "execution_count": 21,
     "metadata": {},
     "output_type": "execute_result"
    }
   ],
   "source": [
    "#Sorting and Reversing\n",
    "#1. How do you sort the list my_list = [3, 1, 4, 2, 5] in ascending order?\n",
    "\n",
    "my_list = [3, 1, 4, 2, 5]\n",
    "my_list.sort()\n",
    "my_list\n"
   ]
  },
  {
   "cell_type": "code",
   "execution_count": 22,
   "id": "f8e0a28b-73a4-41be-a75a-f9d5e8300282",
   "metadata": {},
   "outputs": [
    {
     "data": {
      "text/plain": [
       "[5, 4, 3, 2, 1]"
      ]
     },
     "execution_count": 22,
     "metadata": {},
     "output_type": "execute_result"
    }
   ],
   "source": [
    "#2. How do you reverse the list my_list = [1, 2, 3, 4, 5]?\n",
    "\n",
    "my_list = [1, 2, 3, 4, 5]\n",
    "my_list.sort(reverse = True)\n",
    "my_list"
   ]
  },
  {
   "cell_type": "code",
   "execution_count": 24,
   "id": "084bb1eb-70b4-4fb3-a10c-6ed1cdd19535",
   "metadata": {},
   "outputs": [
    {
     "data": {
      "text/plain": [
       "[1, 2, 3, 4, 5, 6]"
      ]
     },
     "execution_count": 24,
     "metadata": {},
     "output_type": "execute_result"
    }
   ],
   "source": [
    "#List Concatenation\n",
    "#1. How do you concatenate two lists list1 = [1, 2, 3] and list2 = [4, 5, 6]?\n",
    "\n",
    "list1 = [1, 2, 3]\n",
    "list2 = [4, 5, 6]\n",
    "\n",
    "list3 = list1 + list2\n",
    "list3\n"
   ]
  },
  {
   "cell_type": "code",
   "execution_count": 25,
   "id": "684a83b9-67b5-49f7-9f2b-a4465f2b7400",
   "metadata": {},
   "outputs": [
    {
     "data": {
      "text/plain": [
       "[1, 2, 3, 4, 5, 6]"
      ]
     },
     "execution_count": 25,
     "metadata": {},
     "output_type": "execute_result"
    }
   ],
   "source": [
    "#2. How do you extend list1 = [1, 2, 3] with elements from list2 = [4, 5, 6]?\n",
    "\n",
    "list1 = [1, 2, 3]\n",
    "list2 = [4, 5, 6]\n",
    "\n",
    "list1 = list1 + list2\n",
    "list1"
   ]
  },
  {
   "cell_type": "code",
   "execution_count": 31,
   "id": "fb36bb9c-b4b5-468f-955e-a97ff0a509be",
   "metadata": {},
   "outputs": [
    {
     "data": {
      "text/plain": [
       "[0, 1, 4, 9, 16]"
      ]
     },
     "execution_count": 31,
     "metadata": {},
     "output_type": "execute_result"
    }
   ],
   "source": [
    "#List Comprehensions\n",
    "#1. How do you create a list of squares of numbers from 0 to 4 using list comprehension?\n",
    "\n",
    "list_s = [ i**2 for i in range(0 , 5)]\n",
    "list_s\n"
   ]
  },
  {
   "cell_type": "code",
   "execution_count": 34,
   "id": "15771245-ddf2-44da-8249-38db476b54ab",
   "metadata": {},
   "outputs": [
    {
     "data": {
      "text/plain": [
       "[0, 2, 4, 6, 8, 10]"
      ]
     },
     "execution_count": 34,
     "metadata": {},
     "output_type": "execute_result"
    }
   ],
   "source": [
    "#2. How do you create a list of even numbers from 0 to 10 using list comprehension?\n",
    "\n",
    "list_e = [i for i in range(0 , 11) if i%2 == 0 ]\n",
    "list_e"
   ]
  },
  {
   "cell_type": "code",
   "execution_count": 35,
   "id": "e8a4e042-a3fd-469a-946b-828af70894a0",
   "metadata": {},
   "outputs": [],
   "source": [
    "#Shallow and Deep Copy\n",
    "#1. What is the difference between a shallow copy and a deep copy?\n"
   ]
  },
  {
   "cell_type": "code",
   "execution_count": 36,
   "id": "0d5bb25d-f416-472c-aa0f-e74f9cd9d872",
   "metadata": {},
   "outputs": [
    {
     "data": {
      "text/plain": [
       "[1, 2, [3, 4]]"
      ]
     },
     "execution_count": 36,
     "metadata": {},
     "output_type": "execute_result"
    }
   ],
   "source": [
    "#2. How do you create a deep copy of the list original_list = [1, 2, [3, 4]]?\n",
    "\n",
    "import copy \n",
    "original_list = [1, 2, [3, 4]]\n",
    "copy_list = copy.deepcopy(original_list)\n",
    "copy_list"
   ]
  },
  {
   "cell_type": "code",
   "execution_count": 37,
   "id": "cf893dff-f852-4d84-beda-1c6a057f251c",
   "metadata": {},
   "outputs": [
    {
     "name": "stdout",
     "output_type": "stream",
     "text": [
      "1 2 3 4 5 "
     ]
    }
   ],
   "source": [
    "#Iteration in Lists\n",
    "#1. How do you iterate through the list my_list = [1, 2, 3, 4, 5] using a for loop?\n",
    "\n",
    "my_list = [1, 2, 3, 4, 5]\n",
    "\n",
    "for i in my_list :\n",
    "    print(i,end = \" \")\n"
   ]
  },
  {
   "cell_type": "code",
   "execution_count": 38,
   "id": "5c3353e6-6803-4f8e-9453-de7d0092f77c",
   "metadata": {},
   "outputs": [
    {
     "name": "stdout",
     "output_type": "stream",
     "text": [
      "0 --> 10\n",
      "1 --> 20\n",
      "2 --> 30\n",
      "3 --> 40\n",
      "4 --> 50\n"
     ]
    }
   ],
   "source": [
    "#2. How do you iterate through the list my_list = [10, 20, 30, 40, 50]my_list = [10, 20, 30, 40, 50]with index and value?\n",
    "\n",
    "my_list = [10, 20, 30, 40, 50]\n",
    "\n",
    "for index, value in enumerate(my_list):\n",
    "    print(index , \"-->\", value)"
   ]
  },
  {
   "cell_type": "code",
   "execution_count": 41,
   "id": "422fc18d-e14d-4117-8068-d966df157bdd",
   "metadata": {},
   "outputs": [
    {
     "data": {
      "text/plain": [
       "15"
      ]
     },
     "execution_count": 41,
     "metadata": {},
     "output_type": "execute_result"
    }
   ],
   "source": [
    "#Built-in Functions\n",
    "#1. How do you find the sum of elements in the list my_list = [1, 2, 3, 4, 5]?\n",
    "\n",
    "my_list = [1, 2, 3, 4, 5]\n",
    "sum(my_list)\n"
   ]
  },
  {
   "cell_type": "code",
   "execution_count": 42,
   "id": "62bffaba-0bab-4ce7-8bd0-2572739f2d07",
   "metadata": {},
   "outputs": [
    {
     "data": {
      "text/plain": [
       "1"
      ]
     },
     "execution_count": 42,
     "metadata": {},
     "output_type": "execute_result"
    }
   ],
   "source": [
    "#2. How do you find the minimum value in the list my_list = [3, 1, 4, 2, 5]?\n",
    "\n",
    "my_list = [3, 1, 4, 2, 5]\n",
    "min(my_list)\n"
   ]
  },
  {
   "cell_type": "code",
   "execution_count": 43,
   "id": "a1aa7c5a-c29d-4da3-9e0a-9d48719178a6",
   "metadata": {},
   "outputs": [
    {
     "data": {
      "text/plain": [
       "3"
      ]
     },
     "execution_count": 43,
     "metadata": {},
     "output_type": "execute_result"
    }
   ],
   "source": [
    "#3. How do you find the length of the list my_list = [10, 20, 30]?\n",
    "\n",
    "my_list = [10, 20, 30]\n",
    "len(my_list)"
   ]
  },
  {
   "cell_type": "code",
   "execution_count": 45,
   "id": "91b8089e-535d-4888-b679-e7fe5f2aa7b0",
   "metadata": {},
   "outputs": [
    {
     "data": {
      "text/plain": [
       "[(1, 'a'), (2, 'b'), (3, 'c')]"
      ]
     },
     "execution_count": 45,
     "metadata": {},
     "output_type": "execute_result"
    }
   ],
   "source": [
    "#4. How do you create a list of tuples by combining list1 = [1, 2, 3] and list2 = ['a', 'b', 'c'] using the zip function?\n",
    "\n",
    "list1 = [1, 2, 3] \n",
    "list2 = ['a', 'b', 'c']\n",
    "\n",
    "zipped = list(zip(list1 ,list2))\n",
    "zipped"
   ]
  },
  {
   "cell_type": "code",
   "execution_count": 46,
   "id": "36b0147b-0fd7-4255-bcdf-5f6dad295998",
   "metadata": {},
   "outputs": [
    {
     "data": {
      "text/plain": [
       "[2, 4, 6]"
      ]
     },
     "execution_count": 46,
     "metadata": {},
     "output_type": "execute_result"
    }
   ],
   "source": [
    "#5. How do you apply a function to each element in the list my_list = [1, 2, 3] to double the values using the map function?\n",
    "\n",
    "my_list = [1, 2, 3]\n",
    "\n",
    "mapped = list(map(lambda x : x*2 , my_list))\n",
    "mapped"
   ]
  },
  {
   "cell_type": "code",
   "execution_count": 49,
   "id": "49544c6b-f46d-42af-ac09-c57e6d11b198",
   "metadata": {},
   "outputs": [
    {
     "data": {
      "text/plain": [
       "[1, 3, 5]"
      ]
     },
     "execution_count": 49,
     "metadata": {},
     "output_type": "execute_result"
    }
   ],
   "source": [
    "#6. How do you filter out all odd numbers from the list my_list = [1, 2, 3, 4, 5, 6] using the filter function?\n",
    "\n",
    "my_list = [1, 2, 3, 4, 5, 6]\n",
    "filterd = list(filter(lambda x : x%2 != 0 ,my_list))\n",
    "filterd"
   ]
  },
  {
   "cell_type": "code",
   "execution_count": null,
   "id": "bbe6a341-39be-401c-9362-b066072936d2",
   "metadata": {},
   "outputs": [],
   "source": []
  }
 ],
 "metadata": {
  "kernelspec": {
   "display_name": "Python 3 (ipykernel)",
   "language": "python",
   "name": "python3"
  },
  "language_info": {
   "codemirror_mode": {
    "name": "ipython",
    "version": 3
   },
   "file_extension": ".py",
   "mimetype": "text/x-python",
   "name": "python",
   "nbconvert_exporter": "python",
   "pygments_lexer": "ipython3",
   "version": "3.11.7"
  }
 },
 "nbformat": 4,
 "nbformat_minor": 5
}
