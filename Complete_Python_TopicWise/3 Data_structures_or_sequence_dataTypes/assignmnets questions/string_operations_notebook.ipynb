{
 "cells": [
  {
   "cell_type": "markdown",
   "id": "93c7c66f",
   "metadata": {},
   "source": [
    "### Positive Indexing"
   ]
  },
  {
   "cell_type": "code",
   "execution_count": 1,
   "id": "62036c29",
   "metadata": {},
   "outputs": [
    {
     "name": "stdout",
     "output_type": "stream",
     "text": [
      "W\n"
     ]
    }
   ],
   "source": [
    "\n",
    "# Question 1: Given the string `s = \"Hello, World!\"`, what is the character at index 7?\n",
    "s = \"Hello, World!\"\n",
    "character_at_index_7 = s[7]\n",
    "print(character_at_index_7)  # Output: W\n"
   ]
  },
  {
   "cell_type": "markdown",
   "id": "180028b6",
   "metadata": {},
   "source": [
    "### Negative Indexing"
   ]
  },
  {
   "cell_type": "code",
   "execution_count": 2,
   "id": "7a20ef02",
   "metadata": {},
   "outputs": [
    {
     "name": "stdout",
     "output_type": "stream",
     "text": [
      "r\n"
     ]
    }
   ],
   "source": [
    "\n",
    "# Question 2: Given the string `s = \"Hello, World!\"`, what is the character at index -4?\n",
    "s = \"Hello, World!\"\n",
    "character_at_index_negative_4 = s[-4]\n",
    "print(character_at_index_negative_4)  # Output: r\n"
   ]
  },
  {
   "cell_type": "markdown",
   "id": "229e7a00",
   "metadata": {},
   "source": [
    "### Slicing"
   ]
  },
  {
   "cell_type": "code",
   "execution_count": 3,
   "id": "37d26279",
   "metadata": {},
   "outputs": [
    {
     "name": "stdout",
     "output_type": "stream",
     "text": [
      "llo, W\n"
     ]
    }
   ],
   "source": [
    "\n",
    "# Question 3: Given the string `s = \"Hello, World!\"`, what is the substring from index 2 to 8?\n",
    "s = \"Hello, World!\"\n",
    "substring_2_to_8 = s[2:8]\n",
    "print(substring_2_to_8)  # Output: llo, W\n"
   ]
  },
  {
   "cell_type": "code",
   "execution_count": 4,
   "id": "4a848161",
   "metadata": {},
   "outputs": [
    {
     "name": "stdout",
     "output_type": "stream",
     "text": [
      "Hello\n"
     ]
    }
   ],
   "source": [
    "\n",
    "# Question 4: Given the string `s = \"Hello, World!\"`, what is the substring from the start to index 5?\n",
    "s = \"Hello, World!\"\n",
    "substring_start_to_5 = s[:5]\n",
    "print(substring_start_to_5)  # Output: Hello\n"
   ]
  },
  {
   "cell_type": "markdown",
   "id": "602348ca",
   "metadata": {},
   "source": [
    "### String Concatenation"
   ]
  },
  {
   "cell_type": "code",
   "execution_count": 5,
   "id": "d1bac731",
   "metadata": {},
   "outputs": [
    {
     "name": "stdout",
     "output_type": "stream",
     "text": [
      "Hello World\n"
     ]
    }
   ],
   "source": [
    "\n",
    "# Question 5: Concatenate the strings `s1 = \"Hello\"` and `s2 = \"World\"` with a space in between.\n",
    "s1 = \"Hello\"\n",
    "s2 = \"World\"\n",
    "concatenated_string = s1 + \" \" + s2\n",
    "print(concatenated_string)  # Output: Hello World\n"
   ]
  },
  {
   "cell_type": "code",
   "execution_count": 6,
   "id": "611bcdb1",
   "metadata": {},
   "outputs": [
    {
     "name": "stdout",
     "output_type": "stream",
     "text": [
      "Good, Morning\n"
     ]
    }
   ],
   "source": [
    "\n",
    "# Question 6: Concatenate the strings `s1 = \"Good\"` and `s2 = \"Morning\"` with a comma and space in between.\n",
    "s1 = \"Good\"\n",
    "s2 = \"Morning\"\n",
    "concatenated_string = s1 + \", \" + s2\n",
    "print(concatenated_string)  # Output: Good, Morning\n"
   ]
  },
  {
   "cell_type": "markdown",
   "id": "f0020ed4",
   "metadata": {},
   "source": [
    "### Methods in Strings"
   ]
  },
  {
   "cell_type": "code",
   "execution_count": 7,
   "id": "e660679c",
   "metadata": {},
   "outputs": [
    {
     "name": "stdout",
     "output_type": "stream",
     "text": [
      "HELLO\n"
     ]
    }
   ],
   "source": [
    "\n",
    "# Question 7: Given the string `s = \"hello\"`, convert it to uppercase.\n",
    "s = \"hello\"\n",
    "uppercase_string = s.upper()\n",
    "print(uppercase_string)  # Output: HELLO\n"
   ]
  },
  {
   "cell_type": "code",
   "execution_count": 8,
   "id": "0540935d",
   "metadata": {},
   "outputs": [
    {
     "name": "stdout",
     "output_type": "stream",
     "text": [
      "hello\n"
     ]
    }
   ],
   "source": [
    "\n",
    "# Question 8: Given the string `s = \"HELLO\"`, convert it to lowercase.\n",
    "s = \"HELLO\"\n",
    "lowercase_string = s.lower()\n",
    "print(lowercase_string)  # Output: hello\n"
   ]
  },
  {
   "cell_type": "code",
   "execution_count": 9,
   "id": "8c12cac7",
   "metadata": {},
   "outputs": [
    {
     "name": "stdout",
     "output_type": "stream",
     "text": [
      "Hello World\n"
     ]
    }
   ],
   "source": [
    "\n",
    "# Question 9: Given the string `s = \"hello world\"`, capitalize the first letter of each word.\n",
    "s = \"hello world\"\n",
    "capitalized_string = s.title()\n",
    "print(capitalized_string)  # Output: Hello World\n"
   ]
  },
  {
   "cell_type": "markdown",
   "id": "181fdbb8",
   "metadata": {},
   "source": [
    "### Strip Method"
   ]
  },
  {
   "cell_type": "code",
   "execution_count": 10,
   "id": "bddb8748",
   "metadata": {},
   "outputs": [
    {
     "name": "stdout",
     "output_type": "stream",
     "text": [
      "Hello, World!\n"
     ]
    }
   ],
   "source": [
    "\n",
    "# Question 10: Given the string `s = \"  Hello, World!  \"`, remove the leading and trailing whitespace.\n",
    "s = \"  Hello, World!  \"\n",
    "stripped_string = s.strip()\n",
    "print(stripped_string)  # Output: Hello, World!\n"
   ]
  },
  {
   "cell_type": "code",
   "execution_count": 11,
   "id": "85855d61",
   "metadata": {},
   "outputs": [
    {
     "name": "stdout",
     "output_type": "stream",
     "text": [
      "Hello, World\n"
     ]
    }
   ],
   "source": [
    "\n",
    "# Question 11: Given the string `s = \"!!!Hello, World!!!\"`, remove the leading and trailing exclamation marks.\n",
    "s = \"!!!Hello, World!!!\"\n",
    "stripped_string = s.strip(\"!\")\n",
    "print(stripped_string)  # Output: Hello, World\n"
   ]
  },
  {
   "cell_type": "markdown",
   "id": "41294e5a",
   "metadata": {},
   "source": [
    "### Split Method"
   ]
  },
  {
   "cell_type": "code",
   "execution_count": 12,
   "id": "ddfe3078",
   "metadata": {},
   "outputs": [
    {
     "name": "stdout",
     "output_type": "stream",
     "text": [
      "['Hello', 'World', 'How', 'Are', 'You']\n"
     ]
    }
   ],
   "source": [
    "\n",
    "# Question 12: Given the string `s = \"Hello, World, How, Are, You\"`, split the string by commas.\n",
    "s = \"Hello, World, How, Are, You\"\n",
    "split_list = s.split(\", \")\n",
    "print(split_list)  # Output: ['Hello', 'World', 'How', 'Are', 'You']\n"
   ]
  },
  {
   "cell_type": "code",
   "execution_count": 13,
   "id": "f3f15559",
   "metadata": {},
   "outputs": [
    {
     "name": "stdout",
     "output_type": "stream",
     "text": [
      "['apple', 'orange', 'banana']\n"
     ]
    }
   ],
   "source": [
    "\n",
    "# Question 13: Given the string `s = \"apple-orange-banana\"`, split the string by hyphens.\n",
    "s = \"apple-orange-banana\"\n",
    "split_list = s.split(\"-\")\n",
    "print(split_list)  # Output: ['apple', 'orange', 'banana']\n"
   ]
  },
  {
   "cell_type": "markdown",
   "id": "308c0592",
   "metadata": {},
   "source": [
    "### Iteration in Strings"
   ]
  },
  {
   "cell_type": "code",
   "execution_count": 14,
   "id": "53ec6c0c",
   "metadata": {},
   "outputs": [
    {
     "name": "stdout",
     "output_type": "stream",
     "text": [
      "H\n",
      "e\n",
      "l\n",
      "l\n",
      "o\n"
     ]
    }
   ],
   "source": [
    "\n",
    "# Question 14: Print each character of the string `s = \"Hello\"` on a new line.\n",
    "s = \"Hello\"\n",
    "for character in s:\n",
    "    print(character)\n",
    "# Output:\n",
    "# H\n",
    "# e\n",
    "# l\n",
    "# l\n",
    "# o\n"
   ]
  },
  {
   "cell_type": "code",
   "execution_count": 15,
   "id": "3ebde1ed",
   "metadata": {},
   "outputs": [
    {
     "name": "stdout",
     "output_type": "stream",
     "text": [
      "3\n"
     ]
    }
   ],
   "source": [
    "\n",
    "# Question 15: Count the number of vowels in the string `s = \"Hello, World!\"`.\n",
    "s = \"Hello, World!\"\n",
    "vowels = \"aeiouAEIOU\"\n",
    "vowel_count = 0\n",
    "for character in s:\n",
    "    if (character in vowels):\n",
    "        vowel_count += 1\n",
    "print(vowel_count)  # Output: 3\n"
   ]
  },
  {
   "cell_type": "code",
   "execution_count": 16,
   "id": "40c47adb-d838-45a6-8c0e-adb79f22e2e0",
   "metadata": {},
   "outputs": [
    {
     "name": "stdout",
     "output_type": "stream",
     "text": [
      "dlrow olleh\n"
     ]
    }
   ],
   "source": [
    "# Question 16: Given a string s = \"hello world\", reverse the string without using any built-in functions or slicing.\n",
    "s = \"hello world\"\n",
    "reversed_string = \"\"\n",
    "for char in s:\n",
    "    reversed_string = char + reversed_string\n",
    "print(reversed_string)  # Output: dlrow olleh\n"
   ]
  },
  {
   "cell_type": "code",
   "execution_count": 17,
   "id": "8fe8df4c-8a6a-49f5-b546-c7152d9313b7",
   "metadata": {},
   "outputs": [
    {
     "name": "stdout",
     "output_type": "stream",
     "text": [
      "a: 1\n",
      "p: 2\n",
      "l: 1\n",
      "e: 1\n"
     ]
    }
   ],
   "source": [
    "# Question 17: Given a string s = \"apple\", count the number of occurrences of each character without using any built-in functions.\n",
    "s = \"apple\"\n",
    "char_count = {}\n",
    "for char in s:\n",
    "    if char in char_count:\n",
    "        char_count[char] += 1\n",
    "    else:\n",
    "        char_count[char] = 1\n",
    "for char in char_count:\n",
    "    print(f\"{char}: {char_count[char]}\")\n",
    "# Output:\n",
    "# a: 1\n",
    "# p: 2\n",
    "# l: 1\n",
    "# e: 1\n"
   ]
  },
  {
   "cell_type": "code",
   "execution_count": 19,
   "id": "39cecb77-f6c9-47e4-ad79-f4302c49b79f",
   "metadata": {},
   "outputs": [
    {
     "name": "stdout",
     "output_type": "stream",
     "text": [
      "Letters: abcxyz\n",
      "Digits: 123\n"
     ]
    }
   ],
   "source": [
    "# Question 18: Given a string s = \"abc123xyz\", separate the characters into two strings, one containing only letters and the other containing only digits, without using any built-in functions.\n",
    "s = \"abc123xyz\"\n",
    "letters = \"\"\n",
    "digits = \"\"\n",
    "for char in s:\n",
    "    if '0' <= char <= '9':\n",
    "        digits += char\n",
    "    elif 'a' <= char <= 'z' or 'A' <= char <= 'Z':\n",
    "        letters += char\n",
    "print(\"Letters:\", letters)  # Output: abcxyz\n",
    "print(\"Digits:\", digits)    # Output: 123\n"
   ]
  },
  {
   "cell_type": "code",
   "execution_count": null,
   "id": "27d0bd84-e6f5-4c40-a45b-48fec70dd53b",
   "metadata": {},
   "outputs": [],
   "source": []
  }
 ],
 "metadata": {
  "kernelspec": {
   "display_name": "Python 3 (ipykernel)",
   "language": "python",
   "name": "python3"
  },
  "language_info": {
   "codemirror_mode": {
    "name": "ipython",
    "version": 3
   },
   "file_extension": ".py",
   "mimetype": "text/x-python",
   "name": "python",
   "nbconvert_exporter": "python",
   "pygments_lexer": "ipython3",
   "version": "3.11.7"
  },
  "widgets": {
   "application/vnd.jupyter.widget-state+json": {
    "state": {},
    "version_major": 2,
    "version_minor": 0
   }
  }
 },
 "nbformat": 4,
 "nbformat_minor": 5
}
