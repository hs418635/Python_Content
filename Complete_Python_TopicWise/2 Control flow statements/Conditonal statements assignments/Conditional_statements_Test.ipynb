{
 "cells": [
  {
   "cell_type": "markdown",
   "id": "6881d4fd-7c9c-4d5a-b917-6a42e3c07521",
   "metadata": {},
   "source": [
    "### If-Else Practice Questions"
   ]
  },
  {
   "cell_type": "code",
   "execution_count": 6,
   "id": "238a410d-3381-48d5-987c-7ae1e439f1f3",
   "metadata": {},
   "outputs": [],
   "source": [
    "# Write a Python program to check if a number 27 is odd or even.\n",
    "num = 27\n",
    "# Your code here"
   ]
  },
  {
   "cell_type": "code",
   "execution_count": 7,
   "id": "4ab37d3b-7368-48dc-b813-fb1935ec47bd",
   "metadata": {},
   "outputs": [],
   "source": [
    "# Write a Python program to check if a number -45 is positive or negative.\n",
    "num = -45\n",
    "# Your code here\n"
   ]
  },
  {
   "cell_type": "code",
   "execution_count": 8,
   "id": "3cd2d45b-1644-4cca-8e5c-6940bca604f6",
   "metadata": {},
   "outputs": [],
   "source": [
    "# Write a Python program to find the greater number between 34 and 29.\n",
    "num1 = 34\n",
    "num2 = 29\n",
    "# Your code here\n"
   ]
  },
  {
   "cell_type": "code",
   "execution_count": 9,
   "id": "05de37dc-369c-4556-8299-009e2c4bb4cf",
   "metadata": {},
   "outputs": [],
   "source": [
    "# Write a Python program to check if a number 48 is divisible by 6.\n",
    "num = 48\n",
    "# Your code here\n"
   ]
  },
  {
   "cell_type": "code",
   "execution_count": 10,
   "id": "74b6c203-1d85-4da7-9658-de74b6bb10ce",
   "metadata": {},
   "outputs": [],
   "source": [
    "# Write a Python program to check if a character 'e' is a vowel or consonant.\n",
    "char = 'e'\n",
    "# Your code here\n"
   ]
  },
  {
   "cell_type": "markdown",
   "id": "94dfd712-1033-4885-b859-63f4cc0e0f8e",
   "metadata": {},
   "source": [
    "### If-Elif-Else Practice Questions"
   ]
  },
  {
   "cell_type": "code",
   "execution_count": 22,
   "id": "ecaed751-184b-4704-8720-da12360f091f",
   "metadata": {},
   "outputs": [],
   "source": [
    "# Write a Python program to assign grades based on the score 85 (A: 90-100, B: 80-89, C: 70-79, D: 60-69, F: <60).\n",
    "score = 85\n",
    "# Your code here\n"
   ]
  },
  {
   "cell_type": "code",
   "execution_count": 23,
   "id": "f6d45842-0585-4b20-9189-bfc70fd543cf",
   "metadata": {},
   "outputs": [],
   "source": [
    "# Write a Python program to determine the day of the week given a number 4 (1 for Monday, 2 for Tuesday, ..., 7 for Sunday).\n",
    "day_number = 4\n",
    "# Your code here\n"
   ]
  },
  {
   "cell_type": "code",
   "execution_count": 24,
   "id": "84f9f7e2-91ea-4d9d-a8c3-ccc3b5e7df93",
   "metadata": {},
   "outputs": [],
   "source": [
    "# Write a Python program to check if the temperature 30 is cold (< 15), warm (15-25), or hot (> 25).\n",
    "temperature = 30\n",
    "# Your code here\n"
   ]
  },
  {
   "cell_type": "code",
   "execution_count": 25,
   "id": "3b2bd475-83f8-4cf0-94d2-27d80f966729",
   "metadata": {},
   "outputs": [],
   "source": [
    "# Write a Python program to determine the age group of a person who is 23 years old (Child: 0-12, Teen: 13-19, Adult: 20-59, Senior: 60+).\n",
    "age = 23\n",
    "# Your code here\n"
   ]
  },
  {
   "cell_type": "code",
   "execution_count": 26,
   "id": "33d7b767-4295-44e5-a28c-9c19639cbcd1",
   "metadata": {},
   "outputs": [],
   "source": [
    "# Write a Python program to determine the action based on traffic light color 'red' (red: stop, yellow: slow down, green: go).\n",
    "light_color = 'red'\n",
    "# Your code here\n"
   ]
  },
  {
   "cell_type": "markdown",
   "id": "a68b6d9f-9059-4eb0-8781-23db60df8bc3",
   "metadata": {},
   "source": [
    "### Nested If Practice Questions"
   ]
  },
  {
   "cell_type": "code",
   "execution_count": 27,
   "id": "6e0ef114-cc23-4f05-aee6-b384dee98b4e",
   "metadata": {},
   "outputs": [],
   "source": [
    "# Write a Python program to check if a year 2000 is a leap year. (Hint: A year is leap if it is divisible by 4 but not 100, except when it is divisible by 400).\n",
    "year = 2000\n",
    "# Your code here\n"
   ]
  },
  {
   "cell_type": "code",
   "execution_count": 28,
   "id": "a5a2e298-5dfc-42fd-8a43-a6e8b53b1cbb",
   "metadata": {},
   "outputs": [],
   "source": [
    "# Write a Python program to classify a number -3 as positive, negative, or zero and also check if it is even or odd.\n",
    "num = -3\n",
    "# Your code here\n"
   ]
  },
  {
   "cell_type": "code",
   "execution_count": 30,
   "id": "1d3d9471-1f7d-4eec-80ce-5e1d4453c42e",
   "metadata": {},
   "outputs": [],
   "source": [
    "# Write a Python program to check if a person aged 20 is eligible to vote and if they are eligible for a senior citizen discount (age 60 or older).\n",
    "age = 20\n",
    "# Your code here\n"
   ]
  }
 ],
 "metadata": {
  "kernelspec": {
   "display_name": "Python 3 (ipykernel)",
   "language": "python",
   "name": "python3"
  },
  "language_info": {
   "codemirror_mode": {
    "name": "ipython",
    "version": 3
   },
   "file_extension": ".py",
   "mimetype": "text/x-python",
   "name": "python",
   "nbconvert_exporter": "python",
   "pygments_lexer": "ipython3",
   "version": "3.11.7"
  },
  "widgets": {
   "application/vnd.jupyter.widget-state+json": {
    "state": {},
    "version_major": 2,
    "version_minor": 0
   }
  }
 },
 "nbformat": 4,
 "nbformat_minor": 5
}
