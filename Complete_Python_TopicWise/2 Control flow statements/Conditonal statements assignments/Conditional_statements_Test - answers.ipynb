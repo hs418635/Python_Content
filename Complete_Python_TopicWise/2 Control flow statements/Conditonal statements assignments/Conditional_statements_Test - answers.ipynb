{
 "cells": [
  {
   "cell_type": "markdown",
   "id": "6881d4fd-7c9c-4d5a-b917-6a42e3c07521",
   "metadata": {},
   "source": [
    "### If-Else Practice Questions"
   ]
  },
  {
   "cell_type": "code",
   "execution_count": 1,
   "id": "238a410d-3381-48d5-987c-7ae1e439f1f3",
   "metadata": {},
   "outputs": [
    {
     "name": "stdout",
     "output_type": "stream",
     "text": [
      "27 is odd\n"
     ]
    }
   ],
   "source": [
    "# Write a Python program to check if a number 27 is odd or even.\n",
    "num = 27\n",
    "if num % 2 == 0:\n",
    "    print(f\"{num} is even\")\n",
    "else:\n",
    "    print(f\"{num} is odd\")  # Output: 27 is odd\n"
   ]
  },
  {
   "cell_type": "code",
   "execution_count": 2,
   "id": "4ab37d3b-7368-48dc-b813-fb1935ec47bd",
   "metadata": {},
   "outputs": [
    {
     "name": "stdout",
     "output_type": "stream",
     "text": [
      "-45 is negative\n"
     ]
    }
   ],
   "source": [
    "# Write a Python program to check if a number -45 is positive or negative.\n",
    "num = -45\n",
    "if num >= 0:\n",
    "    print(f\"{num} is positive\")\n",
    "else:\n",
    "    print(f\"{num} is negative\")  # Output: -45 is negative\n",
    "\n"
   ]
  },
  {
   "cell_type": "code",
   "execution_count": 3,
   "id": "3cd2d45b-1644-4cca-8e5c-6940bca604f6",
   "metadata": {},
   "outputs": [
    {
     "name": "stdout",
     "output_type": "stream",
     "text": [
      "34 is greater than 29\n"
     ]
    }
   ],
   "source": [
    "# Write a Python program to find the greater number between 34 and 29.\n",
    "num1 = 34\n",
    "num2 = 29\n",
    "if num1 > num2:\n",
    "    print(f\"{num1} is greater than {num2}\")  # Output: 34 is greater than 29\n",
    "else:\n",
    "    print(f\"{num2} is greater than {num1}\")\n",
    "\n"
   ]
  },
  {
   "cell_type": "code",
   "execution_count": 4,
   "id": "05de37dc-369c-4556-8299-009e2c4bb4cf",
   "metadata": {},
   "outputs": [
    {
     "name": "stdout",
     "output_type": "stream",
     "text": [
      "48 is divisible by 6\n"
     ]
    }
   ],
   "source": [
    "# Write a Python program to check if a number 48 is divisible by 6.\n",
    "num = 48\n",
    "if num % 6 == 0:\n",
    "    print(f\"{num} is divisible by 6\")  # Output: 48 is divisible by 6\n",
    "else:\n",
    "    print(f\"{num} is not divisible by 6\")\n",
    "\n"
   ]
  },
  {
   "cell_type": "code",
   "execution_count": 5,
   "id": "74b6c203-1d85-4da7-9658-de74b6bb10ce",
   "metadata": {},
   "outputs": [
    {
     "name": "stdout",
     "output_type": "stream",
     "text": [
      "e is a vowel\n"
     ]
    }
   ],
   "source": [
    "# Write a Python program to check if a character 'e' is a vowel or consonant.\n",
    "char = 'e'\n",
    "if char in 'aeiou':\n",
    "    print(f\"{char} is a vowel\")  # Output: e is a vowel\n",
    "else:\n",
    "    print(f\"{char} is a consonant\")\n",
    "\n"
   ]
  },
  {
   "cell_type": "markdown",
   "id": "94dfd712-1033-4885-b859-63f4cc0e0f8e",
   "metadata": {},
   "source": [
    "### If-Elif-Else Practice Questions"
   ]
  },
  {
   "cell_type": "code",
   "execution_count": 6,
   "id": "ecaed751-184b-4704-8720-da12360f091f",
   "metadata": {},
   "outputs": [
    {
     "name": "stdout",
     "output_type": "stream",
     "text": [
      "Grade: B\n"
     ]
    }
   ],
   "source": [
    "# Write a Python program to assign grades based on the score 85 (A: 90-100, B: 80-89, C: 70-79, D: 60-69, F: <60).\n",
    "score = 85\n",
    "if score >= 90:\n",
    "    print(\"Grade: A\")\n",
    "elif score >= 80:\n",
    "    print(\"Grade: B\")  # Output: Grade: B\n",
    "elif score >= 70:\n",
    "    print(\"Grade: C\")\n",
    "elif score >= 60:\n",
    "    print(\"Grade: D\")\n",
    "else:\n",
    "    print(\"Grade: F\")\n",
    "\n"
   ]
  },
  {
   "cell_type": "code",
   "execution_count": 7,
   "id": "f6d45842-0585-4b20-9189-bfc70fd543cf",
   "metadata": {},
   "outputs": [
    {
     "name": "stdout",
     "output_type": "stream",
     "text": [
      "Thursday\n"
     ]
    }
   ],
   "source": [
    "# Write a Python program to determine the day of the week given a number 4 (1 for Monday, 2 for Tuesday, ..., 7 for Sunday).\n",
    "day_number = 4\n",
    "if day_number == 1:\n",
    "    print(\"Monday\")\n",
    "elif day_number == 2:\n",
    "    print(\"Tuesday\")\n",
    "elif day_number == 3:\n",
    "    print(\"Wednesday\")\n",
    "elif day_number == 4:\n",
    "    print(\"Thursday\")  # Output: Thursday\n",
    "elif day_number == 5:\n",
    "    print(\"Friday\")\n",
    "elif day_number == 6:\n",
    "    print(\"Saturday\")\n",
    "elif day_number == 7:\n",
    "    print(\"Sunday\")\n",
    "else:\n",
    "    print(\"Invalid day number\")\n",
    "\n"
   ]
  },
  {
   "cell_type": "code",
   "execution_count": 8,
   "id": "84f9f7e2-91ea-4d9d-a8c3-ccc3b5e7df93",
   "metadata": {},
   "outputs": [
    {
     "name": "stdout",
     "output_type": "stream",
     "text": [
      "Hot\n"
     ]
    }
   ],
   "source": [
    "# Write a Python program to check if the temperature 30 is cold (< 15), warm (15-25), or hot (> 25).\n",
    "temperature = 30\n",
    "if temperature < 15:\n",
    "    print(\"Cold\")\n",
    "elif temperature <= 25:\n",
    "    print(\"Warm\")\n",
    "else:\n",
    "    print(\"Hot\")  # Output: Hot\n",
    "\n"
   ]
  },
  {
   "cell_type": "code",
   "execution_count": 9,
   "id": "3b2bd475-83f8-4cf0-94d2-27d80f966729",
   "metadata": {},
   "outputs": [
    {
     "name": "stdout",
     "output_type": "stream",
     "text": [
      "Adult\n"
     ]
    }
   ],
   "source": [
    "# Write a Python program to determine the age group of a person who is 23 years old (Child: 0-12, Teen: 13-19, Adult: 20-59, Senior: 60+).\n",
    "age = 23\n",
    "if age <= 12:\n",
    "    print(\"Child\")\n",
    "elif age <= 19:\n",
    "    print(\"Teen\")\n",
    "elif age <= 59:\n",
    "    print(\"Adult\")  # Output: Adult\n",
    "else:\n",
    "    print(\"Senior\")\n",
    "\n"
   ]
  },
  {
   "cell_type": "code",
   "execution_count": 10,
   "id": "33d7b767-4295-44e5-a28c-9c19639cbcd1",
   "metadata": {},
   "outputs": [
    {
     "name": "stdout",
     "output_type": "stream",
     "text": [
      "Stop\n"
     ]
    }
   ],
   "source": [
    "# Write a Python program to determine the action based on traffic light color 'red' (red: stop, yellow: slow down, green: go).\n",
    "light_color = 'red'\n",
    "if light_color == 'red':\n",
    "    print(\"Stop\")  # Output: Stop\n",
    "elif light_color == 'yellow':\n",
    "    print(\"Slow down\")\n",
    "elif light_color == 'green':\n",
    "    print(\"Go\")\n",
    "else:\n",
    "    print(\"Invalid color\")\n",
    "\n"
   ]
  },
  {
   "cell_type": "markdown",
   "id": "a68b6d9f-9059-4eb0-8781-23db60df8bc3",
   "metadata": {},
   "source": [
    "### Nested If Practice Questions"
   ]
  },
  {
   "cell_type": "code",
   "execution_count": 5,
   "id": "6e0ef114-cc23-4f05-aee6-b384dee98b4e",
   "metadata": {},
   "outputs": [
    {
     "name": "stdout",
     "output_type": "stream",
     "text": [
      "2000 is a leap year\n"
     ]
    }
   ],
   "source": [
    "# Write a Python program to check if a year 2000 is a leap year. (Hint: A year is leap if it is divisible by 4 but not 100, except when it is divisible by 400).\n",
    "year = 2000\n",
    "if year % 4 == 0:\n",
    "    if year % 100 != 0:\n",
    "        if year % 400 == 0:\n",
    "            print(f\"{year} is a leap year\")  # Output: 2000 is a leap year\n",
    "        else:\n",
    "            print(f\"{year} is not a leap year\")\n",
    "    else:\n",
    "        print(f\"{year} is a leap year\")\n",
    "else:\n",
    "    print(f\"{year} is not a leap year\")"
   ]
  },
  {
   "cell_type": "code",
   "execution_count": 3,
   "id": "a5a2e298-5dfc-42fd-8a43-a6e8b53b1cbb",
   "metadata": {},
   "outputs": [
    {
     "name": "stdout",
     "output_type": "stream",
     "text": [
      "-3 is negative and odd\n"
     ]
    }
   ],
   "source": [
    "# Write a Python program to classify a number -3 as positive, negative, or zero and also check if it is even or odd.\n",
    "num = -3\n",
    "if num > 0:\n",
    "    if num % 2 == 0:\n",
    "        print(f\"{num} is positive and even\")\n",
    "    else:\n",
    "        print(f\"{num} is positive and odd\")\n",
    "elif num < 0:\n",
    "    if num % 2 == 0:\n",
    "        print(f\"{num} is negative and even\")\n",
    "    else:\n",
    "        print(f\"{num} is negative and odd\")  # Output: -3 is negative and odd\n",
    "else:\n",
    "    print(f\"{num} is zero\")\n",
    "\n"
   ]
  },
  {
   "cell_type": "code",
   "execution_count": 14,
   "id": "1d3d9471-1f7d-4eec-80ce-5e1d4453c42e",
   "metadata": {},
   "outputs": [
    {
     "name": "stdout",
     "output_type": "stream",
     "text": [
      "Eligible to vote\n",
      "Not eligible for senior citizen discount\n"
     ]
    }
   ],
   "source": [
    "# Write a Python program to check if a person aged 20 is eligible to vote and if they are eligible for a senior citizen discount (age 60 or older).\n",
    "age = 20\n",
    "if age >= 18:\n",
    "    print(\"Eligible to vote\")  # Output: Eligible to vote\n",
    "    if age >= 60:\n",
    "        print(\"Eligible for senior citizen discount\")\n",
    "    else:\n",
    "        print(\"Not eligible for senior citizen discount\")\n",
    "else:\n",
    "    print(\"Not eligible to vote\")\n",
    "\n"
   ]
  },
  {
   "cell_type": "code",
   "execution_count": null,
   "id": "f491017d-2359-409b-ab68-660130fd9723",
   "metadata": {},
   "outputs": [],
   "source": []
  }
 ],
 "metadata": {
  "kernelspec": {
   "display_name": "Python 3 (ipykernel)",
   "language": "python",
   "name": "python3"
  },
  "language_info": {
   "codemirror_mode": {
    "name": "ipython",
    "version": 3
   },
   "file_extension": ".py",
   "mimetype": "text/x-python",
   "name": "python",
   "nbconvert_exporter": "python",
   "pygments_lexer": "ipython3",
   "version": "3.11.7"
  },
  "widgets": {
   "application/vnd.jupyter.widget-state+json": {
    "state": {},
    "version_major": 2,
    "version_minor": 0
   }
  }
 },
 "nbformat": 4,
 "nbformat_minor": 5
}
