{
 "cells": [
  {
   "cell_type": "raw",
   "id": "f06844ce-788f-4a3e-8b44-58efafe5c83b",
   "metadata": {},
   "source": [
    "Conditional statements (if , elif , else etc) are the fundamental programming constructer that allow you to control the flow of programm based\n",
    "on the condition specified by you."
   ]
  },
  {
   "cell_type": "markdown",
   "id": "2b5317a5",
   "metadata": {
    "jp-MarkdownHeadingCollapsed": true
   },
   "source": [
    "### simple if\n",
    "\n",
    "It will execute when condition is true"
   ]
  },
  {
   "cell_type": "code",
   "execution_count": 1,
   "id": "48dc64b6",
   "metadata": {},
   "outputs": [
    {
     "name": "stdout",
     "output_type": "stream",
     "text": [
      "a is greater\n"
     ]
    }
   ],
   "source": [
    "a= 100\n",
    "b= 90\n",
    "if a>b:\n",
    "    print(\"a is greater\")"
   ]
  },
  {
   "cell_type": "markdown",
   "id": "42c757ee",
   "metadata": {
    "jp-MarkdownHeadingCollapsed": true
   },
   "source": [
    "### if else \n",
    "If condition is true , if block will get executed otherwise else block will get executed.\n",
    "\n",
    "Condition never comes in else block"
   ]
  },
  {
   "cell_type": "code",
   "execution_count": 4,
   "id": "0bf00b59",
   "metadata": {},
   "outputs": [
    {
     "name": "stdout",
     "output_type": "stream",
     "text": [
      "enter ex 6\n",
      " enter salary 400000\n",
      "your total bonus is: 20000.0\n"
     ]
    }
   ],
   "source": [
    "y=int(input(\"enter ex \"))\n",
    "s=int(input(\" enter salary \"))\n",
    "if y>=5:\n",
    "    print(\"your total bonus is:\",0.05*s)\n",
    "else:\n",
    "    print(\"not eligible for bonus:\")"
   ]
  },
  {
   "cell_type": "code",
   "execution_count": 3,
   "id": "20eae24a",
   "metadata": {},
   "outputs": [
    {
     "name": "stdout",
     "output_type": "stream",
     "text": [
      "enter length\n"
     ]
    },
    {
     "name": "stdin",
     "output_type": "stream",
     "text": [
      " 5\n"
     ]
    },
    {
     "name": "stdout",
     "output_type": "stream",
     "text": [
      "enter breadth\n"
     ]
    },
    {
     "name": "stdin",
     "output_type": "stream",
     "text": [
      " 5\n"
     ]
    },
    {
     "name": "stdout",
     "output_type": "stream",
     "text": [
      "its a square\n"
     ]
    }
   ],
   "source": [
    "#Q1) Take values of length and breadth  from user and check if it is square or not.\n",
    "print('enter length')\n",
    "L=input()\n",
    "print('enter breadth')\n",
    "B=input()\n",
    "if L==B:\n",
    "    print('its a square')\n",
    "else:\n",
    "    print('its a recatangle')"
   ]
  },
  {
   "cell_type": "code",
   "execution_count": 2,
   "id": "8baf4449",
   "metadata": {},
   "outputs": [
    {
     "name": "stdin",
     "output_type": "stream",
     "text": [
      " enter number of qty to be purchased:  100\n"
     ]
    },
    {
     "name": "stdout",
     "output_type": "stream",
     "text": [
      "total cost for your purchased qty is 9000 \n"
     ]
    }
   ],
   "source": [
    "# Q2) A shop will give discount of 10% if the cost of purchased quantity is more than 1000.\n",
    "# Ask user for quantity\n",
    "# Suppose, one unit will cost 100.\n",
    "# Judge and print total cost for user.\n",
    "\n",
    "Q = int(input(' enter number of qty to be purchased: '))\n",
    "if Q>=10:\n",
    "    p=90*Q #because 1 unit costs 100rs so it becomes 90rs after applying 10% discount\n",
    "    print(f\"total cost for your purchased qty is {p} \")\n",
    "else:\n",
    "    k=100*Q\n",
    "    print(f'total cost for your purchased qty is {k}')\n",
    "    print('sorry dicounts was not applicable below 10 qty...visit again :)')\n",
    "    "
   ]
  },
  {
   "cell_type": "markdown",
   "id": "e8d96f89-197d-41d3-b9dc-4dccc50a4690",
   "metadata": {
    "jp-MarkdownHeadingCollapsed": true
   },
   "source": [
    "### if else ladder or if elif else\n",
    "\n",
    "It is used to check multiple condition"
   ]
  },
  {
   "cell_type": "code",
   "execution_count": 1,
   "id": "794aa22d",
   "metadata": {},
   "outputs": [
    {
     "name": "stdin",
     "output_type": "stream",
     "text": [
      "Enter the first number:  5\n",
      "Enter the second number:  4\n"
     ]
    },
    {
     "name": "stdout",
     "output_type": "stream",
     "text": [
      "The greatest number is: 5\n"
     ]
    }
   ],
   "source": [
    "#Q3) Take two int values from user and print greatest among them\n",
    "\n",
    "# Take input from the user\n",
    "num1 = int(input(\"Enter the first number: \"))\n",
    "num2 = int(input(\"Enter the second number: \"))\n",
    "\n",
    "# Compare the two numbers and print the greatest one\n",
    "if num1 > num2:\n",
    "    print(\"The greatest number is:\", num1)\n",
    "elif num2 > num1:\n",
    "    print(\"The greatest number is:\", num2)\n",
    "else:\n",
    "    print(\"Both numbers are equal.\")"
   ]
  },
  {
   "cell_type": "code",
   "execution_count": 10,
   "id": "046600bd",
   "metadata": {},
   "outputs": [
    {
     "name": "stdout",
     "output_type": "stream",
     "text": [
      "0:g,1:1,2:2,3:32\n",
      "you are on the 2nd floor\n"
     ]
    }
   ],
   "source": [
    "# lift programm \n",
    "f=int(input(\"0:g,1:1,2:2,3:3\"))\n",
    "if f==0:\n",
    "    print(\"you are ground floor\")\n",
    "elif (f==1):\n",
    "    print(\"1 floor\")\n",
    "elif f==2:\n",
    "    print(\"you are on the 2nd floor\")\n",
    "elif f==3:\n",
    "    print(\"you are top floor\")\n",
    "    \n",
    "else:\n",
    "    print(\"invalid input\")"
   ]
  },
  {
   "cell_type": "code",
   "execution_count": 12,
   "id": "3b846386",
   "metadata": {},
   "outputs": [
    {
     "name": "stdout",
     "output_type": "stream",
     "text": [
      "enter marks50\n",
      "Grade D \n"
     ]
    }
   ],
   "source": [
    "# 5.\n",
    "# A school has following rules for grading system:\n",
    "# a. Below 25 - F\n",
    "# b. 25 to 45 - E\n",
    "# c. 45 to 50 - D\n",
    "# d. 50 to 60 - C\n",
    "# e. 60 to 80 - B\n",
    "# f. Above 80 - A\n",
    "#Ask user to enter marks and print the corresponding grade.\n",
    "\n",
    "m=int(input('enter marks'))\n",
    "if 25<m<=45:\n",
    "    print('Grade E ')\n",
    "elif 45<m<=50:\n",
    "    print('Grade D ')\n",
    "elif 50<m<=60:\n",
    "    print('Grade c ')\n",
    "elif 60<m<80:\n",
    "    print('Grade B ')\n",
    "elif m>80:\n",
    "    print('grade A ')\n",
    "elif m<25:\n",
    "    print('Grade F ')\n",
    "else:\n",
    "    print('enter correct marks ')"
   ]
  },
  {
   "cell_type": "markdown",
   "id": "24eb8b03-9d13-4796-8fe7-10472ef9284d",
   "metadata": {
    "jp-MarkdownHeadingCollapsed": true
   },
   "source": [
    "### nested_if\n",
    "\n",
    "if inside if"
   ]
  },
  {
   "cell_type": "code",
   "execution_count": 14,
   "id": "bc048a38",
   "metadata": {},
   "outputs": [
    {
     "name": "stdin",
     "output_type": "stream",
     "text": [
      "enter username:\n",
      " 5\n"
     ]
    },
    {
     "name": "stdout",
     "output_type": "stream",
     "text": [
      "user not found\n"
     ]
    }
   ],
   "source": [
    "userName = input(\"enter username:\\n\")\n",
    "\n",
    "if userName == 'abc@123':\n",
    "    print(\"user matched !\")\n",
    "    password = input(\"enter password:\\n\")\n",
    "\n",
    "    if password == 'root@123':\n",
    "        print(\"login successfull\")\n",
    "    else:\n",
    "        print(\"wrong password\")\n",
    "else:\n",
    "    print(\"user not found\")"
   ]
  },
  {
   "cell_type": "code",
   "execution_count": 24,
   "id": "43dce1af-f044-46fc-917f-9c45199bdfdd",
   "metadata": {},
   "outputs": [
    {
     "name": "stdin",
     "output_type": "stream",
     "text": [
      "enter three digit number 234\n"
     ]
    },
    {
     "name": "stdout",
     "output_type": "stream",
     "text": [
      "sum of digits is: 9\n"
     ]
    }
   ],
   "source": [
    "# write a program to find the sum of digits of three digit given number using if else only\n",
    "\n",
    "num = int(input(\"enter three digit number\"))\n",
    "temp = num\n",
    "\n",
    "if 99<num<=999:\n",
    "    d1 = temp//100\n",
    "    d2 = (temp%100)//10\n",
    "    d3 = num%10\n",
    "    sum = d1 + d2 + d3\n",
    "    print(\"sum of digits is:\",sum)\n",
    "else:\n",
    "    print(\"enter valid number\")"
   ]
  }
 ],
 "metadata": {
  "kernelspec": {
   "display_name": "Python 3 (ipykernel)",
   "language": "python",
   "name": "python3"
  },
  "language_info": {
   "codemirror_mode": {
    "name": "ipython",
    "version": 3
   },
   "file_extension": ".py",
   "mimetype": "text/x-python",
   "name": "python",
   "nbconvert_exporter": "python",
   "pygments_lexer": "ipython3",
   "version": "3.11.7"
  },
  "widgets": {
   "application/vnd.jupyter.widget-state+json": {
    "state": {},
    "version_major": 2,
    "version_minor": 0
   }
  }
 },
 "nbformat": 4,
 "nbformat_minor": 5
}
