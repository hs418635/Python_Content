{
 "cells": [
  {
   "cell_type": "markdown",
   "id": "f804fb3d",
   "metadata": {},
   "source": [
    "## While Loop Practice Assignment"
   ]
  },
  {
   "cell_type": "markdown",
   "id": "5cbeb491",
   "metadata": {},
   "source": [
    "##### 1. Question\n",
    "\n",
    "Print numbers from 1 to 10 using a while loop."
   ]
  },
  {
   "cell_type": "code",
   "execution_count": 4,
   "id": "80914ed7",
   "metadata": {},
   "outputs": [
    {
     "name": "stdout",
     "output_type": "stream",
     "text": [
      "1\n",
      "2\n",
      "3\n",
      "4\n",
      "5\n",
      "6\n",
      "7\n",
      "8\n",
      "9\n",
      "10\n"
     ]
    }
   ],
   "source": [
    "i = 1\n",
    "while i <= 10:\n",
    "    print(i)\n",
    "    i += 1"
   ]
  },
  {
   "cell_type": "markdown",
   "id": "a4c7b90a",
   "metadata": {},
   "source": [
    "##### 2. Question\n",
    "\n",
    "Print even numbers between 1 and 20 using a while loop."
   ]
  },
  {
   "cell_type": "code",
   "execution_count": 5,
   "id": "a4c9946a",
   "metadata": {},
   "outputs": [
    {
     "name": "stdout",
     "output_type": "stream",
     "text": [
      "2\n",
      "4\n",
      "6\n",
      "8\n",
      "10\n",
      "12\n",
      "14\n",
      "16\n",
      "18\n",
      "20\n"
     ]
    }
   ],
   "source": [
    "i = 2\n",
    "while i <= 20:\n",
    "    print(i)\n",
    "    i += 2"
   ]
  },
  {
   "cell_type": "markdown",
   "id": "c6dd8e81",
   "metadata": {},
   "source": [
    "##### 3. Question\n",
    "\n",
    "Print odd numbers between 1 and 20 using a while loop."
   ]
  },
  {
   "cell_type": "code",
   "execution_count": 6,
   "id": "bcd43d1f",
   "metadata": {},
   "outputs": [
    {
     "name": "stdout",
     "output_type": "stream",
     "text": [
      "1\n",
      "3\n",
      "5\n",
      "7\n",
      "9\n",
      "11\n",
      "13\n",
      "15\n",
      "17\n",
      "19\n"
     ]
    }
   ],
   "source": [
    "i = 1\n",
    "while i <= 20:\n",
    "    print(i)\n",
    "    i += 2"
   ]
  },
  {
   "cell_type": "markdown",
   "id": "6cb2163b",
   "metadata": {},
   "source": [
    "##### 4. Question\n",
    "\n",
    "Calculate the sum of the first 10 natural numbers using a while loop."
   ]
  },
  {
   "cell_type": "code",
   "execution_count": 7,
   "id": "fcfd622e",
   "metadata": {},
   "outputs": [
    {
     "name": "stdout",
     "output_type": "stream",
     "text": [
      "55\n"
     ]
    }
   ],
   "source": [
    "i = 1\n",
    "total = 0\n",
    "while i <= 10:\n",
    "    total += i\n",
    "    i += 1\n",
    "print(total)"
   ]
  },
  {
   "cell_type": "markdown",
   "id": "d8e084ec",
   "metadata": {},
   "source": [
    "##### 5. Question\n",
    "\n",
    "Print the multiplication table of 5 using a while loop."
   ]
  },
  {
   "cell_type": "code",
   "execution_count": 8,
   "id": "a9bf0cf0",
   "metadata": {},
   "outputs": [
    {
     "name": "stdout",
     "output_type": "stream",
     "text": [
      "5 x 1 = 5\n",
      "5 x 2 = 10\n",
      "5 x 3 = 15\n",
      "5 x 4 = 20\n",
      "5 x 5 = 25\n",
      "5 x 6 = 30\n",
      "5 x 7 = 35\n",
      "5 x 8 = 40\n",
      "5 x 9 = 45\n",
      "5 x 10 = 50\n"
     ]
    }
   ],
   "source": [
    "i = 1\n",
    "while i <= 10:\n",
    "    print(f\"5 x {i} = {5 * i}\")\n",
    "    i += 1"
   ]
  },
  {
   "cell_type": "markdown",
   "id": "5a52e010",
   "metadata": {},
   "source": [
    "##### 6. Question\n",
    "\n",
    "Reverse a given number using a while loop."
   ]
  },
  {
   "cell_type": "code",
   "execution_count": 9,
   "id": "1262ba08",
   "metadata": {},
   "outputs": [
    {
     "name": "stdout",
     "output_type": "stream",
     "text": [
      "54321\n"
     ]
    }
   ],
   "source": [
    "num = 12345\n",
    "reverse_num = 0\n",
    "while num > 0:\n",
    "    digit = num % 10\n",
    "    reverse_num = reverse_num * 10 + digit\n",
    "    num = num // 10\n",
    "print(reverse_num)"
   ]
  },
  {
   "cell_type": "markdown",
   "id": "d092559a",
   "metadata": {},
   "source": [
    "##### 7. Question\n",
    "\n",
    "Count the number of digits in a given number using a while loop."
   ]
  },
  {
   "cell_type": "code",
   "execution_count": 10,
   "id": "cfdb71a8",
   "metadata": {},
   "outputs": [
    {
     "name": "stdout",
     "output_type": "stream",
     "text": [
      "5\n"
     ]
    }
   ],
   "source": [
    "num = 12345\n",
    "count = 0\n",
    "while num > 0:\n",
    "    num = num // 10\n",
    "    count += 1\n",
    "print(count)"
   ]
  },
  {
   "cell_type": "markdown",
   "id": "b0742cb4",
   "metadata": {},
   "source": [
    "##### 8. Question\n",
    "\n",
    "Print the following pattern using a while loop:5555"
   ]
  },
  {
   "cell_type": "code",
   "execution_count": 11,
   "id": "f894e948-3731-41e1-91bc-044045bdf379",
   "metadata": {},
   "outputs": [],
   "source": [
    "# 1\n",
    "# 22\n",
    "# 333\n",
    "# 4444\n",
    "# 55555"
   ]
  },
  {
   "cell_type": "code",
   "execution_count": 12,
   "id": "abd29f06",
   "metadata": {},
   "outputs": [
    {
     "name": "stdout",
     "output_type": "stream",
     "text": [
      "1\n",
      "22\n",
      "333\n",
      "4444\n",
      "55555\n"
     ]
    }
   ],
   "source": [
    "i = 1\n",
    "while i <= 5:\n",
    "    print(str(i) * i)\n",
    "    i += 1"
   ]
  },
  {
   "cell_type": "markdown",
   "id": "c6688555",
   "metadata": {},
   "source": [
    "##### 9. Question\n",
    "\n",
    "Find the greatest common divisor (GCD) of two numbers using a while loop."
   ]
  },
  {
   "cell_type": "code",
   "execution_count": 8,
   "id": "e8cbaea7",
   "metadata": {},
   "outputs": [
    {
     "name": "stdin",
     "output_type": "stream",
     "text": [
      "enter num1: 28\n",
      "enter num2: 12\n"
     ]
    },
    {
     "name": "stdout",
     "output_type": "stream",
     "text": [
      "4\n"
     ]
    }
   ],
   "source": [
    "n1 = int(input(\"enter num1:\"))\n",
    "n2 = int(input(\"enter num2:\"))\n",
    "if n1<n2:\n",
    "    min=n1\n",
    "else:\n",
    "    min=n2\n",
    "i = 1\n",
    "while i<=min:\n",
    "    if (n1%i==0 and n2%i==0):\n",
    "        hcf = i\n",
    "    i += 1\n",
    "print(hcf)"
   ]
  },
  {
   "cell_type": "code",
   "execution_count": 9,
   "id": "08edac86-d7bd-41d9-881d-7a7c6f2892f8",
   "metadata": {},
   "outputs": [
    {
     "name": "stdin",
     "output_type": "stream",
     "text": [
      "enter num1: 98\n",
      "enter num2: 78\n"
     ]
    },
    {
     "name": "stdout",
     "output_type": "stream",
     "text": [
      "2\n"
     ]
    }
   ],
   "source": [
    "n1 = int(input(\"enter num1:\"))\n",
    "n2 = int(input(\"enter num2:\"))\n",
    "if n1<n2:\n",
    "    min=n1\n",
    "else:\n",
    "    min=n2\n",
    "for i in range(1,min+1):\n",
    "    if (n1%i==0 and n2%i==0):\n",
    "        hcf = i\n",
    "print(hcf)"
   ]
  },
  {
   "cell_type": "markdown",
   "id": "12b6d4ac",
   "metadata": {},
   "source": [
    "##### 10. Question\n",
    "\n",
    "Find the sum of digits of a given number using a while loop."
   ]
  },
  {
   "cell_type": "code",
   "execution_count": 14,
   "id": "8d9cd95e",
   "metadata": {},
   "outputs": [
    {
     "name": "stdout",
     "output_type": "stream",
     "text": [
      "15\n"
     ]
    }
   ],
   "source": [
    "num = 12345\n",
    "sum_of_digits = 0\n",
    "while num > 0:\n",
    "    sum_of_digits += num % 10\n",
    "    num = num // 10\n",
    "print(sum_of_digits)"
   ]
  }
 ],
 "metadata": {
  "kernelspec": {
   "display_name": "Python 3 (ipykernel)",
   "language": "python",
   "name": "python3"
  },
  "language_info": {
   "codemirror_mode": {
    "name": "ipython",
    "version": 3
   },
   "file_extension": ".py",
   "mimetype": "text/x-python",
   "name": "python",
   "nbconvert_exporter": "python",
   "pygments_lexer": "ipython3",
   "version": "3.11.7"
  },
  "widgets": {
   "application/vnd.jupyter.widget-state+json": {
    "state": {},
    "version_major": 2,
    "version_minor": 0
   }
  }
 },
 "nbformat": 4,
 "nbformat_minor": 5
}
