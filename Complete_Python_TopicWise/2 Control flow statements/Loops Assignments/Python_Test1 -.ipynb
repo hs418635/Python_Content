{
 "cells": [
  {
   "cell_type": "markdown",
   "id": "3afbd2ab-d2b3-4cc6-a031-2877ff4c843b",
   "metadata": {},
   "source": [
    "Question 1:\n",
    "Write a Python program that defines a variable with your age and prints the message \"I am X years old\" using that variable."
   ]
  },
  {
   "cell_type": "code",
   "execution_count": null,
   "id": "af510c5a-b849-4cf6-889a-bc56e27e0a45",
   "metadata": {},
   "outputs": [],
   "source": []
  },
  {
   "cell_type": "markdown",
   "id": "09592c1b-378d-4211-b560-1e2cc10fe74d",
   "metadata": {},
   "source": [
    "Question 2:\n",
    "Write a Python program to swap the values of two variables without using a third variable."
   ]
  },
  {
   "cell_type": "code",
   "execution_count": null,
   "id": "1a37389e-d64e-4229-aea6-4f04e1d12167",
   "metadata": {},
   "outputs": [],
   "source": []
  },
  {
   "cell_type": "markdown",
   "id": "79aebaca-91dc-46f1-bd67-bc0a756d9d35",
   "metadata": {},
   "source": [
    "Question 1:\n",
    "Write a Python program to find the remainder when 23 is divided by 5."
   ]
  },
  {
   "cell_type": "code",
   "execution_count": null,
   "id": "58d8e3e5-87b4-4494-bf6f-2dd2db9a931c",
   "metadata": {},
   "outputs": [],
   "source": []
  },
  {
   "cell_type": "markdown",
   "id": "33354e30-9554-4c56-b122-d7fc0eb55856",
   "metadata": {},
   "source": [
    "Write a Python program to compute the floor division of 23 by 5."
   ]
  },
  {
   "cell_type": "code",
   "execution_count": null,
   "id": "6f136884-4094-4e28-b2d2-2c599a2d68ef",
   "metadata": {},
   "outputs": [],
   "source": []
  },
  {
   "cell_type": "markdown",
   "id": "618f6ff9-7c99-46e4-b90e-3172df8ac4e3",
   "metadata": {},
   "source": [
    "Question 1:\n",
    "Write a Python program that checks if a number is positive, negative, or zero and prints an appropriate message."
   ]
  },
  {
   "cell_type": "code",
   "execution_count": null,
   "id": "a265b45e-18b7-4574-ad42-49fc35a1932b",
   "metadata": {},
   "outputs": [],
   "source": []
  },
  {
   "cell_type": "markdown",
   "id": "12962386-43bf-4694-a3fe-78651c26478b",
   "metadata": {},
   "source": [
    "Question 2:\n",
    "Write a Python program that checks if a number is even or odd and prints the result."
   ]
  },
  {
   "cell_type": "code",
   "execution_count": null,
   "id": "821564cf-ea77-4f38-9d11-a5f055d8e3dc",
   "metadata": {},
   "outputs": [],
   "source": []
  },
  {
   "cell_type": "markdown",
   "id": "feb7930e-b5c0-475d-aae5-8cdf82e64602",
   "metadata": {},
   "source": [
    "Question 1:\n",
    "Write a Python program to find the largest of three numbers."
   ]
  },
  {
   "cell_type": "code",
   "execution_count": null,
   "id": "0006f1f8-09bd-4477-be7f-250af2959f2c",
   "metadata": {},
   "outputs": [],
   "source": []
  },
  {
   "cell_type": "markdown",
   "id": "ee3bfde7-e43d-4837-b753-8617bd5354bf",
   "metadata": {},
   "source": [
    "Write a Python program to check if 2024 is a leap year."
   ]
  },
  {
   "cell_type": "code",
   "execution_count": null,
   "id": "ccfef6d8-aa4d-4ecc-a0ba-8e45eecbedae",
   "metadata": {},
   "outputs": [],
   "source": []
  },
  {
   "cell_type": "markdown",
   "id": "c2fd92c9-9e1c-4071-ace6-5fe17c6f3b08",
   "metadata": {},
   "source": [
    "Question 3:\n",
    "Write a Python program that takes a character (string of length 1) and checks if it is a vowel or a consonant."
   ]
  },
  {
   "cell_type": "code",
   "execution_count": null,
   "id": "52a49063-f2a3-4720-adad-2fe13353a8b6",
   "metadata": {},
   "outputs": [],
   "source": []
  },
  {
   "cell_type": "markdown",
   "id": "0c8d69ac-3991-47d0-a27e-358e36e0f619",
   "metadata": {},
   "source": [
    "Question: Write a Python program to simulate a simple login system with three attempts."
   ]
  },
  {
   "cell_type": "code",
   "execution_count": null,
   "id": "4e8d942c-d2db-4f7e-93c3-2c106ea0b9da",
   "metadata": {},
   "outputs": [],
   "source": []
  },
  {
   "cell_type": "markdown",
   "id": "24099d2e-73b9-4ec9-93ea-1d0426561a67",
   "metadata": {},
   "source": [
    "Question 1:\n",
    "Write a Python program to print the first 10 natural numbers using a while loop."
   ]
  },
  {
   "cell_type": "code",
   "execution_count": null,
   "id": "8a46aba0-4b27-4dd9-a0da-d88de796273a",
   "metadata": {},
   "outputs": [],
   "source": []
  },
  {
   "cell_type": "markdown",
   "id": "50cde76d-978d-4d76-ad85-a70834bddc54",
   "metadata": {},
   "source": [
    "Question 2:\n",
    "Write a Python program to calculate the sum of all numbers from 1 to a given number using a while loop."
   ]
  },
  {
   "cell_type": "code",
   "execution_count": null,
   "id": "d998a47f-94df-4c44-835b-f70e2342250b",
   "metadata": {},
   "outputs": [],
   "source": []
  },
  {
   "cell_type": "markdown",
   "id": "9dbc27d5-e21b-4503-bd2c-f19ee659ae1f",
   "metadata": {},
   "source": [
    "Question 1:\n",
    "Write a Python program to find the factorial of a number using a while loop."
   ]
  },
  {
   "cell_type": "code",
   "execution_count": null,
   "id": "7dc47bb6-7f9b-4cac-bab2-5885525f8a34",
   "metadata": {},
   "outputs": [],
   "source": []
  },
  {
   "cell_type": "markdown",
   "id": "c27fbc67-e78e-4faf-8154-6e35f4fc18b6",
   "metadata": {},
   "source": [
    "Question 2:\n",
    "Write a Python program to reverse a given number using a while loop."
   ]
  },
  {
   "cell_type": "code",
   "execution_count": null,
   "id": "85320831-a9df-4fc5-ad05-8ddcd3779783",
   "metadata": {},
   "outputs": [],
   "source": []
  },
  {
   "cell_type": "markdown",
   "id": "d3b151df-3dae-40a5-8a9a-fe5e1fe575e5",
   "metadata": {},
   "source": [
    "Question 1:\n",
    "Write a Python program to print the squares of all numbers from 1 to 10 using a for loop."
   ]
  },
  {
   "cell_type": "code",
   "execution_count": null,
   "id": "a5a22c5c-f697-4c28-83f1-cbbeafde707f",
   "metadata": {},
   "outputs": [],
   "source": []
  },
  {
   "cell_type": "markdown",
   "id": "4d850fcf-0913-4889-b292-c4eb0762493a",
   "metadata": {},
   "source": [
    "Question 2:\n",
    "Write a Python program to find the sum of the digits of a given number using a for loop."
   ]
  },
  {
   "cell_type": "code",
   "execution_count": null,
   "id": "477b000b-4461-4a63-bcf1-b19ef230f454",
   "metadata": {},
   "outputs": [],
   "source": []
  },
  {
   "cell_type": "markdown",
   "id": "44da9689-3075-49e9-bff1-d9af01e42003",
   "metadata": {},
   "source": [
    "Question 1:\n",
    "Write a Python program to generate the Fibonacci sequence up to the 10th term using a for loop."
   ]
  },
  {
   "cell_type": "code",
   "execution_count": null,
   "id": "aca2c7aa-6904-493a-82bd-aaab7439efd5",
   "metadata": {},
   "outputs": [],
   "source": []
  },
  {
   "cell_type": "markdown",
   "id": "1baec1e4-8c02-4ecc-b51d-f0ac848b88ea",
   "metadata": {},
   "source": [
    "Question 2:\n",
    "Write a Python program to check if a given number is a prime number using a for loop."
   ]
  },
  {
   "cell_type": "code",
   "execution_count": null,
   "id": "1a9d20a2-5814-4508-b456-23957e324904",
   "metadata": {},
   "outputs": [],
   "source": []
  },
  {
   "cell_type": "markdown",
   "id": "85469d3e-3bd8-4c64-bcdb-05a4a00c2e2d",
   "metadata": {},
   "source": [
    "Question 1:\n",
    "Write a Python program that prints numbers from 1 to 10, but skips the number 5 using a loop and the continue keyword."
   ]
  },
  {
   "cell_type": "code",
   "execution_count": null,
   "id": "113fc613-f682-4139-8530-f105e7f0f221",
   "metadata": {},
   "outputs": [],
   "source": []
  },
  {
   "cell_type": "markdown",
   "id": "3059182a-3a6d-4e59-9336-82b95306f7a4",
   "metadata": {},
   "source": [
    "Question 2:\n",
    "Write a Python program to find the first number greater than 100 that is divisible by 17 using a loop and the break keyword."
   ]
  },
  {
   "cell_type": "code",
   "execution_count": null,
   "id": "6b4c65b2-93a4-4010-bdd6-b1bc19237b4a",
   "metadata": {},
   "outputs": [],
   "source": []
  },
  {
   "cell_type": "code",
   "execution_count": null,
   "id": "ea848098-7254-470c-8dee-52b4d49655bf",
   "metadata": {},
   "outputs": [],
   "source": []
  }
 ],
 "metadata": {
  "kernelspec": {
   "display_name": "Python 3 (ipykernel)",
   "language": "python",
   "name": "python3"
  },
  "language_info": {
   "codemirror_mode": {
    "name": "ipython",
    "version": 3
   },
   "file_extension": ".py",
   "mimetype": "text/x-python",
   "name": "python",
   "nbconvert_exporter": "python",
   "pygments_lexer": "ipython3",
   "version": "3.11.7"
  },
  "widgets": {
   "application/vnd.jupyter.widget-state+json": {
    "state": {},
    "version_major": 2,
    "version_minor": 0
   }
  }
 },
 "nbformat": 4,
 "nbformat_minor": 5
}
