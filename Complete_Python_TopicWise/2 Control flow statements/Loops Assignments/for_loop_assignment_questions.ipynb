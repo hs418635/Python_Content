{
 "cells": [
  {
   "cell_type": "markdown",
   "id": "dcf3dd52",
   "metadata": {},
   "source": [
    "# For-Loop Practice Questions"
   ]
  },
  {
   "cell_type": "markdown",
   "id": "1d0a1d5f",
   "metadata": {},
   "source": [
    "### Question 1\n",
    "**Q:** Write a for-loop that prints the numbers from 1 to 10.\n",
    "\n",
    "**A:**"
   ]
  },
  {
   "cell_type": "code",
   "execution_count": null,
   "id": "cb4fe3c5",
   "metadata": {},
   "outputs": [],
   "source": []
  },
  {
   "cell_type": "markdown",
   "id": "517ab84a",
   "metadata": {},
   "source": [
    "### Question 2\n",
    "**Q:** Write a for-loop that prints the even numbers from 2 to 20.\n",
    "\n",
    "**A:**"
   ]
  },
  {
   "cell_type": "code",
   "execution_count": null,
   "id": "b43a8803",
   "metadata": {},
   "outputs": [],
   "source": []
  },
  {
   "cell_type": "markdown",
   "id": "c360e78a",
   "metadata": {},
   "source": [
    "### Question 3\n",
    "**Q:** Write a for-loop that prints the numbers from 10 down to 1.\n",
    "\n",
    "**A:**"
   ]
  },
  {
   "cell_type": "code",
   "execution_count": null,
   "id": "8286223b",
   "metadata": {},
   "outputs": [],
   "source": []
  },
  {
   "cell_type": "markdown",
   "id": "3c887ae3",
   "metadata": {},
   "source": [
    "### Question 4\n",
    "**Q:** Write a for-loop that prints the squares of numbers from 1 to 10.\n",
    "\n",
    "**A:**"
   ]
  },
  {
   "cell_type": "code",
   "execution_count": null,
   "id": "fce6b1b4",
   "metadata": {},
   "outputs": [],
   "source": []
  },
  {
   "cell_type": "markdown",
   "id": "592ef19b",
   "metadata": {},
   "source": [
    "### Question 5\n",
    "**Q:** Write a for-loop that calculates the sum of the numbers from 1 to 100 and prints the result.\n",
    "\n",
    "**A:**"
   ]
  },
  {
   "cell_type": "code",
   "execution_count": null,
   "id": "e3a51114",
   "metadata": {},
   "outputs": [],
   "source": []
  },
  {
   "cell_type": "markdown",
   "id": "cd926453",
   "metadata": {},
   "source": [
    "### Question 6\n",
    "**Q:** Write a for-loop that prints each character of the string \"hello\" on a new line.\n",
    "\n",
    "**A:**"
   ]
  },
  {
   "cell_type": "code",
   "execution_count": null,
   "id": "a6c79a9f",
   "metadata": {},
   "outputs": [],
   "source": []
  },
  {
   "cell_type": "markdown",
   "id": "a1173a3c",
   "metadata": {},
   "source": [
    "### Question 7\n",
    "**Q:** Write a for-loop that prints the elements of the list `fruits = [\"apple\", \"banana\", \"cherry\"]`.\n",
    "\n",
    "**A:**"
   ]
  },
  {
   "cell_type": "code",
   "execution_count": null,
   "id": "0b2425a5",
   "metadata": {},
   "outputs": [],
   "source": []
  },
  {
   "cell_type": "markdown",
   "id": "12d032d5",
   "metadata": {},
   "source": [
    "### Question 8\n",
    "**Q:** Write a for-loop that prints the first 10 multiples of 3.\n",
    "\n",
    "**A:**"
   ]
  },
  {
   "cell_type": "code",
   "execution_count": null,
   "id": "39dbeef1",
   "metadata": {},
   "outputs": [],
   "source": []
  },
  {
   "cell_type": "markdown",
   "id": "cb22cb6a",
   "metadata": {},
   "source": [
    "### Question 9\n",
    "**Q:** Write a for-loop that prints the factorial of the numbers from 1 to 5.\n",
    "\n",
    "**A:**"
   ]
  },
  {
   "cell_type": "code",
   "execution_count": null,
   "id": "059ac819",
   "metadata": {},
   "outputs": [],
   "source": []
  },
  {
   "cell_type": "markdown",
   "id": "2a865502",
   "metadata": {},
   "source": [
    "### Question 10\n",
    "**Q:** Write a for-loop that prints the length of each word in the list `words = [\"hello\", \"world\", \"python\"]`.\n",
    "\n",
    "**A:**"
   ]
  },
  {
   "cell_type": "code",
   "execution_count": null,
   "id": "cba862dc",
   "metadata": {},
   "outputs": [],
   "source": []
  },
  {
   "cell_type": "markdown",
   "id": "77477ecf",
   "metadata": {},
   "source": [
    "### Question 11\n",
    "**Q:** Write a for-loop that prints the numbers from 1 to 100 that are divisible by both 3 and 5.\n",
    "\n",
    "**A:**"
   ]
  },
  {
   "cell_type": "code",
   "execution_count": null,
   "id": "acbdb3a0",
   "metadata": {},
   "outputs": [],
   "source": []
  },
  {
   "cell_type": "markdown",
   "id": "a4c7eb7c",
   "metadata": {},
   "source": [
    "### Question 12\n",
    "**Q:** Write a for-loop that prints the Fibonacci sequence up to the 10th term.\n",
    "\n",
    "**A:**"
   ]
  },
  {
   "cell_type": "code",
   "execution_count": null,
   "id": "6bdb318d",
   "metadata": {},
   "outputs": [],
   "source": []
  },
  {
   "cell_type": "markdown",
   "id": "b4141450",
   "metadata": {},
   "source": [
    "### Question 13\n",
    "**Q:** Write a for-loop that counts the number of vowels in the string \"beautiful day\".\n",
    "\n",
    "**A:**"
   ]
  },
  {
   "cell_type": "code",
   "execution_count": null,
   "id": "e0cc3d9f",
   "metadata": {},
   "outputs": [],
   "source": []
  },
  {
   "cell_type": "markdown",
   "id": "d518d994",
   "metadata": {},
   "source": [
    "### Question 14\n",
    "**Q:** Write a for-loop that prints the prime numbers between 2 and 50.\n",
    "\n",
    "**A:**"
   ]
  },
  {
   "cell_type": "code",
   "execution_count": null,
   "id": "2b6b25ea",
   "metadata": {},
   "outputs": [],
   "source": []
  },
  {
   "cell_type": "markdown",
   "id": "0b59ca62",
   "metadata": {},
   "source": [
    "### Question 15\n",
    "**Q:** Write a for-loop that prints the sum of the digits of each number in the list `numbers = [123, 456, 789]`.\n",
    "\n",
    "**A:**"
   ]
  },
  {
   "cell_type": "code",
   "execution_count": null,
   "id": "defa6290",
   "metadata": {},
   "outputs": [],
   "source": []
  },
  {
   "cell_type": "markdown",
   "id": "8741c5f7",
   "metadata": {},
   "source": [
    "### Question 16\n",
    "**Q:** Write a for-loop that prints the product of the numbers from 1 to 5.\n",
    "\n",
    "**A:**"
   ]
  },
  {
   "cell_type": "code",
   "execution_count": null,
   "id": "a7406cda",
   "metadata": {},
   "outputs": [],
   "source": []
  }
 ],
 "metadata": {
  "kernelspec": {
   "display_name": "Python 3 (ipykernel)",
   "language": "python",
   "name": "python3"
  },
  "language_info": {
   "codemirror_mode": {
    "name": "ipython",
    "version": 3
   },
   "file_extension": ".py",
   "mimetype": "text/x-python",
   "name": "python",
   "nbconvert_exporter": "python",
   "pygments_lexer": "ipython3",
   "version": "3.11.7"
  },
  "widgets": {
   "application/vnd.jupyter.widget-state+json": {
    "state": {},
    "version_major": 2,
    "version_minor": 0
   }
  }
 },
 "nbformat": 4,
 "nbformat_minor": 5
}
