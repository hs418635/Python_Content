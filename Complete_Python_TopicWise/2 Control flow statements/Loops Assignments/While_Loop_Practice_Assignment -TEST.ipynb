{
 "cells": [
  {
   "cell_type": "markdown",
   "id": "f804fb3d",
   "metadata": {},
   "source": [
    "## While Loop Practice Assignment"
   ]
  },
  {
   "cell_type": "markdown",
   "id": "5cbeb491",
   "metadata": {},
   "source": [
    "##### 1. Question\n",
    "\n",
    "Print numbers from 1 to 10 using a while loop."
   ]
  },
  {
   "cell_type": "code",
   "execution_count": null,
   "id": "80914ed7",
   "metadata": {},
   "outputs": [],
   "source": []
  },
  {
   "cell_type": "markdown",
   "id": "a4c7b90a",
   "metadata": {},
   "source": [
    "##### 2. Question\n",
    "\n",
    "Print even numbers between 1 and 20 using a while loop."
   ]
  },
  {
   "cell_type": "code",
   "execution_count": null,
   "id": "a4c9946a",
   "metadata": {},
   "outputs": [],
   "source": []
  },
  {
   "cell_type": "markdown",
   "id": "c6dd8e81",
   "metadata": {},
   "source": [
    "##### 3. Question\n",
    "\n",
    "Print odd numbers between 1 and 20 using a while loop."
   ]
  },
  {
   "cell_type": "code",
   "execution_count": null,
   "id": "bcd43d1f",
   "metadata": {},
   "outputs": [],
   "source": []
  },
  {
   "cell_type": "markdown",
   "id": "6cb2163b",
   "metadata": {},
   "source": [
    "##### 4. Question\n",
    "\n",
    "Calculate the sum of the first 10 natural numbers using a while loop."
   ]
  },
  {
   "cell_type": "code",
   "execution_count": null,
   "id": "fcfd622e",
   "metadata": {},
   "outputs": [],
   "source": []
  },
  {
   "cell_type": "markdown",
   "id": "d8e084ec",
   "metadata": {},
   "source": [
    "##### 5. Question\n",
    "\n",
    "Print the multiplication table of 5 using a while loop.\n",
    "\n",
    "print the output as :\n",
    "\n",
    "5 x 1 = 5\n",
    "\r\n",
    "5 x 2 = 10"
   ]
  },
  {
   "cell_type": "code",
   "execution_count": null,
   "id": "a9bf0cf0",
   "metadata": {},
   "outputs": [],
   "source": []
  },
  {
   "cell_type": "markdown",
   "id": "5a52e010",
   "metadata": {},
   "source": [
    "##### 6. Question\n",
    "\n",
    "Reverse a given number using a while loop."
   ]
  },
  {
   "cell_type": "code",
   "execution_count": null,
   "id": "1262ba08",
   "metadata": {},
   "outputs": [],
   "source": []
  },
  {
   "cell_type": "markdown",
   "id": "d092559a",
   "metadata": {},
   "source": [
    "##### 7. Question\n",
    "\n",
    "Count the number of digits in a given number using a while loop."
   ]
  },
  {
   "cell_type": "code",
   "execution_count": null,
   "id": "cfdb71a8",
   "metadata": {},
   "outputs": [],
   "source": []
  },
  {
   "cell_type": "markdown",
   "id": "b0742cb4",
   "metadata": {},
   "source": [
    "##### 8. Question\n",
    "\n",
    "Print the following pattern using a while loop:5555"
   ]
  },
  {
   "cell_type": "code",
   "execution_count": 1,
   "id": "f894e948-3731-41e1-91bc-044045bdf379",
   "metadata": {},
   "outputs": [],
   "source": [
    "# 1\n",
    "# 22\n",
    "# 333\n",
    "# 4444\n",
    "# 55555"
   ]
  },
  {
   "cell_type": "code",
   "execution_count": null,
   "id": "abd29f06",
   "metadata": {},
   "outputs": [],
   "source": []
  },
  {
   "cell_type": "markdown",
   "id": "c6688555",
   "metadata": {},
   "source": [
    "##### 9. Question\n",
    "\n",
    "Find the greatest common divisor (GCD) of two numbers using a while loop."
   ]
  },
  {
   "cell_type": "code",
   "execution_count": null,
   "id": "e8cbaea7",
   "metadata": {},
   "outputs": [],
   "source": []
  },
  {
   "cell_type": "markdown",
   "id": "12b6d4ac",
   "metadata": {},
   "source": [
    "##### 10. Question\n",
    "\n",
    "Find the sum of digits of a given number using a while loop."
   ]
  },
  {
   "cell_type": "code",
   "execution_count": null,
   "id": "8d9cd95e",
   "metadata": {},
   "outputs": [],
   "source": []
  },
  {
   "cell_type": "code",
   "execution_count": null,
   "id": "430deba6-7378-4f51-8d55-ec1e3eba654b",
   "metadata": {},
   "outputs": [],
   "source": []
  }
 ],
 "metadata": {
  "kernelspec": {
   "display_name": "Python 3 (ipykernel)",
   "language": "python",
   "name": "python3"
  },
  "language_info": {
   "codemirror_mode": {
    "name": "ipython",
    "version": 3
   },
   "file_extension": ".py",
   "mimetype": "text/x-python",
   "name": "python",
   "nbconvert_exporter": "python",
   "pygments_lexer": "ipython3",
   "version": "3.11.7"
  },
  "widgets": {
   "application/vnd.jupyter.widget-state+json": {
    "state": {},
    "version_major": 2,
    "version_minor": 0
   }
  }
 },
 "nbformat": 4,
 "nbformat_minor": 5
}
