{
 "cells": [
  {
   "cell_type": "markdown",
   "id": "7eb63323",
   "metadata": {},
   "source": [
    "### 1. Calculate the Factorial of a Number"
   ]
  },
  {
   "cell_type": "code",
   "execution_count": null,
   "id": "1427ebd2",
   "metadata": {},
   "outputs": [],
   "source": [
    "def factorial(n):\n",
    "    if n == 0 or n == 1:\n",
    "        return 1\n",
    "    else:\n",
    "        return n * factorial(n - 1)\n",
    "\n",
    "# Example usage:\n",
    "print(factorial(5))  # Output: 120\n"
   ]
  },
  {
   "cell_type": "markdown",
   "id": "23b9730c",
   "metadata": {},
   "source": [
    "### 2. Sum of Digits in a Number"
   ]
  },
  {
   "cell_type": "code",
   "execution_count": null,
   "id": "283b3645",
   "metadata": {},
   "outputs": [],
   "source": [
    "def sum_of_digits(n):\n",
    "    return sum(int(digit) for digit in str(n))\n",
    "\n",
    "# Example usage:\n",
    "print(sum_of_digits(1234))  # Output: 10\n"
   ]
  },
  {
   "cell_type": "markdown",
   "id": "6762131c",
   "metadata": {},
   "source": [
    "### 3. Reverse a String"
   ]
  },
  {
   "cell_type": "code",
   "execution_count": null,
   "id": "e534ccff",
   "metadata": {},
   "outputs": [],
   "source": [
    "def reverse_string(s):\n",
    "    return s[::-1]\n",
    "\n",
    "# Example usage:\n",
    "print(reverse_string(\"hello\"))  # Output: \"olleh\"\n"
   ]
  },
  {
   "cell_type": "markdown",
   "id": "e7895c20",
   "metadata": {},
   "source": [
    "### 4. Find the Maximum Number in a List"
   ]
  },
  {
   "cell_type": "code",
   "execution_count": null,
   "id": "d0fe19f7",
   "metadata": {},
   "outputs": [],
   "source": [
    "def find_max(lst):\n",
    "    return max(lst)\n",
    "\n",
    "# Example usage:\n",
    "print(find_max([1, 2, 3, 4, 5]))  # Output: 5\n"
   ]
  },
  {
   "cell_type": "markdown",
   "id": "56b06cc2",
   "metadata": {},
   "source": [
    "### 5. Count the Number of Vowels in a String"
   ]
  },
  {
   "cell_type": "code",
   "execution_count": null,
   "id": "e13b4345",
   "metadata": {},
   "outputs": [],
   "source": [
    "def count_vowels(s):\n",
    "    vowels = \"aeiouAEIOU\"\n",
    "    return sum(1 for char in s if char in vowels)\n",
    "\n",
    "# Example usage:\n",
    "print(count_vowels(\"hello world\"))  # Output: 3\n"
   ]
  },
  {
   "cell_type": "markdown",
   "id": "863d0848",
   "metadata": {},
   "source": [
    "### 6. Check if a String is a Valid Email"
   ]
  },
  {
   "cell_type": "code",
   "execution_count": null,
   "id": "c577bb3d",
   "metadata": {},
   "outputs": [],
   "source": [
    "import re\n",
    "\n",
    "def is_valid_email(email):\n",
    "    pattern = r'^[a-zA-Z0-9._%+-]+@[a-zA-Z0-9.-]+\\.[a-zA-Z]{2,}$'\n",
    "    return re.match(pattern, email) is not None\n",
    "\n",
    "# Example usage:\n",
    "print(is_valid_email(\"test@example.com\"))  # Output: True\n"
   ]
  },
  {
   "cell_type": "markdown",
   "id": "321eebdd",
   "metadata": {},
   "source": [
    "### 7. Convert Celsius to Fahrenheit"
   ]
  },
  {
   "cell_type": "code",
   "execution_count": null,
   "id": "89c55fda",
   "metadata": {},
   "outputs": [],
   "source": [
    "def celsius_to_fahrenheit(celsius):\n",
    "    return (celsius * 9/5) + 32\n",
    "\n",
    "# Example usage:\n",
    "print(celsius_to_fahrenheit(0))  # Output: 32.0\n"
   ]
  },
  {
   "cell_type": "markdown",
   "id": "272aed23",
   "metadata": {},
   "source": [
    "### 8. Find the Second Largest Number in a List"
   ]
  },
  {
   "cell_type": "code",
   "execution_count": null,
   "id": "075f563f",
   "metadata": {},
   "outputs": [],
   "source": [
    "def second_largest(lst):\n",
    "    unique_lst = list(set(lst))\n",
    "    unique_lst.sort()\n",
    "    return unique_lst[-2]\n",
    "\n",
    "# Example usage:\n",
    "print(second_largest([1, 2, 3, 4, 5]))  # Output: 4\n"
   ]
  },
  {
   "cell_type": "markdown",
   "id": "f4d6cb24",
   "metadata": {},
   "source": [
    "### 9. Check if a Year is a Leap Year"
   ]
  },
  {
   "cell_type": "code",
   "execution_count": null,
   "id": "1310d241",
   "metadata": {},
   "outputs": [],
   "source": [
    "def is_leap_year(year):\n",
    "    return (year % 4 == 0 and year % 100 != 0) or (year % 400 == 0)\n",
    "\n",
    "# Example usage:\n",
    "print(is_leap_year(2020))  # Output: True\n"
   ]
  },
  {
   "cell_type": "markdown",
   "id": "08b2424d",
   "metadata": {},
   "source": [
    "### 10. Calculate the GCD of Two Numbers"
   ]
  },
  {
   "cell_type": "code",
   "execution_count": null,
   "id": "2908118a",
   "metadata": {},
   "outputs": [],
   "source": [
    "def gcd(a, b):\n",
    "    while b:\n",
    "        a, b = b, a % b\n",
    "    return a\n",
    "\n",
    "# Example usage:\n",
    "print(gcd(48, 18))  # Output: 6\n"
   ]
  },
  {
   "cell_type": "markdown",
   "id": "c4b151ae",
   "metadata": {},
   "source": [
    "### 11. Convert a String to Title Case"
   ]
  },
  {
   "cell_type": "code",
   "execution_count": null,
   "id": "258de55f",
   "metadata": {},
   "outputs": [],
   "source": [
    "def to_title_case(s):\n",
    "    return s.title()\n",
    "\n",
    "# Example usage:\n",
    "print(to_title_case(\"hello world\"))  # Output: \"Hello World\"\n"
   ]
  },
  {
   "cell_type": "markdown",
   "id": "dd5f3f45",
   "metadata": {},
   "source": [
    "### 12. Check if Two Strings are Anagrams"
   ]
  },
  {
   "cell_type": "code",
   "execution_count": null,
   "id": "22785da4",
   "metadata": {},
   "outputs": [],
   "source": [
    "def are_anagrams(s1, s2):\n",
    "    return sorted(s1) == sorted(s2)\n",
    "\n",
    "# Example usage:\n",
    "print(are_anagrams(\"listen\", \"silent\"))  # Output: True\n"
   ]
  },
  {
   "cell_type": "markdown",
   "id": "a343791a",
   "metadata": {},
   "source": [
    "### 13. Find the Fibonacci Number at a Given Position"
   ]
  },
  {
   "cell_type": "code",
   "execution_count": null,
   "id": "6845bb66",
   "metadata": {},
   "outputs": [],
   "source": [
    "def fibonacci(n):\n",
    "    if n == 0:\n",
    "        return 0\n",
    "    elif n == 1:\n",
    "        return 1\n",
    "    else:\n",
    "        return fibonacci(n - 1) + fibonacci(n - 2)\n",
    "\n",
    "# Example usage:\n",
    "print(fibonacci(5))  # Output: 5\n"
   ]
  },
  {
   "cell_type": "markdown",
   "id": "be90bf9a",
   "metadata": {},
   "source": [
    "### 14. Check if a Number is a Perfect Square"
   ]
  },
  {
   "cell_type": "code",
   "execution_count": null,
   "id": "443fb68d",
   "metadata": {},
   "outputs": [],
   "source": [
    "import math\n",
    "\n",
    "def is_perfect_square(n):\n",
    "    return math.isqrt(n) ** 2 == n\n",
    "\n",
    "# Example usage:\n",
    "print(is_perfect_square(16))  # Output: True\n"
   ]
  },
  {
   "cell_type": "markdown",
   "id": "a74df401",
   "metadata": {},
   "source": [
    "### 15. Find the Sum of All Elements in a List"
   ]
  },
  {
   "cell_type": "code",
   "execution_count": null,
   "id": "416d373f",
   "metadata": {},
   "outputs": [],
   "source": [
    "def sum_of_list(lst):\n",
    "    return sum(lst)\n",
    "\n",
    "# Example usage:\n",
    "print(sum_of_list([1, 2, 3, 4, 5]))  # Output: 15\n"
   ]
  },
  {
   "cell_type": "markdown",
   "id": "489fc208",
   "metadata": {},
   "source": [
    "### 16. Merge Two Dictionaries"
   ]
  },
  {
   "cell_type": "code",
   "execution_count": null,
   "id": "2fad190a",
   "metadata": {},
   "outputs": [],
   "source": [
    "def merge_dicts(dict1, dict2):\n",
    "    result = dict1.copy()\n",
    "    result.update(dict2)\n",
    "    return result\n",
    "\n",
    "# Example usage:\n",
    "print(merge_dicts({\"a\": 1}, {\"b\": 2}))  # Output: {'a': 1, 'b': 2}\n"
   ]
  },
  {
   "cell_type": "markdown",
   "id": "70dace8a",
   "metadata": {},
   "source": [
    "### 17. Count the Number of Words in a String"
   ]
  },
  {
   "cell_type": "code",
   "execution_count": null,
   "id": "02603eb3",
   "metadata": {},
   "outputs": [],
   "source": [
    "def count_words(s):\n",
    "    return len(s.split())\n",
    "\n",
    "# Example usage:\n",
    "print(count_words(\"hello world\"))  # Output: 2\n"
   ]
  },
  {
   "cell_type": "markdown",
   "id": "913021c2",
   "metadata": {},
   "source": [
    "### 18. Find the Longest Word in a String"
   ]
  },
  {
   "cell_type": "code",
   "execution_count": null,
   "id": "4f25899a",
   "metadata": {},
   "outputs": [],
   "source": [
    "def longest_word(s):\n",
    "    words = s.split()\n",
    "    return max(words, key=len)\n",
    "\n",
    "# Example usage:\n",
    "print(longest_word(\"The quick brown fox jumps over the lazy dog\"))  # Output: \"jumps\"\n"
   ]
  },
  {
   "cell_type": "markdown",
   "id": "66ff9474",
   "metadata": {},
   "source": [
    "### 19. Calculate the Power of a Number"
   ]
  },
  {
   "cell_type": "code",
   "execution_count": null,
   "id": "bdef977b",
   "metadata": {},
   "outputs": [],
   "source": [
    "def power(base, exponent):\n",
    "    return base ** exponent\n",
    "\n",
    "# Example usage:\n",
    "print(power(2, 3))  # Output: 8\n"
   ]
  },
  {
   "cell_type": "markdown",
   "id": "9e6ab03c",
   "metadata": {},
   "source": [
    "### 20. Find the Average of a List of Numbers"
   ]
  },
  {
   "cell_type": "code",
   "execution_count": null,
   "id": "2ddaed0c",
   "metadata": {},
   "outputs": [],
   "source": [
    "def average(lst):\n",
    "    return sum(lst) / len(lst)\n",
    "\n",
    "# Example usage:\n",
    "print(average([1, 2, 3, 4, 5]))  # Output: 3.0\n"
   ]
  },
  {
   "cell_type": "markdown",
   "id": "31d24655",
   "metadata": {},
   "source": [
    "### 21. LEGB Rule - Local Scope"
   ]
  },
  {
   "cell_type": "code",
   "execution_count": null,
   "id": "e74cc63e",
   "metadata": {},
   "outputs": [],
   "source": [
    "def local_scope():\n",
    "    local_var = \"I'm local\"\n",
    "    print(local_var)\n",
    "\n",
    "local_scope()\n",
    "\n",
    "try:\n",
    "    print(local_var)\n",
    "except NameError as e:\n",
    "    print(e)  # Output: name 'local_var' is not defined\n"
   ]
  },
  {
   "cell_type": "markdown",
   "id": "0c59216b",
   "metadata": {},
   "source": [
    "### 22. LEGB Rule - Global and Built-in Scope"
   ]
  },
  {
   "cell_type": "code",
   "execution_count": null,
   "id": "3108dfc8",
   "metadata": {},
   "outputs": [],
   "source": [
    "global_var = \"I'm global\"\n",
    "\n",
    "def global_and_builtin_scope():\n",
    "    print(global_var)\n",
    "    print(len(global_var))\n",
    "\n",
    "global_and_builtin_scope()\n"
   ]
  },
  {
   "cell_type": "markdown",
   "id": "50ecd7a4",
   "metadata": {},
   "source": [
    "### 23. Using *args to Accept Variable Number of Arguments"
   ]
  },
  {
   "cell_type": "code",
   "execution_count": null,
   "id": "64805359",
   "metadata": {},
   "outputs": [],
   "source": [
    "def sum_args(*args):\n",
    "    return sum(args)\n",
    "\n",
    "# Example usage:\n",
    "print(sum_args(1, 2, 3, 4))  # Output: 10\n",
    "print(sum_args(5, 10, 15))   # Output: 30\n"
   ]
  },
  {
   "cell_type": "markdown",
   "id": "eed15fcc",
   "metadata": {},
   "source": [
    "### 24. Using **kwargs to Accept Keyword Arguments"
   ]
  },
  {
   "cell_type": "code",
   "execution_count": null,
   "id": "dd442ab1",
   "metadata": {},
   "outputs": [],
   "source": [
    "def create_dict(**kwargs):\n",
    "    return kwargs\n",
    "\n",
    "# Example usage:\n",
    "print(create_dict(a=1, b=2, c=3))  # Output: {'a': 1, 'b': 2, 'c': 3}\n",
    "print(create_dict(name=\"John\", age=30))  # Output: {'name': 'John', 'age': 30}\n"
   ]
  },
  {
   "cell_type": "markdown",
   "id": "43efa9e7",
   "metadata": {},
   "source": [
    "### 25. Combining *args and **kwargs"
   ]
  },
  {
   "cell_type": "code",
   "execution_count": null,
   "id": "531065ab",
   "metadata": {},
   "outputs": [],
   "source": [
    "def print_args_kwargs(*args, **kwargs):\n",
    "    print(\"Positional arguments:\", args)\n",
    "    print(\"Keyword arguments:\", kwargs)\n",
    "\n",
    "# Example usage:\n",
    "print_args_kwargs(1, 2, 3, name=\"Alice\", age=25)\n",
    "# Output:\n",
    "# Positional arguments: (1, 2, 3)\n",
    "# Keyword arguments: {'name': 'Alice', 'age': 25}\n"
   ]
  },
  {
   "cell_type": "markdown",
   "id": "5ce8fe68",
   "metadata": {},
   "source": [
    "### 26. Using Lambda to Add Two Numbers"
   ]
  },
  {
   "cell_type": "code",
   "execution_count": null,
   "id": "a7ee76b9",
   "metadata": {},
   "outputs": [],
   "source": [
    "add = lambda x, y: x + y\n",
    "\n",
    "# Example usage:\n",
    "print(add(3, 5))  # Output: 8\n"
   ]
  },
  {
   "cell_type": "markdown",
   "id": "f6351fd6",
   "metadata": {},
   "source": [
    "### 27. Using Lambda to Extract the Last Element of a List"
   ]
  },
  {
   "cell_type": "code",
   "execution_count": null,
   "id": "310fb4d6",
   "metadata": {},
   "outputs": [],
   "source": [
    "last_element = lambda lst: lst[-1] if lst else None\n",
    "\n",
    "# Example usage:\n",
    "print(last_element([1, 2, 3, 4]))  # Output: 4\n",
    "print(last_element([]))           # Output: None\n"
   ]
  },
  {
   "cell_type": "markdown",
   "id": "0e6ed565",
   "metadata": {},
   "source": [
    "### 28. Using Lambda with Map to Square Each Element in a List"
   ]
  },
  {
   "cell_type": "code",
   "execution_count": null,
   "id": "8fd6c9ca",
   "metadata": {},
   "outputs": [],
   "source": [
    "numbers = [1, 2, 3, 4]\n",
    "squared_numbers = list(map(lambda x: x ** 2, numbers))\n",
    "\n",
    "# Example usage:\n",
    "print(squared_numbers)  # Output: [1, 4, 9, 16]\n"
   ]
  },
  {
   "cell_type": "markdown",
   "id": "ef0b4a94",
   "metadata": {},
   "source": [
    "### 29. Using Lambda to Find the Length of Each Word in a List of Words"
   ]
  },
  {
   "cell_type": "code",
   "execution_count": null,
   "id": "1729265f",
   "metadata": {},
   "outputs": [],
   "source": [
    "words = [\"apple\", \"banana\", \"cherry\"]\n",
    "lengths = list(map(lambda word: len(word), words))\n",
    "\n",
    "# Example usage:\n",
    "print(lengths)  # Output: [5, 6, 6]\n"
   ]
  },
  {
   "cell_type": "markdown",
   "id": "04f69b90",
   "metadata": {},
   "source": [
    "### 30. Using Lambda to Filter Words Starting with a Specific Letter"
   ]
  },
  {
   "cell_type": "code",
   "execution_count": null,
   "id": "5e08cca7",
   "metadata": {},
   "outputs": [],
   "source": [
    "words = [\"apple\", \"banana\", \"avocado\", \"cherry\", \"apricot\"]\n",
    "starts_with_a = list(filter(lambda word: word.startswith('a'), words))\n",
    "\n",
    "# Example usage:\n",
    "print(starts_with_a)  # Output: ['apple', 'avocado', 'apricot']\n"
   ]
  }
 ],
 "metadata": {},
 "nbformat": 4,
 "nbformat_minor": 5
}
