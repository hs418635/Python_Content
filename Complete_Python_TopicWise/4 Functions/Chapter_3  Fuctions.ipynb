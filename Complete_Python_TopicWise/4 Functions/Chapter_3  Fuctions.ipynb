{
 "cells": [
  {
   "cell_type": "markdown",
   "id": "1b708c43",
   "metadata": {},
   "source": [
    "### Functions"
   ]
  },
  {
   "cell_type": "raw",
   "id": "62f58a53-c4a0-47d3-a57a-b1138966bd88",
   "metadata": {},
   "source": [
    "Function are the self content block of programm that allow us to create blocks of code that can be easily executed many times, without needing to constantly rewrite the entire block of code.\n",
    "\n",
    "There are two types of functions \n",
    "1) inbuilt funcitons --> eg. input() , int() , str() , complex() , print() , len() , type()\n",
    "2) user defined functions"
   ]
  },
  {
   "cell_type": "markdown",
   "id": "2c08f19d-4d9e-4c38-9ca1-44a4ea4080a4",
   "metadata": {
    "jp-MarkdownHeadingCollapsed": true
   },
   "source": [
    "### inbuilt function\n",
    "\n",
    "Python provides several built in function that are available to use without needing to import any module.\n",
    "\n",
    "1) Conversion Functions: int(), float(), str(), list(), tuple(), set(), dict()\n",
    "2) Mathematical Functions: min , max , pow , round , abs , sum , sort , any , all\n",
    "3) Iterable Function : len(), range() , enumerate() , input() ."
   ]
  },
  {
   "cell_type": "code",
   "execution_count": 10,
   "id": "93d460b5-74fa-496b-b025-e418726279e5",
   "metadata": {},
   "outputs": [
    {
     "name": "stdout",
     "output_type": "stream",
     "text": [
      "length : 10\n",
      "max : 6\n",
      "min : 1\n",
      "power : [4, 9, 16, 25, 36, 1, 4, 9, 16, 25]\n"
     ]
    }
   ],
   "source": [
    "lst = [2,3,4,5,6,1,2,3,4,5]\n",
    "print(\"length :\",len(lst))\n",
    "print(\"max :\",max(lst))\n",
    "print(\"min :\",min(lst))\n",
    "print(\"power :\",[pow(i,2) for i in lst])"
   ]
  },
  {
   "cell_type": "markdown",
   "id": "e593cba9-8ddc-4fe3-9599-a9eeba205bcb",
   "metadata": {},
   "source": [
    "### User defined functions\n",
    "\n",
    "functions made by user"
   ]
  },
  {
   "cell_type": "markdown",
   "id": "5e9aea2b-413e-46dc-a818-76b37abc7c80",
   "metadata": {
    "jp-MarkdownHeadingCollapsed": true
   },
   "source": [
    "#### Functions intro"
   ]
  },
  {
   "cell_type": "code",
   "execution_count": 16,
   "id": "408eec11-d8c6-47c9-89b3-41b961fda03c",
   "metadata": {},
   "outputs": [
    {
     "name": "stdin",
     "output_type": "stream",
     "text": [
      "enter number : 1\n",
      "enter number : 2\n",
      "enter number : 3\n"
     ]
    },
    {
     "name": "stdout",
     "output_type": "stream",
     "text": [
      "average is : 2.0\n"
     ]
    }
   ],
   "source": [
    "# just a programm\n",
    "a = int(input(\"enter number :\"))\n",
    "b = int(input(\"enter number :\"))\n",
    "c = int(input(\"enter number :\"))\n",
    "\n",
    "average = (a+b+c)/3\n",
    "print(\"average is :\",average)"
   ]
  },
  {
   "cell_type": "code",
   "execution_count": 17,
   "id": "98d0b3e1-b2aa-4be0-b530-975f6d95f2dd",
   "metadata": {},
   "outputs": [
    {
     "name": "stdin",
     "output_type": "stream",
     "text": [
      "enter number : 1\n",
      "enter number : 2\n",
      "enter number : 3\n"
     ]
    },
    {
     "name": "stdout",
     "output_type": "stream",
     "text": [
      "average is : 2.0\n"
     ]
    },
    {
     "name": "stdin",
     "output_type": "stream",
     "text": [
      "enter number : 4\n",
      "enter number : 5\n",
      "enter number : 2\n"
     ]
    },
    {
     "name": "stdout",
     "output_type": "stream",
     "text": [
      "average is : 3.6666666666666665\n"
     ]
    },
    {
     "name": "stdin",
     "output_type": "stream",
     "text": [
      "enter number : 12\n",
      "enter number : 3\n",
      "enter number : 4\n"
     ]
    },
    {
     "name": "stdout",
     "output_type": "stream",
     "text": [
      "average is : 6.333333333333333\n"
     ]
    }
   ],
   "source": [
    "# now i want to print average multiple times \n",
    "a = int(input(\"enter number :\"))\n",
    "b = int(input(\"enter number :\"))\n",
    "c = int(input(\"enter number :\"))\n",
    "\n",
    "average = (a+b+c)/3\n",
    "print(\"average is :\",average)\n",
    "#######################################\n",
    "a = int(input(\"enter number :\"))\n",
    "b = int(input(\"enter number :\"))\n",
    "c = int(input(\"enter number :\"))\n",
    "\n",
    "average = (a+b+c)/3\n",
    "print(\"average is :\",average)\n",
    "#######################################\n",
    "a = int(input(\"enter number :\"))\n",
    "b = int(input(\"enter number :\"))\n",
    "c = int(input(\"enter number :\"))\n",
    "\n",
    "average = (a+b+c)/3\n",
    "print(\"average is :\",average) # if i am writing like this my line of code is increasing"
   ]
  },
  {
   "cell_type": "code",
   "execution_count": 19,
   "id": "7f6484d9-2198-4ebe-aa4c-6c16ae31b687",
   "metadata": {},
   "outputs": [],
   "source": [
    "# if i want to use it multiple times i can use functions to not write line agains and again\n",
    "def avg():\n",
    "    a = int(input(\"enter number :\"))\n",
    "    b = int(input(\"enter number :\"))\n",
    "    c = int(input(\"enter number :\"))\n",
    "\n",
    "    average = (a+b+c)/3\n",
    "    print(\"average is :\",average)\n",
    "    # it wont print anything untill i call the functions"
   ]
  },
  {
   "cell_type": "code",
   "execution_count": 24,
   "id": "a276fd7b-60f0-4458-af9a-d564873dba43",
   "metadata": {},
   "outputs": [
    {
     "name": "stdin",
     "output_type": "stream",
     "text": [
      "enter number : 1\n",
      "enter number : 2\n",
      "enter number : 3\n"
     ]
    },
    {
     "name": "stdout",
     "output_type": "stream",
     "text": [
      "average is : 2.0\n"
     ]
    },
    {
     "name": "stdin",
     "output_type": "stream",
     "text": [
      "enter number : 4\n",
      "enter number : 5\n",
      "enter number : 6\n"
     ]
    },
    {
     "name": "stdout",
     "output_type": "stream",
     "text": [
      "average is : 5.0\n"
     ]
    }
   ],
   "source": [
    "def avg(): # this is function definition\n",
    "    a = int(input(\"enter number :\"))\n",
    "    b = int(input(\"enter number :\"))\n",
    "    c = int(input(\"enter number :\"))\n",
    "\n",
    "    average = (a+b+c)/3\n",
    "    print(\"average is :\",average)\n",
    "avg() # this is function calling\n",
    "avg()"
   ]
  },
  {
   "cell_type": "markdown",
   "id": "6561bb59-f3af-461e-8518-3620f62e8c8f",
   "metadata": {
    "jp-MarkdownHeadingCollapsed": true
   },
   "source": [
    "#### Functions basics"
   ]
  },
  {
   "cell_type": "raw",
   "id": "0324398b-6aa4-40b8-aec8-55ac4ec20e10",
   "metadata": {},
   "source": [
    "user defined functions are again two types\n",
    "1) with arguments\n",
    "2) without arguments"
   ]
  },
  {
   "cell_type": "code",
   "execution_count": 26,
   "id": "67bacc75-b3a5-4ff9-b334-6e2db13efb7b",
   "metadata": {},
   "outputs": [
    {
     "name": "stdout",
     "output_type": "stream",
     "text": [
      "Good day\n"
     ]
    }
   ],
   "source": [
    "# without arguments\n",
    "# It is just a function\n",
    "def add():\n",
    "    print(\"Good day\")\n",
    "add()"
   ]
  },
  {
   "cell_type": "code",
   "execution_count": 29,
   "id": "2ffdc836-df55-42b4-9884-0c0ee05d8810",
   "metadata": {},
   "outputs": [
    {
     "name": "stdout",
     "output_type": "stream",
     "text": [
      "Good day, Himanshu\n"
     ]
    }
   ],
   "source": [
    "# with arguments\n",
    "def add(name): # name is an argument/parameter\n",
    "    print(\"Good day, \" + name)\n",
    "add(\"Himanshu\")"
   ]
  },
  {
   "cell_type": "markdown",
   "id": "695ed379",
   "metadata": {
    "jp-MarkdownHeadingCollapsed": true
   },
   "source": [
    "#### Diffrence b/w print and return"
   ]
  },
  {
   "cell_type": "code",
   "execution_count": 3,
   "id": "b2aa2895",
   "metadata": {},
   "outputs": [
    {
     "name": "stdout",
     "output_type": "stream",
     "text": [
      "40\n"
     ]
    }
   ],
   "source": [
    "#notic here\n",
    "def print_result(a,b):\n",
    "    print(a+b)\n",
    "print_result(10,30)#it just printed the result"
   ]
  },
  {
   "cell_type": "code",
   "execution_count": 4,
   "id": "1d3ed42a",
   "metadata": {},
   "outputs": [
    {
     "name": "stdout",
     "output_type": "stream",
     "text": [
      "40\n"
     ]
    }
   ],
   "source": [
    "#notic here\n",
    "def print_result(a,b):\n",
    "    print(a+b)\n",
    "result=print_result(10,30)#notic that if i store it as variale python will only print the result\n",
    "#and when i will call the result it will not return anything"
   ]
  },
  {
   "cell_type": "code",
   "execution_count": 5,
   "id": "5a92890e",
   "metadata": {},
   "outputs": [],
   "source": [
    "result#see after calling result i dont get anything back ..because the type is none type"
   ]
  },
  {
   "cell_type": "code",
   "execution_count": 6,
   "id": "f1b4b9c9",
   "metadata": {},
   "outputs": [
    {
     "data": {
      "text/plain": [
       "NoneType"
      ]
     },
     "execution_count": 6,
     "metadata": {},
     "output_type": "execute_result"
    }
   ],
   "source": [
    "type(result)"
   ]
  },
  {
   "cell_type": "code",
   "execution_count": 7,
   "id": "dc82d3c3",
   "metadata": {},
   "outputs": [
    {
     "data": {
      "text/plain": [
       "30"
      ]
     },
     "execution_count": 7,
     "metadata": {},
     "output_type": "execute_result"
    }
   ],
   "source": [
    "#now see the result function now\n",
    "def return_result(a,b):\n",
    "    return a+b\n",
    "return_result(10,20)"
   ]
  },
  {
   "cell_type": "code",
   "execution_count": 8,
   "id": "c4aa82c5",
   "metadata": {},
   "outputs": [],
   "source": [
    "#now see the result function now\n",
    "def return_result(a,b):\n",
    "    return a+b\n",
    "result=return_result(10,20)#i saved the variable"
   ]
  },
  {
   "cell_type": "code",
   "execution_count": 9,
   "id": "4e22d336",
   "metadata": {},
   "outputs": [
    {
     "data": {
      "text/plain": [
       "30"
      ]
     },
     "execution_count": 9,
     "metadata": {},
     "output_type": "execute_result"
    }
   ],
   "source": [
    "result"
   ]
  },
  {
   "cell_type": "code",
   "execution_count": 10,
   "id": "f09df125-9982-4d5a-91b0-cfd4babaa177",
   "metadata": {},
   "outputs": [
    {
     "name": "stdout",
     "output_type": "stream",
     "text": [
      "<class 'int'>\n"
     ]
    }
   ],
   "source": [
    "print(type(result))"
   ]
  },
  {
   "cell_type": "raw",
   "id": "317ca3bb-6aee-4ae8-90ff-2b8e841b02f3",
   "metadata": {},
   "source": [
    "Typically we use the **return** keyword to send back the result of the function, instead of just  printing it out.\n",
    "\n",
    "**Return** allows us to assign the output of the function to a new variable."
   ]
  },
  {
   "cell_type": "markdown",
   "id": "ce28ff5a-f82f-4a86-a82e-534b0eba18ba",
   "metadata": {
    "jp-MarkdownHeadingCollapsed": true
   },
   "source": [
    "#### Arguments\n",
    "\n",
    "Variable defined inside the definiton (def) of the function is called arguments\n",
    "\n",
    "There are 4 types of arguments:\n",
    "1) position\n",
    "2) Default\n",
    "3) keywords\n",
    "4) Arbitrary/variable length"
   ]
  },
  {
   "cell_type": "markdown",
   "id": "c7bd900e-e862-40e4-bff8-540f9efdff4a",
   "metadata": {
    "jp-MarkdownHeadingCollapsed": true
   },
   "source": [
    "##### Positional"
   ]
  },
  {
   "cell_type": "code",
   "execution_count": 20,
   "id": "cae956ff",
   "metadata": {
    "scrolled": true
   },
   "outputs": [
    {
     "name": "stdout",
     "output_type": "stream",
     "text": [
      "50\n"
     ]
    }
   ],
   "source": [
    "def show(a,b):\n",
    "    return(a+b)\n",
    "print(show(20,30))"
   ]
  },
  {
   "cell_type": "code",
   "execution_count": 22,
   "id": "286c8fc7-b352-4c49-8d4a-636ffe8be7f5",
   "metadata": {},
   "outputs": [
    {
     "name": "stdout",
     "output_type": "stream",
     "text": [
      "Good morning , john Doe\n"
     ]
    }
   ],
   "source": [
    "# Question: Create a function greet(first_name, last_name) that takes a first name and a last name as positional arguments \n",
    "# and prints a greeting message. Call the function with the names \"John\" and \"Doe\".\n",
    "\n",
    "def greet(first_name, last_name):\n",
    "    print(f\"Good morning , {first_name} {last_name}\")\n",
    "greet(\"john\",\"Doe\")"
   ]
  },
  {
   "cell_type": "markdown",
   "id": "558acf0c-4473-4c00-87f1-6f80519bd341",
   "metadata": {
    "jp-MarkdownHeadingCollapsed": true
   },
   "source": [
    "##### Keyword Arguments"
   ]
  },
  {
   "cell_type": "code",
   "execution_count": 13,
   "id": "b76b7a0d",
   "metadata": {},
   "outputs": [
    {
     "name": "stdout",
     "output_type": "stream",
     "text": [
      "20 50 10\n"
     ]
    }
   ],
   "source": [
    "def test(x,y,z):\n",
    "    print(x,y,z)\n",
    "test(z=10,x=20,y=50)"
   ]
  },
  {
   "cell_type": "code",
   "execution_count": 29,
   "id": "afd75a8f-49ee-48f7-9d07-e57b591988c4",
   "metadata": {},
   "outputs": [
    {
     "name": "stdout",
     "output_type": "stream",
     "text": [
      "20\n"
     ]
    }
   ],
   "source": [
    "# Question: Create a function calculate_area(length, width) that calculates the area of a rectangle. Call the function using keyword arguments \n",
    "# with length=5 and width=3.\n",
    "\n",
    "def calculate_area(length, width):\n",
    "    return length*width\n",
    "result = calculate_area(width=4,length=5)\n",
    "print(result)"
   ]
  },
  {
   "cell_type": "code",
   "execution_count": 32,
   "id": "b5894e54-e7a6-4348-837b-11091b423d6e",
   "metadata": {},
   "outputs": [
    {
     "name": "stdout",
     "output_type": "stream",
     "text": [
      "Hi this is new german shepherd and his name is Hind ka sitara\n"
     ]
    }
   ],
   "source": [
    "# Question: Write a function describe_pet(pet_name, pet_type) that prints a message describing a pet. \n",
    "# Call the function using keyword arguments with pet_name=\"Hind ka sitara\" and pet_type=\"german shepherd\".\n",
    "\n",
    "def describe_pet(pet_name, pet_type):\n",
    "    print(f\"Hi this is new {pet_type} and his name is {pet_name}\")\n",
    "describe_pet(pet_name=\"Hind ka sitara\",pet_type=\"german shepherd\")"
   ]
  },
  {
   "cell_type": "markdown",
   "id": "5c3f6d24-d8c8-4f8d-9732-5982dcbc68df",
   "metadata": {
    "jp-MarkdownHeadingCollapsed": true
   },
   "source": [
    "##### Default Argument"
   ]
  },
  {
   "cell_type": "code",
   "execution_count": 14,
   "id": "fd69e410",
   "metadata": {},
   "outputs": [
    {
     "name": "stdout",
     "output_type": "stream",
     "text": [
      "('himanshu', 'Good Morning')\n",
      "('aman', 'Hello')\n"
     ]
    }
   ],
   "source": [
    "def display(name,msg=\"Hello\"):\n",
    "    return(name,msg)\n",
    "print(display(\"himanshu\",\"Good Morning\"))\n",
    "print(display(\"aman\")) # i am not passing any message here but it takes default value"
   ]
  },
  {
   "cell_type": "code",
   "execution_count": 24,
   "id": "5b6f24cd-2f94-4fb6-895a-6fce09771a11",
   "metadata": {},
   "outputs": [
    {
     "data": {
      "text/plain": [
       "64"
      ]
     },
     "execution_count": 24,
     "metadata": {},
     "output_type": "execute_result"
    }
   ],
   "source": [
    "# Question: Define a function power(base, exponent=2) that calculates the power of a number with a default exponent of 2. \n",
    "# Call the function with the base 4 and without specifying the exponent.\n",
    "def power(base, exponent=2):\n",
    "    return base**exponent\n",
    "power(8)"
   ]
  },
  {
   "cell_type": "code",
   "execution_count": 25,
   "id": "ed80c310-8006-4dbc-a0a5-7bb80dc04111",
   "metadata": {},
   "outputs": [
    {
     "name": "stdout",
     "output_type": "stream",
     "text": [
      "Hi this is virat he is 25 years old\n"
     ]
    }
   ],
   "source": [
    "# Question: Write a function introduce(name, age=25) that prints a message introducing a person, with a default age of 25. \n",
    "# Call the function with the name \"Alice\".\n",
    "\n",
    "def introduce(name, age=25):\n",
    "    print(f\"Hi this is {name} he is {age} years old\")\n",
    "introduce(\"virat\")"
   ]
  },
  {
   "cell_type": "markdown",
   "id": "b8ef1a96-ef2e-4331-9a3f-9626c43a451a",
   "metadata": {
    "jp-MarkdownHeadingCollapsed": true
   },
   "source": [
    "##### Arbitrary/Variable length arguments"
   ]
  },
  {
   "cell_type": "code",
   "execution_count": 18,
   "id": "91ee7300",
   "metadata": {},
   "outputs": [
    {
     "name": "stdout",
     "output_type": "stream",
     "text": [
      "hii himanshu your products are Mobile\n"
     ]
    }
   ],
   "source": [
    "def shopping(name,products):\n",
    "    print(\"hii\",name,\"your products are\",products)\n",
    "shopping(\"himanshu\",\"Mobile\")#yha pe multiple arguments ni lega ...see charger "
   ]
  },
  {
   "cell_type": "code",
   "execution_count": 16,
   "id": "4710baa2",
   "metadata": {},
   "outputs": [
    {
     "ename": "TypeError",
     "evalue": "shopping() takes 2 positional arguments but 3 were given",
     "output_type": "error",
     "traceback": [
      "\u001b[1;31m---------------------------------------------------------------------------\u001b[0m",
      "\u001b[1;31mTypeError\u001b[0m                                 Traceback (most recent call last)",
      "Cell \u001b[1;32mIn[16], line 3\u001b[0m\n\u001b[0;32m      1\u001b[0m \u001b[38;5;28;01mdef\u001b[39;00m \u001b[38;5;21mshopping\u001b[39m(name,products):\n\u001b[0;32m      2\u001b[0m     \u001b[38;5;28mprint\u001b[39m(\u001b[38;5;124m\"\u001b[39m\u001b[38;5;124mhii\u001b[39m\u001b[38;5;124m\"\u001b[39m,name,\u001b[38;5;124m\"\u001b[39m\u001b[38;5;124myour products are\u001b[39m\u001b[38;5;124m\"\u001b[39m,products)\n\u001b[1;32m----> 3\u001b[0m shopping(\u001b[38;5;124m\"\u001b[39m\u001b[38;5;124mhimanshu\u001b[39m\u001b[38;5;124m\"\u001b[39m,\u001b[38;5;124m\"\u001b[39m\u001b[38;5;124mMobile\u001b[39m\u001b[38;5;124m\"\u001b[39m,\u001b[38;5;124m\"\u001b[39m\u001b[38;5;124mcharger\u001b[39m\u001b[38;5;124m\"\u001b[39m)\n",
      "\u001b[1;31mTypeError\u001b[0m: shopping() takes 2 positional arguments but 3 were given"
     ]
    }
   ],
   "source": [
    "def shopping(name,products):\n",
    "    print(\"hii\",name,\"your products are\",products)\n",
    "shopping(\"himanshu\",\"Mobile\",\"charger\")"
   ]
  },
  {
   "cell_type": "code",
   "execution_count": 17,
   "id": "23b8e737",
   "metadata": {},
   "outputs": [
    {
     "name": "stdout",
     "output_type": "stream",
     "text": [
      "hii himanshu your products are ('Mobile', 'charger', 'laptop')\n"
     ]
    }
   ],
   "source": [
    "# to take multiple arguments\n",
    "def shopping(name,*products):\n",
    "    print(\"hii\",name,\"your products are\",products)\n",
    "shopping(\"himanshu\",\"Mobile\",\"charger\",\"laptop\")"
   ]
  },
  {
   "cell_type": "code",
   "execution_count": 36,
   "id": "43bcfc80-b505-4aea-aad9-7681569c1d08",
   "metadata": {},
   "outputs": [
    {
     "data": {
      "text/plain": [
       "100"
      ]
     },
     "execution_count": 36,
     "metadata": {},
     "output_type": "execute_result"
    }
   ],
   "source": [
    "# Question: Define a function sum_all(*numbers) that sums an arbitrary number of arguments. \n",
    "# Call the function with the numbers 1, 2, 3, 4, and 5.\n",
    "\n",
    "def sum_all(*numbers):\n",
    "    return sum(numbers)\n",
    "sum_all(20,30,40,10)"
   ]
  },
  {
   "cell_type": "code",
   "execution_count": 39,
   "id": "ff564a13-ece4-46b3-8359-b7d62f1b2fe3",
   "metadata": {},
   "outputs": [
    {
     "name": "stdout",
     "output_type": "stream",
     "text": [
      "apple\n",
      "banana\n",
      "cherry\n"
     ]
    }
   ],
   "source": [
    "# Question: Create a function list_fruits(*fruits) that takes an arbitrary number of fruit names and prints them. \n",
    "# Call the function with the fruit names \"apple\", \"banana\", and \"cherry\".\n",
    "\n",
    "def list_fruits(*fruits):\n",
    "    for i in fruits:\n",
    "        print(i)\n",
    "list_fruits(\"apple\", \"banana\", \"cherry\")"
   ]
  },
  {
   "cell_type": "markdown",
   "id": "4c79af36",
   "metadata": {
    "jp-MarkdownHeadingCollapsed": true
   },
   "source": [
    "##### *args---> similary as arbitary or variable length arguments\n",
    "we can pass many arguments inside the function that we have created \n",
    "\n",
    "instead of args we can write anything eg. spam,enhsks anything"
   ]
  },
  {
   "cell_type": "code",
   "execution_count": 42,
   "id": "4f33dd68-4f35-4c0d-9793-e667a1968fde",
   "metadata": {},
   "outputs": [
    {
     "name": "stdout",
     "output_type": "stream",
     "text": [
      "24\n"
     ]
    }
   ],
   "source": [
    "# Question: Define a function multiply_all(*args) that multiplies an arbitrary number of arguments together. \n",
    "# Call the function with the numbers 2, 3, and 4.\n",
    "def multiply_all(*args):\n",
    "    result = 1\n",
    "    for i in args:\n",
    "        result *= i\n",
    "    return result\n",
    "\n",
    "output = multiply_all(2,3,4)\n",
    "print(output)"
   ]
  },
  {
   "cell_type": "code",
   "execution_count": 44,
   "id": "0402a9b1",
   "metadata": {},
   "outputs": [
    {
     "name": "stdout",
     "output_type": "stream",
     "text": [
      "2\n",
      "3\n",
      "4\n"
     ]
    }
   ],
   "source": [
    "def multiply_all(*args):\n",
    "    for i in args:\n",
    "        print(i)\n",
    "multiply_all(2,3,4)"
   ]
  },
  {
   "cell_type": "markdown",
   "id": "1cec07ee",
   "metadata": {
    "jp-MarkdownHeadingCollapsed": true
   },
   "source": [
    "##### **kwargs\n",
    "\n",
    "instead of creating a tuple of values, what happens is we use star star kwargs, which is keyword arguments, and that builds a dictionary of key value pairs."
   ]
  },
  {
   "cell_type": "code",
   "execution_count": 13,
   "id": "4b249bdc",
   "metadata": {},
   "outputs": [],
   "source": [
    "# **kwargs return back a dictionary that you can then play around with your function"
   ]
  },
  {
   "cell_type": "code",
   "execution_count": 1,
   "id": "eeeb88b0-3dbf-4717-acfb-dbd67ca84e40",
   "metadata": {},
   "outputs": [
    {
     "name": "stdout",
     "output_type": "stream",
     "text": [
      "my fav are : {'fruit': 'apple', 'veggi': 'potato'}\n"
     ]
    }
   ],
   "source": [
    "def myfunc(**kwargs):\n",
    "    print(\"my fav are :\",kwargs)\n",
    "myfunc(fruit=\"apple\",veggi=\"potato\")"
   ]
  },
  {
   "cell_type": "code",
   "execution_count": 17,
   "id": "0e609644",
   "metadata": {},
   "outputs": [
    {
     "name": "stdout",
     "output_type": "stream",
     "text": [
      "{'fruit': 'apple', 'veggie': 'potato'}\n",
      "<class 'dict'>\n",
      "my fruit of choice is apple\n"
     ]
    }
   ],
   "source": [
    "def myfunc(**kwargs):\n",
    "    print(kwargs)\n",
    "    print(type(kwargs))\n",
    "    if 'fruit' in kwargs:\n",
    "        print('my fruit of choice is {}'.format(kwargs['fruit']))\n",
    "    else:\n",
    "        print('i did not find any fruit here')\n",
    "myfunc(fruit='apple',veggie='potato')"
   ]
  },
  {
   "cell_type": "code",
   "execution_count": 47,
   "id": "df3e7ed5-3244-48cf-a662-cf053022db21",
   "metadata": {},
   "outputs": [
    {
     "name": "stdout",
     "output_type": "stream",
     "text": [
      "name : Bob\n",
      "age : 27\n",
      "city : Boston\n"
     ]
    }
   ],
   "source": [
    "# Question: Create a function print_kwargs(**kwargs) that prints each key-value pair. Call the function with the keyword arguments \n",
    "# name=\"Bob\", age=27, and city=\"Boston\".\n",
    "def print_kwargs(**kwargs):\n",
    "    for key,value in kwargs.items():\n",
    "        print(f\"{key} : {value}\")\n",
    "print_kwargs(name=\"Bob\", age=27, city=\"Boston\")"
   ]
  },
  {
   "cell_type": "code",
   "execution_count": 49,
   "id": "533ec853-912c-4408-8177-93a84cebe47d",
   "metadata": {},
   "outputs": [
    {
     "data": {
      "text/plain": [
       "{'first_name': 'John', 'last_name': 'Doe', 'profession': 'Engineer'}"
      ]
     },
     "execution_count": 49,
     "metadata": {},
     "output_type": "execute_result"
    }
   ],
   "source": [
    "# Question: Write a function build_profile(**kwargs) that builds and prints a profile from keyword arguments.\n",
    "# Call the function with the keyword arguments first_name=\"John\", last_name=\"Doe\", and profession=\"Engineer\".\n",
    "\n",
    "def build_profile(**kwargs):\n",
    "    profile = {}\n",
    "    for key,value in kwargs.items():\n",
    "        profile[key]=value\n",
    "    return profile\n",
    "build_profile(first_name=\"John\", last_name=\"Doe\" , profession=\"Engineer\")"
   ]
  },
  {
   "cell_type": "markdown",
   "id": "205b9508-663d-4954-b95f-dfeb1f2622b4",
   "metadata": {
    "jp-MarkdownHeadingCollapsed": true
   },
   "source": [
    "##### Both Together"
   ]
  },
  {
   "cell_type": "code",
   "execution_count": 41,
   "id": "e2346ece",
   "metadata": {},
   "outputs": [
    {
     "name": "stdout",
     "output_type": "stream",
     "text": [
      "I would like 10 eggs\n"
     ]
    }
   ],
   "source": [
    "def myfunc(*args,**kwargs):\n",
    "    print('I would like {} {}'.format(args[0],kwargs['food']))\n",
    "myfunc(10,20,30,fruit='banana',food='eggs',animal='dog')"
   ]
  },
  {
   "cell_type": "code",
   "execution_count": 27,
   "id": "5a2c3101",
   "metadata": {},
   "outputs": [
    {
     "name": "stdout",
     "output_type": "stream",
     "text": [
      "(10, 20, 30)\n",
      "{'fruit': 'banana', 'food': 'eggs', 'animal': 'dog'}\n",
      "I would like 10 eggs\n"
     ]
    }
   ],
   "source": [
    "# Both Together\n",
    "def myfunc(*args,**kwargs):\n",
    "    print(args)\n",
    "    print(kwargs)\n",
    "    print('I would like {} {}'.format(args[0],kwargs['food']))\n",
    "myfunc(10,20,30,fruit='banana',food='eggs',animal='dog')"
   ]
  },
  {
   "cell_type": "markdown",
   "id": "4166a7f6",
   "metadata": {},
   "source": [
    "### Nested Statements and Scope in python\n",
    "\n",
    "scope --> jo variable hai ham use kis kis function me access kar skte hai , that is scope"
   ]
  },
  {
   "cell_type": "markdown",
   "id": "a72247d9",
   "metadata": {},
   "source": [
    "LEGB Rule:\n",
    "\n",
    "⚫L: Local - Names assigned in any way within a function (def or lambda), and not declared global in that function.\n",
    "\n",
    ". E: Enclosing function locals - Names in the local scope of any and all enclosing functions (def or lambda), from inner to outer.\n",
    "\n",
    "⚫G: Global (module) - Names assigned at the top-level of a module file, or declared global in a def within the file.\n",
    "\n",
    "• B: Built-in (Python) - Names preassigned in the built-in names module: open, range, SyntaxError,..."
   ]
  },
  {
   "cell_type": "markdown",
   "id": "d468a858-fe41-482e-af56-504af8bc6ab8",
   "metadata": {
    "jp-MarkdownHeadingCollapsed": true
   },
   "source": [
    "#### LEGB by taking Number Example\n",
    "\n",
    "https://youtu.be/R5uLNhRaGD0?si=N_7EbXUrtNdP7LPY\n",
    "\n",
    "Check this youtube vedio if you face any doubt"
   ]
  },
  {
   "cell_type": "markdown",
   "id": "a22894f3-0645-46e3-af45-112edfe49802",
   "metadata": {
    "jp-MarkdownHeadingCollapsed": true
   },
   "source": [
    "##### Local variable\n",
    "Local variables are defined within a function and are only accessible within that function. They are created when the function is called and destroyed when the function exits."
   ]
  },
  {
   "cell_type": "code",
   "execution_count": 3,
   "id": "1033942e-d771-45d7-afec-040619179d2e",
   "metadata": {},
   "outputs": [
    {
     "name": "stdout",
     "output_type": "stream",
     "text": [
      "Inside the function, local_var : 10\n"
     ]
    }
   ],
   "source": [
    "def myfunc():\n",
    "    local_var = 10\n",
    "    print(\"Inside the function, local_var :\",local_var)\n",
    "myfunc()\n",
    "# we can print the local variable inside the functions only"
   ]
  },
  {
   "cell_type": "code",
   "execution_count": 5,
   "id": "28ed2fae-3b30-4cbc-9c2d-59358eff29b7",
   "metadata": {},
   "outputs": [
    {
     "name": "stdout",
     "output_type": "stream",
     "text": [
      "Inside the function, local_var : 10\n"
     ]
    },
    {
     "ename": "NameError",
     "evalue": "name 'local_var' is not defined",
     "output_type": "error",
     "traceback": [
      "\u001b[1;31m---------------------------------------------------------------------------\u001b[0m",
      "\u001b[1;31mNameError\u001b[0m                                 Traceback (most recent call last)",
      "Cell \u001b[1;32mIn[5], line 5\u001b[0m\n\u001b[0;32m      3\u001b[0m     \u001b[38;5;28mprint\u001b[39m(\u001b[38;5;124m\"\u001b[39m\u001b[38;5;124mInside the function, local_var :\u001b[39m\u001b[38;5;124m\"\u001b[39m,local_var)\n\u001b[0;32m      4\u001b[0m myfunc()\n\u001b[1;32m----> 5\u001b[0m \u001b[38;5;28mprint\u001b[39m(\u001b[38;5;124m\"\u001b[39m\u001b[38;5;124moutside the function, local_var :\u001b[39m\u001b[38;5;124m\"\u001b[39m,local_var)\n",
      "\u001b[1;31mNameError\u001b[0m: name 'local_var' is not defined"
     ]
    }
   ],
   "source": [
    "def myfunc():\n",
    "    local_var = 10\n",
    "    print(\"Inside the function, local_var :\",local_var)\n",
    "myfunc()\n",
    "print(\"outside the function, local_var :\",local_var) # if you print local variable outside the function ,this will throw error "
   ]
  },
  {
   "cell_type": "code",
   "execution_count": 11,
   "id": "79050699-bd6e-46f8-8a03-03f2003bacf0",
   "metadata": {},
   "outputs": [
    {
     "name": "stdout",
     "output_type": "stream",
     "text": [
      "78.5\n"
     ]
    }
   ],
   "source": [
    "def calculate_area(radius):\n",
    "    pi = 3.14  # Local variable\n",
    "    area = pi * radius * radius\n",
    "    return area\n",
    "\n",
    "print(calculate_area(5))\n",
    "# print(pi)  # Uncommenting this line will cause an error"
   ]
  },
  {
   "cell_type": "markdown",
   "id": "98a3daf6-cdea-4a61-96d1-ca1ead157b5a",
   "metadata": {
    "jp-MarkdownHeadingCollapsed": true
   },
   "source": [
    "##### Global variable\n",
    "Global variables are defined outside of any function and are accessible from any function within the same module. They exist for the duration of the program."
   ]
  },
  {
   "cell_type": "code",
   "execution_count": 13,
   "id": "4ab99f3d-661f-4ded-8d19-d07d5ee88749",
   "metadata": {},
   "outputs": [
    {
     "name": "stdout",
     "output_type": "stream",
     "text": [
      "Inside the function , global_var = 20\n"
     ]
    }
   ],
   "source": [
    "global_var = 20 # global variable\n",
    "def myfunc():\n",
    "    print(\"Inside the function , global_var =\",global_var)\n",
    "myfunc()"
   ]
  },
  {
   "cell_type": "code",
   "execution_count": 14,
   "id": "926c476d-29d8-4c37-8862-c27121357c75",
   "metadata": {},
   "outputs": [
    {
     "name": "stdout",
     "output_type": "stream",
     "text": [
      "Inside the function , global_var = 20\n",
      "Outside the function , global_var = 20\n"
     ]
    }
   ],
   "source": [
    "global_var = 20 # global variable\n",
    "def myfunc():\n",
    "    print(\"Inside the function , global_var =\",global_var)\n",
    "myfunc()\n",
    "print(\"Outside the function , global_var =\",global_var)"
   ]
  },
  {
   "cell_type": "code",
   "execution_count": 6,
   "id": "c2eb010d-69e7-463c-a0dd-42bc5b7972d8",
   "metadata": {},
   "outputs": [
    {
     "name": "stdout",
     "output_type": "stream",
     "text": [
      "i am local variable priority is given to me : 10\n",
      "i am global variable : 20\n"
     ]
    }
   ],
   "source": [
    "# when we define the local and global variables with same name\n",
    "# then priority is given to local variable first\n",
    "a = 20\n",
    "def demo():\n",
    "    a = 10\n",
    "    print(\"i am local variable priority is given to me :\",a)\n",
    "demo()\n",
    "print(\"i am global variable :\",a) # if we dont print the global variable then only local variable will be printed"
   ]
  },
  {
   "cell_type": "code",
   "execution_count": 9,
   "id": "e6d1beb5-2b92-40fc-bc31-d04efd67e808",
   "metadata": {},
   "outputs": [
    {
     "name": "stdout",
     "output_type": "stream",
     "text": [
      "10 90\n",
      "local variable is 90\n",
      "global variable is 10\n",
      "local variable is 10\n"
     ]
    }
   ],
   "source": [
    "# global variable\n",
    "a = 10 # global variable can be accessed all over the scripts\n",
    "def test():\n",
    "    b = 90 # local variable can be accessed only inside the function\n",
    "    print(a,b)\n",
    "    print(\"local variable is\",b)\n",
    "test()\n",
    "print(\"global variable is\",a)\n",
    "print(\"local variable is\",b) # error"
   ]
  },
  {
   "cell_type": "code",
   "execution_count": 17,
   "id": "ff1f4493-bde9-47e6-bedc-e93ee850399b",
   "metadata": {},
   "outputs": [
    {
     "name": "stdout",
     "output_type": "stream",
     "text": [
      "10\n"
     ]
    }
   ],
   "source": [
    "# we can also define or access the global variable inside the function using global keyword\n",
    "# or we can convert the local variable as global variable\n",
    "def demo():\n",
    "    global b # defining the local variable as global variable\n",
    "    b = 10\n",
    "    # a = 100\n",
    "    # print(b)\n",
    "demo()\n",
    "print(b)"
   ]
  },
  {
   "cell_type": "code",
   "execution_count": 21,
   "id": "730800b6-cab9-4703-b509-5d80899d7cff",
   "metadata": {},
   "outputs": [
    {
     "name": "stdout",
     "output_type": "stream",
     "text": [
      "Inside the function, x = 15\n",
      "Outside the function, x = 15\n"
     ]
    }
   ],
   "source": [
    "x = 10\n",
    "def increment():\n",
    "    global x # When we want to acess global variable into local variable then we put global keyword\n",
    "    # if we try to update without using global keyword then it will throw unbounderror\n",
    "    x = x + 5\n",
    "    print(f\"Inside the function, x = {x}\")\n",
    "increment()\n",
    "print(f\"Outside the function, x = {x}\")\n",
    "# in the memory there is only one copy global variable is available , that's why all the functions share that one copy of global variable\n",
    "# and if you accessed and updated that global variable in local scope , that updates will reflect in the original variable also"
   ]
  },
  {
   "cell_type": "markdown",
   "id": "58868bc0-89b2-49a5-84de-a6860a28e608",
   "metadata": {
    "jp-MarkdownHeadingCollapsed": true
   },
   "source": [
    "##### Enclosing scope and nested functions"
   ]
  },
  {
   "cell_type": "code",
   "execution_count": 25,
   "id": "e696e51a-2d03-42e3-b30b-e84ee02492e3",
   "metadata": {},
   "outputs": [
    {
     "name": "stdout",
     "output_type": "stream",
     "text": [
      "value of inner function = 30\n"
     ]
    }
   ],
   "source": [
    "# Now LEGB rule first checks the variable in Local then in Enclosing then in Global then in Built in\n",
    "# for that we will use nested functions\n",
    "\n",
    "a = 10 # global variable\n",
    "def outer():\n",
    "    a = 20 # local for outer function but Enclosing variable for inner function\n",
    "    def inner():\n",
    "        a = 30 # local for inner function\n",
    "        print(\"value of inner function =\",a) # according to LEGB rule it is giving preference to local variable\n",
    "    inner()\n",
    "outer()\n",
    "# to call the inner function we first call the outer function"
   ]
  },
  {
   "cell_type": "raw",
   "id": "9d81f3f9-918f-4870-b6b9-e2157285cabe",
   "metadata": {},
   "source": [
    "Now focus here we are removing the local variable from inner() \n",
    "Now according to LEGB it will give preference to Enclosing variable"
   ]
  },
  {
   "cell_type": "code",
   "execution_count": 27,
   "id": "f60b71cf-0644-4124-933d-1b974febdac9",
   "metadata": {},
   "outputs": [
    {
     "name": "stdout",
     "output_type": "stream",
     "text": [
      "value of inner function = 20\n"
     ]
    }
   ],
   "source": [
    "a = 10 # global variable\n",
    "def outer():\n",
    "    a = 20 # local for outer function but Enclosing variable for inner function\n",
    "    def inner():\n",
    "         # removed local for inner function\n",
    "        print(\"value of inner function =\",a)\n",
    "    inner()\n",
    "outer()"
   ]
  },
  {
   "cell_type": "raw",
   "id": "b6eec6ed-f915-4180-8a7a-7925c9527028",
   "metadata": {},
   "source": [
    "Now we are removing both local and enclosing variable\n",
    "so it will start giving preference to global variable"
   ]
  },
  {
   "cell_type": "code",
   "execution_count": 28,
   "id": "5d646083-95fe-40d0-a83c-85825ac1bc92",
   "metadata": {},
   "outputs": [
    {
     "name": "stdout",
     "output_type": "stream",
     "text": [
      "value of inner function = 10\n"
     ]
    }
   ],
   "source": [
    "a = 10 # global variable\n",
    "def outer():\n",
    "    # removed local for outer function but Enclosing variable for inner function\n",
    "    def inner():\n",
    "         # removed local for inner function\n",
    "        print(\"value of inner function =\",a)\n",
    "    inner()\n",
    "outer()"
   ]
  },
  {
   "cell_type": "code",
   "execution_count": 30,
   "id": "7e76783a-40d1-4aa2-b2be-68780b0f04b7",
   "metadata": {},
   "outputs": [
    {
     "name": "stdout",
     "output_type": "stream",
     "text": [
      "value of inner function = 40\n"
     ]
    }
   ],
   "source": [
    "a = 10 # global variable\n",
    "def outer():\n",
    "    a = 20 # local for outer function but Enclosing variable for inner function\n",
    "    def inner():\n",
    "        global a # used the global variable as local\n",
    "        a = a + 30\n",
    "        print(\"value of inner function =\",a) # according to LEGB rule it is giving preference to local variable\n",
    "    inner()\n",
    "outer()"
   ]
  },
  {
   "cell_type": "raw",
   "id": "7bb62569-3052-4145-8374-bdd4ebd64157",
   "metadata": {},
   "source": [
    "Now if you want to access the enclosing variable into local variable\n",
    "So for that you have to write nonlocal inside the local variable function , check below programm"
   ]
  },
  {
   "cell_type": "code",
   "execution_count": 31,
   "id": "78dbe014-ed32-4c5d-b298-1510341d0d5c",
   "metadata": {},
   "outputs": [
    {
     "name": "stdout",
     "output_type": "stream",
     "text": [
      "value of inner function = 50\n"
     ]
    }
   ],
   "source": [
    "a = 10 # global variable\n",
    "def outer():\n",
    "    a = 20 # local for outer function but Enclosing variable for inner function\n",
    "    def inner():\n",
    "        nonlocal a # used the enclosing variable as local\n",
    "        a = a + 30\n",
    "        print(\"value of inner function =\",a) # according to LEGB rule it is giving preference to local variable\n",
    "    inner()\n",
    "outer()"
   ]
  },
  {
   "cell_type": "raw",
   "id": "f6c1b5f3-f6c5-4db5-9973-7a8392c0a05e",
   "metadata": {},
   "source": [
    "Now removing all the local,global and enclosing variable\n",
    "\n",
    "then the programm will access the Builtin variable according to LEGB rule\n",
    "\n",
    "check below how"
   ]
  },
  {
   "cell_type": "code",
   "execution_count": 33,
   "id": "eb9c7f9e-31e9-48a0-bd4b-9dfd9a515628",
   "metadata": {},
   "outputs": [
    {
     "name": "stdout",
     "output_type": "stream",
     "text": [
      "value of pi is = 3.141592653589793\n"
     ]
    }
   ],
   "source": [
    "from math import pi\n",
    "def outer():\n",
    "    # Enclosing variable\n",
    "    def inner():\n",
    "        # local variable\n",
    "        print(\"value of pi is =\",pi) # according to LEGB rule in the last is Builtin variable\n",
    "    inner()\n",
    "outer()"
   ]
  },
  {
   "cell_type": "markdown",
   "id": "9e20075b-186d-4936-b3b1-eb0817e32fe8",
   "metadata": {
    "jp-MarkdownHeadingCollapsed": true
   },
   "source": [
    "#### LEGB by taking strings example"
   ]
  },
  {
   "cell_type": "code",
   "execution_count": 11,
   "id": "4e235e8a",
   "metadata": {},
   "outputs": [
    {
     "name": "stdout",
     "output_type": "stream",
     "text": [
      "Hello sammy\n"
     ]
    }
   ],
   "source": [
    "#Global\n",
    "name = 'This is a global string'\n",
    "def greet():\n",
    "    #Enclosing\n",
    "    name = 'sammy'\n",
    "    def hello():\n",
    "        print('Hello '+ name)\n",
    "    hello()\n",
    "greet()"
   ]
  },
  {
   "cell_type": "code",
   "execution_count": 12,
   "id": "58088431",
   "metadata": {},
   "outputs": [
    {
     "name": "stdout",
     "output_type": "stream",
     "text": [
      "Hello This is a global string\n"
     ]
    }
   ],
   "source": [
    "name = 'This is a global string'\n",
    "def greet():\n",
    "    #name = 'sammy'\n",
    "    def hello():\n",
    "        print('Hello '+ name)\n",
    "    hello()\n",
    "greet()"
   ]
  },
  {
   "cell_type": "code",
   "execution_count": 14,
   "id": "f57c4cba",
   "metadata": {},
   "outputs": [
    {
     "name": "stdout",
     "output_type": "stream",
     "text": [
      "Hello I am a local\n"
     ]
    }
   ],
   "source": [
    "#Global\n",
    "name = 'This is a global string'\n",
    "def greet():\n",
    "    #Enclosing\n",
    "    name = 'sammy'\n",
    "    def hello():\n",
    "        #Local\n",
    "        name = 'I am a local'\n",
    "        print('Hello '+ name)\n",
    "    hello()\n",
    "greet()"
   ]
  },
  {
   "cell_type": "code",
   "execution_count": 15,
   "id": "f997a4da",
   "metadata": {},
   "outputs": [
    {
     "data": {
      "text/plain": [
       "<function len(obj, /)>"
      ]
     },
     "execution_count": 15,
     "metadata": {},
     "output_type": "execute_result"
    }
   ],
   "source": [
    "len #is a built in function"
   ]
  },
  {
   "cell_type": "code",
   "execution_count": 16,
   "id": "ecd0059e",
   "metadata": {},
   "outputs": [
    {
     "name": "stdout",
     "output_type": "stream",
     "text": [
      "Help on built-in function len in module builtins:\n",
      "\n",
      "len(obj, /)\n",
      "    Return the number of items in a container.\n",
      "\n"
     ]
    }
   ],
   "source": [
    "help(len)"
   ]
  },
  {
   "cell_type": "code",
   "execution_count": 17,
   "id": "69b65737",
   "metadata": {},
   "outputs": [],
   "source": [
    "x = 50\n",
    "def fun(x):\n",
    "    print(f'x is {x}')"
   ]
  },
  {
   "cell_type": "code",
   "execution_count": 18,
   "id": "e3439782",
   "metadata": {},
   "outputs": [
    {
     "name": "stdout",
     "output_type": "stream",
     "text": [
      "x is 50\n"
     ]
    }
   ],
   "source": [
    "fun(x)"
   ]
  },
  {
   "cell_type": "code",
   "execution_count": 22,
   "id": "d3e23ef9",
   "metadata": {},
   "outputs": [],
   "source": [
    "x = 50\n",
    "def fun(x):\n",
    "    print(f'x is {x}')\n",
    "    \n",
    "    #local reassignment !\n",
    "    x=200\n",
    "    print(f'i just locally changed x to {x}')"
   ]
  },
  {
   "cell_type": "code",
   "execution_count": 23,
   "id": "eedf546a",
   "metadata": {},
   "outputs": [
    {
     "name": "stdout",
     "output_type": "stream",
     "text": [
      "x is 50\n",
      "i just locally changed x to 200\n"
     ]
    }
   ],
   "source": [
    "fun(x)"
   ]
  },
  {
   "cell_type": "code",
   "execution_count": 24,
   "id": "31a70bbd",
   "metadata": {},
   "outputs": [
    {
     "name": "stdout",
     "output_type": "stream",
     "text": [
      "50\n"
     ]
    }
   ],
   "source": [
    "print(x)"
   ]
  },
  {
   "cell_type": "code",
   "execution_count": 33,
   "id": "c65538fb",
   "metadata": {},
   "outputs": [],
   "source": [
    "x = 50\n",
    "def func():\n",
    "    global x #in general as a begginer you should avoid using global inbuilt function\n",
    "    print(f'x is {x}')\n",
    "    \n",
    "    #local reassignment on a global variable !\n",
    "    x='new value'\n",
    "    print(f'i just locally changed global x to {x}')"
   ]
  },
  {
   "cell_type": "code",
   "execution_count": 34,
   "id": "9bcbaa3b",
   "metadata": {},
   "outputs": [
    {
     "name": "stdout",
     "output_type": "stream",
     "text": [
      "50\n"
     ]
    }
   ],
   "source": [
    "print(x)"
   ]
  },
  {
   "cell_type": "code",
   "execution_count": 35,
   "id": "24a8868c",
   "metadata": {},
   "outputs": [
    {
     "name": "stdout",
     "output_type": "stream",
     "text": [
      "x is 50\n",
      "i just locally changed global x to new value\n"
     ]
    }
   ],
   "source": [
    "func()"
   ]
  },
  {
   "cell_type": "code",
   "execution_count": 36,
   "id": "bdefe1ae",
   "metadata": {},
   "outputs": [],
   "source": [
    "x = 50\n",
    "def fun(x):\n",
    "    print(f'x is {x}')\n",
    "    \n",
    "    #local reassignment on a global variable !\n",
    "    x='new value'\n",
    "    print(f'i just locally changed x to {x}')\n",
    "    return x"
   ]
  },
  {
   "cell_type": "code",
   "execution_count": 37,
   "id": "3cf4e61c",
   "metadata": {},
   "outputs": [
    {
     "name": "stdout",
     "output_type": "stream",
     "text": [
      "50\n"
     ]
    }
   ],
   "source": [
    "print(x)"
   ]
  },
  {
   "cell_type": "code",
   "execution_count": 39,
   "id": "260f8cdf",
   "metadata": {},
   "outputs": [
    {
     "name": "stdout",
     "output_type": "stream",
     "text": [
      "x is 50\n",
      "i just locally changed x to new value\n"
     ]
    }
   ],
   "source": [
    "x = fun(x)"
   ]
  },
  {
   "cell_type": "code",
   "execution_count": 42,
   "id": "85596c02",
   "metadata": {},
   "outputs": [],
   "source": [
    "def almost_there(n):\n",
    "    return (abs(100-n) <= 10) or (abs(200-n) <= 10)"
   ]
  },
  {
   "cell_type": "code",
   "execution_count": 43,
   "id": "4b812a60",
   "metadata": {},
   "outputs": [
    {
     "data": {
      "text/plain": [
       "True"
      ]
     },
     "execution_count": 43,
     "metadata": {},
     "output_type": "execute_result"
    }
   ],
   "source": [
    "# Check\n",
    "almost_there(104)"
   ]
  },
  {
   "cell_type": "code",
   "execution_count": 44,
   "id": "8817a78c",
   "metadata": {},
   "outputs": [
    {
     "data": {
      "text/plain": [
       "False"
      ]
     },
     "execution_count": 44,
     "metadata": {},
     "output_type": "execute_result"
    }
   ],
   "source": [
    "# Check\n",
    "almost_there(150)"
   ]
  },
  {
   "cell_type": "code",
   "execution_count": 45,
   "id": "f066da29",
   "metadata": {},
   "outputs": [
    {
     "data": {
      "text/plain": [
       "True"
      ]
     },
     "execution_count": 45,
     "metadata": {},
     "output_type": "execute_result"
    }
   ],
   "source": [
    "# Check\n",
    "almost_there(209)"
   ]
  },
  {
   "cell_type": "code",
   "execution_count": null,
   "id": "98daba6b-769a-4642-9401-decb7d1cb79c",
   "metadata": {},
   "outputs": [],
   "source": []
  },
  {
   "cell_type": "markdown",
   "id": "26cad9e9",
   "metadata": {
    "jp-MarkdownHeadingCollapsed": true
   },
   "source": [
    "### Anonymous Function (Lambda Function)\n",
    "\n",
    "A lambda function can take any number of arguments, but can only have one expression\n",
    "\n",
    "or It is a Kind of function without def keyword or expression \n",
    "\n",
    "It's an anonymous function (the function without name)\n",
    "\n",
    "1) Syntax :\n",
    "   lambda arguments : expression"
   ]
  },
  {
   "cell_type": "markdown",
   "id": "e2cc34c6-79b6-46d0-aa84-82302bc3ce1a",
   "metadata": {},
   "source": [
    "##### Difference between regular function and Lambda function"
   ]
  },
  {
   "cell_type": "code",
   "execution_count": 1,
   "id": "ba2c46c5-f461-444d-b124-66e202ba839e",
   "metadata": {},
   "outputs": [
    {
     "data": {
      "text/plain": [
       "15"
      ]
     },
     "execution_count": 1,
     "metadata": {},
     "output_type": "execute_result"
    }
   ],
   "source": [
    "# Regular function \n",
    "def addition(x):\n",
    "    return x + 10\n",
    "addition(5)"
   ]
  },
  {
   "cell_type": "code",
   "execution_count": 2,
   "id": "ec7667dc-d40a-480a-ab07-75a3a636bbc6",
   "metadata": {},
   "outputs": [
    {
     "data": {
      "text/plain": [
       "16"
      ]
     },
     "execution_count": 2,
     "metadata": {},
     "output_type": "execute_result"
    }
   ],
   "source": [
    "# lambda function\n",
    "addition1 = lambda x : x + 10\n",
    "addition1(6)"
   ]
  },
  {
   "cell_type": "code",
   "execution_count": 49,
   "id": "570134d4-2891-4d8f-a018-01f573b1e169",
   "metadata": {},
   "outputs": [
    {
     "data": {
      "text/plain": [
       "8"
      ]
     },
     "execution_count": 49,
     "metadata": {},
     "output_type": "execute_result"
    }
   ],
   "source": [
    "# multiply operation\n",
    "m = lambda x,y : x*y\n",
    "m(2,4)"
   ]
  },
  {
   "cell_type": "code",
   "execution_count": 8,
   "id": "acd62281-c93d-4194-9f33-90bc2a83b3fa",
   "metadata": {},
   "outputs": [
    {
     "name": "stdin",
     "output_type": "stream",
     "text": [
      "enter any word: himanshu\n"
     ]
    },
    {
     "data": {
      "text/plain": [
       "8"
      ]
     },
     "execution_count": 8,
     "metadata": {},
     "output_type": "execute_result"
    }
   ],
   "source": [
    "# Q.return the length of the string\n",
    "string = input(\"enter any word:\")\n",
    "l = lambda string: len(string)\n",
    "l(string)"
   ]
  },
  {
   "cell_type": "code",
   "execution_count": 7,
   "id": "591baa7e-a1b5-4df4-abe9-06f22ff0c294",
   "metadata": {},
   "outputs": [
    {
     "name": "stdout",
     "output_type": "stream",
     "text": [
      "[1, 4, 9, 16, 25]\n"
     ]
    }
   ],
   "source": [
    "# Q.convert the list of integers to their corresponding square values\n",
    "number = [1, 2, 3, 4, 5]\n",
    "sq = list(map(lambda x: x**2, number))\n",
    "print(sq)"
   ]
  },
  {
   "cell_type": "code",
   "execution_count": 6,
   "id": "2a5820ac-4c7a-45e1-a43e-abf7ed66186d",
   "metadata": {},
   "outputs": [
    {
     "name": "stdout",
     "output_type": "stream",
     "text": [
      "[2, 4, 6, 8, 10]\n"
     ]
    }
   ],
   "source": [
    "# Q.filter out even numbers from a list\n",
    "num = [1,2,3,4,5,6,7,8,9,10]\n",
    "En = list(filter(lambda x : x%2==0 , num))\n",
    "print(En)"
   ]
  },
  {
   "cell_type": "code",
   "execution_count": 12,
   "id": "27a0b8f6-3ea2-4304-b067-496ea3223248",
   "metadata": {},
   "outputs": [
    {
     "name": "stdout",
     "output_type": "stream",
     "text": [
      "['app', 'bana', 'cherry', 'mangohhhh']\n"
     ]
    }
   ],
   "source": [
    "# Q.sort a list of string based on their alphabetical characters and  length\n",
    "fruits = ['app','bana','mangohhhh','cherry']\n",
    "sorted_string = sorted(fruits,key=lambda s: len(s))\n",
    "print(sorted_string)"
   ]
  },
  {
   "cell_type": "code",
   "execution_count": 13,
   "id": "afece4a4-63a1-4019-9110-11890cd1ddca",
   "metadata": {},
   "outputs": [
    {
     "name": "stdout",
     "output_type": "stream",
     "text": [
      "[(5, 0), (8, 1), (1, 2)]\n"
     ]
    }
   ],
   "source": [
    "pairs = [(1, 2), (8, 1), (5, 0)]\n",
    "sorted_pairs = sorted(pairs, key=lambda x: x[1])\n",
    "print(sorted_pairs)  # Output: [(5, 0), (3, 1), (1, 2)]"
   ]
  },
  {
   "cell_type": "code",
   "execution_count": 4,
   "id": "b8a86d05-e455-4fbc-ba3f-74786ad7b1cd",
   "metadata": {},
   "outputs": [
    {
     "data": {
      "text/plain": [
       "[{'name': 'virat', 'age': 25, 'occupation': 'batter'},\n",
       " {'name': 'shami', 'age': 45, 'occupation': 'bowler'},\n",
       " {'name': 'rohit', 'age': 65, 'occupation': 'batter'}]"
      ]
     },
     "execution_count": 4,
     "metadata": {},
     "output_type": "execute_result"
    }
   ],
   "source": [
    "# Given a list of dictionaries people, sort the list by the age of each person using a lambda function \n",
    "# with the sorted() function.\n",
    "people = [\n",
    "    {'name':'virat','age':25,'occupation':'batter'},\n",
    "    {'name':'rohit','age':65,'occupation':'batter'},\n",
    "    {'name':'shami','age':45,'occupation':'bowler'},\n",
    "]\n",
    "sorted(people,key=lambda x : x['age'])"
   ]
  },
  {
   "cell_type": "markdown",
   "id": "0ca3a0e4-ae47-49a3-895a-a83e3016eb1b",
   "metadata": {
    "jp-MarkdownHeadingCollapsed": true
   },
   "source": [
    "### Recurssion function\n",
    "\n",
    "simple a function which calls itself again and again that is recurssion function \n",
    "\n",
    "or \n",
    "\n",
    "Recurssion is the process of defining something in terms of itself.\n",
    "\n",
    "A physical world example would be to place two parallel mirror facing each other , Any object\n",
    "between them would be reflected recursively.\n",
    "\n",
    "https://www.youtube.com/watch?v=XYwJKFB8DUk"
   ]
  },
  {
   "cell_type": "code",
   "execution_count": 14,
   "id": "3d1ce553-302e-416c-a90d-3c0655587126",
   "metadata": {},
   "outputs": [],
   "source": [
    "# factorial(6) = 6x5x4x3x2x1\n",
    "# factorial(5) = 5x4x3x2x1\n",
    "# factorial(4) = 4x3x2x1\n",
    "# factorial(3) = 3x2x1\n",
    "# factorial(2) = 2x1\n",
    "# factorial(1) = 1\n",
    "# factorial(0) = 1"
   ]
  },
  {
   "cell_type": "code",
   "execution_count": 18,
   "id": "6eb1940f-609b-4e72-8bd3-5683a31b55af",
   "metadata": {},
   "outputs": [
    {
     "name": "stdin",
     "output_type": "stream",
     "text": [
      "enter a no. 5\n"
     ]
    },
    {
     "name": "stdout",
     "output_type": "stream",
     "text": [
      "the factorial of 5 is 120\n"
     ]
    }
   ],
   "source": [
    "# factorial function\n",
    "n= int(input(\"enter a no.\"))\n",
    "def fact(n):\n",
    "    if n == 1 :\n",
    "        return 1\n",
    "    else:\n",
    "        return n*fact(n-1)\n",
    "print(\"the factorial of\",n,\"is\",fact(n))\n",
    "\n",
    "# execution\n",
    "# suppose we are going to find \n",
    "# factorial(5) # when we compare the factorial 5 in if condition , the condition will false , then it comes in else block\n",
    "# 5 x factorial(4)\n",
    "# 5 x 4 x factorial(3)\n",
    "# 5 x 4 x 3 x factorial(2)\n",
    "# 5 x 4 x 3 x 2 x factorial(1)\n",
    "# 5 x 4 x 3 x 2 x 1--> 120"
   ]
  },
  {
   "cell_type": "code",
   "execution_count": 20,
   "id": "0f2392ec-100f-4264-a698-035d92b6bdf5",
   "metadata": {},
   "outputs": [
    {
     "name": "stdout",
     "output_type": "stream",
     "text": [
      "15\n"
     ]
    }
   ],
   "source": [
    "# sum of n natural numbers.\n",
    "def sum_natural(n):\n",
    "    # Base case: sum of 0 is 0\n",
    "    if n == 0:\n",
    "        return 0\n",
    "    # Recursive case: n + sum of (n-1) natural numbers\n",
    "    else:\n",
    "        return n + sum_natural(n - 1)\n",
    "\n",
    "print(sum_natural(5))  # Output: 15"
   ]
  },
  {
   "cell_type": "code",
   "execution_count": 2,
   "id": "dca57acf-9505-4fe8-abf1-687909b89dc0",
   "metadata": {},
   "outputs": [
    {
     "name": "stdout",
     "output_type": "stream",
     "text": [
      "8\n"
     ]
    }
   ],
   "source": [
    "# Power of a Number\n",
    "def power(b, p):\n",
    "    # Base case: any number to the power of 0 is 1\n",
    "    if p == 0:\n",
    "        return 1\n",
    "    # Recursive case: x * x^(n-1)\n",
    "    else:\n",
    "        return b * power(b, p - 1)\n",
    "\n",
    "print(power(2, 3))  # Output: 8\n",
    "\n",
    "# check execution in below cell"
   ]
  },
  {
   "cell_type": "code",
   "execution_count": 3,
   "id": "d3261993-0527-4b9c-b049-a450857f6c30",
   "metadata": {},
   "outputs": [],
   "source": [
    "# power(2,3)\n",
    "# 2 * power(2,2)\n",
    "# 2 * 2 * power(2,1)\n",
    "# 2 * 2 * 2 * power(2,0)\n",
    "# 2 * 2 * 2 * 1"
   ]
  },
  {
   "cell_type": "markdown",
   "id": "c72139c7-41b9-4cca-9f15-f35cfe8cadb7",
   "metadata": {},
   "source": [
    "### Decorators\n",
    "Decorator is a function that takes another function as an arguments and returns a function."
   ]
  },
  {
   "cell_type": "code",
   "execution_count": null,
   "id": "23cf5345-4a82-46a8-aec1-bcd85325b881",
   "metadata": {},
   "outputs": [],
   "source": []
  },
  {
   "cell_type": "code",
   "execution_count": null,
   "id": "0251ea23-5c30-4b4b-9e97-51d98ed78ce1",
   "metadata": {},
   "outputs": [],
   "source": []
  },
  {
   "cell_type": "code",
   "execution_count": null,
   "id": "8238fb27-d218-4cbd-b9b0-1be5b09ef373",
   "metadata": {},
   "outputs": [],
   "source": []
  },
  {
   "cell_type": "code",
   "execution_count": null,
   "id": "ad4bfb99-1822-48ef-8332-e85ee93da0b0",
   "metadata": {},
   "outputs": [],
   "source": []
  },
  {
   "cell_type": "code",
   "execution_count": null,
   "id": "97ae8113-4601-41be-86cb-28ce3be8ac24",
   "metadata": {},
   "outputs": [],
   "source": []
  },
  {
   "cell_type": "markdown",
   "id": "7a18374c",
   "metadata": {
    "jp-MarkdownHeadingCollapsed": true
   },
   "source": [
    "### Practice"
   ]
  },
  {
   "cell_type": "code",
   "execution_count": 45,
   "id": "39a87349",
   "metadata": {},
   "outputs": [
    {
     "name": "stdout",
     "output_type": "stream",
     "text": [
      "hello world\n"
     ]
    }
   ],
   "source": [
    "#Write a function called myfunc that prints the string 'Hello World'.\n",
    "def myfunc():\n",
    "    print('hello world')\n",
    "myfunc()"
   ]
  },
  {
   "cell_type": "code",
   "execution_count": 17,
   "id": "e48f15b8",
   "metadata": {},
   "outputs": [
    {
     "name": "stdout",
     "output_type": "stream",
     "text": [
      "My name is Himanshu\n"
     ]
    }
   ],
   "source": [
    "#Define a function called myfunc that takes in a name, and prints 'Hello Name' \n",
    "# NOTE: Define the function, but do not run it!\n",
    "# Also, do not use f-strings, as they are not supported in this Coding Exercise.\n",
    "def myfunc(name='Himanshu'):\n",
    "    print('My name is {}'.format(name))\n",
    "myfunc()"
   ]
  },
  {
   "cell_type": "code",
   "execution_count": 50,
   "id": "e7557d24",
   "metadata": {},
   "outputs": [],
   "source": [
    "#Define a function called myfunc that takes in a Boolean value (True or False). If True, return 'Hello', and if False, return 'Goodbye'\n",
    "#Remember, don't run the function, simply provide the definition.\n",
    "#For example, a function that returns 'Inside' if a is True and 'Outside' if a is False could look like:\n",
    "def myfunc(a):\n",
    "    if a==True:\n",
    "        return 'Hello'\n",
    "    elif a==False:\n",
    "        return 'Goodbye'"
   ]
  },
  {
   "cell_type": "code",
   "execution_count": 57,
   "id": "d9d7199f",
   "metadata": {},
   "outputs": [],
   "source": [
    "#using Boolean\n",
    "#Define a function called myfunc that takes three arguments, x, y and z.\n",
    "#If z is True, return x.  If z is False, return y.\n",
    "def myfunc(x,y,z):\n",
    "    if z==True:\n",
    "        return x\n",
    "    else:\n",
    "        return y"
   ]
  },
  {
   "cell_type": "code",
   "execution_count": 59,
   "id": "ca15327b",
   "metadata": {},
   "outputs": [
    {
     "ename": "NameError",
     "evalue": "name 'x' is not defined",
     "output_type": "error",
     "traceback": [
      "\u001b[1;31m---------------------------------------------------------------------------\u001b[0m",
      "\u001b[1;31mNameError\u001b[0m                                 Traceback (most recent call last)",
      "\u001b[1;32m~\\AppData\\Local\\Temp\\ipykernel_10116\\3187959946.py\u001b[0m in \u001b[0;36m<module>\u001b[1;34m\u001b[0m\n\u001b[1;32m----> 1\u001b[1;33m \u001b[0mmyfunc\u001b[0m\u001b[1;33m(\u001b[0m\u001b[0mx\u001b[0m\u001b[1;33m,\u001b[0m\u001b[0my\u001b[0m\u001b[1;33m,\u001b[0m\u001b[0mz\u001b[0m\u001b[1;33m)\u001b[0m\u001b[1;33m\u001b[0m\u001b[1;33m\u001b[0m\u001b[0m\n\u001b[0m",
      "\u001b[1;31mNameError\u001b[0m: name 'x' is not defined"
     ]
    }
   ],
   "source": [
    "myfunc(x,y,z)"
   ]
  },
  {
   "cell_type": "code",
   "execution_count": 1,
   "id": "abd56b01",
   "metadata": {},
   "outputs": [
    {
     "data": {
      "text/plain": [
       "30"
      ]
     },
     "execution_count": 1,
     "metadata": {},
     "output_type": "execute_result"
    }
   ],
   "source": [
    "# simple math\n",
    "def myfunc(a,b):\n",
    "    return a*b\n",
    "myfunc(5,6)"
   ]
  },
  {
   "cell_type": "code",
   "execution_count": 7,
   "id": "4dd01a73",
   "metadata": {},
   "outputs": [
    {
     "data": {
      "text/plain": [
       "True"
      ]
     },
     "execution_count": 7,
     "metadata": {},
     "output_type": "execute_result"
    }
   ],
   "source": [
    "#Define a function called is_even that takes in one argument, and returns True if the passed-in value is even, False if it is not.\n",
    "def is_even(n):\n",
    "    if n%3==0:\n",
    "        return True\n",
    "    else:\n",
    "        return False\n",
    "is_even(6)"
   ]
  },
  {
   "cell_type": "code",
   "execution_count": 15,
   "id": "3e1fe7e1",
   "metadata": {},
   "outputs": [
    {
     "data": {
      "text/plain": [
       "True"
      ]
     },
     "execution_count": 15,
     "metadata": {},
     "output_type": "execute_result"
    }
   ],
   "source": [
    "#Define a function called is_greater that takes in two arguments, and returns True if the first value is greater than the second,\n",
    "#False if it is less than or equal to the second\n",
    "def is_greater(x,y):\n",
    "    if x>y:\n",
    "        return True\n",
    "    else:\n",
    "        return False\n",
    "is_greater(6,3)#call by refrence"
   ]
  },
  {
   "cell_type": "code",
   "execution_count": 16,
   "id": "734b8403",
   "metadata": {},
   "outputs": [
    {
     "data": {
      "text/plain": [
       "False"
      ]
     },
     "execution_count": 16,
     "metadata": {},
     "output_type": "execute_result"
    }
   ],
   "source": [
    "#Define a function called is_greater that takes in two arguments, and returns True if the first value is greater than the second,\n",
    "#False if it is less than or equal to the second\n",
    "def is_greater(x,y):\n",
    "    if x>y:\n",
    "        return True\n",
    "    else:\n",
    "        return False\n",
    "is_greater(3,6)"
   ]
  },
  {
   "cell_type": "code",
   "execution_count": 30,
   "id": "d6252e06",
   "metadata": {},
   "outputs": [
    {
     "name": "stdout",
     "output_type": "stream",
     "text": [
      "local Geeksforgeeks\n",
      "Global Geeks\n"
     ]
    }
   ],
   "source": [
    "string=\"Geeks\"\n",
    "def func(string):\n",
    "    string=\"Geeksforgeeks\"\n",
    "    print(\"local\",string)\n",
    "func(string)\n",
    "print(\"Global\",string)"
   ]
  },
  {
   "cell_type": "code",
   "execution_count": 31,
   "id": "7ed3371a",
   "metadata": {},
   "outputs": [
    {
     "name": "stdout",
     "output_type": "stream",
     "text": [
      "local GeeksforgeeksGeeksforgeeksGeeksforgeeks\n",
      "Global Geeks\n"
     ]
    }
   ],
   "source": [
    "string=\"Geeks\"\n",
    "def func(string):\n",
    "    string=\"Geeksforgeeks\"*3\n",
    "    print(\"local\",string)\n",
    "func(string)\n",
    "print(\"Global\",string)"
   ]
  },
  {
   "cell_type": "code",
   "execution_count": 32,
   "id": "7510438e",
   "metadata": {},
   "outputs": [
    {
     "ename": "TypeError",
     "evalue": "can only concatenate str (not \"int\") to str",
     "output_type": "error",
     "traceback": [
      "\u001b[1;31m---------------------------------------------------------------------------\u001b[0m",
      "\u001b[1;31mTypeError\u001b[0m                                 Traceback (most recent call last)",
      "\u001b[1;32m~\\AppData\\Local\\Temp\\ipykernel_12284\\849825760.py\u001b[0m in \u001b[0;36m<module>\u001b[1;34m\u001b[0m\n\u001b[0;32m      3\u001b[0m     \u001b[0mstring\u001b[0m\u001b[1;33m=\u001b[0m\u001b[1;34m\"Geeksforgeeks\"\u001b[0m\u001b[1;33m+\u001b[0m\u001b[1;36m3\u001b[0m\u001b[1;33m\u001b[0m\u001b[1;33m\u001b[0m\u001b[0m\n\u001b[0;32m      4\u001b[0m     \u001b[0mprint\u001b[0m\u001b[1;33m(\u001b[0m\u001b[1;34m\"local\"\u001b[0m\u001b[1;33m,\u001b[0m\u001b[0mstring\u001b[0m\u001b[1;33m)\u001b[0m\u001b[1;33m\u001b[0m\u001b[1;33m\u001b[0m\u001b[0m\n\u001b[1;32m----> 5\u001b[1;33m \u001b[0mfunc\u001b[0m\u001b[1;33m(\u001b[0m\u001b[0mstring\u001b[0m\u001b[1;33m)\u001b[0m\u001b[1;33m\u001b[0m\u001b[1;33m\u001b[0m\u001b[0m\n\u001b[0m\u001b[0;32m      6\u001b[0m \u001b[0mprint\u001b[0m\u001b[1;33m(\u001b[0m\u001b[1;34m\"Global\"\u001b[0m\u001b[1;33m,\u001b[0m\u001b[0mstring\u001b[0m\u001b[1;33m)\u001b[0m\u001b[1;33m\u001b[0m\u001b[1;33m\u001b[0m\u001b[0m\n",
      "\u001b[1;32m~\\AppData\\Local\\Temp\\ipykernel_12284\\849825760.py\u001b[0m in \u001b[0;36mfunc\u001b[1;34m(string)\u001b[0m\n\u001b[0;32m      1\u001b[0m \u001b[0mstring\u001b[0m\u001b[1;33m=\u001b[0m\u001b[1;34m\"Geeks\"\u001b[0m\u001b[1;33m\u001b[0m\u001b[1;33m\u001b[0m\u001b[0m\n\u001b[0;32m      2\u001b[0m \u001b[1;32mdef\u001b[0m \u001b[0mfunc\u001b[0m\u001b[1;33m(\u001b[0m\u001b[0mstring\u001b[0m\u001b[1;33m)\u001b[0m\u001b[1;33m:\u001b[0m\u001b[1;33m\u001b[0m\u001b[1;33m\u001b[0m\u001b[0m\n\u001b[1;32m----> 3\u001b[1;33m     \u001b[0mstring\u001b[0m\u001b[1;33m=\u001b[0m\u001b[1;34m\"Geeksforgeeks\"\u001b[0m\u001b[1;33m+\u001b[0m\u001b[1;36m3\u001b[0m\u001b[1;33m\u001b[0m\u001b[1;33m\u001b[0m\u001b[0m\n\u001b[0m\u001b[0;32m      4\u001b[0m     \u001b[0mprint\u001b[0m\u001b[1;33m(\u001b[0m\u001b[1;34m\"local\"\u001b[0m\u001b[1;33m,\u001b[0m\u001b[0mstring\u001b[0m\u001b[1;33m)\u001b[0m\u001b[1;33m\u001b[0m\u001b[1;33m\u001b[0m\u001b[0m\n\u001b[0;32m      5\u001b[0m \u001b[0mfunc\u001b[0m\u001b[1;33m(\u001b[0m\u001b[0mstring\u001b[0m\u001b[1;33m)\u001b[0m\u001b[1;33m\u001b[0m\u001b[1;33m\u001b[0m\u001b[0m\n",
      "\u001b[1;31mTypeError\u001b[0m: can only concatenate str (not \"int\") to str"
     ]
    }
   ],
   "source": [
    "string=\"Geeks\"\n",
    "def func(string):\n",
    "    string=\"Geeksforgeeks\"+3\n",
    "    print(\"local\",string)\n",
    "func(string)\n",
    "print(\"Global\",string)"
   ]
  },
  {
   "cell_type": "code",
   "execution_count": 33,
   "id": "5873ea9c",
   "metadata": {},
   "outputs": [
    {
     "name": "stdout",
     "output_type": "stream",
     "text": [
      "local Geeksforgeeks\n",
      "Geeksforgeeks\n",
      "Global Geeks\n"
     ]
    }
   ],
   "source": [
    "string=\"Geeks\"\n",
    "def func(string):\n",
    "    string=\"Geeksforgeeks\"\n",
    "    print(\"local\",string)\n",
    "    def func2(string):\n",
    "        string=111\n",
    "        print(string)\n",
    "        def func3(string):\n",
    "            string+=0\n",
    "            print(string)\n",
    "        print(string)\n",
    "    print(string)\n",
    "func(string)\n",
    "print(\"Global\",string)"
   ]
  },
  {
   "cell_type": "code",
   "execution_count": null,
   "id": "d566f021",
   "metadata": {},
   "outputs": [],
   "source": []
  },
  {
   "cell_type": "code",
   "execution_count": 39,
   "id": "ae90c90d",
   "metadata": {},
   "outputs": [
    {
     "name": "stdout",
     "output_type": "stream",
     "text": [
      "local Geeksforgeeks\n",
      "Geeksforgeeks\n",
      "111\n",
      "111\n",
      "111\n",
      "Global Geeks\n"
     ]
    }
   ],
   "source": [
    "string=\"Geeks\"\n",
    "def func(string):\n",
    "    string=\"Geeksforgeeks\"\n",
    "    print(\"local\",string)\n",
    "    def func2(string):\n",
    "        string=111\n",
    "        print(string)\n",
    "        def func3(string):\n",
    "            string+=0\n",
    "            print(string)\n",
    "        func3(string)\n",
    "        print(string)\n",
    "    print(string)\n",
    "    func2(string)\n",
    "func(string)\n",
    "print(\"Global\",string)"
   ]
  }
 ],
 "metadata": {
  "kernelspec": {
   "display_name": "Python 3 (ipykernel)",
   "language": "python",
   "name": "python3"
  },
  "language_info": {
   "codemirror_mode": {
    "name": "ipython",
    "version": 3
   },
   "file_extension": ".py",
   "mimetype": "text/x-python",
   "name": "python",
   "nbconvert_exporter": "python",
   "pygments_lexer": "ipython3",
   "version": "3.12.7"
  },
  "widgets": {
   "application/vnd.jupyter.widget-state+json": {
    "state": {},
    "version_major": 2,
    "version_minor": 0
   }
  }
 },
 "nbformat": 4,
 "nbformat_minor": 5
}
