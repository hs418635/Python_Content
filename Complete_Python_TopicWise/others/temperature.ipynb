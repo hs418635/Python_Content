{
 "cells": [
  {
   "cell_type": "code",
   "execution_count": null,
   "id": "684059e3",
   "metadata": {},
   "outputs": [],
   "source": [
    "#temperature.py\n",
    "''' This is used for temperature conversion'''\n",
    "def to_celcius(x):\n",
    "    '''converts temperature into celcius'''\n",
    "    return 5*(x-32)/9.0\n",
    "def to_fahren(x):\n",
    "    ''' converts temperature into fahrenheit'''\n",
    "    return 9*x/5.0+32\n",
    "#constant\n",
    "Freezing_C=0.0\n",
    "Freezing_F=32.0\n"
   ]
  },
  {
   "cell_type": "code",
   "execution_count": null,
   "id": "8bc5b89a",
   "metadata": {},
   "outputs": [],
   "source": []
  }
 ],
 "metadata": {
  "kernelspec": {
   "display_name": "Python 3 (ipykernel)",
   "language": "python",
   "name": "python3"
  },
  "language_info": {
   "codemirror_mode": {
    "name": "ipython",
    "version": 3
   },
   "file_extension": ".py",
   "mimetype": "text/x-python",
   "name": "python",
   "nbconvert_exporter": "python",
   "pygments_lexer": "ipython3",
   "version": "3.9.13"
  }
 },
 "nbformat": 4,
 "nbformat_minor": 5
}
