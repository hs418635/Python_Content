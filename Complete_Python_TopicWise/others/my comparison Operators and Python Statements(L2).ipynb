{
 "cells": [
  {
   "cell_type": "markdown",
   "id": "980f7271",
   "metadata": {},
   "source": [
    "# Comparison operators "
   ]
  },
  {
   "cell_type": "code",
   "execution_count": 1,
   "id": "4cf7e85a",
   "metadata": {},
   "outputs": [
    {
     "data": {
      "text/plain": [
       "True"
      ]
     },
     "execution_count": 1,
     "metadata": {},
     "output_type": "execute_result"
    }
   ],
   "source": [
    "2==2"
   ]
  },
  {
   "cell_type": "code",
   "execution_count": 2,
   "id": "ecce1aca",
   "metadata": {},
   "outputs": [
    {
     "data": {
      "text/plain": [
       "False"
      ]
     },
     "execution_count": 2,
     "metadata": {},
     "output_type": "execute_result"
    }
   ],
   "source": [
    "2==1"
   ]
  },
  {
   "cell_type": "code",
   "execution_count": 5,
   "id": "7ee94db4",
   "metadata": {},
   "outputs": [
    {
     "data": {
      "text/plain": [
       "True"
      ]
     },
     "execution_count": 5,
     "metadata": {},
     "output_type": "execute_result"
    }
   ],
   "source": [
    "'bye'=='bye'"
   ]
  },
  {
   "cell_type": "code",
   "execution_count": 6,
   "id": "90f728aa",
   "metadata": {},
   "outputs": [
    {
     "data": {
      "text/plain": [
       "False"
      ]
     },
     "execution_count": 6,
     "metadata": {},
     "output_type": "execute_result"
    }
   ],
   "source": [
    "'2'==2"
   ]
  },
  {
   "cell_type": "code",
   "execution_count": 7,
   "id": "ed86305d",
   "metadata": {},
   "outputs": [
    {
     "data": {
      "text/plain": [
       "False"
      ]
     },
     "execution_count": 7,
     "metadata": {},
     "output_type": "execute_result"
    }
   ],
   "source": [
    "3 != 3"
   ]
  },
  {
   "cell_type": "code",
   "execution_count": 8,
   "id": "4fa2f0f9",
   "metadata": {},
   "outputs": [
    {
     "data": {
      "text/plain": [
       "True"
      ]
     },
     "execution_count": 8,
     "metadata": {},
     "output_type": "execute_result"
    }
   ],
   "source": [
    "2 != 3"
   ]
  },
  {
   "cell_type": "code",
   "execution_count": 9,
   "id": "e7cb9f76",
   "metadata": {},
   "outputs": [
    {
     "data": {
      "text/plain": [
       "True"
      ]
     },
     "execution_count": 9,
     "metadata": {},
     "output_type": "execute_result"
    }
   ],
   "source": [
    "2<3"
   ]
  },
  {
   "cell_type": "code",
   "execution_count": 10,
   "id": "62481f71",
   "metadata": {},
   "outputs": [
    {
     "data": {
      "text/plain": [
       "True"
      ]
     },
     "execution_count": 10,
     "metadata": {},
     "output_type": "execute_result"
    }
   ],
   "source": [
    "3>2"
   ]
  },
  {
   "cell_type": "code",
   "execution_count": 11,
   "id": "2f56e761",
   "metadata": {},
   "outputs": [
    {
     "data": {
      "text/plain": [
       "True"
      ]
     },
     "execution_count": 11,
     "metadata": {},
     "output_type": "execute_result"
    }
   ],
   "source": [
    "4>=3"
   ]
  },
  {
   "cell_type": "markdown",
   "id": "3abb8b96",
   "metadata": {},
   "source": [
    "### Chaining Comparison Operators in python with Logical Operators\n",
    "\n",
    "In Python, operators are special symbols that designate that some sort of computation should be performed\n",
    "\n",
    "We can use logical operators to combine comparisons:\n",
    "\n",
    "and\n",
    "\n",
    "or \n",
    "\n",
    "not"
   ]
  },
  {
   "cell_type": "code",
   "execution_count": 12,
   "id": "64beb2dd",
   "metadata": {},
   "outputs": [
    {
     "data": {
      "text/plain": [
       "True"
      ]
     },
     "execution_count": 12,
     "metadata": {},
     "output_type": "execute_result"
    }
   ],
   "source": [
    "1<2"
   ]
  },
  {
   "cell_type": "code",
   "execution_count": 13,
   "id": "c7bd251e",
   "metadata": {},
   "outputs": [
    {
     "data": {
      "text/plain": [
       "False"
      ]
     },
     "execution_count": 13,
     "metadata": {},
     "output_type": "execute_result"
    }
   ],
   "source": [
    "2>3"
   ]
  },
  {
   "cell_type": "code",
   "execution_count": 14,
   "id": "9fd063d9",
   "metadata": {},
   "outputs": [
    {
     "data": {
      "text/plain": [
       "True"
      ]
     },
     "execution_count": 14,
     "metadata": {},
     "output_type": "execute_result"
    }
   ],
   "source": [
    "1<2<3"
   ]
  },
  {
   "cell_type": "code",
   "execution_count": 15,
   "id": "6e531a61",
   "metadata": {},
   "outputs": [
    {
     "data": {
      "text/plain": [
       "True"
      ]
     },
     "execution_count": 15,
     "metadata": {},
     "output_type": "execute_result"
    }
   ],
   "source": [
    "('h'=='h') and 2==2"
   ]
  },
  {
   "cell_type": "code",
   "execution_count": 16,
   "id": "b8c1dfe8",
   "metadata": {},
   "outputs": [
    {
     "data": {
      "text/plain": [
       "True"
      ]
     },
     "execution_count": 16,
     "metadata": {},
     "output_type": "execute_result"
    }
   ],
   "source": [
    "2==3 or 3==3"
   ]
  },
  {
   "cell_type": "code",
   "execution_count": 19,
   "id": "930c0e44",
   "metadata": {},
   "outputs": [
    {
     "data": {
      "text/plain": [
       "True"
      ]
     },
     "execution_count": 19,
     "metadata": {},
     "output_type": "execute_result"
    }
   ],
   "source": [
    "1==1"
   ]
  },
  {
   "cell_type": "code",
   "execution_count": 20,
   "id": "a7c8bf1d",
   "metadata": {},
   "outputs": [
    {
     "data": {
      "text/plain": [
       "False"
      ]
     },
     "execution_count": 20,
     "metadata": {},
     "output_type": "execute_result"
    }
   ],
   "source": [
    "not(1==1)"
   ]
  },
  {
   "cell_type": "code",
   "execution_count": 21,
   "id": "f4e00b5f",
   "metadata": {},
   "outputs": [
    {
     "data": {
      "text/plain": [
       "True"
      ]
     },
     "execution_count": 21,
     "metadata": {},
     "output_type": "execute_result"
    }
   ],
   "source": [
    "not(2==3)"
   ]
  },
  {
   "cell_type": "code",
   "execution_count": 22,
   "id": "a5b0de4e",
   "metadata": {},
   "outputs": [
    {
     "data": {
      "text/plain": [
       "True"
      ]
     },
     "execution_count": 22,
     "metadata": {},
     "output_type": "execute_result"
    }
   ],
   "source": [
    "not 300>400"
   ]
  },
  {
   "cell_type": "markdown",
   "id": "54fdd37c",
   "metadata": {},
   "source": [
    "# Python Statements\n",
    "\n",
    "### If Elif and Else Statements in Python"
   ]
  },
  {
   "cell_type": "code",
   "execution_count": 27,
   "id": "ca5ae978",
   "metadata": {},
   "outputs": [
    {
     "name": "stdout",
     "output_type": "stream",
     "text": [
      "i'm not hungry\n"
     ]
    }
   ],
   "source": [
    "hungry = False\n",
    "\n",
    "if hungry:\n",
    "    print('feed me')\n",
    "else:\n",
    "    print('i\\'m not hungry')"
   ]
  },
  {
   "cell_type": "code",
   "execution_count": 28,
   "id": "edff228b",
   "metadata": {},
   "outputs": [
    {
     "name": "stdout",
     "output_type": "stream",
     "text": [
      "i do not know much\n"
     ]
    }
   ],
   "source": [
    "location = 'bank'\n",
    "if location=='auto shop':\n",
    "    print('cars are cool')\n",
    "else:\n",
    "    print('i do not know much')"
   ]
  },
  {
   "cell_type": "code",
   "execution_count": 29,
   "id": "38843d16",
   "metadata": {},
   "outputs": [
    {
     "name": "stdout",
     "output_type": "stream",
     "text": [
      "money is cool\n"
     ]
    }
   ],
   "source": [
    "location = 'bank'\n",
    "if location=='auto shop':\n",
    "    print('cars are cool')\n",
    "elif location=='bank':\n",
    "    print('money is cool')\n",
    "else:\n",
    "    print('i do not know much')"
   ]
  },
  {
   "cell_type": "code",
   "execution_count": 30,
   "id": "54162262",
   "metadata": {},
   "outputs": [
    {
     "name": "stdout",
     "output_type": "stream",
     "text": [
      "cars are cool\n"
     ]
    }
   ],
   "source": [
    "location ='auto shop'\n",
    "if location=='auto shop':\n",
    "    print('cars are cool')\n",
    "elif location=='bank':\n",
    "    print('money is cool')\n",
    "elif location=='store':\n",
    "    print('welcome to the store')\n",
    "else:\n",
    "    print('i do not know much')"
   ]
  },
  {
   "cell_type": "code",
   "execution_count": 41,
   "id": "27dd05d2",
   "metadata": {},
   "outputs": [
    {
     "name": "stdout",
     "output_type": "stream",
     "text": [
      "20 50 100\n",
      "enter 20rs or 50rs or 100rs to travel:100\n",
      "you are allowed to travel till Chandnichawk\n"
     ]
    }
   ],
   "source": [
    "#Delhi metro programm\n",
    "\n",
    "s1f=20\n",
    "KashmiriGate_fair='20rs'\n",
    "s2f=50\n",
    "LaLQila_fair='50rs'\n",
    "s3f=100\n",
    "Chandnichawk_fair='100rs'\n",
    "print(f'{s1f} {s2f} {s3f}')\n",
    "fair=int(input('enter 20rs or 50rs or 100rs to travel:'))\n",
    "\n",
    "if fair==s1f:\n",
    "    print('you are allowed to travel till kashmiriGate')\n",
    "elif fair==s2f:\n",
    "    print('you are allowed to travel till LalQuila')\n",
    "elif fair==s3f:\n",
    "    print('you are allowed to travel till Chandnichawk')\n",
    "else:\n",
    "    print('please enter correct amount')\n"
   ]
  },
  {
   "cell_type": "markdown",
   "id": "7ace4002",
   "metadata": {},
   "source": [
    "# Loops\n",
    "\n",
    "## For loop\n",
    "In Python, the for loop is used to run a block of code for a certain number of times. It is used to iterate over any sequences such as list, tuple, string, etc."
   ]
  },
  {
   "attachments": {
    "image.png": {
     "image/png": "[encoded data removed]"
    }
   },
   "cell_type": "markdown",
   "id": "9117b684",
   "metadata": {},
   "source": [
    "![image.png](attachment:image.png)"
   ]
  },
  {
   "cell_type": "markdown",
   "id": "475f9c7c",
   "metadata": {},
   "source": [
    "#### For loop with lists"
   ]
  },
  {
   "cell_type": "code",
   "execution_count": 52,
   "id": "fe634bf0",
   "metadata": {},
   "outputs": [
    {
     "name": "stdout",
     "output_type": "stream",
     "text": [
      "1\n",
      "2\n",
      "3\n",
      "4\n",
      "5\n"
     ]
    }
   ],
   "source": [
    "mylist=[1,2,3,4,5,]\n",
    "for i in mylist:\n",
    "    print(i)\n"
   ]
  },
  {
   "cell_type": "code",
   "execution_count": 53,
   "id": "e1aa78b1",
   "metadata": {},
   "outputs": [
    {
     "name": "stdout",
     "output_type": "stream",
     "text": [
      "HImanshu\n",
      "HImanshu\n",
      "HImanshu\n",
      "HImanshu\n",
      "HImanshu\n"
     ]
    }
   ],
   "source": [
    "mylist=[1,2,3,4,5,]\n",
    "for i in mylist:\n",
    "    print(\"HImanshu\")\n"
   ]
  },
  {
   "cell_type": "code",
   "execution_count": 54,
   "id": "c1d1d489",
   "metadata": {},
   "outputs": [
    {
     "name": "stdout",
     "output_type": "stream",
     "text": [
      "odd number:1\n",
      "2\n",
      "odd number:3\n",
      "4\n",
      "odd number:5\n"
     ]
    }
   ],
   "source": [
    "#check even from mylist\n",
    "for num in mylist:\n",
    "    if num % 2==0:\n",
    "        print(num)\n",
    "    else:\n",
    "        print(f'odd number:{num}')"
   ]
  },
  {
   "cell_type": "code",
   "execution_count": 55,
   "id": "3a079123",
   "metadata": {},
   "outputs": [
    {
     "name": "stdout",
     "output_type": "stream",
     "text": [
      "15\n"
     ]
    }
   ],
   "source": [
    "mylist=[1,2,3,4,5,]\n",
    "list_sum = 0# making a list_sum variable to store sum\n",
    "for num in mylist:\n",
    "    list_sum = list_sum + num\n",
    "print(list_sum)"
   ]
  },
  {
   "cell_type": "code",
   "execution_count": 56,
   "id": "fd58886a",
   "metadata": {},
   "outputs": [
    {
     "name": "stdout",
     "output_type": "stream",
     "text": [
      "1\n",
      "3\n",
      "6\n",
      "10\n",
      "15\n"
     ]
    }
   ],
   "source": [
    "#agr mai print ko for loop ke andr likh du to kya hoga lets see\n",
    "mylist=[1,2,3,4,5,]\n",
    "list_sum = 0\n",
    "for num in mylist:\n",
    "    list_sum = list_sum + num\n",
    "    print(list_sum)"
   ]
  },
  {
   "cell_type": "markdown",
   "id": "8dd05f42",
   "metadata": {},
   "source": [
    "##### for loop with strings\n",
    "\n",
    "Remember, strings are a sequence, so that means we can iterate through them and we'll be acessing each character in that string"
   ]
  },
  {
   "cell_type": "code",
   "execution_count": 58,
   "id": "6088f39a",
   "metadata": {},
   "outputs": [
    {
     "name": "stdout",
     "output_type": "stream",
     "text": [
      "H\n",
      "i\n",
      "m\n",
      "a\n",
      "n\n",
      "s\n",
      "h\n",
      "u\n"
     ]
    }
   ],
   "source": [
    "for i in 'Himanshu':# YOu dont need to assign variable again and again\n",
    "    print(i)"
   ]
  },
  {
   "cell_type": "markdown",
   "id": "f06f9724",
   "metadata": {},
   "source": [
    "#### for loop in tuple"
   ]
  },
  {
   "cell_type": "code",
   "execution_count": 59,
   "id": "b1c9e83b",
   "metadata": {},
   "outputs": [
    {
     "name": "stdout",
     "output_type": "stream",
     "text": [
      "1\n",
      "2\n",
      "3\n"
     ]
    }
   ],
   "source": [
    "# we can also iterate Tuples\n",
    "tup=(1,2,3)\n",
    "for i in tup:\n",
    "    print(i)"
   ]
  },
  {
   "cell_type": "markdown",
   "id": "07d3d3f7",
   "metadata": {},
   "source": [
    "### Tuple and Packing"
   ]
  },
  {
   "cell_type": "code",
   "execution_count": 61,
   "id": "45b97c2b",
   "metadata": {},
   "outputs": [
    {
     "data": {
      "text/plain": [
       "4"
      ]
     },
     "execution_count": 61,
     "metadata": {},
     "output_type": "execute_result"
    }
   ],
   "source": [
    "mylist=[(1,2),(3,4),(5,6),(7,8)]\n",
    "len(mylist)"
   ]
  },
  {
   "cell_type": "code",
   "execution_count": 62,
   "id": "3b8c06c8",
   "metadata": {},
   "outputs": [
    {
     "name": "stdout",
     "output_type": "stream",
     "text": [
      "(1, 2)\n",
      "(3, 4)\n",
      "(5, 6)\n",
      "(7, 8)\n"
     ]
    }
   ],
   "source": [
    "for item in mylist:\n",
    "    print(item)"
   ]
  },
  {
   "cell_type": "code",
   "execution_count": 66,
   "id": "68add55a",
   "metadata": {},
   "outputs": [
    {
     "name": "stdout",
     "output_type": "stream",
     "text": [
      "1\n",
      "2\n",
      "3\n",
      "4\n",
      "5\n",
      "6\n",
      "7\n",
      "8\n"
     ]
    }
   ],
   "source": [
    "#accessing individual items\n",
    "for (a,b) in mylist:#assgined tuples as variable a and b\n",
    "    print(a)\n",
    "    print(b)"
   ]
  },
  {
   "cell_type": "code",
   "execution_count": 68,
   "id": "daefff0f",
   "metadata": {},
   "outputs": [
    {
     "name": "stdout",
     "output_type": "stream",
     "text": [
      "2\n",
      "4\n",
      "6\n",
      "8\n"
     ]
    }
   ],
   "source": [
    "#accessing individual items\n",
    "for (a,b) in mylist:#assgined tuples as variable a and b\n",
    "    print(b)#only accessing variable b"
   ]
  },
  {
   "cell_type": "markdown",
   "id": "faebaa79",
   "metadata": {},
   "source": [
    "#### for loop in dictionary"
   ]
  },
  {
   "cell_type": "code",
   "execution_count": 70,
   "id": "6ed2dca4",
   "metadata": {},
   "outputs": [
    {
     "name": "stdout",
     "output_type": "stream",
     "text": [
      "k1\n",
      "k2\n",
      "k3\n"
     ]
    }
   ],
   "source": [
    "d={'k1':1,'k2':2,'k3':3}\n",
    "for i in d:\n",
    "    print(i)"
   ]
  },
  {
   "cell_type": "code",
   "execution_count": 71,
   "id": "19e18bc2",
   "metadata": {},
   "outputs": [
    {
     "name": "stdout",
     "output_type": "stream",
     "text": [
      "('k1', 1)\n",
      "('k2', 2)\n",
      "('k3', 3)\n"
     ]
    }
   ],
   "source": [
    "#if you actually want to iterate through the items themselves, what you need to do is call the items\n",
    "d={'k1':1,'k2':2,'k3':3}\n",
    "for i in d.items():\n",
    "    print(i)"
   ]
  },
  {
   "cell_type": "markdown",
   "id": "25c8420f",
   "metadata": {},
   "source": [
    "# While loop in python\n",
    "\n",
    "With the while loop we can execute a set of statements as long as a condition is true."
   ]
  },
  {
   "attachments": {
    "image.png": {
     "image/png": "[encoded data removed]"
    }
   },
   "cell_type": "markdown",
   "id": "4759c0b8",
   "metadata": {},
   "source": [
    "![image.png](attachment:image.png)"
   ]
  },
  {
   "cell_type": "code",
   "execution_count": 72,
   "id": "1eaaf8db",
   "metadata": {},
   "outputs": [
    {
     "name": "stdout",
     "output_type": "stream",
     "text": [
      "the current value of x is 0\n",
      "the current value of x is 1\n",
      "the current value of x is 2\n",
      "the current value of x is 3\n",
      "the current value of x is 4\n"
     ]
    }
   ],
   "source": [
    "x= 0\n",
    "while x<5:\n",
    "    print(f'the current value of x is {x}')\n",
    "    x += 1"
   ]
  },
  {
   "cell_type": "code",
   "execution_count": 74,
   "id": "b47a9182",
   "metadata": {},
   "outputs": [
    {
     "name": "stdout",
     "output_type": "stream",
     "text": [
      "x is not less than 5\n"
     ]
    }
   ],
   "source": [
    "x= 50\n",
    "while x<5:\n",
    "    print(f'the current value of x is {x}')\n",
    "    x += 1\n",
    "else:\n",
    "    print('x is not less than 5')"
   ]
  },
  {
   "attachments": {
    "image.png": {
     "image/png": "[encoded data removed]"
    }
   },
   "cell_type": "markdown",
   "id": "ee284b18",
   "metadata": {},
   "source": [
    "![image.png](attachment:image.png)"
   ]
  },
  {
   "cell_type": "code",
   "execution_count": 76,
   "id": "31b76fb5",
   "metadata": {},
   "outputs": [
    {
     "ename": "IndentationError",
     "evalue": "expected an indented block (3562811761.py, line 4)",
     "output_type": "error",
     "traceback": [
      "\u001b[1;36m  File \u001b[1;32m\"C:\\Users\\Acer\\AppData\\Local\\Temp\\ipykernel_12912\\3562811761.py\"\u001b[1;36m, line \u001b[1;32m4\u001b[0m\n\u001b[1;33m    #comments\u001b[0m\n\u001b[1;37m             ^\u001b[0m\n\u001b[1;31mIndentationError\u001b[0m\u001b[1;31m:\u001b[0m expected an indented block\n"
     ]
    }
   ],
   "source": [
    "#jaha pe comment likha hai vaha pe kuchh indentation bhi hai esliye error aigy\n",
    "x=[1,2,3]\n",
    "for i in x:\n",
    "    #comments"
   ]
  },
  {
   "cell_type": "code",
   "execution_count": 78,
   "id": "e074837b",
   "metadata": {},
   "outputs": [
    {
     "name": "stdout",
     "output_type": "stream",
     "text": [
      "this is end of my script\n"
     ]
    }
   ],
   "source": [
    "#we will use pass statement, and to avoid indent error we use pass keyword\n",
    "x=[1,2,3]\n",
    "for i in x:\n",
    "    #comments\n",
    "    pass\n",
    "print('this is end of my script')"
   ]
  },
  {
   "cell_type": "code",
   "execution_count": 81,
   "id": "4e65fda4",
   "metadata": {},
   "outputs": [
    {
     "name": "stdout",
     "output_type": "stream",
     "text": [
      "H\n",
      "I\n",
      "m\n",
      "n\n",
      "s\n",
      "h\n",
      "u\n"
     ]
    }
   ],
   "source": [
    "#continue statement\n",
    "mystring='HImanshu'\n",
    "for letter in mystring:\n",
    "    if letter =='a':\n",
    "        continue\n",
    "    print(letter)\n",
    "    "
   ]
  },
  {
   "cell_type": "code",
   "execution_count": 82,
   "id": "f82fd4e7",
   "metadata": {},
   "outputs": [
    {
     "name": "stdout",
     "output_type": "stream",
     "text": [
      "H\n",
      "I\n",
      "m\n"
     ]
    }
   ],
   "source": [
    "#break statement\n",
    "mystring='HImanshu'\n",
    "for letter in mystring:\n",
    "    if letter =='a':\n",
    "        break\n",
    "    print(letter)\n",
    "    "
   ]
  },
  {
   "cell_type": "markdown",
   "id": "e8be4f40",
   "metadata": {},
   "source": [
    "# Useful Operators in Python"
   ]
  },
  {
   "cell_type": "code",
   "execution_count": 2,
   "id": "e49e5a58",
   "metadata": {},
   "outputs": [
    {
     "name": "stdout",
     "output_type": "stream",
     "text": [
      "0\n",
      "1\n",
      "2\n",
      "3\n",
      "4\n",
      "5\n"
     ]
    }
   ],
   "source": [
    "mylist = [1,2,3]\n",
    "for num in range(6):\n",
    "    print(num)"
   ]
  },
  {
   "cell_type": "code",
   "execution_count": 4,
   "id": "4bea04bf",
   "metadata": {},
   "outputs": [
    {
     "name": "stdout",
     "output_type": "stream",
     "text": [
      "2\n",
      "3\n",
      "4\n",
      "5\n"
     ]
    }
   ],
   "source": [
    "for num in range(2,6):#range operator\n",
    "    print(num)"
   ]
  },
  {
   "cell_type": "code",
   "execution_count": 8,
   "id": "491a59a7",
   "metadata": {},
   "outputs": [
    {
     "name": "stdout",
     "output_type": "stream",
     "text": [
      "0\n",
      "2\n",
      "4\n",
      "6\n",
      "8\n"
     ]
    }
   ],
   "source": [
    "for num in range(0,10,2):#step size or range function for iteration\n",
    "    print(num)"
   ]
  },
  {
   "cell_type": "code",
   "execution_count": 9,
   "id": "305c0b4c",
   "metadata": {},
   "outputs": [
    {
     "data": {
      "text/plain": [
       "[0, 2, 4, 6, 8, 10]"
      ]
     },
     "execution_count": 9,
     "metadata": {},
     "output_type": "execute_result"
    }
   ],
   "source": [
    "#generators\n",
    "list(range(0,11,2))"
   ]
  },
  {
   "cell_type": "code",
   "execution_count": 13,
   "id": "c9b81b2d",
   "metadata": {},
   "outputs": [
    {
     "name": "stdout",
     "output_type": "stream",
     "text": [
      " At index 0 the letter is a\n",
      " At index 1 the letter is b\n",
      " At index 2 the letter is c\n",
      " At index 3 the letter is d\n",
      " At index 4 the letter is e\n"
     ]
    }
   ],
   "source": [
    "index_count = 0\n",
    "\n",
    "for letter in 'abcde':\n",
    "    print(f' At index {index_count} the letter is {letter}')\n",
    "    index_count +=1"
   ]
  },
  {
   "cell_type": "markdown",
   "id": "5671b2ac",
   "metadata": {},
   "source": [
    "## Enumerate function\n",
    "\n",
    "The enumerate function in Python converts a data collection object into an enumerate object. Enumerate returns an object that contains a counter as a key for each value within an object, making items within the collection easier to access."
   ]
  },
  {
   "cell_type": "code",
   "execution_count": 16,
   "id": "1b738ccd",
   "metadata": {},
   "outputs": [
    {
     "name": "stdout",
     "output_type": "stream",
     "text": [
      "0\n",
      "a\n",
      "\n",
      "\n",
      "1\n",
      "b\n",
      "\n",
      "\n",
      "2\n",
      "c\n",
      "\n",
      "\n"
     ]
    }
   ],
   "source": [
    "word = 'abc'\n",
    "for index,letter in enumerate(word):\n",
    "    print(index)\n",
    "    print(letter)\n",
    "    print('\\n')"
   ]
  },
  {
   "cell_type": "markdown",
   "id": "8848841b",
   "metadata": {},
   "source": [
    "## zip function\n",
    "\n",
    "Python zip() method takes iterable or containers and returns a single iterator object, having mapped values from all the containers."
   ]
  },
  {
   "cell_type": "code",
   "execution_count": 27,
   "id": "9455080b",
   "metadata": {},
   "outputs": [],
   "source": [
    "mylist1 = [1,2,3,4,5,6]\n",
    "mylist2 = ['a','b','c']\n",
    "mylist3 = [100,200,300]"
   ]
  },
  {
   "cell_type": "code",
   "execution_count": 28,
   "id": "8b134efc",
   "metadata": {},
   "outputs": [
    {
     "data": {
      "text/plain": [
       "<zip at 0x27d25007f80>"
      ]
     },
     "execution_count": 28,
     "metadata": {},
     "output_type": "execute_result"
    }
   ],
   "source": [
    "zip(mylist1,mylist2)"
   ]
  },
  {
   "cell_type": "code",
   "execution_count": 29,
   "id": "cf614568",
   "metadata": {},
   "outputs": [
    {
     "name": "stdout",
     "output_type": "stream",
     "text": [
      "(1, 'a', 100)\n",
      "(2, 'b', 200)\n",
      "(3, 'c', 300)\n"
     ]
    }
   ],
   "source": [
    "for item in zip(mylist1,mylist2,mylist3):\n",
    "    print(item)"
   ]
  },
  {
   "cell_type": "code",
   "execution_count": 30,
   "id": "7530d7b7",
   "metadata": {},
   "outputs": [
    {
     "data": {
      "text/plain": [
       "[(1, 'a'), (2, 'b'), (3, 'c')]"
      ]
     },
     "execution_count": 30,
     "metadata": {},
     "output_type": "execute_result"
    }
   ],
   "source": [
    "list(zip(mylist1,mylist2))"
   ]
  },
  {
   "cell_type": "code",
   "execution_count": 31,
   "id": "34a445a4",
   "metadata": {},
   "outputs": [
    {
     "data": {
      "text/plain": [
       "True"
      ]
     },
     "execution_count": 31,
     "metadata": {},
     "output_type": "execute_result"
    }
   ],
   "source": [
    "'x' in ['x','y','z']"
   ]
  },
  {
   "cell_type": "code",
   "execution_count": 32,
   "id": "1649fd68",
   "metadata": {},
   "outputs": [
    {
     "data": {
      "text/plain": [
       "False"
      ]
     },
     "execution_count": 32,
     "metadata": {},
     "output_type": "execute_result"
    }
   ],
   "source": [
    "'x' in [1,2,3]"
   ]
  },
  {
   "cell_type": "code",
   "execution_count": 33,
   "id": "a4851cef",
   "metadata": {},
   "outputs": [],
   "source": [
    "#finding min or max value from the list using min and max function\n",
    "\n",
    "mylist = [10,20,30,40,100]\n"
   ]
  },
  {
   "cell_type": "code",
   "execution_count": 34,
   "id": "524692f5",
   "metadata": {},
   "outputs": [
    {
     "data": {
      "text/plain": [
       "10"
      ]
     },
     "execution_count": 34,
     "metadata": {},
     "output_type": "execute_result"
    }
   ],
   "source": [
    "min(mylist)"
   ]
  },
  {
   "cell_type": "code",
   "execution_count": 35,
   "id": "536dc4f9",
   "metadata": {},
   "outputs": [
    {
     "data": {
      "text/plain": [
       "100"
      ]
     },
     "execution_count": 35,
     "metadata": {},
     "output_type": "execute_result"
    }
   ],
   "source": [
    "max(mylist)"
   ]
  },
  {
   "cell_type": "markdown",
   "id": "ee79094d",
   "metadata": {},
   "source": [
    "### Random library in python\n",
    "\n",
    "Importing function from Random library\n"
   ]
  },
  {
   "cell_type": "code",
   "execution_count": 36,
   "id": "ddac7f11",
   "metadata": {},
   "outputs": [],
   "source": [
    "from random import shuffle # shuffle randomly shuffles around any sort of list"
   ]
  },
  {
   "cell_type": "code",
   "execution_count": 39,
   "id": "079a3ce3",
   "metadata": {},
   "outputs": [
    {
     "data": {
      "text/plain": [
       "[2, 7, 9, 6, 8, 4, 1, 5, 3]"
      ]
     },
     "execution_count": 39,
     "metadata": {},
     "output_type": "execute_result"
    }
   ],
   "source": [
    "mylist = [1,2,3,4,5,6,7,8,9]\n",
    "shuffle(mylist)\n",
    "mylist"
   ]
  },
  {
   "cell_type": "code",
   "execution_count": 44,
   "id": "543a19a1",
   "metadata": {},
   "outputs": [],
   "source": [
    "from random import randint #randint used to randomly select integer from list"
   ]
  },
  {
   "cell_type": "code",
   "execution_count": 45,
   "id": "3bb2fb44",
   "metadata": {},
   "outputs": [
    {
     "data": {
      "text/plain": [
       "68"
      ]
     },
     "execution_count": 45,
     "metadata": {},
     "output_type": "execute_result"
    }
   ],
   "source": [
    "randint(0,100) "
   ]
  },
  {
   "cell_type": "code",
   "execution_count": 46,
   "id": "adf92679",
   "metadata": {},
   "outputs": [
    {
     "data": {
      "text/plain": [
       "74"
      ]
     },
     "execution_count": 46,
     "metadata": {},
     "output_type": "execute_result"
    }
   ],
   "source": [
    "randint(0,100)"
   ]
  },
  {
   "cell_type": "markdown",
   "id": "7259ff1a",
   "metadata": {},
   "source": [
    "#### input function"
   ]
  },
  {
   "cell_type": "code",
   "execution_count": 47,
   "id": "077e6821",
   "metadata": {},
   "outputs": [
    {
     "name": "stdout",
     "output_type": "stream",
     "text": [
      "Enter a number here:20\n"
     ]
    }
   ],
   "source": [
    "result = input('Enter a number here:')"
   ]
  },
  {
   "cell_type": "code",
   "execution_count": 48,
   "id": "d1e76258",
   "metadata": {},
   "outputs": [
    {
     "data": {
      "text/plain": [
       "str"
      ]
     },
     "execution_count": 48,
     "metadata": {},
     "output_type": "execute_result"
    }
   ],
   "source": [
    "type(result)"
   ]
  },
  {
   "cell_type": "code",
   "execution_count": 49,
   "id": "9f5301db",
   "metadata": {},
   "outputs": [
    {
     "data": {
      "text/plain": [
       "20.0"
      ]
     },
     "execution_count": 49,
     "metadata": {},
     "output_type": "execute_result"
    }
   ],
   "source": [
    "float(result)"
   ]
  },
  {
   "cell_type": "code",
   "execution_count": 50,
   "id": "cf78cf29",
   "metadata": {},
   "outputs": [
    {
     "data": {
      "text/plain": [
       "20"
      ]
     },
     "execution_count": 50,
     "metadata": {},
     "output_type": "execute_result"
    }
   ],
   "source": [
    "int(result)"
   ]
  },
  {
   "cell_type": "markdown",
   "id": "9664a478",
   "metadata": {},
   "source": [
    "# List comprehension\n",
    "\n",
    "List Comprehensions are a unique way of quickly creating a list with python.\n",
    "\n",
    "If you find yourself using a for loop along with .append() to create a list, List comprehensions are a good alternative !"
   ]
  },
  {
   "cell_type": "code",
   "execution_count": 53,
   "id": "0f5a49a0",
   "metadata": {},
   "outputs": [],
   "source": [
    "# ordenary way to list comprehension by iterating with elements\n",
    "mystring = 'hello'\n",
    "mylist = []\n",
    "for letter in mystring:\n",
    "    mylist.append(letter)"
   ]
  },
  {
   "cell_type": "code",
   "execution_count": 54,
   "id": "27ae3a64",
   "metadata": {},
   "outputs": [
    {
     "data": {
      "text/plain": [
       "['h', 'e', 'l', 'l', 'o']"
      ]
     },
     "execution_count": 54,
     "metadata": {},
     "output_type": "execute_result"
    }
   ],
   "source": [
    "mylist"
   ]
  },
  {
   "cell_type": "code",
   "execution_count": 55,
   "id": "fd9518cf",
   "metadata": {},
   "outputs": [
    {
     "data": {
      "text/plain": [
       "['h', 'e', 'l', 'l', 'o']"
      ]
     },
     "execution_count": 55,
     "metadata": {},
     "output_type": "execute_result"
    }
   ],
   "source": [
    "#now doing this same operation just with the help of for loop in single line\n",
    "mylist = [letter for letter in mystring]\n",
    "mylist"
   ]
  },
  {
   "cell_type": "code",
   "execution_count": 56,
   "id": "05ae1ae1",
   "metadata": {},
   "outputs": [
    {
     "data": {
      "text/plain": [
       "['w', 'o', 'r', 'd']"
      ]
     },
     "execution_count": 56,
     "metadata": {},
     "output_type": "execute_result"
    }
   ],
   "source": [
    "mylist= [x for x in 'word']\n",
    "mylist"
   ]
  },
  {
   "cell_type": "code",
   "execution_count": 58,
   "id": "ba2ba3a5",
   "metadata": {},
   "outputs": [
    {
     "data": {
      "text/plain": [
       "[0, 1, 2, 3, 4, 5, 6, 7, 8, 9, 10]"
      ]
     },
     "execution_count": 58,
     "metadata": {},
     "output_type": "execute_result"
    }
   ],
   "source": [
    "mylist = [num for num in range(0,11)]\n",
    "mylist"
   ]
  },
  {
   "cell_type": "code",
   "execution_count": 60,
   "id": "12ba7433",
   "metadata": {},
   "outputs": [
    {
     "data": {
      "text/plain": [
       "[0, 1, 4, 9, 16, 25, 36, 49, 64, 81, 100]"
      ]
     },
     "execution_count": 60,
     "metadata": {},
     "output_type": "execute_result"
    }
   ],
   "source": [
    "mylist = [num**2 for num in range(0,11)] #finding squares\n",
    "mylist"
   ]
  },
  {
   "cell_type": "code",
   "execution_count": 64,
   "id": "d3982207",
   "metadata": {},
   "outputs": [
    {
     "data": {
      "text/plain": [
       "[0, 2, 4, 6, 8, 10]"
      ]
     },
     "execution_count": 64,
     "metadata": {},
     "output_type": "execute_result"
    }
   ],
   "source": [
    "mylist = [x for x in range(0,11) if x%2==0] # finding even no.\n",
    "mylist"
   ]
  },
  {
   "cell_type": "code",
   "execution_count": 66,
   "id": "23202851",
   "metadata": {},
   "outputs": [
    {
     "data": {
      "text/plain": [
       "[0, 4, 16, 36, 64, 100]"
      ]
     },
     "execution_count": 66,
     "metadata": {},
     "output_type": "execute_result"
    }
   ],
   "source": [
    "mylist = [x**2 for x in range(0,11) if x%2==0] # finding squres of even no.\n",
    "mylist"
   ]
  },
  {
   "cell_type": "code",
   "execution_count": 67,
   "id": "5c304198",
   "metadata": {},
   "outputs": [
    {
     "data": {
      "text/plain": [
       "[32.0, 50.0, 68.0, 94.1]"
      ]
     },
     "execution_count": 67,
     "metadata": {},
     "output_type": "execute_result"
    }
   ],
   "source": [
    "# degree celcius to farenheit\n",
    "celcius = [0,10,20,34.5]\n",
    "\n",
    "fahrenheit = [((9/5)*temp + 32) for temp in celcius]\n",
    "fahrenheit"
   ]
  },
  {
   "cell_type": "code",
   "execution_count": 68,
   "id": "f5d0a4ad",
   "metadata": {},
   "outputs": [],
   "source": [
    "result = [x if x%2==0 else 'Odd' for x in range(0,11)]"
   ]
  },
  {
   "cell_type": "code",
   "execution_count": 69,
   "id": "bd61b78a",
   "metadata": {},
   "outputs": [
    {
     "data": {
      "text/plain": [
       "[0, 'Odd', 2, 'Odd', 4, 'Odd', 6, 'Odd', 8, 'Odd', 10]"
      ]
     },
     "execution_count": 69,
     "metadata": {},
     "output_type": "execute_result"
    }
   ],
   "source": [
    "result"
   ]
  },
  {
   "cell_type": "code",
   "execution_count": 72,
   "id": "d8b5ca06",
   "metadata": {},
   "outputs": [],
   "source": [
    "mylist = []\n",
    "\n",
    "for x in [2,4,6]:\n",
    "    for y in [1,10,1000]:\n",
    "        mylist.append(x*y)"
   ]
  },
  {
   "cell_type": "code",
   "execution_count": 73,
   "id": "343f45a8",
   "metadata": {},
   "outputs": [
    {
     "data": {
      "text/plain": [
       "[2, 20, 2000, 4, 40, 4000, 6, 60, 6000]"
      ]
     },
     "execution_count": 73,
     "metadata": {},
     "output_type": "execute_result"
    }
   ],
   "source": [
    "mylist"
   ]
  },
  {
   "cell_type": "code",
   "execution_count": null,
   "id": "06b9acc2",
   "metadata": {},
   "outputs": [],
   "source": []
  }
 ],
 "metadata": {
  "kernelspec": {
   "display_name": "Python 3 (ipykernel)",
   "language": "python",
   "name": "python3"
  },
  "language_info": {
   "codemirror_mode": {
    "name": "ipython",
    "version": 3
   },
   "file_extension": ".py",
   "mimetype": "text/x-python",
   "name": "python",
   "nbconvert_exporter": "python",
   "pygments_lexer": "ipython3",
   "version": "3.9.13"
  }
 },
 "nbformat": 4,
 "nbformat_minor": 5
}
