{
 "cells": [
  {
   "cell_type": "markdown",
   "id": "4eeebcd5",
   "metadata": {},
   "source": [
    "***Errors*** :- It occurs when we write any statement wrong syntactically.\n",
    "\n",
    "There are three types of errors :\n",
    "\n",
    "**(1) Syntax error**----> when we write syntax wrong\n",
    "syntax error,indentation error, moddule not found error/import error,,name error,Attribute error,\n",
    "\n",
    "**(1) Runtime error** ---> also called exceptions --there is no problem in your code ..but when you run the code You get the error\n",
    "\n",
    "Index error,, value error,, key error,, type error,, zero division error,,keyboard intrupt error.\n",
    "\n",
    "**(3) Symantic Error**--> it will run code successfully ,, although our code is running and we are getting output also but \n",
    "our logic is not correct ..we will not get accurate ans..see example\n",
    "\n",
    "**Exception Handelling** :-\n",
    "1)exception role,,2) notification,,3) error handling--> try,except,assert,else,finally,raise ,,4) termination action--> else,finally"
   ]
  },
  {
   "cell_type": "markdown",
   "id": "8d36670d",
   "metadata": {},
   "source": [
    "## Syntax Error"
   ]
  },
  {
   "cell_type": "code",
   "execution_count": 8,
   "id": "fef16647",
   "metadata": {},
   "outputs": [
    {
     "ename": "SyntaxError",
     "evalue": "unmatched ')' (364751740.py, line 2)",
     "output_type": "error",
     "traceback": [
      "\u001b[1;36m  Cell \u001b[1;32mIn[8], line 2\u001b[1;36m\u001b[0m\n\u001b[1;33m    print('hi'))\u001b[0m\n\u001b[1;37m               ^\u001b[0m\n\u001b[1;31mSyntaxError\u001b[0m\u001b[1;31m:\u001b[0m unmatched ')'\n"
     ]
    }
   ],
   "source": [
    "#syntax error\n",
    "print('hi'))"
   ]
  },
  {
   "cell_type": "code",
   "execution_count": 10,
   "id": "497684d3",
   "metadata": {},
   "outputs": [
    {
     "ename": "IndentationError",
     "evalue": "expected an indented block after 'if' statement on line 2 (1228787243.py, line 3)",
     "output_type": "error",
     "traceback": [
      "\u001b[1;36m  Cell \u001b[1;32mIn[10], line 3\u001b[1;36m\u001b[0m\n\u001b[1;33m    print(\"data science\")\u001b[0m\n\u001b[1;37m    ^\u001b[0m\n\u001b[1;31mIndentationError\u001b[0m\u001b[1;31m:\u001b[0m expected an indented block after 'if' statement on line 2\n"
     ]
    }
   ],
   "source": [
    "#indentation error\n",
    "if 10>20:\n",
    "print(\"data science\")"
   ]
  },
  {
   "cell_type": "code",
   "execution_count": 12,
   "id": "c0a40a4f",
   "metadata": {},
   "outputs": [
    {
     "ename": "ModuleNotFoundError",
     "evalue": "No module named 'himanshu'",
     "output_type": "error",
     "traceback": [
      "\u001b[1;31m---------------------------------------------------------------------------\u001b[0m",
      "\u001b[1;31mModuleNotFoundError\u001b[0m                       Traceback (most recent call last)",
      "Cell \u001b[1;32mIn[12], line 3\u001b[0m\n\u001b[0;32m      1\u001b[0m \u001b[38;5;66;03m#module not found error\u001b[39;00m\n\u001b[0;32m      2\u001b[0m \u001b[38;5;28;01mimport\u001b[39;00m \u001b[38;5;21;01mfractions\u001b[39;00m\n\u001b[1;32m----> 3\u001b[0m \u001b[38;5;28;01mimport\u001b[39;00m \u001b[38;5;21;01mhimanshu\u001b[39;00m\n",
      "\u001b[1;31mModuleNotFoundError\u001b[0m: No module named 'himanshu'"
     ]
    }
   ],
   "source": [
    "#module not found error\n",
    "import fractions\n",
    "import himanshu"
   ]
  },
  {
   "cell_type": "code",
   "execution_count": 9,
   "id": "bc405cd6",
   "metadata": {},
   "outputs": [
    {
     "ename": "AttributeError",
     "evalue": "module 'math' has no attribute 'himanshu'",
     "output_type": "error",
     "traceback": [
      "\u001b[1;31m---------------------------------------------------------------------------\u001b[0m",
      "\u001b[1;31mAttributeError\u001b[0m                            Traceback (most recent call last)",
      "\u001b[1;32m~\\AppData\\Local\\Temp\\ipykernel_14772\\3122440235.py\u001b[0m in \u001b[0;36m<module>\u001b[1;34m\u001b[0m\n\u001b[0;32m      1\u001b[0m \u001b[1;31m#Attribute error\u001b[0m\u001b[1;33m\u001b[0m\u001b[1;33m\u001b[0m\u001b[0m\n\u001b[0;32m      2\u001b[0m \u001b[1;32mimport\u001b[0m \u001b[0mmath\u001b[0m\u001b[1;33m\u001b[0m\u001b[1;33m\u001b[0m\u001b[0m\n\u001b[1;32m----> 3\u001b[1;33m \u001b[0mmath\u001b[0m\u001b[1;33m.\u001b[0m\u001b[0mhimanshu\u001b[0m\u001b[1;33m(\u001b[0m\u001b[1;33m)\u001b[0m\u001b[1;33m\u001b[0m\u001b[1;33m\u001b[0m\u001b[0m\n\u001b[0m",
      "\u001b[1;31mAttributeError\u001b[0m: module 'math' has no attribute 'himanshu'"
     ]
    }
   ],
   "source": [
    "#Attribute error\n",
    "import math\n",
    "math.himanshu()"
   ]
  },
  {
   "cell_type": "code",
   "execution_count": 1,
   "id": "284b9bdc",
   "metadata": {},
   "outputs": [
    {
     "ename": "NameError",
     "evalue": "name 'a' is not defined",
     "output_type": "error",
     "traceback": [
      "\u001b[1;31m---------------------------------------------------------------------------\u001b[0m",
      "\u001b[1;31mNameError\u001b[0m                                 Traceback (most recent call last)",
      "Cell \u001b[1;32mIn[1], line 2\u001b[0m\n\u001b[0;32m      1\u001b[0m \u001b[38;5;66;03m#name error\u001b[39;00m\n\u001b[1;32m----> 2\u001b[0m a\u001b[38;5;241m+\u001b[39m\u001b[38;5;241m10\u001b[39m\n",
      "\u001b[1;31mNameError\u001b[0m: name 'a' is not defined"
     ]
    }
   ],
   "source": [
    "#name error\n",
    "a+10 #if something is not defined so it will give name error"
   ]
  },
  {
   "cell_type": "markdown",
   "id": "c319d600",
   "metadata": {},
   "source": [
    "## Runtime error"
   ]
  },
  {
   "cell_type": "code",
   "execution_count": 3,
   "id": "a22d8c5a",
   "metadata": {},
   "outputs": [
    {
     "ename": "IndexError",
     "evalue": "list index out of range",
     "output_type": "error",
     "traceback": [
      "\u001b[1;31m---------------------------------------------------------------------------\u001b[0m",
      "\u001b[1;31mIndexError\u001b[0m                                Traceback (most recent call last)",
      "Cell \u001b[1;32mIn[3], line 3\u001b[0m\n\u001b[0;32m      1\u001b[0m \u001b[38;5;66;03m#index error\u001b[39;00m\n\u001b[0;32m      2\u001b[0m l\u001b[38;5;241m=\u001b[39m[\u001b[38;5;241m1\u001b[39m,\u001b[38;5;241m2\u001b[39m,\u001b[38;5;241m3\u001b[39m,\u001b[38;5;241m4\u001b[39m,\u001b[38;5;241m5\u001b[39m]\n\u001b[1;32m----> 3\u001b[0m l[\u001b[38;5;241m20\u001b[39m]\n",
      "\u001b[1;31mIndexError\u001b[0m: list index out of range"
     ]
    }
   ],
   "source": [
    "#index error\n",
    "l=[1,2,3,4,5]\n",
    "l[20]# there are only 4th index value available till 5..but we are asking for 6th index so it will give index error"
   ]
  },
  {
   "cell_type": "code",
   "execution_count": 12,
   "id": "bf60a2da",
   "metadata": {},
   "outputs": [
    {
     "name": "stdin",
     "output_type": "stream",
     "text": [
      " enter your number  indore\n"
     ]
    },
    {
     "ename": "ValueError",
     "evalue": "could not convert string to float: 'indore'",
     "output_type": "error",
     "traceback": [
      "\u001b[1;31m---------------------------------------------------------------------------\u001b[0m",
      "\u001b[1;31mValueError\u001b[0m                                Traceback (most recent call last)",
      "Cell \u001b[1;32mIn[12], line 2\u001b[0m\n\u001b[0;32m      1\u001b[0m \u001b[38;5;66;03m#value error\u001b[39;00m\n\u001b[1;32m----> 2\u001b[0m a\u001b[38;5;241m=\u001b[39m\u001b[38;5;28mfloat\u001b[39m(\u001b[38;5;28minput\u001b[39m(\u001b[38;5;124m'\u001b[39m\u001b[38;5;124m enter your number \u001b[39m\u001b[38;5;124m'\u001b[39m))\n\u001b[0;32m      3\u001b[0m \u001b[38;5;28mprint\u001b[39m(a)\n\u001b[0;32m      4\u001b[0m \u001b[38;5;28mprint\u001b[39m(\u001b[38;5;28mtype\u001b[39m(a))\n",
      "\u001b[1;31mValueError\u001b[0m: could not convert string to float: 'indore'"
     ]
    }
   ],
   "source": [
    "#value error\n",
    "a=float(input(' enter your number '))\n",
    "print(a)\n",
    "print(type(a))"
   ]
  },
  {
   "cell_type": "code",
   "execution_count": 17,
   "id": "e1ffecba",
   "metadata": {},
   "outputs": [
    {
     "name": "stdout",
     "output_type": "stream",
     "text": [
      " enter a number'1'\n"
     ]
    },
    {
     "ename": "ValueError",
     "evalue": "invalid literal for int() with base 10: \"'1'\"",
     "output_type": "error",
     "traceback": [
      "\u001b[1;31m---------------------------------------------------------------------------\u001b[0m",
      "\u001b[1;31mValueError\u001b[0m                                Traceback (most recent call last)",
      "\u001b[1;32m~\\AppData\\Local\\Temp\\ipykernel_14772\\1340719492.py\u001b[0m in \u001b[0;36m<module>\u001b[1;34m\u001b[0m\n\u001b[0;32m      1\u001b[0m \u001b[1;31m#value error\u001b[0m\u001b[1;33m\u001b[0m\u001b[1;33m\u001b[0m\u001b[0m\n\u001b[1;32m----> 2\u001b[1;33m \u001b[0ma\u001b[0m\u001b[1;33m=\u001b[0m\u001b[0mint\u001b[0m\u001b[1;33m(\u001b[0m\u001b[0minput\u001b[0m\u001b[1;33m(\u001b[0m\u001b[1;34m' enter a number'\u001b[0m\u001b[1;33m)\u001b[0m\u001b[1;33m)\u001b[0m\u001b[1;33m\u001b[0m\u001b[1;33m\u001b[0m\u001b[0m\n\u001b[0m",
      "\u001b[1;31mValueError\u001b[0m: invalid literal for int() with base 10: \"'1'\""
     ]
    }
   ],
   "source": [
    "#value error\n",
    "a=int(input(' enter a number'))\n"
   ]
  },
  {
   "cell_type": "code",
   "execution_count": 14,
   "id": "35355104",
   "metadata": {},
   "outputs": [
    {
     "ename": "KeyError",
     "evalue": "10",
     "output_type": "error",
     "traceback": [
      "\u001b[1;31m---------------------------------------------------------------------------\u001b[0m",
      "\u001b[1;31mKeyError\u001b[0m                                  Traceback (most recent call last)",
      "Cell \u001b[1;32mIn[14], line 3\u001b[0m\n\u001b[0;32m      1\u001b[0m \u001b[38;5;66;03m#key error\u001b[39;00m\n\u001b[0;32m      2\u001b[0m d\u001b[38;5;241m=\u001b[39m{\u001b[38;5;241m1\u001b[39m:\u001b[38;5;124m'\u001b[39m\u001b[38;5;124mrishab\u001b[39m\u001b[38;5;124m'\u001b[39m,\u001b[38;5;241m2\u001b[39m:\u001b[38;5;124m'\u001b[39m\u001b[38;5;124msandeep\u001b[39m\u001b[38;5;124m'\u001b[39m,\u001b[38;5;241m3\u001b[39m:\u001b[38;5;124m'\u001b[39m\u001b[38;5;124mshashank\u001b[39m\u001b[38;5;124m'\u001b[39m}\n\u001b[1;32m----> 3\u001b[0m d[\u001b[38;5;241m10\u001b[39m]\n",
      "\u001b[1;31mKeyError\u001b[0m: 10"
     ]
    }
   ],
   "source": [
    "#key error\n",
    "d={1:'rishab',2:'sandeep',3:'shashank'}\n",
    "d[10] #dictionary dont follow index it follow only key value "
   ]
  },
  {
   "cell_type": "code",
   "execution_count": 2,
   "id": "0a151380",
   "metadata": {},
   "outputs": [
    {
     "data": {
      "text/plain": [
       "'rishab'"
      ]
     },
     "execution_count": 2,
     "metadata": {},
     "output_type": "execute_result"
    }
   ],
   "source": [
    "d={1:'rishab',2:'sandeep',3:'shashank'}\n",
    "d[1]"
   ]
  },
  {
   "cell_type": "code",
   "execution_count": 16,
   "id": "f58ddbac-304b-44ca-b9c7-27c029b974f2",
   "metadata": {},
   "outputs": [
    {
     "ename": "TypeError",
     "evalue": "can only concatenate str (not \"int\") to str",
     "output_type": "error",
     "traceback": [
      "\u001b[1;31m---------------------------------------------------------------------------\u001b[0m",
      "\u001b[1;31mTypeError\u001b[0m                                 Traceback (most recent call last)",
      "Cell \u001b[1;32mIn[16], line 4\u001b[0m\n\u001b[0;32m      2\u001b[0m name \u001b[38;5;241m=\u001b[39m \u001b[38;5;124m\"\u001b[39m\u001b[38;5;124mindore\u001b[39m\u001b[38;5;124m\"\u001b[39m\n\u001b[0;32m      3\u001b[0m grade \u001b[38;5;241m=\u001b[39m \u001b[38;5;241m10\u001b[39m\n\u001b[1;32m----> 4\u001b[0m \u001b[38;5;28mprint\u001b[39m(name \u001b[38;5;241m+\u001b[39m grade)\n",
      "\u001b[1;31mTypeError\u001b[0m: can only concatenate str (not \"int\") to str"
     ]
    }
   ],
   "source": [
    "# type error\n",
    "name = \"indore\"\n",
    "grade = 10\n",
    "print(name + grade)"
   ]
  },
  {
   "cell_type": "code",
   "execution_count": 3,
   "id": "4ed4c7b1-6f68-4ceb-9864-d7ecee3f7d06",
   "metadata": {},
   "outputs": [
    {
     "name": "stdin",
     "output_type": "stream",
     "text": [
      " enter a number  4\n",
      " enter a number  0\n"
     ]
    },
    {
     "ename": "ZeroDivisionError",
     "evalue": "division by zero",
     "output_type": "error",
     "traceback": [
      "\u001b[1;31m---------------------------------------------------------------------------\u001b[0m",
      "\u001b[1;31mZeroDivisionError\u001b[0m                         Traceback (most recent call last)",
      "Cell \u001b[1;32mIn[3], line 5\u001b[0m\n\u001b[0;32m      3\u001b[0m a\u001b[38;5;241m=\u001b[39m\u001b[38;5;28mint\u001b[39m(\u001b[38;5;28minput\u001b[39m(\u001b[38;5;124m'\u001b[39m\u001b[38;5;124m enter a number \u001b[39m\u001b[38;5;124m'\u001b[39m))\n\u001b[0;32m      4\u001b[0m b\u001b[38;5;241m=\u001b[39m\u001b[38;5;28mint\u001b[39m(\u001b[38;5;28minput\u001b[39m(\u001b[38;5;124m'\u001b[39m\u001b[38;5;124m enter a number \u001b[39m\u001b[38;5;124m'\u001b[39m))\n\u001b[1;32m----> 5\u001b[0m \u001b[38;5;28mprint\u001b[39m(a\u001b[38;5;241m/\u001b[39mb)\n",
      "\u001b[1;31mZeroDivisionError\u001b[0m: division by zero"
     ]
    }
   ],
   "source": [
    "#Runtime error\n",
    "#ZeroDivisionError\n",
    "a=int(input(' enter a number '))\n",
    "b=int(input(' enter a number '))\n",
    "print(a/b)"
   ]
  },
  {
   "cell_type": "markdown",
   "id": "b4fc886c",
   "metadata": {},
   "source": [
    "## Exception Handling"
   ]
  },
  {
   "cell_type": "code",
   "execution_count": 8,
   "id": "3393b163",
   "metadata": {},
   "outputs": [
    {
     "name": "stdout",
     "output_type": "stream",
     "text": [
      " enter a number 4\n",
      " enter a number 0\n"
     ]
    },
    {
     "ename": "ZeroDivisionError",
     "evalue": "division by zero",
     "output_type": "error",
     "traceback": [
      "\u001b[1;31m---------------------------------------------------------------------------\u001b[0m",
      "\u001b[1;31mZeroDivisionError\u001b[0m                         Traceback (most recent call last)",
      "\u001b[1;32m~\\AppData\\Local\\Temp\\ipykernel_8188\\4018776404.py\u001b[0m in \u001b[0;36m<module>\u001b[1;34m\u001b[0m\n\u001b[0;32m      3\u001b[0m \u001b[0ma\u001b[0m\u001b[1;33m=\u001b[0m\u001b[0mint\u001b[0m\u001b[1;33m(\u001b[0m\u001b[0minput\u001b[0m\u001b[1;33m(\u001b[0m\u001b[1;34m' enter a number '\u001b[0m\u001b[1;33m)\u001b[0m\u001b[1;33m)\u001b[0m\u001b[1;33m\u001b[0m\u001b[1;33m\u001b[0m\u001b[0m\n\u001b[0;32m      4\u001b[0m \u001b[0mb\u001b[0m\u001b[1;33m=\u001b[0m\u001b[0mint\u001b[0m\u001b[1;33m(\u001b[0m\u001b[0minput\u001b[0m\u001b[1;33m(\u001b[0m\u001b[1;34m' enter a number '\u001b[0m\u001b[1;33m)\u001b[0m\u001b[1;33m)\u001b[0m\u001b[1;33m\u001b[0m\u001b[1;33m\u001b[0m\u001b[0m\n\u001b[1;32m----> 5\u001b[1;33m \u001b[0mprint\u001b[0m\u001b[1;33m(\u001b[0m\u001b[0ma\u001b[0m\u001b[1;33m/\u001b[0m\u001b[0mb\u001b[0m\u001b[1;33m)\u001b[0m\u001b[1;33m\u001b[0m\u001b[1;33m\u001b[0m\u001b[0m\n\u001b[0m",
      "\u001b[1;31mZeroDivisionError\u001b[0m: division by zero"
     ]
    }
   ],
   "source": [
    "#Runtime error\n",
    "#ZeroDivisionError\n",
    "a=int(input(' enter a number '))\n",
    "b=int(input(' enter a number '))\n",
    "print(a/b)"
   ]
  },
  {
   "cell_type": "code",
   "execution_count": 18,
   "id": "0479ba10",
   "metadata": {},
   "outputs": [
    {
     "name": "stdin",
     "output_type": "stream",
     "text": [
      " enter a number  5\n",
      " enter a number  T\n"
     ]
    },
    {
     "ename": "ValueError",
     "evalue": "invalid literal for int() with base 10: 'T'",
     "output_type": "error",
     "traceback": [
      "\u001b[1;31m---------------------------------------------------------------------------\u001b[0m",
      "\u001b[1;31mValueError\u001b[0m                                Traceback (most recent call last)",
      "Cell \u001b[1;32mIn[18], line 4\u001b[0m\n\u001b[0;32m      1\u001b[0m \u001b[38;5;66;03m#Runtime error\u001b[39;00m\n\u001b[0;32m      2\u001b[0m \u001b[38;5;66;03m#ValueError\u001b[39;00m\n\u001b[0;32m      3\u001b[0m a\u001b[38;5;241m=\u001b[39m\u001b[38;5;28mint\u001b[39m(\u001b[38;5;28minput\u001b[39m(\u001b[38;5;124m'\u001b[39m\u001b[38;5;124m enter a number \u001b[39m\u001b[38;5;124m'\u001b[39m))\n\u001b[1;32m----> 4\u001b[0m b\u001b[38;5;241m=\u001b[39m\u001b[38;5;28mint\u001b[39m(\u001b[38;5;28minput\u001b[39m(\u001b[38;5;124m'\u001b[39m\u001b[38;5;124m enter a number \u001b[39m\u001b[38;5;124m'\u001b[39m))\n\u001b[0;32m      5\u001b[0m \u001b[38;5;28mprint\u001b[39m(a\u001b[38;5;241m/\u001b[39mb)\n",
      "\u001b[1;31mValueError\u001b[0m: invalid literal for int() with base 10: 'T'"
     ]
    }
   ],
   "source": [
    "#Runtime error\n",
    "#ValueError\n",
    "a=int(input(' enter a number '))\n",
    "b=int(input(' enter a number '))\n",
    "print(a/b)"
   ]
  },
  {
   "cell_type": "markdown",
   "id": "2367e5d7",
   "metadata": {},
   "source": [
    "If we want to solve exception error ...so we need to guide the user "
   ]
  },
  {
   "cell_type": "markdown",
   "id": "a109152e",
   "metadata": {},
   "source": [
    "### Try and Except"
   ]
  },
  {
   "cell_type": "code",
   "execution_count": 22,
   "id": "ae6f8e92",
   "metadata": {},
   "outputs": [
    {
     "name": "stdin",
     "output_type": "stream",
     "text": [
      "enter a number  4\n",
      "enter a number  two\n"
     ]
    },
    {
     "name": "stdout",
     "output_type": "stream",
     "text": [
      "please enter integer only\n"
     ]
    }
   ],
   "source": [
    "try:\n",
    "    a=int(input('enter a number '))\n",
    "    b=int(input('enter a number '))\n",
    "    print(a/b)\n",
    "\n",
    "except ZeroDivisionError:\n",
    "    print('please enter other than zero')\n",
    "\n",
    "except ValueError:\n",
    "    print('please enter integer only')"
   ]
  },
  {
   "cell_type": "code",
   "execution_count": 14,
   "id": "9342b5ed",
   "metadata": {},
   "outputs": [
    {
     "name": "stdout",
     "output_type": "stream",
     "text": [
      "enter a number 4\n",
      "enter a number p\n",
      "please enter integer only\n"
     ]
    }
   ],
   "source": [
    "try:\n",
    "    a=int(input('enter a number '))\n",
    "    b=int(input('enter a number '))\n",
    "    print(a/b)\n",
    "\n",
    "except ZeroDivisionError:\n",
    "    print('please enter other than zero')\n",
    "\n",
    "except ValueError:\n",
    "    print('please enter integer only')"
   ]
  },
  {
   "cell_type": "markdown",
   "id": "ac7977b1",
   "metadata": {},
   "source": [
    "### Finally"
   ]
  },
  {
   "cell_type": "code",
   "execution_count": 25,
   "id": "47ac8571",
   "metadata": {},
   "outputs": [
    {
     "name": "stdin",
     "output_type": "stream",
     "text": [
      "enter a number  4\n",
      "enter a number  2\n"
     ]
    },
    {
     "name": "stdout",
     "output_type": "stream",
     "text": [
      "2.0\n",
      "programme is completed\n"
     ]
    }
   ],
   "source": [
    "try:\n",
    "    a=int(input('enter a number '))\n",
    "    b=int(input('enter a number '))\n",
    "    print(a/b)\n",
    "\n",
    "except ZeroDivisionError:\n",
    "    print('please enter other than zero')\n",
    "\n",
    "except ValueError:\n",
    "    print('please enter integer only')\n",
    "    \n",
    "finally:\n",
    "    print('programme is completed') # finally will give output every time"
   ]
  },
  {
   "cell_type": "markdown",
   "id": "6f261253",
   "metadata": {},
   "source": [
    "### Else"
   ]
  },
  {
   "cell_type": "code",
   "execution_count": 28,
   "id": "2a980632",
   "metadata": {},
   "outputs": [
    {
     "name": "stdin",
     "output_type": "stream",
     "text": [
      "enter a number  4\n",
      "enter a number  2\n"
     ]
    },
    {
     "name": "stdout",
     "output_type": "stream",
     "text": [
      "2.0\n",
      "programme is completed\n"
     ]
    }
   ],
   "source": [
    "try:\n",
    "    a=int(input('enter a number '))\n",
    "    b=int(input('enter a number '))\n",
    "    print(a/b)\n",
    "\n",
    "except ZeroDivisionError:\n",
    "    print('please enter other than zero')\n",
    "\n",
    "except ValueError:\n",
    "    print('please enter integer only')\n",
    "    \n",
    "else:\n",
    "    print('programme is completed') # else will give only when condition is truly satisfied"
   ]
  },
  {
   "cell_type": "markdown",
   "id": "25184464",
   "metadata": {},
   "source": [
    "## Assert\n",
    "is a keyword which is used in file handling which provide to make your own error"
   ]
  },
  {
   "cell_type": "code",
   "execution_count": 31,
   "id": "b2cbd84a",
   "metadata": {},
   "outputs": [
    {
     "name": "stdin",
     "output_type": "stream",
     "text": [
      "enter the age of son : 50\n",
      "enter the age of father : 25\n"
     ]
    },
    {
     "ename": "AssertionError",
     "evalue": "son's age can not be greater than equal to father's age",
     "output_type": "error",
     "traceback": [
      "\u001b[1;31m---------------------------------------------------------------------------\u001b[0m",
      "\u001b[1;31mAssertionError\u001b[0m                            Traceback (most recent call last)",
      "Cell \u001b[1;32mIn[31], line 5\u001b[0m\n\u001b[0;32m      3\u001b[0m f\u001b[38;5;241m=\u001b[39m\u001b[38;5;28mint\u001b[39m(\u001b[38;5;28minput\u001b[39m(\u001b[38;5;124m'\u001b[39m\u001b[38;5;124menter the age of father :\u001b[39m\u001b[38;5;124m'\u001b[39m))\n\u001b[0;32m      4\u001b[0m \u001b[38;5;66;03m#if condition is false then we will get error\u001b[39;00m\n\u001b[1;32m----> 5\u001b[0m \u001b[38;5;28;01massert\u001b[39;00m s\u001b[38;5;241m<\u001b[39m\u001b[38;5;241m=\u001b[39mf, \u001b[38;5;124m\"\u001b[39m\u001b[38;5;124mson\u001b[39m\u001b[38;5;124m'\u001b[39m\u001b[38;5;124ms age can not be greater than equal to father\u001b[39m\u001b[38;5;124m'\u001b[39m\u001b[38;5;124ms age\u001b[39m\u001b[38;5;124m\"\u001b[39m\n\u001b[0;32m      6\u001b[0m \u001b[38;5;28mprint\u001b[39m(s)\n",
      "\u001b[1;31mAssertionError\u001b[0m: son's age can not be greater than equal to father's age"
     ]
    }
   ],
   "source": [
    "#assert----> user defined error\n",
    "s=int(input('enter the age of son :'))\n",
    "f=int(input('enter the age of father :'))\n",
    "#if condition is false then we will get error\n",
    "assert s<=f, \"son's age can not be greater than equal to father's age\"\n",
    "print(s)"
   ]
  },
  {
   "cell_type": "code",
   "execution_count": 33,
   "id": "ea8a1568-f4b2-43e0-92e5-43b46cf1f3f7",
   "metadata": {},
   "outputs": [
    {
     "name": "stdin",
     "output_type": "stream",
     "text": [
      "Enter son's age:  25\n",
      "Enter father's age:  50\n"
     ]
    },
    {
     "name": "stdout",
     "output_type": "stream",
     "text": [
      "The ages are valid. Proceeding with further logic.\n"
     ]
    }
   ],
   "source": [
    "son_age = int(input(\"Enter son's age: \"))\n",
    "father_age = int(input(\"Enter father's age: \"))\n",
    "\n",
    "try:\n",
    "    assert son_age <= father_age, \"Son's age cannot be greater than or equal to father's age\"\n",
    "except AssertionError as e:\n",
    "    print(\"The assertion failed. Please enter correct ages.\")\n",
    "    print(e)\n",
    "else:\n",
    "    # This block will execute if no exception is raised\n",
    "    print(\"The ages are valid. Proceeding with further logic.\")"
   ]
  },
  {
   "cell_type": "markdown",
   "id": "f640c40c",
   "metadata": {},
   "source": [
    "### Raise"
   ]
  },
  {
   "cell_type": "code",
   "execution_count": 36,
   "id": "d65b4a33",
   "metadata": {},
   "outputs": [
    {
     "name": "stdin",
     "output_type": "stream",
     "text": [
      "enter a number  4\n",
      "enter a number  2\n"
     ]
    },
    {
     "name": "stdout",
     "output_type": "stream",
     "text": [
      "2.0\n",
      "program is completed\n"
     ]
    }
   ],
   "source": [
    "try:\n",
    "    a=int(input('enter a number '))\n",
    "    b=int(input('enter a number '))\n",
    "    if b==0:\n",
    "        raise Exception('u r getting error bcz of zero')\n",
    "    print(a/b)\n",
    "\n",
    "except ValueError:\n",
    "    print('please enter integer only')\n",
    "    \n",
    "else:\n",
    "    print('program is completed')"
   ]
  },
  {
   "cell_type": "code",
   "execution_count": 1,
   "id": "5eacf6eb",
   "metadata": {},
   "outputs": [
    {
     "name": "stdin",
     "output_type": "stream",
     "text": [
      " enter a number  4\n",
      " enter a number  2\n"
     ]
    },
    {
     "name": "stdout",
     "output_type": "stream",
     "text": [
      "2.0\n",
      "good\n"
     ]
    }
   ],
   "source": [
    "try:\n",
    "    a=int(input(' enter a number '))\n",
    "    b=int(input(' enter a number '))\n",
    "    if b==0:\n",
    "        raise Exception(\"you are getting error because of zero\")\n",
    "    print(a/b)\n",
    "except ValueError:\n",
    "    print(\"please etner integer only\")\n",
    "else:\n",
    "    print(\"good\")"
   ]
  },
  {
   "cell_type": "markdown",
   "id": "f64533b9",
   "metadata": {},
   "source": [
    "### Symantic error\n",
    "**(3) Symantic Error**--> it will run code successfully ,, although our code is running and we are getting output also but \n",
    "our logic is not correct ..we will not get accurate ans..see example"
   ]
  },
  {
   "cell_type": "code",
   "execution_count": 3,
   "id": "c2674321",
   "metadata": {},
   "outputs": [
    {
     "name": "stdout",
     "output_type": "stream",
     "text": [
      "10.0\n"
     ]
    }
   ],
   "source": [
    "a=20\n",
    "b=10\n",
    "print((a+b)/3)  ## here we are trying to find average of two numbers but not getting accurate result"
   ]
  },
  {
   "cell_type": "code",
   "execution_count": null,
   "id": "1825115c",
   "metadata": {},
   "outputs": [],
   "source": []
  }
 ],
 "metadata": {
  "kernelspec": {
   "display_name": "Python 3 (ipykernel)",
   "language": "python",
   "name": "python3"
  },
  "language_info": {
   "codemirror_mode": {
    "name": "ipython",
    "version": 3
   },
   "file_extension": ".py",
   "mimetype": "text/x-python",
   "name": "python",
   "nbconvert_exporter": "python",
   "pygments_lexer": "ipython3",
   "version": "3.11.7"
  },
  "widgets": {
   "application/vnd.jupyter.widget-state+json": {
    "state": {},
    "version_major": 2,
    "version_minor": 0
   }
  }
 },
 "nbformat": 4,
 "nbformat_minor": 5
}
