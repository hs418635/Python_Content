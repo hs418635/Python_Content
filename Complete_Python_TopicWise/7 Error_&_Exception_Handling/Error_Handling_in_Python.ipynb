{
 "cells": [
  {
   "cell_type": "markdown",
   "id": "86d5441d",
   "metadata": {},
   "source": [
    "# Error Handling in Python"
   ]
  },
  {
   "cell_type": "markdown",
   "id": "12049f19",
   "metadata": {},
   "source": [
    "### Question:\n",
    "\n",
    "Write a function safe_division(a, b) that divides two numbers and handles ZeroDivisionError. If b is zero, return None."
   ]
  },
  {
   "cell_type": "code",
   "execution_count": null,
   "id": "0103a7fa",
   "metadata": {},
   "outputs": [],
   "source": [
    "def safe_division(a, b):\n",
    "    try:\n",
    "        result = a / b\n",
    "    except ZeroDivisionError:\n",
    "        return None\n",
    "    return result"
   ]
  },
  {
   "cell_type": "markdown",
   "id": "dc443c42",
   "metadata": {},
   "source": [
    "### Question:\n",
    "\n",
    "Create a function read_file_contents(filename) that reads and prints the contents of a file. Handle FileNotFoundError and print a message if the file doesn't exist."
   ]
  },
  {
   "cell_type": "code",
   "execution_count": null,
   "id": "f9ab8190",
   "metadata": {},
   "outputs": [],
   "source": [
    "def read_file_contents(filename):\n",
    "    try:\n",
    "        with open(filename, 'r') as file:\n",
    "            contents = file.read()\n",
    "            print(contents)\n",
    "    except FileNotFoundError:\n",
    "        print(f\"Error: File '{filename}' not found.\")"
   ]
  },
  {
   "cell_type": "markdown",
   "id": "e38a1b20",
   "metadata": {},
   "source": [
    "### Question:\n",
    "\n",
    "Define a function calculate_area(length, width) that calculates the area of a rectangle. Use assert to ensure both length and width are positive."
   ]
  },
  {
   "cell_type": "code",
   "execution_count": null,
   "id": "50c5c5cb",
   "metadata": {},
   "outputs": [],
   "source": [
    "def calculate_area(length, width):\n",
    "    assert length > 0 and width > 0, \"Length and width must be positive.\"\n",
    "    return length * width"
   ]
  },
  {
   "cell_type": "markdown",
   "id": "2cc25487",
   "metadata": {},
   "source": [
    "### Question:\n",
    "\n",
    "Write a program that asks the user to enter two integers and performs division. Handle ValueError if the inputs are not valid integers and ZeroDivisionError if the denominator is zero."
   ]
  },
  {
   "cell_type": "code",
   "execution_count": null,
   "id": "4ccf249e",
   "metadata": {},
   "outputs": [],
   "source": [
    "def divide_two_integers():\n",
    "    try:\n",
    "        num1 = int(input(\"Enter the first integer: \"))\n",
    "        num2 = int(input(\"Enter the second integer: \"))\n",
    "        result = num1 / num2\n",
    "    except ValueError:\n",
    "        print(\"Error: Input must be valid integers.\")\n",
    "    except ZeroDivisionError:\n",
    "        print(\"Error: Division by zero.\")\n",
    "    else:\n",
    "        print(f\"Result of division: {result}\")"
   ]
  },
  {
   "cell_type": "markdown",
   "id": "abb8bc1d",
   "metadata": {},
   "source": [
    "### Question:\n",
    "\n",
    "Create a function process_data(data) that processes a list of numbers. Use assert to ensure the input is a list, and raise a TypeError if it's not."
   ]
  },
  {
   "cell_type": "code",
   "execution_count": null,
   "id": "563c4b89",
   "metadata": {},
   "outputs": [],
   "source": [
    "def process_data(data):\n",
    "    assert isinstance(data, list), \"Input must be a list.\"\n",
    "    # Process data here"
   ]
  },
  {
   "cell_type": "markdown",
   "id": "ea600cc5",
   "metadata": {},
   "source": [
    "### Question:\n",
    "\n",
    "Create a function calculate_square_root(x) that computes the square root of a number x. Raise an AssertionError if x is negative."
   ]
  },
  {
   "cell_type": "code",
   "execution_count": null,
   "id": "6f8ca90a",
   "metadata": {},
   "outputs": [],
   "source": [
    "import math\n",
    "\n",
    "def calculate_square_root(x):\n",
    "    assert x >= 0, \"Input must be non-negative.\"\n",
    "    return math.sqrt(x)"
   ]
  },
  {
   "cell_type": "markdown",
   "id": "0758e4cb",
   "metadata": {},
   "source": [
    "### Question:\n",
    "\n",
    "Define a function safe_int_input(prompt) that prompts the user to enter an integer. Handle ValueError if the input is not a valid integer."
   ]
  },
  {
   "cell_type": "code",
   "execution_count": null,
   "id": "d3e7d364",
   "metadata": {},
   "outputs": [],
   "source": [
    "def safe_int_input(prompt):\n",
    "    while True:\n",
    "        try:\n",
    "            value = int(input(prompt))\n",
    "            return value\n",
    "        except ValueError:\n",
    "            print(\"Error: Input must be a valid integer.\")"
   ]
  },
  {
   "cell_type": "markdown",
   "id": "42a11525",
   "metadata": {},
   "source": [
    "### Question:\n",
    "\n",
    "Write a function list_element_division(lst, index1, index2) that takes a list and two indices. Divide the elements at the given indices and handle IndexError if the indices are out of bounds."
   ]
  },
  {
   "cell_type": "code",
   "execution_count": null,
   "id": "62122b8e",
   "metadata": {},
   "outputs": [],
   "source": [
    "def list_element_division(lst, index1, index2):\n",
    "    try:\n",
    "        result = lst[index1] / lst[index2]\n",
    "    except IndexError:\n",
    "        print(\"Error: Index out of bounds.\")\n",
    "    else:\n",
    "        return result"
   ]
  },
  {
   "cell_type": "markdown",
   "id": "3e6a9b3f",
   "metadata": {},
   "source": [
    "### Question:\n",
    "\n",
    "Create a function parse_number(s) that attempts to convert a string s to an integer. Handle ValueError and TypeError exceptions."
   ]
  },
  {
   "cell_type": "code",
   "execution_count": null,
   "id": "8689b7d4",
   "metadata": {},
   "outputs": [],
   "source": [
    "def parse_number(s):\n",
    "    try:\n",
    "        return int(s)\n",
    "    except (ValueError, TypeError):\n",
    "        print(\"Error: Could not parse the input to an integer.\")"
   ]
  },
  {
   "cell_type": "markdown",
   "id": "4ea4606e",
   "metadata": {},
   "source": [
    "### Question:\n",
    "\n",
    "Write a function get_value(d, key) that retrieves a value from dictionary d for a given key. Handle KeyError if the key doesn't exist."
   ]
  },
  {
   "cell_type": "code",
   "execution_count": null,
   "id": "7bc220e8",
   "metadata": {},
   "outputs": [],
   "source": [
    "def get_value(d, key):\n",
    "    try:\n",
    "        return d[key]\n",
    "    except KeyError:\n",
    "        print(f\"Error: Key '{key}' not found in dictionary.\")"
   ]
  },
  {
   "cell_type": "markdown",
   "id": "4b2d7087",
   "metadata": {},
   "source": [
    "### Question:\n",
    "\n",
    "Define a function file_copy(src, dest) that copies contents from file src to file dest. Handle FileNotFoundError and any other IO-related exceptions."
   ]
  },
  {
   "cell_type": "code",
   "execution_count": null,
   "id": "09c2ad59",
   "metadata": {},
   "outputs": [],
   "source": [
    "def file_copy(src, dest):\n",
    "    try:\n",
    "        with open(src, 'r') as source:\n",
    "            contents = source.read()\n",
    "    except FileNotFoundError:\n",
    "        print(f\"Error: File '{src}' not found.\")\n",
    "    except IOError as e:\n",
    "        print(f\"Error: IOError occurred - {e}\")\n",
    "    else:\n",
    "        try:\n",
    "            with open(dest, 'w') as destination:\n",
    "                destination.write(contents)\n",
    "        except IOError as e:\n",
    "            print(f\"Error: Failed to write to file '{dest}' - {e}\")"
   ]
  },
  {
   "cell_type": "markdown",
   "id": "b22ca14c",
   "metadata": {},
   "source": [
    "### Question:\n",
    "\n",
    "Write a function calculate_average(nums) that calculates the average of a list of numbers. Handle ZeroDivisionError if the list is empty."
   ]
  },
  {
   "cell_type": "code",
   "execution_count": null,
   "id": "2c7d539b",
   "metadata": {},
   "outputs": [],
   "source": [
    "def calculate_average(nums):\n",
    "    try:\n",
    "        return sum(nums) / len(nums)\n",
    "    except ZeroDivisionError:\n",
    "        print(\"Error: Cannot calculate average of an empty list.\")"
   ]
  },
  {
   "cell_type": "markdown",
   "id": "2c498b2c",
   "metadata": {},
   "source": [
    "### Question:\n",
    "\n",
    "Create a function nested_dictionary_access(d, key1, key2) that retrieves a value from a nested dictionary d using two keys. Handle KeyError for any missing keys."
   ]
  },
  {
   "cell_type": "code",
   "execution_count": null,
   "id": "1e23ee37",
   "metadata": {},
   "outputs": [],
   "source": [
    "def nested_dictionary_access(d, key1, key2):\n",
    "    try:\n",
    "        return d[key1][key2]\n",
    "    except KeyError:\n",
    "        print(\"Error: One or both keys not found in the nested dictionary.\")"
   ]
  },
  {
   "cell_type": "markdown",
   "id": "e4598906",
   "metadata": {},
   "source": [
    "### Question:\n",
    "\n",
    "Define a function process_data_file(filename) that processes a data file line by line. Use finally to ensure the file is always closed."
   ]
  },
  {
   "cell_type": "code",
   "execution_count": null,
   "id": "8e0bda94",
   "metadata": {},
   "outputs": [],
   "source": [
    "def process_data_file(filename):\n",
    "    try:\n",
    "        with open(filename, 'r') as file:\n",
    "            for line in file:\n",
    "                # Process each line\n",
    "                pass\n",
    "    except FileNotFoundError:\n",
    "        print(f\"Error: File '{filename}' not found.\")\n",
    "    finally:\n",
    "        file.close()"
   ]
  },
  {
   "cell_type": "markdown",
   "id": "4cf3089f",
   "metadata": {},
   "source": [
    "### Question:\n",
    "\n",
    "Define a function calculate_age(birth_year) that calculates age from the birth year. Raise a ValueError if the birth year is in the future."
   ]
  },
  {
   "cell_type": "code",
   "execution_count": null,
   "id": "270ff9f6",
   "metadata": {},
   "outputs": [],
   "source": [
    "import datetime\n",
    "\n",
    "def calculate_age(birth_year):\n",
    "    current_year = datetime.date.today().year\n",
    "    if birth_year > current_year:\n",
    "        raise ValueError(\"Birth year cannot be in the future.\")\n",
    "    return current_year - birth_year"
   ]
  }
 ],
 "metadata": {},
 "nbformat": 4,
 "nbformat_minor": 5
}
