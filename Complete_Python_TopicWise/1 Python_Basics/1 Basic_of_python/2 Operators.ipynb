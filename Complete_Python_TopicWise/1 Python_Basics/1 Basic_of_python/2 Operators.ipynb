{
 "cells": [
  {
   "cell_type": "markdown",
   "id": "6b571a4b-56b1-4000-9ed2-a947898a372b",
   "metadata": {},
   "source": [
    "### operators"
   ]
  },
  {
   "cell_type": "markdown",
   "id": "dad28680-af2d-49fe-8d44-0a2b1dfe0ebc",
   "metadata": {},
   "source": [
    "1) Arithmatic--+,-,*,/,//,%,**\n",
    "2) relational or comparison --  > ,<,==,!=,>=,<=\n",
    "3) assignment--  = , == , += , -= , *=, %=\n",
    "4) logical--And ,or,not\n",
    "5) special (membership and identity operators)--->membership operators used to check particular is available in the collection or not\n",
    "    ----->ex--in , not in\n",
    "6) indentity operators\n",
    "\t----->ex-is is not"
   ]
  },
  {
   "cell_type": "markdown",
   "id": "b35d305d-14ad-4269-9234-a8cb90227641",
   "metadata": {},
   "source": [
    "### Arithmatic"
   ]
  },
  {
   "cell_type": "code",
   "execution_count": 23,
   "id": "d1eee9a8-00af-4673-a541-8bcef7d80cd2",
   "metadata": {},
   "outputs": [],
   "source": [
    "a = 10"
   ]
  },
  {
   "cell_type": "code",
   "execution_count": 24,
   "id": "695d0f83-288e-4b9d-b7be-8a1d5be52f81",
   "metadata": {},
   "outputs": [
    {
     "data": {
      "text/plain": [
       "140712990000200"
      ]
     },
     "execution_count": 24,
     "metadata": {},
     "output_type": "execute_result"
    }
   ],
   "source": [
    "id(10)"
   ]
  },
  {
   "cell_type": "code",
   "execution_count": 25,
   "id": "333308a9-f84e-4bb1-a74e-3caf60351ede",
   "metadata": {},
   "outputs": [
    {
     "data": {
      "text/plain": [
       "int"
      ]
     },
     "execution_count": 25,
     "metadata": {},
     "output_type": "execute_result"
    }
   ],
   "source": [
    "type(a)"
   ]
  },
  {
   "cell_type": "code",
   "execution_count": 26,
   "id": "9b0fd826-a825-4d26-9664-adb4854caa4d",
   "metadata": {},
   "outputs": [
    {
     "data": {
      "text/plain": [
       "30"
      ]
     },
     "execution_count": 26,
     "metadata": {},
     "output_type": "execute_result"
    }
   ],
   "source": [
    "10 + 20\n",
    "#similarly\n",
    "#10*20"
   ]
  },
  {
   "cell_type": "code",
   "execution_count": 27,
   "id": "76f9de39-cb1d-4c45-bd92-81cb483b39d1",
   "metadata": {},
   "outputs": [
    {
     "data": {
      "text/plain": [
       "5.0"
      ]
     },
     "execution_count": 27,
     "metadata": {},
     "output_type": "execute_result"
    }
   ],
   "source": [
    "100/20"
   ]
  },
  {
   "cell_type": "code",
   "execution_count": 28,
   "id": "65b98adb-a702-4be4-90bb-2c98287a17c5",
   "metadata": {},
   "outputs": [
    {
     "data": {
      "text/plain": [
       "3"
      ]
     },
     "execution_count": 28,
     "metadata": {},
     "output_type": "execute_result"
    }
   ],
   "source": [
    "100//30"
   ]
  },
  {
   "cell_type": "code",
   "execution_count": 29,
   "id": "82d90df6-946a-47bd-a569-bc07570cfc6a",
   "metadata": {},
   "outputs": [
    {
     "data": {
      "text/plain": [
       "8"
      ]
     },
     "execution_count": 29,
     "metadata": {},
     "output_type": "execute_result"
    }
   ],
   "source": [
    "2**3"
   ]
  },
  {
   "cell_type": "code",
   "execution_count": 30,
   "id": "8fe833d3-5a3d-4d4a-a395-2209b5e75d63",
   "metadata": {},
   "outputs": [],
   "source": [
    "del a # deleting a variable"
   ]
  },
  {
   "cell_type": "code",
   "execution_count": 31,
   "id": "ae38d973-bd2a-4f2f-92d2-9db4889f7dcf",
   "metadata": {},
   "outputs": [
    {
     "ename": "NameError",
     "evalue": "name 'a' is not defined",
     "output_type": "error",
     "traceback": [
      "\u001b[1;31m---------------------------------------------------------------------------\u001b[0m",
      "\u001b[1;31mNameError\u001b[0m                                 Traceback (most recent call last)",
      "Cell \u001b[1;32mIn[31], line 1\u001b[0m\n\u001b[1;32m----> 1\u001b[0m a\n",
      "\u001b[1;31mNameError\u001b[0m: name 'a' is not defined"
     ]
    }
   ],
   "source": [
    "a"
   ]
  },
  {
   "cell_type": "markdown",
   "id": "3bd28a28-c0fd-4716-b46b-110ecbdd047c",
   "metadata": {},
   "source": [
    "### Relational\n"
   ]
  },
  {
   "cell_type": "code",
   "execution_count": 34,
   "id": "7ca9d306-2c71-4f53-8e0f-eb65c5c4242b",
   "metadata": {},
   "outputs": [
    {
     "data": {
      "text/plain": [
       "False"
      ]
     },
     "execution_count": 34,
     "metadata": {},
     "output_type": "execute_result"
    }
   ],
   "source": [
    "a = 10\n",
    "b = 20\n",
    "\n",
    "a>b"
   ]
  },
  {
   "cell_type": "code",
   "execution_count": 35,
   "id": "2c2a741a-50ba-43bb-8175-ddb1a4adc1bf",
   "metadata": {},
   "outputs": [
    {
     "data": {
      "text/plain": [
       "False"
      ]
     },
     "execution_count": 35,
     "metadata": {},
     "output_type": "execute_result"
    }
   ],
   "source": [
    "a==b"
   ]
  },
  {
   "cell_type": "code",
   "execution_count": 36,
   "id": "c817ecb5-6ee2-417d-a281-689efdfdee9f",
   "metadata": {},
   "outputs": [
    {
     "data": {
      "text/plain": [
       "True"
      ]
     },
     "execution_count": 36,
     "metadata": {},
     "output_type": "execute_result"
    }
   ],
   "source": [
    "a!=b"
   ]
  },
  {
   "cell_type": "code",
   "execution_count": 38,
   "id": "9cce93ba-bd79-4866-ab87-6e0b5803aa63",
   "metadata": {},
   "outputs": [
    {
     "data": {
      "text/plain": [
       "True"
      ]
     },
     "execution_count": 38,
     "metadata": {},
     "output_type": "execute_result"
    }
   ],
   "source": [
    "a<=b"
   ]
  },
  {
   "cell_type": "code",
   "execution_count": 39,
   "id": "782b856b-9a80-4133-830f-e984b5742e0a",
   "metadata": {},
   "outputs": [
    {
     "data": {
      "text/plain": [
       "False"
      ]
     },
     "execution_count": 39,
     "metadata": {},
     "output_type": "execute_result"
    }
   ],
   "source": [
    "a>=b"
   ]
  },
  {
   "cell_type": "markdown",
   "id": "cb9b712e-e9af-47bf-a090-a1f7fd10dd5e",
   "metadata": {},
   "source": [
    "### Logical"
   ]
  },
  {
   "cell_type": "code",
   "execution_count": 41,
   "id": "1c6761bf-6116-4325-a2e3-7f891b2c8a48",
   "metadata": {},
   "outputs": [
    {
     "data": {
      "text/plain": [
       "True"
      ]
     },
     "execution_count": 41,
     "metadata": {},
     "output_type": "execute_result"
    }
   ],
   "source": [
    "# and , or , not\n",
    "a=10\n",
    "b=20\n",
    "c=50\n",
    "\n",
    "a<b and a<=b"
   ]
  },
  {
   "cell_type": "code",
   "execution_count": 42,
   "id": "4b800232-a115-4f81-b60b-7f85f93a2b89",
   "metadata": {},
   "outputs": [
    {
     "data": {
      "text/plain": [
       "True"
      ]
     },
     "execution_count": 42,
     "metadata": {},
     "output_type": "execute_result"
    }
   ],
   "source": [
    "b>a and a<c"
   ]
  },
  {
   "cell_type": "code",
   "execution_count": 43,
   "id": "6ed9347e-ae87-47fd-8608-101fb8f2c36d",
   "metadata": {},
   "outputs": [
    {
     "data": {
      "text/plain": [
       "True"
      ]
     },
     "execution_count": 43,
     "metadata": {},
     "output_type": "execute_result"
    }
   ],
   "source": [
    "a>b or b<c"
   ]
  },
  {
   "cell_type": "code",
   "execution_count": 44,
   "id": "bfd6a97d-006d-4eb0-b2e7-4c308f1a4be9",
   "metadata": {},
   "outputs": [
    {
     "data": {
      "text/plain": [
       "False"
      ]
     },
     "execution_count": 44,
     "metadata": {},
     "output_type": "execute_result"
    }
   ],
   "source": [
    "not(a>b or b<c)"
   ]
  },
  {
   "cell_type": "markdown",
   "id": "4d23f371-a3a6-4510-a078-0e028e5a8654",
   "metadata": {},
   "source": [
    "### Assignment "
   ]
  },
  {
   "cell_type": "code",
   "execution_count": 45,
   "id": "d29ea847-5928-4ce1-bbe8-0153e28e8b38",
   "metadata": {},
   "outputs": [
    {
     "name": "stdout",
     "output_type": "stream",
     "text": [
      "30\n"
     ]
    }
   ],
   "source": [
    "a = 10\n",
    "b = 20\n",
    "\n",
    "a += 20\n",
    "print(a)"
   ]
  },
  {
   "cell_type": "code",
   "execution_count": 46,
   "id": "f3b26541-0058-404a-8dea-818356bba7c6",
   "metadata": {},
   "outputs": [],
   "source": [
    "b *= 2"
   ]
  },
  {
   "cell_type": "code",
   "execution_count": 47,
   "id": "42f75ff7-5167-4688-bd5c-d8426c42ae9c",
   "metadata": {},
   "outputs": [
    {
     "data": {
      "text/plain": [
       "40"
      ]
     },
     "execution_count": 47,
     "metadata": {},
     "output_type": "execute_result"
    }
   ],
   "source": [
    "b"
   ]
  },
  {
   "cell_type": "code",
   "execution_count": 48,
   "id": "ac004eee-0ed3-474f-9636-bd907338de84",
   "metadata": {},
   "outputs": [
    {
     "name": "stdout",
     "output_type": "stream",
     "text": [
      "30\n"
     ]
    }
   ],
   "source": [
    "b -= 10\n",
    "print(b)"
   ]
  },
  {
   "cell_type": "markdown",
   "id": "302e74db-55ae-43c8-a2cf-6e342d06979d",
   "metadata": {},
   "source": [
    "### membership operator"
   ]
  },
  {
   "cell_type": "code",
   "execution_count": 49,
   "id": "52255262-0536-46a8-9d5d-673d1fb806e8",
   "metadata": {},
   "outputs": [
    {
     "data": {
      "text/plain": [
       "True"
      ]
     },
     "execution_count": 49,
     "metadata": {},
     "output_type": "execute_result"
    }
   ],
   "source": [
    "a = [1,2,3,4,5]\n",
    "3 in a"
   ]
  },
  {
   "cell_type": "code",
   "execution_count": 50,
   "id": "86c025ab-6b2f-433a-ab06-c99b7f734027",
   "metadata": {},
   "outputs": [
    {
     "data": {
      "text/plain": [
       "False"
      ]
     },
     "execution_count": 50,
     "metadata": {},
     "output_type": "execute_result"
    }
   ],
   "source": [
    "3 not in a"
   ]
  },
  {
   "cell_type": "markdown",
   "id": "e5308018-dbb6-4f31-8088-f13aa515ff6d",
   "metadata": {},
   "source": [
    "### identity operator"
   ]
  },
  {
   "cell_type": "code",
   "execution_count": 51,
   "id": "f1a2856a-a39c-4d9f-a6d0-9a19e1ffa5cd",
   "metadata": {},
   "outputs": [
    {
     "data": {
      "text/plain": [
       "False"
      ]
     },
     "execution_count": 51,
     "metadata": {},
     "output_type": "execute_result"
    }
   ],
   "source": [
    "a = 10\n",
    "b = 20\n",
    "a is b"
   ]
  },
  {
   "cell_type": "code",
   "execution_count": 52,
   "id": "a0964bdd-6586-4f4b-998d-1bb07238cbf5",
   "metadata": {},
   "outputs": [
    {
     "data": {
      "text/plain": [
       "True"
      ]
     },
     "execution_count": 52,
     "metadata": {},
     "output_type": "execute_result"
    }
   ],
   "source": [
    "a is not b"
   ]
  },
  {
   "cell_type": "code",
   "execution_count": 53,
   "id": "42cb0e03-7c63-4fad-835d-9bdb03ca3045",
   "metadata": {},
   "outputs": [
    {
     "data": {
      "text/plain": [
       "True"
      ]
     },
     "execution_count": 53,
     "metadata": {},
     "output_type": "execute_result"
    }
   ],
   "source": [
    "c = 10\n",
    "d = 10\n",
    "\n",
    "c is d"
   ]
  },
  {
   "cell_type": "code",
   "execution_count": null,
   "id": "bd5878a7-b5e7-4474-8194-d29077096db9",
   "metadata": {},
   "outputs": [],
   "source": []
  }
 ],
 "metadata": {
  "kernelspec": {
   "display_name": "Python 3 (ipykernel)",
   "language": "python",
   "name": "python3"
  },
  "language_info": {
   "codemirror_mode": {
    "name": "ipython",
    "version": 3
   },
   "file_extension": ".py",
   "mimetype": "text/x-python",
   "name": "python",
   "nbconvert_exporter": "python",
   "pygments_lexer": "ipython3",
   "version": "3.11.7"
  },
  "widgets": {
   "application/vnd.jupyter.widget-state+json": {
    "state": {},
    "version_major": 2,
    "version_minor": 0
   }
  }
 },
 "nbformat": 4,
 "nbformat_minor": 5
}
