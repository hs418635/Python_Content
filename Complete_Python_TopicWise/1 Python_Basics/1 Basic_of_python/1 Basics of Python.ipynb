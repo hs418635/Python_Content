{
 "cells": [
  {
   "cell_type": "markdown",
   "id": "5f042312-8917-4b28-80c6-ceec38cf6c82",
   "metadata": {},
   "source": [
    "### what is python ?"
   ]
  },
  {
   "cell_type": "markdown",
   "id": "6e63f5f3-a00c-427d-b230-e36c394e2fcb",
   "metadata": {},
   "source": [
    "It is an interpreted object oriented programming language. It was created by Gaudio Vann Russom in 1985-1990, and Launched in 1991 in Netherland.\n",
    "\n",
    "programming langauge ---> it's a medium of communication between human and machine.\n",
    "\n",
    "WHY python is named as python ?\n",
    "--> Guido vann russom liked a comedy series character named as Monty Python , on the Basis of that he named python as programming language.\n",
    "\n",
    "Why people use python ?\n",
    "\n",
    "1) software quality --> oops\n",
    "2) Platform independent --> it can run on any platform OS , MAC , Linux etc.\n",
    "3) Developer Productivty ---> Less to type , less to debug (eg. modules , functions) , less to maintain ( eg. modules , funtions).\n",
    "4) Huge Amount of libraries ---> we can configure python in any of domain using its advanced libraries. eg. For robots --> NLP library for Voice , Opencv for Eyes , Neural Networks for Brain\n",
    "5) Easy to learn.\n",
    "\n",
    "Who uses python ?\n",
    "\n",
    "1) Google --> web search system.\n",
    "2) Youtube ---> video sharing system\n",
    "3) dropbox ---> space or storage sharing system.\n",
    "\n",
    "Coverters :- The converters converts source code to machine code.\n",
    "\n",
    "We have three types of converters\n",
    "\n",
    "1) complilers ---> Reads whole code at a time(c,c++,java).\n",
    "2) Intrepreter ----> Reads the code line by line(python,javascript,r).\n",
    "3) Assembler ---> works over resiter.\n",
    "\n",
    "Types\n",
    "\n",
    "1) High level ---> python , java , javascript user interation\n",
    "2) Low level ---> binary\n",
    "3) Assembley ---> embedded c\n",
    "\n",
    "shell mode--command prompt--run--but can't save(black window)\n",
    "\n",
    "script mode--editors--write+run+save"
   ]
  },
  {
   "cell_type": "markdown",
   "id": "5530b0f0-dcd4-4f77-b072-20d77bd6d849",
   "metadata": {},
   "source": [
    "### Features of python"
   ]
  },
  {
   "cell_type": "markdown",
   "id": "b8847797-6d9f-48a3-85b4-7cc5793b0fe9",
   "metadata": {},
   "source": [
    "1) open source ---> free available\n",
    "2) high level\n",
    "3) easy to learn\n",
    "4) plateform intependent\n",
    "5) Huge amount of libraries--> can configure with any language , hardware , technology\n",
    "6) sytax free\n",
    "7) oops"
   ]
  },
  {
   "cell_type": "markdown",
   "id": "29745363-13a1-434d-a135-fac3544c300c",
   "metadata": {},
   "source": [
    "### Application of python "
   ]
  },
  {
   "cell_type": "markdown",
   "id": "9b82b089-858c-49a6-8287-62f627fae197",
   "metadata": {},
   "source": [
    "1) Software development\n",
    "2) web applications(django)\n",
    "3) Database connectivity\n",
    "4) ML/DS/AI/IOT\n",
    "5) social networking sites\n",
    "6) e-commerce etc"
   ]
  },
  {
   "cell_type": "markdown",
   "id": "5f0bc09d-33c1-40d9-affb-f158fd61dbbe",
   "metadata": {},
   "source": [
    "### Essentials to make a programm"
   ]
  },
  {
   "cell_type": "markdown",
   "id": "a173f4bc-089b-4e8f-9746-0811dd7e3ab0",
   "metadata": {},
   "source": [
    "1) Identifiers--> name given by user to a variable, class , function\n",
    "2) Comments ---> to hide unnecessary statements\n",
    "3) Keywords ----> reserved words in python 32( in, not in , def , import , class etc)\n",
    "4) Indentation ---> 1 tab space\n",
    "5) Operators\n",
    "   1) arithmatic ( + , - , * , / , % , // )\n",
    "   2) Relational or Comparison ( > , < , >= , >= , != , ==)\n",
    "   3) Logical ( AND OR NOT )\n",
    "   4) Assignment or compound operator ( = , += , -= , /= , *= , %= ,//= )\n",
    "   5) Membership operator ( in , not in )\n",
    "   6) Identity operator ( is , not is )"
   ]
  },
  {
   "cell_type": "code",
   "execution_count": 7,
   "id": "31a93412-3a2f-4811-94b7-3e11df51b785",
   "metadata": {},
   "outputs": [],
   "source": [
    "# Variables --> are the containers which stores the address of a memory location\n",
    "# rules \n",
    "a = 10\n",
    "a1 = 20\n",
    "a_1 = 50\n",
    "_a = 60\n",
    "# 1_a = 100 this is not a correct way to define a variable \n",
    "# 2a = 50 this is also not correct way "
   ]
  }
 ],
 "metadata": {
  "kernelspec": {
   "display_name": "Python 3 (ipykernel)",
   "language": "python",
   "name": "python3"
  },
  "language_info": {
   "codemirror_mode": {
    "name": "ipython",
    "version": 3
   },
   "file_extension": ".py",
   "mimetype": "text/x-python",
   "name": "python",
   "nbconvert_exporter": "python",
   "pygments_lexer": "ipython3",
   "version": "3.11.7"
  },
  "widgets": {
   "application/vnd.jupyter.widget-state+json": {
    "state": {},
    "version_major": 2,
    "version_minor": 0
   }
  }
 },
 "nbformat": 4,
 "nbformat_minor": 5
}
