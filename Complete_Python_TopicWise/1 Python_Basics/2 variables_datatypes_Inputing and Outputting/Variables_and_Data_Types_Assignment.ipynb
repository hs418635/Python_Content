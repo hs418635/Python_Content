{
 "cells": [
  {
   "cell_type": "markdown",
   "id": "ba9c00e3",
   "metadata": {},
   "source": [
    "# Variables and Data Types"
   ]
  },
  {
   "cell_type": "markdown",
   "id": "ac625a42",
   "metadata": {},
   "source": [
    "## Variables"
   ]
  },
  {
   "cell_type": "markdown",
   "id": "6c767a6a",
   "metadata": {},
   "source": [
    "**Question 1**: Write a Python program to declare variables of different data types and print their types."
   ]
  },
  {
   "cell_type": "code",
   "execution_count": null,
   "id": "ed3edba9",
   "metadata": {},
   "outputs": [],
   "source": [
    "# Declaring variables of different data types\n",
    "integer_var = 10\n",
    "float_var = 20.5\n",
    "string_var = \"Hello, World!\"\n",
    "boolean_var = True\n",
    "list_var = [1, 2, 3, 4, 5]\n",
    "tuple_var = (1, 2, 3)\n",
    "set_var = {1, 2, 3}\n",
    "dict_var = {\"name\": \"Alice\", \"age\": 25}\n",
    "\n",
    "# Printing the types of variables\n",
    "print(\"Type of integer_var:\", type(integer_var))\n",
    "print(\"Type of float_var:\", type(float_var))\n",
    "print(\"Type of string_var:\", type(string_var))\n",
    "print(\"Type of boolean_var:\", type(boolean_var))\n",
    "print(\"Type of list_var:\", type(list_var))\n",
    "print(\"Type of tuple_var:\", type(tuple_var))\n",
    "print(\"Type of set_var:\", type(set_var))\n",
    "print(\"Type of dict_var:\", type(dict_var))"
   ]
  },
  {
   "cell_type": "markdown",
   "id": "8b04e21d",
   "metadata": {},
   "source": [
    "**Question 2**: Write a Python program to swap the values of two variables."
   ]
  },
  {
   "cell_type": "code",
   "execution_count": null,
   "id": "bf971fca",
   "metadata": {},
   "outputs": [],
   "source": [
    "# Swapping values of two variables\n",
    "a = 5\n",
    "b = 10\n",
    "\n",
    "# Using a temporary variable\n",
    "temp = a\n",
    "a = b\n",
    "b = temp\n",
    "\n",
    "print(\"After swapping:\")\n",
    "print(\"a =\", a)\n",
    "print(\"b =\", b)\n",
    "\n",
    "# Swapping back using tuple unpacking\n",
    "a, b = b, a\n",
    "\n",
    "print(\"After swapping again:\")\n",
    "print(\"a =\", a)\n",
    "print(\"b =\", b)"
   ]
  },
  {
   "cell_type": "markdown",
   "id": "582bd6b6",
   "metadata": {},
   "source": [
    "## Data Types"
   ]
  },
  {
   "cell_type": "markdown",
   "id": "58e99a44",
   "metadata": {},
   "source": [
    "**Question 1**: Write a Python program to perform various operations on different data types."
   ]
  },
  {
   "cell_type": "code",
   "execution_count": null,
   "id": "b5434f7e",
   "metadata": {},
   "outputs": [],
   "source": [
    "# Performing operations on different data types\n",
    "\n",
    "# Integer and float\n",
    "int_var = 10\n",
    "float_var = 5.5\n",
    "sum_result = int_var + float_var\n",
    "product_result = int_var * float_var\n",
    "\n",
    "print(\"Sum of int and float:\", sum_result)\n",
    "print(\"Product of int and float:\", product_result)\n",
    "\n",
    "# String concatenation\n",
    "str1 = \"Hello\"\n",
    "str2 = \"World\"\n",
    "concatenated_str = str1 + \" \" + str2\n",
    "\n",
    "print(\"Concatenated string:\", concatenated_str)\n",
    "\n",
    "# List operations\n",
    "my_list = [1, 2, 3, 4, 5]\n",
    "my_list.append(6)\n",
    "my_list.remove(2)\n",
    "list_sum = sum(my_list)\n",
    "\n",
    "print(\"Modified list:\", my_list)\n",
    "print(\"Sum of list elements:\", list_sum)\n",
    "\n",
    "# Dictionary operations\n",
    "my_dict = {\"name\": \"Alice\", \"age\": 25}\n",
    "my_dict[\"city\"] = \"New York\"\n",
    "del my_dict[\"age\"]\n",
    "\n",
    "print(\"Modified dictionary:\", my_dict)"
   ]
  },
  {
   "cell_type": "markdown",
   "id": "058c4c5f",
   "metadata": {},
   "source": [
    "**Question 2**: Write a Python program to convert a given integer to a float, string, and boolean."
   ]
  },
  {
   "cell_type": "code",
   "execution_count": null,
   "id": "5893dfb4",
   "metadata": {},
   "outputs": [],
   "source": [
    "# Converting integer to different data types\n",
    "int_var = 10\n",
    "\n",
    "float_var = float(int_var)\n",
    "str_var = str(int_var)\n",
    "bool_var = bool(int_var)\n",
    "\n",
    "print(\"Integer value:\", int_var)\n",
    "print(\"Converted to float:\", float_var)\n",
    "print(\"Converted to string:\", str_var)\n",
    "print(\"Converted to boolean:\", bool_var)"
   ]
  }
 ],
 "metadata": {},
 "nbformat": 4,
 "nbformat_minor": 5
}
