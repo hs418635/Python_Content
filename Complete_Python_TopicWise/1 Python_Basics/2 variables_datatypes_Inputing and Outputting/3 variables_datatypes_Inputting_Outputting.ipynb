{
 "cells": [
  {
   "cell_type": "markdown",
   "id": "b3e2c603-cd07-49ab-98c0-3d31819c2d7a",
   "metadata": {
    "jp-MarkdownHeadingCollapsed": true
   },
   "source": [
    "### Variables and datatypes"
   ]
  },
  {
   "cell_type": "code",
   "execution_count": 51,
   "id": "d439964b-8af1-440d-995e-a5238905a8d8",
   "metadata": {},
   "outputs": [],
   "source": [
    "# Variables --> are the containers which stores the address of a memory location\n",
    "# rules \n",
    "a = 10\n",
    "a1 = 20\n",
    "a_1 = 50\n",
    "_a = 60\n",
    "# 1_a = 100 this is not a correct way to define a variable \n",
    "# 2a = 50 this is also not correct way "
   ]
  },
  {
   "cell_type": "code",
   "execution_count": 52,
   "id": "83954e98-07ed-4b96-98df-e892234d9db7",
   "metadata": {},
   "outputs": [
    {
     "name": "stdout",
     "output_type": "stream",
     "text": [
      "<class 'int'>\n",
      "<class 'float'>\n",
      "<class 'str'>\n",
      "<class 'complex'>\n",
      "<class 'bool'>\n"
     ]
    }
   ],
   "source": [
    "a = 10\n",
    "b = 10.1\n",
    "c = \"himanshu\"\n",
    "d = 2+3j\n",
    "e = True\n",
    "\n",
    "print(type(a))\n",
    "print(type(b))\n",
    "print(type(c))\n",
    "print(type(d))\n",
    "print(type(e))"
   ]
  },
  {
   "cell_type": "code",
   "execution_count": 54,
   "id": "f3de716e-fac0-4497-a672-85a3f45215ab",
   "metadata": {},
   "outputs": [
    {
     "name": "stdout",
     "output_type": "stream",
     "text": [
      "<class 'int'>\n"
     ]
    }
   ],
   "source": [
    "# we can change the data types of one into another\n",
    "new = int(b)\n",
    "print(type(new))"
   ]
  },
  {
   "cell_type": "code",
   "execution_count": 56,
   "id": "9a232b35-2a24-4479-a56b-530cbc0db57b",
   "metadata": {},
   "outputs": [
    {
     "name": "stdout",
     "output_type": "stream",
     "text": [
      "<class 'str'>\n"
     ]
    }
   ],
   "source": [
    "new1 = str(b)\n",
    "print(type(new1))"
   ]
  },
  {
   "cell_type": "code",
   "execution_count": 60,
   "id": "115393d1-b4cd-4ebf-93b2-c4609ccfeeac",
   "metadata": {},
   "outputs": [
    {
     "name": "stdout",
     "output_type": "stream",
     "text": [
      "<class 'str'>\n",
      "(2+3j)\n"
     ]
    }
   ],
   "source": [
    "new2 = str(d)\n",
    "print(type(new2)) # can not convert complex to int , but we can convert it into string\n",
    "print(new2)"
   ]
  },
  {
   "cell_type": "markdown",
   "id": "7e872d62-723a-4dd4-bbbf-a55e20091fc1",
   "metadata": {
    "jp-MarkdownHeadingCollapsed": true
   },
   "source": [
    "### Inputting"
   ]
  },
  {
   "cell_type": "code",
   "execution_count": 1,
   "id": "502a2a04-9629-49f8-9f78-2f3a97c8802c",
   "metadata": {},
   "outputs": [
    {
     "name": "stdout",
     "output_type": "stream",
     "text": [
      "10\n"
     ]
    }
   ],
   "source": [
    "a = 10\n",
    "print(a)"
   ]
  },
  {
   "cell_type": "code",
   "execution_count": 3,
   "id": "b7e182d6-b454-493b-a290-2736a0c93ed3",
   "metadata": {},
   "outputs": [
    {
     "name": "stdin",
     "output_type": "stream",
     "text": [
      "enter a number 10\n"
     ]
    },
    {
     "name": "stdout",
     "output_type": "stream",
     "text": [
      "10\n"
     ]
    }
   ],
   "source": [
    "# input from user\n",
    "a = input(\"enter a number\")\n",
    "print(a)"
   ]
  },
  {
   "cell_type": "code",
   "execution_count": 4,
   "id": "212f7a58-e887-49a7-9a74-82d4e0de04ff",
   "metadata": {},
   "outputs": [
    {
     "name": "stdout",
     "output_type": "stream",
     "text": [
      "<class 'str'>\n"
     ]
    }
   ],
   "source": [
    "print(type(a))"
   ]
  },
  {
   "cell_type": "code",
   "execution_count": 5,
   "id": "46ba43f5-5f8b-4fcd-a699-a33d706c5883",
   "metadata": {},
   "outputs": [
    {
     "name": "stdin",
     "output_type": "stream",
     "text": [
      "enter a number 5\n",
      "enter a number 3\n"
     ]
    },
    {
     "name": "stdout",
     "output_type": "stream",
     "text": [
      "53\n"
     ]
    }
   ],
   "source": [
    "# eg.2 \n",
    "a = input(\"enter a number\")\n",
    "b = input(\"enter a number\")\n",
    "\n",
    "c = a+b\n",
    "print(c)"
   ]
  },
  {
   "cell_type": "markdown",
   "id": "a5f168d2-c77f-4e64-b835-fa77d577abfd",
   "metadata": {},
   "source": [
    "Above result is 53 because input function takes input as string\n",
    "\n",
    "and if you are writing like 5+3 means you are concatenating two string\n",
    "\n",
    "we can concatenate words also "
   ]
  },
  {
   "cell_type": "code",
   "execution_count": 13,
   "id": "829236f4-2f00-4e5d-b503-fa26b35f46a9",
   "metadata": {},
   "outputs": [
    {
     "name": "stdin",
     "output_type": "stream",
     "text": [
      "enter a string Himanshu\n",
      "enter a string Suryavanshi\n"
     ]
    },
    {
     "name": "stdout",
     "output_type": "stream",
     "text": [
      "Himanshu Suryavanshi\n"
     ]
    }
   ],
   "source": [
    "# eg.3 \n",
    "a = input(\"enter a string\")\n",
    "b = input(\"enter a string\")\n",
    "\n",
    "c = a+\" \"+ b\n",
    "print(c)"
   ]
  },
  {
   "cell_type": "code",
   "execution_count": 18,
   "id": "588466ea-e27c-44bc-8bb7-ea0734650406",
   "metadata": {},
   "outputs": [
    {
     "name": "stdin",
     "output_type": "stream",
     "text": [
      "enter a number 5\n",
      "enter a number 3\n"
     ]
    },
    {
     "name": "stdout",
     "output_type": "stream",
     "text": [
      "8\n",
      "<class 'int'>\n"
     ]
    }
   ],
   "source": [
    "# converting string to integer using int function while taking input from user\n",
    "a = int(input(\"enter a number\"))\n",
    "b = int(input(\"enter a number\"))\n",
    "c = a + b\n",
    "print(c)\n",
    "print(type(c))"
   ]
  },
  {
   "cell_type": "markdown",
   "id": "b5665d1f-4a49-4020-8cd5-96f16716c278",
   "metadata": {},
   "source": [
    "Now above result is correct "
   ]
  },
  {
   "cell_type": "code",
   "execution_count": 19,
   "id": "42ad9ed8-619a-40de-ad89-794d0b33469f",
   "metadata": {},
   "outputs": [
    {
     "name": "stdin",
     "output_type": "stream",
     "text": [
      "enter a number 5\n",
      "enter a number 3\n"
     ]
    },
    {
     "name": "stdout",
     "output_type": "stream",
     "text": [
      "8.0\n",
      "<class 'float'>\n"
     ]
    }
   ],
   "source": [
    "#float\n",
    "a = float(input(\"enter a number\"))\n",
    "b = float(input(\"enter a number\"))\n",
    "c = a + b\n",
    "print(c)\n",
    "print(type(c))"
   ]
  },
  {
   "cell_type": "code",
   "execution_count": 28,
   "id": "a197cbfe-ae5c-457d-aa94-9952ce8d8f92",
   "metadata": {},
   "outputs": [
    {
     "name": "stdin",
     "output_type": "stream",
     "text": [
      "enter a number 5\n",
      "enter a number 3\n"
     ]
    },
    {
     "name": "stdout",
     "output_type": "stream",
     "text": [
      "53\n",
      "<class 'str'>\n"
     ]
    }
   ],
   "source": [
    "#str\n",
    "a = int(input(\"enter a number\"))\n",
    "b = int(input(\"enter a number\"))\n",
    "c = str(a) + str(b)\n",
    "# c = str(a + b)\n",
    "print(c)\n",
    "print(type(c))"
   ]
  },
  {
   "cell_type": "code",
   "execution_count": 29,
   "id": "391b613b-166a-4c7d-ad5b-c6a3c498528d",
   "metadata": {},
   "outputs": [
    {
     "name": "stdin",
     "output_type": "stream",
     "text": [
      "enter a number 2+5j\n",
      "enter a number 3+2j\n"
     ]
    },
    {
     "name": "stdout",
     "output_type": "stream",
     "text": [
      "(5+7j)\n",
      "<class 'complex'>\n"
     ]
    }
   ],
   "source": [
    "#complex\n",
    "a = complex(input(\"enter a number\"))\n",
    "b = complex(input(\"enter a number\"))\n",
    "c = a + b\n",
    "print(c)\n",
    "print(type(c))"
   ]
  },
  {
   "cell_type": "code",
   "execution_count": 30,
   "id": "b47fc915-d20c-45ab-b451-4b6e501e7858",
   "metadata": {},
   "outputs": [
    {
     "name": "stdin",
     "output_type": "stream",
     "text": [
      "enter a number True\n",
      "enter a number True\n"
     ]
    },
    {
     "name": "stdout",
     "output_type": "stream",
     "text": [
      "2\n",
      "<class 'int'>\n"
     ]
    }
   ],
   "source": [
    "#boolean\n",
    "a = bool(input(\"enter a number\"))\n",
    "b = bool(input(\"enter a number\"))\n",
    "c = a + b\n",
    "print(c)\n",
    "print(type(c))"
   ]
  },
  {
   "cell_type": "markdown",
   "id": "c21bb1ef-38b9-4f0c-a771-05190fee0c87",
   "metadata": {},
   "source": [
    "#### Eval function --> allows us to evaluate the Python expression datatype automaticaly "
   ]
  },
  {
   "cell_type": "code",
   "execution_count": 35,
   "id": "7d0db3cd-c363-4003-ad88-edf90e8bb577",
   "metadata": {},
   "outputs": [
    {
     "name": "stdin",
     "output_type": "stream",
     "text": [
      "enter anything 5\n",
      "enter anything 3\n"
     ]
    },
    {
     "name": "stdout",
     "output_type": "stream",
     "text": [
      "8\n",
      "<class 'int'>\n"
     ]
    }
   ],
   "source": [
    "a = eval(input(\"enter anything\")) # giving input as integer number\n",
    "b = eval(input(\"enter anything\"))\n",
    "c = a + b\n",
    "print(c)\n",
    "print(type(c))"
   ]
  },
  {
   "cell_type": "code",
   "execution_count": 36,
   "id": "72989894-23fb-4e49-8cff-37fccafec6f8",
   "metadata": {},
   "outputs": [
    {
     "name": "stdin",
     "output_type": "stream",
     "text": [
      "enter anything 2.5\n",
      "enter anything 5.2\n"
     ]
    },
    {
     "name": "stdout",
     "output_type": "stream",
     "text": [
      "7.7\n",
      "<class 'float'>\n"
     ]
    }
   ],
   "source": [
    "a = eval(input(\"enter anything\")) # giving input as float number\n",
    "b = eval(input(\"enter anything\"))\n",
    "c = a + b\n",
    "print(c)\n",
    "print(type(c))"
   ]
  },
  {
   "cell_type": "code",
   "execution_count": 37,
   "id": "29629d1c-98b5-476b-a879-5b95398c435f",
   "metadata": {},
   "outputs": [
    {
     "name": "stdin",
     "output_type": "stream",
     "text": [
      "enter anything 5+2j\n",
      "enter anything 2+3j\n"
     ]
    },
    {
     "name": "stdout",
     "output_type": "stream",
     "text": [
      "(7+5j)\n",
      "<class 'complex'>\n"
     ]
    }
   ],
   "source": [
    "a = eval(input(\"enter anything\")) # giving input as complex number\n",
    "b = eval(input(\"enter anything\"))\n",
    "c = a + b\n",
    "print(c)\n",
    "print(type(c))"
   ]
  },
  {
   "cell_type": "code",
   "execution_count": 41,
   "id": "a947958a-73dc-43fa-95d4-c71ccd4d9a27",
   "metadata": {},
   "outputs": [
    {
     "name": "stdin",
     "output_type": "stream",
     "text": [
      "enter anything \"Poco\"\n",
      "enter anything \"x4pro\"\n"
     ]
    },
    {
     "name": "stdout",
     "output_type": "stream",
     "text": [
      "Poco x4pro\n",
      "<class 'str'>\n"
     ]
    }
   ],
   "source": [
    "a = eval(input(\"enter anything\")) # giving input as string number\n",
    "b = eval(input(\"enter anything\"))\n",
    "c = a+\" \"+b\n",
    "print(c)\n",
    "print(type(c))"
   ]
  },
  {
   "cell_type": "markdown",
   "id": "75177e85-e793-43d5-b4d5-575f593fd2f0",
   "metadata": {},
   "source": [
    "### Outputting"
   ]
  },
  {
   "cell_type": "code",
   "execution_count": 42,
   "id": "5286ff71-bb4b-4bab-88c7-352f6462430f",
   "metadata": {},
   "outputs": [
    {
     "name": "stdout",
     "output_type": "stream",
     "text": [
      "a values is 10 and b value is 90\n"
     ]
    }
   ],
   "source": [
    "# print statement\n",
    "a = 10\n",
    "b = 90\n",
    "\n",
    "print(\"a values is 10 and b value is 90\") #1"
   ]
  },
  {
   "cell_type": "code",
   "execution_count": 43,
   "id": "3ab99763-ae35-4271-985e-86a823aa5a8b",
   "metadata": {},
   "outputs": [
    {
     "name": "stdout",
     "output_type": "stream",
     "text": [
      "a value is 10 \n",
      "b value is 90\n"
     ]
    }
   ],
   "source": [
    "print(\"a value is\",a,\"\\nb value is\",b) #2 and it is most used method"
   ]
  },
  {
   "cell_type": "code",
   "execution_count": 44,
   "id": "802e5c87-3309-46d2-ad7d-b0088a37fe79",
   "metadata": {},
   "outputs": [
    {
     "name": "stdout",
     "output_type": "stream",
     "text": [
      "a value is 10 and b value is 90\n"
     ]
    }
   ],
   "source": [
    "# using percent specifier like %d , %s etc\n",
    "print(\"a value is %d and b value is %s\"%(a,b)) #3"
   ]
  },
  {
   "cell_type": "code",
   "execution_count": 45,
   "id": "855066ab-e61c-4be9-ae4f-a90df15bd332",
   "metadata": {},
   "outputs": [
    {
     "name": "stdout",
     "output_type": "stream",
     "text": [
      "a value is 10 and b value is 90\n"
     ]
    }
   ],
   "source": [
    "print(\"a value is {} and b value is {}\".format(a,b)) #4"
   ]
  },
  {
   "cell_type": "code",
   "execution_count": 46,
   "id": "e79ea224-d70b-4206-8b8a-eca4e047f4f7",
   "metadata": {},
   "outputs": [
    {
     "name": "stdout",
     "output_type": "stream",
     "text": [
      "a value is 10 and b value is 90\n"
     ]
    }
   ],
   "source": [
    "print(\"a value is {0} and b value is {1}\".format(a,b)) #5 "
   ]
  },
  {
   "cell_type": "code",
   "execution_count": 47,
   "id": "0a18c07e-cbeb-45a9-b5cd-4c2f9d61fa93",
   "metadata": {},
   "outputs": [
    {
     "name": "stdout",
     "output_type": "stream",
     "text": [
      "a value is 90 and b value is 10\n"
     ]
    }
   ],
   "source": [
    "print(\"a value is {1} and b value is {0}\".format(a,b)) # swaped values using python indexing, #6"
   ]
  },
  {
   "cell_type": "code",
   "execution_count": 48,
   "id": "47c172cb-30b2-40b4-916d-5998c53b15d8",
   "metadata": {},
   "outputs": [
    {
     "name": "stdout",
     "output_type": "stream",
     "text": [
      "a value is 10 and b value is 90\n"
     ]
    }
   ],
   "source": [
    "print(f\"a value is {a} and b value is {b}\") #7"
   ]
  },
  {
   "cell_type": "code",
   "execution_count": 49,
   "id": "f64d67c9-52d4-4cff-b806-127388a1cf7e",
   "metadata": {},
   "outputs": [
    {
     "name": "stdout",
     "output_type": "stream",
     "text": [
      "<class 'int'>\n"
     ]
    }
   ],
   "source": [
    "print(type(a))"
   ]
  },
  {
   "cell_type": "markdown",
   "id": "373b1fde-1278-4a03-9937-77f387e61d15",
   "metadata": {},
   "source": [
    "when we are checking the type of a , we are getting <class 'int'> int class , mean everything in the python is treated as classes and objects \n",
    "because python is an object oriented programming langauge"
   ]
  },
  {
   "cell_type": "code",
   "execution_count": null,
   "id": "b535c939-75a0-44db-93c8-09526d6f89ab",
   "metadata": {},
   "outputs": [],
   "source": []
  }
 ],
 "metadata": {
  "kernelspec": {
   "display_name": "Python 3 (ipykernel)",
   "language": "python",
   "name": "python3"
  },
  "language_info": {
   "codemirror_mode": {
    "name": "ipython",
    "version": 3
   },
   "file_extension": ".py",
   "mimetype": "text/x-python",
   "name": "python",
   "nbconvert_exporter": "python",
   "pygments_lexer": "ipython3",
   "version": "3.11.7"
  },
  "widgets": {
   "application/vnd.jupyter.widget-state+json": {
    "state": {},
    "version_major": 2,
    "version_minor": 0
   }
  }
 },
 "nbformat": 4,
 "nbformat_minor": 5
}
