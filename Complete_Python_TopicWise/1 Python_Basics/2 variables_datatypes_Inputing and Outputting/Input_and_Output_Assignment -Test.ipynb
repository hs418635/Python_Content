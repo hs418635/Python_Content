{
 "cells": [
  {
   "cell_type": "markdown",
   "id": "bd54ce53",
   "metadata": {},
   "source": [
    "# Input and Output"
   ]
  },
  {
   "cell_type": "markdown",
   "id": "09648ff6",
   "metadata": {},
   "source": [
    "## Input"
   ]
  },
  {
   "cell_type": "markdown",
   "id": "f0f2b9ba",
   "metadata": {},
   "source": [
    "**Question 1**: Write a Python program that takes a user's name as input and prints a welcome message."
   ]
  },
  {
   "cell_type": "code",
   "execution_count": 2,
   "id": "781f5a1a",
   "metadata": {},
   "outputs": [],
   "source": [
    "# Taking user's name as input\n",
    "\n",
    "\n",
    "# Printing a welcome message\n"
   ]
  },
  {
   "cell_type": "markdown",
   "id": "60e7303e",
   "metadata": {},
   "source": [
    "**Question 2**: Write a Python program that takes two numbers as input and prints their sum."
   ]
  },
  {
   "cell_type": "code",
   "execution_count": 3,
   "id": "591383df",
   "metadata": {},
   "outputs": [],
   "source": [
    "# Taking two numbers as input\n",
    "\n",
    "# Calculating the sum\n",
    "\n",
    "\n",
    "# Printing the sum\n"
   ]
  },
  {
   "cell_type": "markdown",
   "id": "915435f0",
   "metadata": {},
   "source": [
    "## Output"
   ]
  },
  {
   "cell_type": "markdown",
   "id": "a6634d27",
   "metadata": {},
   "source": [
    "**Question 1**: Write a Python program to display the details of a student using formatted string literals (f-strings)."
   ]
  },
  {
   "cell_type": "code",
   "execution_count": 4,
   "id": "bd57180d",
   "metadata": {},
   "outputs": [],
   "source": [
    "# Student details\n",
    "\n",
    "\n",
    "# Displaying the details using f-strings\n"
   ]
  },
  {
   "cell_type": "markdown",
   "id": "3ff569ac",
   "metadata": {},
   "source": [
    "**Question 2**: Write a Python program that takes a user's first and last name as input and prints them in reverse order."
   ]
  },
  {
   "cell_type": "code",
   "execution_count": 5,
   "id": "b2954802",
   "metadata": {},
   "outputs": [],
   "source": [
    "# Taking user's first and last name as input\n",
    "\n",
    "# Printing the names in reverse order\n"
   ]
  },
  {
   "cell_type": "markdown",
   "id": "d70876c6",
   "metadata": {},
   "source": [
    "## Practice"
   ]
  },
  {
   "cell_type": "markdown",
   "id": "d81a9c43",
   "metadata": {},
   "source": [
    "**Question 1**: Write a Python program that asks the user for their birth year and calculates their age."
   ]
  },
  {
   "cell_type": "code",
   "execution_count": 6,
   "id": "e02923a7",
   "metadata": {},
   "outputs": [],
   "source": [
    "# Taking the user's birth year as input\n",
    "\n",
    "\n",
    "# Calculating the age\n",
    "current_year = 2024\n",
    "\n",
    "\n",
    "# Printing the age\n"
   ]
  },
  {
   "cell_type": "markdown",
   "id": "3d4d5e00",
   "metadata": {},
   "source": [
    "**Question 2**: Write a Python program that takes the radius of a circle as input and prints its area and circumference."
   ]
  },
  {
   "cell_type": "code",
   "execution_count": 7,
   "id": "5e305dcc",
   "metadata": {},
   "outputs": [],
   "source": [
    "import math\n",
    "\n",
    "# Taking the radius of the circle as input\n",
    "\n",
    "\n",
    "# Calculating the area and circumference\n",
    "\n",
    "\n",
    "# Printing the area and circumference\n"
   ]
  }
 ],
 "metadata": {
  "kernelspec": {
   "display_name": "Python 3 (ipykernel)",
   "language": "python",
   "name": "python3"
  },
  "language_info": {
   "codemirror_mode": {
    "name": "ipython",
    "version": 3
   },
   "file_extension": ".py",
   "mimetype": "text/x-python",
   "name": "python",
   "nbconvert_exporter": "python",
   "pygments_lexer": "ipython3",
   "version": "3.11.7"
  },
  "widgets": {
   "application/vnd.jupyter.widget-state+json": {
    "state": {},
    "version_major": 2,
    "version_minor": 0
   }
  }
 },
 "nbformat": 4,
 "nbformat_minor": 5
}
