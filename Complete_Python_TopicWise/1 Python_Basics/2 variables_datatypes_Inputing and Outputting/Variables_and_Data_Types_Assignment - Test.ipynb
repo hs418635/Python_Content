{
 "cells": [
  {
   "cell_type": "markdown",
   "id": "ba9c00e3",
   "metadata": {},
   "source": [
    "# Variables and Data Types"
   ]
  },
  {
   "cell_type": "markdown",
   "id": "ac625a42",
   "metadata": {},
   "source": [
    "## Variables"
   ]
  },
  {
   "cell_type": "markdown",
   "id": "6c767a6a",
   "metadata": {},
   "source": [
    "**Question 1**: Write a Python program to declare variables of different data types and print their types."
   ]
  },
  {
   "cell_type": "code",
   "execution_count": 5,
   "id": "ed3edba9",
   "metadata": {},
   "outputs": [],
   "source": [
    "# Declaring variables of different data types\n",
    "integer_var = 10\n",
    "\n",
    "\n",
    "# Printing the types of variables\n",
    "# example --> print(\"Type of integer_var:\", type(integer_var))\n"
   ]
  },
  {
   "cell_type": "markdown",
   "id": "8b04e21d",
   "metadata": {},
   "source": [
    "**Question 2**: Write a Python program to swap the values of two variables."
   ]
  },
  {
   "cell_type": "code",
   "execution_count": 6,
   "id": "bf971fca",
   "metadata": {},
   "outputs": [],
   "source": [
    "# Swapping values of two variables\n",
    "a = 5\n",
    "b = 10\n",
    "\n",
    "# Using a temporary variable\n",
    "\n",
    "\n",
    "\n",
    "# Swapping back using tuple unpacking\n"
   ]
  },
  {
   "cell_type": "markdown",
   "id": "582bd6b6",
   "metadata": {},
   "source": [
    "## Data Types"
   ]
  },
  {
   "cell_type": "markdown",
   "id": "58e99a44",
   "metadata": {},
   "source": [
    "**Question 1**: Write a Python program to perform various operations on different data types."
   ]
  },
  {
   "cell_type": "code",
   "execution_count": 7,
   "id": "b5434f7e",
   "metadata": {},
   "outputs": [],
   "source": [
    "# Performing operations on different data types\n",
    "\n",
    "# Integer and float\n",
    "int_var = 10\n",
    "float_var = 5.5\n",
    "\n",
    "\n",
    "# String concatenation\n",
    "str1 = \"Hello\"\n",
    "str2 = \"World\"\n",
    "\n"
   ]
  },
  {
   "cell_type": "markdown",
   "id": "058c4c5f",
   "metadata": {},
   "source": [
    "**Question 2**: Write a Python program to convert a given integer to a float, string, and boolean."
   ]
  },
  {
   "cell_type": "code",
   "execution_count": 8,
   "id": "5893dfb4",
   "metadata": {},
   "outputs": [],
   "source": [
    "# Converting integer to different data types\n",
    "int_var = 10\n",
    "\n"
   ]
  }
 ],
 "metadata": {
  "kernelspec": {
   "display_name": "Python 3 (ipykernel)",
   "language": "python",
   "name": "python3"
  },
  "language_info": {
   "codemirror_mode": {
    "name": "ipython",
    "version": 3
   },
   "file_extension": ".py",
   "mimetype": "text/x-python",
   "name": "python",
   "nbconvert_exporter": "python",
   "pygments_lexer": "ipython3",
   "version": "3.11.7"
  },
  "widgets": {
   "application/vnd.jupyter.widget-state+json": {
    "state": {},
    "version_major": 2,
    "version_minor": 0
   }
  }
 },
 "nbformat": 4,
 "nbformat_minor": 5
}
