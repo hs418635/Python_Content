{
 "cells": [
  {
   "cell_type": "code",
   "execution_count": 3,
   "id": "cc11a9ec-73bd-4583-904a-eb7eb95914e5",
   "metadata": {},
   "outputs": [
    {
     "name": "stdout",
     "output_type": "stream",
     "text": [
      "palindrome\n"
     ]
    }
   ],
   "source": [
    "# import string\n",
    "\n",
    "def is_palindrome(input_str):\n",
    "    cleaned_str = ''.join(char.lower() for char in input_str if char.isalnum())\n",
    "\n",
    "    return cleaned_str == cleaned_str[::-1]\n",
    "\n",
    "input_str = \"Malayalam\"\n",
    "if is_palindrome(input_str):\n",
    "    print(\"palindrome\")\n",
    "else:\n",
    "    print(\"the:\")"
   ]
  },
  {
   "cell_type": "code",
   "execution_count": null,
   "id": "de118c03-df39-4f08-9a26-33da835858ae",
   "metadata": {},
   "outputs": [],
   "source": [
    "def is_plaindrom(input_str):\n",
    "    cleaned_str = ''.join(char.lower() for char in input_str if char.isalnum())"
   ]
  },
  {
   "cell_type": "code",
   "execution_count": 4,
   "id": "3cacb710-dbb2-46cb-829c-5aca1ce3d684",
   "metadata": {},
   "outputs": [
    {
     "name": "stdout",
     "output_type": "stream",
     "text": [
      "The product of the numbers at indices 1 and 3 is 21.\n"
     ]
    }
   ],
   "source": [
    "# Example array\n",
    "arr = [2, 3, 5, 7, 11]\n",
    "\n",
    "# Indices of the numbers to multiply\n",
    "index1 = 1  # Index of the first number (3)\n",
    "index2 = 3  # Index of the second number (7)\n",
    "\n",
    "# Ensure indices are within the range of the array\n",
    "if index1 >= len(arr) or index2 >= len(arr):\n",
    "    raise IndexError(\"One or both indices are out of range.\")\n",
    "\n",
    "# Perform the multiplication\n",
    "product = arr[index1] * arr[index2]\n",
    "\n",
    "# Print the result\n",
    "print(f\"The product of the numbers at indices {index1} and {index2} is {product}.\")\n"
   ]
  },
  {
   "cell_type": "code",
   "execution_count": null,
   "id": "f3c7e727-bb2b-4573-8728-408a9c787f7d",
   "metadata": {},
   "outputs": [],
   "source": []
  }
 ],
 "metadata": {
  "kernelspec": {
   "display_name": "Python 3 (ipykernel)",
   "language": "python",
   "name": "python3"
  },
  "language_info": {
   "codemirror_mode": {
    "name": "ipython",
    "version": 3
   },
   "file_extension": ".py",
   "mimetype": "text/x-python",
   "name": "python",
   "nbconvert_exporter": "python",
   "pygments_lexer": "ipython3",
   "version": "3.11.7"
  },
  "widgets": {
   "application/vnd.jupyter.widget-state+json": {
    "state": {},
    "version_major": 2,
    "version_minor": 0
   }
  }
 },
 "nbformat": 4,
 "nbformat_minor": 5
}
