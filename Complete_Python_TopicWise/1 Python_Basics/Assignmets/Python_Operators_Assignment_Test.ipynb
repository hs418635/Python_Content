{
 "cells": [
  {
   "cell_type": "markdown",
   "id": "6ffa91f1",
   "metadata": {},
   "source": [
    "# 1. Mathematical Operators"
   ]
  },
  {
   "cell_type": "markdown",
   "id": "a3fbcc9f",
   "metadata": {},
   "source": [
    "**Question 1**: Write a Python program that takes two numbers from the user and calculates their sum, difference, product, and quotient."
   ]
  },
  {
   "cell_type": "code",
   "execution_count": 2,
   "id": "9c90038c",
   "metadata": {},
   "outputs": [],
   "source": [
    "# Take two numbers from the user\n",
    "\n",
    "\n",
    "# Calculate sum, difference, product, and quotient\n",
    "\n",
    "\n",
    "# Display/Print the results\n"
   ]
  },
  {
   "cell_type": "markdown",
   "id": "28fef15c",
   "metadata": {},
   "source": [
    "**Question 2**: Write a Python program to compute the result of 3 raised to the power of 5 and the remainder when 25 is divided by 4."
   ]
  },
  {
   "cell_type": "code",
   "execution_count": 3,
   "id": "f66576ba",
   "metadata": {},
   "outputs": [],
   "source": [
    "# Calculate 3 raised to the power of 5\n",
    "\n",
    "\n",
    "# Calculate the remainder when 25 is divided by 4\n",
    "\n",
    "\n",
    "# Display the results\n"
   ]
  },
  {
   "cell_type": "markdown",
   "id": "10764047",
   "metadata": {},
   "source": [
    "# 2. Relational Operators"
   ]
  },
  {
   "cell_type": "markdown",
   "id": "19827110",
   "metadata": {},
   "source": [
    "**Question 1**: Write a Python program that compares two numbers"
   ]
  },
  {
   "cell_type": "code",
   "execution_count": 4,
   "id": "87f3efcb",
   "metadata": {},
   "outputs": [],
   "source": [
    "# Take two numbers from the user\n",
    "\n",
    "\n",
    "# Compare the numbers\n"
   ]
  },
  {
   "cell_type": "markdown",
   "id": "3191ba7a",
   "metadata": {},
   "source": [
    "# 3. Assignment Operators"
   ]
  },
  {
   "cell_type": "markdown",
   "id": "15f712eb",
   "metadata": {},
   "source": [
    "**Question 1**: Write a Python program to demonstrate the use of assignment operators with variables `a` and `b`."
   ]
  },
  {
   "cell_type": "code",
   "execution_count": 5,
   "id": "20b114c2",
   "metadata": {},
   "outputs": [],
   "source": [
    "# Initial values\n",
    "a = 10\n",
    "b = 5\n",
    "\n",
    "#eg.\n",
    "# Using assignment operators\n",
    "# a += b  # a = a + b\n",
    "# print(\"After a += b, a =\", a)\n",
    "\n"
   ]
  },
  {
   "cell_type": "markdown",
   "id": "1075557d",
   "metadata": {},
   "source": [
    "# 4. Compound Operators"
   ]
  },
  {
   "cell_type": "markdown",
   "id": "4ce0dc37",
   "metadata": {},
   "source": [
    "**Question 1**: Write a Python program to use compound assignment operators with an initial value and perform multiple operations."
   ]
  },
  {
   "cell_type": "code",
   "execution_count": 10,
   "id": "d98051ff",
   "metadata": {},
   "outputs": [],
   "source": [
    "# Initial value\n",
    "x = 20\n",
    "\n",
    "# Performe multiple operations using compound assignment operators\n",
    "# eg.\n",
    "# x += 10\n",
    "# print(\"After x += 10, x =\", x)\n",
    "\n"
   ]
  },
  {
   "cell_type": "markdown",
   "id": "7e744b48",
   "metadata": {},
   "source": [
    "# 5. Identity Operators"
   ]
  },
  {
   "cell_type": "markdown",
   "id": "ebeb8709",
   "metadata": {},
   "source": [
    "**Question 1**: Write a Python program to check if two variables point to the same object using identity operators."
   ]
  },
  {
   "cell_type": "code",
   "execution_count": 7,
   "id": "cb13a9ad",
   "metadata": {},
   "outputs": [],
   "source": [
    "# Creating two variables\n",
    "a = [1, 2, 3]\n",
    "b = a\n",
    "c = [1, 2, 3]\n",
    "\n",
    "# Check if they point to the same object\n"
   ]
  },
  {
   "cell_type": "markdown",
   "id": "c61c876a",
   "metadata": {},
   "source": [
    "# 6. Membership Operators"
   ]
  },
  {
   "cell_type": "markdown",
   "id": "d704f4d0",
   "metadata": {},
   "source": [
    "**Question 1**: Write a Python program to check if a value is present in a list or a string using membership operators."
   ]
  },
  {
   "cell_type": "code",
   "execution_count": 9,
   "id": "9c24e891",
   "metadata": {},
   "outputs": [],
   "source": [
    "# Checke in a list\n",
    "my_list = [1, 2, 3, 4, 5]\n",
    "# check 3 , 6 are membership or not ... also deplay the result\n",
    "\n",
    "# Check in a string\n",
    "my_string = \"hello world\"\n",
    "# similary check h , z in this string"
   ]
  },
  {
   "cell_type": "code",
   "execution_count": null,
   "id": "4a0040f5-4176-436b-933d-211c5a4f1cb1",
   "metadata": {},
   "outputs": [],
   "source": []
  }
 ],
 "metadata": {
  "kernelspec": {
   "display_name": "Python 3 (ipykernel)",
   "language": "python",
   "name": "python3"
  },
  "language_info": {
   "codemirror_mode": {
    "name": "ipython",
    "version": 3
   },
   "file_extension": ".py",
   "mimetype": "text/x-python",
   "name": "python",
   "nbconvert_exporter": "python",
   "pygments_lexer": "ipython3",
   "version": "3.11.7"
  },
  "widgets": {
   "application/vnd.jupyter.widget-state+json": {
    "state": {},
    "version_major": 2,
    "version_minor": 0
   }
  }
 },
 "nbformat": 4,
 "nbformat_minor": 5
}
