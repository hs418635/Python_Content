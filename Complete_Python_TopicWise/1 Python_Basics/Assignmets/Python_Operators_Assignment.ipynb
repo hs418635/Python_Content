{
 "cells": [
  {
   "cell_type": "markdown",
   "id": "6ffa91f1",
   "metadata": {},
   "source": [
    "# 1. Mathematical Operators"
   ]
  },
  {
   "cell_type": "markdown",
   "id": "a3fbcc9f",
   "metadata": {},
   "source": [
    "**Question 1**: Write a Python program that takes two numbers from the user and calculates their sum, difference, product, and quotient."
   ]
  },
  {
   "cell_type": "code",
   "execution_count": null,
   "id": "9c90038c",
   "metadata": {},
   "outputs": [],
   "source": [
    "# Taking two numbers from the user\n",
    "num1 = float(input(\"Enter first number: \"))\n",
    "num2 = float(input(\"Enter second number: \"))\n",
    "\n",
    "# Calculating sum, difference, product, and quotient\n",
    "sum_result = num1 + num2\n",
    "difference_result = num1 - num2\n",
    "product_result = num1 * num2\n",
    "quotient_result = num1 / num2\n",
    "\n",
    "# Displaying the results\n",
    "print(\"Sum:\", sum_result)\n",
    "print(\"Difference:\", difference_result)\n",
    "print(\"Product:\", product_result)\n",
    "print(\"Quotient:\", quotient_result)"
   ]
  },
  {
   "cell_type": "markdown",
   "id": "28fef15c",
   "metadata": {},
   "source": [
    "**Question 2**: Write a Python program to compute the result of 3 raised to the power of 5 and the remainder when 25 is divided by 4."
   ]
  },
  {
   "cell_type": "code",
   "execution_count": null,
   "id": "f66576ba",
   "metadata": {},
   "outputs": [],
   "source": [
    "# Calculating 3 raised to the power of 5\n",
    "power_result = 3 ** 5\n",
    "\n",
    "# Calculating the remainder when 25 is divided by 4\n",
    "remainder_result = 25 % 4\n",
    "\n",
    "# Displaying the results\n",
    "print(\"3 raised to the power of 5:\", power_result)\n",
    "print(\"Remainder when 25 is divided by 4:\", remainder_result)"
   ]
  },
  {
   "cell_type": "markdown",
   "id": "10764047",
   "metadata": {},
   "source": [
    "# 2. Relational Operators"
   ]
  },
  {
   "cell_type": "markdown",
   "id": "19827110",
   "metadata": {},
   "source": [
    "**Question 1**: Write a Python program that compares two numbers and prints which one is larger or if they are equal."
   ]
  },
  {
   "cell_type": "code",
   "execution_count": null,
   "id": "87f3efcb",
   "metadata": {},
   "outputs": [],
   "source": [
    "# Taking two numbers from the user\n",
    "num1 = float(input(\"Enter first number: \"))\n",
    "num2 = float(input(\"Enter second number: \"))\n",
    "\n",
    "# Comparing the numbers\n",
    "if num1 > num2:\n",
    "    print(f\"{num1} is greater than {num2}\")\n",
    "elif num1 < num2:\n",
    "    print(f\"{num2} is greater than {num1}\")\n",
    "else:\n",
    "    print(f\"{num1} is equal to {num2}\")"
   ]
  },
  {
   "cell_type": "markdown",
   "id": "bde6b384",
   "metadata": {},
   "source": [
    "**Question 2**: Write a Python program to check if a number entered by the user is positive, negative, or zero."
   ]
  },
  {
   "cell_type": "code",
   "execution_count": null,
   "id": "6b7afb47",
   "metadata": {},
   "outputs": [],
   "source": [
    "# Taking a number from the user\n",
    "num = float(input(\"Enter a number: \"))\n",
    "\n",
    "# Checking if the number is positive, negative, or zero\n",
    "if num > 0:\n",
    "    print(\"The number is positive.\")\n",
    "elif num < 0:\n",
    "    print(\"The number is negative.\")\n",
    "else:\n",
    "    print(\"The number is zero.\")"
   ]
  },
  {
   "cell_type": "markdown",
   "id": "3191ba7a",
   "metadata": {},
   "source": [
    "# 3. Assignment Operators"
   ]
  },
  {
   "cell_type": "markdown",
   "id": "15f712eb",
   "metadata": {},
   "source": [
    "**Question 1**: Write a Python program to demonstrate the use of assignment operators with variables `a` and `b`."
   ]
  },
  {
   "cell_type": "code",
   "execution_count": null,
   "id": "20b114c2",
   "metadata": {},
   "outputs": [],
   "source": [
    "# Initial values\n",
    "a = 10\n",
    "b = 5\n",
    "\n",
    "# Using assignment operators\n",
    "a += b  # a = a + b\n",
    "print(\"After a += b, a =\", a)\n",
    "\n",
    "a -= b  # a = a - b\n",
    "print(\"After a -= b, a =\", a)\n",
    "\n",
    "a *= b  # a = a * b\n",
    "print(\"After a *= b, a =\", a)\n",
    "\n",
    "a /= b  # a = a / b\n",
    "print(\"After a /= b, a =\", a)\n",
    "\n",
    "a %= b  # a = a % b\n",
    "print(\"After a %= b, a =\", a)\n",
    "\n",
    "a **= b  # a = a ** b\n",
    "print(\"After a **= b, a =\", a)\n",
    "\n",
    "a //= b  # a = a // b\n",
    "print(\"After a //= b, a =\", a)"
   ]
  },
  {
   "cell_type": "markdown",
   "id": "1075557d",
   "metadata": {},
   "source": [
    "# 4. Compound Operators"
   ]
  },
  {
   "cell_type": "markdown",
   "id": "4ce0dc37",
   "metadata": {},
   "source": [
    "**Question 1**: Write a Python program to use compound assignment operators with an initial value and perform multiple operations."
   ]
  },
  {
   "cell_type": "code",
   "execution_count": null,
   "id": "d98051ff",
   "metadata": {},
   "outputs": [],
   "source": [
    "# Initial value\n",
    "x = 20\n",
    "\n",
    "# Performing multiple operations using compound assignment operators\n",
    "x += 10\n",
    "print(\"After x += 10, x =\", x)\n",
    "\n",
    "x -= 5\n",
    "print(\"After x -= 5, x =\", x)\n",
    "\n",
    "x *= 2\n",
    "print(\"After x *= 2, x =\", x)\n",
    "\n",
    "x /= 4\n",
    "print(\"After x /= 4, x =\", x)\n",
    "\n",
    "x %= 3\n",
    "print(\"After x %= 3, x =\", x)"
   ]
  },
  {
   "cell_type": "markdown",
   "id": "7e744b48",
   "metadata": {},
   "source": [
    "# 5. Identity Operators"
   ]
  },
  {
   "cell_type": "markdown",
   "id": "ebeb8709",
   "metadata": {},
   "source": [
    "**Question 1**: Write a Python program to check if two variables point to the same object using identity operators."
   ]
  },
  {
   "cell_type": "code",
   "execution_count": null,
   "id": "cb13a9ad",
   "metadata": {},
   "outputs": [],
   "source": [
    "# Creating two variables\n",
    "a = [1, 2, 3]\n",
    "b = a\n",
    "c = [1, 2, 3]\n",
    "\n",
    "# Checking if they point to the same object\n",
    "print(\"a is b:\", a is b)  # True, because b references the same list as a\n",
    "print(\"a is c:\", a is c)  # False, because c is a different list with the same contents"
   ]
  },
  {
   "cell_type": "markdown",
   "id": "c61c876a",
   "metadata": {},
   "source": [
    "# 6. Membership Operators"
   ]
  },
  {
   "cell_type": "markdown",
   "id": "d704f4d0",
   "metadata": {},
   "source": [
    "**Question 1**: Write a Python program to check if a value is present in a list or a string using membership operators."
   ]
  },
  {
   "cell_type": "code",
   "execution_count": null,
   "id": "9c24e891",
   "metadata": {},
   "outputs": [],
   "source": [
    "# Checking in a list\n",
    "my_list = [1, 2, 3, 4, 5]\n",
    "print(\"3 in my_list:\", 3 in my_list)      # True\n",
    "print(\"6 in my_list:\", 6 in my_list)      # False\n",
    "\n",
    "# Checking in a string\n",
    "my_string = \"hello world\"\n",
    "print(\"'h' in my_string:\", 'h' in my_string)  # True\n",
    "print(\"'z' in my_string:\", 'z' in my_string)  # False"
   ]
  }
 ],
 "metadata": {},
 "nbformat": 4,
 "nbformat_minor": 5
}
