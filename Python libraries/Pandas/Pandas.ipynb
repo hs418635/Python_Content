{
 "cells": [
  {
   "cell_type": "markdown",
   "id": "96c4de6e-c803-4176-b312-6948f29ad88b",
   "metadata": {},
   "source": [
    "### Pandas Basics\r\n",
    "\r\n",
    "Pandas is an open source data analysis library written in python\r\n",
    "\r\n",
    "It uses the power and speed of numpy to make data manipulation and analysis easy for data scientists\r\n",
    "\r\n",
    "It's key data structure is called DataFrame\r\n",
    "\r\n",
    "we can a\n",
    "nalyse :\r\n",
    "1)---> 1d , and it is similary like numpy 1d arrays series  \r\n",
    "2) ---> 2d , tabular format ---> rows and column  dataframe"
   ]
  },
  {
   "cell_type": "code",
   "execution_count": 13,
   "id": "b5dc3dfc-a951-4013-94c7-09653fbde7f5",
   "metadata": {},
   "outputs": [],
   "source": [
    "# pip install pandas\n",
    "import pandas as pd"
   ]
  },
  {
   "cell_type": "code",
   "execution_count": 14,
   "id": "d9cac1fc-a71c-4604-a552-42d011658e31",
   "metadata": {},
   "outputs": [
    {
     "name": "stdout",
     "output_type": "stream",
     "text": [
      "2.1.4\n"
     ]
    }
   ],
   "source": [
    "# checking version of pandas\n",
    "print(pd.__version__)"
   ]
  },
  {
   "cell_type": "markdown",
   "id": "25e958a5-9047-4589-ae99-b253b10c787c",
   "metadata": {
    "jp-MarkdownHeadingCollapsed": true
   },
   "source": [
    "### Pandas Data Structures\n",
    "1) **series ----> 1D array**\n",
    "   1) Definition : A pandas series is a 1D array like object that can hold different data types     elements. It is similar to a column in DataFrame.\n",
    "   2) Homogeneity: All elements in a Series must be of the same data type.\n",
    "3) **Data Frame ----> 2D array**\n",
    "   1) Definition: A DataFrame is a two-dimensional, size-mutable, and potentially heterogeneous tabular data structure with labeled axes (rows and columns).\n",
    "   2) Rows and Columns: Consists of rows and columns, each column being a Series. Columns can be of different data types."
   ]
  },
  {
   "cell_type": "code",
   "execution_count": 15,
   "id": "12d1f573-4a4a-4cf7-b0a8-fdfa73309a1c",
   "metadata": {},
   "outputs": [
    {
     "name": "stdout",
     "output_type": "stream",
     "text": [
      "[1.  2.  3.  4.  5.  6.6]\n"
     ]
    }
   ],
   "source": [
    "import numpy as np\n",
    "arr = np.array([1,2,3,4,5,6.6])\n",
    "arr.dtype\n",
    "print(arr)"
   ]
  },
  {
   "cell_type": "markdown",
   "id": "b089ea1f-3cd7-428a-a032-c98df475355a",
   "metadata": {},
   "source": [
    "#### series creation ---> list , tuple , dictionary , numpy arrays"
   ]
  },
  {
   "cell_type": "code",
   "execution_count": 16,
   "id": "2a698b4a-ef86-40e0-b233-81d2154f7402",
   "metadata": {},
   "outputs": [
    {
     "name": "stdout",
     "output_type": "stream",
     "text": [
      "0    2\n",
      "1    3\n",
      "2    4\n",
      "3    5\n",
      "4    6\n",
      "dtype: int64\n"
     ]
    }
   ],
   "source": [
    "# using list\n",
    "print(pd.Series([2,3,4,5,6]))"
   ]
  },
  {
   "cell_type": "code",
   "execution_count": 17,
   "id": "605b773e-8652-466d-b490-59d8399dbcd5",
   "metadata": {},
   "outputs": [
    {
     "name": "stdout",
     "output_type": "stream",
     "text": [
      "0    indore\n",
      "1    bhopal\n",
      "dtype: object\n"
     ]
    }
   ],
   "source": [
    "print(pd.Series([\"indore\",\"bhopal\"]))"
   ]
  },
  {
   "cell_type": "code",
   "execution_count": 18,
   "id": "7fc74889-1d7e-4a40-a33f-945587c284be",
   "metadata": {},
   "outputs": [
    {
     "name": "stdout",
     "output_type": "stream",
     "text": [
      "0    2\n",
      "1    3\n",
      "2    4\n",
      "3    5\n",
      "4    6\n",
      "dtype: int64\n"
     ]
    }
   ],
   "source": [
    "# tuple\n",
    "print(pd.Series((2,3,4,5,6)))"
   ]
  },
  {
   "cell_type": "code",
   "execution_count": 19,
   "id": "51eb4bed-47fd-4e8e-9c1f-211eb85610b0",
   "metadata": {
    "scrolled": true
   },
   "outputs": [
    {
     "name": "stdout",
     "output_type": "stream",
     "text": [
      "city     delhi\n",
      "price      500\n",
      "dtype: object\n"
     ]
    }
   ],
   "source": [
    "# dictionary\n",
    "print(pd.Series({\"city\":\"delhi\",'price':500}))"
   ]
  },
  {
   "cell_type": "code",
   "execution_count": 20,
   "id": "c63fca50-8dec-4d9e-9d05-32b29d6089f6",
   "metadata": {},
   "outputs": [
    {
     "name": "stdout",
     "output_type": "stream",
     "text": [
      "0    30\n",
      "1    40\n",
      "2    50\n",
      "3    60\n",
      "4    70\n",
      "dtype: int32\n"
     ]
    }
   ],
   "source": [
    "import numpy as np\n",
    "arr = np.array([30,40,50,60,70])\n",
    "print(pd.Series(arr))"
   ]
  },
  {
   "cell_type": "code",
   "execution_count": 21,
   "id": "bca0a32a-0d02-4c6f-b3de-d12c8b503bd8",
   "metadata": {},
   "outputs": [
    {
     "data": {
      "text/plain": [
       "2    2\n",
       "5    3\n",
       "3    4\n",
       "4    5\n",
       "1    6\n",
       "dtype: int64"
      ]
     },
     "execution_count": 21,
     "metadata": {},
     "output_type": "execute_result"
    }
   ],
   "source": [
    "# changing index label\n",
    "data = pd.Series([2,3,4,5,6],index=[2,5,3,4,1])\n",
    "data"
   ]
  },
  {
   "cell_type": "code",
   "execution_count": 22,
   "id": "f81eb49c-1553-4c7e-8499-3ebf06d172d8",
   "metadata": {},
   "outputs": [
    {
     "data": {
      "text/plain": [
       "5    3\n",
       "4    5\n",
       "3    4\n",
       "2    2\n",
       "1    6\n",
       "dtype: int64"
      ]
     },
     "execution_count": 22,
     "metadata": {},
     "output_type": "execute_result"
    }
   ],
   "source": [
    "data = pd.Series([2,3,4,5,6],index=[2,5,3,4,1])\n",
    "data.sort_index(ascending=False)"
   ]
  },
  {
   "cell_type": "code",
   "execution_count": 23,
   "id": "0ea05268-ebd4-459b-a10f-17725d18d36a",
   "metadata": {},
   "outputs": [
    {
     "data": {
      "text/plain": [
       "1    6\n",
       "4    5\n",
       "3    4\n",
       "5    3\n",
       "2    2\n",
       "dtype: int64"
      ]
     },
     "execution_count": 23,
     "metadata": {},
     "output_type": "execute_result"
    }
   ],
   "source": [
    "data.sort_values(ascending=False)"
   ]
  },
  {
   "cell_type": "code",
   "execution_count": 24,
   "id": "3676e578-3a4b-4744-96cd-c9878fec3f88",
   "metadata": {},
   "outputs": [
    {
     "data": {
      "text/plain": [
       "a    2\n",
       "c    3\n",
       "d    4\n",
       "b    5\n",
       "e    6\n",
       "dtype: int64"
      ]
     },
     "execution_count": 24,
     "metadata": {},
     "output_type": "execute_result"
    }
   ],
   "source": [
    "data = pd.Series([2,3,4,5,6],index=['a','c','d','b','e'])\n",
    "data"
   ]
  },
  {
   "cell_type": "code",
   "execution_count": 25,
   "id": "3db0c35c-e65b-423f-a1b8-0b42751f4acd",
   "metadata": {},
   "outputs": [
    {
     "data": {
      "text/plain": [
       "a    2\n",
       "b    5\n",
       "c    3\n",
       "d    4\n",
       "e    6\n",
       "dtype: int64"
      ]
     },
     "execution_count": 25,
     "metadata": {},
     "output_type": "execute_result"
    }
   ],
   "source": [
    "data.sort_index(ascending=True)"
   ]
  },
  {
   "cell_type": "code",
   "execution_count": 26,
   "id": "9d2dfd5d-0a3e-4437-a800-6d9cffd11e63",
   "metadata": {},
   "outputs": [
    {
     "data": {
      "text/plain": [
       "Index(['a', 'c', 'd', 'b', 'e'], dtype='object')"
      ]
     },
     "execution_count": 26,
     "metadata": {},
     "output_type": "execute_result"
    }
   ],
   "source": [
    "data.index"
   ]
  },
  {
   "cell_type": "code",
   "execution_count": 27,
   "id": "7cc35396-962e-46c8-b9d1-ce0beccded10",
   "metadata": {},
   "outputs": [
    {
     "data": {
      "text/plain": [
       "array([2, 3, 4, 5, 6], dtype=int64)"
      ]
     },
     "execution_count": 27,
     "metadata": {},
     "output_type": "execute_result"
    }
   ],
   "source": [
    "data.values"
   ]
  },
  {
   "cell_type": "code",
   "execution_count": 28,
   "id": "17807e72-0a6c-4989-8d96-b977d3b9973c",
   "metadata": {},
   "outputs": [
    {
     "data": {
      "text/plain": [
       "<bound method IndexOpsMixin.value_counts of a    2\n",
       "c    3\n",
       "d    4\n",
       "b    5\n",
       "e    6\n",
       "dtype: int64>"
      ]
     },
     "execution_count": 28,
     "metadata": {},
     "output_type": "execute_result"
    }
   ],
   "source": [
    "data.value_counts"
   ]
  },
  {
   "cell_type": "code",
   "execution_count": 29,
   "id": "3801d72d-d622-4398-bb25-1a44a3568af4",
   "metadata": {},
   "outputs": [
    {
     "name": "stdout",
     "output_type": "stream",
     "text": [
      "a 2\n",
      "c 3\n",
      "d 4\n",
      "b 5\n",
      "e 6\n"
     ]
    }
   ],
   "source": [
    "for labels in data.index:\n",
    "    print(labels,data[labels])"
   ]
  },
  {
   "cell_type": "code",
   "execution_count": 30,
   "id": "0e652ed7-c9d9-4112-8657-8c12565b0ccb",
   "metadata": {},
   "outputs": [
    {
     "data": {
      "text/plain": [
       "0    3\n",
       "1    4\n",
       "2    5\n",
       "3    6\n",
       "4    7\n",
       "0    5\n",
       "1    6\n",
       "2    7\n",
       "3    8\n",
       "4    9\n",
       "dtype: int64"
      ]
     },
     "execution_count": 30,
     "metadata": {},
     "output_type": "execute_result"
    }
   ],
   "source": [
    "# merging series\n",
    "d1 = pd.Series([3,4,5,6,7])\n",
    "d2 = pd.Series([5,6,7,8,9])\n",
    "d3 = pd.concat([d1,d2])\n",
    "d3"
   ]
  },
  {
   "cell_type": "code",
   "execution_count": 31,
   "id": "f8e1268f-e8bf-4049-b984-91e6f2a4747c",
   "metadata": {},
   "outputs": [
    {
     "data": {
      "text/plain": [
       "0    3\n",
       "1    4\n",
       "2    5\n",
       "3    6\n",
       "4    7\n",
       "5    5\n",
       "6    6\n",
       "7    7\n",
       "8    8\n",
       "9    9\n",
       "dtype: int64"
      ]
     },
     "execution_count": 31,
     "metadata": {},
     "output_type": "execute_result"
    }
   ],
   "source": [
    "d3.reset_index(drop=True)"
   ]
  },
  {
   "cell_type": "markdown",
   "id": "7af12e9f-7994-4414-8d9b-729f6e73e1ba",
   "metadata": {},
   "source": [
    "#### indexing and slicing in series"
   ]
  },
  {
   "cell_type": "code",
   "execution_count": 32,
   "id": "c463a633-bf94-47aa-948f-8b3888be3faf",
   "metadata": {},
   "outputs": [
    {
     "data": {
      "text/plain": [
       "a    2\n",
       "c    3\n",
       "d    4\n",
       "b    5\n",
       "e    6\n",
       "dtype: int64"
      ]
     },
     "execution_count": 32,
     "metadata": {},
     "output_type": "execute_result"
    }
   ],
   "source": [
    "data = pd.Series([2,3,4,5,6],index=['a','c','d','b','e'])\n",
    "data"
   ]
  },
  {
   "cell_type": "code",
   "execution_count": 33,
   "id": "69325479-25f7-46dc-b7bc-e8f35a236942",
   "metadata": {},
   "outputs": [
    {
     "name": "stdout",
     "output_type": "stream",
     "text": [
      "3\n",
      "4\n",
      "a    2\n",
      "b    5\n",
      "dtype: int64\n",
      "a    2\n",
      "c    3\n",
      "d    4\n",
      "b    5\n",
      "dtype: int64\n"
     ]
    },
    {
     "name": "stderr",
     "output_type": "stream",
     "text": [
      "C:\\Users\\HIMANSHU SURYAVANSHI\\AppData\\Local\\Temp\\ipykernel_17672\\3738166335.py:2: FutureWarning: Series.__getitem__ treating keys as positions is deprecated. In a future version, integer keys will always be treated as labels (consistent with DataFrame behavior). To access a value by position, use `ser.iloc[pos]`\n",
      "  print(data[1]) # indexing\n"
     ]
    }
   ],
   "source": [
    "# reguler scling approach\n",
    "print(data[1]) # indexing\n",
    "print(data['d']) # indexing\n",
    "print(data[['a','b']]) # indexing \n",
    "print(data['a':'b']) # scling"
   ]
  },
  {
   "cell_type": "code",
   "execution_count": 34,
   "id": "c13e8dcd-e3fd-477c-b4b6-e772bb161e23",
   "metadata": {},
   "outputs": [],
   "source": [
    "# label based indexing/slcing --> loc[]\n",
    "# positional indexing/slcing --> iloc[]"
   ]
  },
  {
   "cell_type": "code",
   "execution_count": 35,
   "id": "5d046f9a-f103-4b72-9dac-a3bef5fedd3b",
   "metadata": {},
   "outputs": [
    {
     "data": {
      "text/plain": [
       "a    2\n",
       "c    3\n",
       "d    4\n",
       "b    5\n",
       "e    6\n",
       "dtype: int64"
      ]
     },
     "execution_count": 35,
     "metadata": {},
     "output_type": "execute_result"
    }
   ],
   "source": [
    "data = pd.Series([2,3,4,5,6],index=['a','c','d','b','e'])\n",
    "data"
   ]
  },
  {
   "cell_type": "code",
   "execution_count": 36,
   "id": "e92b87e6-6778-41f5-a8ee-afeb3985ff9d",
   "metadata": {},
   "outputs": [
    {
     "name": "stdout",
     "output_type": "stream",
     "text": [
      "3\n",
      "4\n",
      "6\n"
     ]
    }
   ],
   "source": [
    "print(data['c'])\n",
    "print(data.loc['d'])\n",
    "print(data.iloc[4])"
   ]
  },
  {
   "cell_type": "code",
   "execution_count": 37,
   "id": "a301cb9a-1ef7-4652-96b0-e1eee4057292",
   "metadata": {},
   "outputs": [
    {
     "name": "stdout",
     "output_type": "stream",
     "text": [
      "a    2\n",
      "c    3\n",
      "d    4\n",
      "b    5\n",
      "dtype: int64\n"
     ]
    }
   ],
   "source": [
    "print(data.loc['a':'b'])"
   ]
  },
  {
   "cell_type": "code",
   "execution_count": 38,
   "id": "be136cb4-ecf6-4f11-a382-bb20937d0a40",
   "metadata": {},
   "outputs": [
    {
     "name": "stdout",
     "output_type": "stream",
     "text": [
      "c    3\n",
      "d    4\n",
      "b    5\n",
      "dtype: int64\n"
     ]
    }
   ],
   "source": [
    "print(data.iloc[1:4])"
   ]
  },
  {
   "cell_type": "markdown",
   "id": "dbe122ad-248e-4cd3-9c63-333883529cfc",
   "metadata": {
    "jp-MarkdownHeadingCollapsed": true
   },
   "source": [
    "### methods in Pandas Series"
   ]
  },
  {
   "cell_type": "code",
   "execution_count": 39,
   "id": "fa9c68b4-4911-420a-9829-73095d90b598",
   "metadata": {},
   "outputs": [
    {
     "data": {
      "text/plain": [
       "a    20\n",
       "b    30\n",
       "c    40\n",
       "d    50\n",
       "e    60\n",
       "dtype: int64"
      ]
     },
     "execution_count": 39,
     "metadata": {},
     "output_type": "execute_result"
    }
   ],
   "source": [
    "import pandas as pd\n",
    "df = pd.Series([20,30,40,50,60],index=['a','b','c','d','e'])\n",
    "df"
   ]
  },
  {
   "cell_type": "code",
   "execution_count": 40,
   "id": "223c5076-a042-48f3-8266-6521cd71573a",
   "metadata": {},
   "outputs": [
    {
     "name": "stdout",
     "output_type": "stream",
     "text": [
      "200\n",
      "40.0\n",
      "40.0\n",
      "60\n",
      "20\n"
     ]
    }
   ],
   "source": [
    "# methods\n",
    "print(df.sum())\n",
    "print(df.mean())\n",
    "print(df.median())\n",
    "print(df.max())\n",
    "print(df.min())"
   ]
  },
  {
   "cell_type": "code",
   "execution_count": 41,
   "id": "f6302e73-1f83-4e49-be43-9fd18354d575",
   "metadata": {},
   "outputs": [
    {
     "data": {
      "text/plain": [
       "a     40\n",
       "b     60\n",
       "c     80\n",
       "d    100\n",
       "e    120\n",
       "dtype: int64"
      ]
     },
     "execution_count": 41,
     "metadata": {},
     "output_type": "execute_result"
    }
   ],
   "source": [
    "# elementwise\n",
    "df = df.map(lambda x : x*2)\n",
    "df"
   ]
  },
  {
   "cell_type": "code",
   "execution_count": 42,
   "id": "663e1d89-2a32-4212-9576-ae19c4271799",
   "metadata": {},
   "outputs": [
    {
     "data": {
      "text/plain": [
       "a      NaN\n",
       "b      NaN\n",
       "c     80.0\n",
       "d    100.0\n",
       "e    120.0\n",
       "dtype: float64"
      ]
     },
     "execution_count": 42,
     "metadata": {},
     "output_type": "execute_result"
    }
   ],
   "source": [
    "# filter\n",
    "filtered = df.where(df>60)\n",
    "filtered"
   ]
  },
  {
   "cell_type": "code",
   "execution_count": 43,
   "id": "d3b2a91c-bb1d-471e-a2d2-23d60130f22b",
   "metadata": {},
   "outputs": [
    {
     "data": {
      "text/plain": [
       "c     80.0\n",
       "d    100.0\n",
       "e    120.0\n",
       "dtype: float64"
      ]
     },
     "execution_count": 43,
     "metadata": {},
     "output_type": "execute_result"
    }
   ],
   "source": [
    "filtered.dropna()"
   ]
  },
  {
   "cell_type": "code",
   "execution_count": 44,
   "id": "417a8d84-2cb9-44d4-968b-ea8a5a252de1",
   "metadata": {},
   "outputs": [
    {
     "data": {
      "text/plain": [
       "a      0.0\n",
       "b      0.0\n",
       "c     80.0\n",
       "d    100.0\n",
       "e    120.0\n",
       "dtype: float64"
      ]
     },
     "execution_count": 44,
     "metadata": {},
     "output_type": "execute_result"
    }
   ],
   "source": [
    "filtered.fillna(0)"
   ]
  },
  {
   "cell_type": "code",
   "execution_count": 45,
   "id": "dddbefeb-dd41-4888-b396-6a6655bbca93",
   "metadata": {},
   "outputs": [
    {
     "data": {
      "text/plain": [
       "count      5.000000\n",
       "mean      80.000000\n",
       "std       31.622777\n",
       "min       40.000000\n",
       "25%       60.000000\n",
       "50%       80.000000\n",
       "75%      100.000000\n",
       "max      120.000000\n",
       "dtype: float64"
      ]
     },
     "execution_count": 45,
     "metadata": {},
     "output_type": "execute_result"
    }
   ],
   "source": [
    "df.describe()"
   ]
  },
  {
   "cell_type": "markdown",
   "id": "68045a33-866d-4db4-bfb0-d20b45582138",
   "metadata": {},
   "source": [
    "### DataFrame"
   ]
  },
  {
   "cell_type": "code",
   "execution_count": 46,
   "id": "c3512801-4fed-47e8-a534-49d4a807f701",
   "metadata": {},
   "outputs": [
    {
     "data": {
      "text/html": [
       "<div>\n",
       "<style scoped>\n",
       "    .dataframe tbody tr th:only-of-type {\n",
       "        vertical-align: middle;\n",
       "    }\n",
       "\n",
       "    .dataframe tbody tr th {\n",
       "        vertical-align: top;\n",
       "    }\n",
       "\n",
       "    .dataframe thead th {\n",
       "        text-align: right;\n",
       "    }\n",
       "</style>\n",
       "<table border=\"1\" class=\"dataframe\">\n",
       "  <thead>\n",
       "    <tr style=\"text-align: right;\">\n",
       "      <th></th>\n",
       "      <th>Name</th>\n",
       "      <th>Age</th>\n",
       "      <th>City</th>\n",
       "    </tr>\n",
       "  </thead>\n",
       "  <tbody>\n",
       "    <tr>\n",
       "      <th>0</th>\n",
       "      <td>Salman</td>\n",
       "      <td>50</td>\n",
       "      <td>Indore</td>\n",
       "    </tr>\n",
       "    <tr>\n",
       "      <th>1</th>\n",
       "      <td>Arbaz</td>\n",
       "      <td>60</td>\n",
       "      <td>Bhopal</td>\n",
       "    </tr>\n",
       "    <tr>\n",
       "      <th>2</th>\n",
       "      <td>Sohail</td>\n",
       "      <td>40</td>\n",
       "      <td>Mumbai</td>\n",
       "    </tr>\n",
       "    <tr>\n",
       "      <th>3</th>\n",
       "      <td>Neil</td>\n",
       "      <td>20</td>\n",
       "      <td>chennai</td>\n",
       "    </tr>\n",
       "    <tr>\n",
       "      <th>4</th>\n",
       "      <td>Nitin</td>\n",
       "      <td>30</td>\n",
       "      <td>Delhi</td>\n",
       "    </tr>\n",
       "  </tbody>\n",
       "</table>\n",
       "</div>"
      ],
      "text/plain": [
       "     Name  Age     City\n",
       "0  Salman   50   Indore\n",
       "1   Arbaz   60   Bhopal\n",
       "2  Sohail   40   Mumbai\n",
       "3    Neil   20  chennai\n",
       "4   Nitin   30    Delhi"
      ]
     },
     "execution_count": 46,
     "metadata": {},
     "output_type": "execute_result"
    }
   ],
   "source": [
    "# creating dataframe\n",
    "import pandas as pd\n",
    "df = pd.DataFrame({\n",
    "    'Name':['Salman','Arbaz','Sohail','Neil','Nitin'],\n",
    "    'Age':[50,60,40,20,30],\n",
    "    'City':['Indore','Bhopal','Mumbai','chennai',\"Delhi\"]\n",
    "})\n",
    "df"
   ]
  },
  {
   "cell_type": "markdown",
   "id": "8c5cbbe3-6c81-4302-99c9-b1e6d2c2a876",
   "metadata": {},
   "source": [
    "### column operation"
   ]
  },
  {
   "cell_type": "code",
   "execution_count": 47,
   "id": "8d6cc12c-4d03-4331-8f37-8c13dbbbdadb",
   "metadata": {},
   "outputs": [
    {
     "data": {
      "text/html": [
       "<div>\n",
       "<style scoped>\n",
       "    .dataframe tbody tr th:only-of-type {\n",
       "        vertical-align: middle;\n",
       "    }\n",
       "\n",
       "    .dataframe tbody tr th {\n",
       "        vertical-align: top;\n",
       "    }\n",
       "\n",
       "    .dataframe thead th {\n",
       "        text-align: right;\n",
       "    }\n",
       "</style>\n",
       "<table border=\"1\" class=\"dataframe\">\n",
       "  <thead>\n",
       "    <tr style=\"text-align: right;\">\n",
       "      <th></th>\n",
       "      <th>Age</th>\n",
       "      <th>Weight</th>\n",
       "      <th>Height</th>\n",
       "    </tr>\n",
       "  </thead>\n",
       "  <tbody>\n",
       "    <tr>\n",
       "      <th>0</th>\n",
       "      <td>9</td>\n",
       "      <td>16</td>\n",
       "      <td>14</td>\n",
       "    </tr>\n",
       "    <tr>\n",
       "      <th>1</th>\n",
       "      <td>9</td>\n",
       "      <td>12</td>\n",
       "      <td>19</td>\n",
       "    </tr>\n",
       "    <tr>\n",
       "      <th>2</th>\n",
       "      <td>12</td>\n",
       "      <td>9</td>\n",
       "      <td>8</td>\n",
       "    </tr>\n",
       "    <tr>\n",
       "      <th>3</th>\n",
       "      <td>3</td>\n",
       "      <td>18</td>\n",
       "      <td>12</td>\n",
       "    </tr>\n",
       "  </tbody>\n",
       "</table>\n",
       "</div>"
      ],
      "text/plain": [
       "   Age  Weight  Height\n",
       "0    9      16      14\n",
       "1    9      12      19\n",
       "2   12       9       8\n",
       "3    3      18      12"
      ]
     },
     "execution_count": 47,
     "metadata": {},
     "output_type": "execute_result"
    }
   ],
   "source": [
    "import numpy as np\n",
    "np.random.seed(2)\n",
    "arr = np.random.randint(1,20,(4,3))\n",
    "df = pd.DataFrame(arr,columns=['Age',\"Weight\",'Height'])\n",
    "df"
   ]
  },
  {
   "cell_type": "code",
   "execution_count": 48,
   "id": "6f713a59-f9f1-41a7-9860-86341a7fb5c2",
   "metadata": {},
   "outputs": [
    {
     "data": {
      "text/plain": [
       "Index(['Age', 'Weight', 'Height'], dtype='object')"
      ]
     },
     "execution_count": 48,
     "metadata": {},
     "output_type": "execute_result"
    }
   ],
   "source": [
    "df.columns"
   ]
  },
  {
   "cell_type": "code",
   "execution_count": 49,
   "id": "193c6ea3-ef93-4c04-80ad-3edaeac45809",
   "metadata": {},
   "outputs": [
    {
     "data": {
      "text/plain": [
       "array([[ 9, 16, 14],\n",
       "       [ 9, 12, 19],\n",
       "       [12,  9,  8],\n",
       "       [ 3, 18, 12]])"
      ]
     },
     "execution_count": 49,
     "metadata": {},
     "output_type": "execute_result"
    }
   ],
   "source": [
    "df.values"
   ]
  },
  {
   "cell_type": "code",
   "execution_count": 50,
   "id": "22338867-2daa-438f-a339-8c26ae463fe6",
   "metadata": {},
   "outputs": [],
   "source": [
    "df.columns = ('age','weight','height') # changing all the columns at once"
   ]
  },
  {
   "cell_type": "code",
   "execution_count": 51,
   "id": "fd40b566-f433-4f95-ade2-00a512da41b0",
   "metadata": {},
   "outputs": [
    {
     "data": {
      "text/html": [
       "<div>\n",
       "<style scoped>\n",
       "    .dataframe tbody tr th:only-of-type {\n",
       "        vertical-align: middle;\n",
       "    }\n",
       "\n",
       "    .dataframe tbody tr th {\n",
       "        vertical-align: top;\n",
       "    }\n",
       "\n",
       "    .dataframe thead th {\n",
       "        text-align: right;\n",
       "    }\n",
       "</style>\n",
       "<table border=\"1\" class=\"dataframe\">\n",
       "  <thead>\n",
       "    <tr style=\"text-align: right;\">\n",
       "      <th></th>\n",
       "      <th>age</th>\n",
       "      <th>weight</th>\n",
       "      <th>height</th>\n",
       "    </tr>\n",
       "  </thead>\n",
       "  <tbody>\n",
       "    <tr>\n",
       "      <th>0</th>\n",
       "      <td>9</td>\n",
       "      <td>16</td>\n",
       "      <td>14</td>\n",
       "    </tr>\n",
       "    <tr>\n",
       "      <th>1</th>\n",
       "      <td>9</td>\n",
       "      <td>12</td>\n",
       "      <td>19</td>\n",
       "    </tr>\n",
       "    <tr>\n",
       "      <th>2</th>\n",
       "      <td>12</td>\n",
       "      <td>9</td>\n",
       "      <td>8</td>\n",
       "    </tr>\n",
       "    <tr>\n",
       "      <th>3</th>\n",
       "      <td>3</td>\n",
       "      <td>18</td>\n",
       "      <td>12</td>\n",
       "    </tr>\n",
       "  </tbody>\n",
       "</table>\n",
       "</div>"
      ],
      "text/plain": [
       "   age  weight  height\n",
       "0    9      16      14\n",
       "1    9      12      19\n",
       "2   12       9       8\n",
       "3    3      18      12"
      ]
     },
     "execution_count": 51,
     "metadata": {},
     "output_type": "execute_result"
    }
   ],
   "source": [
    "df"
   ]
  },
  {
   "cell_type": "code",
   "execution_count": 52,
   "id": "0d951058-a003-445c-9396-a7719f46b674",
   "metadata": {},
   "outputs": [
    {
     "data": {
      "text/html": [
       "<div>\n",
       "<style scoped>\n",
       "    .dataframe tbody tr th:only-of-type {\n",
       "        vertical-align: middle;\n",
       "    }\n",
       "\n",
       "    .dataframe tbody tr th {\n",
       "        vertical-align: top;\n",
       "    }\n",
       "\n",
       "    .dataframe thead th {\n",
       "        text-align: right;\n",
       "    }\n",
       "</style>\n",
       "<table border=\"1\" class=\"dataframe\">\n",
       "  <thead>\n",
       "    <tr style=\"text-align: right;\">\n",
       "      <th></th>\n",
       "      <th>Age</th>\n",
       "      <th>weight</th>\n",
       "      <th>height</th>\n",
       "    </tr>\n",
       "  </thead>\n",
       "  <tbody>\n",
       "    <tr>\n",
       "      <th>0</th>\n",
       "      <td>9</td>\n",
       "      <td>16</td>\n",
       "      <td>14</td>\n",
       "    </tr>\n",
       "    <tr>\n",
       "      <th>1</th>\n",
       "      <td>9</td>\n",
       "      <td>12</td>\n",
       "      <td>19</td>\n",
       "    </tr>\n",
       "    <tr>\n",
       "      <th>2</th>\n",
       "      <td>12</td>\n",
       "      <td>9</td>\n",
       "      <td>8</td>\n",
       "    </tr>\n",
       "    <tr>\n",
       "      <th>3</th>\n",
       "      <td>3</td>\n",
       "      <td>18</td>\n",
       "      <td>12</td>\n",
       "    </tr>\n",
       "  </tbody>\n",
       "</table>\n",
       "</div>"
      ],
      "text/plain": [
       "   Age  weight  height\n",
       "0    9      16      14\n",
       "1    9      12      19\n",
       "2   12       9       8\n",
       "3    3      18      12"
      ]
     },
     "execution_count": 52,
     "metadata": {},
     "output_type": "execute_result"
    }
   ],
   "source": [
    "df = df.rename(columns={'age':'Age'})\n",
    "df"
   ]
  },
  {
   "cell_type": "code",
   "execution_count": 53,
   "id": "52176687-8b79-497b-81b8-41208e18b6ec",
   "metadata": {},
   "outputs": [
    {
     "data": {
      "text/plain": [
       "(4, 3)"
      ]
     },
     "execution_count": 53,
     "metadata": {},
     "output_type": "execute_result"
    }
   ],
   "source": [
    "df.shape"
   ]
  },
  {
   "cell_type": "code",
   "execution_count": 54,
   "id": "20318109-1792-4cb8-a329-cd381fe205dd",
   "metadata": {},
   "outputs": [
    {
     "data": {
      "text/plain": [
       "2"
      ]
     },
     "execution_count": 54,
     "metadata": {},
     "output_type": "execute_result"
    }
   ],
   "source": [
    "df.ndim"
   ]
  },
  {
   "cell_type": "code",
   "execution_count": 55,
   "id": "bf04b306-1b3f-4286-a217-62e9c9b47053",
   "metadata": {},
   "outputs": [
    {
     "data": {
      "text/plain": [
       "Index(['Age', 'weight', 'height'], dtype='object')"
      ]
     },
     "execution_count": 55,
     "metadata": {},
     "output_type": "execute_result"
    }
   ],
   "source": [
    "df.columns"
   ]
  },
  {
   "cell_type": "code",
   "execution_count": 56,
   "id": "663653e8-26f5-4606-a0d4-fb2825a7eb34",
   "metadata": {},
   "outputs": [
    {
     "data": {
      "text/plain": [
       "array([[ 9, 16, 14],\n",
       "       [ 9, 12, 19],\n",
       "       [12,  9,  8],\n",
       "       [ 3, 18, 12]])"
      ]
     },
     "execution_count": 56,
     "metadata": {},
     "output_type": "execute_result"
    }
   ],
   "source": [
    "df.values"
   ]
  },
  {
   "cell_type": "code",
   "execution_count": 57,
   "id": "8ece721d-d5ef-41bf-ba03-2a28502ca7ab",
   "metadata": {},
   "outputs": [
    {
     "data": {
      "text/html": [
       "<div>\n",
       "<style scoped>\n",
       "    .dataframe tbody tr th:only-of-type {\n",
       "        vertical-align: middle;\n",
       "    }\n",
       "\n",
       "    .dataframe tbody tr th {\n",
       "        vertical-align: top;\n",
       "    }\n",
       "\n",
       "    .dataframe thead th {\n",
       "        text-align: right;\n",
       "    }\n",
       "</style>\n",
       "<table border=\"1\" class=\"dataframe\">\n",
       "  <thead>\n",
       "    <tr style=\"text-align: right;\">\n",
       "      <th></th>\n",
       "      <th>Age</th>\n",
       "      <th>weight</th>\n",
       "      <th>height</th>\n",
       "      <th>Department</th>\n",
       "    </tr>\n",
       "  </thead>\n",
       "  <tbody>\n",
       "    <tr>\n",
       "      <th>0</th>\n",
       "      <td>9</td>\n",
       "      <td>16</td>\n",
       "      <td>14</td>\n",
       "      <td>IT</td>\n",
       "    </tr>\n",
       "    <tr>\n",
       "      <th>1</th>\n",
       "      <td>9</td>\n",
       "      <td>12</td>\n",
       "      <td>19</td>\n",
       "      <td>Sales</td>\n",
       "    </tr>\n",
       "    <tr>\n",
       "      <th>2</th>\n",
       "      <td>12</td>\n",
       "      <td>9</td>\n",
       "      <td>8</td>\n",
       "      <td>HR</td>\n",
       "    </tr>\n",
       "    <tr>\n",
       "      <th>3</th>\n",
       "      <td>3</td>\n",
       "      <td>18</td>\n",
       "      <td>12</td>\n",
       "      <td>Healthcare</td>\n",
       "    </tr>\n",
       "  </tbody>\n",
       "</table>\n",
       "</div>"
      ],
      "text/plain": [
       "   Age  weight  height  Department\n",
       "0    9      16      14          IT\n",
       "1    9      12      19       Sales\n",
       "2   12       9       8          HR\n",
       "3    3      18      12  Healthcare"
      ]
     },
     "execution_count": 57,
     "metadata": {},
     "output_type": "execute_result"
    }
   ],
   "source": [
    "# adding single column\n",
    "df['Department'] = ['IT',\"Sales\",\"HR\",\"Healthcare\"]\n",
    "df"
   ]
  },
  {
   "cell_type": "code",
   "execution_count": 58,
   "id": "33c8c6c4-9585-4c84-b15d-d175685d0b8a",
   "metadata": {},
   "outputs": [
    {
     "data": {
      "text/html": [
       "<div>\n",
       "<style scoped>\n",
       "    .dataframe tbody tr th:only-of-type {\n",
       "        vertical-align: middle;\n",
       "    }\n",
       "\n",
       "    .dataframe tbody tr th {\n",
       "        vertical-align: top;\n",
       "    }\n",
       "\n",
       "    .dataframe thead th {\n",
       "        text-align: right;\n",
       "    }\n",
       "</style>\n",
       "<table border=\"1\" class=\"dataframe\">\n",
       "  <thead>\n",
       "    <tr style=\"text-align: right;\">\n",
       "      <th></th>\n",
       "      <th>Age</th>\n",
       "      <th>weight</th>\n",
       "      <th>height</th>\n",
       "      <th>Department</th>\n",
       "      <th>name</th>\n",
       "      <th>income</th>\n",
       "    </tr>\n",
       "  </thead>\n",
       "  <tbody>\n",
       "    <tr>\n",
       "      <th>0</th>\n",
       "      <td>9</td>\n",
       "      <td>16</td>\n",
       "      <td>14</td>\n",
       "      <td>IT</td>\n",
       "      <td>Salman</td>\n",
       "      <td>4000</td>\n",
       "    </tr>\n",
       "    <tr>\n",
       "      <th>1</th>\n",
       "      <td>9</td>\n",
       "      <td>12</td>\n",
       "      <td>19</td>\n",
       "      <td>Sales</td>\n",
       "      <td>Arbaz</td>\n",
       "      <td>5000</td>\n",
       "    </tr>\n",
       "    <tr>\n",
       "      <th>2</th>\n",
       "      <td>12</td>\n",
       "      <td>9</td>\n",
       "      <td>8</td>\n",
       "      <td>HR</td>\n",
       "      <td>Sohail</td>\n",
       "      <td>6000</td>\n",
       "    </tr>\n",
       "    <tr>\n",
       "      <th>3</th>\n",
       "      <td>3</td>\n",
       "      <td>18</td>\n",
       "      <td>12</td>\n",
       "      <td>Healthcare</td>\n",
       "      <td>Neil</td>\n",
       "      <td>70000</td>\n",
       "    </tr>\n",
       "  </tbody>\n",
       "</table>\n",
       "</div>"
      ],
      "text/plain": [
       "   Age  weight  height  Department    name  income\n",
       "0    9      16      14          IT  Salman    4000\n",
       "1    9      12      19       Sales   Arbaz    5000\n",
       "2   12       9       8          HR  Sohail    6000\n",
       "3    3      18      12  Healthcare    Neil   70000"
      ]
     },
     "execution_count": 58,
     "metadata": {},
     "output_type": "execute_result"
    }
   ],
   "source": [
    "# adding multiple columns\n",
    "df = df.assign(name=['Salman','Arbaz','Sohail','Neil'],\n",
    "         income=[4000,5000,6000,70000])\n",
    "df"
   ]
  },
  {
   "cell_type": "code",
   "execution_count": 59,
   "id": "90bc5cdd-9f1f-4354-bfa2-aba6218be90d",
   "metadata": {},
   "outputs": [
    {
     "data": {
      "text/plain": [
       "Index(['Age', 'weight', 'height', 'Department', 'name', 'income'], dtype='object')"
      ]
     },
     "execution_count": 59,
     "metadata": {},
     "output_type": "execute_result"
    }
   ],
   "source": [
    "df.columns"
   ]
  },
  {
   "cell_type": "code",
   "execution_count": 60,
   "id": "aade938b-37be-49f2-b71a-9b154b6eb7a0",
   "metadata": {},
   "outputs": [
    {
     "data": {
      "text/html": [
       "<div>\n",
       "<style scoped>\n",
       "    .dataframe tbody tr th:only-of-type {\n",
       "        vertical-align: middle;\n",
       "    }\n",
       "\n",
       "    .dataframe tbody tr th {\n",
       "        vertical-align: top;\n",
       "    }\n",
       "\n",
       "    .dataframe thead th {\n",
       "        text-align: right;\n",
       "    }\n",
       "</style>\n",
       "<table border=\"1\" class=\"dataframe\">\n",
       "  <thead>\n",
       "    <tr style=\"text-align: right;\">\n",
       "      <th></th>\n",
       "      <th>name</th>\n",
       "      <th>Age</th>\n",
       "      <th>weight</th>\n",
       "      <th>height</th>\n",
       "      <th>Department</th>\n",
       "      <th>income</th>\n",
       "    </tr>\n",
       "  </thead>\n",
       "  <tbody>\n",
       "    <tr>\n",
       "      <th>0</th>\n",
       "      <td>Salman</td>\n",
       "      <td>9</td>\n",
       "      <td>16</td>\n",
       "      <td>14</td>\n",
       "      <td>IT</td>\n",
       "      <td>4000</td>\n",
       "    </tr>\n",
       "    <tr>\n",
       "      <th>1</th>\n",
       "      <td>Arbaz</td>\n",
       "      <td>9</td>\n",
       "      <td>12</td>\n",
       "      <td>19</td>\n",
       "      <td>Sales</td>\n",
       "      <td>5000</td>\n",
       "    </tr>\n",
       "    <tr>\n",
       "      <th>2</th>\n",
       "      <td>Sohail</td>\n",
       "      <td>12</td>\n",
       "      <td>9</td>\n",
       "      <td>8</td>\n",
       "      <td>HR</td>\n",
       "      <td>6000</td>\n",
       "    </tr>\n",
       "    <tr>\n",
       "      <th>3</th>\n",
       "      <td>Neil</td>\n",
       "      <td>3</td>\n",
       "      <td>18</td>\n",
       "      <td>12</td>\n",
       "      <td>Healthcare</td>\n",
       "      <td>70000</td>\n",
       "    </tr>\n",
       "  </tbody>\n",
       "</table>\n",
       "</div>"
      ],
      "text/plain": [
       "     name  Age  weight  height  Department  income\n",
       "0  Salman    9      16      14          IT    4000\n",
       "1   Arbaz    9      12      19       Sales    5000\n",
       "2  Sohail   12       9       8          HR    6000\n",
       "3    Neil    3      18      12  Healthcare   70000"
      ]
     },
     "execution_count": 60,
     "metadata": {},
     "output_type": "execute_result"
    }
   ],
   "source": [
    "df = df.reindex(columns=['name','Age', 'weight', 'height', 'Department', 'income']) # column shuffling\n",
    "df"
   ]
  },
  {
   "cell_type": "code",
   "execution_count": 61,
   "id": "09497a2c-1e96-4bd3-9fe9-854de15001d0",
   "metadata": {},
   "outputs": [
    {
     "data": {
      "text/html": [
       "<div>\n",
       "<style scoped>\n",
       "    .dataframe tbody tr th:only-of-type {\n",
       "        vertical-align: middle;\n",
       "    }\n",
       "\n",
       "    .dataframe tbody tr th {\n",
       "        vertical-align: top;\n",
       "    }\n",
       "\n",
       "    .dataframe thead th {\n",
       "        text-align: right;\n",
       "    }\n",
       "</style>\n",
       "<table border=\"1\" class=\"dataframe\">\n",
       "  <thead>\n",
       "    <tr style=\"text-align: right;\">\n",
       "      <th></th>\n",
       "      <th>Age</th>\n",
       "      <th>weight</th>\n",
       "      <th>height</th>\n",
       "      <th>Department</th>\n",
       "      <th>income</th>\n",
       "    </tr>\n",
       "    <tr>\n",
       "      <th>name</th>\n",
       "      <th></th>\n",
       "      <th></th>\n",
       "      <th></th>\n",
       "      <th></th>\n",
       "      <th></th>\n",
       "    </tr>\n",
       "  </thead>\n",
       "  <tbody>\n",
       "    <tr>\n",
       "      <th>Salman</th>\n",
       "      <td>9</td>\n",
       "      <td>16</td>\n",
       "      <td>14</td>\n",
       "      <td>IT</td>\n",
       "      <td>4000</td>\n",
       "    </tr>\n",
       "    <tr>\n",
       "      <th>Arbaz</th>\n",
       "      <td>9</td>\n",
       "      <td>12</td>\n",
       "      <td>19</td>\n",
       "      <td>Sales</td>\n",
       "      <td>5000</td>\n",
       "    </tr>\n",
       "    <tr>\n",
       "      <th>Sohail</th>\n",
       "      <td>12</td>\n",
       "      <td>9</td>\n",
       "      <td>8</td>\n",
       "      <td>HR</td>\n",
       "      <td>6000</td>\n",
       "    </tr>\n",
       "    <tr>\n",
       "      <th>Neil</th>\n",
       "      <td>3</td>\n",
       "      <td>18</td>\n",
       "      <td>12</td>\n",
       "      <td>Healthcare</td>\n",
       "      <td>70000</td>\n",
       "    </tr>\n",
       "  </tbody>\n",
       "</table>\n",
       "</div>"
      ],
      "text/plain": [
       "        Age  weight  height  Department  income\n",
       "name                                           \n",
       "Salman    9      16      14          IT    4000\n",
       "Arbaz     9      12      19       Sales    5000\n",
       "Sohail   12       9       8          HR    6000\n",
       "Neil      3      18      12  Healthcare   70000"
      ]
     },
     "execution_count": 61,
     "metadata": {},
     "output_type": "execute_result"
    }
   ],
   "source": [
    "df = df.set_index('name')\n",
    "df"
   ]
  },
  {
   "cell_type": "code",
   "execution_count": 62,
   "id": "b13d4b64-1ffe-4416-a7bd-c272b787d76b",
   "metadata": {},
   "outputs": [
    {
     "data": {
      "text/html": [
       "<div>\n",
       "<style scoped>\n",
       "    .dataframe tbody tr th:only-of-type {\n",
       "        vertical-align: middle;\n",
       "    }\n",
       "\n",
       "    .dataframe tbody tr th {\n",
       "        vertical-align: top;\n",
       "    }\n",
       "\n",
       "    .dataframe thead th {\n",
       "        text-align: right;\n",
       "    }\n",
       "</style>\n",
       "<table border=\"1\" class=\"dataframe\">\n",
       "  <thead>\n",
       "    <tr style=\"text-align: right;\">\n",
       "      <th></th>\n",
       "      <th>name</th>\n",
       "      <th>Age</th>\n",
       "      <th>weight</th>\n",
       "      <th>height</th>\n",
       "      <th>Department</th>\n",
       "      <th>income</th>\n",
       "    </tr>\n",
       "  </thead>\n",
       "  <tbody>\n",
       "    <tr>\n",
       "      <th>0</th>\n",
       "      <td>Salman</td>\n",
       "      <td>9</td>\n",
       "      <td>16</td>\n",
       "      <td>14</td>\n",
       "      <td>IT</td>\n",
       "      <td>4000</td>\n",
       "    </tr>\n",
       "    <tr>\n",
       "      <th>1</th>\n",
       "      <td>Arbaz</td>\n",
       "      <td>9</td>\n",
       "      <td>12</td>\n",
       "      <td>19</td>\n",
       "      <td>Sales</td>\n",
       "      <td>5000</td>\n",
       "    </tr>\n",
       "    <tr>\n",
       "      <th>2</th>\n",
       "      <td>Sohail</td>\n",
       "      <td>12</td>\n",
       "      <td>9</td>\n",
       "      <td>8</td>\n",
       "      <td>HR</td>\n",
       "      <td>6000</td>\n",
       "    </tr>\n",
       "    <tr>\n",
       "      <th>3</th>\n",
       "      <td>Neil</td>\n",
       "      <td>3</td>\n",
       "      <td>18</td>\n",
       "      <td>12</td>\n",
       "      <td>Healthcare</td>\n",
       "      <td>70000</td>\n",
       "    </tr>\n",
       "  </tbody>\n",
       "</table>\n",
       "</div>"
      ],
      "text/plain": [
       "     name  Age  weight  height  Department  income\n",
       "0  Salman    9      16      14          IT    4000\n",
       "1   Arbaz    9      12      19       Sales    5000\n",
       "2  Sohail   12       9       8          HR    6000\n",
       "3    Neil    3      18      12  Healthcare   70000"
      ]
     },
     "execution_count": 62,
     "metadata": {},
     "output_type": "execute_result"
    }
   ],
   "source": [
    "df = df.reset_index()\n",
    "df"
   ]
  },
  {
   "cell_type": "code",
   "execution_count": 63,
   "id": "5f848497-d7a3-4056-a082-3f09d502b1c4",
   "metadata": {},
   "outputs": [
    {
     "data": {
      "text/html": [
       "<div>\n",
       "<style scoped>\n",
       "    .dataframe tbody tr th:only-of-type {\n",
       "        vertical-align: middle;\n",
       "    }\n",
       "\n",
       "    .dataframe tbody tr th {\n",
       "        vertical-align: top;\n",
       "    }\n",
       "\n",
       "    .dataframe thead th {\n",
       "        text-align: right;\n",
       "    }\n",
       "</style>\n",
       "<table border=\"1\" class=\"dataframe\">\n",
       "  <thead>\n",
       "    <tr style=\"text-align: right;\">\n",
       "      <th></th>\n",
       "      <th>name</th>\n",
       "      <th>Age</th>\n",
       "      <th>height</th>\n",
       "      <th>Department</th>\n",
       "      <th>income</th>\n",
       "    </tr>\n",
       "  </thead>\n",
       "  <tbody>\n",
       "    <tr>\n",
       "      <th>0</th>\n",
       "      <td>Salman</td>\n",
       "      <td>9</td>\n",
       "      <td>14</td>\n",
       "      <td>IT</td>\n",
       "      <td>4000</td>\n",
       "    </tr>\n",
       "    <tr>\n",
       "      <th>1</th>\n",
       "      <td>Arbaz</td>\n",
       "      <td>9</td>\n",
       "      <td>19</td>\n",
       "      <td>Sales</td>\n",
       "      <td>5000</td>\n",
       "    </tr>\n",
       "    <tr>\n",
       "      <th>2</th>\n",
       "      <td>Sohail</td>\n",
       "      <td>12</td>\n",
       "      <td>8</td>\n",
       "      <td>HR</td>\n",
       "      <td>6000</td>\n",
       "    </tr>\n",
       "    <tr>\n",
       "      <th>3</th>\n",
       "      <td>Neil</td>\n",
       "      <td>3</td>\n",
       "      <td>12</td>\n",
       "      <td>Healthcare</td>\n",
       "      <td>70000</td>\n",
       "    </tr>\n",
       "  </tbody>\n",
       "</table>\n",
       "</div>"
      ],
      "text/plain": [
       "     name  Age  height  Department  income\n",
       "0  Salman    9      14          IT    4000\n",
       "1   Arbaz    9      19       Sales    5000\n",
       "2  Sohail   12       8          HR    6000\n",
       "3    Neil    3      12  Healthcare   70000"
      ]
     },
     "execution_count": 63,
     "metadata": {},
     "output_type": "execute_result"
    }
   ],
   "source": [
    "# droping columns\n",
    "df.drop(columns=['weight'])"
   ]
  },
  {
   "cell_type": "code",
   "execution_count": 64,
   "id": "d1ad6c6d-2359-4f02-bd53-ef699a87684a",
   "metadata": {},
   "outputs": [
    {
     "data": {
      "text/html": [
       "<div>\n",
       "<style scoped>\n",
       "    .dataframe tbody tr th:only-of-type {\n",
       "        vertical-align: middle;\n",
       "    }\n",
       "\n",
       "    .dataframe tbody tr th {\n",
       "        vertical-align: top;\n",
       "    }\n",
       "\n",
       "    .dataframe thead th {\n",
       "        text-align: right;\n",
       "    }\n",
       "</style>\n",
       "<table border=\"1\" class=\"dataframe\">\n",
       "  <thead>\n",
       "    <tr style=\"text-align: right;\">\n",
       "      <th></th>\n",
       "      <th>Age</th>\n",
       "      <th>weight</th>\n",
       "      <th>height</th>\n",
       "      <th>income</th>\n",
       "    </tr>\n",
       "  </thead>\n",
       "  <tbody>\n",
       "    <tr>\n",
       "      <th>count</th>\n",
       "      <td>4.000000</td>\n",
       "      <td>4.000000</td>\n",
       "      <td>4.000000</td>\n",
       "      <td>4.000000</td>\n",
       "    </tr>\n",
       "    <tr>\n",
       "      <th>mean</th>\n",
       "      <td>8.250000</td>\n",
       "      <td>13.750000</td>\n",
       "      <td>13.250000</td>\n",
       "      <td>21250.000000</td>\n",
       "    </tr>\n",
       "    <tr>\n",
       "      <th>std</th>\n",
       "      <td>3.774917</td>\n",
       "      <td>4.031129</td>\n",
       "      <td>4.573474</td>\n",
       "      <td>32510.254792</td>\n",
       "    </tr>\n",
       "    <tr>\n",
       "      <th>min</th>\n",
       "      <td>3.000000</td>\n",
       "      <td>9.000000</td>\n",
       "      <td>8.000000</td>\n",
       "      <td>4000.000000</td>\n",
       "    </tr>\n",
       "    <tr>\n",
       "      <th>25%</th>\n",
       "      <td>7.500000</td>\n",
       "      <td>11.250000</td>\n",
       "      <td>11.000000</td>\n",
       "      <td>4750.000000</td>\n",
       "    </tr>\n",
       "    <tr>\n",
       "      <th>50%</th>\n",
       "      <td>9.000000</td>\n",
       "      <td>14.000000</td>\n",
       "      <td>13.000000</td>\n",
       "      <td>5500.000000</td>\n",
       "    </tr>\n",
       "    <tr>\n",
       "      <th>75%</th>\n",
       "      <td>9.750000</td>\n",
       "      <td>16.500000</td>\n",
       "      <td>15.250000</td>\n",
       "      <td>22000.000000</td>\n",
       "    </tr>\n",
       "    <tr>\n",
       "      <th>max</th>\n",
       "      <td>12.000000</td>\n",
       "      <td>18.000000</td>\n",
       "      <td>19.000000</td>\n",
       "      <td>70000.000000</td>\n",
       "    </tr>\n",
       "  </tbody>\n",
       "</table>\n",
       "</div>"
      ],
      "text/plain": [
       "             Age     weight     height        income\n",
       "count   4.000000   4.000000   4.000000      4.000000\n",
       "mean    8.250000  13.750000  13.250000  21250.000000\n",
       "std     3.774917   4.031129   4.573474  32510.254792\n",
       "min     3.000000   9.000000   8.000000   4000.000000\n",
       "25%     7.500000  11.250000  11.000000   4750.000000\n",
       "50%     9.000000  14.000000  13.000000   5500.000000\n",
       "75%     9.750000  16.500000  15.250000  22000.000000\n",
       "max    12.000000  18.000000  19.000000  70000.000000"
      ]
     },
     "execution_count": 64,
     "metadata": {},
     "output_type": "execute_result"
    }
   ],
   "source": [
    "df.describe()"
   ]
  },
  {
   "cell_type": "code",
   "execution_count": 65,
   "id": "6d88e047-beba-4377-9563-dd2334f1b450",
   "metadata": {},
   "outputs": [
    {
     "data": {
      "text/html": [
       "<div>\n",
       "<style scoped>\n",
       "    .dataframe tbody tr th:only-of-type {\n",
       "        vertical-align: middle;\n",
       "    }\n",
       "\n",
       "    .dataframe tbody tr th {\n",
       "        vertical-align: top;\n",
       "    }\n",
       "\n",
       "    .dataframe thead th {\n",
       "        text-align: right;\n",
       "    }\n",
       "</style>\n",
       "<table border=\"1\" class=\"dataframe\">\n",
       "  <thead>\n",
       "    <tr style=\"text-align: right;\">\n",
       "      <th></th>\n",
       "      <th>name</th>\n",
       "      <th>Age</th>\n",
       "      <th>weight</th>\n",
       "      <th>height</th>\n",
       "      <th>Department</th>\n",
       "      <th>income</th>\n",
       "    </tr>\n",
       "  </thead>\n",
       "  <tbody>\n",
       "    <tr>\n",
       "      <th>0</th>\n",
       "      <td>Salman</td>\n",
       "      <td>9</td>\n",
       "      <td>16</td>\n",
       "      <td>14</td>\n",
       "      <td>IT</td>\n",
       "      <td>4000</td>\n",
       "    </tr>\n",
       "    <tr>\n",
       "      <th>1</th>\n",
       "      <td>Arbaz</td>\n",
       "      <td>9</td>\n",
       "      <td>12</td>\n",
       "      <td>19</td>\n",
       "      <td>Sales</td>\n",
       "      <td>5000</td>\n",
       "    </tr>\n",
       "  </tbody>\n",
       "</table>\n",
       "</div>"
      ],
      "text/plain": [
       "     name  Age  weight  height Department  income\n",
       "0  Salman    9      16      14         IT    4000\n",
       "1   Arbaz    9      12      19      Sales    5000"
      ]
     },
     "execution_count": 65,
     "metadata": {},
     "output_type": "execute_result"
    }
   ],
   "source": [
    "df.head(2)"
   ]
  },
  {
   "cell_type": "code",
   "execution_count": 66,
   "id": "401f063e-4a8a-469c-97e3-8dfdf38ef34b",
   "metadata": {},
   "outputs": [
    {
     "data": {
      "text/html": [
       "<div>\n",
       "<style scoped>\n",
       "    .dataframe tbody tr th:only-of-type {\n",
       "        vertical-align: middle;\n",
       "    }\n",
       "\n",
       "    .dataframe tbody tr th {\n",
       "        vertical-align: top;\n",
       "    }\n",
       "\n",
       "    .dataframe thead th {\n",
       "        text-align: right;\n",
       "    }\n",
       "</style>\n",
       "<table border=\"1\" class=\"dataframe\">\n",
       "  <thead>\n",
       "    <tr style=\"text-align: right;\">\n",
       "      <th></th>\n",
       "      <th>name</th>\n",
       "      <th>Age</th>\n",
       "      <th>weight</th>\n",
       "      <th>height</th>\n",
       "      <th>Department</th>\n",
       "      <th>income</th>\n",
       "    </tr>\n",
       "  </thead>\n",
       "  <tbody>\n",
       "    <tr>\n",
       "      <th>2</th>\n",
       "      <td>Sohail</td>\n",
       "      <td>12</td>\n",
       "      <td>9</td>\n",
       "      <td>8</td>\n",
       "      <td>HR</td>\n",
       "      <td>6000</td>\n",
       "    </tr>\n",
       "    <tr>\n",
       "      <th>3</th>\n",
       "      <td>Neil</td>\n",
       "      <td>3</td>\n",
       "      <td>18</td>\n",
       "      <td>12</td>\n",
       "      <td>Healthcare</td>\n",
       "      <td>70000</td>\n",
       "    </tr>\n",
       "  </tbody>\n",
       "</table>\n",
       "</div>"
      ],
      "text/plain": [
       "     name  Age  weight  height  Department  income\n",
       "2  Sohail   12       9       8          HR    6000\n",
       "3    Neil    3      18      12  Healthcare   70000"
      ]
     },
     "execution_count": 66,
     "metadata": {},
     "output_type": "execute_result"
    }
   ],
   "source": [
    "df.tail(2)"
   ]
  },
  {
   "cell_type": "code",
   "execution_count": 67,
   "id": "37972f82-9e76-4466-af19-c9de2f88790e",
   "metadata": {},
   "outputs": [
    {
     "data": {
      "text/html": [
       "<div>\n",
       "<style scoped>\n",
       "    .dataframe tbody tr th:only-of-type {\n",
       "        vertical-align: middle;\n",
       "    }\n",
       "\n",
       "    .dataframe tbody tr th {\n",
       "        vertical-align: top;\n",
       "    }\n",
       "\n",
       "    .dataframe thead th {\n",
       "        text-align: right;\n",
       "    }\n",
       "</style>\n",
       "<table border=\"1\" class=\"dataframe\">\n",
       "  <thead>\n",
       "    <tr style=\"text-align: right;\">\n",
       "      <th></th>\n",
       "      <th>name</th>\n",
       "      <th>Age</th>\n",
       "      <th>weight</th>\n",
       "      <th>height</th>\n",
       "      <th>Department</th>\n",
       "      <th>income</th>\n",
       "    </tr>\n",
       "  </thead>\n",
       "  <tbody>\n",
       "    <tr>\n",
       "      <th>0</th>\n",
       "      <td>Salman</td>\n",
       "      <td>9</td>\n",
       "      <td>16</td>\n",
       "      <td>14</td>\n",
       "      <td>IT</td>\n",
       "      <td>4000</td>\n",
       "    </tr>\n",
       "    <tr>\n",
       "      <th>1</th>\n",
       "      <td>Arbaz</td>\n",
       "      <td>9</td>\n",
       "      <td>12</td>\n",
       "      <td>19</td>\n",
       "      <td>Sales</td>\n",
       "      <td>5000</td>\n",
       "    </tr>\n",
       "    <tr>\n",
       "      <th>2</th>\n",
       "      <td>Sohail</td>\n",
       "      <td>12</td>\n",
       "      <td>9</td>\n",
       "      <td>8</td>\n",
       "      <td>HR</td>\n",
       "      <td>6000</td>\n",
       "    </tr>\n",
       "    <tr>\n",
       "      <th>3</th>\n",
       "      <td>Neil</td>\n",
       "      <td>3</td>\n",
       "      <td>18</td>\n",
       "      <td>12</td>\n",
       "      <td>Healthcare</td>\n",
       "      <td>70000</td>\n",
       "    </tr>\n",
       "  </tbody>\n",
       "</table>\n",
       "</div>"
      ],
      "text/plain": [
       "     name  Age  weight  height  Department  income\n",
       "0  Salman    9      16      14          IT    4000\n",
       "1   Arbaz    9      12      19       Sales    5000\n",
       "2  Sohail   12       9       8          HR    6000\n",
       "3    Neil    3      18      12  Healthcare   70000"
      ]
     },
     "execution_count": 67,
     "metadata": {},
     "output_type": "execute_result"
    }
   ],
   "source": [
    "df"
   ]
  },
  {
   "cell_type": "code",
   "execution_count": 68,
   "id": "dd17c0da-4394-4722-aaca-381cc7a99c8b",
   "metadata": {},
   "outputs": [],
   "source": [
    "# date 31-07"
   ]
  },
  {
   "cell_type": "code",
   "execution_count": 69,
   "id": "fcc7fb06-22bb-4a78-8ed7-36fe659f0c1b",
   "metadata": {},
   "outputs": [
    {
     "data": {
      "text/plain": [
       "0     9\n",
       "1     9\n",
       "2    12\n",
       "3     3\n",
       "Name: Age, dtype: int32"
      ]
     },
     "execution_count": 69,
     "metadata": {},
     "output_type": "execute_result"
    }
   ],
   "source": [
    "df.Age"
   ]
  },
  {
   "cell_type": "code",
   "execution_count": 70,
   "id": "afa78e29-7790-4194-9637-d928769a9fe8",
   "metadata": {},
   "outputs": [
    {
     "data": {
      "text/plain": [
       "0     9\n",
       "1     9\n",
       "2    12\n",
       "3     3\n",
       "Name: Age, dtype: int32"
      ]
     },
     "execution_count": 70,
     "metadata": {},
     "output_type": "execute_result"
    }
   ],
   "source": [
    "df['Age']"
   ]
  },
  {
   "cell_type": "markdown",
   "id": "ff86c907-0755-4df7-be9d-9c0c5cc6417d",
   "metadata": {},
   "source": [
    "### Rows operation"
   ]
  },
  {
   "cell_type": "code",
   "execution_count": 71,
   "id": "a1a524a2-298b-4290-83cb-e88b9cf133ea",
   "metadata": {},
   "outputs": [
    {
     "data": {
      "text/html": [
       "<div>\n",
       "<style scoped>\n",
       "    .dataframe tbody tr th:only-of-type {\n",
       "        vertical-align: middle;\n",
       "    }\n",
       "\n",
       "    .dataframe tbody tr th {\n",
       "        vertical-align: top;\n",
       "    }\n",
       "\n",
       "    .dataframe thead th {\n",
       "        text-align: right;\n",
       "    }\n",
       "</style>\n",
       "<table border=\"1\" class=\"dataframe\">\n",
       "  <thead>\n",
       "    <tr style=\"text-align: right;\">\n",
       "      <th></th>\n",
       "      <th>name</th>\n",
       "      <th>Age</th>\n",
       "      <th>weight</th>\n",
       "      <th>height</th>\n",
       "      <th>Department</th>\n",
       "      <th>income</th>\n",
       "    </tr>\n",
       "  </thead>\n",
       "  <tbody>\n",
       "    <tr>\n",
       "      <th>0</th>\n",
       "      <td>Salman</td>\n",
       "      <td>9</td>\n",
       "      <td>16</td>\n",
       "      <td>14</td>\n",
       "      <td>IT</td>\n",
       "      <td>4000</td>\n",
       "    </tr>\n",
       "    <tr>\n",
       "      <th>1</th>\n",
       "      <td>Arbaz</td>\n",
       "      <td>9</td>\n",
       "      <td>12</td>\n",
       "      <td>19</td>\n",
       "      <td>Sales</td>\n",
       "      <td>5000</td>\n",
       "    </tr>\n",
       "    <tr>\n",
       "      <th>2</th>\n",
       "      <td>Sohail</td>\n",
       "      <td>12</td>\n",
       "      <td>9</td>\n",
       "      <td>8</td>\n",
       "      <td>HR</td>\n",
       "      <td>6000</td>\n",
       "    </tr>\n",
       "    <tr>\n",
       "      <th>3</th>\n",
       "      <td>Neil</td>\n",
       "      <td>3</td>\n",
       "      <td>18</td>\n",
       "      <td>12</td>\n",
       "      <td>Healthcare</td>\n",
       "      <td>70000</td>\n",
       "    </tr>\n",
       "  </tbody>\n",
       "</table>\n",
       "</div>"
      ],
      "text/plain": [
       "     name  Age  weight  height  Department  income\n",
       "0  Salman    9      16      14          IT    4000\n",
       "1   Arbaz    9      12      19       Sales    5000\n",
       "2  Sohail   12       9       8          HR    6000\n",
       "3    Neil    3      18      12  Healthcare   70000"
      ]
     },
     "execution_count": 71,
     "metadata": {},
     "output_type": "execute_result"
    }
   ],
   "source": [
    "df1 = df\n",
    "df1"
   ]
  },
  {
   "cell_type": "code",
   "execution_count": 72,
   "id": "55e79cfe-fa32-4b4f-ab3b-e73a24451b5a",
   "metadata": {},
   "outputs": [
    {
     "data": {
      "text/html": [
       "<div>\n",
       "<style scoped>\n",
       "    .dataframe tbody tr th:only-of-type {\n",
       "        vertical-align: middle;\n",
       "    }\n",
       "\n",
       "    .dataframe tbody tr th {\n",
       "        vertical-align: top;\n",
       "    }\n",
       "\n",
       "    .dataframe thead th {\n",
       "        text-align: right;\n",
       "    }\n",
       "</style>\n",
       "<table border=\"1\" class=\"dataframe\">\n",
       "  <thead>\n",
       "    <tr style=\"text-align: right;\">\n",
       "      <th></th>\n",
       "      <th>name</th>\n",
       "      <th>Age</th>\n",
       "      <th>weight</th>\n",
       "      <th>height</th>\n",
       "      <th>Department</th>\n",
       "      <th>income</th>\n",
       "    </tr>\n",
       "  </thead>\n",
       "  <tbody>\n",
       "    <tr>\n",
       "      <th>0</th>\n",
       "      <td>Salman</td>\n",
       "      <td>9</td>\n",
       "      <td>16</td>\n",
       "      <td>14</td>\n",
       "      <td>IT</td>\n",
       "      <td>4000</td>\n",
       "    </tr>\n",
       "    <tr>\n",
       "      <th>1</th>\n",
       "      <td>Arbaz</td>\n",
       "      <td>9</td>\n",
       "      <td>12</td>\n",
       "      <td>19</td>\n",
       "      <td>Sales</td>\n",
       "      <td>5000</td>\n",
       "    </tr>\n",
       "    <tr>\n",
       "      <th>2</th>\n",
       "      <td>Sohail</td>\n",
       "      <td>12</td>\n",
       "      <td>9</td>\n",
       "      <td>8</td>\n",
       "      <td>HR</td>\n",
       "      <td>6000</td>\n",
       "    </tr>\n",
       "  </tbody>\n",
       "</table>\n",
       "</div>"
      ],
      "text/plain": [
       "     name  Age  weight  height Department  income\n",
       "0  Salman    9      16      14         IT    4000\n",
       "1   Arbaz    9      12      19      Sales    5000\n",
       "2  Sohail   12       9       8         HR    6000"
      ]
     },
     "execution_count": 72,
     "metadata": {},
     "output_type": "execute_result"
    }
   ],
   "source": [
    "df1.head(3) # checking top n rows"
   ]
  },
  {
   "cell_type": "code",
   "execution_count": 73,
   "id": "b621e6cf-90b9-481f-b6f1-94884b66ca0d",
   "metadata": {},
   "outputs": [
    {
     "data": {
      "text/html": [
       "<div>\n",
       "<style scoped>\n",
       "    .dataframe tbody tr th:only-of-type {\n",
       "        vertical-align: middle;\n",
       "    }\n",
       "\n",
       "    .dataframe tbody tr th {\n",
       "        vertical-align: top;\n",
       "    }\n",
       "\n",
       "    .dataframe thead th {\n",
       "        text-align: right;\n",
       "    }\n",
       "</style>\n",
       "<table border=\"1\" class=\"dataframe\">\n",
       "  <thead>\n",
       "    <tr style=\"text-align: right;\">\n",
       "      <th></th>\n",
       "      <th>name</th>\n",
       "      <th>Age</th>\n",
       "      <th>weight</th>\n",
       "      <th>height</th>\n",
       "      <th>Department</th>\n",
       "      <th>income</th>\n",
       "    </tr>\n",
       "  </thead>\n",
       "  <tbody>\n",
       "    <tr>\n",
       "      <th>1</th>\n",
       "      <td>Arbaz</td>\n",
       "      <td>9</td>\n",
       "      <td>12</td>\n",
       "      <td>19</td>\n",
       "      <td>Sales</td>\n",
       "      <td>5000</td>\n",
       "    </tr>\n",
       "    <tr>\n",
       "      <th>2</th>\n",
       "      <td>Sohail</td>\n",
       "      <td>12</td>\n",
       "      <td>9</td>\n",
       "      <td>8</td>\n",
       "      <td>HR</td>\n",
       "      <td>6000</td>\n",
       "    </tr>\n",
       "    <tr>\n",
       "      <th>3</th>\n",
       "      <td>Neil</td>\n",
       "      <td>3</td>\n",
       "      <td>18</td>\n",
       "      <td>12</td>\n",
       "      <td>Healthcare</td>\n",
       "      <td>70000</td>\n",
       "    </tr>\n",
       "  </tbody>\n",
       "</table>\n",
       "</div>"
      ],
      "text/plain": [
       "     name  Age  weight  height  Department  income\n",
       "1   Arbaz    9      12      19       Sales    5000\n",
       "2  Sohail   12       9       8          HR    6000\n",
       "3    Neil    3      18      12  Healthcare   70000"
      ]
     },
     "execution_count": 73,
     "metadata": {},
     "output_type": "execute_result"
    }
   ],
   "source": [
    "df1.tail(3) # checking bottom n rows"
   ]
  },
  {
   "cell_type": "code",
   "execution_count": 74,
   "id": "7b3e1b2a-7baa-475a-a784-22b451402e72",
   "metadata": {},
   "outputs": [
    {
     "name": "stdout",
     "output_type": "stream",
     "text": [
      "<class 'pandas.core.frame.DataFrame'>\n",
      "RangeIndex: 4 entries, 0 to 3\n",
      "Data columns (total 6 columns):\n",
      " #   Column      Non-Null Count  Dtype \n",
      "---  ------      --------------  ----- \n",
      " 0   name        4 non-null      object\n",
      " 1   Age         4 non-null      int32 \n",
      " 2   weight      4 non-null      int32 \n",
      " 3   height      4 non-null      int32 \n",
      " 4   Department  4 non-null      object\n",
      " 5   income      4 non-null      int64 \n",
      "dtypes: int32(3), int64(1), object(2)\n",
      "memory usage: 276.0+ bytes\n"
     ]
    }
   ],
   "source": [
    "df1.info()"
   ]
  },
  {
   "cell_type": "code",
   "execution_count": 75,
   "id": "69745779-6ba5-4a87-aaee-f3490570e94e",
   "metadata": {},
   "outputs": [
    {
     "data": {
      "text/html": [
       "<div>\n",
       "<style scoped>\n",
       "    .dataframe tbody tr th:only-of-type {\n",
       "        vertical-align: middle;\n",
       "    }\n",
       "\n",
       "    .dataframe tbody tr th {\n",
       "        vertical-align: top;\n",
       "    }\n",
       "\n",
       "    .dataframe thead th {\n",
       "        text-align: right;\n",
       "    }\n",
       "</style>\n",
       "<table border=\"1\" class=\"dataframe\">\n",
       "  <thead>\n",
       "    <tr style=\"text-align: right;\">\n",
       "      <th></th>\n",
       "      <th>name</th>\n",
       "      <th>Age</th>\n",
       "      <th>weight</th>\n",
       "      <th>height</th>\n",
       "      <th>Department</th>\n",
       "      <th>income</th>\n",
       "    </tr>\n",
       "  </thead>\n",
       "  <tbody>\n",
       "    <tr>\n",
       "      <th>0</th>\n",
       "      <td>Salman</td>\n",
       "      <td>9</td>\n",
       "      <td>16</td>\n",
       "      <td>14</td>\n",
       "      <td>IT</td>\n",
       "      <td>4000</td>\n",
       "    </tr>\n",
       "    <tr>\n",
       "      <th>1</th>\n",
       "      <td>Arbaz</td>\n",
       "      <td>9</td>\n",
       "      <td>12</td>\n",
       "      <td>19</td>\n",
       "      <td>Sales</td>\n",
       "      <td>5000</td>\n",
       "    </tr>\n",
       "    <tr>\n",
       "      <th>2</th>\n",
       "      <td>Sohail</td>\n",
       "      <td>12</td>\n",
       "      <td>9</td>\n",
       "      <td>8</td>\n",
       "      <td>HR</td>\n",
       "      <td>6000</td>\n",
       "    </tr>\n",
       "    <tr>\n",
       "      <th>3</th>\n",
       "      <td>Neil</td>\n",
       "      <td>3</td>\n",
       "      <td>18</td>\n",
       "      <td>12</td>\n",
       "      <td>Healthcare</td>\n",
       "      <td>70000</td>\n",
       "    </tr>\n",
       "    <tr>\n",
       "      <th>4</th>\n",
       "      <td>SUbham</td>\n",
       "      <td>25</td>\n",
       "      <td>75</td>\n",
       "      <td>64</td>\n",
       "      <td>Sales</td>\n",
       "      <td>7000</td>\n",
       "    </tr>\n",
       "  </tbody>\n",
       "</table>\n",
       "</div>"
      ],
      "text/plain": [
       "     name  Age  weight  height  Department  income\n",
       "0  Salman    9      16      14          IT    4000\n",
       "1   Arbaz    9      12      19       Sales    5000\n",
       "2  Sohail   12       9       8          HR    6000\n",
       "3    Neil    3      18      12  Healthcare   70000\n",
       "4  SUbham   25      75      64       Sales    7000"
      ]
     },
     "execution_count": 75,
     "metadata": {},
     "output_type": "execute_result"
    }
   ],
   "source": [
    "# adding single row\n",
    "df1.loc[4] = ['SUbham',25,75,64,\"Sales\",7000]\n",
    "df1"
   ]
  },
  {
   "cell_type": "code",
   "execution_count": 76,
   "id": "4cf92251-a729-46e8-8b5b-d59e274e481b",
   "metadata": {},
   "outputs": [],
   "source": [
    "new_rows = [\n",
    "    ['Sakshi',27,80,64,\"Auto\",7000],\n",
    "    ['roahan',25,77,64,\"Hr\",9000],\n",
    "    ['priyashu',30,60,64,\"IT\",10000]\n",
    "]"
   ]
  },
  {
   "cell_type": "code",
   "execution_count": 77,
   "id": "80b5e6f8-4f3e-4d1b-bc30-70eb7877478d",
   "metadata": {},
   "outputs": [
    {
     "data": {
      "text/html": [
       "<div>\n",
       "<style scoped>\n",
       "    .dataframe tbody tr th:only-of-type {\n",
       "        vertical-align: middle;\n",
       "    }\n",
       "\n",
       "    .dataframe tbody tr th {\n",
       "        vertical-align: top;\n",
       "    }\n",
       "\n",
       "    .dataframe thead th {\n",
       "        text-align: right;\n",
       "    }\n",
       "</style>\n",
       "<table border=\"1\" class=\"dataframe\">\n",
       "  <thead>\n",
       "    <tr style=\"text-align: right;\">\n",
       "      <th></th>\n",
       "      <th>name</th>\n",
       "      <th>Age</th>\n",
       "      <th>weight</th>\n",
       "      <th>height</th>\n",
       "      <th>Department</th>\n",
       "      <th>income</th>\n",
       "    </tr>\n",
       "  </thead>\n",
       "  <tbody>\n",
       "    <tr>\n",
       "      <th>0</th>\n",
       "      <td>Sakshi</td>\n",
       "      <td>27</td>\n",
       "      <td>80</td>\n",
       "      <td>64</td>\n",
       "      <td>Auto</td>\n",
       "      <td>7000</td>\n",
       "    </tr>\n",
       "    <tr>\n",
       "      <th>1</th>\n",
       "      <td>roahan</td>\n",
       "      <td>25</td>\n",
       "      <td>77</td>\n",
       "      <td>64</td>\n",
       "      <td>Hr</td>\n",
       "      <td>9000</td>\n",
       "    </tr>\n",
       "    <tr>\n",
       "      <th>2</th>\n",
       "      <td>priyashu</td>\n",
       "      <td>30</td>\n",
       "      <td>60</td>\n",
       "      <td>64</td>\n",
       "      <td>IT</td>\n",
       "      <td>10000</td>\n",
       "    </tr>\n",
       "  </tbody>\n",
       "</table>\n",
       "</div>"
      ],
      "text/plain": [
       "       name  Age  weight  height Department  income\n",
       "0    Sakshi   27      80      64       Auto    7000\n",
       "1    roahan   25      77      64         Hr    9000\n",
       "2  priyashu   30      60      64         IT   10000"
      ]
     },
     "execution_count": 77,
     "metadata": {},
     "output_type": "execute_result"
    }
   ],
   "source": [
    "# adding multiple row\n",
    "new_df = pd.DataFrame(new_rows,columns=df1.columns)\n",
    "new_df"
   ]
  },
  {
   "attachments": {
    "6e91b484-1add-49c6-adec-eebc66b01e4f.png": {
     "image/png": "[encoded data removed]"
    }
   },
   "cell_type": "markdown",
   "id": "97255665-116b-48f8-b1b2-4a70c4d1fc5e",
   "metadata": {},
   "source": [
    "#### merging Dataframe\n",
    "![image.png](attachment:6e91b484-1add-49c6-adec-eebc66b01e4f.png)"
   ]
  },
  {
   "cell_type": "code",
   "execution_count": 78,
   "id": "a6d02dbc-a11a-4f61-bb27-8df3aa75b4d4",
   "metadata": {},
   "outputs": [
    {
     "data": {
      "text/html": [
       "<div>\n",
       "<style scoped>\n",
       "    .dataframe tbody tr th:only-of-type {\n",
       "        vertical-align: middle;\n",
       "    }\n",
       "\n",
       "    .dataframe tbody tr th {\n",
       "        vertical-align: top;\n",
       "    }\n",
       "\n",
       "    .dataframe thead th {\n",
       "        text-align: right;\n",
       "    }\n",
       "</style>\n",
       "<table border=\"1\" class=\"dataframe\">\n",
       "  <thead>\n",
       "    <tr style=\"text-align: right;\">\n",
       "      <th></th>\n",
       "      <th>name</th>\n",
       "      <th>Age</th>\n",
       "      <th>weight</th>\n",
       "      <th>height</th>\n",
       "      <th>Department</th>\n",
       "      <th>income</th>\n",
       "    </tr>\n",
       "  </thead>\n",
       "  <tbody>\n",
       "    <tr>\n",
       "      <th>0</th>\n",
       "      <td>Salman</td>\n",
       "      <td>9</td>\n",
       "      <td>16</td>\n",
       "      <td>14</td>\n",
       "      <td>IT</td>\n",
       "      <td>4000</td>\n",
       "    </tr>\n",
       "    <tr>\n",
       "      <th>1</th>\n",
       "      <td>Arbaz</td>\n",
       "      <td>9</td>\n",
       "      <td>12</td>\n",
       "      <td>19</td>\n",
       "      <td>Sales</td>\n",
       "      <td>5000</td>\n",
       "    </tr>\n",
       "    <tr>\n",
       "      <th>2</th>\n",
       "      <td>Sohail</td>\n",
       "      <td>12</td>\n",
       "      <td>9</td>\n",
       "      <td>8</td>\n",
       "      <td>HR</td>\n",
       "      <td>6000</td>\n",
       "    </tr>\n",
       "    <tr>\n",
       "      <th>3</th>\n",
       "      <td>Neil</td>\n",
       "      <td>3</td>\n",
       "      <td>18</td>\n",
       "      <td>12</td>\n",
       "      <td>Healthcare</td>\n",
       "      <td>70000</td>\n",
       "    </tr>\n",
       "    <tr>\n",
       "      <th>4</th>\n",
       "      <td>SUbham</td>\n",
       "      <td>25</td>\n",
       "      <td>75</td>\n",
       "      <td>64</td>\n",
       "      <td>Sales</td>\n",
       "      <td>7000</td>\n",
       "    </tr>\n",
       "    <tr>\n",
       "      <th>5</th>\n",
       "      <td>Sakshi</td>\n",
       "      <td>27</td>\n",
       "      <td>80</td>\n",
       "      <td>64</td>\n",
       "      <td>Auto</td>\n",
       "      <td>7000</td>\n",
       "    </tr>\n",
       "    <tr>\n",
       "      <th>6</th>\n",
       "      <td>roahan</td>\n",
       "      <td>25</td>\n",
       "      <td>77</td>\n",
       "      <td>64</td>\n",
       "      <td>Hr</td>\n",
       "      <td>9000</td>\n",
       "    </tr>\n",
       "    <tr>\n",
       "      <th>7</th>\n",
       "      <td>priyashu</td>\n",
       "      <td>30</td>\n",
       "      <td>60</td>\n",
       "      <td>64</td>\n",
       "      <td>IT</td>\n",
       "      <td>10000</td>\n",
       "    </tr>\n",
       "  </tbody>\n",
       "</table>\n",
       "</div>"
      ],
      "text/plain": [
       "       name  Age  weight  height  Department  income\n",
       "0    Salman    9      16      14          IT    4000\n",
       "1     Arbaz    9      12      19       Sales    5000\n",
       "2    Sohail   12       9       8          HR    6000\n",
       "3      Neil    3      18      12  Healthcare   70000\n",
       "4    SUbham   25      75      64       Sales    7000\n",
       "5    Sakshi   27      80      64        Auto    7000\n",
       "6    roahan   25      77      64          Hr    9000\n",
       "7  priyashu   30      60      64          IT   10000"
      ]
     },
     "execution_count": 78,
     "metadata": {},
     "output_type": "execute_result"
    }
   ],
   "source": [
    "df1 = pd.concat([df1,new_df],ignore_index=True)\n",
    "\n",
    "df1"
   ]
  },
  {
   "cell_type": "markdown",
   "id": "8ca86a8f-e669-46b3-affe-ee61ff9ff9b2",
   "metadata": {},
   "source": [
    "##### Merging"
   ]
  },
  {
   "cell_type": "code",
   "execution_count": 3,
   "id": "10c8bd51-2c51-43c0-9fc4-0d638192bfc4",
   "metadata": {
    "scrolled": true
   },
   "outputs": [
    {
     "name": "stdout",
     "output_type": "stream",
     "text": [
      "df1:\n",
      "     A   B\n",
      "0  A0  B0\n",
      "1  A1  B1\n",
      "2  A2  B2\n",
      "df2:\n",
      "     A   C\n",
      "0  A0  C0\n",
      "1  A1  C1\n",
      "2  A3  C2\n"
     ]
    }
   ],
   "source": [
    "import pandas as pd\n",
    "df1 = pd.DataFrame({\n",
    "    'A': ['A0', 'A1', 'A2'],\n",
    "    'B': ['B0', 'B1', 'B2'],\n",
    "})\n",
    "df2 = pd.DataFrame({\n",
    "    'A': ['A0', 'A1', 'A3'],\n",
    "    'C': ['C0', 'C1', 'C2'],\n",
    "})\n",
    "print(\"df1:\\n\",df1)\n",
    "print(\"df2:\\n\",df2)"
   ]
  },
  {
   "cell_type": "code",
   "execution_count": 4,
   "id": "6b0ad3fa-e68e-4b62-9c9f-88f30a3e7492",
   "metadata": {},
   "outputs": [
    {
     "name": "stdout",
     "output_type": "stream",
     "text": [
      "    A   B   C\n",
      "0  A0  B0  C0\n",
      "1  A1  B1  C1\n"
     ]
    }
   ],
   "source": [
    "merged_df = pd.merge(\n",
    "    df1,\n",
    "    df2,\n",
    "    on='A', how='inner'\n",
    ")  # Merging on column 'A'\n",
    "print(merged_df)"
   ]
  },
  {
   "cell_type": "markdown",
   "id": "8feec8d9-8297-4767-bc18-f04c65713f09",
   "metadata": {},
   "source": [
    "##### joining"
   ]
  },
  {
   "cell_type": "code",
   "execution_count": 5,
   "id": "22293f00-23a2-41da-a037-327222d6c351",
   "metadata": {},
   "outputs": [
    {
     "name": "stdout",
     "output_type": "stream",
     "text": [
      "df1:\n",
      "     A   B\n",
      "X  A0  B0\n",
      "Y  A1  B1\n",
      "Z  A2  B2\n",
      "df2:\n",
      "     C\n",
      "X  C0\n",
      "Y  C1\n",
      "Z  C2\n"
     ]
    }
   ],
   "source": [
    "df1 = pd.DataFrame({\n",
    "    'A': ['A0', 'A1', 'A2'],\n",
    "    'B': ['B0', 'B1', 'B2'],\n",
    "}, index=['X', 'Y', 'Z'])\n",
    "\n",
    "df2 = pd.DataFrame({\n",
    "    'C': ['C0', 'C1', 'C2'],\n",
    "}, index=['X', 'Y', 'Z'])\n",
    "\n",
    "print(\"df1:\\n\",df1)\n",
    "print(\"df2:\\n\",df2)"
   ]
  },
  {
   "cell_type": "code",
   "execution_count": 6,
   "id": "b2644537-1e97-4cc4-856d-beff839d173e",
   "metadata": {},
   "outputs": [
    {
     "name": "stdout",
     "output_type": "stream",
     "text": [
      "    A   B   C\n",
      "X  A0  B0  C0\n",
      "Y  A1  B1  C1\n",
      "Z  A2  B2  C2\n"
     ]
    }
   ],
   "source": [
    "joined_df = df1.join(df2)  # Joining on index by default\n",
    "print(joined_df)"
   ]
  },
  {
   "cell_type": "markdown",
   "id": "9d267fea-67ff-4427-8f63-c35ecc427dc0",
   "metadata": {},
   "source": [
    "### updating values"
   ]
  },
  {
   "cell_type": "code",
   "execution_count": 79,
   "id": "055c8288-21d1-4ac0-ab7b-547270d0d54a",
   "metadata": {},
   "outputs": [
    {
     "data": {
      "text/plain": [
       "0     9\n",
       "1     9\n",
       "2    12\n",
       "3     3\n",
       "4    25\n",
       "5    27\n",
       "6    25\n",
       "7    30\n",
       "Name: Age, dtype: int64"
      ]
     },
     "execution_count": 79,
     "metadata": {},
     "output_type": "execute_result"
    }
   ],
   "source": [
    "df1['Age']"
   ]
  },
  {
   "cell_type": "code",
   "execution_count": 80,
   "id": "815a9ea2-6d18-480d-876d-6c2d735b369c",
   "metadata": {},
   "outputs": [
    {
     "name": "stderr",
     "output_type": "stream",
     "text": [
      "C:\\Users\\HIMANSHU SURYAVANSHI\\AppData\\Local\\Temp\\ipykernel_17672\\24271671.py:1: SettingWithCopyWarning: \n",
      "A value is trying to be set on a copy of a slice from a DataFrame\n",
      "\n",
      "See the caveats in the documentation: https://pandas.pydata.org/pandas-docs/stable/user_guide/indexing.html#returning-a-view-versus-a-copy\n",
      "  df1['Age'][1] = 45\n"
     ]
    }
   ],
   "source": [
    "df1['Age'][1] = 45"
   ]
  },
  {
   "cell_type": "code",
   "execution_count": 81,
   "id": "56461861-8144-43fe-905a-6a510f1fc83a",
   "metadata": {},
   "outputs": [
    {
     "data": {
      "text/html": [
       "<div>\n",
       "<style scoped>\n",
       "    .dataframe tbody tr th:only-of-type {\n",
       "        vertical-align: middle;\n",
       "    }\n",
       "\n",
       "    .dataframe tbody tr th {\n",
       "        vertical-align: top;\n",
       "    }\n",
       "\n",
       "    .dataframe thead th {\n",
       "        text-align: right;\n",
       "    }\n",
       "</style>\n",
       "<table border=\"1\" class=\"dataframe\">\n",
       "  <thead>\n",
       "    <tr style=\"text-align: right;\">\n",
       "      <th></th>\n",
       "      <th>name</th>\n",
       "      <th>Age</th>\n",
       "      <th>weight</th>\n",
       "      <th>height</th>\n",
       "      <th>Department</th>\n",
       "      <th>income</th>\n",
       "    </tr>\n",
       "  </thead>\n",
       "  <tbody>\n",
       "    <tr>\n",
       "      <th>0</th>\n",
       "      <td>Salman</td>\n",
       "      <td>9</td>\n",
       "      <td>16</td>\n",
       "      <td>14</td>\n",
       "      <td>IT</td>\n",
       "      <td>4000</td>\n",
       "    </tr>\n",
       "    <tr>\n",
       "      <th>1</th>\n",
       "      <td>Arbaz</td>\n",
       "      <td>45</td>\n",
       "      <td>12</td>\n",
       "      <td>19</td>\n",
       "      <td>Sales</td>\n",
       "      <td>5000</td>\n",
       "    </tr>\n",
       "    <tr>\n",
       "      <th>2</th>\n",
       "      <td>Sohail</td>\n",
       "      <td>12</td>\n",
       "      <td>9</td>\n",
       "      <td>8</td>\n",
       "      <td>HR</td>\n",
       "      <td>6000</td>\n",
       "    </tr>\n",
       "    <tr>\n",
       "      <th>3</th>\n",
       "      <td>Neil</td>\n",
       "      <td>3</td>\n",
       "      <td>18</td>\n",
       "      <td>12</td>\n",
       "      <td>Healthcare</td>\n",
       "      <td>70000</td>\n",
       "    </tr>\n",
       "    <tr>\n",
       "      <th>4</th>\n",
       "      <td>SUbham</td>\n",
       "      <td>25</td>\n",
       "      <td>75</td>\n",
       "      <td>64</td>\n",
       "      <td>Sales</td>\n",
       "      <td>7000</td>\n",
       "    </tr>\n",
       "    <tr>\n",
       "      <th>5</th>\n",
       "      <td>Sakshi</td>\n",
       "      <td>27</td>\n",
       "      <td>80</td>\n",
       "      <td>64</td>\n",
       "      <td>Auto</td>\n",
       "      <td>7000</td>\n",
       "    </tr>\n",
       "    <tr>\n",
       "      <th>6</th>\n",
       "      <td>roahan</td>\n",
       "      <td>25</td>\n",
       "      <td>77</td>\n",
       "      <td>64</td>\n",
       "      <td>Hr</td>\n",
       "      <td>9000</td>\n",
       "    </tr>\n",
       "    <tr>\n",
       "      <th>7</th>\n",
       "      <td>priyashu</td>\n",
       "      <td>30</td>\n",
       "      <td>60</td>\n",
       "      <td>64</td>\n",
       "      <td>IT</td>\n",
       "      <td>10000</td>\n",
       "    </tr>\n",
       "  </tbody>\n",
       "</table>\n",
       "</div>"
      ],
      "text/plain": [
       "       name  Age  weight  height  Department  income\n",
       "0    Salman    9      16      14          IT    4000\n",
       "1     Arbaz   45      12      19       Sales    5000\n",
       "2    Sohail   12       9       8          HR    6000\n",
       "3      Neil    3      18      12  Healthcare   70000\n",
       "4    SUbham   25      75      64       Sales    7000\n",
       "5    Sakshi   27      80      64        Auto    7000\n",
       "6    roahan   25      77      64          Hr    9000\n",
       "7  priyashu   30      60      64          IT   10000"
      ]
     },
     "execution_count": 81,
     "metadata": {},
     "output_type": "execute_result"
    }
   ],
   "source": [
    "df1"
   ]
  },
  {
   "cell_type": "code",
   "execution_count": 82,
   "id": "641a0b59-3250-4542-8646-e51c127e03d2",
   "metadata": {},
   "outputs": [
    {
     "name": "stderr",
     "output_type": "stream",
     "text": [
      "C:\\Users\\HIMANSHU SURYAVANSHI\\AppData\\Local\\Temp\\ipykernel_17672\\1501192777.py:1: SettingWithCopyWarning: \n",
      "A value is trying to be set on a copy of a slice from a DataFrame\n",
      "\n",
      "See the caveats in the documentation: https://pandas.pydata.org/pandas-docs/stable/user_guide/indexing.html#returning-a-view-versus-a-copy\n",
      "  df1['Department'][5] = 'Automotive'\n"
     ]
    }
   ],
   "source": [
    "df1['Department'][5] = 'Automotive'"
   ]
  },
  {
   "cell_type": "code",
   "execution_count": 83,
   "id": "2215a921-abe0-4d13-9281-c56606b12aa7",
   "metadata": {},
   "outputs": [
    {
     "data": {
      "text/html": [
       "<div>\n",
       "<style scoped>\n",
       "    .dataframe tbody tr th:only-of-type {\n",
       "        vertical-align: middle;\n",
       "    }\n",
       "\n",
       "    .dataframe tbody tr th {\n",
       "        vertical-align: top;\n",
       "    }\n",
       "\n",
       "    .dataframe thead th {\n",
       "        text-align: right;\n",
       "    }\n",
       "</style>\n",
       "<table border=\"1\" class=\"dataframe\">\n",
       "  <thead>\n",
       "    <tr style=\"text-align: right;\">\n",
       "      <th></th>\n",
       "      <th>name</th>\n",
       "      <th>Age</th>\n",
       "      <th>weight</th>\n",
       "      <th>height</th>\n",
       "      <th>Department</th>\n",
       "      <th>income</th>\n",
       "    </tr>\n",
       "  </thead>\n",
       "  <tbody>\n",
       "    <tr>\n",
       "      <th>0</th>\n",
       "      <td>Salman</td>\n",
       "      <td>9</td>\n",
       "      <td>16</td>\n",
       "      <td>14</td>\n",
       "      <td>IT</td>\n",
       "      <td>4000</td>\n",
       "    </tr>\n",
       "    <tr>\n",
       "      <th>1</th>\n",
       "      <td>Arbaz</td>\n",
       "      <td>45</td>\n",
       "      <td>12</td>\n",
       "      <td>19</td>\n",
       "      <td>Sales</td>\n",
       "      <td>5000</td>\n",
       "    </tr>\n",
       "    <tr>\n",
       "      <th>2</th>\n",
       "      <td>Sohail</td>\n",
       "      <td>12</td>\n",
       "      <td>9</td>\n",
       "      <td>8</td>\n",
       "      <td>HR</td>\n",
       "      <td>6000</td>\n",
       "    </tr>\n",
       "    <tr>\n",
       "      <th>3</th>\n",
       "      <td>Neil</td>\n",
       "      <td>3</td>\n",
       "      <td>18</td>\n",
       "      <td>12</td>\n",
       "      <td>Healthcare</td>\n",
       "      <td>70000</td>\n",
       "    </tr>\n",
       "    <tr>\n",
       "      <th>4</th>\n",
       "      <td>SUbham</td>\n",
       "      <td>25</td>\n",
       "      <td>75</td>\n",
       "      <td>64</td>\n",
       "      <td>Sales</td>\n",
       "      <td>7000</td>\n",
       "    </tr>\n",
       "    <tr>\n",
       "      <th>5</th>\n",
       "      <td>Sakshi</td>\n",
       "      <td>27</td>\n",
       "      <td>80</td>\n",
       "      <td>64</td>\n",
       "      <td>Automotive</td>\n",
       "      <td>7000</td>\n",
       "    </tr>\n",
       "    <tr>\n",
       "      <th>6</th>\n",
       "      <td>roahan</td>\n",
       "      <td>25</td>\n",
       "      <td>77</td>\n",
       "      <td>64</td>\n",
       "      <td>Hr</td>\n",
       "      <td>9000</td>\n",
       "    </tr>\n",
       "    <tr>\n",
       "      <th>7</th>\n",
       "      <td>priyashu</td>\n",
       "      <td>30</td>\n",
       "      <td>60</td>\n",
       "      <td>64</td>\n",
       "      <td>IT</td>\n",
       "      <td>10000</td>\n",
       "    </tr>\n",
       "  </tbody>\n",
       "</table>\n",
       "</div>"
      ],
      "text/plain": [
       "       name  Age  weight  height  Department  income\n",
       "0    Salman    9      16      14          IT    4000\n",
       "1     Arbaz   45      12      19       Sales    5000\n",
       "2    Sohail   12       9       8          HR    6000\n",
       "3      Neil    3      18      12  Healthcare   70000\n",
       "4    SUbham   25      75      64       Sales    7000\n",
       "5    Sakshi   27      80      64  Automotive    7000\n",
       "6    roahan   25      77      64          Hr    9000\n",
       "7  priyashu   30      60      64          IT   10000"
      ]
     },
     "execution_count": 83,
     "metadata": {},
     "output_type": "execute_result"
    }
   ],
   "source": [
    "df1"
   ]
  },
  {
   "cell_type": "code",
   "execution_count": 84,
   "id": "c205b070-6a66-494d-9ecf-90de177b5aa6",
   "metadata": {},
   "outputs": [
    {
     "data": {
      "text/html": [
       "<div>\n",
       "<style scoped>\n",
       "    .dataframe tbody tr th:only-of-type {\n",
       "        vertical-align: middle;\n",
       "    }\n",
       "\n",
       "    .dataframe tbody tr th {\n",
       "        vertical-align: top;\n",
       "    }\n",
       "\n",
       "    .dataframe thead th {\n",
       "        text-align: right;\n",
       "    }\n",
       "</style>\n",
       "<table border=\"1\" class=\"dataframe\">\n",
       "  <thead>\n",
       "    <tr style=\"text-align: right;\">\n",
       "      <th></th>\n",
       "      <th>name</th>\n",
       "      <th>Age</th>\n",
       "      <th>weight</th>\n",
       "      <th>height</th>\n",
       "      <th>Department</th>\n",
       "      <th>income</th>\n",
       "    </tr>\n",
       "  </thead>\n",
       "  <tbody>\n",
       "    <tr>\n",
       "      <th>0</th>\n",
       "      <td>Salman</td>\n",
       "      <td>9</td>\n",
       "      <td>16</td>\n",
       "      <td>14</td>\n",
       "      <td>Information Technology</td>\n",
       "      <td>4000</td>\n",
       "    </tr>\n",
       "    <tr>\n",
       "      <th>1</th>\n",
       "      <td>Arbaz</td>\n",
       "      <td>45</td>\n",
       "      <td>12</td>\n",
       "      <td>19</td>\n",
       "      <td>Sales</td>\n",
       "      <td>5000</td>\n",
       "    </tr>\n",
       "    <tr>\n",
       "      <th>2</th>\n",
       "      <td>Sohail</td>\n",
       "      <td>12</td>\n",
       "      <td>9</td>\n",
       "      <td>8</td>\n",
       "      <td>Human Resource</td>\n",
       "      <td>6000</td>\n",
       "    </tr>\n",
       "    <tr>\n",
       "      <th>3</th>\n",
       "      <td>Neil</td>\n",
       "      <td>3</td>\n",
       "      <td>18</td>\n",
       "      <td>12</td>\n",
       "      <td>Healthcare</td>\n",
       "      <td>70000</td>\n",
       "    </tr>\n",
       "    <tr>\n",
       "      <th>4</th>\n",
       "      <td>SUbham</td>\n",
       "      <td>25</td>\n",
       "      <td>75</td>\n",
       "      <td>64</td>\n",
       "      <td>Sales</td>\n",
       "      <td>7000</td>\n",
       "    </tr>\n",
       "    <tr>\n",
       "      <th>5</th>\n",
       "      <td>Sakshi</td>\n",
       "      <td>27</td>\n",
       "      <td>80</td>\n",
       "      <td>64</td>\n",
       "      <td>Automotive</td>\n",
       "      <td>7000</td>\n",
       "    </tr>\n",
       "    <tr>\n",
       "      <th>6</th>\n",
       "      <td>roahan</td>\n",
       "      <td>25</td>\n",
       "      <td>77</td>\n",
       "      <td>64</td>\n",
       "      <td>Human Resource</td>\n",
       "      <td>9000</td>\n",
       "    </tr>\n",
       "    <tr>\n",
       "      <th>7</th>\n",
       "      <td>priyashu</td>\n",
       "      <td>30</td>\n",
       "      <td>60</td>\n",
       "      <td>64</td>\n",
       "      <td>Information Technology</td>\n",
       "      <td>10000</td>\n",
       "    </tr>\n",
       "  </tbody>\n",
       "</table>\n",
       "</div>"
      ],
      "text/plain": [
       "       name  Age  weight  height              Department  income\n",
       "0    Salman    9      16      14  Information Technology    4000\n",
       "1     Arbaz   45      12      19                   Sales    5000\n",
       "2    Sohail   12       9       8          Human Resource    6000\n",
       "3      Neil    3      18      12              Healthcare   70000\n",
       "4    SUbham   25      75      64                   Sales    7000\n",
       "5    Sakshi   27      80      64              Automotive    7000\n",
       "6    roahan   25      77      64          Human Resource    9000\n",
       "7  priyashu   30      60      64  Information Technology   10000"
      ]
     },
     "execution_count": 84,
     "metadata": {},
     "output_type": "execute_result"
    }
   ],
   "source": [
    "# updating multiple values\n",
    "df1['Department'] = df1['Department'].replace({\n",
    "    'IT':\"Information Technology\",\n",
    "    'HR':\"Human Resource\",\n",
    "    'Hr':'Human Resource'\n",
    "})\n",
    "df1"
   ]
  },
  {
   "cell_type": "markdown",
   "id": "7b1b7444-9ab5-4d27-b520-4fb4e8a3c485",
   "metadata": {},
   "source": [
    "### Filtering"
   ]
  },
  {
   "cell_type": "code",
   "execution_count": 85,
   "id": "20ce1182-cc81-40d2-971f-881e2f4aedb4",
   "metadata": {},
   "outputs": [
    {
     "data": {
      "text/html": [
       "<div>\n",
       "<style scoped>\n",
       "    .dataframe tbody tr th:only-of-type {\n",
       "        vertical-align: middle;\n",
       "    }\n",
       "\n",
       "    .dataframe tbody tr th {\n",
       "        vertical-align: top;\n",
       "    }\n",
       "\n",
       "    .dataframe thead th {\n",
       "        text-align: right;\n",
       "    }\n",
       "</style>\n",
       "<table border=\"1\" class=\"dataframe\">\n",
       "  <thead>\n",
       "    <tr style=\"text-align: right;\">\n",
       "      <th></th>\n",
       "      <th>name</th>\n",
       "      <th>Age</th>\n",
       "      <th>weight</th>\n",
       "      <th>height</th>\n",
       "      <th>Department</th>\n",
       "      <th>income</th>\n",
       "    </tr>\n",
       "  </thead>\n",
       "  <tbody>\n",
       "    <tr>\n",
       "      <th>1</th>\n",
       "      <td>Arbaz</td>\n",
       "      <td>45</td>\n",
       "      <td>12</td>\n",
       "      <td>19</td>\n",
       "      <td>Sales</td>\n",
       "      <td>5000</td>\n",
       "    </tr>\n",
       "    <tr>\n",
       "      <th>4</th>\n",
       "      <td>SUbham</td>\n",
       "      <td>25</td>\n",
       "      <td>75</td>\n",
       "      <td>64</td>\n",
       "      <td>Sales</td>\n",
       "      <td>7000</td>\n",
       "    </tr>\n",
       "    <tr>\n",
       "      <th>5</th>\n",
       "      <td>Sakshi</td>\n",
       "      <td>27</td>\n",
       "      <td>80</td>\n",
       "      <td>64</td>\n",
       "      <td>Automotive</td>\n",
       "      <td>7000</td>\n",
       "    </tr>\n",
       "    <tr>\n",
       "      <th>6</th>\n",
       "      <td>roahan</td>\n",
       "      <td>25</td>\n",
       "      <td>77</td>\n",
       "      <td>64</td>\n",
       "      <td>Human Resource</td>\n",
       "      <td>9000</td>\n",
       "    </tr>\n",
       "    <tr>\n",
       "      <th>7</th>\n",
       "      <td>priyashu</td>\n",
       "      <td>30</td>\n",
       "      <td>60</td>\n",
       "      <td>64</td>\n",
       "      <td>Information Technology</td>\n",
       "      <td>10000</td>\n",
       "    </tr>\n",
       "  </tbody>\n",
       "</table>\n",
       "</div>"
      ],
      "text/plain": [
       "       name  Age  weight  height              Department  income\n",
       "1     Arbaz   45      12      19                   Sales    5000\n",
       "4    SUbham   25      75      64                   Sales    7000\n",
       "5    Sakshi   27      80      64              Automotive    7000\n",
       "6    roahan   25      77      64          Human Resource    9000\n",
       "7  priyashu   30      60      64  Information Technology   10000"
      ]
     },
     "execution_count": 85,
     "metadata": {},
     "output_type": "execute_result"
    }
   ],
   "source": [
    "# boolean indexing\n",
    "df1[df1['Age']>20]"
   ]
  },
  {
   "cell_type": "code",
   "execution_count": 86,
   "id": "5fe6e4eb-38b1-4195-ac31-b0021fb63e48",
   "metadata": {},
   "outputs": [
    {
     "data": {
      "text/html": [
       "<div>\n",
       "<style scoped>\n",
       "    .dataframe tbody tr th:only-of-type {\n",
       "        vertical-align: middle;\n",
       "    }\n",
       "\n",
       "    .dataframe tbody tr th {\n",
       "        vertical-align: top;\n",
       "    }\n",
       "\n",
       "    .dataframe thead th {\n",
       "        text-align: right;\n",
       "    }\n",
       "</style>\n",
       "<table border=\"1\" class=\"dataframe\">\n",
       "  <thead>\n",
       "    <tr style=\"text-align: right;\">\n",
       "      <th></th>\n",
       "      <th>name</th>\n",
       "      <th>Age</th>\n",
       "      <th>weight</th>\n",
       "      <th>height</th>\n",
       "      <th>Department</th>\n",
       "      <th>income</th>\n",
       "    </tr>\n",
       "  </thead>\n",
       "  <tbody>\n",
       "    <tr>\n",
       "      <th>0</th>\n",
       "      <td>Salman</td>\n",
       "      <td>9</td>\n",
       "      <td>16</td>\n",
       "      <td>14</td>\n",
       "      <td>Information Technology</td>\n",
       "      <td>4000</td>\n",
       "    </tr>\n",
       "    <tr>\n",
       "      <th>7</th>\n",
       "      <td>priyashu</td>\n",
       "      <td>30</td>\n",
       "      <td>60</td>\n",
       "      <td>64</td>\n",
       "      <td>Information Technology</td>\n",
       "      <td>10000</td>\n",
       "    </tr>\n",
       "  </tbody>\n",
       "</table>\n",
       "</div>"
      ],
      "text/plain": [
       "       name  Age  weight  height              Department  income\n",
       "0    Salman    9      16      14  Information Technology    4000\n",
       "7  priyashu   30      60      64  Information Technology   10000"
      ]
     },
     "execution_count": 86,
     "metadata": {},
     "output_type": "execute_result"
    }
   ],
   "source": [
    "df1[df1['Department']=='Information Technology']"
   ]
  },
  {
   "cell_type": "code",
   "execution_count": 87,
   "id": "88fd7f38-4303-4006-b10d-70170ad3b0a2",
   "metadata": {},
   "outputs": [
    {
     "data": {
      "text/html": [
       "<div>\n",
       "<style scoped>\n",
       "    .dataframe tbody tr th:only-of-type {\n",
       "        vertical-align: middle;\n",
       "    }\n",
       "\n",
       "    .dataframe tbody tr th {\n",
       "        vertical-align: top;\n",
       "    }\n",
       "\n",
       "    .dataframe thead th {\n",
       "        text-align: right;\n",
       "    }\n",
       "</style>\n",
       "<table border=\"1\" class=\"dataframe\">\n",
       "  <thead>\n",
       "    <tr style=\"text-align: right;\">\n",
       "      <th></th>\n",
       "      <th>name</th>\n",
       "      <th>Age</th>\n",
       "      <th>weight</th>\n",
       "      <th>height</th>\n",
       "      <th>Department</th>\n",
       "      <th>income</th>\n",
       "    </tr>\n",
       "  </thead>\n",
       "  <tbody>\n",
       "    <tr>\n",
       "      <th>1</th>\n",
       "      <td>Arbaz</td>\n",
       "      <td>45</td>\n",
       "      <td>12</td>\n",
       "      <td>19</td>\n",
       "      <td>Sales</td>\n",
       "      <td>5000</td>\n",
       "    </tr>\n",
       "    <tr>\n",
       "      <th>4</th>\n",
       "      <td>SUbham</td>\n",
       "      <td>25</td>\n",
       "      <td>75</td>\n",
       "      <td>64</td>\n",
       "      <td>Sales</td>\n",
       "      <td>7000</td>\n",
       "    </tr>\n",
       "  </tbody>\n",
       "</table>\n",
       "</div>"
      ],
      "text/plain": [
       "     name  Age  weight  height Department  income\n",
       "1   Arbaz   45      12      19      Sales    5000\n",
       "4  SUbham   25      75      64      Sales    7000"
      ]
     },
     "execution_count": 87,
     "metadata": {},
     "output_type": "execute_result"
    }
   ],
   "source": [
    "# filtering the data using multiple condition with logical condition (&--> bitwise and , |--> bitwise or , ~ --> bitwise not) \n",
    "df1[(df1['Age']>20) & (df1['Department']=='Sales')]"
   ]
  },
  {
   "cell_type": "code",
   "execution_count": 88,
   "id": "546e8cb6-c08c-403e-b5fa-82bc843d5499",
   "metadata": {},
   "outputs": [
    {
     "data": {
      "text/html": [
       "<div>\n",
       "<style scoped>\n",
       "    .dataframe tbody tr th:only-of-type {\n",
       "        vertical-align: middle;\n",
       "    }\n",
       "\n",
       "    .dataframe tbody tr th {\n",
       "        vertical-align: top;\n",
       "    }\n",
       "\n",
       "    .dataframe thead th {\n",
       "        text-align: right;\n",
       "    }\n",
       "</style>\n",
       "<table border=\"1\" class=\"dataframe\">\n",
       "  <thead>\n",
       "    <tr style=\"text-align: right;\">\n",
       "      <th></th>\n",
       "      <th>name</th>\n",
       "      <th>Age</th>\n",
       "      <th>weight</th>\n",
       "      <th>height</th>\n",
       "      <th>Department</th>\n",
       "      <th>income</th>\n",
       "    </tr>\n",
       "  </thead>\n",
       "  <tbody>\n",
       "    <tr>\n",
       "      <th>4</th>\n",
       "      <td>SUbham</td>\n",
       "      <td>25</td>\n",
       "      <td>75</td>\n",
       "      <td>64</td>\n",
       "      <td>Sales</td>\n",
       "      <td>7000</td>\n",
       "    </tr>\n",
       "  </tbody>\n",
       "</table>\n",
       "</div>"
      ],
      "text/plain": [
       "     name  Age  weight  height Department  income\n",
       "4  SUbham   25      75      64      Sales    7000"
      ]
     },
     "execution_count": 88,
     "metadata": {},
     "output_type": "execute_result"
    }
   ],
   "source": [
    "df1[(df1['Age']==25) & (df1['Department']=='Sales')]"
   ]
  },
  {
   "cell_type": "code",
   "execution_count": 89,
   "id": "a44a805c-efe1-4f9e-88ea-2257ef91deba",
   "metadata": {},
   "outputs": [
    {
     "data": {
      "text/html": [
       "<div>\n",
       "<style scoped>\n",
       "    .dataframe tbody tr th:only-of-type {\n",
       "        vertical-align: middle;\n",
       "    }\n",
       "\n",
       "    .dataframe tbody tr th {\n",
       "        vertical-align: top;\n",
       "    }\n",
       "\n",
       "    .dataframe thead th {\n",
       "        text-align: right;\n",
       "    }\n",
       "</style>\n",
       "<table border=\"1\" class=\"dataframe\">\n",
       "  <thead>\n",
       "    <tr style=\"text-align: right;\">\n",
       "      <th></th>\n",
       "      <th>name</th>\n",
       "      <th>Age</th>\n",
       "      <th>weight</th>\n",
       "      <th>height</th>\n",
       "      <th>Department</th>\n",
       "      <th>income</th>\n",
       "    </tr>\n",
       "  </thead>\n",
       "  <tbody>\n",
       "    <tr>\n",
       "      <th>0</th>\n",
       "      <td>Salman</td>\n",
       "      <td>9</td>\n",
       "      <td>16</td>\n",
       "      <td>14</td>\n",
       "      <td>Information Technology</td>\n",
       "      <td>4000</td>\n",
       "    </tr>\n",
       "    <tr>\n",
       "      <th>1</th>\n",
       "      <td>Arbaz</td>\n",
       "      <td>45</td>\n",
       "      <td>12</td>\n",
       "      <td>19</td>\n",
       "      <td>Sales</td>\n",
       "      <td>5000</td>\n",
       "    </tr>\n",
       "    <tr>\n",
       "      <th>2</th>\n",
       "      <td>Sohail</td>\n",
       "      <td>12</td>\n",
       "      <td>9</td>\n",
       "      <td>8</td>\n",
       "      <td>Human Resource</td>\n",
       "      <td>6000</td>\n",
       "    </tr>\n",
       "    <tr>\n",
       "      <th>3</th>\n",
       "      <td>Neil</td>\n",
       "      <td>3</td>\n",
       "      <td>18</td>\n",
       "      <td>12</td>\n",
       "      <td>Healthcare</td>\n",
       "      <td>70000</td>\n",
       "    </tr>\n",
       "    <tr>\n",
       "      <th>5</th>\n",
       "      <td>Sakshi</td>\n",
       "      <td>27</td>\n",
       "      <td>80</td>\n",
       "      <td>64</td>\n",
       "      <td>Automotive</td>\n",
       "      <td>7000</td>\n",
       "    </tr>\n",
       "    <tr>\n",
       "      <th>6</th>\n",
       "      <td>roahan</td>\n",
       "      <td>25</td>\n",
       "      <td>77</td>\n",
       "      <td>64</td>\n",
       "      <td>Human Resource</td>\n",
       "      <td>9000</td>\n",
       "    </tr>\n",
       "    <tr>\n",
       "      <th>7</th>\n",
       "      <td>priyashu</td>\n",
       "      <td>30</td>\n",
       "      <td>60</td>\n",
       "      <td>64</td>\n",
       "      <td>Information Technology</td>\n",
       "      <td>10000</td>\n",
       "    </tr>\n",
       "  </tbody>\n",
       "</table>\n",
       "</div>"
      ],
      "text/plain": [
       "       name  Age  weight  height              Department  income\n",
       "0    Salman    9      16      14  Information Technology    4000\n",
       "1     Arbaz   45      12      19                   Sales    5000\n",
       "2    Sohail   12       9       8          Human Resource    6000\n",
       "3      Neil    3      18      12              Healthcare   70000\n",
       "5    Sakshi   27      80      64              Automotive    7000\n",
       "6    roahan   25      77      64          Human Resource    9000\n",
       "7  priyashu   30      60      64  Information Technology   10000"
      ]
     },
     "execution_count": 89,
     "metadata": {},
     "output_type": "execute_result"
    }
   ],
   "source": [
    "df1[~((df1['Age']==25) & (df1['Department']=='Sales'))]"
   ]
  },
  {
   "cell_type": "code",
   "execution_count": 90,
   "id": "a4df9feb-08a9-46ed-9f02-744c5430e052",
   "metadata": {},
   "outputs": [
    {
     "data": {
      "text/html": [
       "<div>\n",
       "<style scoped>\n",
       "    .dataframe tbody tr th:only-of-type {\n",
       "        vertical-align: middle;\n",
       "    }\n",
       "\n",
       "    .dataframe tbody tr th {\n",
       "        vertical-align: top;\n",
       "    }\n",
       "\n",
       "    .dataframe thead th {\n",
       "        text-align: right;\n",
       "    }\n",
       "</style>\n",
       "<table border=\"1\" class=\"dataframe\">\n",
       "  <thead>\n",
       "    <tr style=\"text-align: right;\">\n",
       "      <th></th>\n",
       "      <th>name</th>\n",
       "      <th>Age</th>\n",
       "      <th>weight</th>\n",
       "      <th>height</th>\n",
       "      <th>Department</th>\n",
       "      <th>income</th>\n",
       "    </tr>\n",
       "  </thead>\n",
       "  <tbody>\n",
       "    <tr>\n",
       "      <th>0</th>\n",
       "      <td>Salman</td>\n",
       "      <td>9</td>\n",
       "      <td>16</td>\n",
       "      <td>14</td>\n",
       "      <td>Information Technology</td>\n",
       "      <td>4000</td>\n",
       "    </tr>\n",
       "    <tr>\n",
       "      <th>2</th>\n",
       "      <td>Sohail</td>\n",
       "      <td>12</td>\n",
       "      <td>9</td>\n",
       "      <td>8</td>\n",
       "      <td>Human Resource</td>\n",
       "      <td>6000</td>\n",
       "    </tr>\n",
       "    <tr>\n",
       "      <th>3</th>\n",
       "      <td>Neil</td>\n",
       "      <td>3</td>\n",
       "      <td>18</td>\n",
       "      <td>12</td>\n",
       "      <td>Healthcare</td>\n",
       "      <td>70000</td>\n",
       "    </tr>\n",
       "    <tr>\n",
       "      <th>5</th>\n",
       "      <td>Sakshi</td>\n",
       "      <td>27</td>\n",
       "      <td>80</td>\n",
       "      <td>64</td>\n",
       "      <td>Automotive</td>\n",
       "      <td>7000</td>\n",
       "    </tr>\n",
       "    <tr>\n",
       "      <th>7</th>\n",
       "      <td>priyashu</td>\n",
       "      <td>30</td>\n",
       "      <td>60</td>\n",
       "      <td>64</td>\n",
       "      <td>Information Technology</td>\n",
       "      <td>10000</td>\n",
       "    </tr>\n",
       "  </tbody>\n",
       "</table>\n",
       "</div>"
      ],
      "text/plain": [
       "       name  Age  weight  height              Department  income\n",
       "0    Salman    9      16      14  Information Technology    4000\n",
       "2    Sohail   12       9       8          Human Resource    6000\n",
       "3      Neil    3      18      12              Healthcare   70000\n",
       "5    Sakshi   27      80      64              Automotive    7000\n",
       "7  priyashu   30      60      64  Information Technology   10000"
      ]
     },
     "execution_count": 90,
     "metadata": {},
     "output_type": "execute_result"
    }
   ],
   "source": [
    "df1[~((df1['Age']==25) | (df1['Department']=='Sales'))]"
   ]
  },
  {
   "cell_type": "code",
   "execution_count": 91,
   "id": "88b67453-7a34-43d4-ba16-633ad162d320",
   "metadata": {},
   "outputs": [],
   "source": [
    "# 01-august"
   ]
  },
  {
   "cell_type": "markdown",
   "id": "efff1748-e86b-4e5d-8766-efcc76deaa4f",
   "metadata": {},
   "source": [
    "##### loc and iloc method"
   ]
  },
  {
   "cell_type": "code",
   "execution_count": 92,
   "id": "d92bb81c-a375-4f76-a44b-44f483ccf7b7",
   "metadata": {},
   "outputs": [
    {
     "data": {
      "text/html": [
       "<div>\n",
       "<style scoped>\n",
       "    .dataframe tbody tr th:only-of-type {\n",
       "        vertical-align: middle;\n",
       "    }\n",
       "\n",
       "    .dataframe tbody tr th {\n",
       "        vertical-align: top;\n",
       "    }\n",
       "\n",
       "    .dataframe thead th {\n",
       "        text-align: right;\n",
       "    }\n",
       "</style>\n",
       "<table border=\"1\" class=\"dataframe\">\n",
       "  <thead>\n",
       "    <tr style=\"text-align: right;\">\n",
       "      <th></th>\n",
       "      <th>name</th>\n",
       "      <th>Age</th>\n",
       "      <th>weight</th>\n",
       "      <th>height</th>\n",
       "      <th>Department</th>\n",
       "      <th>income</th>\n",
       "    </tr>\n",
       "  </thead>\n",
       "  <tbody>\n",
       "    <tr>\n",
       "      <th>0</th>\n",
       "      <td>Salman</td>\n",
       "      <td>9</td>\n",
       "      <td>16</td>\n",
       "      <td>14</td>\n",
       "      <td>Information Technology</td>\n",
       "      <td>4000</td>\n",
       "    </tr>\n",
       "    <tr>\n",
       "      <th>1</th>\n",
       "      <td>Arbaz</td>\n",
       "      <td>45</td>\n",
       "      <td>12</td>\n",
       "      <td>19</td>\n",
       "      <td>Sales</td>\n",
       "      <td>5000</td>\n",
       "    </tr>\n",
       "    <tr>\n",
       "      <th>2</th>\n",
       "      <td>Sohail</td>\n",
       "      <td>12</td>\n",
       "      <td>9</td>\n",
       "      <td>8</td>\n",
       "      <td>Human Resource</td>\n",
       "      <td>6000</td>\n",
       "    </tr>\n",
       "    <tr>\n",
       "      <th>3</th>\n",
       "      <td>Neil</td>\n",
       "      <td>3</td>\n",
       "      <td>18</td>\n",
       "      <td>12</td>\n",
       "      <td>Healthcare</td>\n",
       "      <td>70000</td>\n",
       "    </tr>\n",
       "    <tr>\n",
       "      <th>4</th>\n",
       "      <td>SUbham</td>\n",
       "      <td>25</td>\n",
       "      <td>75</td>\n",
       "      <td>64</td>\n",
       "      <td>Sales</td>\n",
       "      <td>7000</td>\n",
       "    </tr>\n",
       "    <tr>\n",
       "      <th>5</th>\n",
       "      <td>Sakshi</td>\n",
       "      <td>27</td>\n",
       "      <td>80</td>\n",
       "      <td>64</td>\n",
       "      <td>Automotive</td>\n",
       "      <td>7000</td>\n",
       "    </tr>\n",
       "    <tr>\n",
       "      <th>6</th>\n",
       "      <td>roahan</td>\n",
       "      <td>25</td>\n",
       "      <td>77</td>\n",
       "      <td>64</td>\n",
       "      <td>Human Resource</td>\n",
       "      <td>9000</td>\n",
       "    </tr>\n",
       "    <tr>\n",
       "      <th>7</th>\n",
       "      <td>priyashu</td>\n",
       "      <td>30</td>\n",
       "      <td>60</td>\n",
       "      <td>64</td>\n",
       "      <td>Information Technology</td>\n",
       "      <td>10000</td>\n",
       "    </tr>\n",
       "  </tbody>\n",
       "</table>\n",
       "</div>"
      ],
      "text/plain": [
       "       name  Age  weight  height              Department  income\n",
       "0    Salman    9      16      14  Information Technology    4000\n",
       "1     Arbaz   45      12      19                   Sales    5000\n",
       "2    Sohail   12       9       8          Human Resource    6000\n",
       "3      Neil    3      18      12              Healthcare   70000\n",
       "4    SUbham   25      75      64                   Sales    7000\n",
       "5    Sakshi   27      80      64              Automotive    7000\n",
       "6    roahan   25      77      64          Human Resource    9000\n",
       "7  priyashu   30      60      64  Information Technology   10000"
      ]
     },
     "execution_count": 92,
     "metadata": {},
     "output_type": "execute_result"
    }
   ],
   "source": [
    "df1"
   ]
  },
  {
   "cell_type": "code",
   "execution_count": 93,
   "id": "65fcf05a-5fad-464f-aecf-0e96d7595330",
   "metadata": {},
   "outputs": [
    {
     "data": {
      "text/plain": [
       "name                          Salman\n",
       "Age                                9\n",
       "weight                            16\n",
       "height                            14\n",
       "Department    Information Technology\n",
       "income                          4000\n",
       "Name: 0, dtype: object"
      ]
     },
     "execution_count": 93,
     "metadata": {},
     "output_type": "execute_result"
    }
   ],
   "source": [
    "df1.loc[0]"
   ]
  },
  {
   "cell_type": "code",
   "execution_count": 94,
   "id": "bdb9c5aa-2b91-4cdf-9d45-c81a3f9abd50",
   "metadata": {},
   "outputs": [
    {
     "data": {
      "text/html": [
       "<div>\n",
       "<style scoped>\n",
       "    .dataframe tbody tr th:only-of-type {\n",
       "        vertical-align: middle;\n",
       "    }\n",
       "\n",
       "    .dataframe tbody tr th {\n",
       "        vertical-align: top;\n",
       "    }\n",
       "\n",
       "    .dataframe thead th {\n",
       "        text-align: right;\n",
       "    }\n",
       "</style>\n",
       "<table border=\"1\" class=\"dataframe\">\n",
       "  <thead>\n",
       "    <tr style=\"text-align: right;\">\n",
       "      <th></th>\n",
       "      <th>name</th>\n",
       "      <th>Age</th>\n",
       "      <th>weight</th>\n",
       "      <th>height</th>\n",
       "      <th>Department</th>\n",
       "      <th>income</th>\n",
       "    </tr>\n",
       "  </thead>\n",
       "  <tbody>\n",
       "    <tr>\n",
       "      <th>0</th>\n",
       "      <td>Salman</td>\n",
       "      <td>9</td>\n",
       "      <td>16</td>\n",
       "      <td>14</td>\n",
       "      <td>Information Technology</td>\n",
       "      <td>4000</td>\n",
       "    </tr>\n",
       "    <tr>\n",
       "      <th>5</th>\n",
       "      <td>Sakshi</td>\n",
       "      <td>27</td>\n",
       "      <td>80</td>\n",
       "      <td>64</td>\n",
       "      <td>Automotive</td>\n",
       "      <td>7000</td>\n",
       "    </tr>\n",
       "  </tbody>\n",
       "</table>\n",
       "</div>"
      ],
      "text/plain": [
       "     name  Age  weight  height              Department  income\n",
       "0  Salman    9      16      14  Information Technology    4000\n",
       "5  Sakshi   27      80      64              Automotive    7000"
      ]
     },
     "execution_count": 94,
     "metadata": {},
     "output_type": "execute_result"
    }
   ],
   "source": [
    "df1.loc[[0,5]]"
   ]
  },
  {
   "cell_type": "code",
   "execution_count": 95,
   "id": "0221e472-2441-4ee2-8e33-a045681aa63a",
   "metadata": {},
   "outputs": [
    {
     "data": {
      "text/plain": [
       "0    Salman\n",
       "5    Sakshi\n",
       "Name: name, dtype: object"
      ]
     },
     "execution_count": 95,
     "metadata": {},
     "output_type": "execute_result"
    }
   ],
   "source": [
    "df1.loc[[0,5],'name']"
   ]
  },
  {
   "cell_type": "code",
   "execution_count": 96,
   "id": "695aac45-adb7-4357-9426-52cb5d4f7b20",
   "metadata": {},
   "outputs": [
    {
     "data": {
      "text/html": [
       "<div>\n",
       "<style scoped>\n",
       "    .dataframe tbody tr th:only-of-type {\n",
       "        vertical-align: middle;\n",
       "    }\n",
       "\n",
       "    .dataframe tbody tr th {\n",
       "        vertical-align: top;\n",
       "    }\n",
       "\n",
       "    .dataframe thead th {\n",
       "        text-align: right;\n",
       "    }\n",
       "</style>\n",
       "<table border=\"1\" class=\"dataframe\">\n",
       "  <thead>\n",
       "    <tr style=\"text-align: right;\">\n",
       "      <th></th>\n",
       "      <th>name</th>\n",
       "      <th>Department</th>\n",
       "    </tr>\n",
       "  </thead>\n",
       "  <tbody>\n",
       "    <tr>\n",
       "      <th>0</th>\n",
       "      <td>Salman</td>\n",
       "      <td>Information Technology</td>\n",
       "    </tr>\n",
       "    <tr>\n",
       "      <th>5</th>\n",
       "      <td>Sakshi</td>\n",
       "      <td>Automotive</td>\n",
       "    </tr>\n",
       "  </tbody>\n",
       "</table>\n",
       "</div>"
      ],
      "text/plain": [
       "     name              Department\n",
       "0  Salman  Information Technology\n",
       "5  Sakshi              Automotive"
      ]
     },
     "execution_count": 96,
     "metadata": {},
     "output_type": "execute_result"
    }
   ],
   "source": [
    "df1.loc[[0,5],['name','Department']] # indexing"
   ]
  },
  {
   "cell_type": "code",
   "execution_count": 97,
   "id": "710f7d2d-6b29-40a8-b6c8-1151a3ed9880",
   "metadata": {},
   "outputs": [
    {
     "data": {
      "text/html": [
       "<div>\n",
       "<style scoped>\n",
       "    .dataframe tbody tr th:only-of-type {\n",
       "        vertical-align: middle;\n",
       "    }\n",
       "\n",
       "    .dataframe tbody tr th {\n",
       "        vertical-align: top;\n",
       "    }\n",
       "\n",
       "    .dataframe thead th {\n",
       "        text-align: right;\n",
       "    }\n",
       "</style>\n",
       "<table border=\"1\" class=\"dataframe\">\n",
       "  <thead>\n",
       "    <tr style=\"text-align: right;\">\n",
       "      <th></th>\n",
       "      <th>name</th>\n",
       "      <th>Department</th>\n",
       "    </tr>\n",
       "  </thead>\n",
       "  <tbody>\n",
       "    <tr>\n",
       "      <th>0</th>\n",
       "      <td>Salman</td>\n",
       "      <td>Information Technology</td>\n",
       "    </tr>\n",
       "    <tr>\n",
       "      <th>1</th>\n",
       "      <td>Arbaz</td>\n",
       "      <td>Sales</td>\n",
       "    </tr>\n",
       "    <tr>\n",
       "      <th>2</th>\n",
       "      <td>Sohail</td>\n",
       "      <td>Human Resource</td>\n",
       "    </tr>\n",
       "    <tr>\n",
       "      <th>3</th>\n",
       "      <td>Neil</td>\n",
       "      <td>Healthcare</td>\n",
       "    </tr>\n",
       "    <tr>\n",
       "      <th>4</th>\n",
       "      <td>SUbham</td>\n",
       "      <td>Sales</td>\n",
       "    </tr>\n",
       "    <tr>\n",
       "      <th>5</th>\n",
       "      <td>Sakshi</td>\n",
       "      <td>Automotive</td>\n",
       "    </tr>\n",
       "  </tbody>\n",
       "</table>\n",
       "</div>"
      ],
      "text/plain": [
       "     name              Department\n",
       "0  Salman  Information Technology\n",
       "1   Arbaz                   Sales\n",
       "2  Sohail          Human Resource\n",
       "3    Neil              Healthcare\n",
       "4  SUbham                   Sales\n",
       "5  Sakshi              Automotive"
      ]
     },
     "execution_count": 97,
     "metadata": {},
     "output_type": "execute_result"
    }
   ],
   "source": [
    "df1.loc[0:5,['name','Department']] # slicing"
   ]
  },
  {
   "cell_type": "code",
   "execution_count": 98,
   "id": "7c45cab8-d6c5-41b2-99b0-013b170e1cc9",
   "metadata": {},
   "outputs": [
    {
     "data": {
      "text/html": [
       "<div>\n",
       "<style scoped>\n",
       "    .dataframe tbody tr th:only-of-type {\n",
       "        vertical-align: middle;\n",
       "    }\n",
       "\n",
       "    .dataframe tbody tr th {\n",
       "        vertical-align: top;\n",
       "    }\n",
       "\n",
       "    .dataframe thead th {\n",
       "        text-align: right;\n",
       "    }\n",
       "</style>\n",
       "<table border=\"1\" class=\"dataframe\">\n",
       "  <thead>\n",
       "    <tr style=\"text-align: right;\">\n",
       "      <th></th>\n",
       "      <th>name</th>\n",
       "      <th>Age</th>\n",
       "      <th>weight</th>\n",
       "      <th>height</th>\n",
       "      <th>Department</th>\n",
       "    </tr>\n",
       "  </thead>\n",
       "  <tbody>\n",
       "    <tr>\n",
       "      <th>0</th>\n",
       "      <td>Salman</td>\n",
       "      <td>9</td>\n",
       "      <td>16</td>\n",
       "      <td>14</td>\n",
       "      <td>Information Technology</td>\n",
       "    </tr>\n",
       "    <tr>\n",
       "      <th>1</th>\n",
       "      <td>Arbaz</td>\n",
       "      <td>45</td>\n",
       "      <td>12</td>\n",
       "      <td>19</td>\n",
       "      <td>Sales</td>\n",
       "    </tr>\n",
       "    <tr>\n",
       "      <th>2</th>\n",
       "      <td>Sohail</td>\n",
       "      <td>12</td>\n",
       "      <td>9</td>\n",
       "      <td>8</td>\n",
       "      <td>Human Resource</td>\n",
       "    </tr>\n",
       "    <tr>\n",
       "      <th>3</th>\n",
       "      <td>Neil</td>\n",
       "      <td>3</td>\n",
       "      <td>18</td>\n",
       "      <td>12</td>\n",
       "      <td>Healthcare</td>\n",
       "    </tr>\n",
       "    <tr>\n",
       "      <th>4</th>\n",
       "      <td>SUbham</td>\n",
       "      <td>25</td>\n",
       "      <td>75</td>\n",
       "      <td>64</td>\n",
       "      <td>Sales</td>\n",
       "    </tr>\n",
       "    <tr>\n",
       "      <th>5</th>\n",
       "      <td>Sakshi</td>\n",
       "      <td>27</td>\n",
       "      <td>80</td>\n",
       "      <td>64</td>\n",
       "      <td>Automotive</td>\n",
       "    </tr>\n",
       "  </tbody>\n",
       "</table>\n",
       "</div>"
      ],
      "text/plain": [
       "     name  Age  weight  height              Department\n",
       "0  Salman    9      16      14  Information Technology\n",
       "1   Arbaz   45      12      19                   Sales\n",
       "2  Sohail   12       9       8          Human Resource\n",
       "3    Neil    3      18      12              Healthcare\n",
       "4  SUbham   25      75      64                   Sales\n",
       "5  Sakshi   27      80      64              Automotive"
      ]
     },
     "execution_count": 98,
     "metadata": {},
     "output_type": "execute_result"
    }
   ],
   "source": [
    "df1.loc[0:5,'name':'Department'] # slicing"
   ]
  },
  {
   "cell_type": "markdown",
   "id": "e6ed18b6-2f81-4237-9dc2-0034fe2359c2",
   "metadata": {},
   "source": [
    "##### iloc method"
   ]
  },
  {
   "cell_type": "code",
   "execution_count": 99,
   "id": "aca58f94-d081-4c9d-a4e7-84c95d6070b4",
   "metadata": {},
   "outputs": [
    {
     "data": {
      "text/plain": [
       "name                          Salman\n",
       "Age                                9\n",
       "weight                            16\n",
       "height                            14\n",
       "Department    Information Technology\n",
       "income                          4000\n",
       "Name: 0, dtype: object"
      ]
     },
     "execution_count": 99,
     "metadata": {},
     "output_type": "execute_result"
    }
   ],
   "source": [
    "df1.iloc[0]"
   ]
  },
  {
   "cell_type": "code",
   "execution_count": 100,
   "id": "bad72365-9640-4b64-ab09-5254de42c324",
   "metadata": {},
   "outputs": [
    {
     "data": {
      "text/html": [
       "<div>\n",
       "<style scoped>\n",
       "    .dataframe tbody tr th:only-of-type {\n",
       "        vertical-align: middle;\n",
       "    }\n",
       "\n",
       "    .dataframe tbody tr th {\n",
       "        vertical-align: top;\n",
       "    }\n",
       "\n",
       "    .dataframe thead th {\n",
       "        text-align: right;\n",
       "    }\n",
       "</style>\n",
       "<table border=\"1\" class=\"dataframe\">\n",
       "  <thead>\n",
       "    <tr style=\"text-align: right;\">\n",
       "      <th></th>\n",
       "      <th>name</th>\n",
       "      <th>Department</th>\n",
       "    </tr>\n",
       "  </thead>\n",
       "  <tbody>\n",
       "    <tr>\n",
       "      <th>0</th>\n",
       "      <td>Salman</td>\n",
       "      <td>Information Technology</td>\n",
       "    </tr>\n",
       "    <tr>\n",
       "      <th>5</th>\n",
       "      <td>Sakshi</td>\n",
       "      <td>Automotive</td>\n",
       "    </tr>\n",
       "  </tbody>\n",
       "</table>\n",
       "</div>"
      ],
      "text/plain": [
       "     name              Department\n",
       "0  Salman  Information Technology\n",
       "5  Sakshi              Automotive"
      ]
     },
     "execution_count": 100,
     "metadata": {},
     "output_type": "execute_result"
    }
   ],
   "source": [
    "df1.iloc[[0,5],[0,4]]"
   ]
  },
  {
   "cell_type": "code",
   "execution_count": 101,
   "id": "0947bdf0-3470-48de-9444-ae23d88e09a5",
   "metadata": {},
   "outputs": [
    {
     "data": {
      "text/html": [
       "<div>\n",
       "<style scoped>\n",
       "    .dataframe tbody tr th:only-of-type {\n",
       "        vertical-align: middle;\n",
       "    }\n",
       "\n",
       "    .dataframe tbody tr th {\n",
       "        vertical-align: top;\n",
       "    }\n",
       "\n",
       "    .dataframe thead th {\n",
       "        text-align: right;\n",
       "    }\n",
       "</style>\n",
       "<table border=\"1\" class=\"dataframe\">\n",
       "  <thead>\n",
       "    <tr style=\"text-align: right;\">\n",
       "      <th></th>\n",
       "      <th>name</th>\n",
       "      <th>Department</th>\n",
       "    </tr>\n",
       "  </thead>\n",
       "  <tbody>\n",
       "    <tr>\n",
       "      <th>0</th>\n",
       "      <td>Salman</td>\n",
       "      <td>Information Technology</td>\n",
       "    </tr>\n",
       "    <tr>\n",
       "      <th>1</th>\n",
       "      <td>Arbaz</td>\n",
       "      <td>Sales</td>\n",
       "    </tr>\n",
       "    <tr>\n",
       "      <th>2</th>\n",
       "      <td>Sohail</td>\n",
       "      <td>Human Resource</td>\n",
       "    </tr>\n",
       "    <tr>\n",
       "      <th>3</th>\n",
       "      <td>Neil</td>\n",
       "      <td>Healthcare</td>\n",
       "    </tr>\n",
       "    <tr>\n",
       "      <th>4</th>\n",
       "      <td>SUbham</td>\n",
       "      <td>Sales</td>\n",
       "    </tr>\n",
       "  </tbody>\n",
       "</table>\n",
       "</div>"
      ],
      "text/plain": [
       "     name              Department\n",
       "0  Salman  Information Technology\n",
       "1   Arbaz                   Sales\n",
       "2  Sohail          Human Resource\n",
       "3    Neil              Healthcare\n",
       "4  SUbham                   Sales"
      ]
     },
     "execution_count": 101,
     "metadata": {},
     "output_type": "execute_result"
    }
   ],
   "source": [
    "df1.iloc[0:5,[0,4]]"
   ]
  },
  {
   "cell_type": "code",
   "execution_count": 102,
   "id": "66033f8c-a46f-4364-83ae-29717e238e04",
   "metadata": {},
   "outputs": [
    {
     "data": {
      "text/html": [
       "<div>\n",
       "<style scoped>\n",
       "    .dataframe tbody tr th:only-of-type {\n",
       "        vertical-align: middle;\n",
       "    }\n",
       "\n",
       "    .dataframe tbody tr th {\n",
       "        vertical-align: top;\n",
       "    }\n",
       "\n",
       "    .dataframe thead th {\n",
       "        text-align: right;\n",
       "    }\n",
       "</style>\n",
       "<table border=\"1\" class=\"dataframe\">\n",
       "  <thead>\n",
       "    <tr style=\"text-align: right;\">\n",
       "      <th></th>\n",
       "      <th>name</th>\n",
       "      <th>Age</th>\n",
       "      <th>weight</th>\n",
       "      <th>height</th>\n",
       "      <th>Department</th>\n",
       "    </tr>\n",
       "  </thead>\n",
       "  <tbody>\n",
       "    <tr>\n",
       "      <th>0</th>\n",
       "      <td>Salman</td>\n",
       "      <td>9</td>\n",
       "      <td>16</td>\n",
       "      <td>14</td>\n",
       "      <td>Information Technology</td>\n",
       "    </tr>\n",
       "    <tr>\n",
       "      <th>1</th>\n",
       "      <td>Arbaz</td>\n",
       "      <td>45</td>\n",
       "      <td>12</td>\n",
       "      <td>19</td>\n",
       "      <td>Sales</td>\n",
       "    </tr>\n",
       "    <tr>\n",
       "      <th>2</th>\n",
       "      <td>Sohail</td>\n",
       "      <td>12</td>\n",
       "      <td>9</td>\n",
       "      <td>8</td>\n",
       "      <td>Human Resource</td>\n",
       "    </tr>\n",
       "    <tr>\n",
       "      <th>3</th>\n",
       "      <td>Neil</td>\n",
       "      <td>3</td>\n",
       "      <td>18</td>\n",
       "      <td>12</td>\n",
       "      <td>Healthcare</td>\n",
       "    </tr>\n",
       "    <tr>\n",
       "      <th>4</th>\n",
       "      <td>SUbham</td>\n",
       "      <td>25</td>\n",
       "      <td>75</td>\n",
       "      <td>64</td>\n",
       "      <td>Sales</td>\n",
       "    </tr>\n",
       "    <tr>\n",
       "      <th>5</th>\n",
       "      <td>Sakshi</td>\n",
       "      <td>27</td>\n",
       "      <td>80</td>\n",
       "      <td>64</td>\n",
       "      <td>Automotive</td>\n",
       "    </tr>\n",
       "  </tbody>\n",
       "</table>\n",
       "</div>"
      ],
      "text/plain": [
       "     name  Age  weight  height              Department\n",
       "0  Salman    9      16      14  Information Technology\n",
       "1   Arbaz   45      12      19                   Sales\n",
       "2  Sohail   12       9       8          Human Resource\n",
       "3    Neil    3      18      12              Healthcare\n",
       "4  SUbham   25      75      64                   Sales\n",
       "5  Sakshi   27      80      64              Automotive"
      ]
     },
     "execution_count": 102,
     "metadata": {},
     "output_type": "execute_result"
    }
   ],
   "source": [
    "df1.iloc[0:6,0:5]"
   ]
  },
  {
   "cell_type": "markdown",
   "id": "b236d2c8-26a7-4529-ba22-36100def4df8",
   "metadata": {},
   "source": [
    "##### filtering columns with filter() and regex"
   ]
  },
  {
   "cell_type": "code",
   "execution_count": 103,
   "id": "2f2b53bd-735c-4c67-9ef8-10aef073c36c",
   "metadata": {},
   "outputs": [
    {
     "data": {
      "text/html": [
       "<div>\n",
       "<style scoped>\n",
       "    .dataframe tbody tr th:only-of-type {\n",
       "        vertical-align: middle;\n",
       "    }\n",
       "\n",
       "    .dataframe tbody tr th {\n",
       "        vertical-align: top;\n",
       "    }\n",
       "\n",
       "    .dataframe thead th {\n",
       "        text-align: right;\n",
       "    }\n",
       "</style>\n",
       "<table border=\"1\" class=\"dataframe\">\n",
       "  <thead>\n",
       "    <tr style=\"text-align: right;\">\n",
       "      <th></th>\n",
       "      <th>name</th>\n",
       "      <th>Department</th>\n",
       "    </tr>\n",
       "  </thead>\n",
       "  <tbody>\n",
       "    <tr>\n",
       "      <th>0</th>\n",
       "      <td>Salman</td>\n",
       "      <td>Information Technology</td>\n",
       "    </tr>\n",
       "    <tr>\n",
       "      <th>1</th>\n",
       "      <td>Arbaz</td>\n",
       "      <td>Sales</td>\n",
       "    </tr>\n",
       "    <tr>\n",
       "      <th>2</th>\n",
       "      <td>Sohail</td>\n",
       "      <td>Human Resource</td>\n",
       "    </tr>\n",
       "    <tr>\n",
       "      <th>3</th>\n",
       "      <td>Neil</td>\n",
       "      <td>Healthcare</td>\n",
       "    </tr>\n",
       "    <tr>\n",
       "      <th>4</th>\n",
       "      <td>SUbham</td>\n",
       "      <td>Sales</td>\n",
       "    </tr>\n",
       "    <tr>\n",
       "      <th>5</th>\n",
       "      <td>Sakshi</td>\n",
       "      <td>Automotive</td>\n",
       "    </tr>\n",
       "    <tr>\n",
       "      <th>6</th>\n",
       "      <td>roahan</td>\n",
       "      <td>Human Resource</td>\n",
       "    </tr>\n",
       "    <tr>\n",
       "      <th>7</th>\n",
       "      <td>priyashu</td>\n",
       "      <td>Information Technology</td>\n",
       "    </tr>\n",
       "  </tbody>\n",
       "</table>\n",
       "</div>"
      ],
      "text/plain": [
       "       name              Department\n",
       "0    Salman  Information Technology\n",
       "1     Arbaz                   Sales\n",
       "2    Sohail          Human Resource\n",
       "3      Neil              Healthcare\n",
       "4    SUbham                   Sales\n",
       "5    Sakshi              Automotive\n",
       "6    roahan          Human Resource\n",
       "7  priyashu  Information Technology"
      ]
     },
     "execution_count": 103,
     "metadata": {},
     "output_type": "execute_result"
    }
   ],
   "source": [
    "df1.filter(regex='a')"
   ]
  },
  {
   "cell_type": "code",
   "execution_count": 104,
   "id": "df16f134-ce80-4935-8388-ea200631047e",
   "metadata": {},
   "outputs": [
    {
     "data": {
      "text/html": [
       "<div>\n",
       "<style scoped>\n",
       "    .dataframe tbody tr th:only-of-type {\n",
       "        vertical-align: middle;\n",
       "    }\n",
       "\n",
       "    .dataframe tbody tr th {\n",
       "        vertical-align: top;\n",
       "    }\n",
       "\n",
       "    .dataframe thead th {\n",
       "        text-align: right;\n",
       "    }\n",
       "</style>\n",
       "<table border=\"1\" class=\"dataframe\">\n",
       "  <thead>\n",
       "    <tr style=\"text-align: right;\">\n",
       "      <th></th>\n",
       "      <th>Department</th>\n",
       "    </tr>\n",
       "  </thead>\n",
       "  <tbody>\n",
       "    <tr>\n",
       "      <th>0</th>\n",
       "      <td>Information Technology</td>\n",
       "    </tr>\n",
       "    <tr>\n",
       "      <th>1</th>\n",
       "      <td>Sales</td>\n",
       "    </tr>\n",
       "    <tr>\n",
       "      <th>2</th>\n",
       "      <td>Human Resource</td>\n",
       "    </tr>\n",
       "    <tr>\n",
       "      <th>3</th>\n",
       "      <td>Healthcare</td>\n",
       "    </tr>\n",
       "    <tr>\n",
       "      <th>4</th>\n",
       "      <td>Sales</td>\n",
       "    </tr>\n",
       "    <tr>\n",
       "      <th>5</th>\n",
       "      <td>Automotive</td>\n",
       "    </tr>\n",
       "    <tr>\n",
       "      <th>6</th>\n",
       "      <td>Human Resource</td>\n",
       "    </tr>\n",
       "    <tr>\n",
       "      <th>7</th>\n",
       "      <td>Information Technology</td>\n",
       "    </tr>\n",
       "  </tbody>\n",
       "</table>\n",
       "</div>"
      ],
      "text/plain": [
       "               Department\n",
       "0  Information Technology\n",
       "1                   Sales\n",
       "2          Human Resource\n",
       "3              Healthcare\n",
       "4                   Sales\n",
       "5              Automotive\n",
       "6          Human Resource\n",
       "7  Information Technology"
      ]
     },
     "execution_count": 104,
     "metadata": {},
     "output_type": "execute_result"
    }
   ],
   "source": [
    "df1.filter(regex='^D') # starting letter"
   ]
  },
  {
   "cell_type": "code",
   "execution_count": 105,
   "id": "70140eb7-e1c8-4b53-8a12-b83a6e894219",
   "metadata": {},
   "outputs": [
    {
     "data": {
      "text/html": [
       "<div>\n",
       "<style scoped>\n",
       "    .dataframe tbody tr th:only-of-type {\n",
       "        vertical-align: middle;\n",
       "    }\n",
       "\n",
       "    .dataframe tbody tr th {\n",
       "        vertical-align: top;\n",
       "    }\n",
       "\n",
       "    .dataframe thead th {\n",
       "        text-align: right;\n",
       "    }\n",
       "</style>\n",
       "<table border=\"1\" class=\"dataframe\">\n",
       "  <thead>\n",
       "    <tr style=\"text-align: right;\">\n",
       "      <th></th>\n",
       "      <th>weight</th>\n",
       "      <th>height</th>\n",
       "      <th>Department</th>\n",
       "    </tr>\n",
       "  </thead>\n",
       "  <tbody>\n",
       "    <tr>\n",
       "      <th>0</th>\n",
       "      <td>16</td>\n",
       "      <td>14</td>\n",
       "      <td>Information Technology</td>\n",
       "    </tr>\n",
       "    <tr>\n",
       "      <th>1</th>\n",
       "      <td>12</td>\n",
       "      <td>19</td>\n",
       "      <td>Sales</td>\n",
       "    </tr>\n",
       "    <tr>\n",
       "      <th>2</th>\n",
       "      <td>9</td>\n",
       "      <td>8</td>\n",
       "      <td>Human Resource</td>\n",
       "    </tr>\n",
       "    <tr>\n",
       "      <th>3</th>\n",
       "      <td>18</td>\n",
       "      <td>12</td>\n",
       "      <td>Healthcare</td>\n",
       "    </tr>\n",
       "    <tr>\n",
       "      <th>4</th>\n",
       "      <td>75</td>\n",
       "      <td>64</td>\n",
       "      <td>Sales</td>\n",
       "    </tr>\n",
       "    <tr>\n",
       "      <th>5</th>\n",
       "      <td>80</td>\n",
       "      <td>64</td>\n",
       "      <td>Automotive</td>\n",
       "    </tr>\n",
       "    <tr>\n",
       "      <th>6</th>\n",
       "      <td>77</td>\n",
       "      <td>64</td>\n",
       "      <td>Human Resource</td>\n",
       "    </tr>\n",
       "    <tr>\n",
       "      <th>7</th>\n",
       "      <td>60</td>\n",
       "      <td>64</td>\n",
       "      <td>Information Technology</td>\n",
       "    </tr>\n",
       "  </tbody>\n",
       "</table>\n",
       "</div>"
      ],
      "text/plain": [
       "   weight  height              Department\n",
       "0      16      14  Information Technology\n",
       "1      12      19                   Sales\n",
       "2       9       8          Human Resource\n",
       "3      18      12              Healthcare\n",
       "4      75      64                   Sales\n",
       "5      80      64              Automotive\n",
       "6      77      64          Human Resource\n",
       "7      60      64  Information Technology"
      ]
     },
     "execution_count": 105,
     "metadata": {},
     "output_type": "execute_result"
    }
   ],
   "source": [
    "df1.filter(regex='t$')"
   ]
  },
  {
   "cell_type": "code",
   "execution_count": 106,
   "id": "207b783e-94f6-436b-8c1f-0a6dbc74cacd",
   "metadata": {},
   "outputs": [
    {
     "data": {
      "text/html": [
       "<div>\n",
       "<style scoped>\n",
       "    .dataframe tbody tr th:only-of-type {\n",
       "        vertical-align: middle;\n",
       "    }\n",
       "\n",
       "    .dataframe tbody tr th {\n",
       "        vertical-align: top;\n",
       "    }\n",
       "\n",
       "    .dataframe thead th {\n",
       "        text-align: right;\n",
       "    }\n",
       "</style>\n",
       "<table border=\"1\" class=\"dataframe\">\n",
       "  <thead>\n",
       "    <tr style=\"text-align: right;\">\n",
       "      <th></th>\n",
       "      <th>weight</th>\n",
       "      <th>height</th>\n",
       "      <th>Department</th>\n",
       "    </tr>\n",
       "  </thead>\n",
       "  <tbody>\n",
       "    <tr>\n",
       "      <th>0</th>\n",
       "      <td>16</td>\n",
       "      <td>14</td>\n",
       "      <td>Information Technology</td>\n",
       "    </tr>\n",
       "    <tr>\n",
       "      <th>1</th>\n",
       "      <td>12</td>\n",
       "      <td>19</td>\n",
       "      <td>Sales</td>\n",
       "    </tr>\n",
       "    <tr>\n",
       "      <th>2</th>\n",
       "      <td>9</td>\n",
       "      <td>8</td>\n",
       "      <td>Human Resource</td>\n",
       "    </tr>\n",
       "    <tr>\n",
       "      <th>3</th>\n",
       "      <td>18</td>\n",
       "      <td>12</td>\n",
       "      <td>Healthcare</td>\n",
       "    </tr>\n",
       "    <tr>\n",
       "      <th>4</th>\n",
       "      <td>75</td>\n",
       "      <td>64</td>\n",
       "      <td>Sales</td>\n",
       "    </tr>\n",
       "    <tr>\n",
       "      <th>5</th>\n",
       "      <td>80</td>\n",
       "      <td>64</td>\n",
       "      <td>Automotive</td>\n",
       "    </tr>\n",
       "    <tr>\n",
       "      <th>6</th>\n",
       "      <td>77</td>\n",
       "      <td>64</td>\n",
       "      <td>Human Resource</td>\n",
       "    </tr>\n",
       "    <tr>\n",
       "      <th>7</th>\n",
       "      <td>60</td>\n",
       "      <td>64</td>\n",
       "      <td>Information Technology</td>\n",
       "    </tr>\n",
       "  </tbody>\n",
       "</table>\n",
       "</div>"
      ],
      "text/plain": [
       "   weight  height              Department\n",
       "0      16      14  Information Technology\n",
       "1      12      19                   Sales\n",
       "2       9       8          Human Resource\n",
       "3      18      12              Healthcare\n",
       "4      75      64                   Sales\n",
       "5      80      64              Automotive\n",
       "6      77      64          Human Resource\n",
       "7      60      64  Information Technology"
      ]
     },
     "execution_count": 106,
     "metadata": {},
     "output_type": "execute_result"
    }
   ],
   "source": [
    "df1.filter(regex='.+e.+')"
   ]
  },
  {
   "cell_type": "markdown",
   "id": "0f4e82f1-1386-4b19-9704-cfb80d596433",
   "metadata": {},
   "source": [
    "##### filtering rows"
   ]
  },
  {
   "cell_type": "code",
   "execution_count": 107,
   "id": "f77595a4-a13a-4d1f-94f6-6357053be476",
   "metadata": {},
   "outputs": [
    {
     "data": {
      "text/html": [
       "<div>\n",
       "<style scoped>\n",
       "    .dataframe tbody tr th:only-of-type {\n",
       "        vertical-align: middle;\n",
       "    }\n",
       "\n",
       "    .dataframe tbody tr th {\n",
       "        vertical-align: top;\n",
       "    }\n",
       "\n",
       "    .dataframe thead th {\n",
       "        text-align: right;\n",
       "    }\n",
       "</style>\n",
       "<table border=\"1\" class=\"dataframe\">\n",
       "  <thead>\n",
       "    <tr style=\"text-align: right;\">\n",
       "      <th></th>\n",
       "      <th>name</th>\n",
       "      <th>Age</th>\n",
       "      <th>weight</th>\n",
       "      <th>height</th>\n",
       "      <th>Department</th>\n",
       "      <th>income</th>\n",
       "    </tr>\n",
       "  </thead>\n",
       "  <tbody>\n",
       "    <tr>\n",
       "      <th>1</th>\n",
       "      <td>Arbaz</td>\n",
       "      <td>45</td>\n",
       "      <td>12</td>\n",
       "      <td>19</td>\n",
       "      <td>Sales</td>\n",
       "      <td>5000</td>\n",
       "    </tr>\n",
       "    <tr>\n",
       "      <th>4</th>\n",
       "      <td>SUbham</td>\n",
       "      <td>25</td>\n",
       "      <td>75</td>\n",
       "      <td>64</td>\n",
       "      <td>Sales</td>\n",
       "      <td>7000</td>\n",
       "    </tr>\n",
       "    <tr>\n",
       "      <th>5</th>\n",
       "      <td>Sakshi</td>\n",
       "      <td>27</td>\n",
       "      <td>80</td>\n",
       "      <td>64</td>\n",
       "      <td>Automotive</td>\n",
       "      <td>7000</td>\n",
       "    </tr>\n",
       "    <tr>\n",
       "      <th>6</th>\n",
       "      <td>roahan</td>\n",
       "      <td>25</td>\n",
       "      <td>77</td>\n",
       "      <td>64</td>\n",
       "      <td>Human Resource</td>\n",
       "      <td>9000</td>\n",
       "    </tr>\n",
       "    <tr>\n",
       "      <th>7</th>\n",
       "      <td>priyashu</td>\n",
       "      <td>30</td>\n",
       "      <td>60</td>\n",
       "      <td>64</td>\n",
       "      <td>Information Technology</td>\n",
       "      <td>10000</td>\n",
       "    </tr>\n",
       "  </tbody>\n",
       "</table>\n",
       "</div>"
      ],
      "text/plain": [
       "       name  Age  weight  height              Department  income\n",
       "1     Arbaz   45      12      19                   Sales    5000\n",
       "4    SUbham   25      75      64                   Sales    7000\n",
       "5    Sakshi   27      80      64              Automotive    7000\n",
       "6    roahan   25      77      64          Human Resource    9000\n",
       "7  priyashu   30      60      64  Information Technology   10000"
      ]
     },
     "execution_count": 107,
     "metadata": {},
     "output_type": "execute_result"
    }
   ],
   "source": [
    "df1[df1['Age']>20]"
   ]
  },
  {
   "cell_type": "code",
   "execution_count": 108,
   "id": "e3cac6ed-fcc7-4033-a9a7-347ab66ed6aa",
   "metadata": {},
   "outputs": [
    {
     "data": {
      "text/html": [
       "<div>\n",
       "<style scoped>\n",
       "    .dataframe tbody tr th:only-of-type {\n",
       "        vertical-align: middle;\n",
       "    }\n",
       "\n",
       "    .dataframe tbody tr th {\n",
       "        vertical-align: top;\n",
       "    }\n",
       "\n",
       "    .dataframe thead th {\n",
       "        text-align: right;\n",
       "    }\n",
       "</style>\n",
       "<table border=\"1\" class=\"dataframe\">\n",
       "  <thead>\n",
       "    <tr style=\"text-align: right;\">\n",
       "      <th></th>\n",
       "      <th>name</th>\n",
       "      <th>Age</th>\n",
       "      <th>weight</th>\n",
       "      <th>height</th>\n",
       "      <th>Department</th>\n",
       "      <th>income</th>\n",
       "    </tr>\n",
       "  </thead>\n",
       "  <tbody>\n",
       "    <tr>\n",
       "      <th>0</th>\n",
       "      <td>Salman</td>\n",
       "      <td>9</td>\n",
       "      <td>16</td>\n",
       "      <td>14</td>\n",
       "      <td>Information Technology</td>\n",
       "      <td>4000</td>\n",
       "    </tr>\n",
       "    <tr>\n",
       "      <th>2</th>\n",
       "      <td>Sohail</td>\n",
       "      <td>12</td>\n",
       "      <td>9</td>\n",
       "      <td>8</td>\n",
       "      <td>Human Resource</td>\n",
       "      <td>6000</td>\n",
       "    </tr>\n",
       "    <tr>\n",
       "      <th>4</th>\n",
       "      <td>SUbham</td>\n",
       "      <td>25</td>\n",
       "      <td>75</td>\n",
       "      <td>64</td>\n",
       "      <td>Sales</td>\n",
       "      <td>7000</td>\n",
       "    </tr>\n",
       "    <tr>\n",
       "      <th>5</th>\n",
       "      <td>Sakshi</td>\n",
       "      <td>27</td>\n",
       "      <td>80</td>\n",
       "      <td>64</td>\n",
       "      <td>Automotive</td>\n",
       "      <td>7000</td>\n",
       "    </tr>\n",
       "  </tbody>\n",
       "</table>\n",
       "</div>"
      ],
      "text/plain": [
       "     name  Age  weight  height              Department  income\n",
       "0  Salman    9      16      14  Information Technology    4000\n",
       "2  Sohail   12       9       8          Human Resource    6000\n",
       "4  SUbham   25      75      64                   Sales    7000\n",
       "5  Sakshi   27      80      64              Automotive    7000"
      ]
     },
     "execution_count": 108,
     "metadata": {},
     "output_type": "execute_result"
    }
   ],
   "source": [
    "df1[df1['name'].str.contains('S',case=True,regex=True)] # bas esme s hona chahiye"
   ]
  },
  {
   "cell_type": "code",
   "execution_count": 109,
   "id": "c636df1f-6950-4ac9-b26b-7b80adf9a778",
   "metadata": {},
   "outputs": [
    {
     "data": {
      "text/html": [
       "<div>\n",
       "<style scoped>\n",
       "    .dataframe tbody tr th:only-of-type {\n",
       "        vertical-align: middle;\n",
       "    }\n",
       "\n",
       "    .dataframe tbody tr th {\n",
       "        vertical-align: top;\n",
       "    }\n",
       "\n",
       "    .dataframe thead th {\n",
       "        text-align: right;\n",
       "    }\n",
       "</style>\n",
       "<table border=\"1\" class=\"dataframe\">\n",
       "  <thead>\n",
       "    <tr style=\"text-align: right;\">\n",
       "      <th></th>\n",
       "      <th>name</th>\n",
       "      <th>Age</th>\n",
       "      <th>weight</th>\n",
       "      <th>height</th>\n",
       "      <th>Department</th>\n",
       "      <th>income</th>\n",
       "    </tr>\n",
       "  </thead>\n",
       "  <tbody>\n",
       "    <tr>\n",
       "      <th>6</th>\n",
       "      <td>roahan</td>\n",
       "      <td>25</td>\n",
       "      <td>77</td>\n",
       "      <td>64</td>\n",
       "      <td>Human Resource</td>\n",
       "      <td>9000</td>\n",
       "    </tr>\n",
       "  </tbody>\n",
       "</table>\n",
       "</div>"
      ],
      "text/plain": [
       "     name  Age  weight  height      Department  income\n",
       "6  roahan   25      77      64  Human Resource    9000"
      ]
     },
     "execution_count": 109,
     "metadata": {},
     "output_type": "execute_result"
    }
   ],
   "source": [
    "df1[df1['name'].str.contains('^R',case=False,regex=True)]"
   ]
  },
  {
   "cell_type": "code",
   "execution_count": 110,
   "id": "3b2fa19e-46f9-44a3-9631-713847aa68d5",
   "metadata": {},
   "outputs": [
    {
     "data": {
      "text/html": [
       "<div>\n",
       "<style scoped>\n",
       "    .dataframe tbody tr th:only-of-type {\n",
       "        vertical-align: middle;\n",
       "    }\n",
       "\n",
       "    .dataframe tbody tr th {\n",
       "        vertical-align: top;\n",
       "    }\n",
       "\n",
       "    .dataframe thead th {\n",
       "        text-align: right;\n",
       "    }\n",
       "</style>\n",
       "<table border=\"1\" class=\"dataframe\">\n",
       "  <thead>\n",
       "    <tr style=\"text-align: right;\">\n",
       "      <th></th>\n",
       "      <th>name</th>\n",
       "      <th>Age</th>\n",
       "      <th>weight</th>\n",
       "      <th>height</th>\n",
       "      <th>Department</th>\n",
       "      <th>income</th>\n",
       "    </tr>\n",
       "  </thead>\n",
       "  <tbody>\n",
       "    <tr>\n",
       "      <th>0</th>\n",
       "      <td>Salman</td>\n",
       "      <td>9</td>\n",
       "      <td>16</td>\n",
       "      <td>14</td>\n",
       "      <td>Information Technology</td>\n",
       "      <td>4000</td>\n",
       "    </tr>\n",
       "    <tr>\n",
       "      <th>2</th>\n",
       "      <td>Sohail</td>\n",
       "      <td>12</td>\n",
       "      <td>9</td>\n",
       "      <td>8</td>\n",
       "      <td>Human Resource</td>\n",
       "      <td>6000</td>\n",
       "    </tr>\n",
       "    <tr>\n",
       "      <th>4</th>\n",
       "      <td>SUbham</td>\n",
       "      <td>25</td>\n",
       "      <td>75</td>\n",
       "      <td>64</td>\n",
       "      <td>Sales</td>\n",
       "      <td>7000</td>\n",
       "    </tr>\n",
       "    <tr>\n",
       "      <th>5</th>\n",
       "      <td>Sakshi</td>\n",
       "      <td>27</td>\n",
       "      <td>80</td>\n",
       "      <td>64</td>\n",
       "      <td>Automotive</td>\n",
       "      <td>7000</td>\n",
       "    </tr>\n",
       "  </tbody>\n",
       "</table>\n",
       "</div>"
      ],
      "text/plain": [
       "     name  Age  weight  height              Department  income\n",
       "0  Salman    9      16      14  Information Technology    4000\n",
       "2  Sohail   12       9       8          Human Resource    6000\n",
       "4  SUbham   25      75      64                   Sales    7000\n",
       "5  Sakshi   27      80      64              Automotive    7000"
      ]
     },
     "execution_count": 110,
     "metadata": {},
     "output_type": "execute_result"
    }
   ],
   "source": [
    "df1[df1['name'].str.contains('^S',case=True,regex=True)]"
   ]
  },
  {
   "cell_type": "code",
   "execution_count": 111,
   "id": "67fe7478-9a6f-476e-b92a-9172c82e8536",
   "metadata": {},
   "outputs": [
    {
     "data": {
      "text/html": [
       "<div>\n",
       "<style scoped>\n",
       "    .dataframe tbody tr th:only-of-type {\n",
       "        vertical-align: middle;\n",
       "    }\n",
       "\n",
       "    .dataframe tbody tr th {\n",
       "        vertical-align: top;\n",
       "    }\n",
       "\n",
       "    .dataframe thead th {\n",
       "        text-align: right;\n",
       "    }\n",
       "</style>\n",
       "<table border=\"1\" class=\"dataframe\">\n",
       "  <thead>\n",
       "    <tr style=\"text-align: right;\">\n",
       "      <th></th>\n",
       "      <th>name</th>\n",
       "      <th>Age</th>\n",
       "      <th>weight</th>\n",
       "      <th>height</th>\n",
       "      <th>Department</th>\n",
       "      <th>income</th>\n",
       "    </tr>\n",
       "  </thead>\n",
       "  <tbody>\n",
       "    <tr>\n",
       "      <th>7</th>\n",
       "      <td>priyashu</td>\n",
       "      <td>30</td>\n",
       "      <td>60</td>\n",
       "      <td>64</td>\n",
       "      <td>Information Technology</td>\n",
       "      <td>10000</td>\n",
       "    </tr>\n",
       "  </tbody>\n",
       "</table>\n",
       "</div>"
      ],
      "text/plain": [
       "       name  Age  weight  height              Department  income\n",
       "7  priyashu   30      60      64  Information Technology   10000"
      ]
     },
     "execution_count": 111,
     "metadata": {},
     "output_type": "execute_result"
    }
   ],
   "source": [
    "df1[df1['name'].str.contains('u$',case=False,regex=True)] # bas esme s hona chahiye"
   ]
  },
  {
   "cell_type": "code",
   "execution_count": 112,
   "id": "ccfe161a-4424-41fb-aa16-2b29c9f95d35",
   "metadata": {},
   "outputs": [
    {
     "data": {
      "text/html": [
       "<div>\n",
       "<style scoped>\n",
       "    .dataframe tbody tr th:only-of-type {\n",
       "        vertical-align: middle;\n",
       "    }\n",
       "\n",
       "    .dataframe tbody tr th {\n",
       "        vertical-align: top;\n",
       "    }\n",
       "\n",
       "    .dataframe thead th {\n",
       "        text-align: right;\n",
       "    }\n",
       "</style>\n",
       "<table border=\"1\" class=\"dataframe\">\n",
       "  <thead>\n",
       "    <tr style=\"text-align: right;\">\n",
       "      <th></th>\n",
       "      <th>name</th>\n",
       "      <th>Age</th>\n",
       "      <th>weight</th>\n",
       "      <th>height</th>\n",
       "      <th>Department</th>\n",
       "      <th>income</th>\n",
       "    </tr>\n",
       "  </thead>\n",
       "  <tbody>\n",
       "    <tr>\n",
       "      <th>0</th>\n",
       "      <td>Salman</td>\n",
       "      <td>9</td>\n",
       "      <td>16</td>\n",
       "      <td>14</td>\n",
       "      <td>Information Technology</td>\n",
       "      <td>4000</td>\n",
       "    </tr>\n",
       "    <tr>\n",
       "      <th>7</th>\n",
       "      <td>priyashu</td>\n",
       "      <td>30</td>\n",
       "      <td>60</td>\n",
       "      <td>64</td>\n",
       "      <td>Information Technology</td>\n",
       "      <td>10000</td>\n",
       "    </tr>\n",
       "  </tbody>\n",
       "</table>\n",
       "</div>"
      ],
      "text/plain": [
       "       name  Age  weight  height              Department  income\n",
       "0    Salman    9      16      14  Information Technology    4000\n",
       "7  priyashu   30      60      64  Information Technology   10000"
      ]
     },
     "execution_count": 112,
     "metadata": {},
     "output_type": "execute_result"
    }
   ],
   "source": [
    "# for department\n",
    "df1[df1['Department'].str.contains('.+T.+',case=True,regex=True)] # bas esme s hona chahiye"
   ]
  },
  {
   "cell_type": "markdown",
   "id": "4f6b80b7-78fe-4b23-94ec-be96f24a7f3b",
   "metadata": {},
   "source": [
    "#### sorting"
   ]
  },
  {
   "cell_type": "code",
   "execution_count": 113,
   "id": "b35bb41a-b01f-4d7e-ada0-3754dffad7df",
   "metadata": {},
   "outputs": [
    {
     "data": {
      "text/html": [
       "<div>\n",
       "<style scoped>\n",
       "    .dataframe tbody tr th:only-of-type {\n",
       "        vertical-align: middle;\n",
       "    }\n",
       "\n",
       "    .dataframe tbody tr th {\n",
       "        vertical-align: top;\n",
       "    }\n",
       "\n",
       "    .dataframe thead th {\n",
       "        text-align: right;\n",
       "    }\n",
       "</style>\n",
       "<table border=\"1\" class=\"dataframe\">\n",
       "  <thead>\n",
       "    <tr style=\"text-align: right;\">\n",
       "      <th></th>\n",
       "      <th>name</th>\n",
       "      <th>Age</th>\n",
       "      <th>weight</th>\n",
       "      <th>height</th>\n",
       "      <th>Department</th>\n",
       "      <th>income</th>\n",
       "    </tr>\n",
       "  </thead>\n",
       "  <tbody>\n",
       "    <tr>\n",
       "      <th>1</th>\n",
       "      <td>Arbaz</td>\n",
       "      <td>45</td>\n",
       "      <td>12</td>\n",
       "      <td>19</td>\n",
       "      <td>Sales</td>\n",
       "      <td>5000</td>\n",
       "    </tr>\n",
       "    <tr>\n",
       "      <th>7</th>\n",
       "      <td>priyashu</td>\n",
       "      <td>30</td>\n",
       "      <td>60</td>\n",
       "      <td>64</td>\n",
       "      <td>Information Technology</td>\n",
       "      <td>10000</td>\n",
       "    </tr>\n",
       "    <tr>\n",
       "      <th>5</th>\n",
       "      <td>Sakshi</td>\n",
       "      <td>27</td>\n",
       "      <td>80</td>\n",
       "      <td>64</td>\n",
       "      <td>Automotive</td>\n",
       "      <td>7000</td>\n",
       "    </tr>\n",
       "    <tr>\n",
       "      <th>4</th>\n",
       "      <td>SUbham</td>\n",
       "      <td>25</td>\n",
       "      <td>75</td>\n",
       "      <td>64</td>\n",
       "      <td>Sales</td>\n",
       "      <td>7000</td>\n",
       "    </tr>\n",
       "    <tr>\n",
       "      <th>6</th>\n",
       "      <td>roahan</td>\n",
       "      <td>25</td>\n",
       "      <td>77</td>\n",
       "      <td>64</td>\n",
       "      <td>Human Resource</td>\n",
       "      <td>9000</td>\n",
       "    </tr>\n",
       "    <tr>\n",
       "      <th>2</th>\n",
       "      <td>Sohail</td>\n",
       "      <td>12</td>\n",
       "      <td>9</td>\n",
       "      <td>8</td>\n",
       "      <td>Human Resource</td>\n",
       "      <td>6000</td>\n",
       "    </tr>\n",
       "    <tr>\n",
       "      <th>0</th>\n",
       "      <td>Salman</td>\n",
       "      <td>9</td>\n",
       "      <td>16</td>\n",
       "      <td>14</td>\n",
       "      <td>Information Technology</td>\n",
       "      <td>4000</td>\n",
       "    </tr>\n",
       "    <tr>\n",
       "      <th>3</th>\n",
       "      <td>Neil</td>\n",
       "      <td>3</td>\n",
       "      <td>18</td>\n",
       "      <td>12</td>\n",
       "      <td>Healthcare</td>\n",
       "      <td>70000</td>\n",
       "    </tr>\n",
       "  </tbody>\n",
       "</table>\n",
       "</div>"
      ],
      "text/plain": [
       "       name  Age  weight  height              Department  income\n",
       "1     Arbaz   45      12      19                   Sales    5000\n",
       "7  priyashu   30      60      64  Information Technology   10000\n",
       "5    Sakshi   27      80      64              Automotive    7000\n",
       "4    SUbham   25      75      64                   Sales    7000\n",
       "6    roahan   25      77      64          Human Resource    9000\n",
       "2    Sohail   12       9       8          Human Resource    6000\n",
       "0    Salman    9      16      14  Information Technology    4000\n",
       "3      Neil    3      18      12              Healthcare   70000"
      ]
     },
     "execution_count": 113,
     "metadata": {},
     "output_type": "execute_result"
    }
   ],
   "source": [
    "df1.sort_values('Age',ascending=False)"
   ]
  },
  {
   "cell_type": "code",
   "execution_count": 114,
   "id": "856af8f0-d3db-457a-abcf-7e12f16e1734",
   "metadata": {},
   "outputs": [
    {
     "data": {
      "text/html": [
       "<div>\n",
       "<style scoped>\n",
       "    .dataframe tbody tr th:only-of-type {\n",
       "        vertical-align: middle;\n",
       "    }\n",
       "\n",
       "    .dataframe tbody tr th {\n",
       "        vertical-align: top;\n",
       "    }\n",
       "\n",
       "    .dataframe thead th {\n",
       "        text-align: right;\n",
       "    }\n",
       "</style>\n",
       "<table border=\"1\" class=\"dataframe\">\n",
       "  <thead>\n",
       "    <tr style=\"text-align: right;\">\n",
       "      <th></th>\n",
       "      <th>name</th>\n",
       "      <th>Age</th>\n",
       "      <th>weight</th>\n",
       "      <th>height</th>\n",
       "      <th>Department</th>\n",
       "      <th>income</th>\n",
       "    </tr>\n",
       "  </thead>\n",
       "  <tbody>\n",
       "    <tr>\n",
       "      <th>1</th>\n",
       "      <td>Arbaz</td>\n",
       "      <td>45</td>\n",
       "      <td>12</td>\n",
       "      <td>19</td>\n",
       "      <td>Sales</td>\n",
       "      <td>5000</td>\n",
       "    </tr>\n",
       "    <tr>\n",
       "      <th>3</th>\n",
       "      <td>Neil</td>\n",
       "      <td>3</td>\n",
       "      <td>18</td>\n",
       "      <td>12</td>\n",
       "      <td>Healthcare</td>\n",
       "      <td>70000</td>\n",
       "    </tr>\n",
       "    <tr>\n",
       "      <th>4</th>\n",
       "      <td>SUbham</td>\n",
       "      <td>25</td>\n",
       "      <td>75</td>\n",
       "      <td>64</td>\n",
       "      <td>Sales</td>\n",
       "      <td>7000</td>\n",
       "    </tr>\n",
       "    <tr>\n",
       "      <th>5</th>\n",
       "      <td>Sakshi</td>\n",
       "      <td>27</td>\n",
       "      <td>80</td>\n",
       "      <td>64</td>\n",
       "      <td>Automotive</td>\n",
       "      <td>7000</td>\n",
       "    </tr>\n",
       "    <tr>\n",
       "      <th>0</th>\n",
       "      <td>Salman</td>\n",
       "      <td>9</td>\n",
       "      <td>16</td>\n",
       "      <td>14</td>\n",
       "      <td>Information Technology</td>\n",
       "      <td>4000</td>\n",
       "    </tr>\n",
       "    <tr>\n",
       "      <th>2</th>\n",
       "      <td>Sohail</td>\n",
       "      <td>12</td>\n",
       "      <td>9</td>\n",
       "      <td>8</td>\n",
       "      <td>Human Resource</td>\n",
       "      <td>6000</td>\n",
       "    </tr>\n",
       "    <tr>\n",
       "      <th>7</th>\n",
       "      <td>priyashu</td>\n",
       "      <td>30</td>\n",
       "      <td>60</td>\n",
       "      <td>64</td>\n",
       "      <td>Information Technology</td>\n",
       "      <td>10000</td>\n",
       "    </tr>\n",
       "    <tr>\n",
       "      <th>6</th>\n",
       "      <td>roahan</td>\n",
       "      <td>25</td>\n",
       "      <td>77</td>\n",
       "      <td>64</td>\n",
       "      <td>Human Resource</td>\n",
       "      <td>9000</td>\n",
       "    </tr>\n",
       "  </tbody>\n",
       "</table>\n",
       "</div>"
      ],
      "text/plain": [
       "       name  Age  weight  height              Department  income\n",
       "1     Arbaz   45      12      19                   Sales    5000\n",
       "3      Neil    3      18      12              Healthcare   70000\n",
       "4    SUbham   25      75      64                   Sales    7000\n",
       "5    Sakshi   27      80      64              Automotive    7000\n",
       "0    Salman    9      16      14  Information Technology    4000\n",
       "2    Sohail   12       9       8          Human Resource    6000\n",
       "7  priyashu   30      60      64  Information Technology   10000\n",
       "6    roahan   25      77      64          Human Resource    9000"
      ]
     },
     "execution_count": 114,
     "metadata": {},
     "output_type": "execute_result"
    }
   ],
   "source": [
    "df1.sort_values('name',ascending=True) # problem"
   ]
  },
  {
   "cell_type": "code",
   "execution_count": 115,
   "id": "a95f0749-9a2b-4fe5-a8fb-ca0ea8490770",
   "metadata": {},
   "outputs": [
    {
     "data": {
      "text/html": [
       "<div>\n",
       "<style scoped>\n",
       "    .dataframe tbody tr th:only-of-type {\n",
       "        vertical-align: middle;\n",
       "    }\n",
       "\n",
       "    .dataframe tbody tr th {\n",
       "        vertical-align: top;\n",
       "    }\n",
       "\n",
       "    .dataframe thead th {\n",
       "        text-align: right;\n",
       "    }\n",
       "</style>\n",
       "<table border=\"1\" class=\"dataframe\">\n",
       "  <thead>\n",
       "    <tr style=\"text-align: right;\">\n",
       "      <th></th>\n",
       "      <th>name</th>\n",
       "      <th>Age</th>\n",
       "      <th>weight</th>\n",
       "      <th>height</th>\n",
       "      <th>Department</th>\n",
       "      <th>income</th>\n",
       "    </tr>\n",
       "  </thead>\n",
       "  <tbody>\n",
       "    <tr>\n",
       "      <th>1</th>\n",
       "      <td>Arbaz</td>\n",
       "      <td>45</td>\n",
       "      <td>12</td>\n",
       "      <td>19</td>\n",
       "      <td>Sales</td>\n",
       "      <td>5000</td>\n",
       "    </tr>\n",
       "    <tr>\n",
       "      <th>3</th>\n",
       "      <td>Neil</td>\n",
       "      <td>3</td>\n",
       "      <td>18</td>\n",
       "      <td>12</td>\n",
       "      <td>Healthcare</td>\n",
       "      <td>70000</td>\n",
       "    </tr>\n",
       "    <tr>\n",
       "      <th>7</th>\n",
       "      <td>priyashu</td>\n",
       "      <td>30</td>\n",
       "      <td>60</td>\n",
       "      <td>64</td>\n",
       "      <td>Information Technology</td>\n",
       "      <td>10000</td>\n",
       "    </tr>\n",
       "    <tr>\n",
       "      <th>6</th>\n",
       "      <td>roahan</td>\n",
       "      <td>25</td>\n",
       "      <td>77</td>\n",
       "      <td>64</td>\n",
       "      <td>Human Resource</td>\n",
       "      <td>9000</td>\n",
       "    </tr>\n",
       "    <tr>\n",
       "      <th>5</th>\n",
       "      <td>Sakshi</td>\n",
       "      <td>27</td>\n",
       "      <td>80</td>\n",
       "      <td>64</td>\n",
       "      <td>Automotive</td>\n",
       "      <td>7000</td>\n",
       "    </tr>\n",
       "    <tr>\n",
       "      <th>0</th>\n",
       "      <td>Salman</td>\n",
       "      <td>9</td>\n",
       "      <td>16</td>\n",
       "      <td>14</td>\n",
       "      <td>Information Technology</td>\n",
       "      <td>4000</td>\n",
       "    </tr>\n",
       "    <tr>\n",
       "      <th>2</th>\n",
       "      <td>Sohail</td>\n",
       "      <td>12</td>\n",
       "      <td>9</td>\n",
       "      <td>8</td>\n",
       "      <td>Human Resource</td>\n",
       "      <td>6000</td>\n",
       "    </tr>\n",
       "    <tr>\n",
       "      <th>4</th>\n",
       "      <td>SUbham</td>\n",
       "      <td>25</td>\n",
       "      <td>75</td>\n",
       "      <td>64</td>\n",
       "      <td>Sales</td>\n",
       "      <td>7000</td>\n",
       "    </tr>\n",
       "  </tbody>\n",
       "</table>\n",
       "</div>"
      ],
      "text/plain": [
       "       name  Age  weight  height              Department  income\n",
       "1     Arbaz   45      12      19                   Sales    5000\n",
       "3      Neil    3      18      12              Healthcare   70000\n",
       "7  priyashu   30      60      64  Information Technology   10000\n",
       "6    roahan   25      77      64          Human Resource    9000\n",
       "5    Sakshi   27      80      64              Automotive    7000\n",
       "0    Salman    9      16      14  Information Technology    4000\n",
       "2    Sohail   12       9       8          Human Resource    6000\n",
       "4    SUbham   25      75      64                   Sales    7000"
      ]
     },
     "execution_count": 115,
     "metadata": {},
     "output_type": "execute_result"
    }
   ],
   "source": [
    "df1.sort_values('name',key=lambda x : x.str.upper(),ascending=True) # solution"
   ]
  },
  {
   "cell_type": "code",
   "execution_count": 116,
   "id": "d60018ca-415c-4a98-b343-ca26f20e50c6",
   "metadata": {},
   "outputs": [],
   "source": [
    "# 02-august"
   ]
  },
  {
   "cell_type": "code",
   "execution_count": 117,
   "id": "774a767c-8ebf-4c22-913b-33cf17e978ca",
   "metadata": {},
   "outputs": [
    {
     "data": {
      "text/plain": [
       "1    45\n",
       "7    30\n",
       "Name: Age, dtype: int64"
      ]
     },
     "execution_count": 117,
     "metadata": {},
     "output_type": "execute_result"
    }
   ],
   "source": [
    "df1['Age'].nlargest(2) # extract top n ages"
   ]
  },
  {
   "cell_type": "code",
   "execution_count": 118,
   "id": "762b0fb2-faa8-46ac-8c45-0df5ff4f97e3",
   "metadata": {},
   "outputs": [
    {
     "data": {
      "text/plain": [
       "3    3\n",
       "0    9\n",
       "Name: Age, dtype: int64"
      ]
     },
     "execution_count": 118,
     "metadata": {},
     "output_type": "execute_result"
    }
   ],
   "source": [
    "df1['Age'].nsmallest(2) # extract top n ages"
   ]
  },
  {
   "cell_type": "code",
   "execution_count": null,
   "id": "384511fe-1afd-41a8-a148-d2ccb7a9574a",
   "metadata": {},
   "outputs": [],
   "source": []
  },
  {
   "cell_type": "raw",
   "id": "027b30e4-6c9d-44c6-a647-ac356cb92e5c",
   "metadata": {},
   "source": [
    "### N largest or n smallest salary"
   ]
  },
  {
   "cell_type": "code",
   "execution_count": null,
   "id": "a953a4b6-2f36-40ca-855d-39368fb739a3",
   "metadata": {},
   "outputs": [],
   "source": []
  },
  {
   "cell_type": "code",
   "execution_count": 119,
   "id": "fb91eefc-c423-466e-a0b6-a477773a1e4e",
   "metadata": {},
   "outputs": [
    {
     "data": {
      "text/html": [
       "<div>\n",
       "<style scoped>\n",
       "    .dataframe tbody tr th:only-of-type {\n",
       "        vertical-align: middle;\n",
       "    }\n",
       "\n",
       "    .dataframe tbody tr th {\n",
       "        vertical-align: top;\n",
       "    }\n",
       "\n",
       "    .dataframe thead th {\n",
       "        text-align: right;\n",
       "    }\n",
       "</style>\n",
       "<table border=\"1\" class=\"dataframe\">\n",
       "  <thead>\n",
       "    <tr style=\"text-align: right;\">\n",
       "      <th></th>\n",
       "      <th>salary</th>\n",
       "      <th>emp_id</th>\n",
       "    </tr>\n",
       "  </thead>\n",
       "  <tbody>\n",
       "    <tr>\n",
       "      <th>0</th>\n",
       "      <td>10000</td>\n",
       "      <td>1</td>\n",
       "    </tr>\n",
       "    <tr>\n",
       "      <th>1</th>\n",
       "      <td>12000</td>\n",
       "      <td>2</td>\n",
       "    </tr>\n",
       "    <tr>\n",
       "      <th>2</th>\n",
       "      <td>13000</td>\n",
       "      <td>3</td>\n",
       "    </tr>\n",
       "    <tr>\n",
       "      <th>3</th>\n",
       "      <td>14000</td>\n",
       "      <td>4</td>\n",
       "    </tr>\n",
       "  </tbody>\n",
       "</table>\n",
       "</div>"
      ],
      "text/plain": [
       "   salary  emp_id\n",
       "0   10000       1\n",
       "1   12000       2\n",
       "2   13000       3\n",
       "3   14000       4"
      ]
     },
     "execution_count": 119,
     "metadata": {},
     "output_type": "execute_result"
    }
   ],
   "source": [
    "import pandas as pd\n",
    "\n",
    "# Data\n",
    "emps = [\n",
    "    {\"salary\": 10000, \"emp_id\": 1},\n",
    "    {\"salary\": 12000, \"emp_id\": 2},\n",
    "    {\"salary\": 13000, \"emp_id\": 3},\n",
    "    {\"salary\": 14000, \"emp_id\": 4}\n",
    "]\n",
    "\n",
    "# Create DataFrame\n",
    "df = pd.DataFrame(emps)\n",
    "df"
   ]
  },
  {
   "cell_type": "code",
   "execution_count": 120,
   "id": "740aade8-6e5b-40aa-b062-adbd8bb84493",
   "metadata": {},
   "outputs": [
    {
     "name": "stdout",
     "output_type": "stream",
     "text": [
      "3\n"
     ]
    }
   ],
   "source": [
    "# Find the employee ID with the second largest salary\n",
    "second_largest_salary_emp_id = df['emp_id'].nlargest(2).iloc[-1]\n",
    "\n",
    "print(second_largest_salary_emp_id)"
   ]
  },
  {
   "cell_type": "code",
   "execution_count": 121,
   "id": "46d8375a-c65c-41df-a8df-aa6817dd6002",
   "metadata": {},
   "outputs": [
    {
     "name": "stdout",
     "output_type": "stream",
     "text": [
      "13000\n"
     ]
    }
   ],
   "source": [
    "# Find  the second largest salary\n",
    "second_largest_salary = df['salary'].nlargest(2).iloc[-1]\n",
    "\n",
    "print(second_largest_salary)"
   ]
  },
  {
   "cell_type": "markdown",
   "id": "8a6fffde-e370-4bf0-b4d4-d47445660913",
   "metadata": {},
   "source": [
    "##### aggregate functions"
   ]
  },
  {
   "cell_type": "code",
   "execution_count": 122,
   "id": "6db133e2-25e1-4233-ba06-ed24355ae60d",
   "metadata": {},
   "outputs": [
    {
     "data": {
      "text/plain": [
       "name          8\n",
       "Age           8\n",
       "weight        8\n",
       "height        8\n",
       "Department    8\n",
       "income        8\n",
       "dtype: int64"
      ]
     },
     "execution_count": 122,
     "metadata": {},
     "output_type": "execute_result"
    }
   ],
   "source": [
    "df1.count()"
   ]
  },
  {
   "cell_type": "code",
   "execution_count": 123,
   "id": "fe97b11c-fe77-4a73-b5ba-0f22f4f2b01d",
   "metadata": {},
   "outputs": [
    {
     "data": {
      "text/plain": [
       "Department\n",
       "Information Technology    2\n",
       "Sales                     2\n",
       "Human Resource            2\n",
       "Healthcare                1\n",
       "Automotive                1\n",
       "Name: count, dtype: int64"
      ]
     },
     "execution_count": 123,
     "metadata": {},
     "output_type": "execute_result"
    }
   ],
   "source": [
    "df1[\"Department\"].value_counts()"
   ]
  },
  {
   "cell_type": "code",
   "execution_count": 124,
   "id": "d7381b8c-19b5-455f-98ac-73fbe93f190e",
   "metadata": {},
   "outputs": [
    {
     "data": {
      "text/plain": [
       "name          roahan\n",
       "Age               45\n",
       "weight            80\n",
       "height            64\n",
       "Department     Sales\n",
       "income         70000\n",
       "dtype: object"
      ]
     },
     "execution_count": 124,
     "metadata": {},
     "output_type": "execute_result"
    }
   ],
   "source": [
    "df1.max()"
   ]
  },
  {
   "cell_type": "code",
   "execution_count": 125,
   "id": "1be79afa-6f2b-4d71-839a-f0b33c66da64",
   "metadata": {},
   "outputs": [
    {
     "name": "stdout",
     "output_type": "stream",
     "text": [
      "176\n",
      "3\n",
      "45\n",
      "13.44831375515692\n",
      "180.85714285714286\n",
      "22.0\n"
     ]
    }
   ],
   "source": [
    "print(df1['Age'].sum())\n",
    "print(df1['Age'].min())\n",
    "print(df1['Age'].max())\n",
    "print(df1['Age'].std())\n",
    "print(df1['Age'].var())\n",
    "print(df1['Age'].mean())"
   ]
  },
  {
   "cell_type": "markdown",
   "id": "99eea895-1561-4897-84be-ecb8706b6955",
   "metadata": {},
   "source": [
    "#### Group by"
   ]
  },
  {
   "cell_type": "code",
   "execution_count": 126,
   "id": "b753a4c2-9f7f-470d-a4c6-9ac482ede617",
   "metadata": {},
   "outputs": [
    {
     "data": {
      "text/html": [
       "<div>\n",
       "<style scoped>\n",
       "    .dataframe tbody tr th:only-of-type {\n",
       "        vertical-align: middle;\n",
       "    }\n",
       "\n",
       "    .dataframe tbody tr th {\n",
       "        vertical-align: top;\n",
       "    }\n",
       "\n",
       "    .dataframe thead th {\n",
       "        text-align: right;\n",
       "    }\n",
       "</style>\n",
       "<table border=\"1\" class=\"dataframe\">\n",
       "  <thead>\n",
       "    <tr style=\"text-align: right;\">\n",
       "      <th></th>\n",
       "      <th>name</th>\n",
       "      <th>Age</th>\n",
       "      <th>weight</th>\n",
       "      <th>height</th>\n",
       "      <th>Department</th>\n",
       "      <th>income</th>\n",
       "    </tr>\n",
       "  </thead>\n",
       "  <tbody>\n",
       "    <tr>\n",
       "      <th>0</th>\n",
       "      <td>Salman</td>\n",
       "      <td>9</td>\n",
       "      <td>16</td>\n",
       "      <td>14</td>\n",
       "      <td>Information Technology</td>\n",
       "      <td>4000</td>\n",
       "    </tr>\n",
       "    <tr>\n",
       "      <th>1</th>\n",
       "      <td>Arbaz</td>\n",
       "      <td>45</td>\n",
       "      <td>12</td>\n",
       "      <td>19</td>\n",
       "      <td>Sales</td>\n",
       "      <td>5000</td>\n",
       "    </tr>\n",
       "    <tr>\n",
       "      <th>2</th>\n",
       "      <td>Sohail</td>\n",
       "      <td>12</td>\n",
       "      <td>9</td>\n",
       "      <td>8</td>\n",
       "      <td>Human Resource</td>\n",
       "      <td>6000</td>\n",
       "    </tr>\n",
       "    <tr>\n",
       "      <th>3</th>\n",
       "      <td>Neil</td>\n",
       "      <td>3</td>\n",
       "      <td>18</td>\n",
       "      <td>12</td>\n",
       "      <td>Healthcare</td>\n",
       "      <td>70000</td>\n",
       "    </tr>\n",
       "    <tr>\n",
       "      <th>4</th>\n",
       "      <td>SUbham</td>\n",
       "      <td>25</td>\n",
       "      <td>75</td>\n",
       "      <td>64</td>\n",
       "      <td>Sales</td>\n",
       "      <td>7000</td>\n",
       "    </tr>\n",
       "    <tr>\n",
       "      <th>5</th>\n",
       "      <td>Sakshi</td>\n",
       "      <td>27</td>\n",
       "      <td>80</td>\n",
       "      <td>64</td>\n",
       "      <td>Automotive</td>\n",
       "      <td>7000</td>\n",
       "    </tr>\n",
       "    <tr>\n",
       "      <th>6</th>\n",
       "      <td>roahan</td>\n",
       "      <td>25</td>\n",
       "      <td>77</td>\n",
       "      <td>64</td>\n",
       "      <td>Human Resource</td>\n",
       "      <td>9000</td>\n",
       "    </tr>\n",
       "    <tr>\n",
       "      <th>7</th>\n",
       "      <td>priyashu</td>\n",
       "      <td>30</td>\n",
       "      <td>60</td>\n",
       "      <td>64</td>\n",
       "      <td>Information Technology</td>\n",
       "      <td>10000</td>\n",
       "    </tr>\n",
       "  </tbody>\n",
       "</table>\n",
       "</div>"
      ],
      "text/plain": [
       "       name  Age  weight  height              Department  income\n",
       "0    Salman    9      16      14  Information Technology    4000\n",
       "1     Arbaz   45      12      19                   Sales    5000\n",
       "2    Sohail   12       9       8          Human Resource    6000\n",
       "3      Neil    3      18      12              Healthcare   70000\n",
       "4    SUbham   25      75      64                   Sales    7000\n",
       "5    Sakshi   27      80      64              Automotive    7000\n",
       "6    roahan   25      77      64          Human Resource    9000\n",
       "7  priyashu   30      60      64  Information Technology   10000"
      ]
     },
     "execution_count": 126,
     "metadata": {},
     "output_type": "execute_result"
    }
   ],
   "source": [
    "df1"
   ]
  },
  {
   "cell_type": "code",
   "execution_count": 127,
   "id": "ef1cf907-f807-4be8-b744-ea66aad32280",
   "metadata": {},
   "outputs": [
    {
     "data": {
      "text/plain": [
       "Department\n",
       "Automotive                 7000\n",
       "Healthcare                70000\n",
       "Human Resource            15000\n",
       "Information Technology    14000\n",
       "Sales                     12000\n",
       "Name: income, dtype: int64"
      ]
     },
     "execution_count": 127,
     "metadata": {},
     "output_type": "execute_result"
    }
   ],
   "source": [
    "# find the total income department wise\n",
    "df1.groupby('Department')['income'].sum()"
   ]
  },
  {
   "cell_type": "code",
   "execution_count": 128,
   "id": "f8c60124-bab9-4b92-8108-497092d4263e",
   "metadata": {},
   "outputs": [
    {
     "data": {
      "text/plain": [
       "Department\n",
       "Automotive                1\n",
       "Healthcare                1\n",
       "Human Resource            2\n",
       "Information Technology    2\n",
       "Sales                     2\n",
       "Name: name, dtype: int64"
      ]
     },
     "execution_count": 128,
     "metadata": {},
     "output_type": "execute_result"
    }
   ],
   "source": [
    "# find the empoloyee count departmentwise\n",
    "df1.groupby('Department')['name'].count()"
   ]
  },
  {
   "cell_type": "code",
   "execution_count": 129,
   "id": "acdba72e-ac64-4308-855c-f43b8378030d",
   "metadata": {},
   "outputs": [
    {
     "data": {
      "text/html": [
       "<div>\n",
       "<style scoped>\n",
       "    .dataframe tbody tr th:only-of-type {\n",
       "        vertical-align: middle;\n",
       "    }\n",
       "\n",
       "    .dataframe tbody tr th {\n",
       "        vertical-align: top;\n",
       "    }\n",
       "\n",
       "    .dataframe thead th {\n",
       "        text-align: right;\n",
       "    }\n",
       "</style>\n",
       "<table border=\"1\" class=\"dataframe\">\n",
       "  <thead>\n",
       "    <tr style=\"text-align: right;\">\n",
       "      <th></th>\n",
       "      <th>income</th>\n",
       "      <th>weight</th>\n",
       "    </tr>\n",
       "    <tr>\n",
       "      <th>Department</th>\n",
       "      <th></th>\n",
       "      <th></th>\n",
       "    </tr>\n",
       "  </thead>\n",
       "  <tbody>\n",
       "    <tr>\n",
       "      <th>Automotive</th>\n",
       "      <td>7000</td>\n",
       "      <td>80</td>\n",
       "    </tr>\n",
       "    <tr>\n",
       "      <th>Healthcare</th>\n",
       "      <td>70000</td>\n",
       "      <td>18</td>\n",
       "    </tr>\n",
       "    <tr>\n",
       "      <th>Human Resource</th>\n",
       "      <td>15000</td>\n",
       "      <td>86</td>\n",
       "    </tr>\n",
       "    <tr>\n",
       "      <th>Information Technology</th>\n",
       "      <td>14000</td>\n",
       "      <td>76</td>\n",
       "    </tr>\n",
       "    <tr>\n",
       "      <th>Sales</th>\n",
       "      <td>12000</td>\n",
       "      <td>87</td>\n",
       "    </tr>\n",
       "  </tbody>\n",
       "</table>\n",
       "</div>"
      ],
      "text/plain": [
       "                        income  weight\n",
       "Department                            \n",
       "Automotive                7000      80\n",
       "Healthcare               70000      18\n",
       "Human Resource           15000      86\n",
       "Information Technology   14000      76\n",
       "Sales                    12000      87"
      ]
     },
     "execution_count": 129,
     "metadata": {},
     "output_type": "execute_result"
    }
   ],
   "source": [
    "df1.groupby('Department')[['income','weight']].sum()"
   ]
  },
  {
   "cell_type": "code",
   "execution_count": 130,
   "id": "8b8abe41-25b9-48ae-81b4-ba0eca28c03d",
   "metadata": {},
   "outputs": [
    {
     "data": {
      "text/plain": [
       "Department              name    \n",
       "Automotive              Sakshi       7000\n",
       "Healthcare              Neil        70000\n",
       "Human Resource          Sohail       6000\n",
       "                        roahan       9000\n",
       "Information Technology  Salman       4000\n",
       "                        priyashu    10000\n",
       "Sales                   Arbaz        5000\n",
       "                        SUbham       7000\n",
       "Name: income, dtype: int64"
      ]
     },
     "execution_count": 130,
     "metadata": {},
     "output_type": "execute_result"
    }
   ],
   "source": [
    "df1.groupby(['Department','name'])['income'].sum()"
   ]
  },
  {
   "cell_type": "code",
   "execution_count": 131,
   "id": "bded2a8b-1fcc-4ccf-9614-dbf4d68bacb7",
   "metadata": {},
   "outputs": [
    {
     "data": {
      "text/html": [
       "<div>\n",
       "<style scoped>\n",
       "    .dataframe tbody tr th:only-of-type {\n",
       "        vertical-align: middle;\n",
       "    }\n",
       "\n",
       "    .dataframe tbody tr th {\n",
       "        vertical-align: top;\n",
       "    }\n",
       "\n",
       "    .dataframe thead th {\n",
       "        text-align: right;\n",
       "    }\n",
       "</style>\n",
       "<table border=\"1\" class=\"dataframe\">\n",
       "  <thead>\n",
       "    <tr style=\"text-align: right;\">\n",
       "      <th></th>\n",
       "      <th>sum</th>\n",
       "      <th>max</th>\n",
       "      <th>min</th>\n",
       "    </tr>\n",
       "    <tr>\n",
       "      <th>Department</th>\n",
       "      <th></th>\n",
       "      <th></th>\n",
       "      <th></th>\n",
       "    </tr>\n",
       "  </thead>\n",
       "  <tbody>\n",
       "    <tr>\n",
       "      <th>Automotive</th>\n",
       "      <td>7000</td>\n",
       "      <td>7000</td>\n",
       "      <td>7000</td>\n",
       "    </tr>\n",
       "    <tr>\n",
       "      <th>Healthcare</th>\n",
       "      <td>70000</td>\n",
       "      <td>70000</td>\n",
       "      <td>70000</td>\n",
       "    </tr>\n",
       "    <tr>\n",
       "      <th>Human Resource</th>\n",
       "      <td>15000</td>\n",
       "      <td>9000</td>\n",
       "      <td>6000</td>\n",
       "    </tr>\n",
       "    <tr>\n",
       "      <th>Information Technology</th>\n",
       "      <td>14000</td>\n",
       "      <td>10000</td>\n",
       "      <td>4000</td>\n",
       "    </tr>\n",
       "    <tr>\n",
       "      <th>Sales</th>\n",
       "      <td>12000</td>\n",
       "      <td>7000</td>\n",
       "      <td>5000</td>\n",
       "    </tr>\n",
       "  </tbody>\n",
       "</table>\n",
       "</div>"
      ],
      "text/plain": [
       "                          sum    max    min\n",
       "Department                                 \n",
       "Automotive               7000   7000   7000\n",
       "Healthcare              70000  70000  70000\n",
       "Human Resource          15000   9000   6000\n",
       "Information Technology  14000  10000   4000\n",
       "Sales                   12000   7000   5000"
      ]
     },
     "execution_count": 131,
     "metadata": {},
     "output_type": "execute_result"
    }
   ],
   "source": [
    "df1.groupby('Department')['income'].agg(['sum','max','min'])"
   ]
  },
  {
   "cell_type": "code",
   "execution_count": 132,
   "id": "32a4a48c-9830-4c53-9811-59481da32728",
   "metadata": {},
   "outputs": [
    {
     "data": {
      "text/html": [
       "<div>\n",
       "<style scoped>\n",
       "    .dataframe tbody tr th:only-of-type {\n",
       "        vertical-align: middle;\n",
       "    }\n",
       "\n",
       "    .dataframe tbody tr th {\n",
       "        vertical-align: top;\n",
       "    }\n",
       "\n",
       "    .dataframe thead th {\n",
       "        text-align: right;\n",
       "    }\n",
       "</style>\n",
       "<table border=\"1\" class=\"dataframe\">\n",
       "  <thead>\n",
       "    <tr style=\"text-align: right;\">\n",
       "      <th></th>\n",
       "      <th>name</th>\n",
       "      <th>Age</th>\n",
       "      <th>weight</th>\n",
       "      <th>height</th>\n",
       "      <th>Department</th>\n",
       "      <th>income</th>\n",
       "    </tr>\n",
       "  </thead>\n",
       "  <tbody>\n",
       "    <tr>\n",
       "      <th>0</th>\n",
       "      <td>Salman</td>\n",
       "      <td>9</td>\n",
       "      <td>16</td>\n",
       "      <td>14</td>\n",
       "      <td>Information Technology</td>\n",
       "      <td>4000</td>\n",
       "    </tr>\n",
       "    <tr>\n",
       "      <th>1</th>\n",
       "      <td>Arbaz</td>\n",
       "      <td>45</td>\n",
       "      <td>12</td>\n",
       "      <td>19</td>\n",
       "      <td>Sales</td>\n",
       "      <td>5000</td>\n",
       "    </tr>\n",
       "    <tr>\n",
       "      <th>2</th>\n",
       "      <td>Sohail</td>\n",
       "      <td>12</td>\n",
       "      <td>9</td>\n",
       "      <td>8</td>\n",
       "      <td>Human Resource</td>\n",
       "      <td>6000</td>\n",
       "    </tr>\n",
       "    <tr>\n",
       "      <th>3</th>\n",
       "      <td>Neil</td>\n",
       "      <td>3</td>\n",
       "      <td>18</td>\n",
       "      <td>12</td>\n",
       "      <td>Healthcare</td>\n",
       "      <td>70000</td>\n",
       "    </tr>\n",
       "    <tr>\n",
       "      <th>4</th>\n",
       "      <td>SUbham</td>\n",
       "      <td>25</td>\n",
       "      <td>75</td>\n",
       "      <td>64</td>\n",
       "      <td>Sales</td>\n",
       "      <td>7000</td>\n",
       "    </tr>\n",
       "    <tr>\n",
       "      <th>5</th>\n",
       "      <td>Sakshi</td>\n",
       "      <td>27</td>\n",
       "      <td>80</td>\n",
       "      <td>64</td>\n",
       "      <td>Automotive</td>\n",
       "      <td>7000</td>\n",
       "    </tr>\n",
       "    <tr>\n",
       "      <th>6</th>\n",
       "      <td>roahan</td>\n",
       "      <td>25</td>\n",
       "      <td>77</td>\n",
       "      <td>64</td>\n",
       "      <td>Human Resource</td>\n",
       "      <td>9000</td>\n",
       "    </tr>\n",
       "    <tr>\n",
       "      <th>7</th>\n",
       "      <td>priyashu</td>\n",
       "      <td>30</td>\n",
       "      <td>60</td>\n",
       "      <td>64</td>\n",
       "      <td>Information Technology</td>\n",
       "      <td>10000</td>\n",
       "    </tr>\n",
       "  </tbody>\n",
       "</table>\n",
       "</div>"
      ],
      "text/plain": [
       "       name  Age  weight  height              Department  income\n",
       "0    Salman    9      16      14  Information Technology    4000\n",
       "1     Arbaz   45      12      19                   Sales    5000\n",
       "2    Sohail   12       9       8          Human Resource    6000\n",
       "3      Neil    3      18      12              Healthcare   70000\n",
       "4    SUbham   25      75      64                   Sales    7000\n",
       "5    Sakshi   27      80      64              Automotive    7000\n",
       "6    roahan   25      77      64          Human Resource    9000\n",
       "7  priyashu   30      60      64  Information Technology   10000"
      ]
     },
     "execution_count": 132,
     "metadata": {},
     "output_type": "execute_result"
    }
   ],
   "source": [
    "df1"
   ]
  },
  {
   "cell_type": "code",
   "execution_count": 133,
   "id": "22085c3f-a7b9-4c02-b7ed-83260607cf3d",
   "metadata": {},
   "outputs": [
    {
     "data": {
      "text/html": [
       "<div>\n",
       "<style scoped>\n",
       "    .dataframe tbody tr th:only-of-type {\n",
       "        vertical-align: middle;\n",
       "    }\n",
       "\n",
       "    .dataframe tbody tr th {\n",
       "        vertical-align: top;\n",
       "    }\n",
       "\n",
       "    .dataframe thead th {\n",
       "        text-align: right;\n",
       "    }\n",
       "</style>\n",
       "<table border=\"1\" class=\"dataframe\">\n",
       "  <thead>\n",
       "    <tr style=\"text-align: right;\">\n",
       "      <th></th>\n",
       "      <th>income</th>\n",
       "      <th>Age</th>\n",
       "    </tr>\n",
       "    <tr>\n",
       "      <th>Department</th>\n",
       "      <th></th>\n",
       "      <th></th>\n",
       "    </tr>\n",
       "  </thead>\n",
       "  <tbody>\n",
       "    <tr>\n",
       "      <th>Automotive</th>\n",
       "      <td>7000</td>\n",
       "      <td>27</td>\n",
       "    </tr>\n",
       "    <tr>\n",
       "      <th>Healthcare</th>\n",
       "      <td>70000</td>\n",
       "      <td>3</td>\n",
       "    </tr>\n",
       "    <tr>\n",
       "      <th>Human Resource</th>\n",
       "      <td>9000</td>\n",
       "      <td>12</td>\n",
       "    </tr>\n",
       "    <tr>\n",
       "      <th>Information Technology</th>\n",
       "      <td>10000</td>\n",
       "      <td>9</td>\n",
       "    </tr>\n",
       "    <tr>\n",
       "      <th>Sales</th>\n",
       "      <td>7000</td>\n",
       "      <td>25</td>\n",
       "    </tr>\n",
       "  </tbody>\n",
       "</table>\n",
       "</div>"
      ],
      "text/plain": [
       "                        income  Age\n",
       "Department                         \n",
       "Automotive                7000   27\n",
       "Healthcare               70000    3\n",
       "Human Resource            9000   12\n",
       "Information Technology   10000    9\n",
       "Sales                     7000   25"
      ]
     },
     "execution_count": 133,
     "metadata": {},
     "output_type": "execute_result"
    }
   ],
   "source": [
    "df1.groupby('Department').aggregate({'income':'max','Age':'min'})"
   ]
  },
  {
   "cell_type": "code",
   "execution_count": 134,
   "id": "b2a83f46-b8f5-4c52-8c68-782fb9bafa3b",
   "metadata": {},
   "outputs": [
    {
     "data": {
      "text/html": [
       "<div>\n",
       "<style scoped>\n",
       "    .dataframe tbody tr th:only-of-type {\n",
       "        vertical-align: middle;\n",
       "    }\n",
       "\n",
       "    .dataframe tbody tr th {\n",
       "        vertical-align: top;\n",
       "    }\n",
       "\n",
       "    .dataframe thead th {\n",
       "        text-align: right;\n",
       "    }\n",
       "</style>\n",
       "<table border=\"1\" class=\"dataframe\">\n",
       "  <thead>\n",
       "    <tr style=\"text-align: right;\">\n",
       "      <th></th>\n",
       "      <th>income</th>\n",
       "      <th>name</th>\n",
       "    </tr>\n",
       "    <tr>\n",
       "      <th>Department</th>\n",
       "      <th></th>\n",
       "      <th></th>\n",
       "    </tr>\n",
       "  </thead>\n",
       "  <tbody>\n",
       "    <tr>\n",
       "      <th>Automotive</th>\n",
       "      <td>7000</td>\n",
       "      <td>Sakshi</td>\n",
       "    </tr>\n",
       "    <tr>\n",
       "      <th>Healthcare</th>\n",
       "      <td>70000</td>\n",
       "      <td>Neil</td>\n",
       "    </tr>\n",
       "    <tr>\n",
       "      <th>Human Resource</th>\n",
       "      <td>9000</td>\n",
       "      <td>Sohail</td>\n",
       "    </tr>\n",
       "    <tr>\n",
       "      <th>Information Technology</th>\n",
       "      <td>10000</td>\n",
       "      <td>Salman</td>\n",
       "    </tr>\n",
       "    <tr>\n",
       "      <th>Sales</th>\n",
       "      <td>7000</td>\n",
       "      <td>Arbaz</td>\n",
       "    </tr>\n",
       "  </tbody>\n",
       "</table>\n",
       "</div>"
      ],
      "text/plain": [
       "                        income    name\n",
       "Department                            \n",
       "Automotive                7000  Sakshi\n",
       "Healthcare               70000    Neil\n",
       "Human Resource            9000  Sohail\n",
       "Information Technology   10000  Salman\n",
       "Sales                     7000   Arbaz"
      ]
     },
     "execution_count": 134,
     "metadata": {},
     "output_type": "execute_result"
    }
   ],
   "source": [
    "df1.groupby('Department').aggregate({'income':'max','name':'min'})"
   ]
  },
  {
   "cell_type": "markdown",
   "id": "739feef1-55b8-406b-8b85-f7b4ea1d5e55",
   "metadata": {},
   "source": [
    "### Handling missing values "
   ]
  },
  {
   "cell_type": "code",
   "execution_count": 135,
   "id": "ec15fbab-09a2-410b-b127-1ccf98603995",
   "metadata": {},
   "outputs": [
    {
     "data": {
      "text/html": [
       "<div>\n",
       "<style scoped>\n",
       "    .dataframe tbody tr th:only-of-type {\n",
       "        vertical-align: middle;\n",
       "    }\n",
       "\n",
       "    .dataframe tbody tr th {\n",
       "        vertical-align: top;\n",
       "    }\n",
       "\n",
       "    .dataframe thead th {\n",
       "        text-align: right;\n",
       "    }\n",
       "</style>\n",
       "<table border=\"1\" class=\"dataframe\">\n",
       "  <thead>\n",
       "    <tr style=\"text-align: right;\">\n",
       "      <th></th>\n",
       "      <th>name</th>\n",
       "      <th>Age</th>\n",
       "      <th>weight</th>\n",
       "      <th>height</th>\n",
       "      <th>Department</th>\n",
       "      <th>income</th>\n",
       "      <th>country</th>\n",
       "      <th>city</th>\n",
       "    </tr>\n",
       "  </thead>\n",
       "  <tbody>\n",
       "    <tr>\n",
       "      <th>0</th>\n",
       "      <td>Salman</td>\n",
       "      <td>NaN</td>\n",
       "      <td>16.0</td>\n",
       "      <td>14.0</td>\n",
       "      <td>Information Technology</td>\n",
       "      <td>4000</td>\n",
       "      <td>India</td>\n",
       "      <td>Indore</td>\n",
       "    </tr>\n",
       "    <tr>\n",
       "      <th>1</th>\n",
       "      <td>Arbaz</td>\n",
       "      <td>45.0</td>\n",
       "      <td>NaN</td>\n",
       "      <td>19.0</td>\n",
       "      <td>Sales</td>\n",
       "      <td>5000</td>\n",
       "      <td>USA</td>\n",
       "      <td>Los Angeles</td>\n",
       "    </tr>\n",
       "    <tr>\n",
       "      <th>2</th>\n",
       "      <td>Sohail</td>\n",
       "      <td>12.0</td>\n",
       "      <td>9.0</td>\n",
       "      <td>NaN</td>\n",
       "      <td>Human Resource</td>\n",
       "      <td>6000</td>\n",
       "      <td>China</td>\n",
       "      <td>Wuhan</td>\n",
       "    </tr>\n",
       "    <tr>\n",
       "      <th>3</th>\n",
       "      <td>Neil</td>\n",
       "      <td>NaN</td>\n",
       "      <td>18.0</td>\n",
       "      <td>12.0</td>\n",
       "      <td>Healthcare</td>\n",
       "      <td>70000</td>\n",
       "      <td>India</td>\n",
       "      <td>Banglore</td>\n",
       "    </tr>\n",
       "    <tr>\n",
       "      <th>4</th>\n",
       "      <td>SUbham</td>\n",
       "      <td>25.0</td>\n",
       "      <td>75.0</td>\n",
       "      <td>64.0</td>\n",
       "      <td>Sales</td>\n",
       "      <td>7000</td>\n",
       "      <td>China</td>\n",
       "      <td>Bijing</td>\n",
       "    </tr>\n",
       "    <tr>\n",
       "      <th>5</th>\n",
       "      <td>Sakshi</td>\n",
       "      <td>27.0</td>\n",
       "      <td>80.0</td>\n",
       "      <td>NaN</td>\n",
       "      <td>Automotive</td>\n",
       "      <td>7000</td>\n",
       "      <td>Japan</td>\n",
       "      <td>Tokyo</td>\n",
       "    </tr>\n",
       "    <tr>\n",
       "      <th>6</th>\n",
       "      <td>roahan</td>\n",
       "      <td>25.0</td>\n",
       "      <td>NaN</td>\n",
       "      <td>64.0</td>\n",
       "      <td>Human Resource</td>\n",
       "      <td>9000</td>\n",
       "      <td>India</td>\n",
       "      <td>Indore</td>\n",
       "    </tr>\n",
       "    <tr>\n",
       "      <th>7</th>\n",
       "      <td>priyashu</td>\n",
       "      <td>30.0</td>\n",
       "      <td>60.0</td>\n",
       "      <td>64.0</td>\n",
       "      <td>Information Technology</td>\n",
       "      <td>10000</td>\n",
       "      <td>Shrilanka</td>\n",
       "      <td>Colambo</td>\n",
       "    </tr>\n",
       "  </tbody>\n",
       "</table>\n",
       "</div>"
      ],
      "text/plain": [
       "       name   Age  weight  height              Department  income    country  \\\n",
       "0    Salman   NaN    16.0    14.0  Information Technology    4000      India   \n",
       "1     Arbaz  45.0     NaN    19.0                   Sales    5000        USA   \n",
       "2    Sohail  12.0     9.0     NaN          Human Resource    6000      China   \n",
       "3      Neil   NaN    18.0    12.0              Healthcare   70000      India   \n",
       "4    SUbham  25.0    75.0    64.0                   Sales    7000      China   \n",
       "5    Sakshi  27.0    80.0     NaN              Automotive    7000      Japan   \n",
       "6    roahan  25.0     NaN    64.0          Human Resource    9000      India   \n",
       "7  priyashu  30.0    60.0    64.0  Information Technology   10000  Shrilanka   \n",
       "\n",
       "          city  \n",
       "0       Indore  \n",
       "1  Los Angeles  \n",
       "2        Wuhan  \n",
       "3     Banglore  \n",
       "4       Bijing  \n",
       "5        Tokyo  \n",
       "6       Indore  \n",
       "7      Colambo  "
      ]
     },
     "execution_count": 135,
     "metadata": {},
     "output_type": "execute_result"
    }
   ],
   "source": [
    "\n",
    "import pandas as pd\n",
    "\n",
    "# Data for the DataFrame\n",
    "data = {\n",
    "    'name': ['Salman', 'Arbaz', 'Sohail', 'Neil', 'SUbham', 'Sakshi', 'roahan', 'priyashu'],\n",
    "    'Age': [None, 45, 12, None, 25, 27, 25, 30],\n",
    "    'weight': [16, None, 9, 18, 75, 80, None, 60],\n",
    "    'height': [14, 19, None, 12, 64, None, 64, 64],\n",
    "    'Department': ['Information Technology', 'Sales', 'Human Resource', 'Healthcare', 'Sales', 'Automotive', 'Human Resource', 'Information Technology'],\n",
    "    'income': [4000, 5000, 6000, 70000, 7000, 7000, 9000, 10000],\n",
    "    'country': ['India', 'USA', 'China', 'India', 'China', 'Japan', 'India', 'Shrilanka'],\n",
    "    'city': ['Indore', 'Los Angeles', 'Wuhan', 'Banglore', 'Bijing', 'Tokyo', 'Indore', 'Colambo']\n",
    "}\n",
    "\n",
    "df = pd.DataFrame(data)\n",
    "\n",
    "df"
   ]
  },
  {
   "cell_type": "code",
   "execution_count": 136,
   "id": "bdd133db-0763-4c1f-aab2-31e07bf1a64f",
   "metadata": {},
   "outputs": [
    {
     "data": {
      "text/plain": [
       "name          0\n",
       "Age           2\n",
       "weight        2\n",
       "height        2\n",
       "Department    0\n",
       "income        0\n",
       "country       0\n",
       "city          0\n",
       "dtype: int64"
      ]
     },
     "execution_count": 136,
     "metadata": {},
     "output_type": "execute_result"
    }
   ],
   "source": [
    "# checking null values\n",
    "df.isna().sum()"
   ]
  },
  {
   "cell_type": "code",
   "execution_count": 137,
   "id": "8586914e-2383-42fe-8fb6-5e42b33d1994",
   "metadata": {},
   "outputs": [
    {
     "data": {
      "text/plain": [
       "name          0\n",
       "Age           2\n",
       "weight        2\n",
       "height        2\n",
       "Department    0\n",
       "income        0\n",
       "country       0\n",
       "city          0\n",
       "dtype: int64"
      ]
     },
     "execution_count": 137,
     "metadata": {},
     "output_type": "execute_result"
    }
   ],
   "source": [
    "df.isnull().sum()"
   ]
  },
  {
   "cell_type": "code",
   "execution_count": 138,
   "id": "8d55eec5-1162-4dae-88ca-00332af1f5dd",
   "metadata": {},
   "outputs": [
    {
     "data": {
      "text/html": [
       "<div>\n",
       "<style scoped>\n",
       "    .dataframe tbody tr th:only-of-type {\n",
       "        vertical-align: middle;\n",
       "    }\n",
       "\n",
       "    .dataframe tbody tr th {\n",
       "        vertical-align: top;\n",
       "    }\n",
       "\n",
       "    .dataframe thead th {\n",
       "        text-align: right;\n",
       "    }\n",
       "</style>\n",
       "<table border=\"1\" class=\"dataframe\">\n",
       "  <thead>\n",
       "    <tr style=\"text-align: right;\">\n",
       "      <th></th>\n",
       "      <th>name</th>\n",
       "      <th>Age</th>\n",
       "      <th>weight</th>\n",
       "      <th>height</th>\n",
       "      <th>Department</th>\n",
       "      <th>income</th>\n",
       "      <th>country</th>\n",
       "      <th>city</th>\n",
       "    </tr>\n",
       "  </thead>\n",
       "  <tbody>\n",
       "    <tr>\n",
       "      <th>4</th>\n",
       "      <td>SUbham</td>\n",
       "      <td>25.0</td>\n",
       "      <td>75.0</td>\n",
       "      <td>64.0</td>\n",
       "      <td>Sales</td>\n",
       "      <td>7000</td>\n",
       "      <td>China</td>\n",
       "      <td>Bijing</td>\n",
       "    </tr>\n",
       "    <tr>\n",
       "      <th>7</th>\n",
       "      <td>priyashu</td>\n",
       "      <td>30.0</td>\n",
       "      <td>60.0</td>\n",
       "      <td>64.0</td>\n",
       "      <td>Information Technology</td>\n",
       "      <td>10000</td>\n",
       "      <td>Shrilanka</td>\n",
       "      <td>Colambo</td>\n",
       "    </tr>\n",
       "  </tbody>\n",
       "</table>\n",
       "</div>"
      ],
      "text/plain": [
       "       name   Age  weight  height              Department  income    country  \\\n",
       "4    SUbham  25.0    75.0    64.0                   Sales    7000      China   \n",
       "7  priyashu  30.0    60.0    64.0  Information Technology   10000  Shrilanka   \n",
       "\n",
       "      city  \n",
       "4   Bijing  \n",
       "7  Colambo  "
      ]
     },
     "execution_count": 138,
     "metadata": {},
     "output_type": "execute_result"
    }
   ],
   "source": [
    "# droping the rows that contains null values\n",
    "df.dropna()"
   ]
  },
  {
   "cell_type": "code",
   "execution_count": 139,
   "id": "0caad4ce-a082-414a-aef3-4c9fff70171e",
   "metadata": {},
   "outputs": [
    {
     "data": {
      "text/html": [
       "<div>\n",
       "<style scoped>\n",
       "    .dataframe tbody tr th:only-of-type {\n",
       "        vertical-align: middle;\n",
       "    }\n",
       "\n",
       "    .dataframe tbody tr th {\n",
       "        vertical-align: top;\n",
       "    }\n",
       "\n",
       "    .dataframe thead th {\n",
       "        text-align: right;\n",
       "    }\n",
       "</style>\n",
       "<table border=\"1\" class=\"dataframe\">\n",
       "  <thead>\n",
       "    <tr style=\"text-align: right;\">\n",
       "      <th></th>\n",
       "      <th>name</th>\n",
       "      <th>Department</th>\n",
       "      <th>income</th>\n",
       "      <th>country</th>\n",
       "      <th>city</th>\n",
       "    </tr>\n",
       "  </thead>\n",
       "  <tbody>\n",
       "    <tr>\n",
       "      <th>0</th>\n",
       "      <td>Salman</td>\n",
       "      <td>Information Technology</td>\n",
       "      <td>4000</td>\n",
       "      <td>India</td>\n",
       "      <td>Indore</td>\n",
       "    </tr>\n",
       "    <tr>\n",
       "      <th>1</th>\n",
       "      <td>Arbaz</td>\n",
       "      <td>Sales</td>\n",
       "      <td>5000</td>\n",
       "      <td>USA</td>\n",
       "      <td>Los Angeles</td>\n",
       "    </tr>\n",
       "    <tr>\n",
       "      <th>2</th>\n",
       "      <td>Sohail</td>\n",
       "      <td>Human Resource</td>\n",
       "      <td>6000</td>\n",
       "      <td>China</td>\n",
       "      <td>Wuhan</td>\n",
       "    </tr>\n",
       "    <tr>\n",
       "      <th>3</th>\n",
       "      <td>Neil</td>\n",
       "      <td>Healthcare</td>\n",
       "      <td>70000</td>\n",
       "      <td>India</td>\n",
       "      <td>Banglore</td>\n",
       "    </tr>\n",
       "    <tr>\n",
       "      <th>4</th>\n",
       "      <td>SUbham</td>\n",
       "      <td>Sales</td>\n",
       "      <td>7000</td>\n",
       "      <td>China</td>\n",
       "      <td>Bijing</td>\n",
       "    </tr>\n",
       "    <tr>\n",
       "      <th>5</th>\n",
       "      <td>Sakshi</td>\n",
       "      <td>Automotive</td>\n",
       "      <td>7000</td>\n",
       "      <td>Japan</td>\n",
       "      <td>Tokyo</td>\n",
       "    </tr>\n",
       "    <tr>\n",
       "      <th>6</th>\n",
       "      <td>roahan</td>\n",
       "      <td>Human Resource</td>\n",
       "      <td>9000</td>\n",
       "      <td>India</td>\n",
       "      <td>Indore</td>\n",
       "    </tr>\n",
       "    <tr>\n",
       "      <th>7</th>\n",
       "      <td>priyashu</td>\n",
       "      <td>Information Technology</td>\n",
       "      <td>10000</td>\n",
       "      <td>Shrilanka</td>\n",
       "      <td>Colambo</td>\n",
       "    </tr>\n",
       "  </tbody>\n",
       "</table>\n",
       "</div>"
      ],
      "text/plain": [
       "       name              Department  income    country         city\n",
       "0    Salman  Information Technology    4000      India       Indore\n",
       "1     Arbaz                   Sales    5000        USA  Los Angeles\n",
       "2    Sohail          Human Resource    6000      China        Wuhan\n",
       "3      Neil              Healthcare   70000      India     Banglore\n",
       "4    SUbham                   Sales    7000      China       Bijing\n",
       "5    Sakshi              Automotive    7000      Japan        Tokyo\n",
       "6    roahan          Human Resource    9000      India       Indore\n",
       "7  priyashu  Information Technology   10000  Shrilanka      Colambo"
      ]
     },
     "execution_count": 139,
     "metadata": {},
     "output_type": "execute_result"
    }
   ],
   "source": [
    "df.dropna(axis=1) # droping column havng null values"
   ]
  },
  {
   "cell_type": "code",
   "execution_count": 140,
   "id": "1202a306-f1a1-4a9b-a337-b017c2f8f911",
   "metadata": {},
   "outputs": [
    {
     "data": {
      "text/html": [
       "<div>\n",
       "<style scoped>\n",
       "    .dataframe tbody tr th:only-of-type {\n",
       "        vertical-align: middle;\n",
       "    }\n",
       "\n",
       "    .dataframe tbody tr th {\n",
       "        vertical-align: top;\n",
       "    }\n",
       "\n",
       "    .dataframe thead th {\n",
       "        text-align: right;\n",
       "    }\n",
       "</style>\n",
       "<table border=\"1\" class=\"dataframe\">\n",
       "  <thead>\n",
       "    <tr style=\"text-align: right;\">\n",
       "      <th></th>\n",
       "      <th>name</th>\n",
       "      <th>Age</th>\n",
       "      <th>weight</th>\n",
       "      <th>height</th>\n",
       "      <th>Department</th>\n",
       "      <th>income</th>\n",
       "      <th>country</th>\n",
       "      <th>city</th>\n",
       "    </tr>\n",
       "  </thead>\n",
       "  <tbody>\n",
       "    <tr>\n",
       "      <th>0</th>\n",
       "      <td>Salman</td>\n",
       "      <td>0.0</td>\n",
       "      <td>16.0</td>\n",
       "      <td>14.0</td>\n",
       "      <td>Information Technology</td>\n",
       "      <td>4000</td>\n",
       "      <td>India</td>\n",
       "      <td>Indore</td>\n",
       "    </tr>\n",
       "    <tr>\n",
       "      <th>1</th>\n",
       "      <td>Arbaz</td>\n",
       "      <td>45.0</td>\n",
       "      <td>0.0</td>\n",
       "      <td>19.0</td>\n",
       "      <td>Sales</td>\n",
       "      <td>5000</td>\n",
       "      <td>USA</td>\n",
       "      <td>Los Angeles</td>\n",
       "    </tr>\n",
       "    <tr>\n",
       "      <th>2</th>\n",
       "      <td>Sohail</td>\n",
       "      <td>12.0</td>\n",
       "      <td>9.0</td>\n",
       "      <td>0.0</td>\n",
       "      <td>Human Resource</td>\n",
       "      <td>6000</td>\n",
       "      <td>China</td>\n",
       "      <td>Wuhan</td>\n",
       "    </tr>\n",
       "    <tr>\n",
       "      <th>3</th>\n",
       "      <td>Neil</td>\n",
       "      <td>0.0</td>\n",
       "      <td>18.0</td>\n",
       "      <td>12.0</td>\n",
       "      <td>Healthcare</td>\n",
       "      <td>70000</td>\n",
       "      <td>India</td>\n",
       "      <td>Banglore</td>\n",
       "    </tr>\n",
       "    <tr>\n",
       "      <th>4</th>\n",
       "      <td>SUbham</td>\n",
       "      <td>25.0</td>\n",
       "      <td>75.0</td>\n",
       "      <td>64.0</td>\n",
       "      <td>Sales</td>\n",
       "      <td>7000</td>\n",
       "      <td>China</td>\n",
       "      <td>Bijing</td>\n",
       "    </tr>\n",
       "    <tr>\n",
       "      <th>5</th>\n",
       "      <td>Sakshi</td>\n",
       "      <td>27.0</td>\n",
       "      <td>80.0</td>\n",
       "      <td>0.0</td>\n",
       "      <td>Automotive</td>\n",
       "      <td>7000</td>\n",
       "      <td>Japan</td>\n",
       "      <td>Tokyo</td>\n",
       "    </tr>\n",
       "    <tr>\n",
       "      <th>6</th>\n",
       "      <td>roahan</td>\n",
       "      <td>25.0</td>\n",
       "      <td>0.0</td>\n",
       "      <td>64.0</td>\n",
       "      <td>Human Resource</td>\n",
       "      <td>9000</td>\n",
       "      <td>India</td>\n",
       "      <td>Indore</td>\n",
       "    </tr>\n",
       "    <tr>\n",
       "      <th>7</th>\n",
       "      <td>priyashu</td>\n",
       "      <td>30.0</td>\n",
       "      <td>60.0</td>\n",
       "      <td>64.0</td>\n",
       "      <td>Information Technology</td>\n",
       "      <td>10000</td>\n",
       "      <td>Shrilanka</td>\n",
       "      <td>Colambo</td>\n",
       "    </tr>\n",
       "  </tbody>\n",
       "</table>\n",
       "</div>"
      ],
      "text/plain": [
       "       name   Age  weight  height              Department  income    country  \\\n",
       "0    Salman   0.0    16.0    14.0  Information Technology    4000      India   \n",
       "1     Arbaz  45.0     0.0    19.0                   Sales    5000        USA   \n",
       "2    Sohail  12.0     9.0     0.0          Human Resource    6000      China   \n",
       "3      Neil   0.0    18.0    12.0              Healthcare   70000      India   \n",
       "4    SUbham  25.0    75.0    64.0                   Sales    7000      China   \n",
       "5    Sakshi  27.0    80.0     0.0              Automotive    7000      Japan   \n",
       "6    roahan  25.0     0.0    64.0          Human Resource    9000      India   \n",
       "7  priyashu  30.0    60.0    64.0  Information Technology   10000  Shrilanka   \n",
       "\n",
       "          city  \n",
       "0       Indore  \n",
       "1  Los Angeles  \n",
       "2        Wuhan  \n",
       "3     Banglore  \n",
       "4       Bijing  \n",
       "5        Tokyo  \n",
       "6       Indore  \n",
       "7      Colambo  "
      ]
     },
     "execution_count": 140,
     "metadata": {},
     "output_type": "execute_result"
    }
   ],
   "source": [
    "# filling null values\n",
    "df.fillna(0)"
   ]
  },
  {
   "cell_type": "code",
   "execution_count": 141,
   "id": "07fbe0ad-de3c-4646-ad52-c5952311b6a8",
   "metadata": {},
   "outputs": [
    {
     "data": {
      "text/html": [
       "<div>\n",
       "<style scoped>\n",
       "    .dataframe tbody tr th:only-of-type {\n",
       "        vertical-align: middle;\n",
       "    }\n",
       "\n",
       "    .dataframe tbody tr th {\n",
       "        vertical-align: top;\n",
       "    }\n",
       "\n",
       "    .dataframe thead th {\n",
       "        text-align: right;\n",
       "    }\n",
       "</style>\n",
       "<table border=\"1\" class=\"dataframe\">\n",
       "  <thead>\n",
       "    <tr style=\"text-align: right;\">\n",
       "      <th></th>\n",
       "      <th>name</th>\n",
       "      <th>Age</th>\n",
       "      <th>weight</th>\n",
       "      <th>height</th>\n",
       "      <th>Department</th>\n",
       "      <th>income</th>\n",
       "      <th>country</th>\n",
       "      <th>city</th>\n",
       "    </tr>\n",
       "  </thead>\n",
       "  <tbody>\n",
       "    <tr>\n",
       "      <th>0</th>\n",
       "      <td>Salman</td>\n",
       "      <td>27.333333</td>\n",
       "      <td>16.000000</td>\n",
       "      <td>14.000000</td>\n",
       "      <td>Information Technology</td>\n",
       "      <td>4000</td>\n",
       "      <td>India</td>\n",
       "      <td>Indore</td>\n",
       "    </tr>\n",
       "    <tr>\n",
       "      <th>1</th>\n",
       "      <td>Arbaz</td>\n",
       "      <td>45.000000</td>\n",
       "      <td>27.333333</td>\n",
       "      <td>19.000000</td>\n",
       "      <td>Sales</td>\n",
       "      <td>5000</td>\n",
       "      <td>USA</td>\n",
       "      <td>Los Angeles</td>\n",
       "    </tr>\n",
       "    <tr>\n",
       "      <th>2</th>\n",
       "      <td>Sohail</td>\n",
       "      <td>12.000000</td>\n",
       "      <td>9.000000</td>\n",
       "      <td>27.333333</td>\n",
       "      <td>Human Resource</td>\n",
       "      <td>6000</td>\n",
       "      <td>China</td>\n",
       "      <td>Wuhan</td>\n",
       "    </tr>\n",
       "    <tr>\n",
       "      <th>3</th>\n",
       "      <td>Neil</td>\n",
       "      <td>27.333333</td>\n",
       "      <td>18.000000</td>\n",
       "      <td>12.000000</td>\n",
       "      <td>Healthcare</td>\n",
       "      <td>70000</td>\n",
       "      <td>India</td>\n",
       "      <td>Banglore</td>\n",
       "    </tr>\n",
       "    <tr>\n",
       "      <th>4</th>\n",
       "      <td>SUbham</td>\n",
       "      <td>25.000000</td>\n",
       "      <td>75.000000</td>\n",
       "      <td>64.000000</td>\n",
       "      <td>Sales</td>\n",
       "      <td>7000</td>\n",
       "      <td>China</td>\n",
       "      <td>Bijing</td>\n",
       "    </tr>\n",
       "    <tr>\n",
       "      <th>5</th>\n",
       "      <td>Sakshi</td>\n",
       "      <td>27.000000</td>\n",
       "      <td>80.000000</td>\n",
       "      <td>27.333333</td>\n",
       "      <td>Automotive</td>\n",
       "      <td>7000</td>\n",
       "      <td>Japan</td>\n",
       "      <td>Tokyo</td>\n",
       "    </tr>\n",
       "    <tr>\n",
       "      <th>6</th>\n",
       "      <td>roahan</td>\n",
       "      <td>25.000000</td>\n",
       "      <td>27.333333</td>\n",
       "      <td>64.000000</td>\n",
       "      <td>Human Resource</td>\n",
       "      <td>9000</td>\n",
       "      <td>India</td>\n",
       "      <td>Indore</td>\n",
       "    </tr>\n",
       "    <tr>\n",
       "      <th>7</th>\n",
       "      <td>priyashu</td>\n",
       "      <td>30.000000</td>\n",
       "      <td>60.000000</td>\n",
       "      <td>64.000000</td>\n",
       "      <td>Information Technology</td>\n",
       "      <td>10000</td>\n",
       "      <td>Shrilanka</td>\n",
       "      <td>Colambo</td>\n",
       "    </tr>\n",
       "  </tbody>\n",
       "</table>\n",
       "</div>"
      ],
      "text/plain": [
       "       name        Age     weight     height              Department  income  \\\n",
       "0    Salman  27.333333  16.000000  14.000000  Information Technology    4000   \n",
       "1     Arbaz  45.000000  27.333333  19.000000                   Sales    5000   \n",
       "2    Sohail  12.000000   9.000000  27.333333          Human Resource    6000   \n",
       "3      Neil  27.333333  18.000000  12.000000              Healthcare   70000   \n",
       "4    SUbham  25.000000  75.000000  64.000000                   Sales    7000   \n",
       "5    Sakshi  27.000000  80.000000  27.333333              Automotive    7000   \n",
       "6    roahan  25.000000  27.333333  64.000000          Human Resource    9000   \n",
       "7  priyashu  30.000000  60.000000  64.000000  Information Technology   10000   \n",
       "\n",
       "     country         city  \n",
       "0      India       Indore  \n",
       "1        USA  Los Angeles  \n",
       "2      China        Wuhan  \n",
       "3      India     Banglore  \n",
       "4      China       Bijing  \n",
       "5      Japan        Tokyo  \n",
       "6      India       Indore  \n",
       "7  Shrilanka      Colambo  "
      ]
     },
     "execution_count": 141,
     "metadata": {},
     "output_type": "execute_result"
    }
   ],
   "source": [
    "df = df.fillna(df['Age'].mean()) # homework\n",
    "df"
   ]
  },
  {
   "cell_type": "code",
   "execution_count": 142,
   "id": "4a934a46-a947-4067-a0b9-b043172f2516",
   "metadata": {},
   "outputs": [
    {
     "data": {
      "text/plain": [
       "name          0\n",
       "Age           0\n",
       "weight        0\n",
       "height        0\n",
       "Department    0\n",
       "income        0\n",
       "country       0\n",
       "city          0\n",
       "dtype: int64"
      ]
     },
     "execution_count": 142,
     "metadata": {},
     "output_type": "execute_result"
    }
   ],
   "source": [
    "df.isna().sum()"
   ]
  },
  {
   "cell_type": "markdown",
   "id": "97368592-751f-4f16-ae39-2961fb7a5e14",
   "metadata": {},
   "source": [
    "#### datatype conversion"
   ]
  },
  {
   "cell_type": "code",
   "execution_count": 143,
   "id": "070497c8-8777-4a4b-ba47-5021d7455f38",
   "metadata": {},
   "outputs": [
    {
     "data": {
      "text/html": [
       "<div>\n",
       "<style scoped>\n",
       "    .dataframe tbody tr th:only-of-type {\n",
       "        vertical-align: middle;\n",
       "    }\n",
       "\n",
       "    .dataframe tbody tr th {\n",
       "        vertical-align: top;\n",
       "    }\n",
       "\n",
       "    .dataframe thead th {\n",
       "        text-align: right;\n",
       "    }\n",
       "</style>\n",
       "<table border=\"1\" class=\"dataframe\">\n",
       "  <thead>\n",
       "    <tr style=\"text-align: right;\">\n",
       "      <th></th>\n",
       "      <th>name</th>\n",
       "      <th>Age</th>\n",
       "      <th>weight</th>\n",
       "      <th>height</th>\n",
       "      <th>Department</th>\n",
       "      <th>income</th>\n",
       "      <th>country</th>\n",
       "      <th>city</th>\n",
       "    </tr>\n",
       "  </thead>\n",
       "  <tbody>\n",
       "    <tr>\n",
       "      <th>0</th>\n",
       "      <td>Salman</td>\n",
       "      <td>27.333333</td>\n",
       "      <td>16.000000</td>\n",
       "      <td>14.000000</td>\n",
       "      <td>Information Technology</td>\n",
       "      <td>4000</td>\n",
       "      <td>India</td>\n",
       "      <td>Indore</td>\n",
       "    </tr>\n",
       "    <tr>\n",
       "      <th>1</th>\n",
       "      <td>Arbaz</td>\n",
       "      <td>45.000000</td>\n",
       "      <td>27.333333</td>\n",
       "      <td>19.000000</td>\n",
       "      <td>Sales</td>\n",
       "      <td>5000</td>\n",
       "      <td>USA</td>\n",
       "      <td>Los Angeles</td>\n",
       "    </tr>\n",
       "    <tr>\n",
       "      <th>2</th>\n",
       "      <td>Sohail</td>\n",
       "      <td>12.000000</td>\n",
       "      <td>9.000000</td>\n",
       "      <td>27.333333</td>\n",
       "      <td>Human Resource</td>\n",
       "      <td>6000</td>\n",
       "      <td>China</td>\n",
       "      <td>Wuhan</td>\n",
       "    </tr>\n",
       "    <tr>\n",
       "      <th>3</th>\n",
       "      <td>Neil</td>\n",
       "      <td>27.333333</td>\n",
       "      <td>18.000000</td>\n",
       "      <td>12.000000</td>\n",
       "      <td>Healthcare</td>\n",
       "      <td>70000</td>\n",
       "      <td>India</td>\n",
       "      <td>Banglore</td>\n",
       "    </tr>\n",
       "    <tr>\n",
       "      <th>4</th>\n",
       "      <td>SUbham</td>\n",
       "      <td>25.000000</td>\n",
       "      <td>75.000000</td>\n",
       "      <td>64.000000</td>\n",
       "      <td>Sales</td>\n",
       "      <td>7000</td>\n",
       "      <td>China</td>\n",
       "      <td>Bijing</td>\n",
       "    </tr>\n",
       "    <tr>\n",
       "      <th>5</th>\n",
       "      <td>Sakshi</td>\n",
       "      <td>27.000000</td>\n",
       "      <td>80.000000</td>\n",
       "      <td>27.333333</td>\n",
       "      <td>Automotive</td>\n",
       "      <td>7000</td>\n",
       "      <td>Japan</td>\n",
       "      <td>Tokyo</td>\n",
       "    </tr>\n",
       "    <tr>\n",
       "      <th>6</th>\n",
       "      <td>roahan</td>\n",
       "      <td>25.000000</td>\n",
       "      <td>27.333333</td>\n",
       "      <td>64.000000</td>\n",
       "      <td>Human Resource</td>\n",
       "      <td>9000</td>\n",
       "      <td>India</td>\n",
       "      <td>Indore</td>\n",
       "    </tr>\n",
       "    <tr>\n",
       "      <th>7</th>\n",
       "      <td>priyashu</td>\n",
       "      <td>30.000000</td>\n",
       "      <td>60.000000</td>\n",
       "      <td>64.000000</td>\n",
       "      <td>Information Technology</td>\n",
       "      <td>10000</td>\n",
       "      <td>Shrilanka</td>\n",
       "      <td>Colambo</td>\n",
       "    </tr>\n",
       "  </tbody>\n",
       "</table>\n",
       "</div>"
      ],
      "text/plain": [
       "       name        Age     weight     height              Department  income  \\\n",
       "0    Salman  27.333333  16.000000  14.000000  Information Technology    4000   \n",
       "1     Arbaz  45.000000  27.333333  19.000000                   Sales    5000   \n",
       "2    Sohail  12.000000   9.000000  27.333333          Human Resource    6000   \n",
       "3      Neil  27.333333  18.000000  12.000000              Healthcare   70000   \n",
       "4    SUbham  25.000000  75.000000  64.000000                   Sales    7000   \n",
       "5    Sakshi  27.000000  80.000000  27.333333              Automotive    7000   \n",
       "6    roahan  25.000000  27.333333  64.000000          Human Resource    9000   \n",
       "7  priyashu  30.000000  60.000000  64.000000  Information Technology   10000   \n",
       "\n",
       "     country         city  \n",
       "0      India       Indore  \n",
       "1        USA  Los Angeles  \n",
       "2      China        Wuhan  \n",
       "3      India     Banglore  \n",
       "4      China       Bijing  \n",
       "5      Japan        Tokyo  \n",
       "6      India       Indore  \n",
       "7  Shrilanka      Colambo  "
      ]
     },
     "execution_count": 143,
     "metadata": {},
     "output_type": "execute_result"
    }
   ],
   "source": [
    "df"
   ]
  },
  {
   "cell_type": "code",
   "execution_count": 144,
   "id": "0c31b4ea-3d61-4a7b-a7d1-e157642871af",
   "metadata": {},
   "outputs": [
    {
     "name": "stdout",
     "output_type": "stream",
     "text": [
      "<class 'pandas.core.frame.DataFrame'>\n",
      "RangeIndex: 8 entries, 0 to 7\n",
      "Data columns (total 8 columns):\n",
      " #   Column      Non-Null Count  Dtype  \n",
      "---  ------      --------------  -----  \n",
      " 0   name        8 non-null      object \n",
      " 1   Age         8 non-null      float64\n",
      " 2   weight      8 non-null      float64\n",
      " 3   height      8 non-null      float64\n",
      " 4   Department  8 non-null      object \n",
      " 5   income      8 non-null      int64  \n",
      " 6   country     8 non-null      object \n",
      " 7   city        8 non-null      object \n",
      "dtypes: float64(3), int64(1), object(4)\n",
      "memory usage: 644.0+ bytes\n"
     ]
    }
   ],
   "source": [
    "df.info()"
   ]
  },
  {
   "cell_type": "code",
   "execution_count": 145,
   "id": "9c2e3ecc-ae18-4b61-9cd1-543cede48ea7",
   "metadata": {},
   "outputs": [],
   "source": [
    "df['Age'] = df['Age'].astype(int)"
   ]
  },
  {
   "cell_type": "code",
   "execution_count": 146,
   "id": "8a9494fe-620a-4778-9a42-9c93ea1c4e61",
   "metadata": {},
   "outputs": [
    {
     "name": "stdout",
     "output_type": "stream",
     "text": [
      "<class 'pandas.core.frame.DataFrame'>\n",
      "RangeIndex: 8 entries, 0 to 7\n",
      "Data columns (total 8 columns):\n",
      " #   Column      Non-Null Count  Dtype  \n",
      "---  ------      --------------  -----  \n",
      " 0   name        8 non-null      object \n",
      " 1   Age         8 non-null      int32  \n",
      " 2   weight      8 non-null      float64\n",
      " 3   height      8 non-null      float64\n",
      " 4   Department  8 non-null      object \n",
      " 5   income      8 non-null      int64  \n",
      " 6   country     8 non-null      object \n",
      " 7   city        8 non-null      object \n",
      "dtypes: float64(2), int32(1), int64(1), object(4)\n",
      "memory usage: 612.0+ bytes\n"
     ]
    }
   ],
   "source": [
    "df.info()"
   ]
  },
  {
   "cell_type": "code",
   "execution_count": 147,
   "id": "8903e182-a48d-4157-97f3-db38130778c9",
   "metadata": {},
   "outputs": [
    {
     "data": {
      "text/html": [
       "<div>\n",
       "<style scoped>\n",
       "    .dataframe tbody tr th:only-of-type {\n",
       "        vertical-align: middle;\n",
       "    }\n",
       "\n",
       "    .dataframe tbody tr th {\n",
       "        vertical-align: top;\n",
       "    }\n",
       "\n",
       "    .dataframe thead th {\n",
       "        text-align: right;\n",
       "    }\n",
       "</style>\n",
       "<table border=\"1\" class=\"dataframe\">\n",
       "  <thead>\n",
       "    <tr style=\"text-align: right;\">\n",
       "      <th></th>\n",
       "      <th>name</th>\n",
       "      <th>Age</th>\n",
       "      <th>weight</th>\n",
       "      <th>height</th>\n",
       "      <th>Department</th>\n",
       "      <th>income</th>\n",
       "      <th>country</th>\n",
       "      <th>city</th>\n",
       "    </tr>\n",
       "  </thead>\n",
       "  <tbody>\n",
       "    <tr>\n",
       "      <th>0</th>\n",
       "      <td>Salman</td>\n",
       "      <td>27</td>\n",
       "      <td>16.0</td>\n",
       "      <td>14.0</td>\n",
       "      <td>Information Technology</td>\n",
       "      <td>4000</td>\n",
       "      <td>India</td>\n",
       "      <td>Indore</td>\n",
       "    </tr>\n",
       "    <tr>\n",
       "      <th>1</th>\n",
       "      <td>Arbaz</td>\n",
       "      <td>45</td>\n",
       "      <td>27.333333</td>\n",
       "      <td>19.0</td>\n",
       "      <td>Sales</td>\n",
       "      <td>5000</td>\n",
       "      <td>USA</td>\n",
       "      <td>Los Angeles</td>\n",
       "    </tr>\n",
       "    <tr>\n",
       "      <th>2</th>\n",
       "      <td>Sohail</td>\n",
       "      <td>12</td>\n",
       "      <td>9.0</td>\n",
       "      <td>27.333333</td>\n",
       "      <td>Human Resource</td>\n",
       "      <td>6000</td>\n",
       "      <td>China</td>\n",
       "      <td>Wuhan</td>\n",
       "    </tr>\n",
       "    <tr>\n",
       "      <th>3</th>\n",
       "      <td>Neil</td>\n",
       "      <td>27</td>\n",
       "      <td>18.0</td>\n",
       "      <td>12.0</td>\n",
       "      <td>Healthcare</td>\n",
       "      <td>70000</td>\n",
       "      <td>India</td>\n",
       "      <td>Banglore</td>\n",
       "    </tr>\n",
       "    <tr>\n",
       "      <th>4</th>\n",
       "      <td>SUbham</td>\n",
       "      <td>25</td>\n",
       "      <td>75.0</td>\n",
       "      <td>64.0</td>\n",
       "      <td>Sales</td>\n",
       "      <td>7000</td>\n",
       "      <td>China</td>\n",
       "      <td>Bijing</td>\n",
       "    </tr>\n",
       "    <tr>\n",
       "      <th>5</th>\n",
       "      <td>Sakshi</td>\n",
       "      <td>27</td>\n",
       "      <td>80.0</td>\n",
       "      <td>27.333333</td>\n",
       "      <td>Automotive</td>\n",
       "      <td>7000</td>\n",
       "      <td>Japan</td>\n",
       "      <td>Tokyo</td>\n",
       "    </tr>\n",
       "    <tr>\n",
       "      <th>6</th>\n",
       "      <td>roahan</td>\n",
       "      <td>25</td>\n",
       "      <td>27.333333</td>\n",
       "      <td>64.0</td>\n",
       "      <td>Human Resource</td>\n",
       "      <td>9000</td>\n",
       "      <td>India</td>\n",
       "      <td>Indore</td>\n",
       "    </tr>\n",
       "    <tr>\n",
       "      <th>7</th>\n",
       "      <td>priyashu</td>\n",
       "      <td>30</td>\n",
       "      <td>60.0</td>\n",
       "      <td>64.0</td>\n",
       "      <td>Information Technology</td>\n",
       "      <td>10000</td>\n",
       "      <td>Shrilanka</td>\n",
       "      <td>Colambo</td>\n",
       "    </tr>\n",
       "  </tbody>\n",
       "</table>\n",
       "</div>"
      ],
      "text/plain": [
       "       name  Age     weight     height              Department  income  \\\n",
       "0    Salman   27       16.0       14.0  Information Technology    4000   \n",
       "1     Arbaz   45  27.333333       19.0                   Sales    5000   \n",
       "2    Sohail   12        9.0  27.333333          Human Resource    6000   \n",
       "3      Neil   27       18.0       12.0              Healthcare   70000   \n",
       "4    SUbham   25       75.0       64.0                   Sales    7000   \n",
       "5    Sakshi   27       80.0  27.333333              Automotive    7000   \n",
       "6    roahan   25  27.333333       64.0          Human Resource    9000   \n",
       "7  priyashu   30       60.0       64.0  Information Technology   10000   \n",
       "\n",
       "     country         city  \n",
       "0      India       Indore  \n",
       "1        USA  Los Angeles  \n",
       "2      China        Wuhan  \n",
       "3      India     Banglore  \n",
       "4      China       Bijing  \n",
       "5      Japan        Tokyo  \n",
       "6      India       Indore  \n",
       "7  Shrilanka      Colambo  "
      ]
     },
     "execution_count": 147,
     "metadata": {},
     "output_type": "execute_result"
    }
   ],
   "source": [
    "df = df.convert_dtypes()\n",
    "df"
   ]
  },
  {
   "cell_type": "code",
   "execution_count": 148,
   "id": "0f3519e8-f7d4-47d9-9b40-b2158a52e021",
   "metadata": {},
   "outputs": [
    {
     "name": "stdout",
     "output_type": "stream",
     "text": [
      "<class 'pandas.core.frame.DataFrame'>\n",
      "RangeIndex: 8 entries, 0 to 7\n",
      "Data columns (total 8 columns):\n",
      " #   Column      Non-Null Count  Dtype  \n",
      "---  ------      --------------  -----  \n",
      " 0   name        8 non-null      string \n",
      " 1   Age         8 non-null      Int32  \n",
      " 2   weight      8 non-null      Float64\n",
      " 3   height      8 non-null      Float64\n",
      " 4   Department  8 non-null      string \n",
      " 5   income      8 non-null      Int64  \n",
      " 6   country     8 non-null      string \n",
      " 7   city        8 non-null      string \n",
      "dtypes: Float64(2), Int32(1), Int64(1), string(4)\n",
      "memory usage: 644.0 bytes\n"
     ]
    }
   ],
   "source": [
    "df.info()"
   ]
  },
  {
   "cell_type": "markdown",
   "id": "bf8ba9d1-8fbd-498e-bacc-7e68d50427a8",
   "metadata": {
    "jp-MarkdownHeadingCollapsed": true
   },
   "source": [
    "### file reading and saving"
   ]
  },
  {
   "cell_type": "code",
   "execution_count": 149,
   "id": "c126a7d5-ed06-4a66-82d5-c98b45eaec45",
   "metadata": {},
   "outputs": [
    {
     "data": {
      "text/html": [
       "<div>\n",
       "<style scoped>\n",
       "    .dataframe tbody tr th:only-of-type {\n",
       "        vertical-align: middle;\n",
       "    }\n",
       "\n",
       "    .dataframe tbody tr th {\n",
       "        vertical-align: top;\n",
       "    }\n",
       "\n",
       "    .dataframe thead th {\n",
       "        text-align: right;\n",
       "    }\n",
       "</style>\n",
       "<table border=\"1\" class=\"dataframe\">\n",
       "  <thead>\n",
       "    <tr style=\"text-align: right;\">\n",
       "      <th></th>\n",
       "      <th>name</th>\n",
       "      <th>Age</th>\n",
       "      <th>weight</th>\n",
       "      <th>height</th>\n",
       "      <th>Department</th>\n",
       "      <th>income</th>\n",
       "      <th>country</th>\n",
       "      <th>city</th>\n",
       "    </tr>\n",
       "  </thead>\n",
       "  <tbody>\n",
       "    <tr>\n",
       "      <th>0</th>\n",
       "      <td>Salman</td>\n",
       "      <td>27</td>\n",
       "      <td>16.0</td>\n",
       "      <td>14.0</td>\n",
       "      <td>Information Technology</td>\n",
       "      <td>4000</td>\n",
       "      <td>India</td>\n",
       "      <td>Indore</td>\n",
       "    </tr>\n",
       "    <tr>\n",
       "      <th>1</th>\n",
       "      <td>Arbaz</td>\n",
       "      <td>45</td>\n",
       "      <td>27.333333</td>\n",
       "      <td>19.0</td>\n",
       "      <td>Sales</td>\n",
       "      <td>5000</td>\n",
       "      <td>USA</td>\n",
       "      <td>Los Angeles</td>\n",
       "    </tr>\n",
       "    <tr>\n",
       "      <th>2</th>\n",
       "      <td>Sohail</td>\n",
       "      <td>12</td>\n",
       "      <td>9.0</td>\n",
       "      <td>27.333333</td>\n",
       "      <td>Human Resource</td>\n",
       "      <td>6000</td>\n",
       "      <td>China</td>\n",
       "      <td>Wuhan</td>\n",
       "    </tr>\n",
       "    <tr>\n",
       "      <th>3</th>\n",
       "      <td>Neil</td>\n",
       "      <td>27</td>\n",
       "      <td>18.0</td>\n",
       "      <td>12.0</td>\n",
       "      <td>Healthcare</td>\n",
       "      <td>70000</td>\n",
       "      <td>India</td>\n",
       "      <td>Banglore</td>\n",
       "    </tr>\n",
       "    <tr>\n",
       "      <th>4</th>\n",
       "      <td>SUbham</td>\n",
       "      <td>25</td>\n",
       "      <td>75.0</td>\n",
       "      <td>64.0</td>\n",
       "      <td>Sales</td>\n",
       "      <td>7000</td>\n",
       "      <td>China</td>\n",
       "      <td>Bijing</td>\n",
       "    </tr>\n",
       "    <tr>\n",
       "      <th>5</th>\n",
       "      <td>Sakshi</td>\n",
       "      <td>27</td>\n",
       "      <td>80.0</td>\n",
       "      <td>27.333333</td>\n",
       "      <td>Automotive</td>\n",
       "      <td>7000</td>\n",
       "      <td>Japan</td>\n",
       "      <td>Tokyo</td>\n",
       "    </tr>\n",
       "    <tr>\n",
       "      <th>6</th>\n",
       "      <td>roahan</td>\n",
       "      <td>25</td>\n",
       "      <td>27.333333</td>\n",
       "      <td>64.0</td>\n",
       "      <td>Human Resource</td>\n",
       "      <td>9000</td>\n",
       "      <td>India</td>\n",
       "      <td>Indore</td>\n",
       "    </tr>\n",
       "    <tr>\n",
       "      <th>7</th>\n",
       "      <td>priyashu</td>\n",
       "      <td>30</td>\n",
       "      <td>60.0</td>\n",
       "      <td>64.0</td>\n",
       "      <td>Information Technology</td>\n",
       "      <td>10000</td>\n",
       "      <td>Shrilanka</td>\n",
       "      <td>Colambo</td>\n",
       "    </tr>\n",
       "  </tbody>\n",
       "</table>\n",
       "</div>"
      ],
      "text/plain": [
       "       name  Age     weight     height              Department  income  \\\n",
       "0    Salman   27       16.0       14.0  Information Technology    4000   \n",
       "1     Arbaz   45  27.333333       19.0                   Sales    5000   \n",
       "2    Sohail   12        9.0  27.333333          Human Resource    6000   \n",
       "3      Neil   27       18.0       12.0              Healthcare   70000   \n",
       "4    SUbham   25       75.0       64.0                   Sales    7000   \n",
       "5    Sakshi   27       80.0  27.333333              Automotive    7000   \n",
       "6    roahan   25  27.333333       64.0          Human Resource    9000   \n",
       "7  priyashu   30       60.0       64.0  Information Technology   10000   \n",
       "\n",
       "     country         city  \n",
       "0      India       Indore  \n",
       "1        USA  Los Angeles  \n",
       "2      China        Wuhan  \n",
       "3      India     Banglore  \n",
       "4      China       Bijing  \n",
       "5      Japan        Tokyo  \n",
       "6      India       Indore  \n",
       "7  Shrilanka      Colambo  "
      ]
     },
     "execution_count": 149,
     "metadata": {},
     "output_type": "execute_result"
    }
   ],
   "source": [
    "df"
   ]
  },
  {
   "cell_type": "code",
   "execution_count": 150,
   "id": "d77b50e0-7975-4090-988f-25f9edd9a074",
   "metadata": {},
   "outputs": [],
   "source": [
    "df.to_csv(\"Mydataframe.csv\")"
   ]
  },
  {
   "cell_type": "code",
   "execution_count": 151,
   "id": "0afa0315-81da-4719-a652-2ae520ca4682",
   "metadata": {},
   "outputs": [],
   "source": [
    "df.to_excel(\"Mydataframe1.xlsx\")"
   ]
  },
  {
   "cell_type": "code",
   "execution_count": 152,
   "id": "b15013b3-e911-4a16-9067-13f5ae52c6d3",
   "metadata": {},
   "outputs": [],
   "source": [
    "df.to_json(\"Mydataframe2.json\")"
   ]
  },
  {
   "cell_type": "markdown",
   "id": "f27ca9d5-f2d9-46dc-a909-b2b195872401",
   "metadata": {
    "jp-MarkdownHeadingCollapsed": true
   },
   "source": [
    "### Reading file from external sources"
   ]
  },
  {
   "cell_type": "code",
   "execution_count": 153,
   "id": "5557564f-ed09-4b00-bf5f-00b9240a9309",
   "metadata": {},
   "outputs": [],
   "source": [
    "data = pd.read_excel(r'E:\\DebugShala\\Python\\batch1\\Python libraries\\Pandas\\Unicorn_Companies.xlsx')"
   ]
  },
  {
   "cell_type": "code",
   "execution_count": 154,
   "id": "11ea81a4-9495-4a04-9957-d0a78b5b5777",
   "metadata": {},
   "outputs": [
    {
     "data": {
      "text/html": [
       "<div>\n",
       "<style scoped>\n",
       "    .dataframe tbody tr th:only-of-type {\n",
       "        vertical-align: middle;\n",
       "    }\n",
       "\n",
       "    .dataframe tbody tr th {\n",
       "        vertical-align: top;\n",
       "    }\n",
       "\n",
       "    .dataframe thead th {\n",
       "        text-align: right;\n",
       "    }\n",
       "</style>\n",
       "<table border=\"1\" class=\"dataframe\">\n",
       "  <thead>\n",
       "    <tr style=\"text-align: right;\">\n",
       "      <th></th>\n",
       "      <th>index</th>\n",
       "      <th>Company</th>\n",
       "      <th>Valuation</th>\n",
       "      <th>Date Joined</th>\n",
       "      <th>Industry</th>\n",
       "      <th>City</th>\n",
       "      <th>Country</th>\n",
       "      <th>Continent</th>\n",
       "      <th>Year Founded</th>\n",
       "      <th>Funding</th>\n",
       "      <th>Select Investors</th>\n",
       "    </tr>\n",
       "  </thead>\n",
       "  <tbody>\n",
       "    <tr>\n",
       "      <th>0</th>\n",
       "      <td>0</td>\n",
       "      <td>Bytedance</td>\n",
       "      <td>180000000000</td>\n",
       "      <td>2017-04-07</td>\n",
       "      <td>Artificial intelligence</td>\n",
       "      <td>Beijing</td>\n",
       "      <td>China</td>\n",
       "      <td>Asia</td>\n",
       "      <td>2012</td>\n",
       "      <td>8000000000</td>\n",
       "      <td>Sequoia Capital China, SIG Asia Investments, S...</td>\n",
       "    </tr>\n",
       "    <tr>\n",
       "      <th>1</th>\n",
       "      <td>1</td>\n",
       "      <td>SpaceX</td>\n",
       "      <td>100000000000</td>\n",
       "      <td>2012-12-01</td>\n",
       "      <td>Other</td>\n",
       "      <td>Hawthorne</td>\n",
       "      <td>United States</td>\n",
       "      <td>North America</td>\n",
       "      <td>2002</td>\n",
       "      <td>7000000000</td>\n",
       "      <td>Founders Fund, Draper Fisher Jurvetson, Rothen...</td>\n",
       "    </tr>\n",
       "    <tr>\n",
       "      <th>2</th>\n",
       "      <td>2</td>\n",
       "      <td>SHEIN</td>\n",
       "      <td>100000000000</td>\n",
       "      <td>2018-07-03</td>\n",
       "      <td>E-commerce &amp; direct-to-consumer</td>\n",
       "      <td>Shenzhen</td>\n",
       "      <td>China</td>\n",
       "      <td>Asia</td>\n",
       "      <td>2008</td>\n",
       "      <td>2000000000</td>\n",
       "      <td>Tiger Global Management, Sequoia Capital China...</td>\n",
       "    </tr>\n",
       "    <tr>\n",
       "      <th>3</th>\n",
       "      <td>3</td>\n",
       "      <td>Stripe</td>\n",
       "      <td>95000000000</td>\n",
       "      <td>2014-01-23</td>\n",
       "      <td>Fintech</td>\n",
       "      <td>San Francisco</td>\n",
       "      <td>United States</td>\n",
       "      <td>North America</td>\n",
       "      <td>2010</td>\n",
       "      <td>2000000000</td>\n",
       "      <td>Khosla Ventures, LowercaseCapital, capitalG</td>\n",
       "    </tr>\n",
       "    <tr>\n",
       "      <th>4</th>\n",
       "      <td>4</td>\n",
       "      <td>Klarna</td>\n",
       "      <td>46000000000</td>\n",
       "      <td>2011-12-12</td>\n",
       "      <td>Fintech</td>\n",
       "      <td>Stockholm</td>\n",
       "      <td>Sweden</td>\n",
       "      <td>Europe</td>\n",
       "      <td>2005</td>\n",
       "      <td>4000000000</td>\n",
       "      <td>Institutional Venture Partners, Sequoia Capita...</td>\n",
       "    </tr>\n",
       "    <tr>\n",
       "      <th>...</th>\n",
       "      <td>...</td>\n",
       "      <td>...</td>\n",
       "      <td>...</td>\n",
       "      <td>...</td>\n",
       "      <td>...</td>\n",
       "      <td>...</td>\n",
       "      <td>...</td>\n",
       "      <td>...</td>\n",
       "      <td>...</td>\n",
       "      <td>...</td>\n",
       "      <td>...</td>\n",
       "    </tr>\n",
       "    <tr>\n",
       "      <th>1052</th>\n",
       "      <td>1069</td>\n",
       "      <td>Zhaogang</td>\n",
       "      <td>1000000000</td>\n",
       "      <td>2017-06-29</td>\n",
       "      <td>E-commerce &amp; direct-to-consumer</td>\n",
       "      <td>Shanghai</td>\n",
       "      <td>China</td>\n",
       "      <td>Asia</td>\n",
       "      <td>2012</td>\n",
       "      <td>379000000</td>\n",
       "      <td>K2 Ventures, Matrix Partners China, IDG Capital</td>\n",
       "    </tr>\n",
       "    <tr>\n",
       "      <th>1053</th>\n",
       "      <td>1070</td>\n",
       "      <td>Zhuan Zhuan</td>\n",
       "      <td>1000000000</td>\n",
       "      <td>2017-04-18</td>\n",
       "      <td>E-commerce &amp; direct-to-consumer</td>\n",
       "      <td>Beijing</td>\n",
       "      <td>China</td>\n",
       "      <td>Asia</td>\n",
       "      <td>2015</td>\n",
       "      <td>990000000</td>\n",
       "      <td>58.com, Tencent Holdings</td>\n",
       "    </tr>\n",
       "    <tr>\n",
       "      <th>1054</th>\n",
       "      <td>1071</td>\n",
       "      <td>Zihaiguo</td>\n",
       "      <td>1000000000</td>\n",
       "      <td>2021-05-06</td>\n",
       "      <td>Consumer &amp; retail</td>\n",
       "      <td>Chongqing</td>\n",
       "      <td>China</td>\n",
       "      <td>Asia</td>\n",
       "      <td>2018</td>\n",
       "      <td>80000000</td>\n",
       "      <td>Xingwang Investment Management, China Capital ...</td>\n",
       "    </tr>\n",
       "    <tr>\n",
       "      <th>1055</th>\n",
       "      <td>1072</td>\n",
       "      <td>Zopa</td>\n",
       "      <td>1000000000</td>\n",
       "      <td>2021-10-19</td>\n",
       "      <td>Fintech</td>\n",
       "      <td>London</td>\n",
       "      <td>United Kingdom</td>\n",
       "      <td>Europe</td>\n",
       "      <td>2005</td>\n",
       "      <td>792000000</td>\n",
       "      <td>IAG Capital Partners, Augmentum Fintech, North...</td>\n",
       "    </tr>\n",
       "    <tr>\n",
       "      <th>1056</th>\n",
       "      <td>1073</td>\n",
       "      <td>Zwift</td>\n",
       "      <td>1000000000</td>\n",
       "      <td>2020-09-16</td>\n",
       "      <td>E-commerce &amp; direct-to-consumer</td>\n",
       "      <td>Long Beach</td>\n",
       "      <td>United States</td>\n",
       "      <td>North America</td>\n",
       "      <td>2014</td>\n",
       "      <td>620000000</td>\n",
       "      <td>Novator Partners, True, Causeway Media Partners</td>\n",
       "    </tr>\n",
       "  </tbody>\n",
       "</table>\n",
       "<p>1057 rows × 11 columns</p>\n",
       "</div>"
      ],
      "text/plain": [
       "      index      Company     Valuation Date Joined  \\\n",
       "0         0    Bytedance  180000000000  2017-04-07   \n",
       "1         1       SpaceX  100000000000  2012-12-01   \n",
       "2         2        SHEIN  100000000000  2018-07-03   \n",
       "3         3       Stripe   95000000000  2014-01-23   \n",
       "4         4       Klarna   46000000000  2011-12-12   \n",
       "...     ...          ...           ...         ...   \n",
       "1052   1069     Zhaogang    1000000000  2017-06-29   \n",
       "1053   1070  Zhuan Zhuan    1000000000  2017-04-18   \n",
       "1054   1071     Zihaiguo    1000000000  2021-05-06   \n",
       "1055   1072         Zopa    1000000000  2021-10-19   \n",
       "1056   1073        Zwift    1000000000  2020-09-16   \n",
       "\n",
       "                             Industry           City         Country  \\\n",
       "0             Artificial intelligence        Beijing           China   \n",
       "1                               Other      Hawthorne   United States   \n",
       "2     E-commerce & direct-to-consumer       Shenzhen           China   \n",
       "3                             Fintech  San Francisco   United States   \n",
       "4                             Fintech      Stockholm          Sweden   \n",
       "...                               ...            ...             ...   \n",
       "1052  E-commerce & direct-to-consumer       Shanghai           China   \n",
       "1053  E-commerce & direct-to-consumer        Beijing           China   \n",
       "1054                Consumer & retail      Chongqing           China   \n",
       "1055                          Fintech         London  United Kingdom   \n",
       "1056  E-commerce & direct-to-consumer     Long Beach   United States   \n",
       "\n",
       "          Continent  Year Founded     Funding  \\\n",
       "0              Asia          2012  8000000000   \n",
       "1     North America          2002  7000000000   \n",
       "2              Asia          2008  2000000000   \n",
       "3     North America          2010  2000000000   \n",
       "4            Europe          2005  4000000000   \n",
       "...             ...           ...         ...   \n",
       "1052           Asia          2012   379000000   \n",
       "1053           Asia          2015   990000000   \n",
       "1054           Asia          2018    80000000   \n",
       "1055         Europe          2005   792000000   \n",
       "1056  North America          2014   620000000   \n",
       "\n",
       "                                       Select Investors  \n",
       "0     Sequoia Capital China, SIG Asia Investments, S...  \n",
       "1     Founders Fund, Draper Fisher Jurvetson, Rothen...  \n",
       "2     Tiger Global Management, Sequoia Capital China...  \n",
       "3           Khosla Ventures, LowercaseCapital, capitalG  \n",
       "4     Institutional Venture Partners, Sequoia Capita...  \n",
       "...                                                 ...  \n",
       "1052    K2 Ventures, Matrix Partners China, IDG Capital  \n",
       "1053                           58.com, Tencent Holdings  \n",
       "1054  Xingwang Investment Management, China Capital ...  \n",
       "1055  IAG Capital Partners, Augmentum Fintech, North...  \n",
       "1056    Novator Partners, True, Causeway Media Partners  \n",
       "\n",
       "[1057 rows x 11 columns]"
      ]
     },
     "execution_count": 154,
     "metadata": {},
     "output_type": "execute_result"
    }
   ],
   "source": [
    "data"
   ]
  },
  {
   "cell_type": "code",
   "execution_count": 155,
   "id": "26ae2a3d-c740-4f14-b69b-2f03314e1cae",
   "metadata": {},
   "outputs": [
    {
     "data": {
      "text/html": [
       "<div>\n",
       "<style scoped>\n",
       "    .dataframe tbody tr th:only-of-type {\n",
       "        vertical-align: middle;\n",
       "    }\n",
       "\n",
       "    .dataframe tbody tr th {\n",
       "        vertical-align: top;\n",
       "    }\n",
       "\n",
       "    .dataframe thead th {\n",
       "        text-align: right;\n",
       "    }\n",
       "</style>\n",
       "<table border=\"1\" class=\"dataframe\">\n",
       "  <thead>\n",
       "    <tr style=\"text-align: right;\">\n",
       "      <th></th>\n",
       "      <th>index</th>\n",
       "      <th>Company</th>\n",
       "      <th>Valuation</th>\n",
       "      <th>Date Joined</th>\n",
       "      <th>Industry</th>\n",
       "      <th>City</th>\n",
       "      <th>Country</th>\n",
       "      <th>Continent</th>\n",
       "      <th>Year Founded</th>\n",
       "      <th>Funding</th>\n",
       "      <th>Select Investors</th>\n",
       "    </tr>\n",
       "  </thead>\n",
       "  <tbody>\n",
       "    <tr>\n",
       "      <th>0</th>\n",
       "      <td>0</td>\n",
       "      <td>Bytedance</td>\n",
       "      <td>180000000000</td>\n",
       "      <td>2017-04-07</td>\n",
       "      <td>Artificial intelligence</td>\n",
       "      <td>Beijing</td>\n",
       "      <td>China</td>\n",
       "      <td>Asia</td>\n",
       "      <td>2012</td>\n",
       "      <td>8000000000</td>\n",
       "      <td>Sequoia Capital China, SIG Asia Investments, S...</td>\n",
       "    </tr>\n",
       "    <tr>\n",
       "      <th>1</th>\n",
       "      <td>1</td>\n",
       "      <td>SpaceX</td>\n",
       "      <td>100000000000</td>\n",
       "      <td>2012-12-01</td>\n",
       "      <td>Other</td>\n",
       "      <td>Hawthorne</td>\n",
       "      <td>United States</td>\n",
       "      <td>North America</td>\n",
       "      <td>2002</td>\n",
       "      <td>7000000000</td>\n",
       "      <td>Founders Fund, Draper Fisher Jurvetson, Rothen...</td>\n",
       "    </tr>\n",
       "    <tr>\n",
       "      <th>2</th>\n",
       "      <td>2</td>\n",
       "      <td>SHEIN</td>\n",
       "      <td>100000000000</td>\n",
       "      <td>2018-07-03</td>\n",
       "      <td>E-commerce &amp; direct-to-consumer</td>\n",
       "      <td>Shenzhen</td>\n",
       "      <td>China</td>\n",
       "      <td>Asia</td>\n",
       "      <td>2008</td>\n",
       "      <td>2000000000</td>\n",
       "      <td>Tiger Global Management, Sequoia Capital China...</td>\n",
       "    </tr>\n",
       "    <tr>\n",
       "      <th>3</th>\n",
       "      <td>3</td>\n",
       "      <td>Stripe</td>\n",
       "      <td>95000000000</td>\n",
       "      <td>2014-01-23</td>\n",
       "      <td>Fintech</td>\n",
       "      <td>San Francisco</td>\n",
       "      <td>United States</td>\n",
       "      <td>North America</td>\n",
       "      <td>2010</td>\n",
       "      <td>2000000000</td>\n",
       "      <td>Khosla Ventures, LowercaseCapital, capitalG</td>\n",
       "    </tr>\n",
       "    <tr>\n",
       "      <th>4</th>\n",
       "      <td>4</td>\n",
       "      <td>Klarna</td>\n",
       "      <td>46000000000</td>\n",
       "      <td>2011-12-12</td>\n",
       "      <td>Fintech</td>\n",
       "      <td>Stockholm</td>\n",
       "      <td>Sweden</td>\n",
       "      <td>Europe</td>\n",
       "      <td>2005</td>\n",
       "      <td>4000000000</td>\n",
       "      <td>Institutional Venture Partners, Sequoia Capita...</td>\n",
       "    </tr>\n",
       "  </tbody>\n",
       "</table>\n",
       "</div>"
      ],
      "text/plain": [
       "   index    Company     Valuation Date Joined  \\\n",
       "0      0  Bytedance  180000000000  2017-04-07   \n",
       "1      1     SpaceX  100000000000  2012-12-01   \n",
       "2      2      SHEIN  100000000000  2018-07-03   \n",
       "3      3     Stripe   95000000000  2014-01-23   \n",
       "4      4     Klarna   46000000000  2011-12-12   \n",
       "\n",
       "                          Industry           City        Country  \\\n",
       "0          Artificial intelligence        Beijing          China   \n",
       "1                            Other      Hawthorne  United States   \n",
       "2  E-commerce & direct-to-consumer       Shenzhen          China   \n",
       "3                          Fintech  San Francisco  United States   \n",
       "4                          Fintech      Stockholm         Sweden   \n",
       "\n",
       "       Continent  Year Founded     Funding  \\\n",
       "0           Asia          2012  8000000000   \n",
       "1  North America          2002  7000000000   \n",
       "2           Asia          2008  2000000000   \n",
       "3  North America          2010  2000000000   \n",
       "4         Europe          2005  4000000000   \n",
       "\n",
       "                                    Select Investors  \n",
       "0  Sequoia Capital China, SIG Asia Investments, S...  \n",
       "1  Founders Fund, Draper Fisher Jurvetson, Rothen...  \n",
       "2  Tiger Global Management, Sequoia Capital China...  \n",
       "3        Khosla Ventures, LowercaseCapital, capitalG  \n",
       "4  Institutional Venture Partners, Sequoia Capita...  "
      ]
     },
     "execution_count": 155,
     "metadata": {},
     "output_type": "execute_result"
    }
   ],
   "source": [
    "data.head()"
   ]
  },
  {
   "cell_type": "code",
   "execution_count": 156,
   "id": "25c77eb0-c9c8-4b5f-b184-0bcbd4800460",
   "metadata": {},
   "outputs": [
    {
     "data": {
      "text/html": [
       "<div>\n",
       "<style scoped>\n",
       "    .dataframe tbody tr th:only-of-type {\n",
       "        vertical-align: middle;\n",
       "    }\n",
       "\n",
       "    .dataframe tbody tr th {\n",
       "        vertical-align: top;\n",
       "    }\n",
       "\n",
       "    .dataframe thead th {\n",
       "        text-align: right;\n",
       "    }\n",
       "</style>\n",
       "<table border=\"1\" class=\"dataframe\">\n",
       "  <thead>\n",
       "    <tr style=\"text-align: right;\">\n",
       "      <th></th>\n",
       "      <th>index</th>\n",
       "      <th>Company</th>\n",
       "      <th>Valuation</th>\n",
       "      <th>Date Joined</th>\n",
       "      <th>Industry</th>\n",
       "      <th>City</th>\n",
       "      <th>Country</th>\n",
       "      <th>Continent</th>\n",
       "      <th>Year Founded</th>\n",
       "      <th>Funding</th>\n",
       "      <th>Select Investors</th>\n",
       "    </tr>\n",
       "  </thead>\n",
       "  <tbody>\n",
       "    <tr>\n",
       "      <th>1052</th>\n",
       "      <td>1069</td>\n",
       "      <td>Zhaogang</td>\n",
       "      <td>1000000000</td>\n",
       "      <td>2017-06-29</td>\n",
       "      <td>E-commerce &amp; direct-to-consumer</td>\n",
       "      <td>Shanghai</td>\n",
       "      <td>China</td>\n",
       "      <td>Asia</td>\n",
       "      <td>2012</td>\n",
       "      <td>379000000</td>\n",
       "      <td>K2 Ventures, Matrix Partners China, IDG Capital</td>\n",
       "    </tr>\n",
       "    <tr>\n",
       "      <th>1053</th>\n",
       "      <td>1070</td>\n",
       "      <td>Zhuan Zhuan</td>\n",
       "      <td>1000000000</td>\n",
       "      <td>2017-04-18</td>\n",
       "      <td>E-commerce &amp; direct-to-consumer</td>\n",
       "      <td>Beijing</td>\n",
       "      <td>China</td>\n",
       "      <td>Asia</td>\n",
       "      <td>2015</td>\n",
       "      <td>990000000</td>\n",
       "      <td>58.com, Tencent Holdings</td>\n",
       "    </tr>\n",
       "    <tr>\n",
       "      <th>1054</th>\n",
       "      <td>1071</td>\n",
       "      <td>Zihaiguo</td>\n",
       "      <td>1000000000</td>\n",
       "      <td>2021-05-06</td>\n",
       "      <td>Consumer &amp; retail</td>\n",
       "      <td>Chongqing</td>\n",
       "      <td>China</td>\n",
       "      <td>Asia</td>\n",
       "      <td>2018</td>\n",
       "      <td>80000000</td>\n",
       "      <td>Xingwang Investment Management, China Capital ...</td>\n",
       "    </tr>\n",
       "    <tr>\n",
       "      <th>1055</th>\n",
       "      <td>1072</td>\n",
       "      <td>Zopa</td>\n",
       "      <td>1000000000</td>\n",
       "      <td>2021-10-19</td>\n",
       "      <td>Fintech</td>\n",
       "      <td>London</td>\n",
       "      <td>United Kingdom</td>\n",
       "      <td>Europe</td>\n",
       "      <td>2005</td>\n",
       "      <td>792000000</td>\n",
       "      <td>IAG Capital Partners, Augmentum Fintech, North...</td>\n",
       "    </tr>\n",
       "    <tr>\n",
       "      <th>1056</th>\n",
       "      <td>1073</td>\n",
       "      <td>Zwift</td>\n",
       "      <td>1000000000</td>\n",
       "      <td>2020-09-16</td>\n",
       "      <td>E-commerce &amp; direct-to-consumer</td>\n",
       "      <td>Long Beach</td>\n",
       "      <td>United States</td>\n",
       "      <td>North America</td>\n",
       "      <td>2014</td>\n",
       "      <td>620000000</td>\n",
       "      <td>Novator Partners, True, Causeway Media Partners</td>\n",
       "    </tr>\n",
       "  </tbody>\n",
       "</table>\n",
       "</div>"
      ],
      "text/plain": [
       "      index      Company   Valuation Date Joined  \\\n",
       "1052   1069     Zhaogang  1000000000  2017-06-29   \n",
       "1053   1070  Zhuan Zhuan  1000000000  2017-04-18   \n",
       "1054   1071     Zihaiguo  1000000000  2021-05-06   \n",
       "1055   1072         Zopa  1000000000  2021-10-19   \n",
       "1056   1073        Zwift  1000000000  2020-09-16   \n",
       "\n",
       "                             Industry        City         Country  \\\n",
       "1052  E-commerce & direct-to-consumer    Shanghai           China   \n",
       "1053  E-commerce & direct-to-consumer     Beijing           China   \n",
       "1054                Consumer & retail   Chongqing           China   \n",
       "1055                          Fintech      London  United Kingdom   \n",
       "1056  E-commerce & direct-to-consumer  Long Beach   United States   \n",
       "\n",
       "          Continent  Year Founded    Funding  \\\n",
       "1052           Asia          2012  379000000   \n",
       "1053           Asia          2015  990000000   \n",
       "1054           Asia          2018   80000000   \n",
       "1055         Europe          2005  792000000   \n",
       "1056  North America          2014  620000000   \n",
       "\n",
       "                                       Select Investors  \n",
       "1052    K2 Ventures, Matrix Partners China, IDG Capital  \n",
       "1053                           58.com, Tencent Holdings  \n",
       "1054  Xingwang Investment Management, China Capital ...  \n",
       "1055  IAG Capital Partners, Augmentum Fintech, North...  \n",
       "1056    Novator Partners, True, Causeway Media Partners  "
      ]
     },
     "execution_count": 156,
     "metadata": {},
     "output_type": "execute_result"
    }
   ],
   "source": [
    "data.tail()"
   ]
  },
  {
   "cell_type": "code",
   "execution_count": 157,
   "id": "de08e1f0-fced-44d0-be5a-469ca01ae3e6",
   "metadata": {},
   "outputs": [
    {
     "name": "stdout",
     "output_type": "stream",
     "text": [
      "<class 'pandas.core.frame.DataFrame'>\n",
      "RangeIndex: 1057 entries, 0 to 1056\n",
      "Data columns (total 11 columns):\n",
      " #   Column            Non-Null Count  Dtype         \n",
      "---  ------            --------------  -----         \n",
      " 0   index             1057 non-null   int64         \n",
      " 1   Company           1057 non-null   object        \n",
      " 2   Valuation         1057 non-null   int64         \n",
      " 3   Date Joined       1057 non-null   datetime64[ns]\n",
      " 4   Industry          1057 non-null   object        \n",
      " 5   City              1057 non-null   object        \n",
      " 6   Country           1057 non-null   object        \n",
      " 7   Continent         1057 non-null   object        \n",
      " 8   Year Founded      1057 non-null   int64         \n",
      " 9   Funding           1057 non-null   int64         \n",
      " 10  Select Investors  1057 non-null   object        \n",
      "dtypes: datetime64[ns](1), int64(4), object(6)\n",
      "memory usage: 91.0+ KB\n"
     ]
    }
   ],
   "source": [
    "data.info()"
   ]
  },
  {
   "cell_type": "code",
   "execution_count": 158,
   "id": "b46a27ff-b6b4-4d9a-90a4-e1089b165a5a",
   "metadata": {},
   "outputs": [
    {
     "data": {
      "text/html": [
       "<div>\n",
       "<style scoped>\n",
       "    .dataframe tbody tr th:only-of-type {\n",
       "        vertical-align: middle;\n",
       "    }\n",
       "\n",
       "    .dataframe tbody tr th {\n",
       "        vertical-align: top;\n",
       "    }\n",
       "\n",
       "    .dataframe thead th {\n",
       "        text-align: right;\n",
       "    }\n",
       "</style>\n",
       "<table border=\"1\" class=\"dataframe\">\n",
       "  <thead>\n",
       "    <tr style=\"text-align: right;\">\n",
       "      <th></th>\n",
       "      <th>index</th>\n",
       "      <th>Valuation</th>\n",
       "      <th>Date Joined</th>\n",
       "      <th>Year Founded</th>\n",
       "      <th>Funding</th>\n",
       "    </tr>\n",
       "  </thead>\n",
       "  <tbody>\n",
       "    <tr>\n",
       "      <th>count</th>\n",
       "      <td>1057.000000</td>\n",
       "      <td>1.057000e+03</td>\n",
       "      <td>1057</td>\n",
       "      <td>1057.000000</td>\n",
       "      <td>1.057000e+03</td>\n",
       "    </tr>\n",
       "    <tr>\n",
       "      <th>mean</th>\n",
       "      <td>534.822138</td>\n",
       "      <td>3.455061e+09</td>\n",
       "      <td>2020-05-17 09:02:12.828760832</td>\n",
       "      <td>2012.871334</td>\n",
       "      <td>5.674920e+08</td>\n",
       "    </tr>\n",
       "    <tr>\n",
       "      <th>min</th>\n",
       "      <td>0.000000</td>\n",
       "      <td>1.000000e+09</td>\n",
       "      <td>2007-07-02 00:00:00</td>\n",
       "      <td>1919.000000</td>\n",
       "      <td>0.000000e+00</td>\n",
       "    </tr>\n",
       "    <tr>\n",
       "      <th>25%</th>\n",
       "      <td>268.000000</td>\n",
       "      <td>1.000000e+09</td>\n",
       "      <td>2019-05-16 00:00:00</td>\n",
       "      <td>2011.000000</td>\n",
       "      <td>2.240000e+08</td>\n",
       "    </tr>\n",
       "    <tr>\n",
       "      <th>50%</th>\n",
       "      <td>534.000000</td>\n",
       "      <td>2.000000e+09</td>\n",
       "      <td>2021-03-26 00:00:00</td>\n",
       "      <td>2014.000000</td>\n",
       "      <td>3.740000e+08</td>\n",
       "    </tr>\n",
       "    <tr>\n",
       "      <th>75%</th>\n",
       "      <td>800.000000</td>\n",
       "      <td>3.000000e+09</td>\n",
       "      <td>2021-09-21 00:00:00</td>\n",
       "      <td>2016.000000</td>\n",
       "      <td>6.280000e+08</td>\n",
       "    </tr>\n",
       "    <tr>\n",
       "      <th>max</th>\n",
       "      <td>1073.000000</td>\n",
       "      <td>1.800000e+11</td>\n",
       "      <td>2022-04-05 00:00:00</td>\n",
       "      <td>2021.000000</td>\n",
       "      <td>1.400000e+10</td>\n",
       "    </tr>\n",
       "    <tr>\n",
       "      <th>std</th>\n",
       "      <td>309.498193</td>\n",
       "      <td>8.567033e+09</td>\n",
       "      <td>NaN</td>\n",
       "      <td>5.726277</td>\n",
       "      <td>8.201835e+08</td>\n",
       "    </tr>\n",
       "  </tbody>\n",
       "</table>\n",
       "</div>"
      ],
      "text/plain": [
       "             index     Valuation                    Date Joined  Year Founded  \\\n",
       "count  1057.000000  1.057000e+03                           1057   1057.000000   \n",
       "mean    534.822138  3.455061e+09  2020-05-17 09:02:12.828760832   2012.871334   \n",
       "min       0.000000  1.000000e+09            2007-07-02 00:00:00   1919.000000   \n",
       "25%     268.000000  1.000000e+09            2019-05-16 00:00:00   2011.000000   \n",
       "50%     534.000000  2.000000e+09            2021-03-26 00:00:00   2014.000000   \n",
       "75%     800.000000  3.000000e+09            2021-09-21 00:00:00   2016.000000   \n",
       "max    1073.000000  1.800000e+11            2022-04-05 00:00:00   2021.000000   \n",
       "std     309.498193  8.567033e+09                            NaN      5.726277   \n",
       "\n",
       "            Funding  \n",
       "count  1.057000e+03  \n",
       "mean   5.674920e+08  \n",
       "min    0.000000e+00  \n",
       "25%    2.240000e+08  \n",
       "50%    3.740000e+08  \n",
       "75%    6.280000e+08  \n",
       "max    1.400000e+10  \n",
       "std    8.201835e+08  "
      ]
     },
     "execution_count": 158,
     "metadata": {},
     "output_type": "execute_result"
    }
   ],
   "source": [
    "data.describe()"
   ]
  },
  {
   "cell_type": "markdown",
   "id": "fad5dd4e-91b0-4bac-b816-d9ac90124cc1",
   "metadata": {},
   "source": [
    "### Dataframe merging"
   ]
  },
  {
   "cell_type": "code",
   "execution_count": 159,
   "id": "b4615348-bad3-4f83-8d8f-ae42bd2d5494",
   "metadata": {},
   "outputs": [
    {
     "data": {
      "text/html": [
       "<div>\n",
       "<style scoped>\n",
       "    .dataframe tbody tr th:only-of-type {\n",
       "        vertical-align: middle;\n",
       "    }\n",
       "\n",
       "    .dataframe tbody tr th {\n",
       "        vertical-align: top;\n",
       "    }\n",
       "\n",
       "    .dataframe thead th {\n",
       "        text-align: right;\n",
       "    }\n",
       "</style>\n",
       "<table border=\"1\" class=\"dataframe\">\n",
       "  <thead>\n",
       "    <tr style=\"text-align: right;\">\n",
       "      <th></th>\n",
       "      <th>Name</th>\n",
       "      <th>Value1</th>\n",
       "    </tr>\n",
       "  </thead>\n",
       "  <tbody>\n",
       "    <tr>\n",
       "      <th>0</th>\n",
       "      <td>A</td>\n",
       "      <td>1</td>\n",
       "    </tr>\n",
       "    <tr>\n",
       "      <th>1</th>\n",
       "      <td>B</td>\n",
       "      <td>2</td>\n",
       "    </tr>\n",
       "    <tr>\n",
       "      <th>2</th>\n",
       "      <td>C</td>\n",
       "      <td>3</td>\n",
       "    </tr>\n",
       "    <tr>\n",
       "      <th>3</th>\n",
       "      <td>D</td>\n",
       "      <td>4</td>\n",
       "    </tr>\n",
       "  </tbody>\n",
       "</table>\n",
       "</div>"
      ],
      "text/plain": [
       "  Name  Value1\n",
       "0    A       1\n",
       "1    B       2\n",
       "2    C       3\n",
       "3    D       4"
      ]
     },
     "execution_count": 159,
     "metadata": {},
     "output_type": "execute_result"
    }
   ],
   "source": [
    "import pandas as pd\n",
    "df1 = pd.DataFrame({\n",
    "    'Name':['A','B','C','D'],\n",
    "     'Value1':[1,2,3,4]      \n",
    "})\n",
    "df1"
   ]
  },
  {
   "cell_type": "code",
   "execution_count": 160,
   "id": "416e6a95-a793-4af4-970e-3d204d6b8642",
   "metadata": {},
   "outputs": [
    {
     "data": {
      "text/html": [
       "<div>\n",
       "<style scoped>\n",
       "    .dataframe tbody tr th:only-of-type {\n",
       "        vertical-align: middle;\n",
       "    }\n",
       "\n",
       "    .dataframe tbody tr th {\n",
       "        vertical-align: top;\n",
       "    }\n",
       "\n",
       "    .dataframe thead th {\n",
       "        text-align: right;\n",
       "    }\n",
       "</style>\n",
       "<table border=\"1\" class=\"dataframe\">\n",
       "  <thead>\n",
       "    <tr style=\"text-align: right;\">\n",
       "      <th></th>\n",
       "      <th>Name</th>\n",
       "      <th>Value2</th>\n",
       "    </tr>\n",
       "  </thead>\n",
       "  <tbody>\n",
       "    <tr>\n",
       "      <th>0</th>\n",
       "      <td>B</td>\n",
       "      <td>10</td>\n",
       "    </tr>\n",
       "    <tr>\n",
       "      <th>1</th>\n",
       "      <td>D</td>\n",
       "      <td>20</td>\n",
       "    </tr>\n",
       "    <tr>\n",
       "      <th>2</th>\n",
       "      <td>E</td>\n",
       "      <td>30</td>\n",
       "    </tr>\n",
       "    <tr>\n",
       "      <th>3</th>\n",
       "      <td>F</td>\n",
       "      <td>40</td>\n",
       "    </tr>\n",
       "  </tbody>\n",
       "</table>\n",
       "</div>"
      ],
      "text/plain": [
       "  Name  Value2\n",
       "0    B      10\n",
       "1    D      20\n",
       "2    E      30\n",
       "3    F      40"
      ]
     },
     "execution_count": 160,
     "metadata": {},
     "output_type": "execute_result"
    }
   ],
   "source": [
    "df2 = pd.DataFrame({\n",
    "    'Name':['B','D',\"E\",\"F\"],\n",
    "     'Value2':[10,20,30,40]      \n",
    "})\n",
    "df2"
   ]
  },
  {
   "cell_type": "code",
   "execution_count": 161,
   "id": "9de59966-561e-4fcd-80c9-57eb927dc277",
   "metadata": {},
   "outputs": [
    {
     "data": {
      "text/html": [
       "<div>\n",
       "<style scoped>\n",
       "    .dataframe tbody tr th:only-of-type {\n",
       "        vertical-align: middle;\n",
       "    }\n",
       "\n",
       "    .dataframe tbody tr th {\n",
       "        vertical-align: top;\n",
       "    }\n",
       "\n",
       "    .dataframe thead th {\n",
       "        text-align: right;\n",
       "    }\n",
       "</style>\n",
       "<table border=\"1\" class=\"dataframe\">\n",
       "  <thead>\n",
       "    <tr style=\"text-align: right;\">\n",
       "      <th></th>\n",
       "      <th>Name</th>\n",
       "      <th>Value1</th>\n",
       "      <th>Value2</th>\n",
       "    </tr>\n",
       "  </thead>\n",
       "  <tbody>\n",
       "    <tr>\n",
       "      <th>0</th>\n",
       "      <td>B</td>\n",
       "      <td>2</td>\n",
       "      <td>10</td>\n",
       "    </tr>\n",
       "    <tr>\n",
       "      <th>1</th>\n",
       "      <td>D</td>\n",
       "      <td>4</td>\n",
       "      <td>20</td>\n",
       "    </tr>\n",
       "  </tbody>\n",
       "</table>\n",
       "</div>"
      ],
      "text/plain": [
       "  Name  Value1  Value2\n",
       "0    B       2      10\n",
       "1    D       4      20"
      ]
     },
     "execution_count": 161,
     "metadata": {},
     "output_type": "execute_result"
    }
   ],
   "source": [
    "pd.merge(df1,df2,on='Name',how='inner') # inner join or merging"
   ]
  },
  {
   "cell_type": "code",
   "execution_count": 162,
   "id": "13e93eed-152c-413a-9a13-a3778fd409f4",
   "metadata": {},
   "outputs": [
    {
     "data": {
      "text/html": [
       "<div>\n",
       "<style scoped>\n",
       "    .dataframe tbody tr th:only-of-type {\n",
       "        vertical-align: middle;\n",
       "    }\n",
       "\n",
       "    .dataframe tbody tr th {\n",
       "        vertical-align: top;\n",
       "    }\n",
       "\n",
       "    .dataframe thead th {\n",
       "        text-align: right;\n",
       "    }\n",
       "</style>\n",
       "<table border=\"1\" class=\"dataframe\">\n",
       "  <thead>\n",
       "    <tr style=\"text-align: right;\">\n",
       "      <th></th>\n",
       "      <th>Name</th>\n",
       "      <th>Value1</th>\n",
       "      <th>Value2</th>\n",
       "    </tr>\n",
       "  </thead>\n",
       "  <tbody>\n",
       "    <tr>\n",
       "      <th>0</th>\n",
       "      <td>A</td>\n",
       "      <td>1</td>\n",
       "      <td>NaN</td>\n",
       "    </tr>\n",
       "    <tr>\n",
       "      <th>1</th>\n",
       "      <td>B</td>\n",
       "      <td>2</td>\n",
       "      <td>10.0</td>\n",
       "    </tr>\n",
       "    <tr>\n",
       "      <th>2</th>\n",
       "      <td>C</td>\n",
       "      <td>3</td>\n",
       "      <td>NaN</td>\n",
       "    </tr>\n",
       "    <tr>\n",
       "      <th>3</th>\n",
       "      <td>D</td>\n",
       "      <td>4</td>\n",
       "      <td>20.0</td>\n",
       "    </tr>\n",
       "  </tbody>\n",
       "</table>\n",
       "</div>"
      ],
      "text/plain": [
       "  Name  Value1  Value2\n",
       "0    A       1     NaN\n",
       "1    B       2    10.0\n",
       "2    C       3     NaN\n",
       "3    D       4    20.0"
      ]
     },
     "execution_count": 162,
     "metadata": {},
     "output_type": "execute_result"
    }
   ],
   "source": [
    "pd.merge(df1,df2,on='Name',how='left') # left "
   ]
  },
  {
   "cell_type": "code",
   "execution_count": 163,
   "id": "1a93bdb5-08e1-4ed5-b34a-f6e291104ad9",
   "metadata": {},
   "outputs": [
    {
     "data": {
      "text/html": [
       "<div>\n",
       "<style scoped>\n",
       "    .dataframe tbody tr th:only-of-type {\n",
       "        vertical-align: middle;\n",
       "    }\n",
       "\n",
       "    .dataframe tbody tr th {\n",
       "        vertical-align: top;\n",
       "    }\n",
       "\n",
       "    .dataframe thead th {\n",
       "        text-align: right;\n",
       "    }\n",
       "</style>\n",
       "<table border=\"1\" class=\"dataframe\">\n",
       "  <thead>\n",
       "    <tr style=\"text-align: right;\">\n",
       "      <th></th>\n",
       "      <th>Name</th>\n",
       "      <th>Value1</th>\n",
       "      <th>Value2</th>\n",
       "    </tr>\n",
       "  </thead>\n",
       "  <tbody>\n",
       "    <tr>\n",
       "      <th>0</th>\n",
       "      <td>B</td>\n",
       "      <td>2.0</td>\n",
       "      <td>10</td>\n",
       "    </tr>\n",
       "    <tr>\n",
       "      <th>1</th>\n",
       "      <td>D</td>\n",
       "      <td>4.0</td>\n",
       "      <td>20</td>\n",
       "    </tr>\n",
       "    <tr>\n",
       "      <th>2</th>\n",
       "      <td>E</td>\n",
       "      <td>NaN</td>\n",
       "      <td>30</td>\n",
       "    </tr>\n",
       "    <tr>\n",
       "      <th>3</th>\n",
       "      <td>F</td>\n",
       "      <td>NaN</td>\n",
       "      <td>40</td>\n",
       "    </tr>\n",
       "  </tbody>\n",
       "</table>\n",
       "</div>"
      ],
      "text/plain": [
       "  Name  Value1  Value2\n",
       "0    B     2.0      10\n",
       "1    D     4.0      20\n",
       "2    E     NaN      30\n",
       "3    F     NaN      40"
      ]
     },
     "execution_count": 163,
     "metadata": {},
     "output_type": "execute_result"
    }
   ],
   "source": [
    "pd.merge(df1,df2,on='Name',how='right') # right"
   ]
  },
  {
   "cell_type": "code",
   "execution_count": 164,
   "id": "76833a04-535e-420a-a343-f96ac49f745d",
   "metadata": {},
   "outputs": [
    {
     "data": {
      "text/html": [
       "<div>\n",
       "<style scoped>\n",
       "    .dataframe tbody tr th:only-of-type {\n",
       "        vertical-align: middle;\n",
       "    }\n",
       "\n",
       "    .dataframe tbody tr th {\n",
       "        vertical-align: top;\n",
       "    }\n",
       "\n",
       "    .dataframe thead th {\n",
       "        text-align: right;\n",
       "    }\n",
       "</style>\n",
       "<table border=\"1\" class=\"dataframe\">\n",
       "  <thead>\n",
       "    <tr style=\"text-align: right;\">\n",
       "      <th></th>\n",
       "      <th>Name</th>\n",
       "      <th>Value1</th>\n",
       "      <th>Value2</th>\n",
       "    </tr>\n",
       "  </thead>\n",
       "  <tbody>\n",
       "    <tr>\n",
       "      <th>0</th>\n",
       "      <td>A</td>\n",
       "      <td>1.0</td>\n",
       "      <td>NaN</td>\n",
       "    </tr>\n",
       "    <tr>\n",
       "      <th>1</th>\n",
       "      <td>B</td>\n",
       "      <td>2.0</td>\n",
       "      <td>10.0</td>\n",
       "    </tr>\n",
       "    <tr>\n",
       "      <th>2</th>\n",
       "      <td>C</td>\n",
       "      <td>3.0</td>\n",
       "      <td>NaN</td>\n",
       "    </tr>\n",
       "    <tr>\n",
       "      <th>3</th>\n",
       "      <td>D</td>\n",
       "      <td>4.0</td>\n",
       "      <td>20.0</td>\n",
       "    </tr>\n",
       "    <tr>\n",
       "      <th>4</th>\n",
       "      <td>E</td>\n",
       "      <td>NaN</td>\n",
       "      <td>30.0</td>\n",
       "    </tr>\n",
       "    <tr>\n",
       "      <th>5</th>\n",
       "      <td>F</td>\n",
       "      <td>NaN</td>\n",
       "      <td>40.0</td>\n",
       "    </tr>\n",
       "  </tbody>\n",
       "</table>\n",
       "</div>"
      ],
      "text/plain": [
       "  Name  Value1  Value2\n",
       "0    A     1.0     NaN\n",
       "1    B     2.0    10.0\n",
       "2    C     3.0     NaN\n",
       "3    D     4.0    20.0\n",
       "4    E     NaN    30.0\n",
       "5    F     NaN    40.0"
      ]
     },
     "execution_count": 164,
     "metadata": {},
     "output_type": "execute_result"
    }
   ],
   "source": [
    "pd.merge(df1,df2,on='Name',how='outer') # left "
   ]
  },
  {
   "cell_type": "markdown",
   "id": "856a7090-ceb7-4779-b27d-fc8e2ef65c71",
   "metadata": {},
   "source": [
    "#### Join"
   ]
  },
  {
   "cell_type": "code",
   "execution_count": 165,
   "id": "21367a6b-5efb-4008-ac9c-ca5bd6d5a7bb",
   "metadata": {},
   "outputs": [],
   "source": [
    "import pandas as pd"
   ]
  },
  {
   "cell_type": "code",
   "execution_count": 166,
   "id": "21623602-6745-4d8f-bdff-31d2fed5478e",
   "metadata": {},
   "outputs": [
    {
     "data": {
      "text/html": [
       "<div>\n",
       "<style scoped>\n",
       "    .dataframe tbody tr th:only-of-type {\n",
       "        vertical-align: middle;\n",
       "    }\n",
       "\n",
       "    .dataframe tbody tr th {\n",
       "        vertical-align: top;\n",
       "    }\n",
       "\n",
       "    .dataframe thead th {\n",
       "        text-align: right;\n",
       "    }\n",
       "</style>\n",
       "<table border=\"1\" class=\"dataframe\">\n",
       "  <thead>\n",
       "    <tr style=\"text-align: right;\">\n",
       "      <th></th>\n",
       "      <th>Name</th>\n",
       "      <th>Value1</th>\n",
       "    </tr>\n",
       "  </thead>\n",
       "  <tbody>\n",
       "    <tr>\n",
       "      <th>0</th>\n",
       "      <td>A</td>\n",
       "      <td>1</td>\n",
       "    </tr>\n",
       "    <tr>\n",
       "      <th>1</th>\n",
       "      <td>B</td>\n",
       "      <td>2</td>\n",
       "    </tr>\n",
       "    <tr>\n",
       "      <th>2</th>\n",
       "      <td>C</td>\n",
       "      <td>3</td>\n",
       "    </tr>\n",
       "    <tr>\n",
       "      <th>3</th>\n",
       "      <td>D</td>\n",
       "      <td>4</td>\n",
       "    </tr>\n",
       "  </tbody>\n",
       "</table>\n",
       "</div>"
      ],
      "text/plain": [
       "  Name  Value1\n",
       "0    A       1\n",
       "1    B       2\n",
       "2    C       3\n",
       "3    D       4"
      ]
     },
     "execution_count": 166,
     "metadata": {},
     "output_type": "execute_result"
    }
   ],
   "source": [
    "df1"
   ]
  },
  {
   "cell_type": "code",
   "execution_count": 167,
   "id": "a9999017-1790-44a3-993b-25a96c83fcec",
   "metadata": {},
   "outputs": [
    {
     "data": {
      "text/html": [
       "<div>\n",
       "<style scoped>\n",
       "    .dataframe tbody tr th:only-of-type {\n",
       "        vertical-align: middle;\n",
       "    }\n",
       "\n",
       "    .dataframe tbody tr th {\n",
       "        vertical-align: top;\n",
       "    }\n",
       "\n",
       "    .dataframe thead th {\n",
       "        text-align: right;\n",
       "    }\n",
       "</style>\n",
       "<table border=\"1\" class=\"dataframe\">\n",
       "  <thead>\n",
       "    <tr style=\"text-align: right;\">\n",
       "      <th></th>\n",
       "      <th>Name</th>\n",
       "      <th>Value2</th>\n",
       "    </tr>\n",
       "  </thead>\n",
       "  <tbody>\n",
       "    <tr>\n",
       "      <th>0</th>\n",
       "      <td>B</td>\n",
       "      <td>10</td>\n",
       "    </tr>\n",
       "    <tr>\n",
       "      <th>1</th>\n",
       "      <td>D</td>\n",
       "      <td>20</td>\n",
       "    </tr>\n",
       "    <tr>\n",
       "      <th>2</th>\n",
       "      <td>E</td>\n",
       "      <td>30</td>\n",
       "    </tr>\n",
       "    <tr>\n",
       "      <th>3</th>\n",
       "      <td>F</td>\n",
       "      <td>40</td>\n",
       "    </tr>\n",
       "  </tbody>\n",
       "</table>\n",
       "</div>"
      ],
      "text/plain": [
       "  Name  Value2\n",
       "0    B      10\n",
       "1    D      20\n",
       "2    E      30\n",
       "3    F      40"
      ]
     },
     "execution_count": 167,
     "metadata": {},
     "output_type": "execute_result"
    }
   ],
   "source": [
    "df2"
   ]
  },
  {
   "cell_type": "code",
   "execution_count": 168,
   "id": "3315c064-64b7-43bd-9d00-201dc44b4391",
   "metadata": {},
   "outputs": [],
   "source": [
    "df1.set_index('Name', inplace=True)\n",
    "df2.set_index('Name', inplace=True)"
   ]
  },
  {
   "cell_type": "code",
   "execution_count": 169,
   "id": "8e87c787-f357-485e-a72c-37ae9fc830d9",
   "metadata": {},
   "outputs": [
    {
     "data": {
      "text/html": [
       "<div>\n",
       "<style scoped>\n",
       "    .dataframe tbody tr th:only-of-type {\n",
       "        vertical-align: middle;\n",
       "    }\n",
       "\n",
       "    .dataframe tbody tr th {\n",
       "        vertical-align: top;\n",
       "    }\n",
       "\n",
       "    .dataframe thead th {\n",
       "        text-align: right;\n",
       "    }\n",
       "</style>\n",
       "<table border=\"1\" class=\"dataframe\">\n",
       "  <thead>\n",
       "    <tr style=\"text-align: right;\">\n",
       "      <th></th>\n",
       "      <th>Value1</th>\n",
       "    </tr>\n",
       "    <tr>\n",
       "      <th>Name</th>\n",
       "      <th></th>\n",
       "    </tr>\n",
       "  </thead>\n",
       "  <tbody>\n",
       "    <tr>\n",
       "      <th>A</th>\n",
       "      <td>1</td>\n",
       "    </tr>\n",
       "    <tr>\n",
       "      <th>B</th>\n",
       "      <td>2</td>\n",
       "    </tr>\n",
       "    <tr>\n",
       "      <th>C</th>\n",
       "      <td>3</td>\n",
       "    </tr>\n",
       "    <tr>\n",
       "      <th>D</th>\n",
       "      <td>4</td>\n",
       "    </tr>\n",
       "  </tbody>\n",
       "</table>\n",
       "</div>"
      ],
      "text/plain": [
       "      Value1\n",
       "Name        \n",
       "A          1\n",
       "B          2\n",
       "C          3\n",
       "D          4"
      ]
     },
     "execution_count": 169,
     "metadata": {},
     "output_type": "execute_result"
    }
   ],
   "source": [
    "df1"
   ]
  },
  {
   "cell_type": "code",
   "execution_count": 170,
   "id": "d8153f2f-adbd-4f74-a6fd-f4f2cbacf9ab",
   "metadata": {},
   "outputs": [
    {
     "data": {
      "text/html": [
       "<div>\n",
       "<style scoped>\n",
       "    .dataframe tbody tr th:only-of-type {\n",
       "        vertical-align: middle;\n",
       "    }\n",
       "\n",
       "    .dataframe tbody tr th {\n",
       "        vertical-align: top;\n",
       "    }\n",
       "\n",
       "    .dataframe thead th {\n",
       "        text-align: right;\n",
       "    }\n",
       "</style>\n",
       "<table border=\"1\" class=\"dataframe\">\n",
       "  <thead>\n",
       "    <tr style=\"text-align: right;\">\n",
       "      <th></th>\n",
       "      <th>Value2</th>\n",
       "    </tr>\n",
       "    <tr>\n",
       "      <th>Name</th>\n",
       "      <th></th>\n",
       "    </tr>\n",
       "  </thead>\n",
       "  <tbody>\n",
       "    <tr>\n",
       "      <th>B</th>\n",
       "      <td>10</td>\n",
       "    </tr>\n",
       "    <tr>\n",
       "      <th>D</th>\n",
       "      <td>20</td>\n",
       "    </tr>\n",
       "    <tr>\n",
       "      <th>E</th>\n",
       "      <td>30</td>\n",
       "    </tr>\n",
       "    <tr>\n",
       "      <th>F</th>\n",
       "      <td>40</td>\n",
       "    </tr>\n",
       "  </tbody>\n",
       "</table>\n",
       "</div>"
      ],
      "text/plain": [
       "      Value2\n",
       "Name        \n",
       "B         10\n",
       "D         20\n",
       "E         30\n",
       "F         40"
      ]
     },
     "execution_count": 170,
     "metadata": {},
     "output_type": "execute_result"
    }
   ],
   "source": [
    "df2"
   ]
  },
  {
   "cell_type": "code",
   "execution_count": 171,
   "id": "d0a10bde-3dda-43a4-861f-d33270ef4703",
   "metadata": {},
   "outputs": [
    {
     "name": "stdout",
     "output_type": "stream",
     "text": [
      "      Value1  Value2\n",
      "Name                \n",
      "B          2      10\n",
      "D          4      20\n"
     ]
    }
   ],
   "source": [
    "inner_join = df1.join(df2, how='inner')\n",
    "print(inner_join)"
   ]
  },
  {
   "cell_type": "code",
   "execution_count": 172,
   "id": "9a92320d-fb96-41a2-9ac9-1d5e9320f9f5",
   "metadata": {},
   "outputs": [
    {
     "name": "stdout",
     "output_type": "stream",
     "text": [
      "      Value1  Value2\n",
      "Name                \n",
      "A          1     NaN\n",
      "B          2    10.0\n",
      "C          3     NaN\n",
      "D          4    20.0\n"
     ]
    }
   ],
   "source": [
    "left_join = df1.join(df2)\n",
    "print(left_join)"
   ]
  },
  {
   "cell_type": "code",
   "execution_count": 173,
   "id": "98bc8ad5-819d-4b07-90a0-cc92a845c0de",
   "metadata": {},
   "outputs": [
    {
     "name": "stdout",
     "output_type": "stream",
     "text": [
      "      Value1  Value2\n",
      "Name                \n",
      "B        2.0      10\n",
      "D        4.0      20\n",
      "E        NaN      30\n",
      "F        NaN      40\n"
     ]
    }
   ],
   "source": [
    "right_join = df1.join(df2, how='right')\n",
    "print(right_join)"
   ]
  },
  {
   "cell_type": "code",
   "execution_count": 174,
   "id": "de5a9a17-82c4-42a3-9e2c-a174e64dfbbd",
   "metadata": {},
   "outputs": [
    {
     "name": "stdout",
     "output_type": "stream",
     "text": [
      "      Value1  Value2\n",
      "Name                \n",
      "A        1.0     NaN\n",
      "B        2.0    10.0\n",
      "C        3.0     NaN\n",
      "D        4.0    20.0\n",
      "E        NaN    30.0\n",
      "F        NaN    40.0\n"
     ]
    }
   ],
   "source": [
    "outer_join = df1.join(df2, how='outer')\n",
    "print(outer_join)"
   ]
  },
  {
   "cell_type": "code",
   "execution_count": null,
   "id": "3e545053-eae1-44bb-ab23-8be0498e3228",
   "metadata": {},
   "outputs": [],
   "source": []
  }
 ],
 "metadata": {
  "kernelspec": {
   "display_name": "Python 3 (ipykernel)",
   "language": "python",
   "name": "python3"
  },
  "language_info": {
   "codemirror_mode": {
    "name": "ipython",
    "version": 3
   },
   "file_extension": ".py",
   "mimetype": "text/x-python",
   "name": "python",
   "nbconvert_exporter": "python",
   "pygments_lexer": "ipython3",
   "version": "3.11.7"
  },
  "widgets": {
   "application/vnd.jupyter.widget-state+json": {
    "state": {},
    "version_major": 2,
    "version_minor": 0
   }
  }
 },
 "nbformat": 4,
 "nbformat_minor": 5
}
