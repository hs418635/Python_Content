{
 "cells": [
  {
   "cell_type": "markdown",
   "id": "838eb328",
   "metadata": {},
   "source": [
    "# Numpy Practice Questions with Answers"
   ]
  },
  {
   "cell_type": "markdown",
   "id": "9e0ec19f",
   "metadata": {},
   "source": [
    "## Easy Level Questions"
   ]
  },
  {
   "cell_type": "markdown",
   "id": "d32213c8",
   "metadata": {},
   "source": [
    "1. **Create a numpy array of integers from 0 to 9.**"
   ]
  },
  {
   "cell_type": "code",
   "execution_count": 2,
   "id": "7d5f6d79-b5c4-465d-acef-70331c83c400",
   "metadata": {},
   "outputs": [
    {
     "name": "stdout",
     "output_type": "stream",
     "text": [
      "[0 1 2 3 4 5 6 7 8 9]\n"
     ]
    }
   ],
   "source": [
    "\n",
    "import numpy as np\n",
    "arr = np.arange(10)\n",
    "print(arr)"
   ]
  },
  {
   "cell_type": "markdown",
   "id": "9ee01e69",
   "metadata": {},
   "source": [
    "2. **Create a 3x3 numpy array filled with zeros.**"
   ]
  },
  {
   "cell_type": "code",
   "execution_count": 3,
   "id": "4e230293-b73c-4cfb-8772-266dcd89ee8f",
   "metadata": {},
   "outputs": [
    {
     "name": "stdout",
     "output_type": "stream",
     "text": [
      "[[0. 0. 0.]\n",
      " [0. 0. 0.]\n",
      " [0. 0. 0.]]\n"
     ]
    }
   ],
   "source": [
    "\n",
    "arr = np.zeros((3, 3))\n",
    "print(arr)"
   ]
  },
  {
   "cell_type": "markdown",
   "id": "b90e112a",
   "metadata": {},
   "source": [
    "3. **Create a 3x3 numpy array filled with ones.**"
   ]
  },
  {
   "cell_type": "code",
   "execution_count": 4,
   "id": "98e4e165-28ff-4c18-baab-5a2446bcf498",
   "metadata": {},
   "outputs": [
    {
     "name": "stdout",
     "output_type": "stream",
     "text": [
      "[[1. 1. 1.]\n",
      " [1. 1. 1.]\n",
      " [1. 1. 1.]]\n"
     ]
    }
   ],
   "source": [
    "\n",
    "arr = np.ones((3, 3))\n",
    "print(arr)"
   ]
  },
  {
   "cell_type": "markdown",
   "id": "43afc16e",
   "metadata": {},
   "source": [
    "4. **Create a 2x2 numpy array with random values.**"
   ]
  },
  {
   "cell_type": "code",
   "execution_count": 5,
   "id": "8efe0aae-ef6f-4c6d-a52b-05ccc6e441fa",
   "metadata": {},
   "outputs": [
    {
     "name": "stdout",
     "output_type": "stream",
     "text": [
      "[[0.3699384  0.68682869]\n",
      " [0.01013821 0.47810448]]\n"
     ]
    }
   ],
   "source": [
    "\n",
    "arr = np.random.rand(2, 2)\n",
    "print(arr)\n"
   ]
  },
  {
   "cell_type": "markdown",
   "id": "f9bd7b51",
   "metadata": {},
   "source": [
    "5. **Create a 1D numpy array of 5 elements all equal to 7.**"
   ]
  },
  {
   "cell_type": "code",
   "execution_count": 6,
   "id": "821500e6-6db9-4f7e-8b0c-71a5a9d90533",
   "metadata": {},
   "outputs": [
    {
     "name": "stdout",
     "output_type": "stream",
     "text": [
      "[7 7 7 7 7]\n"
     ]
    }
   ],
   "source": [
    "\n",
    "arr = np.full(5, 7)\n",
    "print(arr)\n"
   ]
  },
  {
   "cell_type": "markdown",
   "id": "6398a11f",
   "metadata": {},
   "source": [
    "6. **Create a numpy array with values ranging from 10 to 50.**"
   ]
  },
  {
   "cell_type": "code",
   "execution_count": 7,
   "id": "4a7c55d1-9f2f-443d-845c-7614ec1c148d",
   "metadata": {},
   "outputs": [
    {
     "name": "stdout",
     "output_type": "stream",
     "text": [
      "[10 11 12 13 14 15 16 17 18 19 20 21 22 23 24 25 26 27 28 29 30 31 32 33\n",
      " 34 35 36 37 38 39 40 41 42 43 44 45 46 47 48 49 50]\n"
     ]
    }
   ],
   "source": [
    "\n",
    "arr = np.arange(10, 51)\n",
    "print(arr)\n"
   ]
  },
  {
   "cell_type": "markdown",
   "id": "771b5ae6",
   "metadata": {},
   "source": [
    "7. **Create a 4x4 identity matrix.**"
   ]
  },
  {
   "cell_type": "code",
   "execution_count": 8,
   "id": "9d57c354-218d-413a-9394-9077200df047",
   "metadata": {},
   "outputs": [
    {
     "name": "stdout",
     "output_type": "stream",
     "text": [
      "[[1. 0. 0. 0.]\n",
      " [0. 1. 0. 0.]\n",
      " [0. 0. 1. 0.]\n",
      " [0. 0. 0. 1.]]\n"
     ]
    }
   ],
   "source": [
    "\n",
    "arr = np.eye(4)\n",
    "print(arr)\n"
   ]
  },
  {
   "cell_type": "markdown",
   "id": "687ec6dd",
   "metadata": {},
   "source": [
    "8. **Reverse a numpy array of integers from 0 to 9.**"
   ]
  },
  {
   "cell_type": "code",
   "execution_count": 9,
   "id": "2714cdcd-2a96-494c-bbca-ff9709710ce7",
   "metadata": {},
   "outputs": [
    {
     "name": "stdout",
     "output_type": "stream",
     "text": [
      "[9 8 7 6 5 4 3 2 1 0]\n"
     ]
    }
   ],
   "source": [
    "\n",
    "arr = np.arange(10)[::-1]\n",
    "print(arr)\n"
   ]
  },
  {
   "cell_type": "markdown",
   "id": "da120f6a",
   "metadata": {},
   "source": [
    "9. **Find the shape of a given numpy array.**"
   ]
  },
  {
   "cell_type": "code",
   "execution_count": 10,
   "id": "2e8e100a-50e9-44fb-8ce8-94c60c66ea1d",
   "metadata": {},
   "outputs": [
    {
     "name": "stdout",
     "output_type": "stream",
     "text": [
      "(2, 3)\n"
     ]
    }
   ],
   "source": [
    "\n",
    "arr = np.array([[1, 2, 3], [4, 5, 6]])\n",
    "print(arr.shape)\n"
   ]
  },
  {
   "cell_type": "markdown",
   "id": "9bf6cfd3",
   "metadata": {},
   "source": [
    "10. **Find the data type of elements in a numpy array.**"
   ]
  },
  {
   "cell_type": "code",
   "execution_count": 11,
   "id": "ee3a41b5-4857-4fe4-826d-0a8469da6e0a",
   "metadata": {},
   "outputs": [
    {
     "name": "stdout",
     "output_type": "stream",
     "text": [
      "int32\n"
     ]
    }
   ],
   "source": [
    "\n",
    "arr = np.array([1, 2, 3])\n",
    "print(arr.dtype)\n"
   ]
  },
  {
   "cell_type": "markdown",
   "id": "e544563a",
   "metadata": {},
   "source": [
    "11. **Convert a list of integers to a numpy array.**"
   ]
  },
  {
   "cell_type": "code",
   "execution_count": 12,
   "id": "2a21999c-205d-4966-88f3-2bc6a6da19d6",
   "metadata": {},
   "outputs": [
    {
     "name": "stdout",
     "output_type": "stream",
     "text": [
      "[1 2 3 4 5]\n"
     ]
    }
   ],
   "source": [
    "\n",
    "lst = [1, 2, 3, 4, 5]\n",
    "arr = np.array(lst)\n",
    "print(arr)\n"
   ]
  },
  {
   "cell_type": "markdown",
   "id": "f6c5291b",
   "metadata": {},
   "source": [
    "12. **Create a numpy array of 10 evenly spaced numbers between 1 and 10.**"
   ]
  },
  {
   "cell_type": "code",
   "execution_count": 13,
   "id": "e390f9f5-3da7-409e-849e-34fd1dd8f882",
   "metadata": {},
   "outputs": [
    {
     "name": "stdout",
     "output_type": "stream",
     "text": [
      "[ 1.  2.  3.  4.  5.  6.  7.  8.  9. 10.]\n"
     ]
    }
   ],
   "source": [
    "\n",
    "arr = np.linspace(1, 10, 10)\n",
    "print(arr)\n"
   ]
  },
  {
   "cell_type": "markdown",
   "id": "6d56f803",
   "metadata": {},
   "source": [
    "13. **Reshape a numpy array of shape (6,) to (2,3).**"
   ]
  },
  {
   "cell_type": "code",
   "execution_count": 14,
   "id": "812b7f56-0627-45ae-9a3d-f1ec03fe7f14",
   "metadata": {},
   "outputs": [
    {
     "name": "stdout",
     "output_type": "stream",
     "text": [
      "[[0 1 2]\n",
      " [3 4 5]]\n"
     ]
    }
   ],
   "source": [
    "\n",
    "arr = np.arange(6).reshape(2, 3)\n",
    "print(arr)\n"
   ]
  },
  {
   "cell_type": "markdown",
   "id": "01bb1f48",
   "metadata": {},
   "source": [
    "14. **Stack two numpy arrays vertically.**"
   ]
  },
  {
   "cell_type": "code",
   "execution_count": 15,
   "id": "55cbd475-d48e-465e-9fc3-ef98e3fcb646",
   "metadata": {},
   "outputs": [
    {
     "name": "stdout",
     "output_type": "stream",
     "text": [
      "[[1 2 3]\n",
      " [4 5 6]]\n"
     ]
    }
   ],
   "source": [
    "\n",
    "arr1 = np.array([1, 2, 3])\n",
    "arr2 = np.array([4, 5, 6])\n",
    "arr = np.vstack((arr1, arr2))\n",
    "print(arr)\n"
   ]
  },
  {
   "cell_type": "markdown",
   "id": "b7bbb270",
   "metadata": {},
   "source": [
    "15. **Stack two numpy arrays horizontally.**"
   ]
  },
  {
   "cell_type": "code",
   "execution_count": 16,
   "id": "835e00df-386d-41e3-8b46-ea859fd59ee9",
   "metadata": {},
   "outputs": [
    {
     "name": "stdout",
     "output_type": "stream",
     "text": [
      "[1 2 3 4 5 6]\n"
     ]
    }
   ],
   "source": [
    "\n",
    "arr1 = np.array([1, 2, 3])\n",
    "arr2 = np.array([4, 5, 6])\n",
    "arr = np.hstack((arr1, arr2))\n",
    "print(arr)\n"
   ]
  },
  {
   "cell_type": "markdown",
   "id": "cb44b046",
   "metadata": {},
   "source": [
    "## Medium Level Questions"
   ]
  },
  {
   "cell_type": "markdown",
   "id": "d0d1b839",
   "metadata": {},
   "source": [
    "16. **Create a 5x5 matrix with values 1, 2, 3, 4 just below the diagonal.**"
   ]
  },
  {
   "cell_type": "code",
   "execution_count": 17,
   "id": "c24ee033-7c11-411d-b014-feda574fb13d",
   "metadata": {},
   "outputs": [
    {
     "name": "stdout",
     "output_type": "stream",
     "text": [
      "[[0 0 0 0 0]\n",
      " [1 0 0 0 0]\n",
      " [0 2 0 0 0]\n",
      " [0 0 3 0 0]\n",
      " [0 0 0 4 0]]\n"
     ]
    }
   ],
   "source": [
    "\n",
    "arr = np.diag([1, 2, 3, 4], k=-1)\n",
    "print(arr)\n"
   ]
  },
  {
   "cell_type": "markdown",
   "id": "365362da",
   "metadata": {},
   "source": [
    "17. **Find the sum of all the elements in a numpy array.**"
   ]
  },
  {
   "cell_type": "code",
   "execution_count": 18,
   "id": "35d6f7af-c587-4f91-849e-94f8a4ea57bf",
   "metadata": {},
   "outputs": [
    {
     "name": "stdout",
     "output_type": "stream",
     "text": [
      "15\n"
     ]
    }
   ],
   "source": [
    "\n",
    "arr = np.array([1, 2, 3, 4, 5])\n",
    "total = np.sum(arr)\n",
    "print(total)\n"
   ]
  },
  {
   "cell_type": "markdown",
   "id": "b2c08940",
   "metadata": {},
   "source": [
    "18. **Find the mean of all the elements in a numpy array.**"
   ]
  },
  {
   "cell_type": "code",
   "execution_count": 19,
   "id": "b935fe1d-457e-4a9d-87b9-65c33acd8b50",
   "metadata": {},
   "outputs": [
    {
     "name": "stdout",
     "output_type": "stream",
     "text": [
      "3.0\n"
     ]
    }
   ],
   "source": [
    "\n",
    "arr = np.array([1, 2, 3, 4, 5])\n",
    "mean = np.mean(arr)\n",
    "print(mean)\n"
   ]
  },
  {
   "cell_type": "markdown",
   "id": "d3db5488",
   "metadata": {},
   "source": [
    "19. **Create a random array of 10 elements and replace the maximum value with 0.**"
   ]
  },
  {
   "cell_type": "code",
   "execution_count": 20,
   "id": "d35b4e5b-e03c-4416-aba3-6af4052bdb61",
   "metadata": {},
   "outputs": [
    {
     "name": "stdout",
     "output_type": "stream",
     "text": [
      "[0.18994182 0.50992071 0.57249452 0.13322521 0.60124426 0.31070615\n",
      " 0.67976826 0.19202959 0.         0.39000977]\n"
     ]
    }
   ],
   "source": [
    "\n",
    "arr = np.random.rand(10)\n",
    "arr[arr.argmax()] = 0\n",
    "print(arr)\n"
   ]
  },
  {
   "cell_type": "markdown",
   "id": "20fc6669",
   "metadata": {},
   "source": [
    "20. **Find the indices of non-zero elements in a numpy array.**"
   ]
  },
  {
   "cell_type": "code",
   "execution_count": 21,
   "id": "4fdaffc2-bf7e-4963-981e-3369c1f6288e",
   "metadata": {},
   "outputs": [
    {
     "name": "stdout",
     "output_type": "stream",
     "text": [
      "(array([1, 3, 4], dtype=int64),)\n"
     ]
    }
   ],
   "source": [
    "\n",
    "arr = np.array([0, 2, 0, 3, 4])\n",
    "indices = np.nonzero(arr)\n",
    "print(indices)\n"
   ]
  },
  {
   "cell_type": "markdown",
   "id": "8a8dad22",
   "metadata": {},
   "source": [
    "21. **Multiply a 5x3 matrix by a 3x2 matrix (real matrix product).**"
   ]
  },
  {
   "cell_type": "code",
   "execution_count": 22,
   "id": "2c7361fe-ead2-4cfc-bc6c-020f3a62166d",
   "metadata": {},
   "outputs": [
    {
     "name": "stdout",
     "output_type": "stream",
     "text": [
      "[[0.60902311 0.77443432]\n",
      " [0.93418606 1.12228877]\n",
      " [0.96988524 1.08389687]\n",
      " [0.68286998 0.7207467 ]\n",
      " [0.81934681 0.61448929]]\n"
     ]
    }
   ],
   "source": [
    "\n",
    "arr1 = np.random.rand(5, 3)\n",
    "arr2 = np.random.rand(3, 2)\n",
    "product = np.dot(arr1, arr2)\n",
    "print(product)\n"
   ]
  },
  {
   "cell_type": "markdown",
   "id": "9f11b800",
   "metadata": {},
   "source": [
    "22. **Subtract the mean of each row of a matrix.**"
   ]
  },
  {
   "cell_type": "code",
   "execution_count": 23,
   "id": "0160cdb9-5a4f-4cd3-a5c6-2359a1f0e950",
   "metadata": {},
   "outputs": [
    {
     "name": "stdout",
     "output_type": "stream",
     "text": [
      "[[-0.06304444 -0.23327637  0.2963208 ]\n",
      " [-0.13698495  0.01862931  0.11835565]\n",
      " [-0.0762319   0.28031196 -0.20408006]]\n"
     ]
    }
   ],
   "source": [
    "\n",
    "arr = np.random.rand(3, 3)\n",
    "mean_subtracted = arr - arr.mean(axis=1, keepdims=True)\n",
    "print(mean_subtracted)\n"
   ]
  },
  {
   "cell_type": "markdown",
   "id": "0b58eab0",
   "metadata": {},
   "source": [
    "23. **Sort a numpy array of random values.**"
   ]
  },
  {
   "cell_type": "code",
   "execution_count": 24,
   "id": "dc029447-4ff9-4b58-9835-dd1ad1dd57c5",
   "metadata": {},
   "outputs": [
    {
     "name": "stdout",
     "output_type": "stream",
     "text": [
      "[0.22733149 0.33894314 0.34635372 0.39250515 0.63207678 0.70322325\n",
      " 0.74638254 0.74710329 0.92830959 0.99933459]\n"
     ]
    }
   ],
   "source": [
    "\n",
    "arr = np.random.rand(10)\n",
    "arr.sort()\n",
    "print(arr)\n"
   ]
  },
  {
   "cell_type": "markdown",
   "id": "0ad50cfb",
   "metadata": {},
   "source": [
    "24. **Create a 3x3 matrix and compute the eigenvalues.**"
   ]
  },
  {
   "cell_type": "code",
   "execution_count": 25,
   "id": "e3364519-ef88-4487-b67f-cb95a4917940",
   "metadata": {},
   "outputs": [
    {
     "name": "stdout",
     "output_type": "stream",
     "text": [
      "[ 1.61168440e+01 -1.11684397e+00 -3.38433605e-16]\n"
     ]
    }
   ],
   "source": [
    "\n",
    "arr = np.array([[1, 2, 3], [4, 5, 6], [7, 8, 9]])\n",
    "eigenvalues = np.linalg.eigvals(arr)\n",
    "print(eigenvalues)\n"
   ]
  },
  {
   "cell_type": "markdown",
   "id": "8f694eee",
   "metadata": {},
   "source": [
    "25. **Compute the inverse of a given square matrix.**"
   ]
  },
  {
   "cell_type": "code",
   "execution_count": 26,
   "id": "18c14e1b-df6d-4fd2-ac4c-051d86d8c43d",
   "metadata": {},
   "outputs": [
    {
     "name": "stdout",
     "output_type": "stream",
     "text": [
      "[[-2.   1. ]\n",
      " [ 1.5 -0.5]]\n"
     ]
    }
   ],
   "source": [
    "\n",
    "arr = np.array([[1, 2], [3, 4]])\n",
    "inverse = np.linalg.inv(arr)\n",
    "print(inverse)\n"
   ]
  },
  {
   "cell_type": "markdown",
   "id": "03fa071f",
   "metadata": {},
   "source": [
    "26. **Find the maximum and minimum values in a numpy array.**"
   ]
  },
  {
   "cell_type": "code",
   "execution_count": 27,
   "id": "8bc2aed6-a608-4424-85cf-afb88f034cd0",
   "metadata": {},
   "outputs": [
    {
     "name": "stdout",
     "output_type": "stream",
     "text": [
      "Max: 0.8812467919317201, Min: 0.00017146306880455597\n"
     ]
    }
   ],
   "source": [
    "\n",
    "arr = np.random.rand(10)\n",
    "max_value = np.max(arr)\n",
    "min_value = np.min(arr)\n",
    "print(f\"Max: {max_value}, Min: {min_value}\")\n"
   ]
  },
  {
   "cell_type": "markdown",
   "id": "b9e76bc0",
   "metadata": {},
   "source": [
    "27. **Create a 3x3 matrix with random values and find the row and column index of the maximum value.**"
   ]
  },
  {
   "cell_type": "code",
   "execution_count": 28,
   "id": "09a8e600-87c9-467b-bd8f-98ab4b4bcb86",
   "metadata": {},
   "outputs": [
    {
     "name": "stdout",
     "output_type": "stream",
     "text": [
      "(0, 0)\n"
     ]
    }
   ],
   "source": [
    "\n",
    "arr = np.random.rand(3, 3)\n",
    "index = np.unravel_index(np.argmax(arr), arr.shape)\n",
    "print(index)\n"
   ]
  },
  {
   "cell_type": "markdown",
   "id": "f859f4a5",
   "metadata": {},
   "source": [
    "28. **Create a 1D array and compute the cumulative sum.**"
   ]
  },
  {
   "cell_type": "code",
   "execution_count": 29,
   "id": "403cc045-f615-4c35-a4c5-915f82327304",
   "metadata": {},
   "outputs": [
    {
     "name": "stdout",
     "output_type": "stream",
     "text": [
      "[ 1  3  6 10 15]\n"
     ]
    }
   ],
   "source": [
    "\n",
    "arr = np.array([1, 2, 3, 4, 5])\n",
    "cumsum = np.cumsum(arr)\n",
    "print(cumsum)\n"
   ]
  },
  {
   "cell_type": "markdown",
   "id": "116b3090",
   "metadata": {},
   "source": [
    "29. **Check if two numpy arrays are equal.**"
   ]
  },
  {
   "cell_type": "code",
   "execution_count": 30,
   "id": "11169903-ddcc-4119-987c-d88e29a08ffc",
   "metadata": {},
   "outputs": [
    {
     "name": "stdout",
     "output_type": "stream",
     "text": [
      "True\n"
     ]
    }
   ],
   "source": [
    "\n",
    "arr1 = np.array([1, 2, 3])\n",
    "arr2 = np.array([1, 2, 3])\n",
    "equality = np.array_equal(arr1, arr2)\n",
    "print(equality)\n"
   ]
  },
  {
   "cell_type": "markdown",
   "id": "7ad7eada",
   "metadata": {},
   "source": [
    "30. **Find the unique elements of a numpy array.**"
   ]
  },
  {
   "cell_type": "code",
   "execution_count": 31,
   "id": "227815e0-9e9e-42ed-abee-0846503103a5",
   "metadata": {},
   "outputs": [
    {
     "name": "stdout",
     "output_type": "stream",
     "text": [
      "[1 2 3 4 5]\n"
     ]
    }
   ],
   "source": [
    "\n",
    "arr = np.array([1, 2, 2, 3, 4, 4, 5])\n",
    "unique_elements = np.unique(arr)\n",
    "print(unique_elements)\n"
   ]
  },
  {
   "cell_type": "markdown",
   "id": "7f225d10",
   "metadata": {},
   "source": [
    "## Hard Level Questions"
   ]
  },
  {
   "cell_type": "markdown",
   "id": "e7b0d3db",
   "metadata": {},
   "source": [
    "31. **Create a random 10x10 matrix and find the position (index) of the maximum value.**"
   ]
  },
  {
   "cell_type": "code",
   "execution_count": 32,
   "id": "95cf1f55-6207-44f2-aaca-da5737bf0a73",
   "metadata": {},
   "outputs": [
    {
     "name": "stdout",
     "output_type": "stream",
     "text": [
      "(7, 1)\n"
     ]
    }
   ],
   "source": [
    "\n",
    "arr = np.random.rand(10, 10)\n",
    "max_index = np.unravel_index(np.argmax(arr), arr.shape)\n",
    "print(max_index)\n"
   ]
  },
  {
   "cell_type": "markdown",
   "id": "efb64ea3",
   "metadata": {},
   "source": [
    "32. **Create a random vector of size 30 and find the mean value.**"
   ]
  },
  {
   "cell_type": "code",
   "execution_count": 33,
   "id": "17dfb520-c530-4f71-8040-e74c6d24ba3e",
   "metadata": {},
   "outputs": [
    {
     "name": "stdout",
     "output_type": "stream",
     "text": [
      "0.4781751102498299\n"
     ]
    }
   ],
   "source": [
    "\n",
    "arr = np.random.rand(30)\n",
    "mean_value = np.mean(arr)\n",
    "print(mean_value)\n"
   ]
  },
  {
   "cell_type": "markdown",
   "id": "e92e21b0",
   "metadata": {},
   "source": [
    "33. **Generate a 10x10 matrix of random numbers and subtract the row mean from each element.**"
   ]
  },
  {
   "cell_type": "code",
   "execution_count": 34,
   "id": "0bf96737-4324-4f59-b15e-4726e74fc717",
   "metadata": {},
   "outputs": [
    {
     "name": "stdout",
     "output_type": "stream",
     "text": [
      "[[-0.1975578  -0.15284458 -0.25135011  0.03504952  0.25539919 -0.35643237\n",
      "   0.3168812   0.20274416  0.39852519 -0.2504144 ]\n",
      " [ 0.41946624 -0.19015032 -0.252541    0.26014592  0.15391289  0.17820493\n",
      "  -0.07296108 -0.1952531  -0.35613857  0.05531411]\n",
      " [ 0.08270684  0.31932992 -0.16900288  0.58263756 -0.35292581  0.42315928\n",
      "   0.25345719 -0.41568825 -0.35153091 -0.37214296]\n",
      " [-0.13033904  0.26565419 -0.11526956  0.20425744 -0.51946407  0.32515878\n",
      "   0.22731956 -0.31385561  0.23504566 -0.17850737]\n",
      " [-0.03067821 -0.34780224 -0.32191694 -0.41871883  0.41372206 -0.03084305\n",
      "  -0.16016509  0.40949624  0.23076     0.25614607]\n",
      " [ 0.08098101 -0.51215872  0.22518913  0.23907043  0.0050226   0.09949182\n",
      "   0.02174593  0.41539122 -0.12068558 -0.45404783]\n",
      " [ 0.05068159  0.47174035  0.36959704 -0.37364693 -0.29104534  0.07172525\n",
      "  -0.28995601 -0.10078346  0.50972751 -0.41804   ]\n",
      " [-0.24068361  0.20000336  0.29218927 -0.06204417  0.0075249  -0.15459456\n",
      "  -0.14773816 -0.06669266  0.13158825  0.04044738]\n",
      " [ 0.13558509 -0.43487151  0.24000315  0.41459107  0.28848867 -0.03572668\n",
      "  -0.45342432  0.138536    0.05119983 -0.3443813 ]\n",
      " [ 0.33782215  0.22344935 -0.27023215 -0.44782177 -0.16667826  0.04266792\n",
      "   0.3205769  -0.16074279  0.16653555 -0.0455769 ]]\n"
     ]
    }
   ],
   "source": [
    "\n",
    "arr = np.random.rand(10, 10)\n",
    "row_mean_subtracted = arr - arr.mean(axis=1, keepdims=True)\n",
    "print(row_mean_subtracted)\n"
   ]
  },
  {
   "cell_type": "markdown",
   "id": "55dac87d",
   "metadata": {},
   "source": [
    "34. **Create two random matrices A and B, compute A * B (element-wise product) and A @ B (matrix product).**"
   ]
  },
  {
   "cell_type": "code",
   "execution_count": 35,
   "id": "b82bea02-dae4-473d-8c16-7ef5f3257ac7",
   "metadata": {},
   "outputs": [
    {
     "name": "stdout",
     "output_type": "stream",
     "text": [
      "[[0.38057113 0.55594531 0.02055365]\n",
      " [0.07511635 0.78791173 0.04726727]\n",
      " [0.11158453 0.02214984 0.61272572]]\n",
      "[[0.73255205 1.14966805 0.58022295]\n",
      " [0.8278772  1.19532447 0.36524504]\n",
      " [0.65155628 0.52723819 0.68097505]]\n"
     ]
    }
   ],
   "source": [
    "\n",
    "A = np.random.rand(3, 3)\n",
    "B = np.random.rand(3, 3)\n",
    "element_wise_product = A * B\n",
    "print(element_wise_product)\n",
    "\n",
    "matrix_product = A @ B\n",
    "print(matrix_product)\n"
   ]
  },
  {
   "cell_type": "markdown",
   "id": "f315b627",
   "metadata": {},
   "source": [
    "35. **Solve the following system of linear equations: 3x + y = 9 and x + 2y = 8.**"
   ]
  },
  {
   "cell_type": "code",
   "execution_count": 36,
   "id": "84d0c17f-1d3a-493c-a8c0-ee7eed2c77c4",
   "metadata": {},
   "outputs": [
    {
     "name": "stdout",
     "output_type": "stream",
     "text": [
      "[2. 3.]\n"
     ]
    }
   ],
   "source": [
    "\n",
    "a = np.array([[3, 1], [1, 2]])\n",
    "b = np.array([9, 8])\n",
    "solution = np.linalg.solve(a, b)\n",
    "print(solution)\n"
   ]
  },
  {
   "cell_type": "markdown",
   "id": "fdc98e58",
   "metadata": {},
   "source": [
    "36. **Compute the determinant of a given square matrix.**"
   ]
  },
  {
   "cell_type": "code",
   "execution_count": 37,
   "id": "ed373851-e3dc-4034-a436-07fd8cead804",
   "metadata": {},
   "outputs": [
    {
     "name": "stdout",
     "output_type": "stream",
     "text": [
      "-2.0000000000000004\n"
     ]
    }
   ],
   "source": [
    "\n",
    "arr = np.array([[1, 2], [3, 4]])\n",
    "determinant = np.linalg.det(arr)\n",
    "print(determinant)\n"
   ]
  },
  {
   "cell_type": "markdown",
   "id": "763d491d",
   "metadata": {},
   "source": [
    "37. **Create a 3D numpy array and compute the sum along one axis.**"
   ]
  },
  {
   "cell_type": "code",
   "execution_count": 38,
   "id": "39e74d74-549e-496f-8022-64c7c6b95bea",
   "metadata": {},
   "outputs": [
    {
     "name": "stdout",
     "output_type": "stream",
     "text": [
      "[[1.39955742 2.2143529  1.29806126]\n",
      " [1.64511127 2.07272564 2.22636804]\n",
      " [1.60240932 1.82833829 0.7059628 ]]\n"
     ]
    }
   ],
   "source": [
    "\n",
    "arr = np.random.rand(3, 3, 3)\n",
    "sum_along_axis = np.sum(arr, axis=0)\n",
    "print(sum_along_axis)\n"
   ]
  },
  {
   "cell_type": "markdown",
   "id": "735bee5f",
   "metadata": {},
   "source": [
    "38. **Create a random 4x4 matrix and normalize it (so that the sum of all elements is 1).**"
   ]
  },
  {
   "cell_type": "code",
   "execution_count": 39,
   "id": "035d607a-4ece-45c5-acbf-45fd07388a5b",
   "metadata": {},
   "outputs": [
    {
     "name": "stdout",
     "output_type": "stream",
     "text": [
      "[[0.05129888 0.00161329 0.07239552 0.04969095]\n",
      " [0.09175099 0.04225954 0.03252775 0.0680538 ]\n",
      " [0.04693218 0.08963801 0.09435563 0.06062763]\n",
      " [0.09983941 0.03585572 0.08520195 0.07795875]]\n"
     ]
    }
   ],
   "source": [
    "\n",
    "arr = np.random.rand(4, 4)\n",
    "normalized_arr = arr / arr.sum()\n",
    "print(normalized_arr)\n"
   ]
  },
  {
   "cell_type": "markdown",
   "id": "640e742c",
   "metadata": {},
   "source": [
    "39. **Generate a 2D Gaussian-like array.**"
   ]
  },
  {
   "cell_type": "code",
   "execution_count": 40,
   "id": "7d995f59-d0ff-4645-bcab-153d4a64299d",
   "metadata": {},
   "outputs": [
    {
     "name": "stdout",
     "output_type": "stream",
     "text": [
      "[[0.36787944 0.44822088 0.51979489 0.57375342 0.60279818 0.60279818\n",
      "  0.57375342 0.51979489 0.44822088 0.36787944]\n",
      " [0.44822088 0.54610814 0.63331324 0.69905581 0.73444367 0.73444367\n",
      "  0.69905581 0.63331324 0.54610814 0.44822088]\n",
      " [0.51979489 0.63331324 0.73444367 0.81068432 0.85172308 0.85172308\n",
      "  0.81068432 0.73444367 0.63331324 0.51979489]\n",
      " [0.57375342 0.69905581 0.81068432 0.89483932 0.9401382  0.9401382\n",
      "  0.89483932 0.81068432 0.69905581 0.57375342]\n",
      " [0.60279818 0.73444367 0.85172308 0.9401382  0.98773022 0.98773022\n",
      "  0.9401382  0.85172308 0.73444367 0.60279818]\n",
      " [0.60279818 0.73444367 0.85172308 0.9401382  0.98773022 0.98773022\n",
      "  0.9401382  0.85172308 0.73444367 0.60279818]\n",
      " [0.57375342 0.69905581 0.81068432 0.89483932 0.9401382  0.9401382\n",
      "  0.89483932 0.81068432 0.69905581 0.57375342]\n",
      " [0.51979489 0.63331324 0.73444367 0.81068432 0.85172308 0.85172308\n",
      "  0.81068432 0.73444367 0.63331324 0.51979489]\n",
      " [0.44822088 0.54610814 0.63331324 0.69905581 0.73444367 0.73444367\n",
      "  0.69905581 0.63331324 0.54610814 0.44822088]\n",
      " [0.36787944 0.44822088 0.51979489 0.57375342 0.60279818 0.60279818\n",
      "  0.57375342 0.51979489 0.44822088 0.36787944]]\n"
     ]
    }
   ],
   "source": [
    "\n",
    "x, y = np.meshgrid(np.linspace(-1, 1, 10), np.linspace(-1, 1, 10))\n",
    "d = np.sqrt(x*x + y*y)\n",
    "sigma, mu = 1.0, 0.0\n",
    "gaussian = np.exp(-((d - mu)**2 / (2.0 * sigma**2)))\n",
    "print(gaussian)\n"
   ]
  },
  {
   "cell_type": "markdown",
   "id": "b93b028d",
   "metadata": {},
   "source": [
    "40. **Create a 3D array of shape (3,3,3) with random values and compute the mean along each axis.**"
   ]
  },
  {
   "cell_type": "code",
   "execution_count": 41,
   "id": "fdbbe0d8-a191-4244-9306-97417549b24b",
   "metadata": {},
   "outputs": [
    {
     "name": "stdout",
     "output_type": "stream",
     "text": [
      "0.5033252959280902\n"
     ]
    }
   ],
   "source": [
    "\n",
    "arr = np.random.rand(3, 3, 3)\n",
    "mean_along_axes = np.mean(arr, axis=(0, 1, 2))\n",
    "print(mean_along_axes)\n"
   ]
  },
  {
   "cell_type": "code",
   "execution_count": null,
   "id": "554fc5e1-7f0a-49fb-888f-0dc660202337",
   "metadata": {},
   "outputs": [],
   "source": []
  }
 ],
 "metadata": {
  "kernelspec": {
   "display_name": "Python 3 (ipykernel)",
   "language": "python",
   "name": "python3"
  },
  "language_info": {
   "codemirror_mode": {
    "name": "ipython",
    "version": 3
   },
   "file_extension": ".py",
   "mimetype": "text/x-python",
   "name": "python",
   "nbconvert_exporter": "python",
   "pygments_lexer": "ipython3",
   "version": "3.11.7"
  },
  "widgets": {
   "application/vnd.jupyter.widget-state+json": {
    "state": {},
    "version_major": 2,
    "version_minor": 0
   }
  }
 },
 "nbformat": 4,
 "nbformat_minor": 5
}
