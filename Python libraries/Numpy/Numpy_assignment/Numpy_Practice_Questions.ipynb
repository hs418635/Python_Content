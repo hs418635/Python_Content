{
 "cells": [
  {
   "cell_type": "markdown",
   "id": "838eb328",
   "metadata": {},
   "source": [
    "# Numpy Practice Questions with Answers"
   ]
  },
  {
   "cell_type": "markdown",
   "id": "9e0ec19f",
   "metadata": {},
   "source": [
    "## Easy Level Questions"
   ]
  },
  {
   "cell_type": "markdown",
   "id": "d32213c8",
   "metadata": {},
   "source": [
    "1. **Create a numpy array of integers from 0 to 9.**"
   ]
  },
  {
   "cell_type": "code",
   "execution_count": null,
   "id": "7d5f6d79-b5c4-465d-acef-70331c83c400",
   "metadata": {},
   "outputs": [],
   "source": []
  },
  {
   "cell_type": "markdown",
   "id": "9ee01e69",
   "metadata": {},
   "source": [
    "2. **Create a 3x3 numpy array filled with zeros.**"
   ]
  },
  {
   "cell_type": "code",
   "execution_count": null,
   "id": "4e230293-b73c-4cfb-8772-266dcd89ee8f",
   "metadata": {},
   "outputs": [],
   "source": []
  },
  {
   "cell_type": "markdown",
   "id": "b90e112a",
   "metadata": {},
   "source": [
    "3. **Create a 3x3 numpy array filled with ones.**"
   ]
  },
  {
   "cell_type": "code",
   "execution_count": null,
   "id": "98e4e165-28ff-4c18-baab-5a2446bcf498",
   "metadata": {},
   "outputs": [],
   "source": []
  },
  {
   "cell_type": "markdown",
   "id": "43afc16e",
   "metadata": {},
   "source": [
    "4. **Create a 2x2 numpy array with random values.**"
   ]
  },
  {
   "cell_type": "code",
   "execution_count": null,
   "id": "8efe0aae-ef6f-4c6d-a52b-05ccc6e441fa",
   "metadata": {},
   "outputs": [],
   "source": []
  },
  {
   "cell_type": "markdown",
   "id": "f9bd7b51",
   "metadata": {},
   "source": [
    "5. **Create a 1D numpy array of 5 elements all equal to 7.**"
   ]
  },
  {
   "cell_type": "code",
   "execution_count": null,
   "id": "821500e6-6db9-4f7e-8b0c-71a5a9d90533",
   "metadata": {},
   "outputs": [],
   "source": []
  },
  {
   "cell_type": "markdown",
   "id": "6398a11f",
   "metadata": {},
   "source": [
    "6. **Create a numpy array with values ranging from 10 to 50.**"
   ]
  },
  {
   "cell_type": "code",
   "execution_count": null,
   "id": "4a7c55d1-9f2f-443d-845c-7614ec1c148d",
   "metadata": {},
   "outputs": [],
   "source": []
  },
  {
   "cell_type": "markdown",
   "id": "771b5ae6",
   "metadata": {},
   "source": [
    "7. **Create a 4x4 identity matrix.**"
   ]
  },
  {
   "cell_type": "code",
   "execution_count": null,
   "id": "9d57c354-218d-413a-9394-9077200df047",
   "metadata": {},
   "outputs": [],
   "source": []
  },
  {
   "cell_type": "markdown",
   "id": "687ec6dd",
   "metadata": {},
   "source": [
    "8. **Reverse a numpy array of integers from 0 to 9.**"
   ]
  },
  {
   "cell_type": "code",
   "execution_count": null,
   "id": "2714cdcd-2a96-494c-bbca-ff9709710ce7",
   "metadata": {},
   "outputs": [],
   "source": []
  },
  {
   "cell_type": "markdown",
   "id": "da120f6a",
   "metadata": {},
   "source": [
    "9. **Find the shape of a given numpy array.**"
   ]
  },
  {
   "cell_type": "code",
   "execution_count": null,
   "id": "2e8e100a-50e9-44fb-8ce8-94c60c66ea1d",
   "metadata": {},
   "outputs": [],
   "source": []
  },
  {
   "cell_type": "markdown",
   "id": "9bf6cfd3",
   "metadata": {},
   "source": [
    "10. **Find the data type of elements in a numpy array.**"
   ]
  },
  {
   "cell_type": "code",
   "execution_count": null,
   "id": "ee3a41b5-4857-4fe4-826d-0a8469da6e0a",
   "metadata": {},
   "outputs": [],
   "source": []
  },
  {
   "cell_type": "markdown",
   "id": "e544563a",
   "metadata": {},
   "source": [
    "11. **Convert a list of integers to a numpy array.**"
   ]
  },
  {
   "cell_type": "code",
   "execution_count": null,
   "id": "2a21999c-205d-4966-88f3-2bc6a6da19d6",
   "metadata": {},
   "outputs": [],
   "source": []
  },
  {
   "cell_type": "markdown",
   "id": "f6c5291b",
   "metadata": {},
   "source": [
    "12. **Create a numpy array of 10 evenly spaced numbers between 1 and 10.**"
   ]
  },
  {
   "cell_type": "code",
   "execution_count": null,
   "id": "e390f9f5-3da7-409e-849e-34fd1dd8f882",
   "metadata": {},
   "outputs": [],
   "source": []
  },
  {
   "cell_type": "markdown",
   "id": "6d56f803",
   "metadata": {},
   "source": [
    "13. **Reshape a numpy array of shape (6,) to (2,3).**"
   ]
  },
  {
   "cell_type": "code",
   "execution_count": null,
   "id": "812b7f56-0627-45ae-9a3d-f1ec03fe7f14",
   "metadata": {},
   "outputs": [],
   "source": []
  },
  {
   "cell_type": "markdown",
   "id": "01bb1f48",
   "metadata": {},
   "source": [
    "14. **Stack two numpy arrays vertically.**"
   ]
  },
  {
   "cell_type": "code",
   "execution_count": null,
   "id": "55cbd475-d48e-465e-9fc3-ef98e3fcb646",
   "metadata": {},
   "outputs": [],
   "source": []
  },
  {
   "cell_type": "markdown",
   "id": "b7bbb270",
   "metadata": {},
   "source": [
    "15. **Stack two numpy arrays horizontally.**"
   ]
  },
  {
   "cell_type": "code",
   "execution_count": null,
   "id": "835e00df-386d-41e3-8b46-ea859fd59ee9",
   "metadata": {},
   "outputs": [],
   "source": []
  },
  {
   "cell_type": "markdown",
   "id": "cb44b046",
   "metadata": {},
   "source": [
    "## Medium Level Questions"
   ]
  },
  {
   "cell_type": "markdown",
   "id": "d0d1b839",
   "metadata": {},
   "source": [
    "16. **Create a 5x5 matrix with values 1, 2, 3, 4 just below the diagonal.**"
   ]
  },
  {
   "cell_type": "code",
   "execution_count": null,
   "id": "c24ee033-7c11-411d-b014-feda574fb13d",
   "metadata": {},
   "outputs": [],
   "source": []
  },
  {
   "cell_type": "markdown",
   "id": "365362da",
   "metadata": {},
   "source": [
    "17. **Find the sum of all the elements in a numpy array.**"
   ]
  },
  {
   "cell_type": "code",
   "execution_count": null,
   "id": "35d6f7af-c587-4f91-849e-94f8a4ea57bf",
   "metadata": {},
   "outputs": [],
   "source": []
  },
  {
   "cell_type": "markdown",
   "id": "b2c08940",
   "metadata": {},
   "source": [
    "18. **Find the mean of all the elements in a numpy array.**"
   ]
  },
  {
   "cell_type": "code",
   "execution_count": null,
   "id": "b935fe1d-457e-4a9d-87b9-65c33acd8b50",
   "metadata": {},
   "outputs": [],
   "source": []
  },
  {
   "cell_type": "markdown",
   "id": "d3db5488",
   "metadata": {},
   "source": [
    "19. **Create a random array of 10 elements and replace the maximum value with 0.**"
   ]
  },
  {
   "cell_type": "code",
   "execution_count": null,
   "id": "d35b4e5b-e03c-4416-aba3-6af4052bdb61",
   "metadata": {},
   "outputs": [],
   "source": []
  },
  {
   "cell_type": "markdown",
   "id": "20fc6669",
   "metadata": {},
   "source": [
    "20. **Find the indices of non-zero elements in a numpy array.**"
   ]
  },
  {
   "cell_type": "code",
   "execution_count": null,
   "id": "4fdaffc2-bf7e-4963-981e-3369c1f6288e",
   "metadata": {},
   "outputs": [],
   "source": []
  },
  {
   "cell_type": "markdown",
   "id": "8a8dad22",
   "metadata": {},
   "source": [
    "21. **Multiply a 5x3 matrix by a 3x2 matrix (real matrix product).**"
   ]
  },
  {
   "cell_type": "code",
   "execution_count": null,
   "id": "2c7361fe-ead2-4cfc-bc6c-020f3a62166d",
   "metadata": {},
   "outputs": [],
   "source": []
  },
  {
   "cell_type": "markdown",
   "id": "9f11b800",
   "metadata": {},
   "source": [
    "22. **Subtract the mean of each row of a matrix.**"
   ]
  },
  {
   "cell_type": "code",
   "execution_count": null,
   "id": "0160cdb9-5a4f-4cd3-a5c6-2359a1f0e950",
   "metadata": {},
   "outputs": [],
   "source": []
  },
  {
   "cell_type": "markdown",
   "id": "0b58eab0",
   "metadata": {},
   "source": [
    "23. **Sort a numpy array of random values.**"
   ]
  },
  {
   "cell_type": "code",
   "execution_count": null,
   "id": "dc029447-4ff9-4b58-9835-dd1ad1dd57c5",
   "metadata": {},
   "outputs": [],
   "source": []
  },
  {
   "cell_type": "markdown",
   "id": "0ad50cfb",
   "metadata": {},
   "source": [
    "24. **Create a 3x3 matrix and compute the eigenvalues.**"
   ]
  },
  {
   "cell_type": "code",
   "execution_count": null,
   "id": "e3364519-ef88-4487-b67f-cb95a4917940",
   "metadata": {},
   "outputs": [],
   "source": []
  },
  {
   "cell_type": "markdown",
   "id": "8f694eee",
   "metadata": {},
   "source": [
    "25. **Compute the inverse of a given square matrix.**"
   ]
  },
  {
   "cell_type": "code",
   "execution_count": null,
   "id": "18c14e1b-df6d-4fd2-ac4c-051d86d8c43d",
   "metadata": {},
   "outputs": [],
   "source": []
  },
  {
   "cell_type": "markdown",
   "id": "03fa071f",
   "metadata": {},
   "source": [
    "26. **Find the maximum and minimum values in a numpy array.**"
   ]
  },
  {
   "cell_type": "code",
   "execution_count": null,
   "id": "8bc2aed6-a608-4424-85cf-afb88f034cd0",
   "metadata": {},
   "outputs": [],
   "source": []
  },
  {
   "cell_type": "markdown",
   "id": "b9e76bc0",
   "metadata": {},
   "source": [
    "27. **Create a 3x3 matrix with random values and find the row and column index of the maximum value.**"
   ]
  },
  {
   "cell_type": "code",
   "execution_count": null,
   "id": "09a8e600-87c9-467b-bd8f-98ab4b4bcb86",
   "metadata": {},
   "outputs": [],
   "source": []
  },
  {
   "cell_type": "markdown",
   "id": "f859f4a5",
   "metadata": {},
   "source": [
    "28. **Create a 1D array and compute the cumulative sum.**"
   ]
  },
  {
   "cell_type": "code",
   "execution_count": null,
   "id": "403cc045-f615-4c35-a4c5-915f82327304",
   "metadata": {},
   "outputs": [],
   "source": []
  },
  {
   "cell_type": "markdown",
   "id": "116b3090",
   "metadata": {},
   "source": [
    "29. **Check if two numpy arrays are equal.**"
   ]
  },
  {
   "cell_type": "code",
   "execution_count": null,
   "id": "11169903-ddcc-4119-987c-d88e29a08ffc",
   "metadata": {},
   "outputs": [],
   "source": []
  },
  {
   "cell_type": "markdown",
   "id": "7ad7eada",
   "metadata": {},
   "source": [
    "30. **Find the unique elements of a numpy array.**"
   ]
  },
  {
   "cell_type": "code",
   "execution_count": null,
   "id": "227815e0-9e9e-42ed-abee-0846503103a5",
   "metadata": {},
   "outputs": [],
   "source": []
  },
  {
   "cell_type": "markdown",
   "id": "7f225d10",
   "metadata": {},
   "source": [
    "## Hard Level Questions"
   ]
  },
  {
   "cell_type": "markdown",
   "id": "e7b0d3db",
   "metadata": {},
   "source": [
    "31. **Create a random 10x10 matrix and find the position (index) of the maximum value.**"
   ]
  },
  {
   "cell_type": "code",
   "execution_count": null,
   "id": "95cf1f55-6207-44f2-aaca-da5737bf0a73",
   "metadata": {},
   "outputs": [],
   "source": []
  },
  {
   "cell_type": "markdown",
   "id": "efb64ea3",
   "metadata": {},
   "source": [
    "32. **Create a random vector of size 30 and find the mean value.**"
   ]
  },
  {
   "cell_type": "code",
   "execution_count": null,
   "id": "17dfb520-c530-4f71-8040-e74c6d24ba3e",
   "metadata": {},
   "outputs": [],
   "source": []
  },
  {
   "cell_type": "markdown",
   "id": "e92e21b0",
   "metadata": {},
   "source": [
    "33. **Generate a 10x10 matrix of random numbers and subtract the row mean from each element.**"
   ]
  },
  {
   "cell_type": "code",
   "execution_count": null,
   "id": "0bf96737-4324-4f59-b15e-4726e74fc717",
   "metadata": {},
   "outputs": [],
   "source": []
  },
  {
   "cell_type": "markdown",
   "id": "55dac87d",
   "metadata": {},
   "source": [
    "34. **Create two random matrices A and B, compute A * B (element-wise product) and A @ B (matrix product).**"
   ]
  },
  {
   "cell_type": "code",
   "execution_count": null,
   "id": "b82bea02-dae4-473d-8c16-7ef5f3257ac7",
   "metadata": {},
   "outputs": [],
   "source": []
  },
  {
   "cell_type": "markdown",
   "id": "f315b627",
   "metadata": {},
   "source": [
    "35. **Solve the following system of linear equations: 3x + y = 9 and x + 2y = 8.**"
   ]
  },
  {
   "cell_type": "code",
   "execution_count": null,
   "id": "84d0c17f-1d3a-493c-a8c0-ee7eed2c77c4",
   "metadata": {},
   "outputs": [],
   "source": []
  },
  {
   "cell_type": "markdown",
   "id": "fdc98e58",
   "metadata": {},
   "source": [
    "36. **Compute the determinant of a given square matrix.**"
   ]
  },
  {
   "cell_type": "code",
   "execution_count": null,
   "id": "ed373851-e3dc-4034-a436-07fd8cead804",
   "metadata": {},
   "outputs": [],
   "source": []
  },
  {
   "cell_type": "markdown",
   "id": "763d491d",
   "metadata": {},
   "source": [
    "37. **Create a 3D numpy array and compute the sum along one axis.**"
   ]
  },
  {
   "cell_type": "code",
   "execution_count": null,
   "id": "39e74d74-549e-496f-8022-64c7c6b95bea",
   "metadata": {},
   "outputs": [],
   "source": []
  },
  {
   "cell_type": "markdown",
   "id": "735bee5f",
   "metadata": {},
   "source": [
    "38. **Create a random 4x4 matrix and normalize it (so that the sum of all elements is 1).**"
   ]
  },
  {
   "cell_type": "code",
   "execution_count": null,
   "id": "035d607a-4ece-45c5-acbf-45fd07388a5b",
   "metadata": {},
   "outputs": [],
   "source": []
  },
  {
   "cell_type": "markdown",
   "id": "640e742c",
   "metadata": {},
   "source": [
    "39. **Generate a 2D Gaussian-like array.**"
   ]
  },
  {
   "cell_type": "code",
   "execution_count": null,
   "id": "7d995f59-d0ff-4645-bcab-153d4a64299d",
   "metadata": {},
   "outputs": [],
   "source": []
  },
  {
   "cell_type": "markdown",
   "id": "b93b028d",
   "metadata": {},
   "source": [
    "40. **Create a 3D array of shape (3,3,3) with random values and compute the mean along each axis.**"
   ]
  },
  {
   "cell_type": "code",
   "execution_count": null,
   "id": "fdbbe0d8-a191-4244-9306-97417549b24b",
   "metadata": {},
   "outputs": [],
   "source": []
  },
  {
   "cell_type": "code",
   "execution_count": null,
   "id": "554fc5e1-7f0a-49fb-888f-0dc660202337",
   "metadata": {},
   "outputs": [],
   "source": []
  }
 ],
 "metadata": {
  "kernelspec": {
   "display_name": "Python 3 (ipykernel)",
   "language": "python",
   "name": "python3"
  },
  "language_info": {
   "codemirror_mode": {
    "name": "ipython",
    "version": 3
   },
   "file_extension": ".py",
   "mimetype": "text/x-python",
   "name": "python",
   "nbconvert_exporter": "python",
   "pygments_lexer": "ipython3",
   "version": "3.11.7"
  },
  "widgets": {
   "application/vnd.jupyter.widget-state+json": {
    "state": {},
    "version_major": 2,
    "version_minor": 0
   }
  }
 },
 "nbformat": 4,
 "nbformat_minor": 5
}
