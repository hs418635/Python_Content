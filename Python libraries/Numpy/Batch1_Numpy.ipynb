{
 "cells": [
  {
   "cell_type": "markdown",
   "id": "b7391efc-e61c-4fb8-8c4e-374387d552f9",
   "metadata": {},
   "source": [
    "# Numpy\n",
    "\n",
    "Numpy is python package/library which stands Numerical Python.\n",
    "\n",
    "**Use of Numpy in Data Analytics ?** --> Numpy is used to handle large dataset and To perform mathematical and statistical operation on arrays.\n",
    "\n",
    "Python List vs Numpy arry\n",
    "1) The operation which we perform on numpy arrays are faster than python list , bacuase numpy arrays hold similary data type element and also numpy is implemented on C langauge.\n",
    "\n",
    "2) In terms of memory utilazation also numpy array are more memory efficient than python list.\n",
    "\n",
    "Generally:\n",
    "1) 1D --> Vector\n",
    "2) 2D --> Matrix\n",
    "3) 3D --> Tensors"
   ]
  },
  {
   "cell_type": "code",
   "execution_count": 4,
   "id": "649c5431-5a55-4a14-a649-2d1acdffd820",
   "metadata": {},
   "outputs": [],
   "source": [
    "import numpy as np"
   ]
  },
  {
   "cell_type": "markdown",
   "id": "f4235e19-5954-4097-a138-e5a50d78a2ec",
   "metadata": {
    "jp-MarkdownHeadingCollapsed": true
   },
   "source": [
    "### Array Creation"
   ]
  },
  {
   "cell_type": "markdown",
   "id": "2ef87aa6-9e7e-4509-b19c-504dd3f1676e",
   "metadata": {},
   "source": [
    "#### 1D array"
   ]
  },
  {
   "cell_type": "code",
   "execution_count": 9,
   "id": "ccd71ca0-f33f-46e7-a645-ef4460a47e24",
   "metadata": {},
   "outputs": [
    {
     "name": "stdout",
     "output_type": "stream",
     "text": [
      "<class 'numpy.ndarray'>\n",
      "dimension : 0\n"
     ]
    },
    {
     "data": {
      "text/plain": [
       "array(50)"
      ]
     },
     "execution_count": 9,
     "metadata": {},
     "output_type": "execute_result"
    }
   ],
   "source": [
    "# zero dimension array\n",
    "\n",
    "arr = np.array(50)\n",
    "print(type(arr))\n",
    "print(\"dimension :\",arr.ndim)\n",
    "arr"
   ]
  },
  {
   "cell_type": "code",
   "execution_count": 72,
   "id": "c2827446-f5a6-4ff0-9e26-57aeba5ccae6",
   "metadata": {},
   "outputs": [
    {
     "name": "stdout",
     "output_type": "stream",
     "text": [
      "40\n"
     ]
    }
   ],
   "source": [
    "# scaler and vector\n",
    "\n",
    "num = 40 # integer , float\n",
    "print(num) \n",
    "\n"
   ]
  },
  {
   "cell_type": "code",
   "execution_count": 18,
   "id": "c78b1d02-ba0e-4863-b070-96aeb4eb981e",
   "metadata": {},
   "outputs": [
    {
     "name": "stdout",
     "output_type": "stream",
     "text": [
      "[2 3 4 5 6]\n",
      "<class 'numpy.ndarray'>\n",
      "dimension : 1\n",
      "shape : (5,)\n",
      "size : 5\n"
     ]
    }
   ],
   "source": [
    "# vector --> array of scaler values , generally vectors are 1D array\n",
    "arr = np.array([2,3,4,5,6])\n",
    "print(arr)\n",
    "print(type(arr))\n",
    "print(\"dimension :\",arr.ndim)\n",
    "print(\"shape :\",arr.shape)\n",
    "print(\"size :\",arr.size)"
   ]
  },
  {
   "cell_type": "code",
   "execution_count": 20,
   "id": "623108f2-c16a-477c-b332-e068ebec29ff",
   "metadata": {},
   "outputs": [
    {
     "name": "stdin",
     "output_type": "stream",
     "text": [
      "enter size of array : 5\n",
      "enter element : 1\n",
      "enter element : 2\n",
      "enter element : 3\n",
      "enter element : 4\n",
      "enter element : 5\n"
     ]
    },
    {
     "data": {
      "text/plain": [
       "array([1, 2, 3, 4, 5])"
      ]
     },
     "execution_count": 20,
     "metadata": {},
     "output_type": "execute_result"
    }
   ],
   "source": [
    "# make and 1D array using users input\n",
    "lst = []\n",
    "size = int(input(\"enter size of array :\"))\n",
    "for i in range(size):\n",
    "    n = int(input(\"enter element :\"))\n",
    "    lst.append(n)\n",
    "arr = np.array(lst)\n",
    "arr"
   ]
  },
  {
   "cell_type": "markdown",
   "id": "91276fa0-10b9-47bd-acf5-20df4e3d71b1",
   "metadata": {},
   "source": [
    "#### 2D array\n",
    "\n",
    "2D array is an array of 1D array"
   ]
  },
  {
   "cell_type": "code",
   "execution_count": 22,
   "id": "56d31ecb-8caa-4213-b323-97bf86333852",
   "metadata": {},
   "outputs": [
    {
     "name": "stdout",
     "output_type": "stream",
     "text": [
      "[[2 3 4]]\n",
      "<class 'numpy.ndarray'>\n",
      "dimension : 2\n",
      "shape : (1, 3)\n",
      "size : 3\n"
     ]
    }
   ],
   "source": [
    "arr = np.array([ [2,3,4] ])\n",
    "print(arr)\n",
    "print(type(arr))\n",
    "print(\"dimension :\",arr.ndim)\n",
    "print(\"shape :\",arr.shape)\n",
    "print(\"size :\",arr.size)"
   ]
  },
  {
   "cell_type": "code",
   "execution_count": 27,
   "id": "576d9b71-b1eb-4d2d-832b-41642908200f",
   "metadata": {},
   "outputs": [
    {
     "name": "stdout",
     "output_type": "stream",
     "text": [
      "[[2 3 4]\n",
      " [5 6 7]\n",
      " [7 8 9]]\n",
      "dimension : 2\n",
      "shape : (3, 3)\n",
      "size : 9\n"
     ]
    }
   ],
   "source": [
    "arr = np.array([[2,3,4],\n",
    "                  [5,6,7],\n",
    "                   [7,8,9]])\n",
    "print(arr)\n",
    "print(\"dimension :\",arr.ndim)\n",
    "print(\"shape :\",arr.shape)\n",
    "print(\"size :\",arr.size)"
   ]
  },
  {
   "cell_type": "markdown",
   "id": "db6789ce-a7a3-4dd7-9b8d-50ec50c6509c",
   "metadata": {},
   "source": [
    "#### 3D\n",
    "It is an array of 2D arrays"
   ]
  },
  {
   "cell_type": "code",
   "execution_count": 35,
   "id": "a954bf93-0d4d-4169-9ec9-514d6fa6eeee",
   "metadata": {},
   "outputs": [
    {
     "name": "stdout",
     "output_type": "stream",
     "text": [
      "[[[2 3]\n",
      "  [4 5]]]\n",
      "dimension : 3\n",
      "shape : (1, 2, 2)\n",
      "size : 4\n"
     ]
    }
   ],
   "source": [
    "arr = np.array([ [[2,3],[4,5]] ])\n",
    "print(arr)\n",
    "print(\"dimension :\",arr.ndim)\n",
    "print(\"shape :\",arr.shape)\n",
    "print(\"size :\",arr.size)"
   ]
  },
  {
   "cell_type": "code",
   "execution_count": 36,
   "id": "d40e3173-764e-4b03-a927-9ff6345418fe",
   "metadata": {},
   "outputs": [
    {
     "name": "stdout",
     "output_type": "stream",
     "text": [
      "[[[2 3]\n",
      "  [4 5]]\n",
      "\n",
      " [[6 7]\n",
      "  [8 9]]]\n",
      "dimension : 3\n",
      "shape : (2, 2, 2)\n",
      "size : 8\n"
     ]
    }
   ],
   "source": [
    "arr = np.array([ [[2,3],[4,5]], [[6,7],[8,9]]])\n",
    "print(arr)\n",
    "print(\"dimension :\",arr.ndim)\n",
    "print(\"shape :\",arr.shape)\n",
    "print(\"size :\",arr.size)"
   ]
  },
  {
   "cell_type": "markdown",
   "id": "c1f43920-ef40-4293-9488-4b644f6b74b6",
   "metadata": {
    "jp-MarkdownHeadingCollapsed": true
   },
   "source": [
    "### Methods in Numpy\n",
    "zeros , ones , eye , identity , empty , full"
   ]
  },
  {
   "cell_type": "markdown",
   "id": "e3498df5-69d8-424a-98a5-ed2b0222f04d",
   "metadata": {},
   "source": [
    "##### Zeros"
   ]
  },
  {
   "cell_type": "code",
   "execution_count": 37,
   "id": "ba1d60de-7431-4ab2-ae0f-b2f277030ba6",
   "metadata": {},
   "outputs": [
    {
     "name": "stdout",
     "output_type": "stream",
     "text": [
      "[0. 0. 0. 0. 0.]\n",
      "dimension : 1\n",
      "shape : (5,)\n",
      "size : 5\n"
     ]
    }
   ],
   "source": [
    "# zeros\n",
    "arr = np.zeros(5)\n",
    "print(arr)\n",
    "print(\"dimension :\",arr.ndim)\n",
    "print(\"shape :\",arr.shape)\n",
    "print(\"size :\",arr.size)"
   ]
  },
  {
   "cell_type": "code",
   "execution_count": 39,
   "id": "d0a0e26b-141e-48b9-bd0c-6fb44734bae5",
   "metadata": {},
   "outputs": [
    {
     "name": "stdout",
     "output_type": "stream",
     "text": [
      "[[0. 0.]\n",
      " [0. 0.]]\n",
      "dimension : 2\n",
      "shape : (2, 2)\n",
      "size : 4\n"
     ]
    }
   ],
   "source": [
    "arr = np.zeros((2,2))\n",
    "print(arr)\n",
    "print(\"dimension :\",arr.ndim)\n",
    "print(\"shape :\",arr.shape)\n",
    "print(\"size :\",arr.size)"
   ]
  },
  {
   "cell_type": "code",
   "execution_count": 40,
   "id": "322728ac-d8e7-45cb-b7a2-00e826f9e3b7",
   "metadata": {},
   "outputs": [
    {
     "name": "stdout",
     "output_type": "stream",
     "text": [
      "[[[0. 0.]\n",
      "  [0. 0.]]\n",
      "\n",
      " [[0. 0.]\n",
      "  [0. 0.]]]\n",
      "dimension : 3\n",
      "shape : (2, 2, 2)\n",
      "size : 8\n"
     ]
    }
   ],
   "source": [
    "arr = np.zeros((2,2,2))\n",
    "print(arr)\n",
    "print(\"dimension :\",arr.ndim)\n",
    "print(\"shape :\",arr.shape)\n",
    "print(\"size :\",arr.size)"
   ]
  },
  {
   "cell_type": "markdown",
   "id": "363dce3a-27b4-4217-bf8e-f31cf5575746",
   "metadata": {},
   "source": [
    "##### empty"
   ]
  },
  {
   "cell_type": "code",
   "execution_count": 42,
   "id": "6edb9477-8214-4f77-bef4-d6b3557d608c",
   "metadata": {},
   "outputs": [
    {
     "name": "stdout",
     "output_type": "stream",
     "text": [
      "[[0. 0.]\n",
      " [0. 0.]]\n",
      "dimension : 2\n",
      "shape : (2, 2)\n",
      "size : 4\n",
      "data type : float64\n"
     ]
    }
   ],
   "source": [
    "arr = np.empty((2,2))\n",
    "print(arr)\n",
    "print(\"dimension :\",arr.ndim)\n",
    "print(\"shape :\",arr.shape)\n",
    "print(\"size :\",arr.size)\n",
    "print(\"data type :\",arr.dtype)"
   ]
  },
  {
   "cell_type": "markdown",
   "id": "dd3886cc-7589-4db0-8d70-5106256769cb",
   "metadata": {},
   "source": [
    "#### ones"
   ]
  },
  {
   "cell_type": "code",
   "execution_count": 43,
   "id": "89a6638f-4981-4362-8981-d18d02fe2ee2",
   "metadata": {},
   "outputs": [
    {
     "name": "stdout",
     "output_type": "stream",
     "text": [
      "[[1. 1.]\n",
      " [1. 1.]]\n",
      "dimension : 2\n",
      "shape : (2, 2)\n",
      "size : 4\n",
      "data type : float64\n"
     ]
    }
   ],
   "source": [
    "arr = np.ones((2,2))\n",
    "print(arr)\n",
    "print(\"dimension :\",arr.ndim)\n",
    "print(\"shape :\",arr.shape)\n",
    "print(\"size :\",arr.size)\n",
    "print(\"data type :\",arr.dtype)"
   ]
  },
  {
   "cell_type": "code",
   "execution_count": 44,
   "id": "f61f8722-acab-4836-a424-adb8988a5870",
   "metadata": {},
   "outputs": [
    {
     "name": "stdout",
     "output_type": "stream",
     "text": [
      "[[1 1]\n",
      " [1 1]]\n",
      "dimension : 2\n",
      "shape : (2, 2)\n",
      "size : 4\n",
      "data type : int32\n"
     ]
    }
   ],
   "source": [
    "# changing data type\n",
    "arr = np.ones((2,2),dtype=int)\n",
    "print(arr)\n",
    "print(\"dimension :\",arr.ndim)\n",
    "print(\"shape :\",arr.shape)\n",
    "print(\"size :\",arr.size)\n",
    "print(\"data type :\",arr.dtype)"
   ]
  },
  {
   "cell_type": "markdown",
   "id": "ad8d7337-63fa-4dc6-9f67-2637a16c5974",
   "metadata": {},
   "source": [
    "##### eye"
   ]
  },
  {
   "cell_type": "code",
   "execution_count": 52,
   "id": "e71eab72-775c-46c9-9d3c-45e42b98dded",
   "metadata": {},
   "outputs": [
    {
     "name": "stdout",
     "output_type": "stream",
     "text": [
      "[[1. 0. 0.]\n",
      " [0. 1. 0.]\n",
      " [0. 0. 1.]]\n",
      "dimension : 2\n",
      "shape : (3, 3)\n",
      "size : 9\n",
      "data type : float64\n"
     ]
    }
   ],
   "source": [
    "arr = np.eye(3)\n",
    "print(arr)\n",
    "print(\"dimension :\",arr.ndim)\n",
    "print(\"shape :\",arr.shape)\n",
    "print(\"size :\",arr.size)\n",
    "print(\"data type :\",arr.dtype)"
   ]
  },
  {
   "cell_type": "code",
   "execution_count": 49,
   "id": "2cef4d2d-47d0-4ce4-8fa4-30ef2b319e24",
   "metadata": {},
   "outputs": [
    {
     "name": "stdout",
     "output_type": "stream",
     "text": [
      "[[1. 0. 0.]\n",
      " [0. 1. 0.]\n",
      " [0. 0. 1.]]\n",
      "dimension : 2\n",
      "shape : (3, 3)\n",
      "size : 9\n",
      "data type : float64\n"
     ]
    }
   ],
   "source": [
    "arr = np.identity(3)\n",
    "print(arr)\n",
    "print(\"dimension :\",arr.ndim)\n",
    "print(\"shape :\",arr.shape)\n",
    "print(\"size :\",arr.size)\n",
    "print(\"data type :\",arr.dtype)"
   ]
  },
  {
   "cell_type": "markdown",
   "id": "bc1577ca-9329-456a-8de8-bbf3d67d40ec",
   "metadata": {},
   "source": [
    "##### diag"
   ]
  },
  {
   "cell_type": "code",
   "execution_count": 56,
   "id": "dc5ed16d-7854-40c6-82d5-2a733fa063fb",
   "metadata": {},
   "outputs": [
    {
     "name": "stdout",
     "output_type": "stream",
     "text": [
      "[[2 0 0]\n",
      " [0 3 0]\n",
      " [0 0 4]]\n",
      "dimension : 2\n",
      "shape : (3, 3)\n"
     ]
    }
   ],
   "source": [
    "arr = np.diag([2,3,4])\n",
    "print(arr)\n",
    "print(\"dimension :\",arr.ndim)\n",
    "print(\"shape :\",arr.shape)"
   ]
  },
  {
   "cell_type": "markdown",
   "id": "fdbf1516-bc57-4724-a116-1821b4e787ef",
   "metadata": {},
   "source": [
    "##### full "
   ]
  },
  {
   "cell_type": "code",
   "execution_count": 69,
   "id": "460a8fef-9b2b-4aa0-8b56-c1b9501cb262",
   "metadata": {},
   "outputs": [
    {
     "name": "stdout",
     "output_type": "stream",
     "text": [
      "[[6 6 6]\n",
      " [6 6 6]\n",
      " [6 6 6]]\n",
      "dimension : 2\n",
      "shape : (3, 3)\n"
     ]
    }
   ],
   "source": [
    "arr = np.full((3,3),6) # all element same\n",
    "print(arr)\n",
    "print(\"dimension :\",arr.ndim)\n",
    "print(\"shape :\",arr.shape)"
   ]
  },
  {
   "cell_type": "markdown",
   "id": "ed70c8b2-7e60-4c0f-adf1-62ab67f7c0d1",
   "metadata": {},
   "source": [
    "##### arange"
   ]
  },
  {
   "cell_type": "code",
   "execution_count": 70,
   "id": "007f1fbf-d004-4627-9945-b36cbeef5d39",
   "metadata": {},
   "outputs": [
    {
     "name": "stdout",
     "output_type": "stream",
     "text": [
      "[ 5  6  7  8  9 10 11 12 13 14 15 16 17 18 19]\n",
      "dimension : 1\n",
      "shape : (15,)\n"
     ]
    }
   ],
   "source": [
    "arr = np.arange(5,20)\n",
    "print(arr)\n",
    "print(\"dimension :\",arr.ndim)\n",
    "print(\"shape :\",arr.shape)"
   ]
  },
  {
   "cell_type": "code",
   "execution_count": 71,
   "id": "e53dc0c8-e73f-409c-82c3-2f640c6604e1",
   "metadata": {},
   "outputs": [
    {
     "name": "stdout",
     "output_type": "stream",
     "text": [
      "[ 5  7  9 11 13 15 17 19]\n",
      "dimension : 1\n",
      "shape : (8,)\n"
     ]
    }
   ],
   "source": [
    "arr = np.arange(5,20,2) # (start,end,stepsize)\n",
    "print(arr)\n",
    "print(\"dimension :\",arr.ndim)\n",
    "print(\"shape :\",arr.shape)"
   ]
  },
  {
   "cell_type": "markdown",
   "id": "10c962f7-9e2e-4f0e-b28e-bbe600e808ed",
   "metadata": {},
   "source": [
    "##### Random --> Used to generate random number\n",
    "\n",
    "1) np.random.randn() ----> generate random numbers from standard normal distribution (-3,+3)\n",
    "2) np.random.rand() --> generates random numbers from uniform normal distribution (0,1)\n",
    "3) np.random.randint() --> used to generate integers  "
   ]
  },
  {
   "cell_type": "code",
   "execution_count": 20,
   "id": "d93a861f-21bd-4d84-bf8f-c367cf4475d9",
   "metadata": {},
   "outputs": [
    {
     "name": "stdout",
     "output_type": "stream",
     "text": [
      "shape : (10,)\n",
      "dimension : 1\n"
     ]
    },
    {
     "data": {
      "text/plain": [
       "array([ 1.33306367, -1.27439013, -2.90330568,  0.05932319, -1.69733146,\n",
       "       -0.16536283,  1.3634639 ,  1.25489969, -0.26041704, -0.1898813 ])"
      ]
     },
     "execution_count": 20,
     "metadata": {},
     "output_type": "execute_result"
    }
   ],
   "source": [
    "import numpy as np\n",
    "arr = np.random.randn(10)\n",
    "print(\"shape :\",arr.shape)\n",
    "print(\"dimension :\",arr.ndim)\n",
    "arr"
   ]
  },
  {
   "cell_type": "code",
   "execution_count": 23,
   "id": "dad9d787-3171-41ea-b299-9ec27db47bc6",
   "metadata": {},
   "outputs": [
    {
     "name": "stdout",
     "output_type": "stream",
     "text": [
      "shape : (3, 3)\n",
      "dimension : 2\n"
     ]
    },
    {
     "data": {
      "text/plain": [
       "array([[-0.76466698, -0.45584689,  0.34244893],\n",
       "       [-1.10073374,  0.93291131, -0.05832857],\n",
       "       [-0.26591829, -0.29421209,  0.01697826]])"
      ]
     },
     "execution_count": 23,
     "metadata": {},
     "output_type": "execute_result"
    }
   ],
   "source": [
    "arr = np.random.randn(3,3) # 2d\n",
    "print(\"shape :\",arr.shape)\n",
    "print(\"dimension :\",arr.ndim)\n",
    "arr"
   ]
  },
  {
   "cell_type": "code",
   "execution_count": 24,
   "id": "c919b417-c5cd-45ce-8633-0015e7a366b2",
   "metadata": {},
   "outputs": [
    {
     "name": "stdout",
     "output_type": "stream",
     "text": [
      "shape : (1, 3, 3)\n",
      "dimension : 3\n"
     ]
    },
    {
     "data": {
      "text/plain": [
       "array([[[ 1.08200179, -0.62373424,  0.51802658],\n",
       "        [ 0.66335759,  0.45875561, -0.98790501],\n",
       "        [-0.50199884, -0.58147256, -1.88838213]]])"
      ]
     },
     "execution_count": 24,
     "metadata": {},
     "output_type": "execute_result"
    }
   ],
   "source": [
    "arr = np.random.randn(1,3,3) # 3d\n",
    "print(\"shape :\",arr.shape)\n",
    "print(\"dimension :\",arr.ndim)\n",
    "arr"
   ]
  },
  {
   "cell_type": "code",
   "execution_count": 55,
   "id": "4a6dc68b-9f9f-4de4-b2fd-8795e39da143",
   "metadata": {},
   "outputs": [
    {
     "name": "stdout",
     "output_type": "stream",
     "text": [
      "shape : (10,)\n",
      "dimension : 1\n"
     ]
    },
    {
     "data": {
      "text/plain": [
       "array([0.89808115, 0.40882275, 0.4272389 , 0.14237552, 0.89926896,\n",
       "       0.35089578, 0.26742889, 0.48128393, 0.45709292, 0.03755655])"
      ]
     },
     "execution_count": 55,
     "metadata": {},
     "output_type": "execute_result"
    }
   ],
   "source": [
    "# random.rand() \n",
    "arr = np.random.rand(10) # 1d\n",
    "print(\"shape :\",arr.shape)\n",
    "print(\"dimension :\",arr.ndim)\n",
    "arr"
   ]
  },
  {
   "cell_type": "code",
   "execution_count": 58,
   "id": "22b7ce84-6d42-4ae3-98e2-58c0983573fb",
   "metadata": {},
   "outputs": [
    {
     "name": "stdout",
     "output_type": "stream",
     "text": [
      "shape : (3, 3)\n",
      "dimension : 2\n"
     ]
    },
    {
     "data": {
      "text/plain": [
       "array([[0.34843627, 0.38150583, 0.26716556],\n",
       "       [0.18276551, 0.47191423, 0.60682167],\n",
       "       [0.92961886, 0.62480216, 0.59095513]])"
      ]
     },
     "execution_count": 58,
     "metadata": {},
     "output_type": "execute_result"
    }
   ],
   "source": [
    "arr = np.random.rand(3,3) # 2d\n",
    "print(\"shape :\",arr.shape)\n",
    "print(\"dimension :\",arr.ndim)\n",
    "arr"
   ]
  },
  {
   "cell_type": "code",
   "execution_count": 59,
   "id": "14c22645-a1a0-448b-a157-99fd76aa4c81",
   "metadata": {},
   "outputs": [
    {
     "name": "stdout",
     "output_type": "stream",
     "text": [
      "shape : (2, 3, 3)\n",
      "dimension : 3\n"
     ]
    },
    {
     "data": {
      "text/plain": [
       "array([[[0.55789488, 0.95715565, 0.26455411],\n",
       "        [0.95965698, 0.61470719, 0.54819473],\n",
       "        [0.16755156, 0.32740468, 0.04877437]],\n",
       "\n",
       "       [[0.89242857, 0.7808037 , 0.53833262],\n",
       "        [0.71426634, 0.68379045, 0.80257346],\n",
       "        [0.97652652, 0.82907423, 0.12604947]]])"
      ]
     },
     "execution_count": 59,
     "metadata": {},
     "output_type": "execute_result"
    }
   ],
   "source": [
    "arr = np.random.rand(2,3,3) # 3d\n",
    "print(\"shape :\",arr.shape)\n",
    "print(\"dimension :\",arr.ndim)\n",
    "arr"
   ]
  },
  {
   "cell_type": "code",
   "execution_count": 72,
   "id": "7205f86d-6ad2-4d2a-87ab-c05b79ec4aa7",
   "metadata": {},
   "outputs": [
    {
     "data": {
      "text/plain": [
       "8"
      ]
     },
     "execution_count": 72,
     "metadata": {},
     "output_type": "execute_result"
    }
   ],
   "source": [
    "# random.randint\n",
    "arr = np.random.randint(10) \n",
    "# print(\"shape :\",arr.shape)\n",
    "# print(\"dimension :\",arr.ndim)\n",
    "arr"
   ]
  },
  {
   "cell_type": "code",
   "execution_count": 91,
   "id": "8e2667eb-274f-40d4-b9bc-9248773551f9",
   "metadata": {},
   "outputs": [
    {
     "name": "stdout",
     "output_type": "stream",
     "text": [
      "shape : (12,)\n",
      "dimension : 1\n"
     ]
    },
    {
     "data": {
      "text/plain": [
       "array([15, 43, 24, 17, 30, 29, 47, 37, 44, 44, 47, 39])"
      ]
     },
     "execution_count": 91,
     "metadata": {},
     "output_type": "execute_result"
    }
   ],
   "source": [
    "arr = np.random.randint(1,50,12) \n",
    "print(\"shape :\",arr.shape)\n",
    "print(\"dimension :\",arr.ndim)\n",
    "arr"
   ]
  },
  {
   "cell_type": "code",
   "execution_count": 94,
   "id": "cddcf906-44a1-4042-9ad8-7ec464c5ac5c",
   "metadata": {},
   "outputs": [
    {
     "name": "stdout",
     "output_type": "stream",
     "text": [
      "shape : (3, 3)\n",
      "dimension : 2\n"
     ]
    },
    {
     "data": {
      "text/plain": [
       "array([[45, 31,  8],\n",
       "       [33, 15,  7],\n",
       "       [15, 27,  5]])"
      ]
     },
     "execution_count": 94,
     "metadata": {},
     "output_type": "execute_result"
    }
   ],
   "source": [
    "arr = np.random.randint(0,50,(3,3)) \n",
    "print(\"shape :\",arr.shape)\n",
    "print(\"dimension :\",arr.ndim)\n",
    "arr"
   ]
  },
  {
   "cell_type": "code",
   "execution_count": 103,
   "id": "ccc5c62f-1ca7-41e7-92e7-fb3c8975239a",
   "metadata": {},
   "outputs": [
    {
     "name": "stdout",
     "output_type": "stream",
     "text": [
      "shape : (2, 3, 3)\n",
      "dimension : 3\n"
     ]
    },
    {
     "data": {
      "text/plain": [
       "array([[[43, 35, 22],\n",
       "        [34,  8,  2],\n",
       "        [33, 26, 17]],\n",
       "\n",
       "       [[32, 15,  8],\n",
       "        [10, 42, 41],\n",
       "        [ 3, 25,  7]]])"
      ]
     },
     "execution_count": 103,
     "metadata": {},
     "output_type": "execute_result"
    }
   ],
   "source": [
    "arr = np.random.randint(1,50,(2,3,3)) \n",
    "print(\"shape :\",arr.shape)\n",
    "print(\"dimension :\",arr.ndim)\n",
    "arr"
   ]
  },
  {
   "cell_type": "code",
   "execution_count": 120,
   "id": "b4fb0210-daf1-4bc9-a96b-e9990c4bcfa2",
   "metadata": {},
   "outputs": [
    {
     "name": "stdout",
     "output_type": "stream",
     "text": [
      "shape : (3, 3)\n",
      "dimension : 2\n"
     ]
    },
    {
     "data": {
      "text/plain": [
       "array([[36, 27, 16],\n",
       "       [32, 29, 27],\n",
       "       [10, 21, 12]])"
      ]
     },
     "execution_count": 120,
     "metadata": {},
     "output_type": "execute_result"
    }
   ],
   "source": [
    "# freezing random number \n",
    "np.random.seed(20)\n",
    "arr = np.random.randint(1,50,(3,3)) \n",
    "print(\"shape :\",arr.shape)\n",
    "print(\"dimension :\",arr.ndim)\n",
    "arr"
   ]
  },
  {
   "cell_type": "markdown",
   "id": "07063912-4f17-42e4-9a43-976420364a78",
   "metadata": {
    "jp-MarkdownHeadingCollapsed": true
   },
   "source": [
    "### Reshaping of array"
   ]
  },
  {
   "cell_type": "markdown",
   "id": "5931e371-f118-4808-8172-4f5ad4145ad7",
   "metadata": {},
   "source": [
    "##### 1D to 2d and 3d"
   ]
  },
  {
   "cell_type": "code",
   "execution_count": 123,
   "id": "81d936e7-757a-4e00-99cb-3b4d17a1fa30",
   "metadata": {},
   "outputs": [
    {
     "name": "stdout",
     "output_type": "stream",
     "text": [
      "shape : (18,)\n",
      "dimension : 1\n"
     ]
    },
    {
     "data": {
      "text/plain": [
       "array([36, 27, 16, 32, 29, 27, 10, 21, 12, 23,  8, 35, 33, 41, 22, 27, 27,\n",
       "       20])"
      ]
     },
     "execution_count": 123,
     "metadata": {},
     "output_type": "execute_result"
    }
   ],
   "source": [
    "np.random.seed(20)\n",
    "arr = np.random.randint(1,50,18) \n",
    "print(\"shape :\",arr.shape)\n",
    "print(\"dimension :\",arr.ndim)\n",
    "arr"
   ]
  },
  {
   "cell_type": "code",
   "execution_count": 127,
   "id": "b585cd9a-a357-4d15-884f-cccd5029596c",
   "metadata": {},
   "outputs": [
    {
     "name": "stdout",
     "output_type": "stream",
     "text": [
      "shape : (3, 6)\n",
      "dimension : 2\n"
     ]
    },
    {
     "data": {
      "text/plain": [
       "array([[36, 27, 16, 32, 29, 27],\n",
       "       [10, 21, 12, 23,  8, 35],\n",
       "       [33, 41, 22, 27, 27, 20]])"
      ]
     },
     "execution_count": 127,
     "metadata": {},
     "output_type": "execute_result"
    }
   ],
   "source": [
    "np.random.seed(20)\n",
    "arr = np.random.randint(1,50,18).reshape(3,6) # 18 --> (1,18) , (2,9) , (3,6),(1,3,6)3d  , (2,3,3)\n",
    "print(\"shape :\",arr.shape)\n",
    "print(\"dimension :\",arr.ndim)\n",
    "arr"
   ]
  },
  {
   "cell_type": "code",
   "execution_count": 129,
   "id": "4f2a49b5-075d-4ff0-802a-2cf691b91c1b",
   "metadata": {},
   "outputs": [
    {
     "name": "stdout",
     "output_type": "stream",
     "text": [
      "shape : (2, 3, 3)\n",
      "dimension : 3\n"
     ]
    },
    {
     "data": {
      "text/plain": [
       "array([[[36, 27, 16],\n",
       "        [32, 29, 27],\n",
       "        [10, 21, 12]],\n",
       "\n",
       "       [[23,  8, 35],\n",
       "        [33, 41, 22],\n",
       "        [27, 27, 20]]])"
      ]
     },
     "execution_count": 129,
     "metadata": {},
     "output_type": "execute_result"
    }
   ],
   "source": [
    "np.random.seed(20)\n",
    "arr = np.random.randint(1,50,18).reshape(2,3,3) # 18 --> (1,18) , (2,9) , (3,6),(1,3,6)3d  , (2,3,3)\n",
    "print(\"shape :\",arr.shape)\n",
    "print(\"dimension :\",arr.ndim)\n",
    "arr"
   ]
  },
  {
   "cell_type": "markdown",
   "id": "1d9bb392-c910-482a-a110-dcc9d18d6ab7",
   "metadata": {},
   "source": [
    "##### 2d to 3d and 1d"
   ]
  },
  {
   "cell_type": "code",
   "execution_count": 131,
   "id": "4bd149bc-5e87-4908-9dfb-9d6de7136d6b",
   "metadata": {},
   "outputs": [
    {
     "name": "stdout",
     "output_type": "stream",
     "text": [
      "shape : (4, 4)\n",
      "dimension : 2\n"
     ]
    },
    {
     "data": {
      "text/plain": [
       "array([[36, 27, 16, 32],\n",
       "       [29, 27, 10, 21],\n",
       "       [12, 23,  8, 35],\n",
       "       [33, 41, 22, 27]])"
      ]
     },
     "execution_count": 131,
     "metadata": {},
     "output_type": "execute_result"
    }
   ],
   "source": [
    "np.random.seed(20)\n",
    "arr = np.random.randint(1,50,(4,4))\n",
    "print(\"shape :\",arr.shape)\n",
    "print(\"dimension :\",arr.ndim)\n",
    "arr"
   ]
  },
  {
   "cell_type": "code",
   "execution_count": 132,
   "id": "3e6dfba9-80a8-4ba1-8060-5cd89a5e64ea",
   "metadata": {},
   "outputs": [
    {
     "data": {
      "text/plain": [
       "array([[[36, 27, 16, 32],\n",
       "        [29, 27, 10, 21]],\n",
       "\n",
       "       [[12, 23,  8, 35],\n",
       "        [33, 41, 22, 27]]])"
      ]
     },
     "execution_count": 132,
     "metadata": {},
     "output_type": "execute_result"
    }
   ],
   "source": [
    "arr.reshape(2,2,4) # 3d to 3d"
   ]
  },
  {
   "cell_type": "code",
   "execution_count": 133,
   "id": "cf2369d6-b834-431c-a1ab-ae055bbe6b7a",
   "metadata": {},
   "outputs": [
    {
     "data": {
      "text/plain": [
       "array([36, 27, 16, 32, 29, 27, 10, 21, 12, 23,  8, 35, 33, 41, 22, 27])"
      ]
     },
     "execution_count": 133,
     "metadata": {},
     "output_type": "execute_result"
    }
   ],
   "source": [
    "arr.reshape(16)"
   ]
  },
  {
   "cell_type": "code",
   "execution_count": 135,
   "id": "2c5a1f7d-4800-4ae2-a8e0-a7f2e1d966d4",
   "metadata": {},
   "outputs": [
    {
     "name": "stdout",
     "output_type": "stream",
     "text": [
      "shape : (4, 4)\n",
      "dimension : 2\n"
     ]
    },
    {
     "data": {
      "text/plain": [
       "array([[36, 27, 16, 32],\n",
       "       [29, 27, 10, 21],\n",
       "       [12, 23,  8, 35],\n",
       "       [33, 41, 22, 27]])"
      ]
     },
     "execution_count": 135,
     "metadata": {},
     "output_type": "execute_result"
    }
   ],
   "source": [
    "# to flatten the array we have ravel()\n",
    "np.random.seed(20)\n",
    "arr = np.random.randint(1,50,(4,4))\n",
    "print(\"shape :\",arr.shape)\n",
    "print(\"dimension :\",arr.ndim)\n",
    "arr"
   ]
  },
  {
   "cell_type": "code",
   "execution_count": 136,
   "id": "fa37551b-185b-42b1-9682-c5cd3aa0fa3f",
   "metadata": {},
   "outputs": [
    {
     "data": {
      "text/plain": [
       "array([36, 27, 16, 32, 29, 27, 10, 21, 12, 23,  8, 35, 33, 41, 22, 27])"
      ]
     },
     "execution_count": 136,
     "metadata": {},
     "output_type": "execute_result"
    }
   ],
   "source": [
    "# flattening\n",
    "arr.ravel()"
   ]
  },
  {
   "cell_type": "code",
   "execution_count": 138,
   "id": "7fdf4b1d-ac8d-4bfa-9048-a8c09029f991",
   "metadata": {},
   "outputs": [
    {
     "data": {
      "text/plain": [
       "array([[[36, 27, 16, 32],\n",
       "        [29, 27, 10, 21]],\n",
       "\n",
       "       [[12, 23,  8, 35],\n",
       "        [33, 41, 22, 27]]])"
      ]
     },
     "execution_count": 138,
     "metadata": {},
     "output_type": "execute_result"
    }
   ],
   "source": [
    "# flattening\n",
    "arr.ravel().reshape(2,2,4)"
   ]
  },
  {
   "cell_type": "markdown",
   "id": "efeaa70d-a0d9-4470-a0a6-6ab70d380ebb",
   "metadata": {
    "jp-MarkdownHeadingCollapsed": true
   },
   "source": [
    "### Indexing and slicing end]"
   ]
  },
  {
   "cell_type": "raw",
   "id": "f98549a4-13e2-4791-b5f1-f62c0905f44b",
   "metadata": {},
   "source": [
    "Slicing Syntax\n",
    "\n",
    "1) 1D Array: array[start:end].\n",
    "   \n",
    "3) 2D Array: array[row_start:row_end, col_start:col_end].\n",
    "   \n",
    "5) 3D Array: array[dim3_start:dim3_end, dim2_start:dim2_end, dim1_start:dim1_end]."
   ]
  },
  {
   "cell_type": "markdown",
   "id": "7e688418-2df8-4423-ad37-fc7d4dac141a",
   "metadata": {},
   "source": [
    "##### 1d"
   ]
  },
  {
   "cell_type": "code",
   "execution_count": 147,
   "id": "b38e04bf-58f6-4dac-b491-ff9add0b73b7",
   "metadata": {},
   "outputs": [
    {
     "name": "stdout",
     "output_type": "stream",
     "text": [
      "shape : (12,)\n",
      "dimension : 1\n"
     ]
    },
    {
     "data": {
      "text/plain": [
       "array([36, 27, 16, 32, 29, 27, 10, 21, 12, 23,  8, 35])"
      ]
     },
     "execution_count": 147,
     "metadata": {},
     "output_type": "execute_result"
    }
   ],
   "source": [
    "np.random.seed(20)\n",
    "arr = np.random.randint(1,50,12)\n",
    "print(\"shape :\",arr.shape)\n",
    "print(\"dimension :\",arr.ndim)\n",
    "arr"
   ]
  },
  {
   "cell_type": "code",
   "execution_count": 148,
   "id": "64f79993-bca0-4794-bb64-2bdb03f62e67",
   "metadata": {},
   "outputs": [
    {
     "name": "stdout",
     "output_type": "stream",
     "text": [
      "Indexing : 32\n",
      "slicing : [16 32]\n",
      "slicing with steps : [27 32 27 21 23]\n"
     ]
    }
   ],
   "source": [
    "print(\"Indexing :\",arr[3])\n",
    "print(\"slicing :\",arr[2:4])\n",
    "print(\"slicing with steps :\",arr[1:10:2])"
   ]
  },
  {
   "cell_type": "markdown",
   "id": "aebb8c8f-74b5-4cee-a4af-f94a6830479e",
   "metadata": {},
   "source": [
    "##### 2d"
   ]
  },
  {
   "cell_type": "code",
   "execution_count": 149,
   "id": "85290777-0b71-49eb-950e-44d10f1ac853",
   "metadata": {},
   "outputs": [
    {
     "name": "stdout",
     "output_type": "stream",
     "text": [
      "shape : (4, 4)\n",
      "dimension : 2\n"
     ]
    },
    {
     "data": {
      "text/plain": [
       "array([[36, 27, 16, 32],\n",
       "       [29, 27, 10, 21],\n",
       "       [12, 23,  8, 35],\n",
       "       [33, 41, 22, 27]])"
      ]
     },
     "execution_count": 149,
     "metadata": {},
     "output_type": "execute_result"
    }
   ],
   "source": [
    "np.random.seed(20)\n",
    "arr = np.random.randint(1,50,(4,4))\n",
    "print(\"shape :\",arr.shape)\n",
    "print(\"dimension :\",arr.ndim)\n",
    "arr"
   ]
  },
  {
   "cell_type": "code",
   "execution_count": 157,
   "id": "df01e40b-34f0-478e-8205-9a006343db50",
   "metadata": {},
   "outputs": [
    {
     "name": "stdout",
     "output_type": "stream",
     "text": [
      "Indexing : 23\n",
      "Indexing : 23\n"
     ]
    }
   ],
   "source": [
    "# syntax ---> array[row_start:row_end, col_start:col_end].\n",
    "\n",
    "# extract 23\n",
    "print(\"Indexing :\",arr[2][1]) # double bracket notation\n",
    "print(\"Indexing :\",arr[2,1]) # single bracket notation"
   ]
  },
  {
   "cell_type": "code",
   "execution_count": 161,
   "id": "9dd7bae8-d77c-4139-ac1e-f26d1a4b797c",
   "metadata": {},
   "outputs": [
    {
     "name": "stdout",
     "output_type": "stream",
     "text": [
      "slicing :\n",
      " [[36 27 16 32]\n",
      " [29 27 10 21]\n",
      " [12 23  8 35]\n",
      " [33 41 22 27]]\n"
     ]
    }
   ],
   "source": [
    "# extract [[27,10],\n",
    "        # [23,8]]\n",
    "print(\"slicing :\\n\",arr[:,:])"
   ]
  },
  {
   "cell_type": "code",
   "execution_count": 163,
   "id": "95085f6a-0871-4589-8a3b-8761ac0abdeb",
   "metadata": {},
   "outputs": [
    {
     "name": "stdout",
     "output_type": "stream",
     "text": [
      "slicing :\n",
      " [[29 27 10 21]\n",
      " [12 23  8 35]]\n"
     ]
    }
   ],
   "source": [
    "# extract [[27,10],\n",
    "        # [23,8]]\n",
    "print(\"slicing :\\n\",arr[1:3,:])"
   ]
  },
  {
   "cell_type": "code",
   "execution_count": 165,
   "id": "c48fbff2-4636-4d37-8c46-24ba9ad046a0",
   "metadata": {},
   "outputs": [
    {
     "name": "stdout",
     "output_type": "stream",
     "text": [
      "slicing :\n",
      " [[27 10]\n",
      " [23  8]]\n"
     ]
    }
   ],
   "source": [
    "# extract [[27,10],\n",
    "        # [23,8]]\n",
    "print(\"slicing :\\n\",arr[1:3,1:3])"
   ]
  },
  {
   "cell_type": "code",
   "execution_count": 168,
   "id": "d3050a10-b3af-4331-b43b-e2bb3f3b2c03",
   "metadata": {},
   "outputs": [
    {
     "name": "stdout",
     "output_type": "stream",
     "text": [
      "slicing :\n",
      " [[27]\n",
      " [27]\n",
      " [23]\n",
      " [41]]\n"
     ]
    }
   ],
   "source": [
    "# extract first column\n",
    "print(\"slicing :\\n\",arr[:,1:2])"
   ]
  },
  {
   "cell_type": "markdown",
   "id": "c099c70d-16b4-45a2-a46a-90dc9b75a27a",
   "metadata": {},
   "source": [
    "##### 3d"
   ]
  },
  {
   "cell_type": "code",
   "execution_count": 177,
   "id": "2388c7b6-bda0-411e-b57a-546aa5b21157",
   "metadata": {},
   "outputs": [
    {
     "name": "stdout",
     "output_type": "stream",
     "text": [
      "shape : (3, 4, 4)\n",
      "dimension : 3\n"
     ]
    },
    {
     "data": {
      "text/plain": [
       "array([[[36, 27, 16, 32],\n",
       "        [29, 27, 10, 21],\n",
       "        [12, 23,  8, 35],\n",
       "        [33, 41, 22, 27]],\n",
       "\n",
       "       [[27, 20, 17, 39],\n",
       "        [39, 17, 42, 38],\n",
       "        [ 8, 38, 35,  7],\n",
       "        [27, 14, 12, 26]],\n",
       "\n",
       "       [[ 4, 11, 12, 14],\n",
       "        [20, 31, 47, 33],\n",
       "        [11, 44,  7, 12],\n",
       "        [19,  4, 14, 18]]])"
      ]
     },
     "execution_count": 177,
     "metadata": {},
     "output_type": "execute_result"
    }
   ],
   "source": [
    "np.random.seed(20)\n",
    "arr = np.random.randint(1,50,(3,4,4))\n",
    "print(\"shape :\",arr.shape)\n",
    "print(\"dimension :\",arr.ndim)\n",
    "arr"
   ]
  },
  {
   "cell_type": "code",
   "execution_count": 180,
   "id": "55a52625-adef-452c-9f71-68942bc1c8d3",
   "metadata": {},
   "outputs": [
    {
     "name": "stdout",
     "output_type": "stream",
     "text": [
      "Indexing :\n",
      " 38\n"
     ]
    }
   ],
   "source": [
    "# extract 38 from 1d positioned 2d array\n",
    "# syntax --> array[dim3_start:dim3_end, dim2_start:dim2_end, dim1_start:dim1_end].\n",
    "\n",
    "\n",
    "print(\"Indexing :\\n\",arr[1,2,1]) # single bracket notation"
   ]
  },
  {
   "cell_type": "code",
   "execution_count": 184,
   "id": "08e0316a-faf6-4f1b-9297-2dba870e8982",
   "metadata": {},
   "outputs": [
    {
     "name": "stdout",
     "output_type": "stream",
     "text": [
      "slicing :\n",
      " [[[27 20 17 39]\n",
      "  [39 17 42 38]\n",
      "  [ 8 38 35  7]\n",
      "  [27 14 12 26]]]\n"
     ]
    }
   ],
   "source": [
    "# slicing\n",
    "# extract [[[35,7]],\n",
    "#         [[12,26]]]\n",
    "\n",
    "print(\"slicing :\\n\",arr[1:2,:,:])"
   ]
  },
  {
   "cell_type": "code",
   "execution_count": 185,
   "id": "86415f41-770a-46d1-b5db-b2fccb910e53",
   "metadata": {},
   "outputs": [
    {
     "name": "stdout",
     "output_type": "stream",
     "text": [
      "slicing :\n",
      " [[[ 8 38 35  7]\n",
      "  [27 14 12 26]]]\n"
     ]
    }
   ],
   "source": [
    "# slicing\n",
    "# extract [[[35,7]],\n",
    "#         [[12,26]]]\n",
    "\n",
    "print(\"slicing :\\n\",arr[1:2,2:,:])"
   ]
  },
  {
   "cell_type": "code",
   "execution_count": 186,
   "id": "a9a1d3f0-a004-440f-9a33-1a256d68f220",
   "metadata": {},
   "outputs": [
    {
     "name": "stdout",
     "output_type": "stream",
     "text": [
      "slicing :\n",
      " [[[35  7]\n",
      "  [12 26]]]\n"
     ]
    }
   ],
   "source": [
    "# slicing\n",
    "# extract [[[35,7]],\n",
    "#         [[12,26]]]\n",
    "\n",
    "print(\"slicing :\\n\",arr[1:2,2:,2:])"
   ]
  },
  {
   "cell_type": "markdown",
   "id": "4db4c4f8-cc9b-4850-91d2-eb0932a16ac3",
   "metadata": {
    "jp-MarkdownHeadingCollapsed": true
   },
   "source": [
    "### Broadcasting"
   ]
  },
  {
   "cell_type": "code",
   "execution_count": 190,
   "id": "384c339a-f7fa-453f-ae39-226e24251914",
   "metadata": {},
   "outputs": [
    {
     "data": {
      "text/plain": [
       "array([0, 1, 2])"
      ]
     },
     "execution_count": 190,
     "metadata": {},
     "output_type": "execute_result"
    }
   ],
   "source": [
    "arr = np.arange(3)\n",
    "arr"
   ]
  },
  {
   "cell_type": "code",
   "execution_count": 191,
   "id": "5400d9ed-274d-4d5e-99ad-132e521b4e9b",
   "metadata": {},
   "outputs": [
    {
     "data": {
      "text/plain": [
       "array([5, 6, 7])"
      ]
     },
     "execution_count": 191,
     "metadata": {},
     "output_type": "execute_result"
    }
   ],
   "source": [
    "arr = np.arange(3) + 5\n",
    "arr"
   ]
  },
  {
   "cell_type": "code",
   "execution_count": 192,
   "id": "4bf3cfeb-d623-4e66-82ee-fc381b389e65",
   "metadata": {},
   "outputs": [
    {
     "data": {
      "text/plain": [
       "array([[1., 1., 1.],\n",
       "       [1., 1., 1.],\n",
       "       [1., 1., 1.]])"
      ]
     },
     "execution_count": 192,
     "metadata": {},
     "output_type": "execute_result"
    }
   ],
   "source": [
    "# eg2\n",
    "arr = np.ones((3,3))\n",
    "arr"
   ]
  },
  {
   "cell_type": "code",
   "execution_count": 194,
   "id": "452d4a1c-87b2-4751-94be-512bc6a794ce",
   "metadata": {},
   "outputs": [
    {
     "data": {
      "text/plain": [
       "array([[1., 2., 3.],\n",
       "       [1., 2., 3.],\n",
       "       [1., 2., 3.]])"
      ]
     },
     "execution_count": 194,
     "metadata": {},
     "output_type": "execute_result"
    }
   ],
   "source": [
    "arr = np.ones((3,3)) + np.arange(3)\n",
    "arr"
   ]
  },
  {
   "cell_type": "code",
   "execution_count": 196,
   "id": "5958749a-3ba3-4c93-a139-0ed39a454396",
   "metadata": {},
   "outputs": [
    {
     "data": {
      "text/plain": [
       "array([[0],\n",
       "       [1],\n",
       "       [2]])"
      ]
     },
     "execution_count": 196,
     "metadata": {},
     "output_type": "execute_result"
    }
   ],
   "source": [
    "# eg.3\n",
    "arr = np.arange(3).reshape(3,1)\n",
    "arr"
   ]
  },
  {
   "cell_type": "code",
   "execution_count": 197,
   "id": "f68c893b-43f1-4b08-8e82-92b628294530",
   "metadata": {},
   "outputs": [
    {
     "data": {
      "text/plain": [
       "array([[0, 1, 2],\n",
       "       [1, 2, 3],\n",
       "       [2, 3, 4]])"
      ]
     },
     "execution_count": 197,
     "metadata": {},
     "output_type": "execute_result"
    }
   ],
   "source": [
    "arr = np.arange(3).reshape(3,1) + np.arange(3)\n",
    "arr"
   ]
  },
  {
   "cell_type": "markdown",
   "id": "424316ff-b64c-44ee-b81b-0f676caf855f",
   "metadata": {
    "jp-MarkdownHeadingCollapsed": true
   },
   "source": [
    "### Insertion and deletion in arrays"
   ]
  },
  {
   "cell_type": "markdown",
   "id": "baa7d7e3-64f9-4265-b605-0c9eb207f2d8",
   "metadata": {},
   "source": [
    "##### 1d array"
   ]
  },
  {
   "cell_type": "code",
   "execution_count": 11,
   "id": "078f2cd5-2cb5-441b-b858-b6c6b95b45eb",
   "metadata": {},
   "outputs": [
    {
     "data": {
      "text/plain": [
       "array([10, 11, 12, 13, 14, 15, 16, 17, 18])"
      ]
     },
     "execution_count": 11,
     "metadata": {},
     "output_type": "execute_result"
    }
   ],
   "source": [
    "import numpy as np\n",
    "arr = np.arange(10,19)\n",
    "arr"
   ]
  },
  {
   "cell_type": "code",
   "execution_count": 12,
   "id": "f7334a6c-40ad-4dcd-8da3-ae15f98fe8f3",
   "metadata": {},
   "outputs": [
    {
     "data": {
      "text/plain": [
       "array([10, 33, 11, 12, 13, 14, 15, 16, 17, 18])"
      ]
     },
     "execution_count": 12,
     "metadata": {},
     "output_type": "execute_result"
    }
   ],
   "source": [
    "# insertion in 1d array\n",
    "np.insert(arr,1,33) # insert single values"
   ]
  },
  {
   "cell_type": "code",
   "execution_count": 13,
   "id": "b3c003b0-a13d-4bf6-85b9-5c1c0b3a9dd2",
   "metadata": {},
   "outputs": [
    {
     "data": {
      "text/plain": [
       "array([10, 33, 44, 55, 66, 11, 12, 13, 14, 15, 16, 17, 18])"
      ]
     },
     "execution_count": 13,
     "metadata": {},
     "output_type": "execute_result"
    }
   ],
   "source": [
    "np.insert(arr,1,[33,44,55,66]) # insert multiple values"
   ]
  },
  {
   "cell_type": "code",
   "execution_count": 16,
   "id": "58f73db9-0ce6-42c0-a5eb-9d016177557b",
   "metadata": {},
   "outputs": [
    {
     "data": {
      "text/plain": [
       "array([10, 12, 13, 14, 15, 16, 17, 18])"
      ]
     },
     "execution_count": 16,
     "metadata": {},
     "output_type": "execute_result"
    }
   ],
   "source": [
    "np.delete(arr,1) # deleting single values"
   ]
  },
  {
   "cell_type": "code",
   "execution_count": 18,
   "id": "715809d2-c304-44bb-921e-6410e5167606",
   "metadata": {},
   "outputs": [
    {
     "data": {
      "text/plain": [
       "array([10, 11, 15, 16, 17, 18])"
      ]
     },
     "execution_count": 18,
     "metadata": {},
     "output_type": "execute_result"
    }
   ],
   "source": [
    "np.delete(arr,[2,3,4]) # deleting multiple values"
   ]
  },
  {
   "cell_type": "markdown",
   "id": "4a20f27d-c886-4928-9dad-4515725f9782",
   "metadata": {},
   "source": [
    "##### 2d array"
   ]
  },
  {
   "cell_type": "code",
   "execution_count": 20,
   "id": "94119982-f726-4012-8c59-e7ede1e84bec",
   "metadata": {},
   "outputs": [
    {
     "data": {
      "text/plain": [
       "array([[11,  4,  9],\n",
       "       [ 1, 11, 12],\n",
       "       [10, 11,  7]])"
      ]
     },
     "execution_count": 20,
     "metadata": {},
     "output_type": "execute_result"
    }
   ],
   "source": [
    "np.random.seed(3)\n",
    "arr = np.random.randint(1,20,(3,3))\n",
    "arr"
   ]
  },
  {
   "cell_type": "code",
   "execution_count": 30,
   "id": "70a635fc-55fd-4da0-bd84-5ea968c127eb",
   "metadata": {},
   "outputs": [
    {
     "data": {
      "text/plain": [
       "array([[11,  4,  9],\n",
       "       [33, 33, 33],\n",
       "       [ 1, 11, 12],\n",
       "       [10, 11,  7]])"
      ]
     },
     "execution_count": 30,
     "metadata": {},
     "output_type": "execute_result"
    }
   ],
   "source": [
    "# 2d\n",
    "# axis = 0 --> row\n",
    "# axis = 1 --> column\n",
    "\n",
    "np.insert(arr,1,33,axis=0) # inserting rowwise"
   ]
  },
  {
   "cell_type": "code",
   "execution_count": 45,
   "id": "88fb0a0b-7d21-4e40-b651-93f1a0c467c2",
   "metadata": {},
   "outputs": [
    {
     "data": {
      "text/plain": [
       "array([[11,  4,  9],\n",
       "       [ 1, 11, 12],\n",
       "       [10, 11,  7],\n",
       "       [33, 44, 55]])"
      ]
     },
     "execution_count": 45,
     "metadata": {},
     "output_type": "execute_result"
    }
   ],
   "source": [
    "np.insert(arr,3,[33,44,55],axis=0) # inserting different values rowwise"
   ]
  },
  {
   "cell_type": "code",
   "execution_count": 46,
   "id": "e1c2ef39-c3bb-4c7b-b7ba-f981f920afcf",
   "metadata": {},
   "outputs": [
    {
     "data": {
      "text/plain": [
       "array([[11,  4,  9],\n",
       "       [ 1, 11, 12],\n",
       "       [10, 11,  7],\n",
       "       [22, 33, 44]])"
      ]
     },
     "execution_count": 46,
     "metadata": {},
     "output_type": "execute_result"
    }
   ],
   "source": [
    "np.append(arr,[[22,33,44]],axis=0) # appending in last row"
   ]
  },
  {
   "cell_type": "code",
   "execution_count": 48,
   "id": "f6c768fa-a5e3-4923-9c29-9c5439953f43",
   "metadata": {
    "scrolled": true
   },
   "outputs": [
    {
     "data": {
      "text/plain": [
       "array([[11,  4,  9, 55],\n",
       "       [ 1, 11, 12, 66],\n",
       "       [10, 11,  7, 77]])"
      ]
     },
     "execution_count": 48,
     "metadata": {},
     "output_type": "execute_result"
    }
   ],
   "source": [
    "np.insert(arr,3,[55,66,77],axis=1) # inserting different values column wise"
   ]
  },
  {
   "cell_type": "code",
   "execution_count": 50,
   "id": "9e21565c-ee50-4489-9bb9-115b2105b8ff",
   "metadata": {},
   "outputs": [
    {
     "data": {
      "text/plain": [
       "array([[11,  4,  9, 22],\n",
       "       [ 1, 11, 12, 33],\n",
       "       [10, 11,  7, 44]])"
      ]
     },
     "execution_count": 50,
     "metadata": {},
     "output_type": "execute_result"
    }
   ],
   "source": [
    "np.append(arr,[[22],[33],[44]],axis=1)"
   ]
  },
  {
   "cell_type": "code",
   "execution_count": 52,
   "id": "a922aacd-3bcb-41e8-9228-dc19e61cd62f",
   "metadata": {},
   "outputs": [
    {
     "data": {
      "text/plain": [
       "array([[11,  9],\n",
       "       [ 1, 12],\n",
       "       [10,  7]])"
      ]
     },
     "execution_count": 52,
     "metadata": {},
     "output_type": "execute_result"
    }
   ],
   "source": [
    "np.delete(arr,1,axis=1)"
   ]
  },
  {
   "cell_type": "markdown",
   "id": "b5f29a29-83c4-4ea3-bef8-8d1287122ac8",
   "metadata": {},
   "source": [
    "##### 3d"
   ]
  },
  {
   "cell_type": "code",
   "execution_count": 53,
   "id": "568a26ae-42da-44a7-a755-29fc4997925e",
   "metadata": {},
   "outputs": [
    {
     "data": {
      "text/plain": [
       "array([[[11,  4,  9],\n",
       "        [ 1, 11, 12],\n",
       "        [10, 11,  7]]])"
      ]
     },
     "execution_count": 53,
     "metadata": {},
     "output_type": "execute_result"
    }
   ],
   "source": [
    "np.random.seed(3)\n",
    "arr = np.random.randint(1,20,(1,3,3))\n",
    "arr"
   ]
  },
  {
   "cell_type": "code",
   "execution_count": 57,
   "id": "44af20cd-855b-4fde-8c40-18e43c5d36ec",
   "metadata": {},
   "outputs": [
    {
     "data": {
      "text/plain": [
       "array([[[11,  4,  9],\n",
       "        [ 3,  4,  5],\n",
       "        [ 1, 11, 12],\n",
       "        [10, 11,  7]]])"
      ]
     },
     "execution_count": 57,
     "metadata": {},
     "output_type": "execute_result"
    }
   ],
   "source": [
    "# in 3d array --> row--> axis=1 and column--> axis=2\n",
    "np.insert(arr,1,[3,4,5],axis=1) "
   ]
  },
  {
   "cell_type": "code",
   "execution_count": 58,
   "id": "3da81b23-9865-4dea-b6b4-d979f5bf4950",
   "metadata": {},
   "outputs": [
    {
     "data": {
      "text/plain": [
       "array([[[11,  3,  4,  9],\n",
       "        [ 1,  4, 11, 12],\n",
       "        [10,  5, 11,  7]]])"
      ]
     },
     "execution_count": 58,
     "metadata": {},
     "output_type": "execute_result"
    }
   ],
   "source": [
    "np.insert(arr,1,[3,4,5],axis=2) "
   ]
  },
  {
   "cell_type": "code",
   "execution_count": 59,
   "id": "2eba797a-ba1c-47e5-8b45-a3676677eb16",
   "metadata": {},
   "outputs": [
    {
     "data": {
      "text/plain": [
       "array([[[11,  4,  9],\n",
       "        [10, 11,  7]]])"
      ]
     },
     "execution_count": 59,
     "metadata": {},
     "output_type": "execute_result"
    }
   ],
   "source": [
    "np.delete(arr,1,axis=1)"
   ]
  },
  {
   "cell_type": "markdown",
   "id": "bac2a498-b63d-4315-933d-17e768b915ab",
   "metadata": {
    "jp-MarkdownHeadingCollapsed": true
   },
   "source": [
    "### math operations"
   ]
  },
  {
   "cell_type": "code",
   "execution_count": 60,
   "id": "a875d6ee-cd04-42f7-b174-4c2468be052c",
   "metadata": {},
   "outputs": [
    {
     "data": {
      "text/plain": [
       "array([10, 11, 12, 13, 14, 15, 16, 17, 18])"
      ]
     },
     "execution_count": 60,
     "metadata": {},
     "output_type": "execute_result"
    }
   ],
   "source": [
    "import numpy as np\n",
    "arr = np.arange(10,19)\n",
    "arr"
   ]
  },
  {
   "cell_type": "code",
   "execution_count": 62,
   "id": "462204a1-370e-4c50-acdd-c8f275e80769",
   "metadata": {},
   "outputs": [
    {
     "data": {
      "text/plain": [
       "array([20, 22, 24, 26, 28, 30, 32, 34, 36])"
      ]
     },
     "execution_count": 62,
     "metadata": {},
     "output_type": "execute_result"
    }
   ],
   "source": [
    "arr * 2 # similar for / , + , - , // , %"
   ]
  },
  {
   "cell_type": "code",
   "execution_count": 63,
   "id": "4a4b6f8e-97fb-4b91-b062-56cc8da0dead",
   "metadata": {},
   "outputs": [
    {
     "data": {
      "text/plain": [
       "array([[11,  4,  9],\n",
       "       [ 1, 11, 12],\n",
       "       [10, 11,  7]])"
      ]
     },
     "execution_count": 63,
     "metadata": {},
     "output_type": "execute_result"
    }
   ],
   "source": [
    "# 2d\n",
    "np.random.seed(3)\n",
    "arr = np.random.randint(1,20,(3,3))\n",
    "arr"
   ]
  },
  {
   "cell_type": "code",
   "execution_count": 67,
   "id": "ae4eacba-9e38-4c89-b5e4-e062163442d3",
   "metadata": {},
   "outputs": [
    {
     "data": {
      "text/plain": [
       "array([[121,  16,  81],\n",
       "       [  1, 121, 144],\n",
       "       [100, 121,  49]])"
      ]
     },
     "execution_count": 67,
     "metadata": {},
     "output_type": "execute_result"
    }
   ],
   "source": [
    "arr ** 2 # similar for / , + , - , // , % , **\n",
    "# similary for 3d"
   ]
  },
  {
   "cell_type": "code",
   "execution_count": 68,
   "id": "cd6c224d-4838-4dc6-a7fb-774d56884d46",
   "metadata": {},
   "outputs": [],
   "source": [
    "# multiply , divide , power()"
   ]
  },
  {
   "cell_type": "markdown",
   "id": "84654227-8037-4113-814e-63111797a831",
   "metadata": {},
   "source": [
    "##### Dot product\n",
    "The dot product or scalar product is an algebraic operation that takes two equal-length sequences of numbers (usually coordinate vectors), and returns a single number."
   ]
  },
  {
   "cell_type": "code",
   "execution_count": 69,
   "id": "315e209d-6102-4153-811b-c4bc85844e96",
   "metadata": {},
   "outputs": [],
   "source": [
    "arr1 = np.array([[3,5],[9,4]]) \n",
    "arr2 = np.array([[11,1],[23,12]]) "
   ]
  },
  {
   "cell_type": "code",
   "execution_count": 70,
   "id": "66fdd305-f501-4a1f-abe0-7087b5ed75ef",
   "metadata": {},
   "outputs": [
    {
     "data": {
      "text/plain": [
       "array([[3, 5],\n",
       "       [9, 4]])"
      ]
     },
     "execution_count": 70,
     "metadata": {},
     "output_type": "execute_result"
    }
   ],
   "source": [
    "arr1"
   ]
  },
  {
   "cell_type": "code",
   "execution_count": 71,
   "id": "c8335437-e97f-4ba9-8504-96ab37399e98",
   "metadata": {},
   "outputs": [
    {
     "data": {
      "text/plain": [
       "array([[11,  1],\n",
       "       [23, 12]])"
      ]
     },
     "execution_count": 71,
     "metadata": {},
     "output_type": "execute_result"
    }
   ],
   "source": [
    "arr2"
   ]
  },
  {
   "cell_type": "code",
   "execution_count": 75,
   "id": "3b70c80b-a953-4516-897d-b4a513aeb19a",
   "metadata": {},
   "outputs": [
    {
     "data": {
      "text/plain": [
       "array([[148,  63],\n",
       "       [191,  57]])"
      ]
     },
     "execution_count": 75,
     "metadata": {},
     "output_type": "execute_result"
    }
   ],
   "source": [
    "np.dot(arr1,arr2)"
   ]
  },
  {
   "cell_type": "code",
   "execution_count": 79,
   "id": "07d43ae2-9f89-46f4-b848-d507b7e0eb22",
   "metadata": {},
   "outputs": [],
   "source": [
    "# eg. Multiply a 5x3 matrix by a 3x2 matrix.\n",
    "arr1 = np.arange(1,16).reshape(5,3)\n",
    "arr2 = np.arange(1,7).reshape(3,2)"
   ]
  },
  {
   "cell_type": "code",
   "execution_count": 80,
   "id": "ae363967-9ea3-4123-8825-18883d444689",
   "metadata": {},
   "outputs": [
    {
     "data": {
      "text/plain": [
       "array([[ 1,  2,  3],\n",
       "       [ 4,  5,  6],\n",
       "       [ 7,  8,  9],\n",
       "       [10, 11, 12],\n",
       "       [13, 14, 15]])"
      ]
     },
     "execution_count": 80,
     "metadata": {},
     "output_type": "execute_result"
    }
   ],
   "source": [
    "arr1"
   ]
  },
  {
   "cell_type": "code",
   "execution_count": 81,
   "id": "7f930215-b5f6-4773-b47f-938551e2ed9c",
   "metadata": {},
   "outputs": [
    {
     "data": {
      "text/plain": [
       "array([[1, 2],\n",
       "       [3, 4],\n",
       "       [5, 6]])"
      ]
     },
     "execution_count": 81,
     "metadata": {},
     "output_type": "execute_result"
    }
   ],
   "source": [
    "arr2"
   ]
  },
  {
   "cell_type": "code",
   "execution_count": 83,
   "id": "969818d8-05ce-4014-a763-a0b20fa25a4e",
   "metadata": {},
   "outputs": [
    {
     "data": {
      "text/plain": [
       "array([[ 22,  28],\n",
       "       [ 49,  64],\n",
       "       [ 76, 100],\n",
       "       [103, 136],\n",
       "       [130, 172]])"
      ]
     },
     "execution_count": 83,
     "metadata": {},
     "output_type": "execute_result"
    }
   ],
   "source": [
    "np.dot(arr1,arr2)"
   ]
  },
  {
   "cell_type": "markdown",
   "id": "be720930-a3e5-4375-92d2-db52ffeee7c7",
   "metadata": {},
   "source": [
    "#### import mathematical mathods"
   ]
  },
  {
   "cell_type": "code",
   "execution_count": 86,
   "id": "ff9dbc8f-7028-4fb6-b333-8054745cc07b",
   "metadata": {},
   "outputs": [
    {
     "data": {
      "text/plain": [
       "array([10, 20, 30, 40, 50,  7])"
      ]
     },
     "execution_count": 86,
     "metadata": {},
     "output_type": "execute_result"
    }
   ],
   "source": [
    "arr = np.array([10,20,30,40,50,7])\n",
    "arr"
   ]
  },
  {
   "cell_type": "code",
   "execution_count": 87,
   "id": "e3120226-49cd-4101-a76b-669052ce8251",
   "metadata": {},
   "outputs": [
    {
     "name": "stdout",
     "output_type": "stream",
     "text": [
      "min : 7\n",
      "Max : 50\n",
      "sqrt : [3.16227766 4.47213595 5.47722558 6.32455532 7.07106781 2.64575131]\n",
      "sin value : [-0.54402111  0.91294525 -0.98803162  0.74511316 -0.26237485  0.6569866 ]\n",
      "cos value : [-0.83907153  0.40808206  0.15425145 -0.66693806  0.96496603  0.75390225]\n",
      "index of min number : 5\n",
      "index of max number : 4\n",
      "mean : 26.166666666666668\n",
      "std deviation : 15.496415356103775\n"
     ]
    }
   ],
   "source": [
    "print(\"min :\",np.min(arr)) # returns minimun number\n",
    "print(\"Max :\",np.max(arr)) # returns max number\n",
    "print(\"sqrt :\",np.sqrt(arr)) # returns sqrt\n",
    "print(\"sin value :\",np.sin(arr))  # sin value of every number\n",
    "print(\"cos value :\",np.cos(arr)) # cos value of every number\n",
    "print(\"index of min number :\",np.argmin(arr))\n",
    "print(\"index of max number :\",np.argmax(arr))\n",
    "print(\"mean :\",np.mean(arr))\n",
    "print(\"std deviation :\",np.std(arr))"
   ]
  },
  {
   "cell_type": "markdown",
   "id": "727010ec-e563-4681-971e-2f6d7d8ae588",
   "metadata": {},
   "source": [
    "##### normalization"
   ]
  },
  {
   "cell_type": "code",
   "execution_count": 94,
   "id": "c6871abc-4353-4b28-aaca-81630ddeb80b",
   "metadata": {},
   "outputs": [
    {
     "data": {
      "text/plain": [
       "array([[0.5507979 , 0.70814782, 0.29090474, 0.51082761],\n",
       "       [0.89294695, 0.89629309, 0.12558531, 0.20724288],\n",
       "       [0.0514672 , 0.44080984, 0.02987621, 0.45683322],\n",
       "       [0.64914405, 0.27848728, 0.6762549 , 0.59086282]])"
      ]
     },
     "execution_count": 94,
     "metadata": {},
     "output_type": "execute_result"
    }
   ],
   "source": [
    "np.random.seed(3)\n",
    "arr1 = np.random.rand(4,4)\n",
    "arr1"
   ]
  },
  {
   "cell_type": "code",
   "execution_count": 95,
   "id": "26ba31a8-72cb-49a5-8f96-b803667a0bdd",
   "metadata": {},
   "outputs": [
    {
     "data": {
      "text/plain": [
       "0.45978011456689794"
      ]
     },
     "execution_count": 95,
     "metadata": {},
     "output_type": "execute_result"
    }
   ],
   "source": [
    "arr1.mean()"
   ]
  },
  {
   "cell_type": "code",
   "execution_count": 96,
   "id": "31ad928e-8dfd-4701-b0ec-dda1b19b5218",
   "metadata": {},
   "outputs": [
    {
     "data": {
      "text/plain": [
       "0.2668577523181486"
      ]
     },
     "execution_count": 96,
     "metadata": {},
     "output_type": "execute_result"
    }
   ],
   "source": [
    "arr1.std()"
   ]
  },
  {
   "cell_type": "code",
   "execution_count": 98,
   "id": "63fdf87b-fce3-4d39-b1b7-dbc31bd048e0",
   "metadata": {},
   "outputs": [],
   "source": [
    "# to normalize we are using formula \n",
    "\n",
    "norm = (arr1-arr1.mean())/arr1.std()"
   ]
  },
  {
   "cell_type": "code",
   "execution_count": 99,
   "id": "2ea08458-ef43-4aeb-b9f8-fd3f9284bd98",
   "metadata": {},
   "outputs": [
    {
     "data": {
      "text/plain": [
       "-1.942890293094024e-16"
      ]
     },
     "execution_count": 99,
     "metadata": {},
     "output_type": "execute_result"
    }
   ],
   "source": [
    "norm.mean()"
   ]
  },
  {
   "cell_type": "code",
   "execution_count": 100,
   "id": "631165b3-be0c-4ff8-b4a4-1bec56e1ebc9",
   "metadata": {},
   "outputs": [
    {
     "data": {
      "text/plain": [
       "1.0"
      ]
     },
     "execution_count": 100,
     "metadata": {},
     "output_type": "execute_result"
    }
   ],
   "source": [
    "norm.std()"
   ]
  },
  {
   "cell_type": "markdown",
   "id": "dd5d67c9-f9e9-492f-a8b6-b370c6a9469d",
   "metadata": {
    "jp-MarkdownHeadingCollapsed": true
   },
   "source": [
    "### joining and splitting"
   ]
  },
  {
   "cell_type": "markdown",
   "id": "4f4e98a9-3288-4f60-9941-d629eaca4266",
   "metadata": {},
   "source": [
    "#### joining"
   ]
  },
  {
   "cell_type": "code",
   "execution_count": 104,
   "id": "e9f99325-b7b1-4431-b7be-d24cde79bb8e",
   "metadata": {},
   "outputs": [],
   "source": [
    "# concatenate , syntax --> np.concatenate((array1, array2, ...), axis=0)\n",
    "# vstack\n",
    "# hstack\n",
    "import numpy as np\n",
    "arr1 = np.array([[1, 2], [3, 4]])\n",
    "arr2 = np.array([[5, 6], [7, 8]])"
   ]
  },
  {
   "cell_type": "code",
   "execution_count": 105,
   "id": "4899db4c-f3ae-4212-9a2d-98abcc74dc73",
   "metadata": {},
   "outputs": [
    {
     "data": {
      "text/plain": [
       "array([[1, 2],\n",
       "       [3, 4]])"
      ]
     },
     "execution_count": 105,
     "metadata": {},
     "output_type": "execute_result"
    }
   ],
   "source": [
    "arr1"
   ]
  },
  {
   "cell_type": "code",
   "execution_count": 106,
   "id": "c3abc472-c445-49ff-88d4-c374c4c731f4",
   "metadata": {},
   "outputs": [
    {
     "data": {
      "text/plain": [
       "array([[5, 6],\n",
       "       [7, 8]])"
      ]
     },
     "execution_count": 106,
     "metadata": {},
     "output_type": "execute_result"
    }
   ],
   "source": [
    "arr2"
   ]
  },
  {
   "cell_type": "code",
   "execution_count": 108,
   "id": "104d9a4d-3bc2-4c6c-9abe-2fbea47ad0f7",
   "metadata": {},
   "outputs": [
    {
     "data": {
      "text/plain": [
       "array([[1, 2],\n",
       "       [3, 4],\n",
       "       [5, 6],\n",
       "       [7, 8]])"
      ]
     },
     "execution_count": 108,
     "metadata": {},
     "output_type": "execute_result"
    }
   ],
   "source": [
    "np.concatenate((arr1,arr2),axis=0)"
   ]
  },
  {
   "cell_type": "code",
   "execution_count": 112,
   "id": "3077e119-f41f-4c74-b307-3fa4b954ea28",
   "metadata": {},
   "outputs": [
    {
     "data": {
      "text/plain": [
       "array([[1, 2],\n",
       "       [3, 4],\n",
       "       [5, 6],\n",
       "       [7, 8]])"
      ]
     },
     "execution_count": 112,
     "metadata": {},
     "output_type": "execute_result"
    }
   ],
   "source": [
    "np.vstack((arr1,arr2)) # using vstack"
   ]
  },
  {
   "cell_type": "code",
   "execution_count": 113,
   "id": "496d2136-14d9-4165-9ca1-178c0bdefe2f",
   "metadata": {},
   "outputs": [
    {
     "data": {
      "text/plain": [
       "array([[1, 2, 5, 6],\n",
       "       [3, 4, 7, 8]])"
      ]
     },
     "execution_count": 113,
     "metadata": {},
     "output_type": "execute_result"
    }
   ],
   "source": [
    "np.concatenate((arr1,arr2),axis=1)"
   ]
  },
  {
   "cell_type": "code",
   "execution_count": 114,
   "id": "bd2ead33-58b2-44f3-82d3-5f265770ae5d",
   "metadata": {},
   "outputs": [
    {
     "data": {
      "text/plain": [
       "array([[1, 2, 5, 6],\n",
       "       [3, 4, 7, 8]])"
      ]
     },
     "execution_count": 114,
     "metadata": {},
     "output_type": "execute_result"
    }
   ],
   "source": [
    "np.hstack((arr1,arr2)) # using vstack"
   ]
  },
  {
   "cell_type": "markdown",
   "id": "04d3a6ed-bd43-4c7e-971b-a074c944172f",
   "metadata": {},
   "source": [
    "##### splitting"
   ]
  },
  {
   "cell_type": "code",
   "execution_count": 132,
   "id": "d654debb-409e-43fb-9e60-d5c814c73e01",
   "metadata": {},
   "outputs": [],
   "source": [
    "arr = np.array([1, 2, 3, 4, 5, 6])"
   ]
  },
  {
   "cell_type": "code",
   "execution_count": 133,
   "id": "7f70456c-3875-4058-9c12-ab77d4be67d3",
   "metadata": {},
   "outputs": [
    {
     "data": {
      "text/plain": [
       "[array([1, 2]), array([3, 4]), array([5, 6])]"
      ]
     },
     "execution_count": 133,
     "metadata": {},
     "output_type": "execute_result"
    }
   ],
   "source": [
    "np.split(arr,3) # splitting into 3qual parts"
   ]
  },
  {
   "cell_type": "code",
   "execution_count": 134,
   "id": "df19b534-dc63-409a-9fe7-a74fed3491d3",
   "metadata": {},
   "outputs": [
    {
     "data": {
      "text/plain": [
       "array([[1, 2, 3, 4],\n",
       "       [5, 6, 7, 8]])"
      ]
     },
     "execution_count": 134,
     "metadata": {},
     "output_type": "execute_result"
    }
   ],
   "source": [
    "arr2 = np.array([[1, 2, 3, 4], [5, 6, 7, 8]])\n",
    "arr2"
   ]
  },
  {
   "cell_type": "code",
   "execution_count": 135,
   "id": "34082b55-61d0-4bed-9ab7-23100b07c86b",
   "metadata": {},
   "outputs": [
    {
     "data": {
      "text/plain": [
       "[array([[1, 2, 3, 4]]), array([[5, 6, 7, 8]])]"
      ]
     },
     "execution_count": 135,
     "metadata": {},
     "output_type": "execute_result"
    }
   ],
   "source": [
    "# Split into 2 parts along axis 0\n",
    "np.split(arr2,2,axis=0)"
   ]
  },
  {
   "cell_type": "code",
   "execution_count": 136,
   "id": "61bcdab5-b78a-49c6-a8e7-f39aeecb7999",
   "metadata": {},
   "outputs": [
    {
     "data": {
      "text/plain": [
       "[array([[1, 2],\n",
       "        [5, 6]]),\n",
       " array([[3, 4],\n",
       "        [7, 8]])]"
      ]
     },
     "execution_count": 136,
     "metadata": {},
     "output_type": "execute_result"
    }
   ],
   "source": [
    "# Split into 2 parts along axis 1\n",
    "np.split(arr2,2,axis=1)"
   ]
  },
  {
   "cell_type": "code",
   "execution_count": 137,
   "id": "3834e846-9c52-44c5-9b47-94e7f0d2089b",
   "metadata": {},
   "outputs": [
    {
     "name": "stdout",
     "output_type": "stream",
     "text": [
      "[array([[1],\n",
      "       [5]]), array([[2, 3],\n",
      "       [6, 7]]), array([[4],\n",
      "       [8]])]\n"
     ]
    }
   ],
   "source": [
    "# Split at specific indices\n",
    "result = np.split(arr2, [1, 3], axis=1)\n",
    "print(result)"
   ]
  },
  {
   "cell_type": "code",
   "execution_count": 139,
   "id": "2a9df8f3-f4f4-4c62-99df-f2ee2168359b",
   "metadata": {},
   "outputs": [
    {
     "name": "stdout",
     "output_type": "stream",
     "text": [
      "[array([], shape=(0, 4), dtype=int32), array([[1, 2, 3, 4]]), array([[5, 6, 7, 8]])]\n"
     ]
    }
   ],
   "source": [
    "# Split at specific indices\n",
    "result = np.split(arr2, [0, 1], axis=0)\n",
    "print(result)"
   ]
  },
  {
   "cell_type": "code",
   "execution_count": 140,
   "id": "87c9328b-4fc7-47b6-9d6b-a83f0b6628e5",
   "metadata": {},
   "outputs": [
    {
     "data": {
      "text/plain": [
       "array([[11,  4,  9,  1],\n",
       "       [11, 12, 10, 11],\n",
       "       [ 7,  1, 13,  8],\n",
       "       [15, 18,  3,  3]])"
      ]
     },
     "execution_count": 140,
     "metadata": {},
     "output_type": "execute_result"
    }
   ],
   "source": [
    "np.random.seed(3)\n",
    "arr = np.random.randint(1,20,(4,4))\n",
    "arr"
   ]
  },
  {
   "cell_type": "code",
   "execution_count": 147,
   "id": "4e0b06f2-1021-4e53-bcc6-e404c3593bc6",
   "metadata": {},
   "outputs": [
    {
     "data": {
      "text/plain": [
       "[array([[11,  4,  9,  1]]),\n",
       " array([[11, 12, 10, 11],\n",
       "        [ 7,  1, 13,  8],\n",
       "        [15, 18,  3,  3]])]"
      ]
     },
     "execution_count": 147,
     "metadata": {},
     "output_type": "execute_result"
    }
   ],
   "source": [
    "np.split(arr,[1],axis=0)"
   ]
  },
  {
   "cell_type": "markdown",
   "id": "4dce3981-c13f-4d76-9a4b-d21df97e4c9a",
   "metadata": {
    "jp-MarkdownHeadingCollapsed": true
   },
   "source": [
    "### Searching and Sorting in array\n",
    "1) np.where()\n",
    "2) boolean indexing\n",
    "3) argmin , argmax\n",
    "4) find the element based on multiple\n",
    "5) np.searchsorted()"
   ]
  },
  {
   "cell_type": "code",
   "execution_count": 16,
   "id": "a6dbfb49-97bd-402d-bda3-679deca3a1c3",
   "metadata": {},
   "outputs": [
    {
     "name": "stdout",
     "output_type": "stream",
     "text": [
      "dimension : 1\n",
      "shape : (8,)\n"
     ]
    }
   ],
   "source": [
    "# 1d array\n",
    "import numpy as np\n",
    "arr = np.array([10,20,20,30,40,50,60,5])\n",
    "print(\"dimension :\",arr.ndim)\n",
    "print(\"shape :\",arr.shape)"
   ]
  },
  {
   "cell_type": "code",
   "execution_count": 17,
   "id": "4ff2f10c-163f-4d98-9d83-b8fea61a940d",
   "metadata": {},
   "outputs": [
    {
     "data": {
      "text/plain": [
       "(array([1, 2], dtype=int64),)"
      ]
     },
     "execution_count": 17,
     "metadata": {},
     "output_type": "execute_result"
    }
   ],
   "source": [
    "np.where(arr==20) # np.where tells the index position of any element"
   ]
  },
  {
   "cell_type": "code",
   "execution_count": 18,
   "id": "3629f84a-fd62-4cff-b587-647c8ed70c52",
   "metadata": {},
   "outputs": [
    {
     "data": {
      "text/plain": [
       "array([40, 50, 60])"
      ]
     },
     "execution_count": 18,
     "metadata": {},
     "output_type": "execute_result"
    }
   ],
   "source": [
    "# boolean indexing\n",
    "arr[arr>30]"
   ]
  },
  {
   "cell_type": "code",
   "execution_count": 21,
   "id": "40f10bb2-59f4-4bf1-bad1-d1cf873571a8",
   "metadata": {},
   "outputs": [
    {
     "name": "stdout",
     "output_type": "stream",
     "text": [
      "index of min value : 7\n",
      "index of max value : 6\n"
     ]
    }
   ],
   "source": [
    "# argmin and argmax\n",
    "print(\"index of min value :\",np.argmin(arr))\n",
    "print(\"index of max value :\",np.argmax(arr))"
   ]
  },
  {
   "cell_type": "code",
   "execution_count": 22,
   "id": "cfd7e170-f46a-42f4-92fb-bd8f27b21492",
   "metadata": {},
   "outputs": [
    {
     "data": {
      "text/plain": [
       "array([40])"
      ]
     },
     "execution_count": 22,
     "metadata": {},
     "output_type": "execute_result"
    }
   ],
   "source": [
    "# finding element based on multiple condition\n",
    "arr[(arr>30) & (arr<50)]"
   ]
  },
  {
   "cell_type": "raw",
   "id": "e41f11ea-d1e1-46e4-bcf9-216924b6d821",
   "metadata": {},
   "source": [
    "and--> &\n",
    "or --> |"
   ]
  },
  {
   "cell_type": "code",
   "execution_count": 26,
   "id": "8ca788b0-6e8d-464d-a92a-6099355f2d0d",
   "metadata": {},
   "outputs": [
    {
     "data": {
      "text/plain": [
       "array([2, 1, 4, 7, 8, 9])"
      ]
     },
     "execution_count": 26,
     "metadata": {},
     "output_type": "execute_result"
    }
   ],
   "source": [
    "# np.searchsorted\n",
    "arr = np.array([2,1,4,7,8,9])\n",
    "arr"
   ]
  },
  {
   "cell_type": "code",
   "execution_count": 27,
   "id": "d99aaf64-eff1-4f98-84c8-fe1455c6023e",
   "metadata": {},
   "outputs": [
    {
     "data": {
      "text/plain": [
       "2"
      ]
     },
     "execution_count": 27,
     "metadata": {},
     "output_type": "execute_result"
    }
   ],
   "source": [
    "np.searchsorted(arr,3)"
   ]
  },
  {
   "cell_type": "code",
   "execution_count": 29,
   "id": "de21cb91-057c-47b0-97a7-dad798eb8e7d",
   "metadata": {},
   "outputs": [
    {
     "data": {
      "text/plain": [
       "5"
      ]
     },
     "execution_count": 29,
     "metadata": {},
     "output_type": "execute_result"
    }
   ],
   "source": [
    "np.searchsorted(arr,8.8)"
   ]
  },
  {
   "cell_type": "code",
   "execution_count": 31,
   "id": "63cac5fc-81a2-4198-9a64-4e78e1e3b3a1",
   "metadata": {},
   "outputs": [
    {
     "data": {
      "text/plain": [
       "array([2, 1, 4, 7, 8, 9])"
      ]
     },
     "execution_count": 31,
     "metadata": {},
     "output_type": "execute_result"
    }
   ],
   "source": [
    "arr # changes wont reflect in original array"
   ]
  },
  {
   "cell_type": "code",
   "execution_count": 34,
   "id": "ae3e76fa-bdec-4852-a6ea-8fdc0d780575",
   "metadata": {},
   "outputs": [
    {
     "data": {
      "text/plain": [
       "array([[ 1,  2,  3,  4],\n",
       "       [ 5,  6,  7,  8],\n",
       "       [ 9, 10, 11, 12],\n",
       "       [13, 14, 15, 16]])"
      ]
     },
     "execution_count": 34,
     "metadata": {},
     "output_type": "execute_result"
    }
   ],
   "source": [
    "# 2d\n",
    "arr = np.arange(1,17).reshape(4,4)\n",
    "arr"
   ]
  },
  {
   "cell_type": "code",
   "execution_count": 35,
   "id": "f5129820-8871-4143-98db-2f1f8150a024",
   "metadata": {},
   "outputs": [
    {
     "data": {
      "text/plain": [
       "(array([], dtype=int64), array([], dtype=int64))"
      ]
     },
     "execution_count": 35,
     "metadata": {},
     "output_type": "execute_result"
    }
   ],
   "source": [
    "np.where(arr==20)"
   ]
  },
  {
   "cell_type": "code",
   "execution_count": 36,
   "id": "51f1262f-ac4c-47d9-8dd1-98a653c48bda",
   "metadata": {},
   "outputs": [
    {
     "data": {
      "text/plain": [
       "(array([2], dtype=int64), array([2], dtype=int64))"
      ]
     },
     "execution_count": 36,
     "metadata": {},
     "output_type": "execute_result"
    }
   ],
   "source": [
    "np.where(arr==11)"
   ]
  },
  {
   "cell_type": "code",
   "execution_count": 37,
   "id": "92117003-7ce2-48c6-821c-3d6caf889dbe",
   "metadata": {},
   "outputs": [
    {
     "data": {
      "text/plain": [
       "array([11, 12, 13, 14, 15, 16])"
      ]
     },
     "execution_count": 37,
     "metadata": {},
     "output_type": "execute_result"
    }
   ],
   "source": [
    "arr[arr>10]"
   ]
  },
  {
   "cell_type": "code",
   "execution_count": 38,
   "id": "7c519e3b-a8e2-4df9-8976-224c97cf3033",
   "metadata": {},
   "outputs": [
    {
     "data": {
      "text/plain": [
       "array([ 7,  8,  9, 10, 11, 12, 13, 14])"
      ]
     },
     "execution_count": 38,
     "metadata": {},
     "output_type": "execute_result"
    }
   ],
   "source": [
    "arr[(arr>6) & (arr<15)]"
   ]
  },
  {
   "cell_type": "code",
   "execution_count": 40,
   "id": "f0971fc0-815b-4b3f-963e-d79f3b206105",
   "metadata": {},
   "outputs": [
    {
     "data": {
      "text/plain": [
       "array([[ 4, 15, 14,  7],\n",
       "       [ 7,  1, 10,  9],\n",
       "       [ 5,  8, 15, 12],\n",
       "       [ 1, 15,  1,  8]])"
      ]
     },
     "execution_count": 40,
     "metadata": {},
     "output_type": "execute_result"
    }
   ],
   "source": [
    "np.random.seed(5)\n",
    "arr = np.random.randint(1,16,(4,4))\n",
    "arr"
   ]
  },
  {
   "cell_type": "code",
   "execution_count": 41,
   "id": "16dead59-5f45-4e7a-a500-1489232a6bde",
   "metadata": {},
   "outputs": [
    {
     "data": {
      "text/plain": [
       "(array([0, 1], dtype=int64), array([3, 0], dtype=int64))"
      ]
     },
     "execution_count": 41,
     "metadata": {},
     "output_type": "execute_result"
    }
   ],
   "source": [
    "np.where(arr==7)"
   ]
  },
  {
   "cell_type": "markdown",
   "id": "263c8d8a-6624-4011-8207-5e3f45b641e3",
   "metadata": {
    "jp-MarkdownHeadingCollapsed": true
   },
   "source": [
    "### sorting"
   ]
  },
  {
   "cell_type": "code",
   "execution_count": 47,
   "id": "2ab3837a-7a49-452d-ac01-78225c156f62",
   "metadata": {},
   "outputs": [
    {
     "data": {
      "text/plain": [
       "array([2, 1, 4, 7, 8, 9])"
      ]
     },
     "execution_count": 47,
     "metadata": {},
     "output_type": "execute_result"
    }
   ],
   "source": [
    "arr = np.array([2,1,4,7,8,9])\n",
    "arr"
   ]
  },
  {
   "cell_type": "code",
   "execution_count": 48,
   "id": "2cb213dc-49c0-4557-8ed9-51f7669dcaf9",
   "metadata": {},
   "outputs": [
    {
     "data": {
      "text/plain": [
       "array([1, 2, 4, 7, 8, 9])"
      ]
     },
     "execution_count": 48,
     "metadata": {},
     "output_type": "execute_result"
    }
   ],
   "source": [
    "np.sort(arr)"
   ]
  },
  {
   "cell_type": "code",
   "execution_count": 56,
   "id": "77cec0a7-ff55-4b52-b08a-bfc785865a3c",
   "metadata": {},
   "outputs": [
    {
     "data": {
      "text/plain": [
       "array([9, 8, 7, 4, 2, 1])"
      ]
     },
     "execution_count": 56,
     "metadata": {},
     "output_type": "execute_result"
    }
   ],
   "source": [
    "-np.sort(-arr)"
   ]
  },
  {
   "cell_type": "code",
   "execution_count": 57,
   "id": "abcd8564-e798-4c0b-9d04-1bb5e47021b5",
   "metadata": {},
   "outputs": [
    {
     "data": {
      "text/plain": [
       "array([-9, -8, -7, -4, -2, -1])"
      ]
     },
     "execution_count": 57,
     "metadata": {},
     "output_type": "execute_result"
    }
   ],
   "source": [
    "np.sort(-arr)"
   ]
  },
  {
   "cell_type": "code",
   "execution_count": 81,
   "id": "daa8512c-556f-4163-87f5-11c7ec02eb3a",
   "metadata": {},
   "outputs": [
    {
     "data": {
      "text/plain": [
       "array([[ 4, 15, 14,  7],\n",
       "       [ 7,  1, 10,  9],\n",
       "       [ 5,  8, 15, 12],\n",
       "       [ 1, 15,  1,  8]])"
      ]
     },
     "execution_count": 81,
     "metadata": {},
     "output_type": "execute_result"
    }
   ],
   "source": [
    "# 2d\n",
    "np.random.seed(5)\n",
    "arr = np.random.randint(1,16,(4,4))\n",
    "arr"
   ]
  },
  {
   "cell_type": "code",
   "execution_count": 82,
   "id": "a380f786-fe6d-4ed7-9d8c-30b5e819dd22",
   "metadata": {},
   "outputs": [
    {
     "data": {
      "text/plain": [
       "array([[ 1,  1,  1,  7],\n",
       "       [ 4,  8, 10,  8],\n",
       "       [ 5, 15, 14,  9],\n",
       "       [ 7, 15, 15, 12]])"
      ]
     },
     "execution_count": 82,
     "metadata": {},
     "output_type": "execute_result"
    }
   ],
   "source": [
    "np.sort(arr,axis=0) # sorting rowwsie"
   ]
  },
  {
   "cell_type": "code",
   "execution_count": 73,
   "id": "9792c6dc-3136-43fd-8723-645647bd85f1",
   "metadata": {},
   "outputs": [
    {
     "data": {
      "text/plain": [
       "array([[ 4,  7, 14, 15],\n",
       "       [ 1,  7,  9, 10],\n",
       "       [ 5,  8, 12, 15],\n",
       "       [ 1,  1,  8, 15]])"
      ]
     },
     "execution_count": 73,
     "metadata": {},
     "output_type": "execute_result"
    }
   ],
   "source": [
    "np.sort(arr,axis=1) # sorting rowwsie"
   ]
  },
  {
   "cell_type": "code",
   "execution_count": 78,
   "id": "2a61edd8-3a5b-44cb-b986-450cd587f902",
   "metadata": {},
   "outputs": [
    {
     "data": {
      "text/plain": [
       "array([[[ 3, 14, 15, 13],\n",
       "        [ 6,  6,  0,  9],\n",
       "        [ 8,  4,  7, 14],\n",
       "        [11,  0, 14,  0]]])"
      ]
     },
     "execution_count": 78,
     "metadata": {},
     "output_type": "execute_result"
    }
   ],
   "source": [
    "# 2d\n",
    "np.random.seed(5)\n",
    "arr = np.random.randint(0,16,(1,4,4))\n",
    "arr"
   ]
  },
  {
   "cell_type": "code",
   "execution_count": 79,
   "id": "0cc9eaaf-705c-4645-a864-117e23aaab80",
   "metadata": {},
   "outputs": [
    {
     "data": {
      "text/plain": [
       "array([[[ 3,  0,  0,  0],\n",
       "        [ 6,  4,  7,  9],\n",
       "        [ 8,  6, 14, 13],\n",
       "        [11, 14, 15, 14]]])"
      ]
     },
     "execution_count": 79,
     "metadata": {},
     "output_type": "execute_result"
    }
   ],
   "source": [
    "np.sort(arr,axis=1) # sorting rowwsie , axis=1 --> row in 3d array"
   ]
  },
  {
   "cell_type": "code",
   "execution_count": 80,
   "id": "5b8d7206-c6b1-41f0-9127-2af2fad93a95",
   "metadata": {},
   "outputs": [
    {
     "data": {
      "text/plain": [
       "array([[[ 3, 13, 14, 15],\n",
       "        [ 0,  6,  6,  9],\n",
       "        [ 4,  7,  8, 14],\n",
       "        [ 0,  0, 11, 14]]])"
      ]
     },
     "execution_count": 80,
     "metadata": {},
     "output_type": "execute_result"
    }
   ],
   "source": [
    "np.sort(arr,axis=2) # sorting ro , axis=1 --> row in 3d array"
   ]
  }
 ],
 "metadata": {
  "kernelspec": {
   "display_name": "Python 3 (ipykernel)",
   "language": "python",
   "name": "python3"
  },
  "language_info": {
   "codemirror_mode": {
    "name": "ipython",
    "version": 3
   },
   "file_extension": ".py",
   "mimetype": "text/x-python",
   "name": "python",
   "nbconvert_exporter": "python",
   "pygments_lexer": "ipython3",
   "version": "3.11.7"
  },
  "widgets": {
   "application/vnd.jupyter.widget-state+json": {
    "state": {},
    "version_major": 2,
    "version_minor": 0
   }
  }
 },
 "nbformat": 4,
 "nbformat_minor": 5
}
