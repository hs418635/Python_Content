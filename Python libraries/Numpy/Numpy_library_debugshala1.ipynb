{
 "cells": [
  {
   "cell_type": "code",
   "execution_count": 1,
   "id": "21f7a0c2",
   "metadata": {},
   "outputs": [
    {
     "data": {
      "text/plain": [
       "'E:\\\\DebugShala\\\\Python Libraries\\\\Numpy'"
      ]
     },
     "execution_count": 1,
     "metadata": {},
     "output_type": "execute_result"
    }
   ],
   "source": [
    "import os\n",
    "current_path = os.getcwd()\n",
    "current_path"
   ]
  },
  {
   "attachments": {
    "image.png": {
     "image/png": "[encoded data removed]"
    }
   },
   "cell_type": "markdown",
   "id": "a5aacb64",
   "metadata": {},
   "source": [
    "## creating 1Dimensinal array in NUMPY \n",
    "![image.png](attachment:image.png)"
   ]
  },
  {
   "cell_type": "code",
   "execution_count": 2,
   "id": "432a1a9d",
   "metadata": {},
   "outputs": [],
   "source": [
    "import numpy as np"
   ]
  },
  {
   "cell_type": "code",
   "execution_count": 3,
   "id": "b575ac56",
   "metadata": {},
   "outputs": [],
   "source": [
    "List = [1,2,3,4,5]"
   ]
  },
  {
   "cell_type": "code",
   "execution_count": 4,
   "id": "ec079486",
   "metadata": {},
   "outputs": [],
   "source": [
    "arr = np.array(List)"
   ]
  },
  {
   "cell_type": "code",
   "execution_count": 5,
   "id": "65c4429e",
   "metadata": {},
   "outputs": [
    {
     "name": "stdout",
     "output_type": "stream",
     "text": [
      "[1 2 3 4 5]\n"
     ]
    }
   ],
   "source": [
    "print(arr)"
   ]
  },
  {
   "cell_type": "code",
   "execution_count": 6,
   "id": "9b23ca8a",
   "metadata": {},
   "outputs": [
    {
     "data": {
      "text/plain": [
       "array([1, 2, 3, 4, 5])"
      ]
     },
     "execution_count": 6,
     "metadata": {},
     "output_type": "execute_result"
    }
   ],
   "source": [
    "arr"
   ]
  },
  {
   "cell_type": "code",
   "execution_count": 7,
   "id": "7257c8f7",
   "metadata": {},
   "outputs": [
    {
     "data": {
      "text/plain": [
       "array([1, 2, 3, 4, 5])"
      ]
     },
     "execution_count": 7,
     "metadata": {},
     "output_type": "execute_result"
    }
   ],
   "source": [
    "# or we can directly write list inside the array function\n",
    "\n",
    "arr1 = np.array([1,2,3,4,5])\n",
    "arr1"
   ]
  },
  {
   "cell_type": "markdown",
   "id": "9a437dac",
   "metadata": {},
   "source": [
    "### Numpy array is called ndarry"
   ]
  },
  {
   "cell_type": "markdown",
   "id": "321b1313",
   "metadata": {},
   "source": [
    "#### checking type"
   ]
  },
  {
   "cell_type": "code",
   "execution_count": 8,
   "id": "cbe8c9cb",
   "metadata": {},
   "outputs": [
    {
     "data": {
      "text/plain": [
       "numpy.ndarray"
      ]
     },
     "execution_count": 8,
     "metadata": {},
     "output_type": "execute_result"
    }
   ],
   "source": [
    "type(arr1)"
   ]
  },
  {
   "cell_type": "markdown",
   "id": "ce546056",
   "metadata": {},
   "source": [
    "#### checking datatype"
   ]
  },
  {
   "cell_type": "code",
   "execution_count": 9,
   "id": "ddf37a6e",
   "metadata": {},
   "outputs": [
    {
     "data": {
      "text/plain": [
       "dtype('int32')"
      ]
     },
     "execution_count": 9,
     "metadata": {},
     "output_type": "execute_result"
    }
   ],
   "source": [
    "arr1.dtype"
   ]
  },
  {
   "cell_type": "markdown",
   "id": "746adf3a",
   "metadata": {},
   "source": [
    "#### Bits occupied by the numpy array"
   ]
  },
  {
   "cell_type": "code",
   "execution_count": 10,
   "id": "23d86391",
   "metadata": {},
   "outputs": [
    {
     "data": {
      "text/plain": [
       "4"
      ]
     },
     "execution_count": 10,
     "metadata": {},
     "output_type": "execute_result"
    }
   ],
   "source": [
    "# checking the individual item occupieng memory of system\n",
    "# array([1, 2, 3, 4, 5])\n",
    "arr1.itemsize"
   ]
  },
  {
   "cell_type": "code",
   "execution_count": 11,
   "id": "dd507e52",
   "metadata": {},
   "outputs": [
    {
     "data": {
      "text/plain": [
       "4"
      ]
     },
     "execution_count": 11,
     "metadata": {},
     "output_type": "execute_result"
    }
   ],
   "source": [
    "arr2 =np.array([1,2,3,4,5,6])\n",
    "arr2.itemsize"
   ]
  },
  {
   "cell_type": "markdown",
   "id": "1013d1d3",
   "metadata": {},
   "source": [
    "### Total bytes"
   ]
  },
  {
   "cell_type": "code",
   "execution_count": 12,
   "id": "3d4a6918",
   "metadata": {},
   "outputs": [
    {
     "data": {
      "text/plain": [
       "20"
      ]
     },
     "execution_count": 12,
     "metadata": {},
     "output_type": "execute_result"
    }
   ],
   "source": [
    "arr1.nbytes"
   ]
  },
  {
   "cell_type": "code",
   "execution_count": 13,
   "id": "9bd746c1",
   "metadata": {},
   "outputs": [
    {
     "data": {
      "text/plain": [
       "24"
      ]
     },
     "execution_count": 13,
     "metadata": {},
     "output_type": "execute_result"
    }
   ],
   "source": [
    "# checking for 2nd array\n",
    "arr2.nbytes"
   ]
  },
  {
   "cell_type": "markdown",
   "id": "27750cfa",
   "metadata": {},
   "source": [
    "# Number of element , shape , dimension"
   ]
  },
  {
   "cell_type": "code",
   "execution_count": 14,
   "id": "17f3a348",
   "metadata": {},
   "outputs": [
    {
     "data": {
      "text/plain": [
       "5"
      ]
     },
     "execution_count": 14,
     "metadata": {},
     "output_type": "execute_result"
    }
   ],
   "source": [
    "# get number of element\n",
    "arr1.size"
   ]
  },
  {
   "cell_type": "markdown",
   "id": "af81937a",
   "metadata": {},
   "source": [
    "#### shape ----> it tells the number of rows and columns"
   ]
  },
  {
   "cell_type": "code",
   "execution_count": 15,
   "id": "8ebeda2c",
   "metadata": {},
   "outputs": [
    {
     "data": {
      "text/plain": [
       "(5,)"
      ]
     },
     "execution_count": 15,
     "metadata": {},
     "output_type": "execute_result"
    }
   ],
   "source": [
    "arr1.shape"
   ]
  },
  {
   "cell_type": "markdown",
   "id": "51bbf2e0",
   "metadata": {},
   "source": [
    "### dimension"
   ]
  },
  {
   "cell_type": "code",
   "execution_count": 16,
   "id": "60084719",
   "metadata": {},
   "outputs": [
    {
     "data": {
      "text/plain": [
       "1"
      ]
     },
     "execution_count": 16,
     "metadata": {},
     "output_type": "execute_result"
    }
   ],
   "source": [
    "arr1.ndim"
   ]
  },
  {
   "cell_type": "markdown",
   "id": "bd4250c7",
   "metadata": {},
   "source": [
    "## creating 1d array by taking user's input"
   ]
  },
  {
   "cell_type": "code",
   "execution_count": 17,
   "id": "4e2a1c38",
   "metadata": {},
   "outputs": [
    {
     "name": "stdout",
     "output_type": "stream",
     "text": [
      "enter array size : 5\n",
      "enter number : 1\n",
      "enter number : 2\n",
      "enter number : 3\n",
      "enter number : 4\n",
      "enter number : 5\n"
     ]
    },
    {
     "data": {
      "text/plain": [
       "array([1, 2, 3, 4, 5])"
      ]
     },
     "execution_count": 17,
     "metadata": {},
     "output_type": "execute_result"
    }
   ],
   "source": [
    "a = []\n",
    "n = int(input(\"enter array size : \"))\n",
    "for i in range(n):\n",
    "    num = int(input(\"enter number : \"))\n",
    "    a.append(num)\n",
    "k = np.array(a)\n",
    "k"
   ]
  },
  {
   "attachments": {
    "image-2.png": {
     "image/png": "[encoded data removed]"
    }
   },
   "cell_type": "markdown",
   "id": "c3452d3e",
   "metadata": {},
   "source": [
    "# creating 2D array\n",
    "\n",
    "#### the size of element count of the array should be same\n",
    "![image-2.png](attachment:image-2.png)"
   ]
  },
  {
   "cell_type": "code",
   "execution_count": 18,
   "id": "da078b29",
   "metadata": {},
   "outputs": [
    {
     "name": "stdout",
     "output_type": "stream",
     "text": [
      "[[1 2 3]]\n",
      "dimension :  2\n",
      "shape     :  (1, 3)\n",
      "itemsize :  4\n",
      "total itemsize : 12\n"
     ]
    }
   ],
   "source": [
    "arr2 = np.array([\n",
    "                [1,2,3]\n",
    "                        ])\n",
    "print(arr2)\n",
    "print(\"dimension : \",arr2.ndim)\n",
    "print(\"shape     : \",arr2.shape)\n",
    "print(\"itemsize : \",arr2.itemsize)\n",
    "print(\"total itemsize :\",arr2.nbytes)"
   ]
  },
  {
   "cell_type": "code",
   "execution_count": 19,
   "id": "2b713a1e",
   "metadata": {},
   "outputs": [
    {
     "name": "stdout",
     "output_type": "stream",
     "text": [
      "dimension :  2\n",
      "shape     :  (2, 3)\n",
      "itemsize :  4\n",
      "total itemsize : 24\n"
     ]
    }
   ],
   "source": [
    "arr2 = np.array([\n",
    "                [1,2,3],\n",
    "                [4,5,6]\n",
    "                        ])\n",
    "print(\"dimension : \",arr2.ndim)\n",
    "print(\"shape     : \",arr2.shape)\n",
    "print(\"itemsize : \",arr2.itemsize)\n",
    "print(\"total itemsize :\",arr2.nbytes)"
   ]
  },
  {
   "cell_type": "code",
   "execution_count": 20,
   "id": "27906c2b",
   "metadata": {},
   "outputs": [
    {
     "name": "stdout",
     "output_type": "stream",
     "text": [
      "the element consuming the memory in bits is : 4\n",
      "the total bytes taking the place in memory : 12\n",
      "the dimension of the array is: 3\n",
      "the shape of the array is : (1, 1, 3)\n",
      "the total elements in the array : 3\n"
     ]
    }
   ],
   "source": [
    "# creating 3D array \n",
    "\n",
    "import numpy as np \n",
    "\n",
    "arr = np.array([\n",
    "                [[1,2,3]]\n",
    "                        ])\n",
    "print(\"the element consuming the memory in bits is :\",arr.itemsize)\n",
    "print(\"the total bytes taking the place in memory :\", arr.nbytes)\n",
    "print(\"the dimension of the array is:\",arr.ndim)\n",
    "print(\"the shape of the array is :\",arr.shape)\n",
    "print(\"the total elements in the array :\",arr.size)"
   ]
  },
  {
   "cell_type": "code",
   "execution_count": 21,
   "id": "e192f76c",
   "metadata": {},
   "outputs": [
    {
     "name": "stdout",
     "output_type": "stream",
     "text": [
      "the element consuming the memory in bits is : 4\n",
      "the total bytes taking the place in memory : 24\n",
      "the dimension of the array is: 3\n",
      "the shape of the array is : (2, 1, 3)\n",
      "the total elements in the array : 6\n"
     ]
    }
   ],
   "source": [
    "# creating 3D array \n",
    "\n",
    "import numpy as np \n",
    "\n",
    "arr = np.array([\n",
    "                [[1,2,3]],\n",
    "                [[4,5,6]]\n",
    "                        ])\n",
    "print(\"the element consuming the memory in bits is :\",arr.itemsize)\n",
    "print(\"the total bytes taking the place in memory :\", arr.nbytes)\n",
    "print(\"the dimension of the array is:\",arr.ndim)\n",
    "print(\"the shape of the array is :\",arr.shape)\n",
    "print(\"the total elements in the array :\",arr.size)"
   ]
  },
  {
   "cell_type": "code",
   "execution_count": 22,
   "id": "53b5261c",
   "metadata": {},
   "outputs": [
    {
     "name": "stdout",
     "output_type": "stream",
     "text": [
      "the element consuming the memory in bits is : 4\n",
      "the total bytes taking the place in memory : 48\n",
      "the dimension of the array is: 3\n",
      "the shape of the array is : (2, 2, 3)\n",
      "the total elements in the array : 12\n"
     ]
    }
   ],
   "source": [
    "# creating 3D array \n",
    "\n",
    "import numpy as np \n",
    "\n",
    "arr = np.array([\n",
    "                [[1,2,3],[7,8,9]],\n",
    "                [[4,5,6],[1,8,7]]\n",
    "                        ])\n",
    "print(\"the element consuming the memory in bits is :\",arr.itemsize)\n",
    "print(\"the total bytes taking the place in memory :\", arr.nbytes)\n",
    "print(\"the dimension of the array is:\",arr.ndim)\n",
    "print(\"the shape of the array is :\",arr.shape)\n",
    "print(\"the total elements in the array :\",arr.size)"
   ]
  },
  {
   "cell_type": "code",
   "execution_count": 23,
   "id": "1f684494",
   "metadata": {},
   "outputs": [
    {
     "name": "stdout",
     "output_type": "stream",
     "text": [
      "the element consuming the memory in bits is : 4\n",
      "the total bytes taking the place in memory : 64\n",
      "the dimension of the array is: 3\n",
      "the shape of the array is : (2, 2, 4)\n",
      "the total elements in the array : 16\n"
     ]
    }
   ],
   "source": [
    "# creating 3D array \n",
    "\n",
    "import numpy as np \n",
    "\n",
    "arr = np.array([\n",
    "                [[1,2,3,4],[7,8,9,9]],\n",
    "                [[4,5,6,6],[1,8,7,2]]\n",
    "                        ])\n",
    "print(\"the element consuming the memory in bits is :\",arr.itemsize)\n",
    "print(\"the total bytes taking the place in memory :\", arr.nbytes)\n",
    "print(\"the dimension of the array is:\",arr.ndim)\n",
    "print(\"the shape of the array is :\",arr.shape)\n",
    "print(\"the total elements in the array :\",arr.size)"
   ]
  },
  {
   "cell_type": "markdown",
   "id": "4695bb91",
   "metadata": {},
   "source": [
    "# Creating 2D , 3D etc array from 1d array"
   ]
  },
  {
   "cell_type": "code",
   "execution_count": 24,
   "id": "e3b97c56",
   "metadata": {},
   "outputs": [
    {
     "name": "stdout",
     "output_type": "stream",
     "text": [
      "1\n"
     ]
    },
    {
     "data": {
      "text/plain": [
       "array([1, 2, 3, 4, 5])"
      ]
     },
     "execution_count": 24,
     "metadata": {},
     "output_type": "execute_result"
    }
   ],
   "source": [
    "arr = np.array([1,2,3,4,5])\n",
    "print(arr.ndim)\n",
    "arr\n"
   ]
  },
  {
   "cell_type": "code",
   "execution_count": 25,
   "id": "ad52cb6d",
   "metadata": {},
   "outputs": [
    {
     "name": "stdout",
     "output_type": "stream",
     "text": [
      "2\n",
      "[[1 2 3 4 5]]\n"
     ]
    }
   ],
   "source": [
    "arr = np.array([1,2,3,4,5], ndmin = 2)\n",
    "print(arr.ndim)\n",
    "print(arr)"
   ]
  },
  {
   "cell_type": "code",
   "execution_count": 26,
   "id": "322f117e",
   "metadata": {},
   "outputs": [
    {
     "name": "stdout",
     "output_type": "stream",
     "text": [
      "3\n",
      "[[[1 2 3 4 5]]]\n"
     ]
    }
   ],
   "source": [
    "arr = np.array([1,2,3,4,5], ndmin = 3)\n",
    "print(arr.ndim)\n",
    "print(arr)"
   ]
  },
  {
   "cell_type": "code",
   "execution_count": 27,
   "id": "dcd01ea9",
   "metadata": {},
   "outputs": [
    {
     "name": "stdout",
     "output_type": "stream",
     "text": [
      "32\n",
      "[[[[[[[[[[[[[[[[[[[[[[[[[[[[[[[[1 2 3 4 5]]]]]]]]]]]]]]]]]]]]]]]]]]]]]]]]\n"
     ]
    }
   ],
   "source": [
    "arr = np.array([1,2,3,4,5], ndmin = 32)\n",
    "print(arr.ndim)\n",
    "print(arr)"
   ]
  },
  {
   "cell_type": "markdown",
   "id": "70143413",
   "metadata": {},
   "source": [
    "# Data Type Conversion"
   ]
  },
  {
   "cell_type": "code",
   "execution_count": 28,
   "id": "fe2f4462",
   "metadata": {},
   "outputs": [
    {
     "name": "stdout",
     "output_type": "stream",
     "text": [
      "int32\n"
     ]
    }
   ],
   "source": [
    "# converting integer to float\n",
    "arr = np.array([1,2,3,4,5])\n",
    "print(arr.dtype)"
   ]
  },
  {
   "cell_type": "code",
   "execution_count": 29,
   "id": "f1edbe14",
   "metadata": {},
   "outputs": [
    {
     "data": {
      "text/plain": [
       "array([1., 2., 3., 4., 5.])"
      ]
     },
     "execution_count": 29,
     "metadata": {},
     "output_type": "execute_result"
    }
   ],
   "source": [
    "# converting integer to float\n",
    "np.array([1,2,3,4,5], dtype= float)"
   ]
  },
  {
   "cell_type": "code",
   "execution_count": 30,
   "id": "04810d19",
   "metadata": {},
   "outputs": [
    {
     "data": {
      "text/plain": [
       "array(['1', '2', '3', '4', '5'], dtype='<U1')"
      ]
     },
     "execution_count": 30,
     "metadata": {},
     "output_type": "execute_result"
    }
   ],
   "source": [
    "# converting integer to string\n",
    "np.array([1,2,3,4,5], dtype=str)"
   ]
  },
  {
   "cell_type": "code",
   "execution_count": 31,
   "id": "b595f885",
   "metadata": {},
   "outputs": [
    {
     "data": {
      "text/plain": [
       "array([1.+0.j, 2.+0.j, 3.+0.j, 4.+0.j, 5.+0.j])"
      ]
     },
     "execution_count": 31,
     "metadata": {},
     "output_type": "execute_result"
    }
   ],
   "source": [
    "# converting integer to complex\n",
    "np.array([1,2,3,4,5], dtype = complex)"
   ]
  },
  {
   "cell_type": "markdown",
   "id": "cd26764e",
   "metadata": {},
   "source": [
    "# creating array with different data structures"
   ]
  },
  {
   "cell_type": "code",
   "execution_count": 32,
   "id": "e74e89de",
   "metadata": {},
   "outputs": [
    {
     "data": {
      "text/plain": [
       "array([1, 2, 3, 4, 5])"
      ]
     },
     "execution_count": 32,
     "metadata": {},
     "output_type": "execute_result"
    }
   ],
   "source": [
    "# from tuple\n",
    "np.array((1,2,3,4,5))"
   ]
  },
  {
   "cell_type": "code",
   "execution_count": 33,
   "id": "65f1e915",
   "metadata": {},
   "outputs": [
    {
     "data": {
      "text/plain": [
       "array({1, 2, 3, 4, 5}, dtype=object)"
      ]
     },
     "execution_count": 33,
     "metadata": {},
     "output_type": "execute_result"
    }
   ],
   "source": [
    "# from set\n",
    "np.array({1,2,3,4,5})"
   ]
  },
  {
   "cell_type": "code",
   "execution_count": 34,
   "id": "195ab28f",
   "metadata": {},
   "outputs": [
    {
     "data": {
      "text/plain": [
       "array({'a': 1, 'b': 2}, dtype=object)"
      ]
     },
     "execution_count": 34,
     "metadata": {},
     "output_type": "execute_result"
    }
   ],
   "source": [
    "# from \n",
    "d = {'a':1,'b':2}\n",
    "np.array(d)"
   ]
  },
  {
   "cell_type": "markdown",
   "id": "88f62ad3",
   "metadata": {},
   "source": [
    "# Functions in numpy "
   ]
  },
  {
   "cell_type": "code",
   "execution_count": 35,
   "id": "939337a0",
   "metadata": {},
   "outputs": [
    {
     "data": {
      "text/plain": [
       "array([0., 0., 0., 0., 0.])"
      ]
     },
     "execution_count": 35,
     "metadata": {},
     "output_type": "execute_result"
    }
   ],
   "source": [
    "# zeroes ---> it creates an array anf fill all the values with zero(0)\n",
    "\n",
    "import numpy as np\n",
    "arr = np.zeros(5)\n",
    "arr"
   ]
  },
  {
   "cell_type": "code",
   "execution_count": 36,
   "id": "13a12255",
   "metadata": {},
   "outputs": [
    {
     "name": "stdout",
     "output_type": "stream",
     "text": [
      "[0. 0. 0. 0. 0.]\n",
      "8\n",
      "40\n",
      "dimension 1\n",
      "shape (5,)\n",
      "<class 'numpy.ndarray'>\n"
     ]
    }
   ],
   "source": [
    "# zeroes ---> it creates an array anf fill all the values with zero(0)\n",
    "\n",
    "import numpy as np\n",
    "arr = np.zeros((5))\n",
    "print(arr)\n",
    "print(arr.itemsize)\n",
    "print(arr.nbytes)\n",
    "print(\"dimension\",arr.ndim)\n",
    "print(\"shape\",arr.shape)\n",
    "print(type(arr))"
   ]
  },
  {
   "cell_type": "code",
   "execution_count": 37,
   "id": "4c54f7a7",
   "metadata": {},
   "outputs": [
    {
     "name": "stdout",
     "output_type": "stream",
     "text": [
      "[[0. 0. 0. 0. 0. 0. 0. 0. 0. 0.]]\n",
      "8\n",
      "80\n",
      "dimension 2\n",
      "shape (1, 10)\n",
      "<class 'numpy.ndarray'>\n"
     ]
    }
   ],
   "source": [
    "import numpy as np\n",
    "arr = np.zeros((1,10))\n",
    "print(arr)\n",
    "print(arr.itemsize)\n",
    "print(arr.nbytes)\n",
    "print(\"dimension\",arr.ndim)\n",
    "print(\"shape\",arr.shape)\n",
    "print(type(arr))"
   ]
  },
  {
   "cell_type": "code",
   "execution_count": 38,
   "id": "fad4e9ab",
   "metadata": {},
   "outputs": [
    {
     "name": "stdout",
     "output_type": "stream",
     "text": [
      "[[[0. 0.]\n",
      "  [0. 0.]\n",
      "  [0. 0.]]\n",
      "\n",
      " [[0. 0.]\n",
      "  [0. 0.]\n",
      "  [0. 0.]]\n",
      "\n",
      " [[0. 0.]\n",
      "  [0. 0.]\n",
      "  [0. 0.]]\n",
      "\n",
      " [[0. 0.]\n",
      "  [0. 0.]\n",
      "  [0. 0.]]\n",
      "\n",
      " [[0. 0.]\n",
      "  [0. 0.]\n",
      "  [0. 0.]]]\n",
      "8\n",
      "240\n",
      "dimension 3\n",
      "shape (5, 3, 2)\n",
      "<class 'numpy.ndarray'>\n"
     ]
    }
   ],
   "source": [
    "import numpy as np\n",
    "arr = np.zeros((5,3,2))\n",
    "print(arr)\n",
    "print(arr.itemsize)\n",
    "print(arr.nbytes)\n",
    "print(\"dimension\",arr.ndim)\n",
    "print(\"shape\",arr.shape)\n",
    "print(type(arr))"
   ]
  },
  {
   "cell_type": "code",
   "execution_count": 39,
   "id": "334a7331",
   "metadata": {},
   "outputs": [
    {
     "name": "stdout",
     "output_type": "stream",
     "text": [
      "[1. 1.]\n",
      "8\n",
      "16\n",
      "dimension 1\n",
      "shape (2,)\n",
      "<class 'numpy.ndarray'>\n"
     ]
    }
   ],
   "source": [
    "import numpy as np\n",
    "arr = np.ones(2)\n",
    "print(arr)\n",
    "print(arr.itemsize)\n",
    "print(arr.nbytes)\n",
    "print(\"dimension\",arr.ndim)\n",
    "print(\"shape\",arr.shape)\n",
    "print(type(arr))"
   ]
  },
  {
   "cell_type": "code",
   "execution_count": 40,
   "id": "92d1f4da",
   "metadata": {},
   "outputs": [
    {
     "name": "stdout",
     "output_type": "stream",
     "text": [
      "[[1. 1.]\n",
      " [1. 1.]]\n",
      "8\n",
      "32\n",
      "dimension 2\n",
      "shape (2, 2)\n",
      "<class 'numpy.ndarray'>\n"
     ]
    }
   ],
   "source": [
    "# ones\n",
    "import numpy as np\n",
    "arr = np.ones((2,2))\n",
    "print(arr)\n",
    "print(arr.itemsize)\n",
    "print(arr.nbytes)\n",
    "print(\"dimension\",arr.ndim)\n",
    "print(\"shape\",arr.shape)\n",
    "print(type(arr))"
   ]
  },
  {
   "cell_type": "code",
   "execution_count": 41,
   "id": "c806a09f",
   "metadata": {},
   "outputs": [
    {
     "name": "stdout",
     "output_type": "stream",
     "text": [
      "[[[1. 1.]\n",
      "  [1. 1.]]\n",
      "\n",
      " [[1. 1.]\n",
      "  [1. 1.]]]\n",
      "8\n",
      "64\n",
      "dimension 3\n",
      "shape (2, 2, 2)\n",
      "<class 'numpy.ndarray'>\n"
     ]
    }
   ],
   "source": [
    "arr = np.ones((2,2,2))\n",
    "print(arr)\n",
    "print(arr.itemsize)\n",
    "print(arr.nbytes)\n",
    "print(\"dimension\",arr.ndim)\n",
    "print(\"shape\",arr.shape)\n",
    "print(type(arr))"
   ]
  },
  {
   "cell_type": "code",
   "execution_count": 42,
   "id": "57d896c3",
   "metadata": {},
   "outputs": [
    {
     "name": "stdout",
     "output_type": "stream",
     "text": [
      "[[1. 0. 0.]\n",
      " [0. 1. 0.]\n",
      " [0. 0. 1.]]\n",
      "8\n",
      "72\n",
      "dimension 2\n",
      "shape (3, 3)\n",
      "<class 'numpy.ndarray'>\n"
     ]
    }
   ],
   "source": [
    "# eye ---> it puts the diagonal elements as one\n",
    "\n",
    "arr = np.eye(3)\n",
    "print(arr)\n",
    "print(arr.itemsize)\n",
    "print(arr.nbytes)\n",
    "print(\"dimension\",arr.ndim)\n",
    "print(\"shape\",arr.shape)\n",
    "print(type(arr))"
   ]
  },
  {
   "cell_type": "code",
   "execution_count": 43,
   "id": "7d136981",
   "metadata": {},
   "outputs": [
    {
     "name": "stdout",
     "output_type": "stream",
     "text": [
      "[[1 0 0 0]\n",
      " [0 2 0 0]\n",
      " [0 0 3 0]\n",
      " [0 0 0 4]]\n",
      "4\n",
      "64\n",
      "dimension 2\n",
      "shape (4, 4)\n",
      "<class 'numpy.ndarray'>\n"
     ]
    }
   ],
   "source": [
    "# diag function in numpy ---> this creates a two dimensional array with all the diagonal elements as the given values and rest as 0\n",
    "import numpy as np\n",
    "arr = np.diag([1,2,3,4])\n",
    "print(arr)\n",
    "print(arr.itemsize)\n",
    "print(arr.nbytes)\n",
    "print(\"dimension\",arr.ndim)\n",
    "print(\"shape\",arr.shape)\n",
    "print(type(arr))"
   ]
  },
  {
   "cell_type": "code",
   "execution_count": 44,
   "id": "ee9c7251",
   "metadata": {},
   "outputs": [
    {
     "data": {
      "text/plain": [
       "array([0, 0, 1])"
      ]
     },
     "execution_count": 44,
     "metadata": {},
     "output_type": "execute_result"
    }
   ],
   "source": [
    "# Random number or arrays in numpy \n",
    "\n",
    "# randint --> this function is used to generate a random number between a given range\n",
    "\n",
    "# syntanx rand(min,max,total_values)\n",
    "\n",
    "\n",
    "arr = np.random.randint([2,5,2])\n",
    "arr"
   ]
  },
  {
   "cell_type": "code",
   "execution_count": 45,
   "id": "c71832a6",
   "metadata": {},
   "outputs": [
    {
     "data": {
      "text/plain": [
       "array([ 5, 44, 61, 97, 18, 66, 88,  7, 91, 44, 72, 66,  5, 91, 65, 21, 90,\n",
       "       45, 36, 98])"
      ]
     },
     "execution_count": 45,
     "metadata": {},
     "output_type": "execute_result"
    }
   ],
   "source": [
    "arr = np.random.randint(1,100,20)\n",
    "arr"
   ]
  },
  {
   "cell_type": "code",
   "execution_count": 46,
   "id": "ccb338ea",
   "metadata": {
    "scrolled": true
   },
   "outputs": [
    {
     "data": {
      "text/plain": [
       "array([0.57128439, 0.47486499])"
      ]
     },
     "execution_count": 46,
     "metadata": {},
     "output_type": "execute_result"
    }
   ],
   "source": [
    "# values in decimal\n",
    "arr = np.random.rand(2)\n",
    "arr"
   ]
  },
  {
   "cell_type": "code",
   "execution_count": 47,
   "id": "befbf767",
   "metadata": {},
   "outputs": [
    {
     "data": {
      "text/plain": [
       "array([[0.86397823, 0.22621982, 0.20966095, 0.03806211, 0.50216318,\n",
       "        0.03255016, 0.84461375, 0.39682864, 0.01654721, 0.07113736],\n",
       "       [0.72618654, 0.81490468, 0.24455638, 0.23134753, 0.78219404,\n",
       "        0.88482034, 0.38491506, 0.89070843, 0.94047363, 0.79481226]])"
      ]
     },
     "execution_count": 47,
     "metadata": {},
     "output_type": "execute_result"
    }
   ],
   "source": [
    "# values in decimal\n",
    "arr = np.random.rand(2,10)\n",
    "arr"
   ]
  },
  {
   "cell_type": "code",
   "execution_count": 48,
   "id": "9dd08a07",
   "metadata": {},
   "outputs": [
    {
     "data": {
      "text/plain": [
       "array([ 0.88529336,  0.37598673,  0.70194655, -0.68308346, -1.6586375 ])"
      ]
     },
     "execution_count": 48,
     "metadata": {},
     "output_type": "execute_result"
    }
   ],
   "source": [
    "# randn ---> this function is used to generated a random number close to 0\n",
    "arr = np.random.randn(5)\n",
    "arr"
   ]
  },
  {
   "cell_type": "markdown",
   "id": "4fb13b4a",
   "metadata": {},
   "source": [
    "### seed function ---> this fixes the random number generation\n",
    "\n"
   ]
  },
  {
   "cell_type": "code",
   "execution_count": 49,
   "id": "e076d9fc",
   "metadata": {},
   "outputs": [
    {
     "data": {
      "text/plain": [
       "array([79, 29, 18,  8, 67, 42, 65, 21, 29, 79])"
      ]
     },
     "execution_count": 49,
     "metadata": {},
     "output_type": "execute_result"
    }
   ],
   "source": [
    "np.random.seed(124)\n",
    "arr = np.random.randint(1,100,10)\n",
    "arr"
   ]
  },
  {
   "cell_type": "markdown",
   "id": "c7f3db30",
   "metadata": {},
   "source": [
    "# linspace & logspace"
   ]
  },
  {
   "cell_type": "code",
   "execution_count": 50,
   "id": "a7c5ac0a",
   "metadata": {},
   "outputs": [
    {
     "data": {
      "text/plain": [
       "array([ 1. ,  1.9,  2.8,  3.7,  4.6,  5.5,  6.4,  7.3,  8.2,  9.1, 10. ])"
      ]
     },
     "execution_count": 50,
     "metadata": {},
     "output_type": "execute_result"
    }
   ],
   "source": [
    "# linspace ----> gives items in decimal numbers \n",
    "\n",
    "#  logspace ---> gives items in logarithms numbers\n",
    "\n",
    "\n",
    "arr = np.linspace(1,10,11)\n",
    "arr"
   ]
  },
  {
   "cell_type": "code",
   "execution_count": 51,
   "id": "79550b77",
   "metadata": {},
   "outputs": [
    {
     "data": {
      "text/plain": [
       "array([1.e+00, 1.e+01, 1.e+02, 1.e+03, 1.e+04, 1.e+05, 1.e+06, 1.e+07,\n",
       "       1.e+08, 1.e+09, 1.e+10])"
      ]
     },
     "execution_count": 51,
     "metadata": {},
     "output_type": "execute_result"
    }
   ],
   "source": [
    "# logspace\n",
    "arr = np.logspace(0,10,11)\n",
    "arr"
   ]
  },
  {
   "cell_type": "markdown",
   "id": "dcb7f3dc",
   "metadata": {},
   "source": [
    "# indexing and slicing in numpy arrays"
   ]
  },
  {
   "cell_type": "code",
   "execution_count": 52,
   "id": "c4a69a7a",
   "metadata": {},
   "outputs": [],
   "source": [
    "# 1d ---> indexing and slicing of 1d array is similar to list \n",
    "# arr_name[start:end:step]"
   ]
  },
  {
   "cell_type": "code",
   "execution_count": 53,
   "id": "75770fed",
   "metadata": {},
   "outputs": [
    {
     "data": {
      "text/plain": [
       "array([1, 2, 3, 4, 5, 6, 7, 8, 9])"
      ]
     },
     "execution_count": 53,
     "metadata": {},
     "output_type": "execute_result"
    }
   ],
   "source": [
    "arr = np.array([1,2,3,4,5,6,7,8,9])\n",
    "arr"
   ]
  },
  {
   "cell_type": "code",
   "execution_count": 54,
   "id": "a48e15fd",
   "metadata": {},
   "outputs": [
    {
     "data": {
      "text/plain": [
       "3"
      ]
     },
     "execution_count": 54,
     "metadata": {},
     "output_type": "execute_result"
    }
   ],
   "source": [
    "# indexing 1d array\n",
    "arr[2]"
   ]
  },
  {
   "cell_type": "code",
   "execution_count": 55,
   "id": "15602fbb",
   "metadata": {},
   "outputs": [
    {
     "data": {
      "text/plain": [
       "array([3, 4])"
      ]
     },
     "execution_count": 55,
     "metadata": {},
     "output_type": "execute_result"
    }
   ],
   "source": [
    "# slicng of 1d array\n",
    "arr[2:4]"
   ]
  },
  {
   "cell_type": "markdown",
   "id": "db005b5a",
   "metadata": {},
   "source": [
    "# indexing and slicing of 2d array"
   ]
  },
  {
   "cell_type": "code",
   "execution_count": 56,
   "id": "d9732ae2",
   "metadata": {},
   "outputs": [
    {
     "data": {
      "text/plain": [
       "array([[ 1,  2,  3,  4],\n",
       "       [ 5,  6,  7,  8],\n",
       "       [-1, -2, -3, -4]])"
      ]
     },
     "execution_count": 56,
     "metadata": {},
     "output_type": "execute_result"
    }
   ],
   "source": [
    "arr = np.array([[1,2,3,4],[5,6,7,8],[-1,-2,-3,-4]])\n",
    "arr"
   ]
  },
  {
   "cell_type": "code",
   "execution_count": 57,
   "id": "21b84c93",
   "metadata": {},
   "outputs": [],
   "source": [
    "### indexing\n",
    "import numpy as np"
   ]
  },
  {
   "cell_type": "markdown",
   "id": "fe76dc38",
   "metadata": {},
   "source": [
    "#### doule bracket notation"
   ]
  },
  {
   "cell_type": "code",
   "execution_count": 58,
   "id": "a4e78ef3",
   "metadata": {},
   "outputs": [
    {
     "data": {
      "text/plain": [
       "7"
      ]
     },
     "execution_count": 58,
     "metadata": {},
     "output_type": "execute_result"
    }
   ],
   "source": [
    "arr[1][2]"
   ]
  },
  {
   "cell_type": "code",
   "execution_count": 59,
   "id": "47ca219e",
   "metadata": {},
   "outputs": [
    {
     "data": {
      "text/plain": [
       "-4"
      ]
     },
     "execution_count": 59,
     "metadata": {},
     "output_type": "execute_result"
    }
   ],
   "source": [
    "# get -4\n",
    "arr[2][-1]"
   ]
  },
  {
   "cell_type": "code",
   "execution_count": 60,
   "id": "9f19b004",
   "metadata": {},
   "outputs": [
    {
     "data": {
      "text/plain": [
       "-4"
      ]
     },
     "execution_count": 60,
     "metadata": {},
     "output_type": "execute_result"
    }
   ],
   "source": [
    "#### single bracket notation-----> recommended\n",
    "arr[2,-1]"
   ]
  },
  {
   "cell_type": "markdown",
   "id": "af2af18a",
   "metadata": {},
   "source": [
    "### slicing"
   ]
  },
  {
   "cell_type": "code",
   "execution_count": 61,
   "id": "3cc34da8",
   "metadata": {},
   "outputs": [
    {
     "data": {
      "text/plain": [
       "array([[ 1,  2,  3,  4],\n",
       "       [ 5,  6,  7,  8],\n",
       "       [-1, -2, -3, -4]])"
      ]
     },
     "execution_count": 61,
     "metadata": {},
     "output_type": "execute_result"
    }
   ],
   "source": [
    "arr"
   ]
  },
  {
   "cell_type": "code",
   "execution_count": 62,
   "id": "80208e39",
   "metadata": {},
   "outputs": [
    {
     "data": {
      "text/plain": [
       "array([[ 5,  6,  7,  8],\n",
       "       [-1, -2, -3, -4]])"
      ]
     },
     "execution_count": 62,
     "metadata": {},
     "output_type": "execute_result"
    }
   ],
   "source": [
    "# [[6,7],\n",
    "# -2,-3]]\n",
    "\n",
    "arr[1:3]"
   ]
  },
  {
   "cell_type": "code",
   "execution_count": 63,
   "id": "71c62505",
   "metadata": {},
   "outputs": [
    {
     "data": {
      "text/plain": [
       "array([[ 6,  7],\n",
       "       [-2, -3]])"
      ]
     },
     "execution_count": 63,
     "metadata": {},
     "output_type": "execute_result"
    }
   ],
   "source": [
    "arr[1:3, 1:3]"
   ]
  },
  {
   "cell_type": "code",
   "execution_count": 64,
   "id": "da0a7e74",
   "metadata": {},
   "outputs": [
    {
     "data": {
      "text/plain": [
       "array([[ 1,  2,  3,  4],\n",
       "       [ 5,  6,  7,  8],\n",
       "       [-1, -2, -3, -4]])"
      ]
     },
     "execution_count": 64,
     "metadata": {},
     "output_type": "execute_result"
    }
   ],
   "source": [
    "## get any targeted column ---> 1st indeing column [2,6,-2]\n",
    "arr[0:3]"
   ]
  },
  {
   "cell_type": "code",
   "execution_count": 65,
   "id": "3491597b",
   "metadata": {},
   "outputs": [
    {
     "data": {
      "text/plain": [
       "array([[ 2],\n",
       "       [ 6],\n",
       "       [-2]])"
      ]
     },
     "execution_count": 65,
     "metadata": {},
     "output_type": "execute_result"
    }
   ],
   "source": [
    "arr[0:3, 1:2]"
   ]
  },
  {
   "cell_type": "markdown",
   "id": "c62e3554",
   "metadata": {},
   "source": [
    "# indexing and slicing in 3d arrays\n",
    "\n",
    "3d array is an array of 2d array"
   ]
  },
  {
   "cell_type": "code",
   "execution_count": 66,
   "id": "50115f6c",
   "metadata": {},
   "outputs": [
    {
     "data": {
      "text/plain": [
       "array([[[1, 2, 3],\n",
       "        [4, 5, 6],\n",
       "        [7, 8, 9]],\n",
       "\n",
       "       [[9, 7, 5],\n",
       "        [4, 3, 1],\n",
       "        [5, 6, 7]],\n",
       "\n",
       "       [[3, 4, 5],\n",
       "        [5, 6, 7],\n",
       "        [8, 9, 7]]])"
      ]
     },
     "execution_count": 66,
     "metadata": {},
     "output_type": "execute_result"
    }
   ],
   "source": [
    "arr = np.array([[[1,2,3],[4,5,6],[7,8,9]],\n",
    "                [[9,7,5],[4,3,1],[5,6,7]],\n",
    "                [[3,4,5],[5,6,7],[8,9,7]]])\n",
    "arr"
   ]
  },
  {
   "cell_type": "code",
   "execution_count": 67,
   "id": "b1b8f35e",
   "metadata": {},
   "outputs": [],
   "source": [
    "# the first index (i)----> selects the matrix\n",
    "# the second index (j) ---> selects the row\n",
    "# the third index (k) ----> selects the columns"
   ]
  },
  {
   "cell_type": "markdown",
   "id": "32fb9b54",
   "metadata": {},
   "source": [
    "### indexing in 3d"
   ]
  },
  {
   "cell_type": "code",
   "execution_count": 68,
   "id": "586524de",
   "metadata": {},
   "outputs": [
    {
     "data": {
      "text/plain": [
       "array([[9, 7, 5],\n",
       "       [4, 3, 1],\n",
       "       [5, 6, 7]])"
      ]
     },
     "execution_count": 68,
     "metadata": {},
     "output_type": "execute_result"
    }
   ],
   "source": [
    "# get 3 from 2nd matrix \n",
    "arr[1]"
   ]
  },
  {
   "cell_type": "code",
   "execution_count": 69,
   "id": "bae78a6a",
   "metadata": {},
   "outputs": [
    {
     "data": {
      "text/plain": [
       "3"
      ]
     },
     "execution_count": 69,
     "metadata": {},
     "output_type": "execute_result"
    }
   ],
   "source": [
    "arr[1,1,1]"
   ]
  },
  {
   "cell_type": "markdown",
   "id": "053fc0ef",
   "metadata": {},
   "source": [
    "# slicing in 3d array"
   ]
  },
  {
   "cell_type": "code",
   "execution_count": 70,
   "id": "65d79be9",
   "metadata": {},
   "outputs": [
    {
     "data": {
      "text/plain": [
       "array([[[1, 2, 3],\n",
       "        [4, 5, 6],\n",
       "        [7, 8, 9]],\n",
       "\n",
       "       [[9, 7, 5],\n",
       "        [4, 3, 1],\n",
       "        [5, 6, 7]],\n",
       "\n",
       "       [[3, 4, 5],\n",
       "        [5, 6, 7],\n",
       "        [8, 9, 7]]])"
      ]
     },
     "execution_count": 70,
     "metadata": {},
     "output_type": "execute_result"
    }
   ],
   "source": [
    "# [[3,1],\n",
    "#  [6,7]] get\n",
    "arr[:,]"
   ]
  },
  {
   "cell_type": "code",
   "execution_count": 71,
   "id": "09efe08d",
   "metadata": {},
   "outputs": [
    {
     "data": {
      "text/plain": [
       "array([[[3, 1],\n",
       "        [6, 7]]])"
      ]
     },
     "execution_count": 71,
     "metadata": {},
     "output_type": "execute_result"
    }
   ],
   "source": [
    "arr[1:2,1:3,1:3]"
   ]
  },
  {
   "cell_type": "code",
   "execution_count": 72,
   "id": "d3cea831",
   "metadata": {},
   "outputs": [
    {
     "data": {
      "text/plain": [
       "array([[[3],\n",
       "        [6],\n",
       "        [9]],\n",
       "\n",
       "       [[5],\n",
       "        [1],\n",
       "        [7]],\n",
       "\n",
       "       [[5],\n",
       "        [7],\n",
       "        [7]]])"
      ]
     },
     "execution_count": 72,
     "metadata": {},
     "output_type": "execute_result"
    }
   ],
   "source": [
    "# get whole last column\n",
    "arr[0:4,:,2:]"
   ]
  },
  {
   "cell_type": "code",
   "execution_count": null,
   "id": "07b1838d",
   "metadata": {},
   "outputs": [],
   "source": []
  }
 ],
 "metadata": {
  "kernelspec": {
   "display_name": "Python 3 (ipykernel)",
   "language": "python",
   "name": "python3"
  },
  "language_info": {
   "codemirror_mode": {
    "name": "ipython",
    "version": 3
   },
   "file_extension": ".py",
   "mimetype": "text/x-python",
   "name": "python",
   "nbconvert_exporter": "python",
   "pygments_lexer": "ipython3",
   "version": "3.11.5"
  }
 },
 "nbformat": 4,
 "nbformat_minor": 5
}
