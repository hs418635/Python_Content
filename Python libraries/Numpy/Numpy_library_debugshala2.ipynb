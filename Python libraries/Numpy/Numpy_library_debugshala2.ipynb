{
 "cells": [
  {
   "cell_type": "markdown",
   "id": "f59709af",
   "metadata": {},
   "source": [
    "### Array Manupulation "
   ]
  },
  {
   "cell_type": "code",
   "execution_count": 1,
   "id": "efa88449",
   "metadata": {},
   "outputs": [
    {
     "name": "stdout",
     "output_type": "stream",
     "text": [
      "[ 9 32  5 32 34  4 40 49  4 35  9 27]\n",
      "dim: 1\n",
      "shape: (12,)\n"
     ]
    }
   ],
   "source": [
    "# Reshape of an array in numpy\n",
    "import numpy as np\n",
    "np.random.seed(234)\n",
    "arr = np.random.randint(1,50,12)\n",
    "print(arr)\n",
    "print(\"dim:\",arr.ndim)\n",
    "print(\"shape:\",arr.shape)"
   ]
  },
  {
   "cell_type": "code",
   "execution_count": 2,
   "id": "547eda07",
   "metadata": {},
   "outputs": [
    {
     "name": "stdout",
     "output_type": "stream",
     "text": [
      "[[ 9 32  5 32]\n",
      " [34  4 40 49]\n",
      " [ 4 35  9 27]]\n",
      "dim: 2\n",
      "shape: (3, 4)\n"
     ]
    }
   ],
   "source": [
    "# convert into two dimension or rshape\n",
    "arr1 = arr.reshape(3,4)\n",
    "print(arr1)\n",
    "print(\"dim:\",arr1.ndim)\n",
    "print(\"shape:\",arr1.shape)"
   ]
  },
  {
   "cell_type": "code",
   "execution_count": 3,
   "id": "a6467446",
   "metadata": {},
   "outputs": [
    {
     "name": "stdout",
     "output_type": "stream",
     "text": [
      "[[ 9 32  5]\n",
      " [32 34  4]\n",
      " [40 49  4]\n",
      " [35  9 27]]\n",
      "dim: 2\n",
      "shape: (4, 3)\n"
     ]
    }
   ],
   "source": [
    "# convert into two dimension or rshape\n",
    "arr1 = arr.reshape(4,3)\n",
    "print(arr1)\n",
    "print(\"dim:\",arr1.ndim)\n",
    "print(\"shape:\",arr1.shape)"
   ]
  },
  {
   "cell_type": "code",
   "execution_count": 4,
   "id": "a74bee19",
   "metadata": {},
   "outputs": [
    {
     "name": "stdout",
     "output_type": "stream",
     "text": [
      "[[ 9 34  4]\n",
      " [32  4 35]\n",
      " [ 5 40  9]\n",
      " [32 49 27]]\n",
      "dim: 2\n",
      "shape: (4, 3)\n"
     ]
    }
   ],
   "source": [
    "# convert into two dimension or rshape\n",
    "arr1 = arr.reshape(4,3,order=\"F\")\n",
    "print(arr1)\n",
    "print(\"dim:\",arr1.ndim)\n",
    "print(\"shape:\",arr1.shape)"
   ]
  },
  {
   "cell_type": "code",
   "execution_count": 5,
   "id": "c5f12a73",
   "metadata": {},
   "outputs": [
    {
     "data": {
      "text/plain": [
       "array([[ 9, 34,  4, 32,  4, 35,  5, 40,  9, 32, 49, 27]])"
      ]
     },
     "execution_count": 5,
     "metadata": {},
     "output_type": "execute_result"
    }
   ],
   "source": [
    "arr1.reshape(1,12)"
   ]
  },
  {
   "cell_type": "markdown",
   "id": "2f7b5292",
   "metadata": {},
   "source": [
    "### Reshaping to 3D"
   ]
  },
  {
   "cell_type": "code",
   "execution_count": 6,
   "id": "4c5c0b8b",
   "metadata": {},
   "outputs": [
    {
     "name": "stdout",
     "output_type": "stream",
     "text": [
      "[[[ 9 34  4]\n",
      "  [32  4 35]]\n",
      "\n",
      " [[ 5 40  9]\n",
      "  [32 49 27]]]\n",
      "dim: 3\n",
      "shape: (2, 2, 3)\n"
     ]
    }
   ],
   "source": [
    "arr2 = arr1.reshape(2,2,3)\n",
    "print(arr2)\n",
    "print(\"dim:\",arr2.ndim)\n",
    "print(\"shape:\",arr2.shape)"
   ]
  },
  {
   "cell_type": "markdown",
   "id": "4011e771",
   "metadata": {},
   "source": [
    "### you can change dimensions too"
   ]
  },
  {
   "cell_type": "code",
   "execution_count": 7,
   "id": "e8d9cdbf",
   "metadata": {},
   "outputs": [
    {
     "data": {
      "text/plain": [
       "array([[ 1,  2,  3,  4,  5,  6],\n",
       "       [ 7,  8,  9, 10, 11, 12],\n",
       "       [13, 14, 15, 16, 17, 18]])"
      ]
     },
     "execution_count": 7,
     "metadata": {},
     "output_type": "execute_result"
    }
   ],
   "source": [
    "arr = np.arange(1,19).reshape(3,6)\n",
    "arr"
   ]
  },
  {
   "cell_type": "code",
   "execution_count": 8,
   "id": "1ecb75d8",
   "metadata": {},
   "outputs": [
    {
     "data": {
      "text/plain": [
       "array([[[ 1,  2,  3],\n",
       "        [ 4,  5,  6]],\n",
       "\n",
       "       [[ 7,  8,  9],\n",
       "        [10, 11, 12]],\n",
       "\n",
       "       [[13, 14, 15],\n",
       "        [16, 17, 18]]])"
      ]
     },
     "execution_count": 8,
     "metadata": {},
     "output_type": "execute_result"
    }
   ],
   "source": [
    "arr.ravel().reshape(3,2,3)"
   ]
  },
  {
   "attachments": {
    "image.png": {
     "image/png": "[encoded data removed]"
    }
   },
   "cell_type": "markdown",
   "id": "875f0003",
   "metadata": {},
   "source": [
    "# Broadcasting\n",
    "![image.png](attachment:image.png)"
   ]
  },
  {
   "cell_type": "code",
   "execution_count": 9,
   "id": "b2ce9580",
   "metadata": {},
   "outputs": [],
   "source": [
    "# broadcasting is a technique using which numpy does mathematical computation on the data of different shapes and dimensions"
   ]
  },
  {
   "cell_type": "code",
   "execution_count": 10,
   "id": "a6796e08",
   "metadata": {},
   "outputs": [
    {
     "data": {
      "text/plain": [
       "array([0, 1, 2])"
      ]
     },
     "execution_count": 10,
     "metadata": {},
     "output_type": "execute_result"
    }
   ],
   "source": [
    "np.arange(3)"
   ]
  },
  {
   "cell_type": "code",
   "execution_count": 11,
   "id": "7ddc3a0f",
   "metadata": {},
   "outputs": [
    {
     "data": {
      "text/plain": [
       "array([5, 6, 7])"
      ]
     },
     "execution_count": 11,
     "metadata": {},
     "output_type": "execute_result"
    }
   ],
   "source": [
    "arr  = np.arange(3) + 5\n",
    "arr"
   ]
  },
  {
   "cell_type": "code",
   "execution_count": 12,
   "id": "ab593f99",
   "metadata": {},
   "outputs": [
    {
     "data": {
      "text/plain": [
       "array([[1., 1., 1.],\n",
       "       [1., 1., 1.],\n",
       "       [1., 1., 1.]])"
      ]
     },
     "execution_count": 12,
     "metadata": {},
     "output_type": "execute_result"
    }
   ],
   "source": [
    "np.ones((3,3))"
   ]
  },
  {
   "cell_type": "code",
   "execution_count": 13,
   "id": "e0d70b8f",
   "metadata": {},
   "outputs": [
    {
     "data": {
      "text/plain": [
       "array([[1., 2., 3.],\n",
       "       [1., 2., 3.],\n",
       "       [1., 2., 3.]])"
      ]
     },
     "execution_count": 13,
     "metadata": {},
     "output_type": "execute_result"
    }
   ],
   "source": [
    "arr2 = np.ones((3,3)) + np.arange(3)\n",
    "arr2"
   ]
  },
  {
   "cell_type": "code",
   "execution_count": 14,
   "id": "5cb8ba1b",
   "metadata": {},
   "outputs": [
    {
     "data": {
      "text/plain": [
       "array([[0, 1, 2],\n",
       "       [1, 2, 3],\n",
       "       [2, 3, 4]])"
      ]
     },
     "execution_count": 14,
     "metadata": {},
     "output_type": "execute_result"
    }
   ],
   "source": [
    "# column x row\n",
    "\n",
    "arr = np.arange(3).reshape(3,1) + np.arange(3)\n",
    "arr"
   ]
  },
  {
   "cell_type": "code",
   "execution_count": 15,
   "id": "0db445f0",
   "metadata": {},
   "outputs": [
    {
     "data": {
      "text/plain": [
       "array([[0],\n",
       "       [1],\n",
       "       [2]])"
      ]
     },
     "execution_count": 15,
     "metadata": {},
     "output_type": "execute_result"
    }
   ],
   "source": [
    "np.arange(3).reshape(3,1) "
   ]
  },
  {
   "cell_type": "code",
   "execution_count": 16,
   "id": "4cbb8ce5",
   "metadata": {},
   "outputs": [
    {
     "data": {
      "text/plain": [
       "array([0, 1, 2])"
      ]
     },
     "execution_count": 16,
     "metadata": {},
     "output_type": "execute_result"
    }
   ],
   "source": [
    "np.arange(3)"
   ]
  },
  {
   "cell_type": "markdown",
   "id": "9af2545f",
   "metadata": {},
   "source": [
    "## Iteration over array\n",
    "\n",
    "Iteration means going through elements one by one\n",
    "\n",
    "As we deal with multi-dimensional arrays, we can do this using basic for loops of python\n",
    "\n",
    "If we iterate on a 1D it will go through each element one by one."
   ]
  },
  {
   "cell_type": "code",
   "execution_count": 2,
   "id": "3315c10a",
   "metadata": {},
   "outputs": [
    {
     "name": "stdout",
     "output_type": "stream",
     "text": [
      "[0 1 2 3]\n",
      "dime 1\n"
     ]
    }
   ],
   "source": [
    "# 1D \n",
    "import numpy as np\n",
    "arr = np.arange(4)\n",
    "print(arr)\n",
    "print(\"dime\", arr.ndim)"
   ]
  },
  {
   "cell_type": "code",
   "execution_count": 3,
   "id": "b0b5b793",
   "metadata": {},
   "outputs": [
    {
     "name": "stdout",
     "output_type": "stream",
     "text": [
      "0\n",
      "1\n",
      "2\n",
      "3\n"
     ]
    }
   ],
   "source": [
    "for i in arr:\n",
    "    print(i)"
   ]
  },
  {
   "cell_type": "code",
   "execution_count": 5,
   "id": "37c577e8",
   "metadata": {},
   "outputs": [
    {
     "name": "stdout",
     "output_type": "stream",
     "text": [
      "[[4 5 1]\n",
      " [2 4 1]]\n",
      "dim 2\n"
     ]
    }
   ],
   "source": [
    "# 2d \n",
    "# in a 2d array it will go through all the rows \n",
    "np.random.seed(1)\n",
    "arr = np.random.randint(1,6,6).reshape(2,3)\n",
    "print(arr)\n",
    "print(\"dim\",arr.ndim)"
   ]
  },
  {
   "cell_type": "code",
   "execution_count": 6,
   "id": "9831b923",
   "metadata": {},
   "outputs": [
    {
     "name": "stdout",
     "output_type": "stream",
     "text": [
      "[4 5 1]\n",
      "[2 4 1]\n"
     ]
    }
   ],
   "source": [
    "for i in arr:\n",
    "    print(i)"
   ]
  },
  {
   "cell_type": "code",
   "execution_count": 7,
   "id": "dd77e05a",
   "metadata": {},
   "outputs": [
    {
     "name": "stdout",
     "output_type": "stream",
     "text": [
      "4\n",
      "5\n",
      "1\n",
      "2\n",
      "4\n",
      "1\n"
     ]
    }
   ],
   "source": [
    "for rows in arr:\n",
    "    for elements in rows:\n",
    "        print(elements)"
   ]
  },
  {
   "cell_type": "code",
   "execution_count": 9,
   "id": "dbcc15ef",
   "metadata": {},
   "outputs": [
    {
     "name": "stdout",
     "output_type": "stream",
     "text": [
      "[[[ 6 12 13]\n",
      "  [ 9 10 12]]\n",
      "\n",
      " [[ 6 16  1]\n",
      "  [17  2 13]]\n",
      "\n",
      " [[ 8 14  7]\n",
      "  [ 6 12 11]]]\n",
      "dim 3\n"
     ]
    }
   ],
   "source": [
    "# 3d \n",
    "# in a 2d array it will go through all the 2d arrays\n",
    "# to return the actual values , the scalar , we have to iterate the arrays in each dim.\n",
    "np.random.seed(1)\n",
    "arr = np.random.randint(1,18,18).reshape(3,2,3)\n",
    "print(arr)\n",
    "print(\"dim\",arr.ndim)"
   ]
  },
  {
   "cell_type": "code",
   "execution_count": 10,
   "id": "52bb4b8a",
   "metadata": {},
   "outputs": [
    {
     "name": "stdout",
     "output_type": "stream",
     "text": [
      "[[ 6 12 13]\n",
      " [ 9 10 12]]\n",
      "[[ 6 16  1]\n",
      " [17  2 13]]\n",
      "[[ 8 14  7]\n",
      " [ 6 12 11]]\n"
     ]
    }
   ],
   "source": [
    "for matrices in arr:\n",
    "    print(matrices)"
   ]
  },
  {
   "cell_type": "code",
   "execution_count": 11,
   "id": "8bbbe27b",
   "metadata": {},
   "outputs": [
    {
     "name": "stdout",
     "output_type": "stream",
     "text": [
      "[ 6 12 13]\n",
      "[ 9 10 12]\n",
      "[ 6 16  1]\n",
      "[17  2 13]\n",
      "[ 8 14  7]\n",
      "[ 6 12 11]\n"
     ]
    }
   ],
   "source": [
    "for matrices in arr:\n",
    "    for rows in matrices:\n",
    "        print(rows)"
   ]
  },
  {
   "cell_type": "code",
   "execution_count": 12,
   "id": "e6b8d980",
   "metadata": {},
   "outputs": [
    {
     "name": "stdout",
     "output_type": "stream",
     "text": [
      "6\n",
      "12\n",
      "13\n",
      "9\n",
      "10\n",
      "12\n",
      "6\n",
      "16\n",
      "1\n",
      "17\n",
      "2\n",
      "13\n",
      "8\n",
      "14\n",
      "7\n",
      "6\n",
      "12\n",
      "11\n"
     ]
    }
   ],
   "source": [
    "for matrices in arr:\n",
    "    for rows in matrices:\n",
    "        for elements in rows:\n",
    "            print(elements)"
   ]
  },
  {
   "cell_type": "markdown",
   "id": "b251bf49",
   "metadata": {},
   "source": [
    "### Extracting elements using loops"
   ]
  },
  {
   "cell_type": "markdown",
   "id": "9986181d",
   "metadata": {},
   "source": [
    "### for 1d"
   ]
  },
  {
   "cell_type": "code",
   "execution_count": 13,
   "id": "c2afd691",
   "metadata": {},
   "outputs": [
    {
     "name": "stdout",
     "output_type": "stream",
     "text": [
      "[0 1 2 3]\n",
      "dime 1\n"
     ]
    }
   ],
   "source": [
    "# 1D \n",
    "import numpy as np\n",
    "arr = np.arange(4)\n",
    "print(arr)\n",
    "print(\"dime\", arr.ndim)"
   ]
  },
  {
   "cell_type": "code",
   "execution_count": 15,
   "id": "a422242f",
   "metadata": {},
   "outputs": [
    {
     "name": "stdout",
     "output_type": "stream",
     "text": [
      "2\n"
     ]
    }
   ],
   "source": [
    "# extract 2 \n",
    "for i in range(len(arr)):\n",
    "    if i == 2 :\n",
    "        output = arr[i]\n",
    "        break\n",
    "print(output)"
   ]
  },
  {
   "cell_type": "markdown",
   "id": "83cacb56",
   "metadata": {},
   "source": [
    "### for 2d"
   ]
  },
  {
   "cell_type": "code",
   "execution_count": 16,
   "id": "fe01f7c4",
   "metadata": {},
   "outputs": [
    {
     "name": "stdout",
     "output_type": "stream",
     "text": [
      "[[4 5 1]\n",
      " [2 4 1]]\n",
      "dim 2\n"
     ]
    }
   ],
   "source": [
    "# 2d \n",
    "# in a 2d array it will go through all the rows \n",
    "np.random.seed(1)\n",
    "arr = np.random.randint(1,6,6).reshape(2,3)\n",
    "print(arr)\n",
    "print(\"dim\",arr.ndim)"
   ]
  },
  {
   "cell_type": "code",
   "execution_count": 19,
   "id": "0f78a4b9",
   "metadata": {},
   "outputs": [
    {
     "name": "stdout",
     "output_type": "stream",
     "text": [
      "5\n"
     ]
    }
   ],
   "source": [
    "for i in arr[0]:\n",
    "    if i == 5 :\n",
    "        output = i\n",
    "        break\n",
    "print(output)"
   ]
  },
  {
   "cell_type": "code",
   "execution_count": 11,
   "id": "4ebb2bba",
   "metadata": {},
   "outputs": [
    {
     "name": "stdout",
     "output_type": "stream",
     "text": [
      "[[[ 6 12 13]\n",
      "  [ 9 10 12]]\n",
      "\n",
      " [[ 6 16  1]\n",
      "  [17  2 13]]\n",
      "\n",
      " [[ 8 14  7]\n",
      "  [ 6 12 11]]]\n",
      "dim 3\n"
     ]
    }
   ],
   "source": [
    "# 3d \n",
    "# in a 2d array it will go through all the 2d arrays\n",
    "# to return the actual values , the scalar , we have to iterate the arrays in each dim.\n",
    "import numpy as np\n",
    "np.random.seed(1)\n",
    "arr = np.random.randint(1,18,18).reshape(3,2,3)\n",
    "print(arr)\n",
    "print(\"dim\",arr.ndim)"
   ]
  },
  {
   "cell_type": "code",
   "execution_count": 12,
   "id": "1f74c94a",
   "metadata": {},
   "outputs": [],
   "source": [
    "### get 17 from 2nd indexed 2d array\n",
    "### get [[16,1],\n",
    "###      [2,13]] from 1st indexed 2d array"
   ]
  },
  {
   "cell_type": "code",
   "execution_count": 13,
   "id": "3e4f3004",
   "metadata": {},
   "outputs": [
    {
     "name": "stdout",
     "output_type": "stream",
     "text": [
      "[ 6 16  1]\n",
      "[17  2 13]\n"
     ]
    }
   ],
   "source": [
    "for i in arr[1]:\n",
    "    print(i)"
   ]
  },
  {
   "cell_type": "code",
   "execution_count": 19,
   "id": "80791fcf",
   "metadata": {},
   "outputs": [
    {
     "name": "stdout",
     "output_type": "stream",
     "text": [
      "17\n"
     ]
    }
   ],
   "source": [
    "for i in arr[1]:\n",
    "    for j in i:\n",
    "        if j == 17:\n",
    "            output = j\n",
    "            break\n",
    "print(output)"
   ]
  },
  {
   "cell_type": "markdown",
   "id": "aff76a82",
   "metadata": {},
   "source": [
    "### Mathematical function"
   ]
  },
  {
   "cell_type": "code",
   "execution_count": 20,
   "id": "b3279eb5",
   "metadata": {},
   "outputs": [
    {
     "data": {
      "text/plain": [
       "array([7, 6, 7, 3, 5, 3, 7, 2, 4])"
      ]
     },
     "execution_count": 20,
     "metadata": {},
     "output_type": "execute_result"
    }
   ],
   "source": [
    "# 1d array\n",
    "\n",
    "np.random.seed(123)\n",
    "arr = np.random.randint(1,9,9)\n",
    "arr"
   ]
  },
  {
   "cell_type": "code",
   "execution_count": 21,
   "id": "4a391645",
   "metadata": {},
   "outputs": [
    {
     "data": {
      "text/plain": [
       "array([ 2,  1,  2, -2,  0, -2,  2, -3, -1])"
      ]
     },
     "execution_count": 21,
     "metadata": {},
     "output_type": "execute_result"
    }
   ],
   "source": [
    "arr - 5"
   ]
  },
  {
   "cell_type": "code",
   "execution_count": 22,
   "id": "9f24a26c",
   "metadata": {},
   "outputs": [
    {
     "data": {
      "text/plain": [
       "array([35, 30, 35, 15, 25, 15, 35, 10, 20])"
      ]
     },
     "execution_count": 22,
     "metadata": {},
     "output_type": "execute_result"
    }
   ],
   "source": [
    "arr * 5"
   ]
  },
  {
   "cell_type": "markdown",
   "id": "b3d2b640",
   "metadata": {},
   "source": [
    "#### 2d"
   ]
  },
  {
   "cell_type": "code",
   "execution_count": 23,
   "id": "97895638",
   "metadata": {},
   "outputs": [
    {
     "data": {
      "text/plain": [
       "array([[ 3,  3,  7],\n",
       "       [ 2,  4, 11],\n",
       "       [10,  7,  2],\n",
       "       [ 1,  2, 10]])"
      ]
     },
     "execution_count": 23,
     "metadata": {},
     "output_type": "execute_result"
    }
   ],
   "source": [
    "np.random.seed(123)\n",
    "arr = np.random.randint(1,12,12).reshape(4,3)\n",
    "arr"
   ]
  },
  {
   "cell_type": "code",
   "execution_count": 24,
   "id": "66dec58d",
   "metadata": {},
   "outputs": [
    {
     "data": {
      "text/plain": [
       "array([[13, 13, 17],\n",
       "       [12, 14, 21],\n",
       "       [20, 17, 12],\n",
       "       [11, 12, 20]])"
      ]
     },
     "execution_count": 24,
     "metadata": {},
     "output_type": "execute_result"
    }
   ],
   "source": [
    "arr + 10"
   ]
  },
  {
   "cell_type": "code",
   "execution_count": 25,
   "id": "5a93f9e0",
   "metadata": {},
   "outputs": [
    {
     "data": {
      "text/plain": [
       "array([[13, 13, 17],\n",
       "       [12, 14, 21],\n",
       "       [20, 17, 12],\n",
       "       [11, 12, 20]])"
      ]
     },
     "execution_count": 25,
     "metadata": {},
     "output_type": "execute_result"
    }
   ],
   "source": [
    "np.add(arr,10) # add()"
   ]
  },
  {
   "cell_type": "code",
   "execution_count": 27,
   "id": "95762117",
   "metadata": {},
   "outputs": [
    {
     "data": {
      "text/plain": [
       "array([[-7, -7, -3],\n",
       "       [-8, -6,  1],\n",
       "       [ 0, -3, -8],\n",
       "       [-9, -8,  0]])"
      ]
     },
     "execution_count": 27,
     "metadata": {},
     "output_type": "execute_result"
    }
   ],
   "source": [
    "np.subtract(arr,10) # subtract"
   ]
  },
  {
   "cell_type": "code",
   "execution_count": 28,
   "id": "5b93a483",
   "metadata": {},
   "outputs": [
    {
     "data": {
      "text/plain": [
       "array([[  9,   9,  49],\n",
       "       [  4,  16, 121],\n",
       "       [100,  49,   4],\n",
       "       [  1,   4, 100]], dtype=int32)"
      ]
     },
     "execution_count": 28,
     "metadata": {},
     "output_type": "execute_result"
    }
   ],
   "source": [
    "np.power(arr,2) # power()....similarly multiply(), divide() "
   ]
  },
  {
   "cell_type": "markdown",
   "id": "2a1c203d",
   "metadata": {},
   "source": [
    "### statistical \n",
    "\n",
    "#### sum , min , max , mean , median , mode etc."
   ]
  },
  {
   "cell_type": "code",
   "execution_count": 35,
   "id": "c4231aa5",
   "metadata": {},
   "outputs": [
    {
     "data": {
      "text/plain": [
       "array([0, 1, 2, 3, 4, 5, 6, 7, 8])"
      ]
     },
     "execution_count": 35,
     "metadata": {},
     "output_type": "execute_result"
    }
   ],
   "source": [
    "arr1 = np.arange(9)\n",
    "arr1"
   ]
  },
  {
   "cell_type": "code",
   "execution_count": 36,
   "id": "60b2ebe2",
   "metadata": {},
   "outputs": [
    {
     "data": {
      "text/plain": [
       "36"
      ]
     },
     "execution_count": 36,
     "metadata": {},
     "output_type": "execute_result"
    }
   ],
   "source": [
    "np.sum(arr1) # sum()"
   ]
  },
  {
   "cell_type": "code",
   "execution_count": 37,
   "id": "b43b504e",
   "metadata": {},
   "outputs": [
    {
     "data": {
      "text/plain": [
       "0"
      ]
     },
     "execution_count": 37,
     "metadata": {},
     "output_type": "execute_result"
    }
   ],
   "source": [
    "np.min(arr1)"
   ]
  },
  {
   "cell_type": "code",
   "execution_count": 38,
   "id": "88efc0d4",
   "metadata": {},
   "outputs": [
    {
     "data": {
      "text/plain": [
       "8"
      ]
     },
     "execution_count": 38,
     "metadata": {},
     "output_type": "execute_result"
    }
   ],
   "source": [
    "np.max(arr1)"
   ]
  },
  {
   "cell_type": "code",
   "execution_count": 39,
   "id": "923b45ff",
   "metadata": {},
   "outputs": [
    {
     "data": {
      "text/plain": [
       "4.0"
      ]
     },
     "execution_count": 39,
     "metadata": {},
     "output_type": "execute_result"
    }
   ],
   "source": [
    "np.mean(arr1) # mean"
   ]
  },
  {
   "cell_type": "code",
   "execution_count": 40,
   "id": "1ce7aa7c",
   "metadata": {},
   "outputs": [
    {
     "data": {
      "text/plain": [
       "2.581988897471611"
      ]
     },
     "execution_count": 40,
     "metadata": {},
     "output_type": "execute_result"
    }
   ],
   "source": [
    "# std deviation\n",
    "np.std(arr1)"
   ]
  },
  {
   "cell_type": "markdown",
   "id": "6f6ce45c",
   "metadata": {},
   "source": [
    "### Dot(Scalar) Product\n",
    "\n",
    "The dot profuct or scalar product is an algebraic operation that takes two equal lenghth sequences of number , and return a single number"
   ]
  },
  {
   "cell_type": "code",
   "execution_count": 45,
   "id": "8cdc059a",
   "metadata": {},
   "outputs": [
    {
     "name": "stdout",
     "output_type": "stream",
     "text": [
      "[[3 4]\n",
      " [9 4]]\n"
     ]
    }
   ],
   "source": [
    "arr1 = np.array([[3,4],[9,4]])\n",
    "arr2 = np.array([[11,1],[23,12]])\n",
    "print(arr1)"
   ]
  },
  {
   "cell_type": "code",
   "execution_count": 46,
   "id": "c98b4ee0",
   "metadata": {},
   "outputs": [
    {
     "name": "stdout",
     "output_type": "stream",
     "text": [
      "[[11  1]\n",
      " [23 12]]\n"
     ]
    }
   ],
   "source": [
    "print(arr2)"
   ]
  },
  {
   "cell_type": "code",
   "execution_count": 47,
   "id": "fcfae48b",
   "metadata": {},
   "outputs": [
    {
     "data": {
      "text/plain": [
       "array([[125,  51],\n",
       "       [191,  57]])"
      ]
     },
     "execution_count": 47,
     "metadata": {},
     "output_type": "execute_result"
    }
   ],
   "source": [
    "np.dot(arr1,arr2)"
   ]
  },
  {
   "cell_type": "code",
   "execution_count": 50,
   "id": "719b6a69",
   "metadata": {},
   "outputs": [
    {
     "data": {
      "text/plain": [
       "[[125, 51], [191, 57]]"
      ]
     },
     "execution_count": 50,
     "metadata": {},
     "output_type": "execute_result"
    }
   ],
   "source": [
    "# formula used in dot product\n",
    "[[3*11+4*23 , 3*1 + 4*12],\n",
    " [9*11+4*23 , 9*1+4*12]]"
   ]
  },
  {
   "cell_type": "markdown",
   "id": "521df57b",
   "metadata": {},
   "source": [
    "### Axes in numpy array"
   ]
  },
  {
   "cell_type": "code",
   "execution_count": 53,
   "id": "5bb9011a",
   "metadata": {},
   "outputs": [
    {
     "data": {
      "text/plain": [
       "array([[1, 2, 3],\n",
       "       [4, 5, 6]])"
      ]
     },
     "execution_count": 53,
     "metadata": {},
     "output_type": "execute_result"
    }
   ],
   "source": [
    "# axes 0 ----> rows\n",
    "# axes 1 ----> columns\n",
    "\n",
    "arr = np.arange(1,7).reshape(2,3)\n",
    "arr"
   ]
  },
  {
   "cell_type": "code",
   "execution_count": 54,
   "id": "fae5d2e9",
   "metadata": {},
   "outputs": [
    {
     "name": "stdout",
     "output_type": "stream",
     "text": [
      "cutting the array vertically\n",
      "[5 7 9]\n"
     ]
    }
   ],
   "source": [
    "print(\"cutting the array vertically\")\n",
    "print(np.sum(arr, axis=0))"
   ]
  },
  {
   "cell_type": "code",
   "execution_count": 55,
   "id": "2c45810f",
   "metadata": {},
   "outputs": [
    {
     "name": "stdout",
     "output_type": "stream",
     "text": [
      "cutting the array Horizontal\n",
      "[ 6 15]\n"
     ]
    }
   ],
   "source": [
    "print(\"cutting the array Horizontal\")\n",
    "print(np.sum(arr, axis=1))"
   ]
  },
  {
   "cell_type": "markdown",
   "id": "441af805",
   "metadata": {},
   "source": [
    "### sorting in numpy arrays"
   ]
  },
  {
   "cell_type": "code",
   "execution_count": 56,
   "id": "4f13e41a",
   "metadata": {},
   "outputs": [
    {
     "data": {
      "text/plain": [
       "array([ 2,  3, 65, 43, 21, 78, 43, 21, 90])"
      ]
     },
     "execution_count": 56,
     "metadata": {},
     "output_type": "execute_result"
    }
   ],
   "source": [
    "arr = np.array([2,3,65,43,21,78,43,21,90])\n",
    "arr"
   ]
  },
  {
   "cell_type": "code",
   "execution_count": 57,
   "id": "77f05b73",
   "metadata": {},
   "outputs": [
    {
     "data": {
      "text/plain": [
       "array([ 2,  3, 21, 21, 43, 43, 65, 78, 90])"
      ]
     },
     "execution_count": 57,
     "metadata": {},
     "output_type": "execute_result"
    }
   ],
   "source": [
    "np.sort(arr) # sort()"
   ]
  },
  {
   "cell_type": "code",
   "execution_count": 58,
   "id": "e8b4f9f4",
   "metadata": {},
   "outputs": [
    {
     "data": {
      "text/plain": [
       "array([90, 78, 65, 43, 43, 21, 21,  3,  2])"
      ]
     },
     "execution_count": 58,
     "metadata": {},
     "output_type": "execute_result"
    }
   ],
   "source": [
    "-np.sort(-arr)"
   ]
  },
  {
   "cell_type": "code",
   "execution_count": 69,
   "id": "e1ba2295",
   "metadata": {},
   "outputs": [
    {
     "data": {
      "text/plain": [
       "array([[20, 15, 19],\n",
       "       [ 2, 13, 27],\n",
       "       [ 4, 21, 25],\n",
       "       [28, 21, 18]])"
      ]
     },
     "execution_count": 69,
     "metadata": {},
     "output_type": "execute_result"
    }
   ],
   "source": [
    "### sorting using axes\n",
    "\n",
    "np.random.seed(789)\n",
    "arr = np.random.randint(1,30,12).reshape(4,3)\n",
    "arr"
   ]
  },
  {
   "cell_type": "code",
   "execution_count": 72,
   "id": "f388bb66",
   "metadata": {},
   "outputs": [
    {
     "data": {
      "text/plain": [
       "array([[ 2, 13, 18],\n",
       "       [ 4, 15, 19],\n",
       "       [20, 21, 25],\n",
       "       [28, 21, 27]])"
      ]
     },
     "execution_count": 72,
     "metadata": {},
     "output_type": "execute_result"
    }
   ],
   "source": [
    "# sorting based on rows using axis=0\n",
    "arr1 = np.sort(arr,axis=0)\n",
    "arr1"
   ]
  },
  {
   "cell_type": "code",
   "execution_count": 75,
   "id": "f38c923e",
   "metadata": {},
   "outputs": [
    {
     "data": {
      "text/plain": [
       "array([[15, 19, 20],\n",
       "       [ 2, 13, 27],\n",
       "       [ 4, 21, 25],\n",
       "       [18, 21, 28]])"
      ]
     },
     "execution_count": 75,
     "metadata": {},
     "output_type": "execute_result"
    }
   ],
   "source": [
    "# sorting based on columns using axis=1\n",
    "arr2 = np.sort(arr,axis=1)\n",
    "arr2"
   ]
  },
  {
   "cell_type": "code",
   "execution_count": 85,
   "id": "c7dd23c8",
   "metadata": {},
   "outputs": [],
   "source": [
    "arr = np.array([\"bhopal\",\"ahmadabad\",\"jabalpur\"]) # sorting in strings\n",
    "arr.sort()"
   ]
  },
  {
   "cell_type": "code",
   "execution_count": 86,
   "id": "211a04e7",
   "metadata": {},
   "outputs": [
    {
     "data": {
      "text/plain": [
       "array(['ahmadabad', 'bhopal', 'jabalpur'], dtype='<U9')"
      ]
     },
     "execution_count": 86,
     "metadata": {},
     "output_type": "execute_result"
    }
   ],
   "source": [
    "arr"
   ]
  },
  {
   "cell_type": "markdown",
   "id": "88f6aa2b",
   "metadata": {},
   "source": [
    "### Concatenation"
   ]
  },
  {
   "cell_type": "code",
   "execution_count": 1,
   "id": "eb5e6130",
   "metadata": {},
   "outputs": [],
   "source": [
    "import numpy as np\n",
    "\n",
    "a1 = np.array([10,11,12])\n",
    "a2 = np.array([20,21,22])"
   ]
  },
  {
   "cell_type": "code",
   "execution_count": 2,
   "id": "d14a688d",
   "metadata": {},
   "outputs": [
    {
     "data": {
      "text/plain": [
       "array([10, 11, 12])"
      ]
     },
     "execution_count": 2,
     "metadata": {},
     "output_type": "execute_result"
    }
   ],
   "source": [
    "a1"
   ]
  },
  {
   "cell_type": "code",
   "execution_count": 3,
   "id": "834d949c",
   "metadata": {},
   "outputs": [
    {
     "data": {
      "text/plain": [
       "array([20, 21, 22])"
      ]
     },
     "execution_count": 3,
     "metadata": {},
     "output_type": "execute_result"
    }
   ],
   "source": [
    "a2"
   ]
  },
  {
   "cell_type": "code",
   "execution_count": 5,
   "id": "8366455a",
   "metadata": {},
   "outputs": [
    {
     "data": {
      "text/plain": [
       "array([10, 11, 12, 20, 21, 22])"
      ]
     },
     "execution_count": 5,
     "metadata": {},
     "output_type": "execute_result"
    }
   ],
   "source": [
    "np.concatenate([a1,a2])"
   ]
  },
  {
   "cell_type": "code",
   "execution_count": 6,
   "id": "80c54d05",
   "metadata": {},
   "outputs": [],
   "source": [
    "## 2d\n",
    "\n",
    "a1 = np.array([[10,11,12],[40,50,60]])\n",
    "a2 = np.array([[20,21,22],[1,2,3]])"
   ]
  },
  {
   "cell_type": "code",
   "execution_count": 7,
   "id": "b50c0798",
   "metadata": {},
   "outputs": [
    {
     "data": {
      "text/plain": [
       "array([[10, 11, 12],\n",
       "       [40, 50, 60]])"
      ]
     },
     "execution_count": 7,
     "metadata": {},
     "output_type": "execute_result"
    }
   ],
   "source": [
    "a1"
   ]
  },
  {
   "cell_type": "code",
   "execution_count": 8,
   "id": "ce668561",
   "metadata": {},
   "outputs": [
    {
     "data": {
      "text/plain": [
       "array([[20, 21, 22],\n",
       "       [ 1,  2,  3]])"
      ]
     },
     "execution_count": 8,
     "metadata": {},
     "output_type": "execute_result"
    }
   ],
   "source": [
    "a2"
   ]
  },
  {
   "cell_type": "code",
   "execution_count": 9,
   "id": "922f63ca",
   "metadata": {},
   "outputs": [
    {
     "data": {
      "text/plain": [
       "array([[10, 11, 12],\n",
       "       [40, 50, 60],\n",
       "       [20, 21, 22],\n",
       "       [ 1,  2,  3]])"
      ]
     },
     "execution_count": 9,
     "metadata": {},
     "output_type": "execute_result"
    }
   ],
   "source": [
    "np.concatenate([a1,a2])"
   ]
  },
  {
   "cell_type": "code",
   "execution_count": 12,
   "id": "f4b16dcb",
   "metadata": {},
   "outputs": [
    {
     "data": {
      "text/plain": [
       "array([[10, 11, 12, 20, 21, 22],\n",
       "       [40, 50, 60,  1,  2,  3]])"
      ]
     },
     "execution_count": 12,
     "metadata": {},
     "output_type": "execute_result"
    }
   ],
   "source": [
    "np.concatenate([a1,a2],axis=1)"
   ]
  },
  {
   "cell_type": "markdown",
   "id": "36dca5c5",
   "metadata": {},
   "source": [
    "### splitting"
   ]
  },
  {
   "cell_type": "code",
   "execution_count": 26,
   "id": "7e9a5b74",
   "metadata": {},
   "outputs": [
    {
     "data": {
      "text/plain": [
       "array([ 1,  2,  5,  4,  2, 78, 54, 34])"
      ]
     },
     "execution_count": 26,
     "metadata": {},
     "output_type": "execute_result"
    }
   ],
   "source": [
    "arr = np.array([1,2,5,4,2,78,54,34])\n",
    "arr"
   ]
  },
  {
   "cell_type": "code",
   "execution_count": 34,
   "id": "176e7ad1",
   "metadata": {},
   "outputs": [
    {
     "data": {
      "text/plain": [
       "[array([1, 2, 5]), array([ 4,  2, 78]), array([54, 34])]"
      ]
     },
     "execution_count": 34,
     "metadata": {},
     "output_type": "execute_result"
    }
   ],
   "source": [
    "np.split(arr,[3,6])"
   ]
  },
  {
   "cell_type": "code",
   "execution_count": 35,
   "id": "52ffd067",
   "metadata": {},
   "outputs": [],
   "source": [
    "a,b,c = np.split(arr,[3,6]) # storing the splitted arrays into variables"
   ]
  },
  {
   "cell_type": "code",
   "execution_count": 36,
   "id": "d5899fad",
   "metadata": {},
   "outputs": [
    {
     "data": {
      "text/plain": [
       "array([1, 2, 5])"
      ]
     },
     "execution_count": 36,
     "metadata": {},
     "output_type": "execute_result"
    }
   ],
   "source": [
    "a"
   ]
  },
  {
   "cell_type": "code",
   "execution_count": 37,
   "id": "8c6e5499",
   "metadata": {},
   "outputs": [
    {
     "data": {
      "text/plain": [
       "array([ 4,  2, 78])"
      ]
     },
     "execution_count": 37,
     "metadata": {},
     "output_type": "execute_result"
    }
   ],
   "source": [
    "b"
   ]
  },
  {
   "cell_type": "code",
   "execution_count": 38,
   "id": "b348d71e",
   "metadata": {},
   "outputs": [
    {
     "data": {
      "text/plain": [
       "array([54, 34])"
      ]
     },
     "execution_count": 38,
     "metadata": {},
     "output_type": "execute_result"
    }
   ],
   "source": [
    "c"
   ]
  },
  {
   "cell_type": "markdown",
   "id": "45a3b32c",
   "metadata": {},
   "source": [
    "#### splitting in 2d arrays"
   ]
  },
  {
   "cell_type": "code",
   "execution_count": 40,
   "id": "7fdad74f",
   "metadata": {},
   "outputs": [
    {
     "data": {
      "text/plain": [
       "array([[ 0,  1,  2,  3],\n",
       "       [ 4,  5,  6,  7],\n",
       "       [ 8,  9, 10, 11],\n",
       "       [12, 13, 14, 15],\n",
       "       [16, 17, 18, 19],\n",
       "       [20, 21, 22, 23],\n",
       "       [24, 25, 26, 27]])"
      ]
     },
     "execution_count": 40,
     "metadata": {},
     "output_type": "execute_result"
    }
   ],
   "source": [
    "arr = np.arange(28).reshape(7,4)\n",
    "arr"
   ]
  },
  {
   "cell_type": "code",
   "execution_count": 41,
   "id": "ef6d5520",
   "metadata": {},
   "outputs": [
    {
     "data": {
      "text/plain": [
       "[array([[0, 1, 2, 3],\n",
       "        [4, 5, 6, 7]]),\n",
       " array([[ 8,  9, 10, 11],\n",
       "        [12, 13, 14, 15],\n",
       "        [16, 17, 18, 19]]),\n",
       " array([[20, 21, 22, 23],\n",
       "        [24, 25, 26, 27]])]"
      ]
     },
     "execution_count": 41,
     "metadata": {},
     "output_type": "execute_result"
    }
   ],
   "source": [
    "## vertically split\n",
    "np.vsplit(arr,[2,5])"
   ]
  },
  {
   "cell_type": "code",
   "execution_count": 42,
   "id": "ecca4468",
   "metadata": {},
   "outputs": [],
   "source": [
    "v1 , v2 , v3 = np.vsplit(arr,[2,5])"
   ]
  },
  {
   "cell_type": "code",
   "execution_count": 43,
   "id": "8e76fa73",
   "metadata": {},
   "outputs": [
    {
     "data": {
      "text/plain": [
       "array([[0, 1, 2, 3],\n",
       "       [4, 5, 6, 7]])"
      ]
     },
     "execution_count": 43,
     "metadata": {},
     "output_type": "execute_result"
    }
   ],
   "source": [
    "v1"
   ]
  },
  {
   "cell_type": "code",
   "execution_count": 44,
   "id": "49f11306",
   "metadata": {},
   "outputs": [
    {
     "data": {
      "text/plain": [
       "array([[ 8,  9, 10, 11],\n",
       "       [12, 13, 14, 15],\n",
       "       [16, 17, 18, 19]])"
      ]
     },
     "execution_count": 44,
     "metadata": {},
     "output_type": "execute_result"
    }
   ],
   "source": [
    "v2"
   ]
  },
  {
   "cell_type": "code",
   "execution_count": 46,
   "id": "db37f495",
   "metadata": {},
   "outputs": [
    {
     "data": {
      "text/plain": [
       "array([[ 0,  1,  2,  3],\n",
       "       [ 4,  5,  6,  7],\n",
       "       [ 8,  9, 10, 11],\n",
       "       [12, 13, 14, 15],\n",
       "       [16, 17, 18, 19],\n",
       "       [20, 21, 22, 23],\n",
       "       [24, 25, 26, 27]])"
      ]
     },
     "execution_count": 46,
     "metadata": {},
     "output_type": "execute_result"
    }
   ],
   "source": [
    "arr"
   ]
  },
  {
   "cell_type": "code",
   "execution_count": 45,
   "id": "50d8ead7",
   "metadata": {},
   "outputs": [
    {
     "data": {
      "text/plain": [
       "[array([[ 0,  1],\n",
       "        [ 4,  5],\n",
       "        [ 8,  9],\n",
       "        [12, 13],\n",
       "        [16, 17],\n",
       "        [20, 21],\n",
       "        [24, 25]]),\n",
       " array([[ 2,  3],\n",
       "        [ 6,  7],\n",
       "        [10, 11],\n",
       "        [14, 15],\n",
       "        [18, 19],\n",
       "        [22, 23],\n",
       "        [26, 27]])]"
      ]
     },
     "execution_count": 45,
     "metadata": {},
     "output_type": "execute_result"
    }
   ],
   "source": [
    "## horizontal split\n",
    "np.hsplit(arr,[2])"
   ]
  },
  {
   "cell_type": "code",
   "execution_count": 47,
   "id": "2fc700cd",
   "metadata": {},
   "outputs": [],
   "source": [
    "h1 , h2 = np.hsplit(arr,[2])"
   ]
  },
  {
   "cell_type": "code",
   "execution_count": 48,
   "id": "0d8477f3",
   "metadata": {},
   "outputs": [
    {
     "data": {
      "text/plain": [
       "array([[ 0,  1],\n",
       "       [ 4,  5],\n",
       "       [ 8,  9],\n",
       "       [12, 13],\n",
       "       [16, 17],\n",
       "       [20, 21],\n",
       "       [24, 25]])"
      ]
     },
     "execution_count": 48,
     "metadata": {},
     "output_type": "execute_result"
    }
   ],
   "source": [
    "h1"
   ]
  },
  {
   "cell_type": "code",
   "execution_count": 49,
   "id": "b7b21532",
   "metadata": {},
   "outputs": [
    {
     "data": {
      "text/plain": [
       "array([[ 2,  3],\n",
       "       [ 6,  7],\n",
       "       [10, 11],\n",
       "       [14, 15],\n",
       "       [18, 19],\n",
       "       [22, 23],\n",
       "       [26, 27]])"
      ]
     },
     "execution_count": 49,
     "metadata": {},
     "output_type": "execute_result"
    }
   ],
   "source": [
    "h2"
   ]
  },
  {
   "cell_type": "markdown",
   "id": "2ab8551f",
   "metadata": {},
   "source": [
    "### subset"
   ]
  },
  {
   "cell_type": "code",
   "execution_count": 53,
   "id": "b1d6d02f",
   "metadata": {},
   "outputs": [
    {
     "data": {
      "text/plain": [
       "array([[14,  3, 11,  6, 14, 15],\n",
       "       [18,  9, 13,  4,  6,  2],\n",
       "       [12,  4,  7, 17, 17,  6],\n",
       "       [20, 19, 11, 18, 21, 18]])"
      ]
     },
     "execution_count": 53,
     "metadata": {},
     "output_type": "execute_result"
    }
   ],
   "source": [
    "import numpy as np\n",
    "\n",
    "np.random.seed(320)\n",
    "arr = np.random.randint(1,24,24).reshape(4,6)\n",
    "arr"
   ]
  },
  {
   "cell_type": "code",
   "execution_count": 58,
   "id": "b27dbd0e",
   "metadata": {},
   "outputs": [
    {
     "data": {
      "text/plain": [
       "array([[14,  3, 11],\n",
       "       [18,  9, 13]])"
      ]
     },
     "execution_count": 58,
     "metadata": {},
     "output_type": "execute_result"
    }
   ],
   "source": [
    "#arr[row,column]\n",
    "arr[0:2,0:3]"
   ]
  },
  {
   "cell_type": "code",
   "execution_count": 60,
   "id": "a14a1ba9",
   "metadata": {},
   "outputs": [
    {
     "data": {
      "text/plain": [
       "array([[14,  3, 11],\n",
       "       [18,  9, 13]])"
      ]
     },
     "execution_count": 60,
     "metadata": {},
     "output_type": "execute_result"
    }
   ],
   "source": [
    "sub_arr = arr[0:2,0:3]\n",
    "sub_arr"
   ]
  },
  {
   "cell_type": "code",
   "execution_count": 61,
   "id": "4aa04e63",
   "metadata": {},
   "outputs": [],
   "source": [
    "sub_arr[0,0] = 100"
   ]
  },
  {
   "cell_type": "code",
   "execution_count": 63,
   "id": "4f03a4fb",
   "metadata": {},
   "outputs": [
    {
     "data": {
      "text/plain": [
       "array([[100,   3,  11],\n",
       "       [ 18,   9,  13]])"
      ]
     },
     "execution_count": 63,
     "metadata": {},
     "output_type": "execute_result"
    }
   ],
   "source": [
    "sub_arr # change in subarray"
   ]
  },
  {
   "cell_type": "code",
   "execution_count": 65,
   "id": "c13a4ba5",
   "metadata": {},
   "outputs": [
    {
     "data": {
      "text/plain": [
       "array([[100,   3,  11,   6,  14,  15],\n",
       "       [ 18,   9,  13,   4,   6,   2],\n",
       "       [ 12,   4,   7,  17,  17,   6],\n",
       "       [ 20,  19,  11,  18,  21,  18]])"
      ]
     },
     "execution_count": 65,
     "metadata": {},
     "output_type": "execute_result"
    }
   ],
   "source": [
    "arr\n",
    "#when we make the changes in subset , main array will alsi get changed . in order to avoid it , we can use copy function"
   ]
  },
  {
   "cell_type": "markdown",
   "id": "4cc1e8fe",
   "metadata": {},
   "source": [
    "### copy()"
   ]
  },
  {
   "cell_type": "code",
   "execution_count": 66,
   "id": "fa982173",
   "metadata": {},
   "outputs": [
    {
     "data": {
      "text/plain": [
       "array([[100,   3,  11,   6,  14,  15],\n",
       "       [ 18,   9,  13,   4,   6,   2],\n",
       "       [ 12,   4,   7,  17,  17,   6],\n",
       "       [ 20,  19,  11,  18,  21,  18]])"
      ]
     },
     "execution_count": 66,
     "metadata": {},
     "output_type": "execute_result"
    }
   ],
   "source": [
    "arr"
   ]
  },
  {
   "cell_type": "code",
   "execution_count": 68,
   "id": "bab29eaf",
   "metadata": {},
   "outputs": [
    {
     "data": {
      "text/plain": [
       "array([[100,   3,  11],\n",
       "       [ 18,   9,  13]])"
      ]
     },
     "execution_count": 68,
     "metadata": {},
     "output_type": "execute_result"
    }
   ],
   "source": [
    "arr[0:2,0:3]"
   ]
  },
  {
   "cell_type": "code",
   "execution_count": 69,
   "id": "c2672126",
   "metadata": {},
   "outputs": [],
   "source": [
    "sub_arr = arr[0:2,0:3].copy()"
   ]
  },
  {
   "cell_type": "code",
   "execution_count": 70,
   "id": "213bff27",
   "metadata": {},
   "outputs": [
    {
     "data": {
      "text/plain": [
       "array([[100,   3,  11],\n",
       "       [ 18,   9,  13]])"
      ]
     },
     "execution_count": 70,
     "metadata": {},
     "output_type": "execute_result"
    }
   ],
   "source": [
    "sub_arr"
   ]
  },
  {
   "cell_type": "code",
   "execution_count": 72,
   "id": "229a790a",
   "metadata": {},
   "outputs": [],
   "source": [
    "sub_arr[0,0] = 200"
   ]
  },
  {
   "cell_type": "code",
   "execution_count": 76,
   "id": "d6f256c7",
   "metadata": {},
   "outputs": [
    {
     "data": {
      "text/plain": [
       "array([[200,   3,  11],\n",
       "       [ 18,   9,  13]])"
      ]
     },
     "execution_count": 76,
     "metadata": {},
     "output_type": "execute_result"
    }
   ],
   "source": [
    "sub_arr # sub array got changed"
   ]
  },
  {
   "cell_type": "code",
   "execution_count": 78,
   "id": "9b3f9ef1",
   "metadata": {},
   "outputs": [
    {
     "data": {
      "text/plain": [
       "array([[100,   3,  11,   6,  14,  15],\n",
       "       [ 18,   9,  13,   4,   6,   2],\n",
       "       [ 12,   4,   7,  17,  17,   6],\n",
       "       [ 20,  19,  11,  18,  21,  18]])"
      ]
     },
     "execution_count": 78,
     "metadata": {},
     "output_type": "execute_result"
    }
   ],
   "source": [
    "arr # but main array did not change , this is because we used copy function"
   ]
  },
  {
   "cell_type": "code",
   "execution_count": null,
   "id": "f30a2212",
   "metadata": {},
   "outputs": [],
   "source": []
  }
 ],
 "metadata": {
  "kernelspec": {
   "display_name": "Python 3 (ipykernel)",
   "language": "python",
   "name": "python3"
  },
  "language_info": {
   "codemirror_mode": {
    "name": "ipython",
    "version": 3
   },
   "file_extension": ".py",
   "mimetype": "text/x-python",
   "name": "python",
   "nbconvert_exporter": "python",
   "pygments_lexer": "ipython3",
   "version": "3.11.5"
  }
 },
 "nbformat": 4,
 "nbformat_minor": 5
}
