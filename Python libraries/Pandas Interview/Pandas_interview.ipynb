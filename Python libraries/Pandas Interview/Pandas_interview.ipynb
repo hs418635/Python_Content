{
 "cells": [
  {
   "cell_type": "code",
   "execution_count": 39,
   "id": "5842e80f-82ad-41f2-a453-3e89bea7b51e",
   "metadata": {},
   "outputs": [
    {
     "data": {
      "text/html": [
       "<div>\n",
       "<style scoped>\n",
       "    .dataframe tbody tr th:only-of-type {\n",
       "        vertical-align: middle;\n",
       "    }\n",
       "\n",
       "    .dataframe tbody tr th {\n",
       "        vertical-align: top;\n",
       "    }\n",
       "\n",
       "    .dataframe thead th {\n",
       "        text-align: right;\n",
       "    }\n",
       "</style>\n",
       "<table border=\"1\" class=\"dataframe\">\n",
       "  <thead>\n",
       "    <tr style=\"text-align: right;\">\n",
       "      <th></th>\n",
       "      <th>Numbers</th>\n",
       "    </tr>\n",
       "  </thead>\n",
       "  <tbody>\n",
       "    <tr>\n",
       "      <th>0</th>\n",
       "      <td>1</td>\n",
       "    </tr>\n",
       "    <tr>\n",
       "      <th>1</th>\n",
       "      <td>2</td>\n",
       "    </tr>\n",
       "    <tr>\n",
       "      <th>2</th>\n",
       "      <td>3</td>\n",
       "    </tr>\n",
       "    <tr>\n",
       "      <th>3</th>\n",
       "      <td>4</td>\n",
       "    </tr>\n",
       "    <tr>\n",
       "      <th>4</th>\n",
       "      <td>5</td>\n",
       "    </tr>\n",
       "  </tbody>\n",
       "</table>\n",
       "</div>"
      ],
      "text/plain": [
       "   Numbers\n",
       "0        1\n",
       "1        2\n",
       "2        3\n",
       "3        4\n",
       "4        5"
      ]
     },
     "execution_count": 39,
     "metadata": {},
     "output_type": "execute_result"
    }
   ],
   "source": [
    "# How do you create a DataFrame from a list and a dictionary? Provide an example.\n",
    "import pandas as pd\n",
    "lst = [1,2,3,4,5]\n",
    "df = pd.DataFrame(lst, columns=['Numbers'])\n",
    "df # using list "
   ]
  },
  {
   "cell_type": "code",
   "execution_count": 40,
   "id": "d0e8082d-f740-4e8b-82d8-274d68a8a34e",
   "metadata": {},
   "outputs": [
    {
     "data": {
      "text/html": [
       "<div>\n",
       "<style scoped>\n",
       "    .dataframe tbody tr th:only-of-type {\n",
       "        vertical-align: middle;\n",
       "    }\n",
       "\n",
       "    .dataframe tbody tr th {\n",
       "        vertical-align: top;\n",
       "    }\n",
       "\n",
       "    .dataframe thead th {\n",
       "        text-align: right;\n",
       "    }\n",
       "</style>\n",
       "<table border=\"1\" class=\"dataframe\">\n",
       "  <thead>\n",
       "    <tr style=\"text-align: right;\">\n",
       "      <th></th>\n",
       "      <th>name</th>\n",
       "      <th>age</th>\n",
       "    </tr>\n",
       "  </thead>\n",
       "  <tbody>\n",
       "    <tr>\n",
       "      <th>0</th>\n",
       "      <td>virat</td>\n",
       "      <td>35</td>\n",
       "    </tr>\n",
       "    <tr>\n",
       "      <th>1</th>\n",
       "      <td>rohit</td>\n",
       "      <td>45</td>\n",
       "    </tr>\n",
       "    <tr>\n",
       "      <th>2</th>\n",
       "      <td>ajay</td>\n",
       "      <td>65</td>\n",
       "    </tr>\n",
       "    <tr>\n",
       "      <th>3</th>\n",
       "      <td>karan</td>\n",
       "      <td>75</td>\n",
       "    </tr>\n",
       "    <tr>\n",
       "      <th>4</th>\n",
       "      <td>vijay</td>\n",
       "      <td>65</td>\n",
       "    </tr>\n",
       "    <tr>\n",
       "      <th>5</th>\n",
       "      <td>himanshu</td>\n",
       "      <td>45</td>\n",
       "    </tr>\n",
       "  </tbody>\n",
       "</table>\n",
       "</div>"
      ],
      "text/plain": [
       "       name  age\n",
       "0     virat   35\n",
       "1     rohit   45\n",
       "2      ajay   65\n",
       "3     karan   75\n",
       "4     vijay   65\n",
       "5  himanshu   45"
      ]
     },
     "execution_count": 40,
     "metadata": {},
     "output_type": "execute_result"
    }
   ],
   "source": [
    "profile = {\n",
    "    \"name\":[\"virat\",\"rohit\",\"ajay\", \"karan\",\"vijay\",\"himanshu\"],\n",
    "    'age':[35,45,65,75,65,45]\n",
    "}\n",
    "profile_df = pd.DataFrame(profile)\n",
    "profile_df # creating datarame using dictionary"
   ]
  },
  {
   "cell_type": "markdown",
   "id": "565c4f41-b34a-4fdc-8e45-592d24eae0ec",
   "metadata": {},
   "source": [
    "#### Finding Second highest salary or age from dataframe"
   ]
  },
  {
   "cell_type": "code",
   "execution_count": 42,
   "id": "6a909a81-4887-4f24-a01c-075d90f50640",
   "metadata": {},
   "outputs": [
    {
     "data": {
      "text/plain": [
       "0    35\n",
       "1    45\n",
       "2    65\n",
       "3    75\n",
       "Name: age, dtype: int64"
      ]
     },
     "execution_count": 42,
     "metadata": {},
     "output_type": "execute_result"
    }
   ],
   "source": [
    "unique_salary = profile_df['age'].drop_duplicates()\n",
    "unique_salary"
   ]
  },
  {
   "cell_type": "code",
   "execution_count": 43,
   "id": "d18517b7-8bcf-41c1-b7c5-6593ac38ef96",
   "metadata": {},
   "outputs": [
    {
     "data": {
      "text/plain": [
       "3    75\n",
       "2    65\n",
       "Name: age, dtype: int64"
      ]
     },
     "execution_count": 43,
     "metadata": {},
     "output_type": "execute_result"
    }
   ],
   "source": [
    "n_largest = unique_salary.nlargest(2)\n",
    "n_largest"
   ]
  },
  {
   "cell_type": "code",
   "execution_count": 44,
   "id": "f86cec17-9bfb-4ec6-a6cf-69299f7de740",
   "metadata": {},
   "outputs": [
    {
     "data": {
      "text/plain": [
       "np.int64(65)"
      ]
     },
     "execution_count": 44,
     "metadata": {},
     "output_type": "execute_result"
    }
   ],
   "source": [
    "second_largest = n_largest.iloc[-1]\n",
    "second_largest"
   ]
  },
  {
   "cell_type": "code",
   "execution_count": 45,
   "id": "65dc4394-d9f6-4eb1-b8d1-26c933196c45",
   "metadata": {},
   "outputs": [
    {
     "name": "stdout",
     "output_type": "stream",
     "text": [
      "65\n"
     ]
    }
   ],
   "source": [
    "# or in a single line\n",
    "\n",
    "second_largest = profile_df['age'].drop_duplicates().nlargest(2).iloc[-1]\n",
    "print(second_largest)"
   ]
  },
  {
   "cell_type": "raw",
   "id": "26433991-23e4-4eed-9b13-577450f5cb27",
   "metadata": {},
   "source": [
    "What are the key differences between Series and DataFrame?\n",
    "\n",
    "Feature\t    Series\t                DataFrame\n",
    "Structure\tOne-dimensional\t        Two-dimensional\n",
    "Data Type\tHomogeneous\t            Heterogeneous\n",
    "Indexing\tSingle index\t        Rows and columns\n",
    "Example\t    pd.Series([1, 2, 3])\tpd.DataFrame({\"A\": [1, 2]})"
   ]
  },
  {
   "cell_type": "raw",
   "id": "8631760e-88b3-4ba8-ac24-f8198338c42c",
   "metadata": {},
   "source": [
    " Explain the difference between loc[] and iloc[].\n",
    "Attribute\tloc[]\t                    iloc[]\n",
    "Indexing\tLabel-based\t                Integer-based\n",
    "Slicing\t    Inclusive of both bounds\tExclusive of upper bound\n",
    "Example\t    df.loc[2:4, 'col1']\t        df.iloc[2:4, 0]"
   ]
  },
  {
   "cell_type": "code",
   "execution_count": 46,
   "id": "d5e233b9-4273-4ac4-b617-55aaa61a1b24",
   "metadata": {},
   "outputs": [
    {
     "name": "stdout",
     "output_type": "stream",
     "text": [
      "After dropping missing rows:\n",
      "      A    B\n",
      "2  3.0  6.0\n",
      "\n",
      "After filling missing values:\n",
      "      A    B\n",
      "0  1.0  0.0\n",
      "1  0.0  5.0\n",
      "2  3.0  6.0\n",
      "\n",
      "After filling with column mean:\n",
      "      A    B\n",
      "0  1.0  5.5\n",
      "1  2.0  5.0\n",
      "2  3.0  6.0\n"
     ]
    }
   ],
   "source": [
    "# How do you handle missing data in a DataFrame?\n",
    "\n",
    "df = pd.DataFrame({\n",
    "    'A': [1, None, 3],\n",
    "    'B': [None, 5, 6]\n",
    "})\n",
    "\n",
    "# Drop rows with missing values\n",
    "df_dropped = df.dropna()\n",
    "print(\"After dropping missing rows:\\n\", df_dropped)\n",
    "\n",
    "# Fill missing values with a specific value\n",
    "df_filled = df.fillna(0)\n",
    "print(\"\\nAfter filling missing values:\\n\", df_filled)\n",
    "\n",
    "# Fill missing values with the column mean\n",
    "df_mean_filled = df.fillna(df.mean())\n",
    "print(\"\\nAfter filling with column mean:\\n\", df_mean_filled)"
   ]
  },
  {
   "cell_type": "markdown",
   "id": "87efcc4f-be22-4c18-92d1-d05275e7f76c",
   "metadata": {},
   "source": [
    "## Data Manipulation Questions"
   ]
  },
  {
   "cell_type": "code",
   "execution_count": 48,
   "id": "83e39324-975e-46d5-af47-01259969d5a5",
   "metadata": {},
   "outputs": [
    {
     "name": "stdout",
     "output_type": "stream",
     "text": [
      "      Name  Age\n",
      "2  Charlie   35\n"
     ]
    }
   ],
   "source": [
    "# How would you filter rows in a DataFrame based on column values?\n",
    "df = pd.DataFrame({\n",
    "    'Name': ['Alice', 'Bob', 'Charlie'],\n",
    "    'Age': [25, 30, 35]\n",
    "})\n",
    "\n",
    "# Filter rows where Age > 30\n",
    "filtered_df = df[df['Age'] > 30]\n",
    "print(filtered_df)"
   ]
  },
  {
   "cell_type": "code",
   "execution_count": 49,
   "id": "96b3d710-4e70-4199-9ab7-3ea5ac85d0bf",
   "metadata": {},
   "outputs": [
    {
     "name": "stdout",
     "output_type": "stream",
     "text": [
      "      Name  Age  Age_squared\n",
      "0    Alice   25          625\n",
      "1      Bob   30          900\n",
      "2  Charlie   35         1225\n",
      "      Name  Age  Age_squared Name_upper\n",
      "0    Alice   25          625      ALICE\n",
      "1      Bob   30          900        BOB\n",
      "2  Charlie   35         1225    CHARLIE\n",
      "   Age\n",
      "0   50\n",
      "1   60\n",
      "2   70\n"
     ]
    },
    {
     "name": "stderr",
     "output_type": "stream",
     "text": [
      "C:\\Users\\HIMANSHU SURYAVANSHI\\AppData\\Local\\Temp\\ipykernel_12476\\1660026600.py:17: FutureWarning: DataFrame.applymap has been deprecated. Use DataFrame.map instead.\n",
      "  print(df_numeric.applymap(lambda x: x * 2))\n"
     ]
    }
   ],
   "source": [
    "#  What is the difference between apply(), map(), and applymap() functions in Pandas?\n",
    "# Function\t    Scope\t            Usage\n",
    "# apply()\t    Column/Row\t    Apply function to rows/columns\n",
    "# map()\t        Series\t        Element-wise mapping\n",
    "# applymap()\tDataFrame\t    Element-wise mapping for DataFrame\n",
    "\n",
    "# Example for apply\n",
    "df['Age_squared'] = df['Age'].apply(lambda x: x ** 2)\n",
    "print(df)\n",
    "\n",
    "# Example for map\n",
    "df['Name_upper'] = df['Name'].map(str.upper)\n",
    "print(df)\n",
    "\n",
    "# Example for applymap\n",
    "df_numeric = df[['Age']]\n",
    "print(df_numeric.applymap(lambda x: x * 2))"
   ]
  },
  {
   "cell_type": "code",
   "execution_count": 50,
   "id": "b2f01911-efa6-4be0-b284-1ded9ca396ed",
   "metadata": {},
   "outputs": [
    {
     "data": {
      "text/html": [
       "<div>\n",
       "<style scoped>\n",
       "    .dataframe tbody tr th:only-of-type {\n",
       "        vertical-align: middle;\n",
       "    }\n",
       "\n",
       "    .dataframe tbody tr th {\n",
       "        vertical-align: top;\n",
       "    }\n",
       "\n",
       "    .dataframe thead th {\n",
       "        text-align: right;\n",
       "    }\n",
       "</style>\n",
       "<table border=\"1\" class=\"dataframe\">\n",
       "  <thead>\n",
       "    <tr style=\"text-align: right;\">\n",
       "      <th></th>\n",
       "      <th>Name</th>\n",
       "      <th>Age</th>\n",
       "      <th>Age_squared</th>\n",
       "      <th>Name_upper</th>\n",
       "      <th>Age_group</th>\n",
       "    </tr>\n",
       "  </thead>\n",
       "  <tbody>\n",
       "    <tr>\n",
       "      <th>0</th>\n",
       "      <td>Alice</td>\n",
       "      <td>25</td>\n",
       "      <td>625</td>\n",
       "      <td>ALICE</td>\n",
       "      <td>Youg</td>\n",
       "    </tr>\n",
       "    <tr>\n",
       "      <th>1</th>\n",
       "      <td>Bob</td>\n",
       "      <td>30</td>\n",
       "      <td>900</td>\n",
       "      <td>BOB</td>\n",
       "      <td>Adult</td>\n",
       "    </tr>\n",
       "    <tr>\n",
       "      <th>2</th>\n",
       "      <td>Charlie</td>\n",
       "      <td>35</td>\n",
       "      <td>1225</td>\n",
       "      <td>CHARLIE</td>\n",
       "      <td>Adult</td>\n",
       "    </tr>\n",
       "  </tbody>\n",
       "</table>\n",
       "</div>"
      ],
      "text/plain": [
       "      Name  Age  Age_squared Name_upper Age_group\n",
       "0    Alice   25          625      ALICE      Youg\n",
       "1      Bob   30          900        BOB     Adult\n",
       "2  Charlie   35         1225    CHARLIE     Adult"
      ]
     },
     "execution_count": 50,
     "metadata": {},
     "output_type": "execute_result"
    }
   ],
   "source": [
    "# . How do you add a new column to a DataFrame based on a condition?\n",
    "df['Age_group'] = df['Age'].apply(lambda x: 'Adult' if x>=30 else 'Youg')\n",
    "df"
   ]
  },
  {
   "cell_type": "code",
   "execution_count": 55,
   "id": "c42c178a-1915-4bc5-b05e-dde1fe181191",
   "metadata": {},
   "outputs": [
    {
     "data": {
      "text/html": [
       "<div>\n",
       "<style scoped>\n",
       "    .dataframe tbody tr th:only-of-type {\n",
       "        vertical-align: middle;\n",
       "    }\n",
       "\n",
       "    .dataframe tbody tr th {\n",
       "        vertical-align: top;\n",
       "    }\n",
       "\n",
       "    .dataframe thead th {\n",
       "        text-align: right;\n",
       "    }\n",
       "</style>\n",
       "<table border=\"1\" class=\"dataframe\">\n",
       "  <thead>\n",
       "    <tr style=\"text-align: right;\">\n",
       "      <th></th>\n",
       "      <th>ID</th>\n",
       "      <th>Name</th>\n",
       "      <th>Age</th>\n",
       "    </tr>\n",
       "  </thead>\n",
       "  <tbody>\n",
       "    <tr>\n",
       "      <th>0</th>\n",
       "      <td>1</td>\n",
       "      <td>Alice</td>\n",
       "      <td>NaN</td>\n",
       "    </tr>\n",
       "    <tr>\n",
       "      <th>1</th>\n",
       "      <td>2</td>\n",
       "      <td>Bob</td>\n",
       "      <td>30.0</td>\n",
       "    </tr>\n",
       "    <tr>\n",
       "      <th>2</th>\n",
       "      <td>3</td>\n",
       "      <td>Charlie</td>\n",
       "      <td>35.0</td>\n",
       "    </tr>\n",
       "  </tbody>\n",
       "</table>\n",
       "</div>"
      ],
      "text/plain": [
       "   ID     Name   Age\n",
       "0   1    Alice   NaN\n",
       "1   2      Bob  30.0\n",
       "2   3  Charlie  35.0"
      ]
     },
     "execution_count": 55,
     "metadata": {},
     "output_type": "execute_result"
    }
   ],
   "source": [
    " # Explain how to merge, join, and concatenate DataFrames. Provide examples.\n",
    "df1 = pd.DataFrame({'ID': [1, 2, 3], 'Name': ['Alice', 'Bob', 'Charlie']})\n",
    "df2 = pd.DataFrame({'ID': [2, 3, 4], 'Age': [30, 35, 40]})\n",
    "\n",
    "df_merged = pd.merge(\n",
    "    df1, df2,\n",
    "    on='ID',\n",
    "    how='left'\n",
    ")\n",
    "df_merged"
   ]
  },
  {
   "cell_type": "code",
   "execution_count": 56,
   "id": "2eca3c61-9ed5-42c2-b78f-a124cc6d1675",
   "metadata": {},
   "outputs": [
    {
     "data": {
      "text/html": [
       "<div>\n",
       "<style scoped>\n",
       "    .dataframe tbody tr th:only-of-type {\n",
       "        vertical-align: middle;\n",
       "    }\n",
       "\n",
       "    .dataframe tbody tr th {\n",
       "        vertical-align: top;\n",
       "    }\n",
       "\n",
       "    .dataframe thead th {\n",
       "        text-align: right;\n",
       "    }\n",
       "</style>\n",
       "<table border=\"1\" class=\"dataframe\">\n",
       "  <thead>\n",
       "    <tr style=\"text-align: right;\">\n",
       "      <th></th>\n",
       "      <th>ID</th>\n",
       "      <th>Name</th>\n",
       "      <th>Age</th>\n",
       "    </tr>\n",
       "  </thead>\n",
       "  <tbody>\n",
       "    <tr>\n",
       "      <th>0</th>\n",
       "      <td>1</td>\n",
       "      <td>Alice</td>\n",
       "      <td>NaN</td>\n",
       "    </tr>\n",
       "    <tr>\n",
       "      <th>1</th>\n",
       "      <td>2</td>\n",
       "      <td>Bob</td>\n",
       "      <td>NaN</td>\n",
       "    </tr>\n",
       "    <tr>\n",
       "      <th>2</th>\n",
       "      <td>3</td>\n",
       "      <td>Charlie</td>\n",
       "      <td>NaN</td>\n",
       "    </tr>\n",
       "    <tr>\n",
       "      <th>3</th>\n",
       "      <td>2</td>\n",
       "      <td>NaN</td>\n",
       "      <td>30.0</td>\n",
       "    </tr>\n",
       "    <tr>\n",
       "      <th>4</th>\n",
       "      <td>3</td>\n",
       "      <td>NaN</td>\n",
       "      <td>35.0</td>\n",
       "    </tr>\n",
       "    <tr>\n",
       "      <th>5</th>\n",
       "      <td>4</td>\n",
       "      <td>NaN</td>\n",
       "      <td>40.0</td>\n",
       "    </tr>\n",
       "  </tbody>\n",
       "</table>\n",
       "</div>"
      ],
      "text/plain": [
       "   ID     Name   Age\n",
       "0   1    Alice   NaN\n",
       "1   2      Bob   NaN\n",
       "2   3  Charlie   NaN\n",
       "3   2      NaN  30.0\n",
       "4   3      NaN  35.0\n",
       "5   4      NaN  40.0"
      ]
     },
     "execution_count": 56,
     "metadata": {},
     "output_type": "execute_result"
    }
   ],
   "source": [
    "concat_df = pd.concat(\n",
    "    [df1,df2],\n",
    "    axis=0,\n",
    "    ignore_index=True\n",
    ")\n",
    "concat_df"
   ]
  },
  {
   "cell_type": "code",
   "execution_count": 58,
   "id": "95db7037-64cc-4449-af9f-d61b3600ede4",
   "metadata": {},
   "outputs": [
    {
     "ename": "NameError",
     "evalue": "name 'ref_df' is not defined",
     "output_type": "error",
     "traceback": [
      "\u001b[1;31m---------------------------------------------------------------------------\u001b[0m",
      "\u001b[1;31mNameError\u001b[0m                                 Traceback (most recent call last)",
      "Cell \u001b[1;32mIn[58], line 2\u001b[0m\n\u001b[0;32m      1\u001b[0m merged_df \u001b[38;5;241m=\u001b[39m filtered_df\u001b[38;5;241m.\u001b[39mmerge(\n\u001b[1;32m----> 2\u001b[0m             \u001b[43mref_df\u001b[49m,\n\u001b[0;32m      3\u001b[0m             left_on\u001b[38;5;241m=\u001b[39m[\u001b[38;5;124m'\u001b[39m\u001b[38;5;124mBELNR\u001b[39m\u001b[38;5;124m'\u001b[39m, \u001b[38;5;124m'\u001b[39m\u001b[38;5;124mBUZEI\u001b[39m\u001b[38;5;124m'\u001b[39m],\n\u001b[0;32m      4\u001b[0m             right_on\u001b[38;5;241m=\u001b[39m[\u001b[38;5;124m'\u001b[39m\u001b[38;5;124mLFBNR\u001b[39m\u001b[38;5;124m'\u001b[39m, \u001b[38;5;124m'\u001b[39m\u001b[38;5;124mLFPOS\u001b[39m\u001b[38;5;124m'\u001b[39m],\n\u001b[0;32m      5\u001b[0m             how\u001b[38;5;241m=\u001b[39m\u001b[38;5;124m'\u001b[39m\u001b[38;5;124minner\u001b[39m\u001b[38;5;124m'\u001b[39m\n\u001b[0;32m      6\u001b[0m         ) \u001b[38;5;66;03m# this syntax when we have to merge on different columns\u001b[39;00m\n",
      "\u001b[1;31mNameError\u001b[0m: name 'ref_df' is not defined"
     ]
    }
   ],
   "source": [
    "merged_df = filtered_df.merge(\n",
    "            ref_df,\n",
    "            left_on=['BELNR', 'BUZEI'],\n",
    "            right_on=['LFBNR', 'LFPOS'],\n",
    "            how='inner'\n",
    "        ) # this syntax when we have to merge on different columns"
   ]
  },
  {
   "cell_type": "code",
   "execution_count": 80,
   "id": "9be0f27d-44b3-48e4-aca3-e4944879d3b2",
   "metadata": {},
   "outputs": [
    {
     "data": {
      "text/html": [
       "<div>\n",
       "<style scoped>\n",
       "    .dataframe tbody tr th:only-of-type {\n",
       "        vertical-align: middle;\n",
       "    }\n",
       "\n",
       "    .dataframe tbody tr th {\n",
       "        vertical-align: top;\n",
       "    }\n",
       "\n",
       "    .dataframe thead th {\n",
       "        text-align: right;\n",
       "    }\n",
       "</style>\n",
       "<table border=\"1\" class=\"dataframe\">\n",
       "  <thead>\n",
       "    <tr style=\"text-align: right;\">\n",
       "      <th></th>\n",
       "      <th>Name</th>\n",
       "      <th>Department</th>\n",
       "      <th>Salary</th>\n",
       "    </tr>\n",
       "  </thead>\n",
       "  <tbody>\n",
       "    <tr>\n",
       "      <th>0</th>\n",
       "      <td>Alice</td>\n",
       "      <td>HR</td>\n",
       "      <td>50000</td>\n",
       "    </tr>\n",
       "    <tr>\n",
       "      <th>1</th>\n",
       "      <td>Bob</td>\n",
       "      <td>IT</td>\n",
       "      <td>60000</td>\n",
       "    </tr>\n",
       "    <tr>\n",
       "      <th>2</th>\n",
       "      <td>Charlie</td>\n",
       "      <td>HR</td>\n",
       "      <td>55000</td>\n",
       "    </tr>\n",
       "    <tr>\n",
       "      <th>3</th>\n",
       "      <td>David</td>\n",
       "      <td>IT</td>\n",
       "      <td>65000</td>\n",
       "    </tr>\n",
       "    <tr>\n",
       "      <th>4</th>\n",
       "      <td>Eva</td>\n",
       "      <td>Sales</td>\n",
       "      <td>70000</td>\n",
       "    </tr>\n",
       "    <tr>\n",
       "      <th>5</th>\n",
       "      <td>jiva</td>\n",
       "      <td>Data Sciene</td>\n",
       "      <td>65000</td>\n",
       "    </tr>\n",
       "  </tbody>\n",
       "</table>\n",
       "</div>"
      ],
      "text/plain": [
       "      Name   Department  Salary\n",
       "0    Alice           HR   50000\n",
       "1      Bob           IT   60000\n",
       "2  Charlie           HR   55000\n",
       "3    David           IT   65000\n",
       "4      Eva        Sales   70000\n",
       "5     jiva  Data Sciene   65000"
      ]
     },
     "execution_count": 80,
     "metadata": {},
     "output_type": "execute_result"
    }
   ],
   "source": [
    " # 1.How do you use groupby() in Pandas? Provide an example.\n",
    "import pandas as pd\n",
    "\n",
    "# Sample data\n",
    "df = pd.DataFrame({\n",
    "    'Name': ['Alice', 'Bob', 'Charlie', 'David', 'Eva', 'jiva'],\n",
    "    'Department': ['HR', 'IT', 'HR', 'IT', 'Sales', 'Data Sciene'],\n",
    "    'Salary': [50000, 60000, 55000, 65000, 70000, 65000]\n",
    "})\n",
    "df"
   ]
  },
  {
   "cell_type": "code",
   "execution_count": 81,
   "id": "0c17d466-1547-4e06-ac6d-dc168a9e6ab4",
   "metadata": {},
   "outputs": [
    {
     "data": {
      "text/html": [
       "<div>\n",
       "<style scoped>\n",
       "    .dataframe tbody tr th:only-of-type {\n",
       "        vertical-align: middle;\n",
       "    }\n",
       "\n",
       "    .dataframe tbody tr th {\n",
       "        vertical-align: top;\n",
       "    }\n",
       "\n",
       "    .dataframe thead th {\n",
       "        text-align: right;\n",
       "    }\n",
       "</style>\n",
       "<table border=\"1\" class=\"dataframe\">\n",
       "  <thead>\n",
       "    <tr style=\"text-align: right;\">\n",
       "      <th></th>\n",
       "      <th>Department</th>\n",
       "      <th>Salary</th>\n",
       "    </tr>\n",
       "  </thead>\n",
       "  <tbody>\n",
       "    <tr>\n",
       "      <th>0</th>\n",
       "      <td>Data Sciene</td>\n",
       "      <td>65000</td>\n",
       "    </tr>\n",
       "    <tr>\n",
       "      <th>1</th>\n",
       "      <td>HR</td>\n",
       "      <td>105000</td>\n",
       "    </tr>\n",
       "    <tr>\n",
       "      <th>2</th>\n",
       "      <td>IT</td>\n",
       "      <td>125000</td>\n",
       "    </tr>\n",
       "    <tr>\n",
       "      <th>3</th>\n",
       "      <td>Sales</td>\n",
       "      <td>70000</td>\n",
       "    </tr>\n",
       "  </tbody>\n",
       "</table>\n",
       "</div>"
      ],
      "text/plain": [
       "    Department  Salary\n",
       "0  Data Sciene   65000\n",
       "1           HR  105000\n",
       "2           IT  125000\n",
       "3        Sales   70000"
      ]
     },
     "execution_count": 81,
     "metadata": {},
     "output_type": "execute_result"
    }
   ],
   "source": [
    "df_grouped = df.groupby('Department')['Salary'].sum().reset_index()\n",
    "df_grouped"
   ]
  },
  {
   "cell_type": "code",
   "execution_count": 82,
   "id": "62445c97-6b43-4124-a056-7db586dc4bf8",
   "metadata": {},
   "outputs": [
    {
     "data": {
      "text/html": [
       "<div>\n",
       "<style scoped>\n",
       "    .dataframe tbody tr th:only-of-type {\n",
       "        vertical-align: middle;\n",
       "    }\n",
       "\n",
       "    .dataframe tbody tr th {\n",
       "        vertical-align: top;\n",
       "    }\n",
       "\n",
       "    .dataframe thead tr th {\n",
       "        text-align: left;\n",
       "    }\n",
       "</style>\n",
       "<table border=\"1\" class=\"dataframe\">\n",
       "  <thead>\n",
       "    <tr>\n",
       "      <th></th>\n",
       "      <th>Department</th>\n",
       "      <th colspan=\"2\" halign=\"left\">Salary</th>\n",
       "    </tr>\n",
       "    <tr>\n",
       "      <th></th>\n",
       "      <th></th>\n",
       "      <th>mean</th>\n",
       "      <th>sum</th>\n",
       "    </tr>\n",
       "  </thead>\n",
       "  <tbody>\n",
       "    <tr>\n",
       "      <th>0</th>\n",
       "      <td>Data Sciene</td>\n",
       "      <td>65000.0</td>\n",
       "      <td>65000</td>\n",
       "    </tr>\n",
       "    <tr>\n",
       "      <th>1</th>\n",
       "      <td>HR</td>\n",
       "      <td>52500.0</td>\n",
       "      <td>105000</td>\n",
       "    </tr>\n",
       "    <tr>\n",
       "      <th>2</th>\n",
       "      <td>IT</td>\n",
       "      <td>62500.0</td>\n",
       "      <td>125000</td>\n",
       "    </tr>\n",
       "    <tr>\n",
       "      <th>3</th>\n",
       "      <td>Sales</td>\n",
       "      <td>70000.0</td>\n",
       "      <td>70000</td>\n",
       "    </tr>\n",
       "  </tbody>\n",
       "</table>\n",
       "</div>"
      ],
      "text/plain": [
       "    Department   Salary        \n",
       "                   mean     sum\n",
       "0  Data Sciene  65000.0   65000\n",
       "1           HR  52500.0  105000\n",
       "2           IT  62500.0  125000\n",
       "3        Sales  70000.0   70000"
      ]
     },
     "execution_count": 82,
     "metadata": {},
     "output_type": "execute_result"
    }
   ],
   "source": [
    "# 2.group by with multiple aggregations\n",
    "df_grouped = df.groupby('Department').agg({'Salary':['mean','sum']}).reset_index()\n",
    "df_grouped"
   ]
  },
  {
   "cell_type": "code",
   "execution_count": 84,
   "id": "4c1e2c31-1dc2-494a-a9c1-f3b91308845e",
   "metadata": {},
   "outputs": [
    {
     "data": {
      "text/html": [
       "<div>\n",
       "<style scoped>\n",
       "    .dataframe tbody tr th:only-of-type {\n",
       "        vertical-align: middle;\n",
       "    }\n",
       "\n",
       "    .dataframe tbody tr th {\n",
       "        vertical-align: top;\n",
       "    }\n",
       "\n",
       "    .dataframe thead th {\n",
       "        text-align: right;\n",
       "    }\n",
       "</style>\n",
       "<table border=\"1\" class=\"dataframe\">\n",
       "  <thead>\n",
       "    <tr style=\"text-align: right;\">\n",
       "      <th></th>\n",
       "      <th>Name</th>\n",
       "      <th>Department</th>\n",
       "      <th>Salary</th>\n",
       "    </tr>\n",
       "  </thead>\n",
       "  <tbody>\n",
       "    <tr>\n",
       "      <th>0</th>\n",
       "      <td>Alice</td>\n",
       "      <td>HR</td>\n",
       "      <td>50000</td>\n",
       "    </tr>\n",
       "    <tr>\n",
       "      <th>1</th>\n",
       "      <td>Bob</td>\n",
       "      <td>IT</td>\n",
       "      <td>60000</td>\n",
       "    </tr>\n",
       "    <tr>\n",
       "      <th>2</th>\n",
       "      <td>Charlie</td>\n",
       "      <td>HR</td>\n",
       "      <td>55000</td>\n",
       "    </tr>\n",
       "    <tr>\n",
       "      <th>3</th>\n",
       "      <td>David</td>\n",
       "      <td>IT</td>\n",
       "      <td>65000</td>\n",
       "    </tr>\n",
       "  </tbody>\n",
       "</table>\n",
       "</div>"
      ],
      "text/plain": [
       "      Name Department  Salary\n",
       "0    Alice         HR   50000\n",
       "1      Bob         IT   60000\n",
       "2  Charlie         HR   55000\n",
       "3    David         IT   65000"
      ]
     },
     "execution_count": 84,
     "metadata": {},
     "output_type": "execute_result"
    }
   ],
   "source": [
    "# 3.How do you filter groups using filter() (like SQL HAVING)?\n",
    "df_grouped = df.groupby('Department').filter(lambda x: x['Salary'].sum()>70000)\n",
    "df_grouped"
   ]
  },
  {
   "cell_type": "code",
   "execution_count": 85,
   "id": "15103adc-f98d-4814-9bff-be1c012be5b1",
   "metadata": {},
   "outputs": [
    {
     "data": {
      "text/html": [
       "<div>\n",
       "<style scoped>\n",
       "    .dataframe tbody tr th:only-of-type {\n",
       "        vertical-align: middle;\n",
       "    }\n",
       "\n",
       "    .dataframe tbody tr th {\n",
       "        vertical-align: top;\n",
       "    }\n",
       "\n",
       "    .dataframe thead th {\n",
       "        text-align: right;\n",
       "    }\n",
       "</style>\n",
       "<table border=\"1\" class=\"dataframe\">\n",
       "  <thead>\n",
       "    <tr style=\"text-align: right;\">\n",
       "      <th></th>\n",
       "      <th>Name</th>\n",
       "      <th>Department</th>\n",
       "      <th>Salary</th>\n",
       "    </tr>\n",
       "  </thead>\n",
       "  <tbody>\n",
       "    <tr>\n",
       "      <th>4</th>\n",
       "      <td>Eva</td>\n",
       "      <td>Sales</td>\n",
       "      <td>70000</td>\n",
       "    </tr>\n",
       "    <tr>\n",
       "      <th>3</th>\n",
       "      <td>David</td>\n",
       "      <td>IT</td>\n",
       "      <td>65000</td>\n",
       "    </tr>\n",
       "    <tr>\n",
       "      <th>5</th>\n",
       "      <td>jiva</td>\n",
       "      <td>Data Sciene</td>\n",
       "      <td>65000</td>\n",
       "    </tr>\n",
       "    <tr>\n",
       "      <th>1</th>\n",
       "      <td>Bob</td>\n",
       "      <td>IT</td>\n",
       "      <td>60000</td>\n",
       "    </tr>\n",
       "    <tr>\n",
       "      <th>2</th>\n",
       "      <td>Charlie</td>\n",
       "      <td>HR</td>\n",
       "      <td>55000</td>\n",
       "    </tr>\n",
       "    <tr>\n",
       "      <th>0</th>\n",
       "      <td>Alice</td>\n",
       "      <td>HR</td>\n",
       "      <td>50000</td>\n",
       "    </tr>\n",
       "  </tbody>\n",
       "</table>\n",
       "</div>"
      ],
      "text/plain": [
       "      Name   Department  Salary\n",
       "4      Eva        Sales   70000\n",
       "3    David           IT   65000\n",
       "5     jiva  Data Sciene   65000\n",
       "1      Bob           IT   60000\n",
       "2  Charlie           HR   55000\n",
       "0    Alice           HR   50000"
      ]
     },
     "execution_count": 85,
     "metadata": {},
     "output_type": "execute_result"
    }
   ],
   "source": [
    "# 4. How do you use order by (sorting) in Pandas?\n",
    "sorted_df = df.sort_values(by='Salary', ascending=False)\n",
    "sorted_df"
   ]
  },
  {
   "cell_type": "code",
   "execution_count": 86,
   "id": "0cd2fb87-64f0-43dd-8394-7a88e5586ec7",
   "metadata": {},
   "outputs": [
    {
     "data": {
      "text/html": [
       "<div>\n",
       "<style scoped>\n",
       "    .dataframe tbody tr th:only-of-type {\n",
       "        vertical-align: middle;\n",
       "    }\n",
       "\n",
       "    .dataframe tbody tr th {\n",
       "        vertical-align: top;\n",
       "    }\n",
       "\n",
       "    .dataframe thead th {\n",
       "        text-align: right;\n",
       "    }\n",
       "</style>\n",
       "<table border=\"1\" class=\"dataframe\">\n",
       "  <thead>\n",
       "    <tr style=\"text-align: right;\">\n",
       "      <th></th>\n",
       "      <th>Salary</th>\n",
       "    </tr>\n",
       "    <tr>\n",
       "      <th>Department</th>\n",
       "      <th></th>\n",
       "    </tr>\n",
       "  </thead>\n",
       "  <tbody>\n",
       "    <tr>\n",
       "      <th>Data Sciene</th>\n",
       "      <td>65000</td>\n",
       "    </tr>\n",
       "    <tr>\n",
       "      <th>HR</th>\n",
       "      <td>105000</td>\n",
       "    </tr>\n",
       "    <tr>\n",
       "      <th>IT</th>\n",
       "      <td>125000</td>\n",
       "    </tr>\n",
       "    <tr>\n",
       "      <th>Sales</th>\n",
       "      <td>70000</td>\n",
       "    </tr>\n",
       "  </tbody>\n",
       "</table>\n",
       "</div>"
      ],
      "text/plain": [
       "             Salary\n",
       "Department         \n",
       "Data Sciene   65000\n",
       "HR           105000\n",
       "IT           125000\n",
       "Sales         70000"
      ]
     },
     "execution_count": 86,
     "metadata": {},
     "output_type": "execute_result"
    }
   ],
   "source": [
    "# 5. How do you create a pivot table in Pandas?\n",
    "pivot_table = df.pivot_table(\n",
    "    values='Salary',\n",
    "    index='Department',\n",
    "    aggfunc='sum'\n",
    ")\n",
    "pivot_table"
   ]
  },
  {
   "cell_type": "code",
   "execution_count": 90,
   "id": "1f0b5954-8bda-4e40-a531-a65d7bc1a4bd",
   "metadata": {},
   "outputs": [
    {
     "data": {
      "text/html": [
       "<div>\n",
       "<style scoped>\n",
       "    .dataframe tbody tr th:only-of-type {\n",
       "        vertical-align: middle;\n",
       "    }\n",
       "\n",
       "    .dataframe tbody tr th {\n",
       "        vertical-align: top;\n",
       "    }\n",
       "\n",
       "    .dataframe thead th {\n",
       "        text-align: right;\n",
       "    }\n",
       "</style>\n",
       "<table border=\"1\" class=\"dataframe\">\n",
       "  <thead>\n",
       "    <tr style=\"text-align: right;\">\n",
       "      <th></th>\n",
       "      <th>Name</th>\n",
       "      <th>Department</th>\n",
       "      <th>Salary</th>\n",
       "    </tr>\n",
       "  </thead>\n",
       "  <tbody>\n",
       "    <tr>\n",
       "      <th>1</th>\n",
       "      <td>Bob</td>\n",
       "      <td>IT</td>\n",
       "      <td>60000</td>\n",
       "    </tr>\n",
       "    <tr>\n",
       "      <th>3</th>\n",
       "      <td>David</td>\n",
       "      <td>IT</td>\n",
       "      <td>65000</td>\n",
       "    </tr>\n",
       "  </tbody>\n",
       "</table>\n",
       "</div>"
      ],
      "text/plain": [
       "    Name Department  Salary\n",
       "1    Bob         IT   60000\n",
       "3  David         IT   65000"
      ]
     },
     "execution_count": 90,
     "metadata": {},
     "output_type": "execute_result"
    }
   ],
   "source": [
    "# 6. How do you use where conditions in Pandas (SQL-like filtering)?\n",
    "filtered_df = df[(df['Department']=='IT') & (df[\"Salary\"]>6000)]\n",
    "filtered_df"
   ]
  },
  {
   "cell_type": "code",
   "execution_count": 91,
   "id": "c428c8f6-8797-4490-a72b-e4d553a2e8f8",
   "metadata": {},
   "outputs": [
    {
     "data": {
      "text/html": [
       "<div>\n",
       "<style scoped>\n",
       "    .dataframe tbody tr th:only-of-type {\n",
       "        vertical-align: middle;\n",
       "    }\n",
       "\n",
       "    .dataframe tbody tr th {\n",
       "        vertical-align: top;\n",
       "    }\n",
       "\n",
       "    .dataframe thead th {\n",
       "        text-align: right;\n",
       "    }\n",
       "</style>\n",
       "<table border=\"1\" class=\"dataframe\">\n",
       "  <thead>\n",
       "    <tr style=\"text-align: right;\">\n",
       "      <th></th>\n",
       "      <th>Name</th>\n",
       "      <th>Department</th>\n",
       "      <th>Salary</th>\n",
       "      <th>Average_salry_by_Dept</th>\n",
       "    </tr>\n",
       "  </thead>\n",
       "  <tbody>\n",
       "    <tr>\n",
       "      <th>0</th>\n",
       "      <td>Alice</td>\n",
       "      <td>HR</td>\n",
       "      <td>50000</td>\n",
       "      <td>52500.0</td>\n",
       "    </tr>\n",
       "    <tr>\n",
       "      <th>1</th>\n",
       "      <td>Bob</td>\n",
       "      <td>IT</td>\n",
       "      <td>60000</td>\n",
       "      <td>62500.0</td>\n",
       "    </tr>\n",
       "    <tr>\n",
       "      <th>2</th>\n",
       "      <td>Charlie</td>\n",
       "      <td>HR</td>\n",
       "      <td>55000</td>\n",
       "      <td>52500.0</td>\n",
       "    </tr>\n",
       "    <tr>\n",
       "      <th>3</th>\n",
       "      <td>David</td>\n",
       "      <td>IT</td>\n",
       "      <td>65000</td>\n",
       "      <td>62500.0</td>\n",
       "    </tr>\n",
       "    <tr>\n",
       "      <th>4</th>\n",
       "      <td>Eva</td>\n",
       "      <td>Sales</td>\n",
       "      <td>70000</td>\n",
       "      <td>70000.0</td>\n",
       "    </tr>\n",
       "    <tr>\n",
       "      <th>5</th>\n",
       "      <td>jiva</td>\n",
       "      <td>Data Sciene</td>\n",
       "      <td>65000</td>\n",
       "      <td>65000.0</td>\n",
       "    </tr>\n",
       "  </tbody>\n",
       "</table>\n",
       "</div>"
      ],
      "text/plain": [
       "      Name   Department  Salary  Average_salry_by_Dept\n",
       "0    Alice           HR   50000                52500.0\n",
       "1      Bob           IT   60000                62500.0\n",
       "2  Charlie           HR   55000                52500.0\n",
       "3    David           IT   65000                62500.0\n",
       "4      Eva        Sales   70000                70000.0\n",
       "5     jiva  Data Sciene   65000                65000.0"
      ]
     },
     "execution_count": 91,
     "metadata": {},
     "output_type": "execute_result"
    }
   ],
   "source": [
    "# 7. How do you use .transform() in groupby() to broadcast group-wise calculations?\n",
    "df['Average_salry_by_Dept'] = df.groupby('Department')['Salary'].transform('mean')\n",
    "df"
   ]
  },
  {
   "cell_type": "code",
   "execution_count": null,
   "id": "3eb1cb76-2149-4fff-97be-fe7518eb05b6",
   "metadata": {},
   "outputs": [],
   "source": []
  }
 ],
 "metadata": {
  "kernelspec": {
   "display_name": "Python 3 (ipykernel)",
   "language": "python",
   "name": "python3"
  },
  "language_info": {
   "codemirror_mode": {
    "name": "ipython",
    "version": 3
   },
   "file_extension": ".py",
   "mimetype": "text/x-python",
   "name": "python",
   "nbconvert_exporter": "python",
   "pygments_lexer": "ipython3",
   "version": "3.12.7"
  }
 },
 "nbformat": 4,
 "nbformat_minor": 5
}
