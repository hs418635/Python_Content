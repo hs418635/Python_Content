{
 "cells": [
  {
   "cell_type": "code",
   "execution_count": 14,
   "id": "9754d621-6bb2-4f5e-9fb1-2bcd2119b76a",
   "metadata": {},
   "outputs": [
    {
     "name": "stdout",
     "output_type": "stream",
     "text": [
      "[11, 12, 22, 25, 34, 90, 120]\n"
     ]
    }
   ],
   "source": [
    "def bubble_sort(arr):\n",
    "    size = len(arr)\n",
    "\n",
    "    for passess in range(0,size):\n",
    "        for i in range(0,size-1):\n",
    "            if arr[i] > arr[i+1]:\n",
    "                arr[i], arr[i+1] = arr[i+1], arr[i]\n",
    "    return arr\n",
    "\n",
    "unsorted_arr = [120,12, 25, 11, 34, 90, 22]\n",
    "sorted_arr = bubble_sort(unsorted_arr)\n",
    "print(sorted_arr)"
   ]
  },
  {
   "cell_type": "code",
   "execution_count": null,
   "id": "eb0e4fe4-deae-4909-8cae-071fc6b1a99f",
   "metadata": {},
   "outputs": [],
   "source": []
  },
  {
   "cell_type": "code",
   "execution_count": null,
   "id": "5e3b186d-9f28-48b8-b749-654ef5749395",
   "metadata": {},
   "outputs": [],
   "source": []
  },
  {
   "cell_type": "code",
   "execution_count": null,
   "id": "38e857a2-d3ce-4223-911c-7882436b4c3a",
   "metadata": {},
   "outputs": [],
   "source": []
  },
  {
   "cell_type": "code",
   "execution_count": null,
   "id": "441289d6-73b0-4e3c-9686-8ecf5004234d",
   "metadata": {},
   "outputs": [],
   "source": []
  },
  {
   "cell_type": "code",
   "execution_count": null,
   "id": "19412990-f8c6-40e0-9e8a-10a00620142e",
   "metadata": {},
   "outputs": [],
   "source": []
  },
  {
   "cell_type": "code",
   "execution_count": null,
   "id": "e98d80f3-bee7-4ac2-84bd-b93910a4141f",
   "metadata": {},
   "outputs": [],
   "source": []
  }
 ],
 "metadata": {
  "kernelspec": {
   "display_name": "Python 3 (ipykernel)",
   "language": "python",
   "name": "python3"
  },
  "language_info": {
   "codemirror_mode": {
    "name": "ipython",
    "version": 3
   },
   "file_extension": ".py",
   "mimetype": "text/x-python",
   "name": "python",
   "nbconvert_exporter": "python",
   "pygments_lexer": "ipython3",
   "version": "3.12.7"
  }
 },
 "nbformat": 4,
 "nbformat_minor": 5
}
