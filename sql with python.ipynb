{
 "cells": [
  {
   "cell_type": "code",
   "execution_count": 6,
   "id": "2798fc29",
   "metadata": {},
   "outputs": [],
   "source": [
    "#connecting mysql with python\n",
    "import mysql.connector"
   ]
  },
  {
   "cell_type": "code",
   "execution_count": 7,
   "id": "07c7a8fb",
   "metadata": {},
   "outputs": [
    {
     "name": "stdout",
     "output_type": "stream",
     "text": [
      "10\n"
     ]
    }
   ],
   "source": [
    "mydb=mysql.connector.connect(host='localhost',user='root',password='1234')\n",
    "print(mydb.connection_id)"
   ]
  },
  {
   "cell_type": "code",
   "execution_count": 9,
   "id": "0abc3435",
   "metadata": {},
   "outputs": [],
   "source": [
    "#creating database\n",
    "cur=mydb.cursor()\n",
    "cur.execute(\"CREATE DATABASE db2\")"
   ]
  },
  {
   "cell_type": "markdown",
   "id": "5580a877",
   "metadata": {},
   "source": [
    "## selecting db1"
   ]
  },
  {
   "cell_type": "code",
   "execution_count": 15,
   "id": "56cdfc96",
   "metadata": {},
   "outputs": [],
   "source": [
    "#connecting mysql with python\n",
    "import mysql.connector"
   ]
  },
  {
   "cell_type": "code",
   "execution_count": 17,
   "id": "0c91c2fc",
   "metadata": {},
   "outputs": [
    {
     "ename": "ProgrammingError",
     "evalue": "1050 (42S01): Table 'book' already exists",
     "output_type": "error",
     "traceback": [
      "\u001b[1;31m---------------------------------------------------------------------------\u001b[0m",
      "\u001b[1;31mMySQLInterfaceError\u001b[0m                       Traceback (most recent call last)",
      "\u001b[1;32m~\\anaconda3\\lib\\site-packages\\mysql\\connector\\connection_cext.py\u001b[0m in \u001b[0;36mcmd_query\u001b[1;34m(self, query, raw, buffered, raw_as_string)\u001b[0m\n\u001b[0;32m    564\u001b[0m                 \u001b[0mquery\u001b[0m \u001b[1;33m=\u001b[0m \u001b[0mquery\u001b[0m\u001b[1;33m.\u001b[0m\u001b[0mencode\u001b[0m\u001b[1;33m(\u001b[0m\u001b[1;34m\"utf-8\"\u001b[0m\u001b[1;33m)\u001b[0m\u001b[1;33m\u001b[0m\u001b[1;33m\u001b[0m\u001b[0m\n\u001b[1;32m--> 565\u001b[1;33m             self._cmysql.query(\n\u001b[0m\u001b[0;32m    566\u001b[0m                 \u001b[0mquery\u001b[0m\u001b[1;33m,\u001b[0m\u001b[1;33m\u001b[0m\u001b[1;33m\u001b[0m\u001b[0m\n",
      "\u001b[1;31mMySQLInterfaceError\u001b[0m: Table 'book' already exists",
      "\nThe above exception was the direct cause of the following exception:\n",
      "\u001b[1;31mProgrammingError\u001b[0m                          Traceback (most recent call last)",
      "\u001b[1;32m~\\AppData\\Local\\Temp\\ipykernel_10488\\1931928526.py\u001b[0m in \u001b[0;36m<module>\u001b[1;34m\u001b[0m\n\u001b[0;32m      6\u001b[0m \u001b[0mcur\u001b[0m\u001b[1;33m=\u001b[0m\u001b[0mmydb\u001b[0m\u001b[1;33m.\u001b[0m\u001b[0mcursor\u001b[0m\u001b[1;33m(\u001b[0m\u001b[1;33m)\u001b[0m\u001b[1;31m#obtaining cursor object\u001b[0m\u001b[1;33m\u001b[0m\u001b[1;33m\u001b[0m\u001b[0m\n\u001b[0;32m      7\u001b[0m \u001b[0ms\u001b[0m\u001b[1;33m=\u001b[0m\u001b[1;34m\"create table BOOK(bookid integer(4),title varchar(20),price float(5,2))\"\u001b[0m\u001b[1;33m\u001b[0m\u001b[1;33m\u001b[0m\u001b[0m\n\u001b[1;32m----> 8\u001b[1;33m \u001b[0mcur\u001b[0m\u001b[1;33m.\u001b[0m\u001b[0mexecute\u001b[0m\u001b[1;33m(\u001b[0m\u001b[0ms\u001b[0m\u001b[1;33m)\u001b[0m\u001b[1;33m\u001b[0m\u001b[1;33m\u001b[0m\u001b[0m\n\u001b[0m",
      "\u001b[1;32m~\\anaconda3\\lib\\site-packages\\mysql\\connector\\cursor_cext.py\u001b[0m in \u001b[0;36mexecute\u001b[1;34m(self, operation, params, multi)\u001b[0m\n\u001b[0;32m    277\u001b[0m \u001b[1;33m\u001b[0m\u001b[0m\n\u001b[0;32m    278\u001b[0m         \u001b[1;32mtry\u001b[0m\u001b[1;33m:\u001b[0m\u001b[1;33m\u001b[0m\u001b[1;33m\u001b[0m\u001b[0m\n\u001b[1;32m--> 279\u001b[1;33m             result = self._cnx.cmd_query(\n\u001b[0m\u001b[0;32m    280\u001b[0m                 \u001b[0mstmt\u001b[0m\u001b[1;33m,\u001b[0m\u001b[1;33m\u001b[0m\u001b[1;33m\u001b[0m\u001b[0m\n\u001b[0;32m    281\u001b[0m                 \u001b[0mraw\u001b[0m\u001b[1;33m=\u001b[0m\u001b[0mself\u001b[0m\u001b[1;33m.\u001b[0m\u001b[0m_raw\u001b[0m\u001b[1;33m,\u001b[0m\u001b[1;33m\u001b[0m\u001b[1;33m\u001b[0m\u001b[0m\n",
      "\u001b[1;32m~\\anaconda3\\lib\\site-packages\\mysql\\connector\\connection_cext.py\u001b[0m in \u001b[0;36mcmd_query\u001b[1;34m(self, query, raw, buffered, raw_as_string)\u001b[0m\n\u001b[0;32m    571\u001b[0m             )\n\u001b[0;32m    572\u001b[0m         \u001b[1;32mexcept\u001b[0m \u001b[0mMySQLInterfaceError\u001b[0m \u001b[1;32mas\u001b[0m \u001b[0merr\u001b[0m\u001b[1;33m:\u001b[0m\u001b[1;33m\u001b[0m\u001b[1;33m\u001b[0m\u001b[0m\n\u001b[1;32m--> 573\u001b[1;33m             raise get_mysql_exception(\n\u001b[0m\u001b[0;32m    574\u001b[0m                 \u001b[0merr\u001b[0m\u001b[1;33m.\u001b[0m\u001b[0merrno\u001b[0m\u001b[1;33m,\u001b[0m \u001b[0mmsg\u001b[0m\u001b[1;33m=\u001b[0m\u001b[0merr\u001b[0m\u001b[1;33m.\u001b[0m\u001b[0mmsg\u001b[0m\u001b[1;33m,\u001b[0m \u001b[0msqlstate\u001b[0m\u001b[1;33m=\u001b[0m\u001b[0merr\u001b[0m\u001b[1;33m.\u001b[0m\u001b[0msqlstate\u001b[0m\u001b[1;33m\u001b[0m\u001b[1;33m\u001b[0m\u001b[0m\n\u001b[0;32m    575\u001b[0m             ) from err\n",
      "\u001b[1;31mProgrammingError\u001b[0m: 1050 (42S01): Table 'book' already exists"
     ]
    }
   ],
   "source": [
    "mydb=mysql.connector.connect(\n",
    "    host='localhost',\n",
    "    user='root',\n",
    "    password='1234',\n",
    "    database='db1')\n",
    "cur=mydb.cursor()#obtaining cursor object\n",
    "s=\"create table BOOK(bookid integer(4),title varchar(20),price float(5,2))\"\n",
    "cur.execute(s)"
   ]
  },
  {
   "cell_type": "code",
   "execution_count": 19,
   "id": "b50b9c77",
   "metadata": {},
   "outputs": [],
   "source": [
    "#connecting mysql with python\n",
    "import mysql.connector"
   ]
  },
  {
   "cell_type": "code",
   "execution_count": 20,
   "id": "c92a3eec",
   "metadata": {},
   "outputs": [],
   "source": [
    "mydb=mysql.connector.connect(\n",
    "    host='localhost',\n",
    "    user='root',\n",
    "    password='1234',\n",
    "    database='db1')\n",
    "cur=mydb.cursor()#obtaining cursor object\n",
    "s='INSERT INTO book(bookid,title,price) VALUES(%s,%s,%s)'\n",
    "b1=(1,'python3',345)\n",
    "cur.execute(s,b1)\n",
    "mydb.commit()"
   ]
  },
  {
   "cell_type": "markdown",
   "id": "aaac535c",
   "metadata": {},
   "source": [
    "## Inserting multiple record"
   ]
  },
  {
   "cell_type": "code",
   "execution_count": 3,
   "id": "4558ceed",
   "metadata": {},
   "outputs": [],
   "source": [
    "import mysql.connector"
   ]
  },
  {
   "cell_type": "code",
   "execution_count": 5,
   "id": "b0df12ed",
   "metadata": {},
   "outputs": [],
   "source": [
    "mydb=mysql.connector.connect(\n",
    "    host='localhost',\n",
    "    user='root',\n",
    "    password='1234',\n",
    "    database='db1')\n",
    "cur=mydb.cursor()#obtaining cursor object\n",
    "s='INSERT INTO book(bookid,title,price) VALUES(%s,%s,%s)'\n",
    "books=[(2,'PHP',135),(3,'java8',450),(4,'HTML',200)]#inserted multiple record\n",
    "cur.executemany(s,books)\n",
    "mydb.commit()"
   ]
  },
  {
   "cell_type": "markdown",
   "id": "ce5a1718",
   "metadata": {},
   "source": [
    "## Extracting data from table"
   ]
  },
  {
   "cell_type": "code",
   "execution_count": 7,
   "id": "c2e1b118",
   "metadata": {},
   "outputs": [],
   "source": [
    "import mysql.connector"
   ]
  },
  {
   "cell_type": "code",
   "execution_count": 14,
   "id": "6f8beca5",
   "metadata": {},
   "outputs": [
    {
     "name": "stdout",
     "output_type": "stream",
     "text": [
      "(1, 'python3', 345.0)\n",
      "(2, 'PHP', 135.0)\n",
      "(3, 'java8', 450.0)\n",
      "(4, 'HTML', 200.0)\n"
     ]
    }
   ],
   "source": [
    "s=\"SELECT * from book\"\n",
    "cur.execute(s)\n",
    "result=cur.fetchall()\n",
    "for rec in result:\n",
    "    print(rec)"
   ]
  },
  {
   "cell_type": "markdown",
   "id": "4c64e08d",
   "metadata": {},
   "source": [
    "## Update Table Record"
   ]
  },
  {
   "cell_type": "code",
   "execution_count": 16,
   "id": "8dac5604",
   "metadata": {},
   "outputs": [],
   "source": [
    "s='UPDATE book SET price=price+10 WHERE price>200'\n",
    "cur.execute(s)#querry executes and records will get executed\n",
    "mydb.commit()# to permanently change data"
   ]
  },
  {
   "cell_type": "markdown",
   "id": "a7b303a3",
   "metadata": {},
   "source": [
    "## Delete Record from Table"
   ]
  },
  {
   "cell_type": "code",
   "execution_count": 19,
   "id": "13745658",
   "metadata": {},
   "outputs": [],
   "source": [
    "s=\"DELETE FROM book WHERE title='PHP'\"\n",
    "cur.execute(s)\n",
    "mydb.commit()"
   ]
  },
  {
   "cell_type": "code",
   "execution_count": null,
   "id": "7f7cbd79",
   "metadata": {},
   "outputs": [],
   "source": []
  }
 ],
 "metadata": {
  "kernelspec": {
   "display_name": "Python 3 (ipykernel)",
   "language": "python",
   "name": "python3"
  },
  "language_info": {
   "codemirror_mode": {
    "name": "ipython",
    "version": 3
   },
   "file_extension": ".py",
   "mimetype": "text/x-python",
   "name": "python",
   "nbconvert_exporter": "python",
   "pygments_lexer": "ipython3",
   "version": "3.11.7"
  },
  "widgets": {
   "application/vnd.jupyter.widget-state+json": {
    "state": {},
    "version_major": 2,
    "version_minor": 0
   }
  }
 },
 "nbformat": 4,
 "nbformat_minor": 5
}
